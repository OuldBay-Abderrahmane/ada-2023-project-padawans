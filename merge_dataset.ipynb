{
 "cells": [
  {
   "cell_type": "code",
   "execution_count": 15,
   "id": "5cdbcf7c-4728-4585-90c0-aec16968f7c7",
   "metadata": {
    "tags": []
   },
   "outputs": [
    {
     "name": "stderr",
     "output_type": "stream",
     "text": [
      "C:\\Users\\koami\\AppData\\Local\\Temp\\ipykernel_13340\\1915854345.py:19: DtypeWarning: Columns (4) have mixed types. Specify dtype option on import or set low_memory=False.\n",
      "  df_basics = pd.read_csv(\"title.basics.tsv/data.tsv\", sep='\\t')\n"
     ]
    },
    {
     "name": "stdout",
     "output_type": "stream",
     "text": [
      "10316950\n",
      "0\n"
     ]
    }
   ],
   "source": [
    "import pandas as pd\n",
    "import numpy as np\n",
    "\n",
    "path = 'MovieSummaries\\\\'\n",
    "df_plot_summaries = pd.read_csv('MovieSummaries/plot_summaries.txt', sep='\\t', names = ['WikipediaMovieID', 'PlotSummaries'], index_col = ['WikipediaMovieID'])\n",
    "df_character = pd.read_csv(\"MovieSummaries/character.metadata.tsv\", sep='\\t', names = ['WikipediaMovieID', 'FreebaseMovieID', 'MovieReleaseDate', 'CharacterName', \n",
    "                                                                     'ActorDateOfBirth', 'ActorGender', 'ActorHeight', 'ActorEthnicity', \n",
    "                                                                     'ActorName', 'ActorAgeAtMovieRelease','FreebaseCharacter', \n",
    "                                                                     'FreebaseCharacterID', 'FreebaseActorID'], index_col = ['WikipediaMovieID'])\n",
    "df_movies = pd.read_csv(\"MovieSummaries/movie.metadata.tsv\", sep='\\t', header = None, names = ['WikipediaMovieID', 'FreebaseMovieID', 'MovieName', \n",
    "                                                                                       'MovieReleaseDate', 'MovieBoxOfficeRevenue',\n",
    "                                                                                       'MovieRuntime', 'MovieLanguages', 'MovieCountries',\n",
    "                                                                                       'MovieGenres'], index_col = ['WikipediaMovieID'])\n",
    "\n",
    "\n",
    "df_movies['MovieReleaseDate'] = pd.to_datetime(df_movies['MovieReleaseDate'], format='%Y-%m-%d', errors='coerce').dt.year.astype('Int64')\n",
    "df_movies = pd.merge(df_movies, df_plot_summaries, how='left', on ='WikipediaMovieID')\n",
    "\n",
    "# IMDB non-commercial dataset downloaded from https://developer.imdb.com/non-commercial-datasets/.\n",
    "df_basics = pd.read_csv(\"title.basics.tsv/data.tsv\", sep='\\t')\n",
    "df_basics = df_basics[df_basics['titleType'] == 'movie']\n",
    "df_ratings = pd.read_csv(\"title.ratings.tsv/data.tsv\", sep='\\t')\n",
    "\n",
    "\n",
    "df_IMDb_merged = pd.merge(df_basics, df_ratings, how='right', on='tconst')\n",
    "df_IMDb_merged['MovieName'] = df_IMDb_merged['primaryTitle']\n",
    "df_IMDb_merged.rename(columns={'startYear':'MovieReleaseDate'}, inplace =True)\n",
    "df_IMDb_merged.rename(columns={'tconst':'IMDbID'}, inplace=True)\n",
    "df_IMDb_merged['MovieReleaseDate'] = pd.to_datetime(df_IMDb_merged['MovieReleaseDate'], errors='coerce').dt.year.astype('Int64')\n",
    "\n",
    "\n",
    "\n",
    "df = df_movies.merge(df_IMDb_merged[['IMDbID', 'MovieName', 'averageRating', 'primaryTitle', 'MovieReleaseDate', 'genres']], how= 'outer', on = ['MovieName', 'MovieReleaseDate'])\n",
    "df.drop(['FreebaseMovieID', 'MovieGenres', 'primaryTitle'], axis=1, inplace=True)\n",
    "new_column_order = ['IMDbID'] + [col for col in df.columns if col != 'IMDbID']\n",
    "df = df[new_column_order]\n",
    "df.to_csv('merged_cmu_imdb.csv', index=False)\n"
   ]
  },
  {
   "cell_type": "code",
   "execution_count": null,
   "id": "f6eefe4a-29a3-40f8-9fca-93f0bad5a4b0",
   "metadata": {},
   "outputs": [],
   "source": []
  }
 ],
 "metadata": {
  "kernelspec": {
   "display_name": "Python 3 (ipykernel)",
   "language": "python",
   "name": "python3"
  },
  "language_info": {
   "codemirror_mode": {
    "name": "ipython",
    "version": 3
   },
   "file_extension": ".py",
   "mimetype": "text/x-python",
   "name": "python",
   "nbconvert_exporter": "python",
   "pygments_lexer": "ipython3",
   "version": "3.9.18"
  }
 },
 "nbformat": 4,
 "nbformat_minor": 5
}
