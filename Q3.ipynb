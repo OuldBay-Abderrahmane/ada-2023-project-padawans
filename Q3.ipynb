{
 "cells": [
  {
   "cell_type": "code",
   "execution_count": 1,
   "metadata": {},
   "outputs": [],
   "source": [
    "import pandas as pd\n",
    "import matplotlib.pyplot as plt\n",
    "import seaborn as sns \n",
    "from ast import literal_eval \n",
    "import plotly.express as px\n",
    "import plotly.graph_objects as go\n",
    "import numpy as np\n",
    "import json\n",
    "import scipy.stats as stats\n",
    "import spacy\n",
    "nlp = spacy.load(\"en_core_web_sm\")\n"
   ]
  },
  {
   "cell_type": "code",
   "execution_count": 2,
   "metadata": {},
   "outputs": [
    {
     "data": {
      "text/html": [
       "<div>\n",
       "<style scoped>\n",
       "    .dataframe tbody tr th:only-of-type {\n",
       "        vertical-align: middle;\n",
       "    }\n",
       "\n",
       "    .dataframe tbody tr th {\n",
       "        vertical-align: top;\n",
       "    }\n",
       "\n",
       "    .dataframe thead th {\n",
       "        text-align: right;\n",
       "    }\n",
       "</style>\n",
       "<table border=\"1\" class=\"dataframe\">\n",
       "  <thead>\n",
       "    <tr style=\"text-align: right;\">\n",
       "      <th></th>\n",
       "      <th>release_date</th>\n",
       "      <th>PlotSummaries</th>\n",
       "    </tr>\n",
       "  </thead>\n",
       "  <tbody>\n",
       "    <tr>\n",
       "      <th>0</th>\n",
       "      <td>2007.0</td>\n",
       "      <td>Three friends -– Arlene , Shanna , and radio D...</td>\n",
       "    </tr>\n",
       "    <tr>\n",
       "      <th>1</th>\n",
       "      <td>2007.0</td>\n",
       "      <td>{{plot}} The movie opens with the first traile...</td>\n",
       "    </tr>\n",
       "    <tr>\n",
       "      <th>5</th>\n",
       "      <td>2007.0</td>\n",
       "      <td>Om Prakash Makhija is a junior artiste in the ...</td>\n",
       "    </tr>\n",
       "    <tr>\n",
       "      <th>6</th>\n",
       "      <td>2007.0</td>\n",
       "      <td>Shot in both Latin America and the United Stat...</td>\n",
       "    </tr>\n",
       "    <tr>\n",
       "      <th>9</th>\n",
       "      <td>2008.0</td>\n",
       "      <td>The film is presented as found footage from a...</td>\n",
       "    </tr>\n",
       "    <tr>\n",
       "      <th>...</th>\n",
       "      <td>...</td>\n",
       "      <td>...</td>\n",
       "    </tr>\n",
       "    <tr>\n",
       "      <th>88012</th>\n",
       "      <td>2010.0</td>\n",
       "      <td>The film is about two friends, Tayyar , a mafi...</td>\n",
       "    </tr>\n",
       "    <tr>\n",
       "      <th>88013</th>\n",
       "      <td>1941.0</td>\n",
       "      <td>{{plot}} The film opens with a Great Western e...</td>\n",
       "    </tr>\n",
       "    <tr>\n",
       "      <th>88015</th>\n",
       "      <td>2011.0</td>\n",
       "      <td>Two former National Oceanic Atmospheric Admini...</td>\n",
       "    </tr>\n",
       "    <tr>\n",
       "      <th>88017</th>\n",
       "      <td>1992.0</td>\n",
       "      <td>The story takes place in the year 2092,The Sup...</td>\n",
       "    </tr>\n",
       "    <tr>\n",
       "      <th>88018</th>\n",
       "      <td>2002.0</td>\n",
       "      <td>The movie is about a teenage girl who loves ho...</td>\n",
       "    </tr>\n",
       "  </tbody>\n",
       "</table>\n",
       "<p>39517 rows × 2 columns</p>\n",
       "</div>"
      ],
      "text/plain": [
       "       release_date                                      PlotSummaries\n",
       "0            2007.0  Three friends -– Arlene , Shanna , and radio D...\n",
       "1            2007.0  {{plot}} The movie opens with the first traile...\n",
       "5            2007.0  Om Prakash Makhija is a junior artiste in the ...\n",
       "6            2007.0  Shot in both Latin America and the United Stat...\n",
       "9            2008.0   The film is presented as found footage from a...\n",
       "...             ...                                                ...\n",
       "88012        2010.0  The film is about two friends, Tayyar , a mafi...\n",
       "88013        1941.0  {{plot}} The film opens with a Great Western e...\n",
       "88015        2011.0  Two former National Oceanic Atmospheric Admini...\n",
       "88017        1992.0  The story takes place in the year 2092,The Sup...\n",
       "88018        2002.0  The movie is about a teenage girl who loves ho...\n",
       "\n",
       "[39517 rows x 2 columns]"
      ]
     },
     "metadata": {},
     "output_type": "display_data"
    }
   ],
   "source": [
    "df = pd.read_csv('data\\merged_file.csv',low_memory=False)\n",
    "df= df.dropna(subset='PlotSummaries')\n",
    "\n",
    "df_sum = df[['release_date','PlotSummaries']]\n",
    "df_sum = df_sum[(df_sum['release_date'] >= 1910) & (df_sum['release_date'] <= 2013) ] \n",
    "display(df_sum.dropna(subset='release_date'))"
   ]
  },
  {
   "cell_type": "code",
   "execution_count": 3,
   "metadata": {},
   "outputs": [],
   "source": [
    "# Load spaCy model with disabled components for efficiency\n",
    "nlp = spacy.load(\"en_core_web_sm\", disable=[\"parser\", \"ner\"])\n",
    "\n",
    "# Pre-compile the list of stop words for faster checking\n",
    "stop_words = nlp.Defaults.stop_words\n",
    "\n",
    "# Function to check if token should be included\n",
    "def is_token_allowed(token):\n",
    "    return not token.is_punct and token.pos_ in [\"ADJ\", \"PROPN\"] and token.text.lower() not in stop_words\n",
    "\n",
    "# Function to preprocess token\n",
    "def preprocess_token(token):\n",
    "    return token.lemma_.strip().lower()\n",
    "\n",
    "def process_text(summary):\n",
    "    # Ensure the text is treated as a writable string\n",
    "    doc = nlp(summary)\n",
    "    # Convert the processed tokens to strings to avoid any complex types\n",
    "    return [preprocess_token(token) for token in doc if is_token_allowed(token)]\n",
    "\n",
    "# 10 mins        \n",
    "df_sum['tokens']= df_sum['PlotSummaries'].apply(lambda x: process_text(x))\n",
    "\n"
   ]
  },
  {
   "cell_type": "code",
   "execution_count": 4,
   "metadata": {},
   "outputs": [
    {
     "data": {
      "text/plain": [
       "[]"
      ]
     },
     "execution_count": 4,
     "metadata": {},
     "output_type": "execute_result"
    }
   ],
   "source": [
    "process_text(\"frenchmen\")"
   ]
  },
  {
   "cell_type": "code",
   "execution_count": 5,
   "metadata": {},
   "outputs": [
    {
     "data": {
      "text/html": [
       "<div>\n",
       "<style scoped>\n",
       "    .dataframe tbody tr th:only-of-type {\n",
       "        vertical-align: middle;\n",
       "    }\n",
       "\n",
       "    .dataframe tbody tr th {\n",
       "        vertical-align: top;\n",
       "    }\n",
       "\n",
       "    .dataframe thead th {\n",
       "        text-align: right;\n",
       "    }\n",
       "</style>\n",
       "<table border=\"1\" class=\"dataframe\">\n",
       "  <thead>\n",
       "    <tr style=\"text-align: right;\">\n",
       "      <th></th>\n",
       "      <th>release_date</th>\n",
       "      <th>PlotSummaries</th>\n",
       "      <th>tokens</th>\n",
       "    </tr>\n",
       "  </thead>\n",
       "  <tbody>\n",
       "    <tr>\n",
       "      <th>0</th>\n",
       "      <td>2007.0</td>\n",
       "      <td>Three friends -– Arlene , Shanna , and radio D...</td>\n",
       "      <td>[arlene, shanna, dj, jungle, julia, lucai, con...</td>\n",
       "    </tr>\n",
       "    <tr>\n",
       "      <th>1</th>\n",
       "      <td>2007.0</td>\n",
       "      <td>{{plot}} The movie opens with the first traile...</td>\n",
       "      <td>[machete, rural, texas, cherry, darling, numer...</td>\n",
       "    </tr>\n",
       "    <tr>\n",
       "      <th>5</th>\n",
       "      <td>2007.0</td>\n",
       "      <td>Om Prakash Makhija is a junior artiste in the ...</td>\n",
       "      <td>[om, prakash, makhija, junior, pappu, om, bela...</td>\n",
       "    </tr>\n",
       "    <tr>\n",
       "      <th>6</th>\n",
       "      <td>2007.0</td>\n",
       "      <td>Shot in both Latin America and the United Stat...</td>\n",
       "      <td>[latin, america, united, states, historic, cur...</td>\n",
       "    </tr>\n",
       "    <tr>\n",
       "      <th>9</th>\n",
       "      <td>2008.0</td>\n",
       "      <td>The film is presented as found footage from a...</td>\n",
       "      <td>[personal, united, states, department, defense...</td>\n",
       "    </tr>\n",
       "    <tr>\n",
       "      <th>...</th>\n",
       "      <td>...</td>\n",
       "      <td>...</td>\n",
       "      <td>...</td>\n",
       "    </tr>\n",
       "    <tr>\n",
       "      <th>88012</th>\n",
       "      <td>2010.0</td>\n",
       "      <td>The film is about two friends, Tayyar , a mafi...</td>\n",
       "      <td>[tayyar, davut, eşrefpaşa, istanbul, eleni, da...</td>\n",
       "    </tr>\n",
       "    <tr>\n",
       "      <th>88013</th>\n",
       "      <td>1941.0</td>\n",
       "      <td>{{plot}} The film opens with a Great Western e...</td>\n",
       "      <td>[great, western, box, tunnel, cornwall, herber...</td>\n",
       "    </tr>\n",
       "    <tr>\n",
       "      <th>88015</th>\n",
       "      <td>2011.0</td>\n",
       "      <td>Two former National Oceanic Atmospheric Admini...</td>\n",
       "      <td>[national, oceanic, atmospheric, administratio...</td>\n",
       "    </tr>\n",
       "    <tr>\n",
       "      <th>88017</th>\n",
       "      <td>1992.0</td>\n",
       "      <td>The story takes place in the year 2092,The Sup...</td>\n",
       "      <td>[super, dimension, fortress, macross, ii, orig...</td>\n",
       "    </tr>\n",
       "    <tr>\n",
       "      <th>88018</th>\n",
       "      <td>2002.0</td>\n",
       "      <td>The movie is about a teenage girl who loves ho...</td>\n",
       "      <td>[teenage, frightened, angry, anymore, new, wis...</td>\n",
       "    </tr>\n",
       "  </tbody>\n",
       "</table>\n",
       "<p>39517 rows × 3 columns</p>\n",
       "</div>"
      ],
      "text/plain": [
       "       release_date                                      PlotSummaries  \\\n",
       "0            2007.0  Three friends -– Arlene , Shanna , and radio D...   \n",
       "1            2007.0  {{plot}} The movie opens with the first traile...   \n",
       "5            2007.0  Om Prakash Makhija is a junior artiste in the ...   \n",
       "6            2007.0  Shot in both Latin America and the United Stat...   \n",
       "9            2008.0   The film is presented as found footage from a...   \n",
       "...             ...                                                ...   \n",
       "88012        2010.0  The film is about two friends, Tayyar , a mafi...   \n",
       "88013        1941.0  {{plot}} The film opens with a Great Western e...   \n",
       "88015        2011.0  Two former National Oceanic Atmospheric Admini...   \n",
       "88017        1992.0  The story takes place in the year 2092,The Sup...   \n",
       "88018        2002.0  The movie is about a teenage girl who loves ho...   \n",
       "\n",
       "                                                  tokens  \n",
       "0      [arlene, shanna, dj, jungle, julia, lucai, con...  \n",
       "1      [machete, rural, texas, cherry, darling, numer...  \n",
       "5      [om, prakash, makhija, junior, pappu, om, bela...  \n",
       "6      [latin, america, united, states, historic, cur...  \n",
       "9      [personal, united, states, department, defense...  \n",
       "...                                                  ...  \n",
       "88012  [tayyar, davut, eşrefpaşa, istanbul, eleni, da...  \n",
       "88013  [great, western, box, tunnel, cornwall, herber...  \n",
       "88015  [national, oceanic, atmospheric, administratio...  \n",
       "88017  [super, dimension, fortress, macross, ii, orig...  \n",
       "88018  [teenage, frightened, angry, anymore, new, wis...  \n",
       "\n",
       "[39517 rows x 3 columns]"
      ]
     },
     "metadata": {},
     "output_type": "display_data"
    }
   ],
   "source": [
    "display(df_sum)"
   ]
  },
  {
   "cell_type": "markdown",
   "metadata": {},
   "source": [
    "The way we looked at the representation of different ethnicities or demographic groups through time is by identifying ethnicity related words in the movie summaries. We decided to include locations as well since in the case of nationality, location play a great role in representation of a group. This method of search for representation is partially flawed because all summaries do not precise the location or ethnicity of their characters, which reduces greatly our sample size. Moreover, the way the words are counted favors historical films which may have a lot more nationality related words in their summary, even when other film are taking place in historically relevant places but are not historical."
   ]
  },
  {
   "cell_type": "code",
   "execution_count": 32,
   "metadata": {},
   "outputs": [
    {
     "data": {
      "text/html": [
       "<div>\n",
       "<style scoped>\n",
       "    .dataframe tbody tr th:only-of-type {\n",
       "        vertical-align: middle;\n",
       "    }\n",
       "\n",
       "    .dataframe tbody tr th {\n",
       "        vertical-align: top;\n",
       "    }\n",
       "\n",
       "    .dataframe thead th {\n",
       "        text-align: right;\n",
       "    }\n",
       "</style>\n",
       "<table border=\"1\" class=\"dataframe\">\n",
       "  <thead>\n",
       "    <tr style=\"text-align: right;\">\n",
       "      <th></th>\n",
       "      <th>Ethnicity</th>\n",
       "      <th>Keywords</th>\n",
       "    </tr>\n",
       "  </thead>\n",
       "  <tbody>\n",
       "    <tr>\n",
       "      <th>0</th>\n",
       "      <td>French</td>\n",
       "      <td>['french', 'france', 'paris', 'lyon', 'marseil...</td>\n",
       "    </tr>\n",
       "    <tr>\n",
       "      <th>1</th>\n",
       "      <td>German</td>\n",
       "      <td>['german', 'germany', 'berlin', 'bavarian', 'f...</td>\n",
       "    </tr>\n",
       "    <tr>\n",
       "      <th>2</th>\n",
       "      <td>Italian</td>\n",
       "      <td>['italian', 'italy', 'rome', 'venetian', 'tusc...</td>\n",
       "    </tr>\n",
       "    <tr>\n",
       "      <th>3</th>\n",
       "      <td>Spanish</td>\n",
       "      <td>['spanish', 'spain', 'madrid', 'barcelona', 'a...</td>\n",
       "    </tr>\n",
       "    <tr>\n",
       "      <th>4</th>\n",
       "      <td>Chinese</td>\n",
       "      <td>['chinese', 'china', 'beijing', 'shanghai', 'h...</td>\n",
       "    </tr>\n",
       "  </tbody>\n",
       "</table>\n",
       "</div>"
      ],
      "text/plain": [
       "  Ethnicity                                           Keywords\n",
       "0    French  ['french', 'france', 'paris', 'lyon', 'marseil...\n",
       "1    German  ['german', 'germany', 'berlin', 'bavarian', 'f...\n",
       "2   Italian  ['italian', 'italy', 'rome', 'venetian', 'tusc...\n",
       "3   Spanish  ['spanish', 'spain', 'madrid', 'barcelona', 'a...\n",
       "4   Chinese  ['chinese', 'china', 'beijing', 'shanghai', 'h..."
      ]
     },
     "execution_count": 32,
     "metadata": {},
     "output_type": "execute_result"
    }
   ],
   "source": [
    "data = {\n",
    "    \"Ethnicity\": [\n",
    "        \"French\", \"German\", \"Italian\", \"Spanish\", \"Chinese\", \"Japanese\", \"Indian\", \n",
    "        \"Russian\", \"Mexican\", \"Brazilian\", \"Canadian\", \"Australian\", \"African\", \n",
    "        \"Middle Eastern\", \"Scandinavian\", \"American\", 'English', 'Vietnamese', \n",
    "        'Afghan', 'Ukrainian', 'Thai', 'Malaysian','Soviet','Iranian','Austrian',\n",
    "        'Hungarian','Turkish',\"Allied Forces\",\"Allies\",\"Central Powers\",\"Axis\"\n",
    "    ],\n",
    "    \"Keywords\": [\n",
    "        [\"french\", \"france\", \"paris\", \"lyon\", \"marseille\", \"alsace\", \"provence\", \"normandy\", \"verdun\", \"vichy\"],\n",
    "        [\"german\", \"germany\", \"berlin\", \"bavarian\", \"frankfurt\", \"blackforest\", \"ruhr\", \"stalingrad\", \"dresden\", \"berlinwall\"],\n",
    "        [\"italian\", \"italy\", \"rome\", \"venetian\", \"tuscany\", \"sicily\", \"naples\"],\n",
    "        [\"spanish\", \"spain\", \"madrid\", \"barcelona\", \"andalusia\", \"catalonia\", \"basque\"],\n",
    "        [\"chinese\", \"china\", \"beijing\", \"shanghai\", \"hongkong\", \"tibet\", \"xinjiang\"],\n",
    "        [\"japanese\", \"japan\", \"tokyo\", \"osaka\", \"kyoto\", \"hokkaido\", \"okinawa\", \"hiroshima\", \"nagasaki\"],\n",
    "        [\"indian\", \"india\", \"delhi\", \"mumbai\", \"rajasthan\", \"kerala\", \"punjab\"],\n",
    "        [\"russian\", \"russia\", \"moscow\", \"stpetersburg\", \"siberia\", \"ural\", \"volga\", \"stalingrad\", \"leningrad\"],\n",
    "        [\"mexican\", \"mexico\", \"mexico city\", \"guadalajara\", \"yucatan\", \"oaxaca\", \"chiapas\"],\n",
    "        [\"brazilian\", \"brazil\", \"rio\", \"saopaulo\", \"amazon\", \"pantanal\"],\n",
    "        [\"canadian\", \"canada\", \"toronto\", \"vancouver\", \"quebec\", \"alberta\", \"ontario\", \"vimyridge\"],\n",
    "        [\"australian\", \"australia\", \"sydney\", \"melbourne\", \"greatbarrierreef\", \"outback\", \"tasmania\"],\n",
    "        [\"african\", \"africa\", \"nigerian\",'niger', \"kenyan\",'kenya', \"southafrica\", \"egypt\",\"egyptian\", \"morocco\",'moroccan', \"northafrica\"],\n",
    "        [\"middleeastern\", \"middleeast\", \"arab\", \"israeli\", \"dubai\", \"mesopotamia\", 'iraq','iraqi','israel','kuwait','saudi','arabia','levant'],\n",
    "        [\"scandinavian\", \"scandinavia\", \"swedish\", \"norwegian\", \"lapland\", \"fjords\", \"gotland\"],\n",
    "        [\"american\", \"newyork\", \"losangeles\", \"chicago\"],\n",
    "        [\"british\", 'london', 'manchester', 'birmingham', 'scotland', 'wales', 'northernireland', \"falklands\"],\n",
    "        [\"viet\",'vietnamese', 'vietnam', 'hanoi', 'saigon', 'mekongdelta', 'halongbay', 'hue' ],\n",
    "        [\"afghanistan\", 'kabul', 'herat', 'kandahar', 'hindukush', 'balkh', 'helmand','afghan'],\n",
    "        ['ukrainian', 'ukraine', 'kiev', 'kharkiv', 'lviv', 'donbas', 'crimea'],\n",
    "        ['thai', 'thailand', 'bangkok', 'chiangmai', 'phuket', 'isaan', 'krabi'],\n",
    "        ['malaysian', 'malaysia', 'kualalumpur', 'penang', 'borneo', 'langkawi', 'melaka'],\n",
    "        ['soviet','ussr','sovietic'],\n",
    "        ['iranian','iran'],\n",
    "        [\"austrian\", \"austria\", \"vienna\", \"salzburg\", \"innsbruck\", \"graz\"],\n",
    "        [\"hungarian\", \"hungary\", \"budapest\", \"debrecen\"],\n",
    "        [\"turkish\", \"turkey\", \"istanbul\", \"ankara\", \"izmir\", \"antalya\", \"cappadocia\", \"bosphorus\"],\n",
    "        [\"french\", \"france\", \"paris\", \"lyon\", \"marseille\", \"alsace\", \"provence\", \"normandy\", \"verdun\", \"vichy\",\n",
    "        \"british\", 'london', 'manchester', 'birmingham', 'scotland', 'wales', 'northernireland', \"falklands\",\n",
    "        \"russian\", \"russia\", \"moscow\", \"stpetersburg\", \"siberia\", \"ural\", \"volga\", \"stalingrad\", \"leningrad\",\n",
    "        \"japanese\", \"japan\", \"tokyo\", \"osaka\", \"kyoto\", \"hokkaido\", \"okinawa\", \"hiroshima\", \"nagasaki\"],\n",
    "        [\"french\", \"france\", \"paris\", \"lyon\", \"marseille\", \"alsace\", \"provence\", \"normandy\", \"verdun\", \"vichy\",\n",
    "        \"poland\",\"polish\", \n",
    "        \"british\", 'london', 'manchester', 'birmingham', 'scotland', 'wales', 'northernireland', \"falklands\"]\n",
    "\n",
    "        \n",
    "\n",
    "\n",
    "        [\"russian\", \"russia\", \"moscow\", \"stpetersburg\", \"siberia\", \"ural\", \"volga\", \"stalingrad\", \"leningrad\",\n",
    "        \n",
    "        \"japanese\", \"japan\", \"tokyo\", \"osaka\", \"kyoto\", \"hokkaido\", \"okinawa\", \"hiroshima\", \"nagasaki\"]\n",
    "    ]\n",
    "}\n",
    "\n",
    "eth = pd.DataFrame(data)\n",
    "eth['Keywords'] = eth['Keywords'].apply(str)\n",
    "eth['Ethnicity'] = eth['Ethnicity'].apply(str)\n",
    "\n",
    "data = {\n",
    "    'Ethnicity': ['Nazi','Jewish','Islamic','LGBTQ','Man','Woman','Boy','Girl','Elderly'],\n",
    "    'Keywords': [\n",
    "        ['nazi', 'nazis'],\n",
    "        ['jewish', 'jews','jew','ashkenazy'],\n",
    "        ['islamic', 'muslim', 'islam','muslims'],\n",
    "        ['pansexual', 'homo', 'homosexual', 'queer', 'gay', 'lesbian', 'bisexual', 'transgender','lgbtq'],\n",
    "        ['man','men'],\n",
    "        ['woman','women'],\n",
    "        ['boy'],\n",
    "        ['girl'],\n",
    "        ['old','elderly','grandma','grandpa']\n",
    "    ]\n",
    "}\n",
    "\n",
    "eth2 = pd.DataFrame(data)\n",
    "eth2['Keywords'] = eth2['Keywords'].apply(str)\n",
    "eth2['Ethnicity'] = eth2['Ethnicity'].apply(str)\n",
    "ethmerged= pd.concat([eth,eth2],ignore_index=True)\n",
    "\n",
    "ethmerged.head()\n",
    "\n",
    "data = {\n",
    "    \"Ethnicity\": [\n",
    "        \"Allied Forces\",\"Allies\",\"Central Powers\",\"Axis\"\n",
    "    ],\n",
    "    \"Keywords\": [\n",
    "        [\"french\", \"france\", \"paris\", \"lyon\", \"marseille\", \"alsace\", \"provence\", \"normandy\", \"verdun\", \"vichy\"],\n",
    "        [\"german\", \"germany\", \"berlin\", \"bavarian\", \"frankfurt\", \"blackforest\", \"ruhr\", \"stalingrad\", \"dresden\", \"berlinwall\"],\n",
    "        [\"italian\", \"italy\", \"rome\", \"venetian\", \"tuscany\", \"sicily\", \"naples\"],\n",
    "        [\"spanish\", \"spain\", \"madrid\", \"barcelona\", \"andalusia\", \"catalonia\", \"basque\"],\n",
    "        [\"chinese\", \"china\", \"beijing\", \"shanghai\", \"hongkong\", \"tibet\", \"xinjiang\"],\n",
    "        [\"japanese\", \"japan\", \"tokyo\", \"osaka\", \"kyoto\", \"hokkaido\", \"okinawa\", \"hiroshima\", \"nagasaki\"],\n",
    "        [\"indian\", \"india\", \"delhi\", \"mumbai\", \"rajasthan\", \"kerala\", \"punjab\"],\n",
    "        [\"russian\", \"russia\", \"moscow\", \"stpetersburg\", \"siberia\", \"ural\", \"volga\", \"stalingrad\", \"leningrad\"],\n",
    "        [\"mexican\", \"mexico\", \"mexico city\", \"guadalajara\", \"yucatan\", \"oaxaca\", \"chiapas\"],\n",
    "        [\"brazilian\", \"brazil\", \"rio\", \"saopaulo\", \"amazon\", \"pantanal\"],\n",
    "        [\"canadian\", \"canada\", \"toronto\", \"vancouver\", \"quebec\", \"alberta\", \"ontario\", \"vimyridge\"],\n",
    "        [\"australian\", \"australia\", \"sydney\", \"melbourne\", \"greatbarrierreef\", \"outback\", \"tasmania\"],\n",
    "        [\"african\", \"africa\", \"nigerian\",'niger', \"kenyan\",'kenya', \"southafrica\", \"egypt\",\"egyptian\", \"morocco\",'moroccan', \"northafrica\"],\n",
    "        [\"middleeastern\", \"middleeast\", \"arab\", \"israeli\", \"dubai\", \"mesopotamia\", 'iraq','iraqi','israel','kuwait','saudi','arabia','levant'],\n",
    "        [\"scandinavian\", \"scandinavia\", \"swedish\", \"norwegian\", \"lapland\", \"fjords\", \"gotland\"],\n",
    "        [\"american\", \"newyork\", \"losangeles\", \"chicago\"],\n",
    "        [\"british\", 'london', 'manchester', 'birmingham', 'scotland', 'wales', 'northernireland', \"falklands\"],\n",
    "        [\"viet\",'vietnamese', 'vietnam', 'hanoi', 'saigon', 'mekongdelta', 'halongbay', 'hue' ],\n",
    "        [\"afghanistan\", 'kabul', 'herat', 'kandahar', 'hindukush', 'balkh', 'helmand','afghan'],\n",
    "        ['ukrainian', 'ukraine', 'kiev', 'kharkiv', 'lviv', 'donbas', 'crimea'],\n",
    "        ['thai', 'thailand', 'bangkok', 'chiangmai', 'phuket', 'isaan', 'krabi'],\n",
    "        ['malaysian', 'malaysia', 'kualalumpur', 'penang', 'borneo', 'langkawi', 'melaka'],\n",
    "        ['soviet','ussr','sovietic'],\n",
    "        ['iranian','iran'],\n",
    "        [\"austrian\", \"austria\", \"vienna\", \"salzburg\", \"innsbruck\", \"graz\"],\n",
    "        [\"hungarian\", \"hungary\", \"budapest\", \"debrecen\"],\n",
    "        [\"turkish\", \"turkey\", \"istanbul\", \"ankara\", \"izmir\", \"antalya\", \"cappadocia\", \"bosphorus\"]\n",
    "    ]\n",
    "}\n"
   ]
  },
  {
   "cell_type": "code",
   "execution_count": null,
   "metadata": {},
   "outputs": [],
   "source": []
  },
  {
   "cell_type": "code",
   "execution_count": 84,
   "metadata": {},
   "outputs": [],
   "source": [
    "def plot_occurrences(df, eth, ethnicities, highlight_periods=None, period=1):\n",
    "    # Make a copy of the original DataFrame\n",
    "    data = df.copy()\n",
    "\n",
    "    # Iterate over each ethnicity\n",
    "    for et in ethnicities:\n",
    "        # Find the index of the ethnicity in the 'eth' DataFrame\n",
    "        index = eth[eth['Ethnicity'] == et].index[0]\n",
    "        # Extract the list of keywords related to the ethnicity\n",
    "        occ_list = literal_eval(eth.at[index, 'Keywords'])\n",
    "\n",
    "        # Define a function to count the occurrences of ethnicity-related words in a list\n",
    "        def count_words(word_list):\n",
    "            return sum(word.lower() in occ_list for word in word_list)\n",
    "\n",
    "        # Apply the function to count ethnicity-related words for each row\n",
    "        data[et] = data['tokens'].apply(lambda x: count_words(x))\n",
    "\n",
    "    # Group by release year and sum the counts\n",
    "    data['release_period'] = data['release_date'] // period * period\n",
    "    counts_by_period = data.groupby('release_period')[ethnicities].sum().reset_index()\n",
    "\n",
    "   \n",
    "    counts_by_period_long = pd.melt(counts_by_period, id_vars='release_period', value_vars=ethnicities)\n",
    "\n",
    "    \n",
    "    fig = go.Figure()\n",
    "\n",
    "    # Create a line plot for each ethnicity\n",
    "    for et in ethnicities:\n",
    "        fig.add_trace(go.Scatter(\n",
    "            x=counts_by_period_long['release_period'],\n",
    "            y=counts_by_period_long['value'][counts_by_period_long['variable'] == et],\n",
    "            mode='lines',\n",
    "            name=et\n",
    "        ))\n",
    "\n",
    "    # Add highlighted periods to the plot, if specified\n",
    "    if highlight_periods:\n",
    "        for period_range in highlight_periods:\n",
    "            fig.add_vrect(\n",
    "                x0=period_range[0],\n",
    "                x1=period_range[1],\n",
    "                annotation_text=period_range[2],\n",
    "                annotation_position=\"top left\",\n",
    "                fillcolor='rgba(255, 0, 0, 0.20)', \n",
    "                layer='below',\n",
    "                line_width=1\n",
    "            )\n",
    "\n",
    "    # Update layout\n",
    "    fig.update_layout(\n",
    "        xaxis_title='Year',\n",
    "        yaxis_title='Group-related Word count',\n",
    "        legend_title='Ethnicity',\n",
    "        template='seaborn'\n",
    "    )\n",
    "\n",
    "    return fig\n"
   ]
  },
  {
   "cell_type": "code",
   "execution_count": 104,
   "metadata": {},
   "outputs": [],
   "source": [
    "def plot_relative_occurrences(df, eth, ethnicities, highlight_periods=None, average=5,zscore=False):\n",
    "\n",
    "    data = df.copy()\n",
    "\n",
    "   \n",
    "    for et in ethnicities:\n",
    "        # Find the index of the ethnicity in the 'eth' DataFrame\n",
    "        index = eth[eth['Ethnicity'] == et].index[0]\n",
    "        # Extract the list of keywords related to the ethnicity\n",
    "        occ_list = literal_eval(eth.at[index, 'Keywords'])\n",
    "\n",
    "        # Define a function to count the occurrences of ethnicity-related words in a list\n",
    "        def count_words(word_list):\n",
    "            return sum(word.lower() in occ_list for word in word_list)\n",
    "\n",
    "        data[et] = data['tokens'].apply(lambda x: count_words(x))\n",
    "\n",
    "    # Group by release year and sum the counts\n",
    "    period = 1\n",
    "    data['release_period'] = data['release_date'] // period * period\n",
    "    counts_by_period = data.groupby('release_period')[ethnicities].sum().reset_index()\n",
    "\n",
    "    \n",
    "    total_words_by_period = data.groupby('release_period')['tokens'].apply(\n",
    "        lambda x: sum(len(word_list) for word_list in x)\n",
    "    ).reset_index()\n",
    "\n",
    "    counts_by_period = pd.merge(counts_by_period, total_words_by_period, on='release_period', how='left')\n",
    "\n",
    "    # Normalize the counts by the total number of words and apply a rolling average\n",
    "    for et in ethnicities:\n",
    "        counts_by_period[et] = counts_by_period[et] / counts_by_period['tokens']\n",
    "        counts_by_period[et] = counts_by_period[et].rolling(window=average).mean()\n",
    "        #counts_by_period[et+'z'] = (counts_by_period[et] - counts_by_period[et].mean()) / counts_by_period[et].std()\n",
    "        \n",
    "    counts_by_period_long = pd.melt(counts_by_period, id_vars='release_period', value_vars=ethnicities)\n",
    "    for et in ethnicities:\n",
    "        (counts_by_period_long['variable'] == et)\n",
    "    \n",
    "    # Create a new figure\n",
    "    fig = go.Figure()\n",
    "\n",
    "    # Create a line plot using Plotly Go\n",
    "    for et in ethnicities:\n",
    "        fig.add_trace(go.Scatter(\n",
    "            x=counts_by_period_long['release_period'],\n",
    "            y=counts_by_period_long['value'][counts_by_period_long['variable'] == et]*100,\n",
    "            mode='lines',\n",
    "            name=et\n",
    "        ))\n",
    "\n",
    "    # Highlight points where z-score is above 2\n",
    "    if zscore :\n",
    "        for et in ethnicities:\n",
    "            above_threshold = counts_by_period_long[(z_scores[et] > 2) & (counts_by_period_long['variable'] == et)]\n",
    "            fig.add_trace(go.Scatter(\n",
    "            x=above_threshold['release_period'],\n",
    "            y=above_threshold['value'],\n",
    "            mode='markers',\n",
    "            marker=dict(color='red'),\n",
    "            name=f'{et} Z-score > 2'\n",
    "            ))\n",
    "\n",
    "    \n",
    "\n",
    "    # Add highlighted periods to the plot, if specified\n",
    "    if highlight_periods:\n",
    "        for period_range in highlight_periods:\n",
    "            fig.add_vrect(\n",
    "                x0=period_range[0],\n",
    "                x1=period_range[1],\n",
    "                annotation_text=period_range[2],\n",
    "                annotation_position=\"top left\",\n",
    "                fillcolor='rgba(255, 0, 0, 0.20)', \n",
    "                layer='below',\n",
    "                line_width=1\n",
    "            )\n",
    "\n",
    "\n",
    "    # Update layout\n",
    "    fig.update_layout(\n",
    "        xaxis_title='Year',\n",
    "        yaxis_title='Relative Word Occurrence %',\n",
    "        legend_title='Demographic Group',\n",
    "        template='seaborn'\n",
    "    )\n",
    "\n",
    "    return fig\n"
   ]
  },
  {
   "cell_type": "code",
   "execution_count": 103,
   "metadata": {},
   "outputs": [
    {
     "data": {
      "application/vnd.plotly.v1+json": {
       "config": {
        "plotlyServerURL": "https://plot.ly"
       },
       "data": [
        {
         "alignmentgroup": "True",
         "hovertemplate": "Ethnicity=Spanish<br>Relative Word Occurrence %=%{y}<extra></extra>",
         "legendgroup": "Spanish",
         "marker": {
          "color": "rgb(76,114,176)"
         },
         "name": "Spanish",
         "notched": false,
         "offsetgroup": "Spanish",
         "orientation": "v",
         "showlegend": true,
         "type": "box",
         "x0": " ",
         "xaxis": "x",
         "y": [
          null,
          null,
          null,
          null,
          0.0007416563658838072,
          0.0007416563658838072,
          0.0007416563658838072,
          0.0007416563658838072,
          0,
          0,
          0.00010209290454313425,
          0.00033752551195926137,
          0.0004589584202774156,
          0.0005958509596340207,
          0.0006789074380393362,
          0.0009125258217882709,
          0.001305036699458486,
          0.0013031138001035824,
          0.0011662212607469774,
          0.0010831647823416617,
          0.0009431960925325878,
          0.00034586641427312444,
          0.0002511058175113341,
          0.00041166241371149456,
          0.0004641489640329747,
          0.0005502619145811014,
          0.0007101242982304129,
          0.0009710551621865529,
          0.0009064333303466275,
          0.0009778164691122279,
          0.0011408997409932307,
          0.0010881239537825068,
          0.001054846356976426,
          0.0011104103481621276,
          0.0010757765765318237,
          0.0006999462559652414,
          0.0006597711483233271,
          0.0005415966568912709,
          0.0005225106508014961,
          0.0004527793169218605,
          0.0005897501571224282,
          0.0006278706322575233,
          0.0005657730006449757,
          0.00047830070508739827,
          0.0005822311417888681,
          0.00047720443282170513,
          0.0004121863657798407,
          0.0006764472467817936,
          0.0006970805633750125,
          0.0009460850216811321,
          0.0009601623910616014,
          0.0010022107436828465,
          0.0006817087160824075,
          0.0008207480408286994,
          0.000656325203575276,
          0.0006332550415111413,
          0.0006436464415226246,
          0.0007513759764174558,
          0.0007686856837473245,
          0.0006526301122297967,
          0.0005605702733345148,
          0.00046723817232249945,
          0.0005760819653098312,
          0.0005188811943135901,
          0.0005606099640720037,
          0.0007313798516484944,
          0.0008232897483447547,
          0.0007263375466983322,
          0.0006515146996125788,
          0.0005656517267827788,
          0.0005124471681220152,
          0.0005530868884998134,
          0.0005007407581900322,
          0.00044988119892366076,
          0.0005894218189915832,
          0.0005203805499221966,
          0.00048171042895207947,
          0.00047447616758496505,
          0.00045034800555269247,
          0.0003073247780084799,
          0.00034860091272922766,
          0.0003257378244436454,
          0.0004063857378967371,
          0.0005360556174300556,
          0.0006517303233746448,
          0.0007242482723689368,
          0.0007110289691669811,
          0.000671316781300533,
          0.0007127910594181188,
          0.0006576934032256635,
          0.0006253325903407111,
          0.0006218623364192755,
          0.0005946457138852189,
          0.0004954589905069428,
          0.00047855478195393976,
          0.0005005709966233219,
          0.0005512083624386475,
          0.0006448130785885556,
          0.0006574777621385208,
          0.0006695726918022414,
          0.0006020517031894793,
          0.0005542627685828979,
          0.0004356690449438365,
          0.0003361354639339179
         ],
         "y0": " ",
         "yaxis": "y"
        },
        {
         "alignmentgroup": "True",
         "hovertemplate": "Ethnicity=Italian<br>Relative Word Occurrence %=%{y}<extra></extra>",
         "legendgroup": "Italian",
         "marker": {
          "color": "rgb(221,132,82)"
         },
         "name": "Italian",
         "notched": false,
         "offsetgroup": "Italian",
         "orientation": "v",
         "showlegend": true,
         "type": "box",
         "x0": " ",
         "xaxis": "x",
         "y": [
          null,
          null,
          null,
          null,
          0.0008671996162547379,
          0.0016002478752651227,
          0.0016688705068770618,
          0.0016688705068770618,
          0.0018228350950217885,
          0.0015514646743976365,
          0.0010226022244735201,
          0.0005935830046471223,
          0.0007150159129652766,
          0.00110862148224697,
          0.00110862148224697,
          0.001072291317306736,
          0.00115083045243378,
          0.001626947588931879,
          0.001135810840083337,
          0.0011358108400833368,
          0.0010658264951788,
          0.0008743099799431445,
          0.0005490034693429536,
          0.0010009992820655838,
          0.0017620542617270457,
          0.001781622774581849,
          0.0017680110846892989,
          0.0015195742401530369,
          0.0011070797832127635,
          0.0003460248035513017,
          0.00022858499145500107,
          0.0002377703711247208,
          0.0002916260443223113,
          0.00047704611169024425,
          0.0006332089672396029,
          0.0009096429686217729,
          0.001059808614501856,
          0.0010045176162777093,
          0.000987988283461865,
          0.0011048895979924756,
          0.0010860547722929433,
          0.0012441754888553517,
          0.0014922937103530412,
          0.0017367933556246735,
          0.001957469266659147,
          0.001969343775187035,
          0.0016842839030934234,
          0.0016737331548629796,
          0.001557850633629843,
          0.00122963920966417,
          0.0018044521991560328,
          0.0021139010170745792,
          0.0029026632199104264,
          0.0028626432160072253,
          0.0031291491216234777,
          0.003036684465565892,
          0.0029551826092623136,
          0.0021537194577124982,
          0.002275845701310516,
          0.0022882896426454262,
          0.002015608475888686,
          0.0019140243048776182,
          0.0021317118908522814,
          0.0019581534194214696,
          0.0018256178743233209,
          0.001517246911011749,
          0.0015993588125713324,
          0.001283494926928735,
          0.0010457182389181738,
          0.0009250827468859614,
          0.0009039414597476687,
          0.0009004193012952686,
          0.0008657087695039662,
          0.000977173379787893,
          0.0008548960395379125,
          0.0008184902454078421,
          0.0006312156846878975,
          0.0006839109443286164,
          0.0006126128731517026,
          0.0006470526847196854,
          0.0007882637630183076,
          0.0008540843157874333,
          0.0007937957650269523,
          0.0008151384294292788,
          0.0008242744296233041,
          0.000774241170241996,
          0.0006837036756441444,
          0.0006725634388971005,
          0.0006104911393123651,
          0.0007227165772984166,
          0.0006699328378621406,
          0.0007118467357151335,
          0.0007768507739494065,
          0.0009877058827939913,
          0.0009137609642667419,
          0.0009169319487371975,
          0.000851447689163195,
          0.0007872755755062173,
          0.0006354507849635944,
          0.0006514177105714509,
          0.0006600864017306324,
          0.0006704944267273452,
          0.0007327564700358545,
          0.0007823408331493829
         ],
         "y0": " ",
         "yaxis": "y"
        },
        {
         "alignmentgroup": "True",
         "hovertemplate": "Ethnicity=Austrian<br>Relative Word Occurrence %=%{y}<extra></extra>",
         "legendgroup": "Austrian",
         "marker": {
          "color": "rgb(85,168,104)"
         },
         "name": "Austrian",
         "notched": false,
         "offsetgroup": "Austrian",
         "orientation": "v",
         "showlegend": true,
         "type": "box",
         "x0": " ",
         "xaxis": "x",
         "y": [
          null,
          null,
          null,
          null,
          0,
          0,
          0,
          0,
          0,
          0,
          0.0002041858090862685,
          0.0002041858090862685,
          0.00032561871740442277,
          0.0004625112567610278,
          0.000628624213571659,
          0.0006762218707044422,
          0.0008855363657332228,
          0.0009433684708599446,
          0.0008629093400812178,
          0.000748475969833894,
          0.000545628153235591,
          0.00039754127186056814,
          0.00044102096822883405,
          0.0007592196174513306,
          0.0008125131315309834,
          0.0009045052564257954,
          0.0008976994114795207,
          0.0007701814603855788,
          0.0005634352402156155,
          0.0005327839530249033,
          0.0005154502954293772,
          0.0005397144714450181,
          0.0004639033034451656,
          0.0003393028245421648,
          0.00035421692854669285,
          0.0002766951451903533,
          0.00019800920046722948,
          0.0001785936097478818,
          0.0002866371075417993,
          0.0003339332751250073,
          0.00028786094156131234,
          0.00028786094156131234,
          0.0005583505277122455,
          0.00046694227638903,
          0.0006478145292083297,
          0.0007320250555241192,
          0.0007673389073825107,
          0.000542720880864605,
          0.0004828002756664925,
          0.00023436621161919543,
          0.00018853235228987817,
          0.0002658945567695149,
          0.00025180181655334605,
          0.00036340895941048884,
          0.00031043996570091005,
          0.00047152628298754876,
          0.0003588502266495205,
          0.0003270714072326619,
          0.00029472240814979177,
          0.00034002850792323616,
          0.00017360972026309518,
          0.00023308043093808774,
          0.00023308043093808774,
          0.00016754912312812515,
          0.0001210961698714051,
          0.00015920609308197304,
          0.00011494103891120005,
          0.00015559419969445095,
          0.0001547101043709935,
          0.0001876825444942535,
          0.00022340599641228575,
          0.0002514763325511474,
          0.0002420098238807922,
          0.0002486868958497384,
          0.00030933594252384407,
          0.0002267204007054443,
          0.00019227404030818,
          0.00019145944590219396,
          0.0002017625596670455,
          0.00013024019563896607,
          0.00011346151526305318,
          0.00010463188301723622,
          0.00008137700975216139,
          0.00007041251938455135,
          0.000045312226678406056,
          0.00010395849117467402,
          0.00010395849117467402,
          0.00012340173169963866,
          0.00010943949624097264,
          0.00016753377890419007,
          0.00010140416486066479,
          0.00013743082458886363,
          0.0001220765555370468,
          0.00013107937858226489,
          0.00009885345372187397,
          0.00011011075337711915,
          0.00009573223912445789,
          0.00011828339226969588,
          0.0001252169786549235,
          0.00010418070252464921,
          0.00010382050696399085,
          0.0001256276801090573,
          0.00009187037104883666,
          0.00007103776107001647
         ],
         "y0": " ",
         "yaxis": "y"
        }
       ],
       "layout": {
        "boxmode": "group",
        "legend": {
         "title": {
          "text": "Ethnicity"
         },
         "tracegroupgap": 0
        },
        "template": {
         "data": {
          "bar": [
           {
            "error_x": {
             "color": "rgb(36,36,36)"
            },
            "error_y": {
             "color": "rgb(36,36,36)"
            },
            "marker": {
             "line": {
              "color": "rgb(234,234,242)",
              "width": 0.5
             },
             "pattern": {
              "fillmode": "overlay",
              "size": 10,
              "solidity": 0.2
             }
            },
            "type": "bar"
           }
          ],
          "barpolar": [
           {
            "marker": {
             "line": {
              "color": "rgb(234,234,242)",
              "width": 0.5
             },
             "pattern": {
              "fillmode": "overlay",
              "size": 10,
              "solidity": 0.2
             }
            },
            "type": "barpolar"
           }
          ],
          "carpet": [
           {
            "aaxis": {
             "endlinecolor": "rgb(36,36,36)",
             "gridcolor": "white",
             "linecolor": "white",
             "minorgridcolor": "white",
             "startlinecolor": "rgb(36,36,36)"
            },
            "baxis": {
             "endlinecolor": "rgb(36,36,36)",
             "gridcolor": "white",
             "linecolor": "white",
             "minorgridcolor": "white",
             "startlinecolor": "rgb(36,36,36)"
            },
            "type": "carpet"
           }
          ],
          "choropleth": [
           {
            "colorbar": {
             "outlinewidth": 0,
             "tickcolor": "rgb(36,36,36)",
             "ticklen": 8,
             "ticks": "outside",
             "tickwidth": 2
            },
            "type": "choropleth"
           }
          ],
          "contour": [
           {
            "colorbar": {
             "outlinewidth": 0,
             "tickcolor": "rgb(36,36,36)",
             "ticklen": 8,
             "ticks": "outside",
             "tickwidth": 2
            },
            "colorscale": [
             [
              0,
              "rgb(2,4,25)"
             ],
             [
              0.06274509803921569,
              "rgb(24,15,41)"
             ],
             [
              0.12549019607843137,
              "rgb(47,23,57)"
             ],
             [
              0.18823529411764706,
              "rgb(71,28,72)"
             ],
             [
              0.25098039215686274,
              "rgb(97,30,82)"
             ],
             [
              0.3137254901960784,
              "rgb(123,30,89)"
             ],
             [
              0.3764705882352941,
              "rgb(150,27,91)"
             ],
             [
              0.4392156862745098,
              "rgb(177,22,88)"
             ],
             [
              0.5019607843137255,
              "rgb(203,26,79)"
             ],
             [
              0.5647058823529412,
              "rgb(223,47,67)"
             ],
             [
              0.6274509803921569,
              "rgb(236,76,61)"
             ],
             [
              0.6901960784313725,
              "rgb(242,107,73)"
             ],
             [
              0.7529411764705882,
              "rgb(244,135,95)"
             ],
             [
              0.8156862745098039,
              "rgb(245,162,122)"
             ],
             [
              0.8784313725490196,
              "rgb(246,188,153)"
             ],
             [
              0.9411764705882353,
              "rgb(247,212,187)"
             ],
             [
              1,
              "rgb(250,234,220)"
             ]
            ],
            "type": "contour"
           }
          ],
          "contourcarpet": [
           {
            "colorbar": {
             "outlinewidth": 0,
             "tickcolor": "rgb(36,36,36)",
             "ticklen": 8,
             "ticks": "outside",
             "tickwidth": 2
            },
            "type": "contourcarpet"
           }
          ],
          "heatmap": [
           {
            "colorbar": {
             "outlinewidth": 0,
             "tickcolor": "rgb(36,36,36)",
             "ticklen": 8,
             "ticks": "outside",
             "tickwidth": 2
            },
            "colorscale": [
             [
              0,
              "rgb(2,4,25)"
             ],
             [
              0.06274509803921569,
              "rgb(24,15,41)"
             ],
             [
              0.12549019607843137,
              "rgb(47,23,57)"
             ],
             [
              0.18823529411764706,
              "rgb(71,28,72)"
             ],
             [
              0.25098039215686274,
              "rgb(97,30,82)"
             ],
             [
              0.3137254901960784,
              "rgb(123,30,89)"
             ],
             [
              0.3764705882352941,
              "rgb(150,27,91)"
             ],
             [
              0.4392156862745098,
              "rgb(177,22,88)"
             ],
             [
              0.5019607843137255,
              "rgb(203,26,79)"
             ],
             [
              0.5647058823529412,
              "rgb(223,47,67)"
             ],
             [
              0.6274509803921569,
              "rgb(236,76,61)"
             ],
             [
              0.6901960784313725,
              "rgb(242,107,73)"
             ],
             [
              0.7529411764705882,
              "rgb(244,135,95)"
             ],
             [
              0.8156862745098039,
              "rgb(245,162,122)"
             ],
             [
              0.8784313725490196,
              "rgb(246,188,153)"
             ],
             [
              0.9411764705882353,
              "rgb(247,212,187)"
             ],
             [
              1,
              "rgb(250,234,220)"
             ]
            ],
            "type": "heatmap"
           }
          ],
          "heatmapgl": [
           {
            "colorbar": {
             "outlinewidth": 0,
             "tickcolor": "rgb(36,36,36)",
             "ticklen": 8,
             "ticks": "outside",
             "tickwidth": 2
            },
            "colorscale": [
             [
              0,
              "rgb(2,4,25)"
             ],
             [
              0.06274509803921569,
              "rgb(24,15,41)"
             ],
             [
              0.12549019607843137,
              "rgb(47,23,57)"
             ],
             [
              0.18823529411764706,
              "rgb(71,28,72)"
             ],
             [
              0.25098039215686274,
              "rgb(97,30,82)"
             ],
             [
              0.3137254901960784,
              "rgb(123,30,89)"
             ],
             [
              0.3764705882352941,
              "rgb(150,27,91)"
             ],
             [
              0.4392156862745098,
              "rgb(177,22,88)"
             ],
             [
              0.5019607843137255,
              "rgb(203,26,79)"
             ],
             [
              0.5647058823529412,
              "rgb(223,47,67)"
             ],
             [
              0.6274509803921569,
              "rgb(236,76,61)"
             ],
             [
              0.6901960784313725,
              "rgb(242,107,73)"
             ],
             [
              0.7529411764705882,
              "rgb(244,135,95)"
             ],
             [
              0.8156862745098039,
              "rgb(245,162,122)"
             ],
             [
              0.8784313725490196,
              "rgb(246,188,153)"
             ],
             [
              0.9411764705882353,
              "rgb(247,212,187)"
             ],
             [
              1,
              "rgb(250,234,220)"
             ]
            ],
            "type": "heatmapgl"
           }
          ],
          "histogram": [
           {
            "marker": {
             "pattern": {
              "fillmode": "overlay",
              "size": 10,
              "solidity": 0.2
             }
            },
            "type": "histogram"
           }
          ],
          "histogram2d": [
           {
            "colorbar": {
             "outlinewidth": 0,
             "tickcolor": "rgb(36,36,36)",
             "ticklen": 8,
             "ticks": "outside",
             "tickwidth": 2
            },
            "colorscale": [
             [
              0,
              "rgb(2,4,25)"
             ],
             [
              0.06274509803921569,
              "rgb(24,15,41)"
             ],
             [
              0.12549019607843137,
              "rgb(47,23,57)"
             ],
             [
              0.18823529411764706,
              "rgb(71,28,72)"
             ],
             [
              0.25098039215686274,
              "rgb(97,30,82)"
             ],
             [
              0.3137254901960784,
              "rgb(123,30,89)"
             ],
             [
              0.3764705882352941,
              "rgb(150,27,91)"
             ],
             [
              0.4392156862745098,
              "rgb(177,22,88)"
             ],
             [
              0.5019607843137255,
              "rgb(203,26,79)"
             ],
             [
              0.5647058823529412,
              "rgb(223,47,67)"
             ],
             [
              0.6274509803921569,
              "rgb(236,76,61)"
             ],
             [
              0.6901960784313725,
              "rgb(242,107,73)"
             ],
             [
              0.7529411764705882,
              "rgb(244,135,95)"
             ],
             [
              0.8156862745098039,
              "rgb(245,162,122)"
             ],
             [
              0.8784313725490196,
              "rgb(246,188,153)"
             ],
             [
              0.9411764705882353,
              "rgb(247,212,187)"
             ],
             [
              1,
              "rgb(250,234,220)"
             ]
            ],
            "type": "histogram2d"
           }
          ],
          "histogram2dcontour": [
           {
            "colorbar": {
             "outlinewidth": 0,
             "tickcolor": "rgb(36,36,36)",
             "ticklen": 8,
             "ticks": "outside",
             "tickwidth": 2
            },
            "colorscale": [
             [
              0,
              "rgb(2,4,25)"
             ],
             [
              0.06274509803921569,
              "rgb(24,15,41)"
             ],
             [
              0.12549019607843137,
              "rgb(47,23,57)"
             ],
             [
              0.18823529411764706,
              "rgb(71,28,72)"
             ],
             [
              0.25098039215686274,
              "rgb(97,30,82)"
             ],
             [
              0.3137254901960784,
              "rgb(123,30,89)"
             ],
             [
              0.3764705882352941,
              "rgb(150,27,91)"
             ],
             [
              0.4392156862745098,
              "rgb(177,22,88)"
             ],
             [
              0.5019607843137255,
              "rgb(203,26,79)"
             ],
             [
              0.5647058823529412,
              "rgb(223,47,67)"
             ],
             [
              0.6274509803921569,
              "rgb(236,76,61)"
             ],
             [
              0.6901960784313725,
              "rgb(242,107,73)"
             ],
             [
              0.7529411764705882,
              "rgb(244,135,95)"
             ],
             [
              0.8156862745098039,
              "rgb(245,162,122)"
             ],
             [
              0.8784313725490196,
              "rgb(246,188,153)"
             ],
             [
              0.9411764705882353,
              "rgb(247,212,187)"
             ],
             [
              1,
              "rgb(250,234,220)"
             ]
            ],
            "type": "histogram2dcontour"
           }
          ],
          "mesh3d": [
           {
            "colorbar": {
             "outlinewidth": 0,
             "tickcolor": "rgb(36,36,36)",
             "ticklen": 8,
             "ticks": "outside",
             "tickwidth": 2
            },
            "type": "mesh3d"
           }
          ],
          "parcoords": [
           {
            "line": {
             "colorbar": {
              "outlinewidth": 0,
              "tickcolor": "rgb(36,36,36)",
              "ticklen": 8,
              "ticks": "outside",
              "tickwidth": 2
             }
            },
            "type": "parcoords"
           }
          ],
          "pie": [
           {
            "automargin": true,
            "type": "pie"
           }
          ],
          "scatter": [
           {
            "fillpattern": {
             "fillmode": "overlay",
             "size": 10,
             "solidity": 0.2
            },
            "type": "scatter"
           }
          ],
          "scatter3d": [
           {
            "line": {
             "colorbar": {
              "outlinewidth": 0,
              "tickcolor": "rgb(36,36,36)",
              "ticklen": 8,
              "ticks": "outside",
              "tickwidth": 2
             }
            },
            "marker": {
             "colorbar": {
              "outlinewidth": 0,
              "tickcolor": "rgb(36,36,36)",
              "ticklen": 8,
              "ticks": "outside",
              "tickwidth": 2
             }
            },
            "type": "scatter3d"
           }
          ],
          "scattercarpet": [
           {
            "marker": {
             "colorbar": {
              "outlinewidth": 0,
              "tickcolor": "rgb(36,36,36)",
              "ticklen": 8,
              "ticks": "outside",
              "tickwidth": 2
             }
            },
            "type": "scattercarpet"
           }
          ],
          "scattergeo": [
           {
            "marker": {
             "colorbar": {
              "outlinewidth": 0,
              "tickcolor": "rgb(36,36,36)",
              "ticklen": 8,
              "ticks": "outside",
              "tickwidth": 2
             }
            },
            "type": "scattergeo"
           }
          ],
          "scattergl": [
           {
            "marker": {
             "colorbar": {
              "outlinewidth": 0,
              "tickcolor": "rgb(36,36,36)",
              "ticklen": 8,
              "ticks": "outside",
              "tickwidth": 2
             }
            },
            "type": "scattergl"
           }
          ],
          "scattermapbox": [
           {
            "marker": {
             "colorbar": {
              "outlinewidth": 0,
              "tickcolor": "rgb(36,36,36)",
              "ticklen": 8,
              "ticks": "outside",
              "tickwidth": 2
             }
            },
            "type": "scattermapbox"
           }
          ],
          "scatterpolar": [
           {
            "marker": {
             "colorbar": {
              "outlinewidth": 0,
              "tickcolor": "rgb(36,36,36)",
              "ticklen": 8,
              "ticks": "outside",
              "tickwidth": 2
             }
            },
            "type": "scatterpolar"
           }
          ],
          "scatterpolargl": [
           {
            "marker": {
             "colorbar": {
              "outlinewidth": 0,
              "tickcolor": "rgb(36,36,36)",
              "ticklen": 8,
              "ticks": "outside",
              "tickwidth": 2
             }
            },
            "type": "scatterpolargl"
           }
          ],
          "scatterternary": [
           {
            "marker": {
             "colorbar": {
              "outlinewidth": 0,
              "tickcolor": "rgb(36,36,36)",
              "ticklen": 8,
              "ticks": "outside",
              "tickwidth": 2
             }
            },
            "type": "scatterternary"
           }
          ],
          "surface": [
           {
            "colorbar": {
             "outlinewidth": 0,
             "tickcolor": "rgb(36,36,36)",
             "ticklen": 8,
             "ticks": "outside",
             "tickwidth": 2
            },
            "colorscale": [
             [
              0,
              "rgb(2,4,25)"
             ],
             [
              0.06274509803921569,
              "rgb(24,15,41)"
             ],
             [
              0.12549019607843137,
              "rgb(47,23,57)"
             ],
             [
              0.18823529411764706,
              "rgb(71,28,72)"
             ],
             [
              0.25098039215686274,
              "rgb(97,30,82)"
             ],
             [
              0.3137254901960784,
              "rgb(123,30,89)"
             ],
             [
              0.3764705882352941,
              "rgb(150,27,91)"
             ],
             [
              0.4392156862745098,
              "rgb(177,22,88)"
             ],
             [
              0.5019607843137255,
              "rgb(203,26,79)"
             ],
             [
              0.5647058823529412,
              "rgb(223,47,67)"
             ],
             [
              0.6274509803921569,
              "rgb(236,76,61)"
             ],
             [
              0.6901960784313725,
              "rgb(242,107,73)"
             ],
             [
              0.7529411764705882,
              "rgb(244,135,95)"
             ],
             [
              0.8156862745098039,
              "rgb(245,162,122)"
             ],
             [
              0.8784313725490196,
              "rgb(246,188,153)"
             ],
             [
              0.9411764705882353,
              "rgb(247,212,187)"
             ],
             [
              1,
              "rgb(250,234,220)"
             ]
            ],
            "type": "surface"
           }
          ],
          "table": [
           {
            "cells": {
             "fill": {
              "color": "rgb(231,231,240)"
             },
             "line": {
              "color": "white"
             }
            },
            "header": {
             "fill": {
              "color": "rgb(183,183,191)"
             },
             "line": {
              "color": "white"
             }
            },
            "type": "table"
           }
          ]
         },
         "layout": {
          "annotationdefaults": {
           "arrowcolor": "rgb(67,103,167)"
          },
          "autotypenumbers": "strict",
          "coloraxis": {
           "colorbar": {
            "outlinewidth": 0,
            "tickcolor": "rgb(36,36,36)",
            "ticklen": 8,
            "ticks": "outside",
            "tickwidth": 2
           }
          },
          "colorscale": {
           "sequential": [
            [
             0,
             "rgb(2,4,25)"
            ],
            [
             0.06274509803921569,
             "rgb(24,15,41)"
            ],
            [
             0.12549019607843137,
             "rgb(47,23,57)"
            ],
            [
             0.18823529411764706,
             "rgb(71,28,72)"
            ],
            [
             0.25098039215686274,
             "rgb(97,30,82)"
            ],
            [
             0.3137254901960784,
             "rgb(123,30,89)"
            ],
            [
             0.3764705882352941,
             "rgb(150,27,91)"
            ],
            [
             0.4392156862745098,
             "rgb(177,22,88)"
            ],
            [
             0.5019607843137255,
             "rgb(203,26,79)"
            ],
            [
             0.5647058823529412,
             "rgb(223,47,67)"
            ],
            [
             0.6274509803921569,
             "rgb(236,76,61)"
            ],
            [
             0.6901960784313725,
             "rgb(242,107,73)"
            ],
            [
             0.7529411764705882,
             "rgb(244,135,95)"
            ],
            [
             0.8156862745098039,
             "rgb(245,162,122)"
            ],
            [
             0.8784313725490196,
             "rgb(246,188,153)"
            ],
            [
             0.9411764705882353,
             "rgb(247,212,187)"
            ],
            [
             1,
             "rgb(250,234,220)"
            ]
           ],
           "sequentialminus": [
            [
             0,
             "rgb(2,4,25)"
            ],
            [
             0.06274509803921569,
             "rgb(24,15,41)"
            ],
            [
             0.12549019607843137,
             "rgb(47,23,57)"
            ],
            [
             0.18823529411764706,
             "rgb(71,28,72)"
            ],
            [
             0.25098039215686274,
             "rgb(97,30,82)"
            ],
            [
             0.3137254901960784,
             "rgb(123,30,89)"
            ],
            [
             0.3764705882352941,
             "rgb(150,27,91)"
            ],
            [
             0.4392156862745098,
             "rgb(177,22,88)"
            ],
            [
             0.5019607843137255,
             "rgb(203,26,79)"
            ],
            [
             0.5647058823529412,
             "rgb(223,47,67)"
            ],
            [
             0.6274509803921569,
             "rgb(236,76,61)"
            ],
            [
             0.6901960784313725,
             "rgb(242,107,73)"
            ],
            [
             0.7529411764705882,
             "rgb(244,135,95)"
            ],
            [
             0.8156862745098039,
             "rgb(245,162,122)"
            ],
            [
             0.8784313725490196,
             "rgb(246,188,153)"
            ],
            [
             0.9411764705882353,
             "rgb(247,212,187)"
            ],
            [
             1,
             "rgb(250,234,220)"
            ]
           ]
          },
          "colorway": [
           "rgb(76,114,176)",
           "rgb(221,132,82)",
           "rgb(85,168,104)",
           "rgb(196,78,82)",
           "rgb(129,114,179)",
           "rgb(147,120,96)",
           "rgb(218,139,195)",
           "rgb(140,140,140)",
           "rgb(204,185,116)",
           "rgb(100,181,205)"
          ],
          "font": {
           "color": "rgb(36,36,36)"
          },
          "geo": {
           "bgcolor": "white",
           "lakecolor": "white",
           "landcolor": "rgb(234,234,242)",
           "showlakes": true,
           "showland": true,
           "subunitcolor": "white"
          },
          "hoverlabel": {
           "align": "left"
          },
          "hovermode": "closest",
          "paper_bgcolor": "white",
          "plot_bgcolor": "rgb(234,234,242)",
          "polar": {
           "angularaxis": {
            "gridcolor": "white",
            "linecolor": "white",
            "showgrid": true,
            "ticks": ""
           },
           "bgcolor": "rgb(234,234,242)",
           "radialaxis": {
            "gridcolor": "white",
            "linecolor": "white",
            "showgrid": true,
            "ticks": ""
           }
          },
          "scene": {
           "xaxis": {
            "backgroundcolor": "rgb(234,234,242)",
            "gridcolor": "white",
            "gridwidth": 2,
            "linecolor": "white",
            "showbackground": true,
            "showgrid": true,
            "ticks": "",
            "zerolinecolor": "white"
           },
           "yaxis": {
            "backgroundcolor": "rgb(234,234,242)",
            "gridcolor": "white",
            "gridwidth": 2,
            "linecolor": "white",
            "showbackground": true,
            "showgrid": true,
            "ticks": "",
            "zerolinecolor": "white"
           },
           "zaxis": {
            "backgroundcolor": "rgb(234,234,242)",
            "gridcolor": "white",
            "gridwidth": 2,
            "linecolor": "white",
            "showbackground": true,
            "showgrid": true,
            "ticks": "",
            "zerolinecolor": "white"
           }
          },
          "shapedefaults": {
           "fillcolor": "rgb(67,103,167)",
           "line": {
            "width": 0
           },
           "opacity": 0.5
          },
          "ternary": {
           "aaxis": {
            "gridcolor": "white",
            "linecolor": "white",
            "showgrid": true,
            "ticks": ""
           },
           "baxis": {
            "gridcolor": "white",
            "linecolor": "white",
            "showgrid": true,
            "ticks": ""
           },
           "bgcolor": "rgb(234,234,242)",
           "caxis": {
            "gridcolor": "white",
            "linecolor": "white",
            "showgrid": true,
            "ticks": ""
           }
          },
          "xaxis": {
           "automargin": true,
           "gridcolor": "white",
           "linecolor": "white",
           "showgrid": true,
           "ticks": "",
           "title": {
            "standoff": 15
           },
           "zerolinecolor": "white"
          },
          "yaxis": {
           "automargin": true,
           "gridcolor": "white",
           "linecolor": "white",
           "showgrid": true,
           "ticks": "",
           "title": {
            "standoff": 15
           },
           "zerolinecolor": "white"
          }
         }
        },
        "title": {
         "text": "Relative Occurrences of Ethnicity-related Words Over 1 Years"
        },
        "xaxis": {
         "anchor": "y",
         "domain": [
          0,
          1
         ]
        },
        "yaxis": {
         "anchor": "x",
         "domain": [
          0,
          1
         ],
         "title": {
          "text": "Relative Word Occurrence %"
         }
        }
       }
      }
     },
     "metadata": {},
     "output_type": "display_data"
    }
   ],
   "source": [
    "def plot_box(df, eth, ethnicities, highlight_periods=None, average=5,zscore=False):\n",
    "\n",
    "    data = df.copy()\n",
    "\n",
    "\n",
    "    for et in ethnicities:\n",
    "        # Find the index of the ethnicity in the 'eth' DataFrame\n",
    "        index = eth[eth['Ethnicity'] == et].index[0]\n",
    "        # Extract the list of keywords related to the ethnicity\n",
    "        occ_list = literal_eval(eth.at[index, 'Keywords'])\n",
    "\n",
    "        # Define a function to count the occurrences of ethnicity-related words in a list\n",
    "        def count_words(word_list):\n",
    "            return sum(word.lower() in occ_list for word in word_list)\n",
    "\n",
    "        data[et] = data['tokens'].apply(lambda x: count_words(x))\n",
    "\n",
    "    # Group by release year and sum the counts\n",
    "    period = 1\n",
    "    data['release_period'] = data['release_date'] // period * period\n",
    "    counts_by_period = data.groupby('release_period')[ethnicities].sum().reset_index()\n",
    "\n",
    "    \n",
    "    total_words_by_period = data.groupby('release_period')['tokens'].apply(\n",
    "        lambda x: sum(len(word_list) for word_list in x)\n",
    "    ).reset_index()\n",
    "\n",
    "    counts_by_period = pd.merge(counts_by_period, total_words_by_period, on='release_period', how='left')\n",
    "\n",
    "    # Normalize the counts by the total number of words and apply a rolling average\n",
    "    for et in ethnicities:\n",
    "        counts_by_period[et] = counts_by_period[et] / counts_by_period['tokens']\n",
    "        counts_by_period[et] = counts_by_period[et].rolling(window=average).mean()\n",
    "        \n",
    "\n",
    "    counts_by_period_long = pd.melt(counts_by_period, id_vars='release_period', value_vars=ethnicities)\n",
    "\n",
    "    \n",
    "\n",
    "    fig = px.box(counts_by_period_long,y='value', color='variable',\n",
    "                 title='Relative Occurrences of Ethnicity-related Words Over {} Years'.format(period),\n",
    "                 labels={'value': 'Relative Word Occurrence %','release_period':'Year' ,'variable': 'Ethnicity'},\n",
    "                 category_orders={'variable': ethnicities},\n",
    "                 template='seaborn'\n",
    "        )\n",
    "\n",
    "\n",
    "\n",
    "    return fig\n",
    "ethnicities=['Spanish','Italian','Austrian']\n",
    "plot_box(df_sum, ethmerged, ethnicities)\n",
    "\n"
   ]
  },
  {
   "cell_type": "code",
   "execution_count": 13,
   "metadata": {},
   "outputs": [],
   "source": [
    "def get_relative_occurrences(df, eth, ethnicities, average=5):\n",
    "    data = df.copy()\n",
    "\n",
    "    for et in ethnicities:\n",
    "        index = eth[eth['Ethnicity'] == et].index[0]\n",
    "        occ_list = literal_eval(eth.at[index, 'Keywords'])\n",
    "\n",
    "        def count_words(word_list):\n",
    "            return sum(word.lower() in occ_list for word in word_list)\n",
    "\n",
    "        # Apply the function to count ethnicity-related words for each row\n",
    "        data[et] = data['tokens'].apply(lambda x: count_words(x))\n",
    "\n",
    "    # Group by release year and sum the counts\n",
    "    period=1\n",
    "    data['release_period'] = data['release_date'] // period * period\n",
    "    counts_by_period = data.groupby('release_period')[ethnicities].sum().reset_index()\n",
    "\n",
    "    # Normalize by the total number of words in each period\n",
    "    total_words_by_period = data.groupby('release_period')['tokens'].apply(lambda x: sum(len(word_list) for word_list in x)).reset_index()\n",
    "    counts_by_period = pd.merge(counts_by_period, total_words_by_period, on='release_period', how='left')\n",
    "\n",
    "    for et in ethnicities:\n",
    "        counts_by_period[et] = counts_by_period[et] / counts_by_period['tokens']\n",
    "        counts_by_period[et] = counts_by_period[et].rolling(window=average).mean()\n",
    "        counts_by_period[et] = counts_by_period[et].fillna(0, inplace=True)\n",
    "        \n",
    "    # Convert the DataFrame to long format for Plotly\n",
    "    counts_by_period_long = pd.melt(counts_by_period, id_vars='release_period', value_vars=ethnicities)\n",
    "    return counts_by_period_long\n"
   ]
  },
  {
   "cell_type": "markdown",
   "metadata": {},
   "source": []
  },
  {
   "cell_type": "code",
   "execution_count": 90,
   "metadata": {},
   "outputs": [
    {
     "data": {
      "image/png": "[encoded data removed]"
     },
     "metadata": {},
     "output_type": "display_data"
    }
   ],
   "source": [
    "ethnicities=['Spanish','Italian','Austrian']\n",
    "fig = plot_occurrences(df_sum, ethmerged, ethnicities)\n",
    "\n",
    "fig.show(renderer=\"png\")\n",
    "fig_json = fig.to_json()\n",
    "\n",
    "#with open('figures/ethnicity-representation0.json', 'w') as json_file:\n",
    "#   json.dump(json.loads(fig_json), json_file, indent=4)\n"
   ]
  },
  {
   "cell_type": "code",
   "execution_count": 106,
   "metadata": {},
   "outputs": [
    {
     "data": {
      "application/vnd.plotly.v1+json": {
       "config": {
        "plotlyServerURL": "https://plot.ly"
       },
       "data": [
        {
         "mode": "lines",
         "name": "Spanish",
         "type": "scatter",
         "x": [
          1910,
          1911,
          1912,
          1913,
          1914,
          1915,
          1916,
          1917,
          1918,
          1919,
          1920,
          1921,
          1922,
          1923,
          1924,
          1925,
          1926,
          1927,
          1928,
          1929,
          1930,
          1931,
          1932,
          1933,
          1934,
          1935,
          1936,
          1937,
          1938,
          1939,
          1940,
          1941,
          1942,
          1943,
          1944,
          1945,
          1946,
          1947,
          1948,
          1949,
          1950,
          1951,
          1952,
          1953,
          1954,
          1955,
          1956,
          1957,
          1958,
          1959,
          1960,
          1961,
          1962,
          1963,
          1964,
          1965,
          1966,
          1967,
          1968,
          1969,
          1970,
          1971,
          1972,
          1973,
          1974,
          1975,
          1976,
          1977,
          1978,
          1979,
          1980,
          1981,
          1982,
          1983,
          1984,
          1985,
          1986,
          1987,
          1988,
          1989,
          1990,
          1991,
          1992,
          1993,
          1994,
          1995,
          1996,
          1997,
          1998,
          1999,
          2000,
          2001,
          2002,
          2003,
          2004,
          2005,
          2006,
          2007,
          2008,
          2009,
          2010,
          2011,
          2012,
          2013,
          1910,
          1911,
          1912,
          1913,
          1914,
          1915,
          1916,
          1917,
          1918,
          1919,
          1920,
          1921,
          1922,
          1923,
          1924,
          1925,
          1926,
          1927,
          1928,
          1929,
          1930,
          1931,
          1932,
          1933,
          1934,
          1935,
          1936,
          1937,
          1938,
          1939,
          1940,
          1941,
          1942,
          1943,
          1944,
          1945,
          1946,
          1947,
          1948,
          1949,
          1950,
          1951,
          1952,
          1953,
          1954,
          1955,
          1956,
          1957,
          1958,
          1959,
          1960,
          1961,
          1962,
          1963,
          1964,
          1965,
          1966,
          1967,
          1968,
          1969,
          1970,
          1971,
          1972,
          1973,
          1974,
          1975,
          1976,
          1977,
          1978,
          1979,
          1980,
          1981,
          1982,
          1983,
          1984,
          1985,
          1986,
          1987,
          1988,
          1989,
          1990,
          1991,
          1992,
          1993,
          1994,
          1995,
          1996,
          1997,
          1998,
          1999,
          2000,
          2001,
          2002,
          2003,
          2004,
          2005,
          2006,
          2007,
          2008,
          2009,
          2010,
          2011,
          2012,
          2013,
          1910,
          1911,
          1912,
          1913,
          1914,
          1915,
          1916,
          1917,
          1918,
          1919,
          1920,
          1921,
          1922,
          1923,
          1924,
          1925,
          1926,
          1927,
          1928,
          1929,
          1930,
          1931,
          1932,
          1933,
          1934,
          1935,
          1936,
          1937,
          1938,
          1939,
          1940,
          1941,
          1942,
          1943,
          1944,
          1945,
          1946,
          1947,
          1948,
          1949,
          1950,
          1951,
          1952,
          1953,
          1954,
          1955,
          1956,
          1957,
          1958,
          1959,
          1960,
          1961,
          1962,
          1963,
          1964,
          1965,
          1966,
          1967,
          1968,
          1969,
          1970,
          1971,
          1972,
          1973,
          1974,
          1975,
          1976,
          1977,
          1978,
          1979,
          1980,
          1981,
          1982,
          1983,
          1984,
          1985,
          1986,
          1987,
          1988,
          1989,
          1990,
          1991,
          1992,
          1993,
          1994,
          1995,
          1996,
          1997,
          1998,
          1999,
          2000,
          2001,
          2002,
          2003,
          2004,
          2005,
          2006,
          2007,
          2008,
          2009,
          2010,
          2011,
          2012,
          2013
         ],
         "y": [
          null,
          null,
          null,
          null,
          0.07416563658838073,
          0.07416563658838073,
          0.07416563658838073,
          0.07416563658838073,
          0,
          0,
          0.010209290454313425,
          0.033752551195926135,
          0.04589584202774156,
          0.059585095963402064,
          0.06789074380393362,
          0.09125258217882709,
          0.1305036699458486,
          0.13031138001035825,
          0.11662212607469774,
          0.10831647823416617,
          0.09431960925325877,
          0.034586641427312444,
          0.02511058175113341,
          0.04116624137114946,
          0.04641489640329747,
          0.05502619145811014,
          0.07101242982304129,
          0.09710551621865529,
          0.09064333303466275,
          0.09778164691122279,
          0.11408997409932306,
          0.10881239537825069,
          0.1054846356976426,
          0.11104103481621276,
          0.10757765765318236,
          0.06999462559652414,
          0.0659771148323327,
          0.054159665689127084,
          0.052251065080149615,
          0.04527793169218605,
          0.058975015712242826,
          0.06278706322575234,
          0.05657730006449757,
          0.04783007050873983,
          0.05822311417888681,
          0.04772044328217051,
          0.04121863657798407,
          0.06764472467817936,
          0.06970805633750125,
          0.09460850216811321,
          0.09601623910616014,
          0.10022107436828466,
          0.06817087160824076,
          0.08207480408286993,
          0.0656325203575276,
          0.06332550415111413,
          0.06436464415226245,
          0.07513759764174557,
          0.07686856837473245,
          0.06526301122297967,
          0.05605702733345148,
          0.04672381723224994,
          0.05760819653098312,
          0.05188811943135901,
          0.056060996407200366,
          0.07313798516484944,
          0.08232897483447547,
          0.07263375466983323,
          0.06515146996125788,
          0.05656517267827788,
          0.05124471681220152,
          0.05530868884998134,
          0.05007407581900322,
          0.04498811989236608,
          0.05894218189915832,
          0.05203805499221966,
          0.04817104289520795,
          0.04744761675849651,
          0.04503480055526925,
          0.03073247780084799,
          0.034860091272922764,
          0.03257378244436454,
          0.040638573789673706,
          0.053605561743005556,
          0.06517303233746448,
          0.07242482723689368,
          0.0711028969166981,
          0.0671316781300533,
          0.07127910594181189,
          0.06576934032256634,
          0.06253325903407111,
          0.06218623364192755,
          0.059464571388521896,
          0.04954589905069428,
          0.04785547819539398,
          0.0500570996623322,
          0.055120836243864754,
          0.06448130785885556,
          0.06574777621385208,
          0.06695726918022414,
          0.06020517031894793,
          0.05542627685828979,
          0.04356690449438365,
          0.03361354639339179
         ]
        },
        {
         "mode": "lines",
         "name": "Italian",
         "type": "scatter",
         "x": [
          1910,
          1911,
          1912,
          1913,
          1914,
          1915,
          1916,
          1917,
          1918,
          1919,
          1920,
          1921,
          1922,
          1923,
          1924,
          1925,
          1926,
          1927,
          1928,
          1929,
          1930,
          1931,
          1932,
          1933,
          1934,
          1935,
          1936,
          1937,
          1938,
          1939,
          1940,
          1941,
          1942,
          1943,
          1944,
          1945,
          1946,
          1947,
          1948,
          1949,
          1950,
          1951,
          1952,
          1953,
          1954,
          1955,
          1956,
          1957,
          1958,
          1959,
          1960,
          1961,
          1962,
          1963,
          1964,
          1965,
          1966,
          1967,
          1968,
          1969,
          1970,
          1971,
          1972,
          1973,
          1974,
          1975,
          1976,
          1977,
          1978,
          1979,
          1980,
          1981,
          1982,
          1983,
          1984,
          1985,
          1986,
          1987,
          1988,
          1989,
          1990,
          1991,
          1992,
          1993,
          1994,
          1995,
          1996,
          1997,
          1998,
          1999,
          2000,
          2001,
          2002,
          2003,
          2004,
          2005,
          2006,
          2007,
          2008,
          2009,
          2010,
          2011,
          2012,
          2013,
          1910,
          1911,
          1912,
          1913,
          1914,
          1915,
          1916,
          1917,
          1918,
          1919,
          1920,
          1921,
          1922,
          1923,
          1924,
          1925,
          1926,
          1927,
          1928,
          1929,
          1930,
          1931,
          1932,
          1933,
          1934,
          1935,
          1936,
          1937,
          1938,
          1939,
          1940,
          1941,
          1942,
          1943,
          1944,
          1945,
          1946,
          1947,
          1948,
          1949,
          1950,
          1951,
          1952,
          1953,
          1954,
          1955,
          1956,
          1957,
          1958,
          1959,
          1960,
          1961,
          1962,
          1963,
          1964,
          1965,
          1966,
          1967,
          1968,
          1969,
          1970,
          1971,
          1972,
          1973,
          1974,
          1975,
          1976,
          1977,
          1978,
          1979,
          1980,
          1981,
          1982,
          1983,
          1984,
          1985,
          1986,
          1987,
          1988,
          1989,
          1990,
          1991,
          1992,
          1993,
          1994,
          1995,
          1996,
          1997,
          1998,
          1999,
          2000,
          2001,
          2002,
          2003,
          2004,
          2005,
          2006,
          2007,
          2008,
          2009,
          2010,
          2011,
          2012,
          2013,
          1910,
          1911,
          1912,
          1913,
          1914,
          1915,
          1916,
          1917,
          1918,
          1919,
          1920,
          1921,
          1922,
          1923,
          1924,
          1925,
          1926,
          1927,
          1928,
          1929,
          1930,
          1931,
          1932,
          1933,
          1934,
          1935,
          1936,
          1937,
          1938,
          1939,
          1940,
          1941,
          1942,
          1943,
          1944,
          1945,
          1946,
          1947,
          1948,
          1949,
          1950,
          1951,
          1952,
          1953,
          1954,
          1955,
          1956,
          1957,
          1958,
          1959,
          1960,
          1961,
          1962,
          1963,
          1964,
          1965,
          1966,
          1967,
          1968,
          1969,
          1970,
          1971,
          1972,
          1973,
          1974,
          1975,
          1976,
          1977,
          1978,
          1979,
          1980,
          1981,
          1982,
          1983,
          1984,
          1985,
          1986,
          1987,
          1988,
          1989,
          1990,
          1991,
          1992,
          1993,
          1994,
          1995,
          1996,
          1997,
          1998,
          1999,
          2000,
          2001,
          2002,
          2003,
          2004,
          2005,
          2006,
          2007,
          2008,
          2009,
          2010,
          2011,
          2012,
          2013
         ],
         "y": [
          null,
          null,
          null,
          null,
          0.0867199616254738,
          0.16002478752651228,
          0.16688705068770618,
          0.16688705068770618,
          0.18228350950217884,
          0.15514646743976365,
          0.10226022244735201,
          0.05935830046471223,
          0.07150159129652765,
          0.11086214822469699,
          0.11086214822469699,
          0.1072291317306736,
          0.115083045243378,
          0.1626947588931879,
          0.1135810840083337,
          0.11358108400833368,
          0.10658264951788,
          0.08743099799431445,
          0.05490034693429535,
          0.10009992820655839,
          0.17620542617270457,
          0.17816227745818491,
          0.17680110846892988,
          0.15195742401530368,
          0.11070797832127635,
          0.034602480355130166,
          0.022858499145500106,
          0.02377703711247208,
          0.02916260443223113,
          0.04770461116902443,
          0.06332089672396028,
          0.09096429686217729,
          0.1059808614501856,
          0.10045176162777093,
          0.0987988283461865,
          0.11048895979924755,
          0.10860547722929433,
          0.12441754888553518,
          0.14922937103530412,
          0.17367933556246734,
          0.1957469266659147,
          0.1969343775187035,
          0.16842839030934234,
          0.16737331548629797,
          0.1557850633629843,
          0.12296392096641699,
          0.18044521991560328,
          0.21139010170745792,
          0.29026632199104263,
          0.2862643216007225,
          0.3129149121623478,
          0.3036684465565892,
          0.29551826092623135,
          0.21537194577124982,
          0.2275845701310516,
          0.22882896426454263,
          0.2015608475888686,
          0.19140243048776182,
          0.21317118908522814,
          0.19581534194214695,
          0.1825617874323321,
          0.1517246911011749,
          0.15993588125713323,
          0.1283494926928735,
          0.10457182389181738,
          0.09250827468859614,
          0.09039414597476686,
          0.09004193012952687,
          0.08657087695039661,
          0.0977173379787893,
          0.08548960395379125,
          0.08184902454078422,
          0.06312156846878975,
          0.06839109443286165,
          0.06126128731517026,
          0.06470526847196854,
          0.07882637630183076,
          0.08540843157874332,
          0.07937957650269523,
          0.08151384294292788,
          0.08242744296233041,
          0.0774241170241996,
          0.06837036756441443,
          0.06725634388971005,
          0.061049113931236514,
          0.07227165772984166,
          0.06699328378621405,
          0.07118467357151335,
          0.07768507739494064,
          0.09877058827939914,
          0.09137609642667419,
          0.09169319487371974,
          0.0851447689163195,
          0.07872755755062173,
          0.06354507849635944,
          0.0651417710571451,
          0.06600864017306324,
          0.06704944267273452,
          0.07327564700358545,
          0.0782340833149383
         ]
        },
        {
         "mode": "lines",
         "name": "Austrian",
         "type": "scatter",
         "x": [
          1910,
          1911,
          1912,
          1913,
          1914,
          1915,
          1916,
          1917,
          1918,
          1919,
          1920,
          1921,
          1922,
          1923,
          1924,
          1925,
          1926,
          1927,
          1928,
          1929,
          1930,
          1931,
          1932,
          1933,
          1934,
          1935,
          1936,
          1937,
          1938,
          1939,
          1940,
          1941,
          1942,
          1943,
          1944,
          1945,
          1946,
          1947,
          1948,
          1949,
          1950,
          1951,
          1952,
          1953,
          1954,
          1955,
          1956,
          1957,
          1958,
          1959,
          1960,
          1961,
          1962,
          1963,
          1964,
          1965,
          1966,
          1967,
          1968,
          1969,
          1970,
          1971,
          1972,
          1973,
          1974,
          1975,
          1976,
          1977,
          1978,
          1979,
          1980,
          1981,
          1982,
          1983,
          1984,
          1985,
          1986,
          1987,
          1988,
          1989,
          1990,
          1991,
          1992,
          1993,
          1994,
          1995,
          1996,
          1997,
          1998,
          1999,
          2000,
          2001,
          2002,
          2003,
          2004,
          2005,
          2006,
          2007,
          2008,
          2009,
          2010,
          2011,
          2012,
          2013,
          1910,
          1911,
          1912,
          1913,
          1914,
          1915,
          1916,
          1917,
          1918,
          1919,
          1920,
          1921,
          1922,
          1923,
          1924,
          1925,
          1926,
          1927,
          1928,
          1929,
          1930,
          1931,
          1932,
          1933,
          1934,
          1935,
          1936,
          1937,
          1938,
          1939,
          1940,
          1941,
          1942,
          1943,
          1944,
          1945,
          1946,
          1947,
          1948,
          1949,
          1950,
          1951,
          1952,
          1953,
          1954,
          1955,
          1956,
          1957,
          1958,
          1959,
          1960,
          1961,
          1962,
          1963,
          1964,
          1965,
          1966,
          1967,
          1968,
          1969,
          1970,
          1971,
          1972,
          1973,
          1974,
          1975,
          1976,
          1977,
          1978,
          1979,
          1980,
          1981,
          1982,
          1983,
          1984,
          1985,
          1986,
          1987,
          1988,
          1989,
          1990,
          1991,
          1992,
          1993,
          1994,
          1995,
          1996,
          1997,
          1998,
          1999,
          2000,
          2001,
          2002,
          2003,
          2004,
          2005,
          2006,
          2007,
          2008,
          2009,
          2010,
          2011,
          2012,
          2013,
          1910,
          1911,
          1912,
          1913,
          1914,
          1915,
          1916,
          1917,
          1918,
          1919,
          1920,
          1921,
          1922,
          1923,
          1924,
          1925,
          1926,
          1927,
          1928,
          1929,
          1930,
          1931,
          1932,
          1933,
          1934,
          1935,
          1936,
          1937,
          1938,
          1939,
          1940,
          1941,
          1942,
          1943,
          1944,
          1945,
          1946,
          1947,
          1948,
          1949,
          1950,
          1951,
          1952,
          1953,
          1954,
          1955,
          1956,
          1957,
          1958,
          1959,
          1960,
          1961,
          1962,
          1963,
          1964,
          1965,
          1966,
          1967,
          1968,
          1969,
          1970,
          1971,
          1972,
          1973,
          1974,
          1975,
          1976,
          1977,
          1978,
          1979,
          1980,
          1981,
          1982,
          1983,
          1984,
          1985,
          1986,
          1987,
          1988,
          1989,
          1990,
          1991,
          1992,
          1993,
          1994,
          1995,
          1996,
          1997,
          1998,
          1999,
          2000,
          2001,
          2002,
          2003,
          2004,
          2005,
          2006,
          2007,
          2008,
          2009,
          2010,
          2011,
          2012,
          2013
         ],
         "y": [
          null,
          null,
          null,
          null,
          0,
          0,
          0,
          0,
          0,
          0,
          0.02041858090862685,
          0.02041858090862685,
          0.032561871740442276,
          0.046251125676102775,
          0.0628624213571659,
          0.06762218707044422,
          0.08855363657332228,
          0.09433684708599445,
          0.08629093400812178,
          0.0748475969833894,
          0.054562815323559104,
          0.039754127186056816,
          0.04410209682288341,
          0.07592196174513306,
          0.08125131315309835,
          0.09045052564257955,
          0.08976994114795206,
          0.07701814603855789,
          0.05634352402156154,
          0.05327839530249034,
          0.05154502954293772,
          0.053971447144501805,
          0.04639033034451656,
          0.033930282454216476,
          0.035421692854669284,
          0.02766951451903533,
          0.019800920046722948,
          0.01785936097478818,
          0.028663710754179932,
          0.03339332751250073,
          0.028786094156131235,
          0.028786094156131235,
          0.05583505277122455,
          0.046694227638903005,
          0.06478145292083297,
          0.07320250555241192,
          0.07673389073825107,
          0.0542720880864605,
          0.048280027566649245,
          0.023436621161919545,
          0.018853235228987818,
          0.02658945567695149,
          0.025180181655334605,
          0.03634089594104888,
          0.031043996570091006,
          0.04715262829875488,
          0.035885022664952054,
          0.032707140723266186,
          0.029472240814979178,
          0.03400285079232362,
          0.01736097202630952,
          0.023308043093808774,
          0.023308043093808774,
          0.016754912312812516,
          0.01210961698714051,
          0.015920609308197303,
          0.011494103891120004,
          0.015559419969445095,
          0.01547101043709935,
          0.01876825444942535,
          0.022340599641228576,
          0.02514763325511474,
          0.02420098238807922,
          0.02486868958497384,
          0.030933594252384407,
          0.02267204007054443,
          0.019227404030818,
          0.019145944590219396,
          0.02017625596670455,
          0.013024019563896608,
          0.011346151526305318,
          0.010463188301723622,
          0.008137700975216138,
          0.007041251938455135,
          0.004531222667840605,
          0.010395849117467403,
          0.010395849117467403,
          0.012340173169963865,
          0.010943949624097263,
          0.016753377890419006,
          0.010140416486066478,
          0.013743082458886363,
          0.01220765555370468,
          0.013107937858226488,
          0.009885345372187396,
          0.011011075337711916,
          0.00957322391244579,
          0.01182833922696959,
          0.01252169786549235,
          0.01041807025246492,
          0.010382050696399085,
          0.01256276801090573,
          0.009187037104883666,
          0.007103776107001647
         ]
        }
       ],
       "layout": {
        "legend": {
         "title": {
          "text": "Demographic Group"
         }
        },
        "template": {
         "data": {
          "bar": [
           {
            "error_x": {
             "color": "rgb(36,36,36)"
            },
            "error_y": {
             "color": "rgb(36,36,36)"
            },
            "marker": {
             "line": {
              "color": "rgb(234,234,242)",
              "width": 0.5
             },
             "pattern": {
              "fillmode": "overlay",
              "size": 10,
              "solidity": 0.2
             }
            },
            "type": "bar"
           }
          ],
          "barpolar": [
           {
            "marker": {
             "line": {
              "color": "rgb(234,234,242)",
              "width": 0.5
             },
             "pattern": {
              "fillmode": "overlay",
              "size": 10,
              "solidity": 0.2
             }
            },
            "type": "barpolar"
           }
          ],
          "carpet": [
           {
            "aaxis": {
             "endlinecolor": "rgb(36,36,36)",
             "gridcolor": "white",
             "linecolor": "white",
             "minorgridcolor": "white",
             "startlinecolor": "rgb(36,36,36)"
            },
            "baxis": {
             "endlinecolor": "rgb(36,36,36)",
             "gridcolor": "white",
             "linecolor": "white",
             "minorgridcolor": "white",
             "startlinecolor": "rgb(36,36,36)"
            },
            "type": "carpet"
           }
          ],
          "choropleth": [
           {
            "colorbar": {
             "outlinewidth": 0,
             "tickcolor": "rgb(36,36,36)",
             "ticklen": 8,
             "ticks": "outside",
             "tickwidth": 2
            },
            "type": "choropleth"
           }
          ],
          "contour": [
           {
            "colorbar": {
             "outlinewidth": 0,
             "tickcolor": "rgb(36,36,36)",
             "ticklen": 8,
             "ticks": "outside",
             "tickwidth": 2
            },
            "colorscale": [
             [
              0,
              "rgb(2,4,25)"
             ],
             [
              0.06274509803921569,
              "rgb(24,15,41)"
             ],
             [
              0.12549019607843137,
              "rgb(47,23,57)"
             ],
             [
              0.18823529411764706,
              "rgb(71,28,72)"
             ],
             [
              0.25098039215686274,
              "rgb(97,30,82)"
             ],
             [
              0.3137254901960784,
              "rgb(123,30,89)"
             ],
             [
              0.3764705882352941,
              "rgb(150,27,91)"
             ],
             [
              0.4392156862745098,
              "rgb(177,22,88)"
             ],
             [
              0.5019607843137255,
              "rgb(203,26,79)"
             ],
             [
              0.5647058823529412,
              "rgb(223,47,67)"
             ],
             [
              0.6274509803921569,
              "rgb(236,76,61)"
             ],
             [
              0.6901960784313725,
              "rgb(242,107,73)"
             ],
             [
              0.7529411764705882,
              "rgb(244,135,95)"
             ],
             [
              0.8156862745098039,
              "rgb(245,162,122)"
             ],
             [
              0.8784313725490196,
              "rgb(246,188,153)"
             ],
             [
              0.9411764705882353,
              "rgb(247,212,187)"
             ],
             [
              1,
              "rgb(250,234,220)"
             ]
            ],
            "type": "contour"
           }
          ],
          "contourcarpet": [
           {
            "colorbar": {
             "outlinewidth": 0,
             "tickcolor": "rgb(36,36,36)",
             "ticklen": 8,
             "ticks": "outside",
             "tickwidth": 2
            },
            "type": "contourcarpet"
           }
          ],
          "heatmap": [
           {
            "colorbar": {
             "outlinewidth": 0,
             "tickcolor": "rgb(36,36,36)",
             "ticklen": 8,
             "ticks": "outside",
             "tickwidth": 2
            },
            "colorscale": [
             [
              0,
              "rgb(2,4,25)"
             ],
             [
              0.06274509803921569,
              "rgb(24,15,41)"
             ],
             [
              0.12549019607843137,
              "rgb(47,23,57)"
             ],
             [
              0.18823529411764706,
              "rgb(71,28,72)"
             ],
             [
              0.25098039215686274,
              "rgb(97,30,82)"
             ],
             [
              0.3137254901960784,
              "rgb(123,30,89)"
             ],
             [
              0.3764705882352941,
              "rgb(150,27,91)"
             ],
             [
              0.4392156862745098,
              "rgb(177,22,88)"
             ],
             [
              0.5019607843137255,
              "rgb(203,26,79)"
             ],
             [
              0.5647058823529412,
              "rgb(223,47,67)"
             ],
             [
              0.6274509803921569,
              "rgb(236,76,61)"
             ],
             [
              0.6901960784313725,
              "rgb(242,107,73)"
             ],
             [
              0.7529411764705882,
              "rgb(244,135,95)"
             ],
             [
              0.8156862745098039,
              "rgb(245,162,122)"
             ],
             [
              0.8784313725490196,
              "rgb(246,188,153)"
             ],
             [
              0.9411764705882353,
              "rgb(247,212,187)"
             ],
             [
              1,
              "rgb(250,234,220)"
             ]
            ],
            "type": "heatmap"
           }
          ],
          "heatmapgl": [
           {
            "colorbar": {
             "outlinewidth": 0,
             "tickcolor": "rgb(36,36,36)",
             "ticklen": 8,
             "ticks": "outside",
             "tickwidth": 2
            },
            "colorscale": [
             [
              0,
              "rgb(2,4,25)"
             ],
             [
              0.06274509803921569,
              "rgb(24,15,41)"
             ],
             [
              0.12549019607843137,
              "rgb(47,23,57)"
             ],
             [
              0.18823529411764706,
              "rgb(71,28,72)"
             ],
             [
              0.25098039215686274,
              "rgb(97,30,82)"
             ],
             [
              0.3137254901960784,
              "rgb(123,30,89)"
             ],
             [
              0.3764705882352941,
              "rgb(150,27,91)"
             ],
             [
              0.4392156862745098,
              "rgb(177,22,88)"
             ],
             [
              0.5019607843137255,
              "rgb(203,26,79)"
             ],
             [
              0.5647058823529412,
              "rgb(223,47,67)"
             ],
             [
              0.6274509803921569,
              "rgb(236,76,61)"
             ],
             [
              0.6901960784313725,
              "rgb(242,107,73)"
             ],
             [
              0.7529411764705882,
              "rgb(244,135,95)"
             ],
             [
              0.8156862745098039,
              "rgb(245,162,122)"
             ],
             [
              0.8784313725490196,
              "rgb(246,188,153)"
             ],
             [
              0.9411764705882353,
              "rgb(247,212,187)"
             ],
             [
              1,
              "rgb(250,234,220)"
             ]
            ],
            "type": "heatmapgl"
           }
          ],
          "histogram": [
           {
            "marker": {
             "pattern": {
              "fillmode": "overlay",
              "size": 10,
              "solidity": 0.2
             }
            },
            "type": "histogram"
           }
          ],
          "histogram2d": [
           {
            "colorbar": {
             "outlinewidth": 0,
             "tickcolor": "rgb(36,36,36)",
             "ticklen": 8,
             "ticks": "outside",
             "tickwidth": 2
            },
            "colorscale": [
             [
              0,
              "rgb(2,4,25)"
             ],
             [
              0.06274509803921569,
              "rgb(24,15,41)"
             ],
             [
              0.12549019607843137,
              "rgb(47,23,57)"
             ],
             [
              0.18823529411764706,
              "rgb(71,28,72)"
             ],
             [
              0.25098039215686274,
              "rgb(97,30,82)"
             ],
             [
              0.3137254901960784,
              "rgb(123,30,89)"
             ],
             [
              0.3764705882352941,
              "rgb(150,27,91)"
             ],
             [
              0.4392156862745098,
              "rgb(177,22,88)"
             ],
             [
              0.5019607843137255,
              "rgb(203,26,79)"
             ],
             [
              0.5647058823529412,
              "rgb(223,47,67)"
             ],
             [
              0.6274509803921569,
              "rgb(236,76,61)"
             ],
             [
              0.6901960784313725,
              "rgb(242,107,73)"
             ],
             [
              0.7529411764705882,
              "rgb(244,135,95)"
             ],
             [
              0.8156862745098039,
              "rgb(245,162,122)"
             ],
             [
              0.8784313725490196,
              "rgb(246,188,153)"
             ],
             [
              0.9411764705882353,
              "rgb(247,212,187)"
             ],
             [
              1,
              "rgb(250,234,220)"
             ]
            ],
            "type": "histogram2d"
           }
          ],
          "histogram2dcontour": [
           {
            "colorbar": {
             "outlinewidth": 0,
             "tickcolor": "rgb(36,36,36)",
             "ticklen": 8,
             "ticks": "outside",
             "tickwidth": 2
            },
            "colorscale": [
             [
              0,
              "rgb(2,4,25)"
             ],
             [
              0.06274509803921569,
              "rgb(24,15,41)"
             ],
             [
              0.12549019607843137,
              "rgb(47,23,57)"
             ],
             [
              0.18823529411764706,
              "rgb(71,28,72)"
             ],
             [
              0.25098039215686274,
              "rgb(97,30,82)"
             ],
             [
              0.3137254901960784,
              "rgb(123,30,89)"
             ],
             [
              0.3764705882352941,
              "rgb(150,27,91)"
             ],
             [
              0.4392156862745098,
              "rgb(177,22,88)"
             ],
             [
              0.5019607843137255,
              "rgb(203,26,79)"
             ],
             [
              0.5647058823529412,
              "rgb(223,47,67)"
             ],
             [
              0.6274509803921569,
              "rgb(236,76,61)"
             ],
             [
              0.6901960784313725,
              "rgb(242,107,73)"
             ],
             [
              0.7529411764705882,
              "rgb(244,135,95)"
             ],
             [
              0.8156862745098039,
              "rgb(245,162,122)"
             ],
             [
              0.8784313725490196,
              "rgb(246,188,153)"
             ],
             [
              0.9411764705882353,
              "rgb(247,212,187)"
             ],
             [
              1,
              "rgb(250,234,220)"
             ]
            ],
            "type": "histogram2dcontour"
           }
          ],
          "mesh3d": [
           {
            "colorbar": {
             "outlinewidth": 0,
             "tickcolor": "rgb(36,36,36)",
             "ticklen": 8,
             "ticks": "outside",
             "tickwidth": 2
            },
            "type": "mesh3d"
           }
          ],
          "parcoords": [
           {
            "line": {
             "colorbar": {
              "outlinewidth": 0,
              "tickcolor": "rgb(36,36,36)",
              "ticklen": 8,
              "ticks": "outside",
              "tickwidth": 2
             }
            },
            "type": "parcoords"
           }
          ],
          "pie": [
           {
            "automargin": true,
            "type": "pie"
           }
          ],
          "scatter": [
           {
            "fillpattern": {
             "fillmode": "overlay",
             "size": 10,
             "solidity": 0.2
            },
            "type": "scatter"
           }
          ],
          "scatter3d": [
           {
            "line": {
             "colorbar": {
              "outlinewidth": 0,
              "tickcolor": "rgb(36,36,36)",
              "ticklen": 8,
              "ticks": "outside",
              "tickwidth": 2
             }
            },
            "marker": {
             "colorbar": {
              "outlinewidth": 0,
              "tickcolor": "rgb(36,36,36)",
              "ticklen": 8,
              "ticks": "outside",
              "tickwidth": 2
             }
            },
            "type": "scatter3d"
           }
          ],
          "scattercarpet": [
           {
            "marker": {
             "colorbar": {
              "outlinewidth": 0,
              "tickcolor": "rgb(36,36,36)",
              "ticklen": 8,
              "ticks": "outside",
              "tickwidth": 2
             }
            },
            "type": "scattercarpet"
           }
          ],
          "scattergeo": [
           {
            "marker": {
             "colorbar": {
              "outlinewidth": 0,
              "tickcolor": "rgb(36,36,36)",
              "ticklen": 8,
              "ticks": "outside",
              "tickwidth": 2
             }
            },
            "type": "scattergeo"
           }
          ],
          "scattergl": [
           {
            "marker": {
             "colorbar": {
              "outlinewidth": 0,
              "tickcolor": "rgb(36,36,36)",
              "ticklen": 8,
              "ticks": "outside",
              "tickwidth": 2
             }
            },
            "type": "scattergl"
           }
          ],
          "scattermapbox": [
           {
            "marker": {
             "colorbar": {
              "outlinewidth": 0,
              "tickcolor": "rgb(36,36,36)",
              "ticklen": 8,
              "ticks": "outside",
              "tickwidth": 2
             }
            },
            "type": "scattermapbox"
           }
          ],
          "scatterpolar": [
           {
            "marker": {
             "colorbar": {
              "outlinewidth": 0,
              "tickcolor": "rgb(36,36,36)",
              "ticklen": 8,
              "ticks": "outside",
              "tickwidth": 2
             }
            },
            "type": "scatterpolar"
           }
          ],
          "scatterpolargl": [
           {
            "marker": {
             "colorbar": {
              "outlinewidth": 0,
              "tickcolor": "rgb(36,36,36)",
              "ticklen": 8,
              "ticks": "outside",
              "tickwidth": 2
             }
            },
            "type": "scatterpolargl"
           }
          ],
          "scatterternary": [
           {
            "marker": {
             "colorbar": {
              "outlinewidth": 0,
              "tickcolor": "rgb(36,36,36)",
              "ticklen": 8,
              "ticks": "outside",
              "tickwidth": 2
             }
            },
            "type": "scatterternary"
           }
          ],
          "surface": [
           {
            "colorbar": {
             "outlinewidth": 0,
             "tickcolor": "rgb(36,36,36)",
             "ticklen": 8,
             "ticks": "outside",
             "tickwidth": 2
            },
            "colorscale": [
             [
              0,
              "rgb(2,4,25)"
             ],
             [
              0.06274509803921569,
              "rgb(24,15,41)"
             ],
             [
              0.12549019607843137,
              "rgb(47,23,57)"
             ],
             [
              0.18823529411764706,
              "rgb(71,28,72)"
             ],
             [
              0.25098039215686274,
              "rgb(97,30,82)"
             ],
             [
              0.3137254901960784,
              "rgb(123,30,89)"
             ],
             [
              0.3764705882352941,
              "rgb(150,27,91)"
             ],
             [
              0.4392156862745098,
              "rgb(177,22,88)"
             ],
             [
              0.5019607843137255,
              "rgb(203,26,79)"
             ],
             [
              0.5647058823529412,
              "rgb(223,47,67)"
             ],
             [
              0.6274509803921569,
              "rgb(236,76,61)"
             ],
             [
              0.6901960784313725,
              "rgb(242,107,73)"
             ],
             [
              0.7529411764705882,
              "rgb(244,135,95)"
             ],
             [
              0.8156862745098039,
              "rgb(245,162,122)"
             ],
             [
              0.8784313725490196,
              "rgb(246,188,153)"
             ],
             [
              0.9411764705882353,
              "rgb(247,212,187)"
             ],
             [
              1,
              "rgb(250,234,220)"
             ]
            ],
            "type": "surface"
           }
          ],
          "table": [
           {
            "cells": {
             "fill": {
              "color": "rgb(231,231,240)"
             },
             "line": {
              "color": "white"
             }
            },
            "header": {
             "fill": {
              "color": "rgb(183,183,191)"
             },
             "line": {
              "color": "white"
             }
            },
            "type": "table"
           }
          ]
         },
         "layout": {
          "annotationdefaults": {
           "arrowcolor": "rgb(67,103,167)"
          },
          "autotypenumbers": "strict",
          "coloraxis": {
           "colorbar": {
            "outlinewidth": 0,
            "tickcolor": "rgb(36,36,36)",
            "ticklen": 8,
            "ticks": "outside",
            "tickwidth": 2
           }
          },
          "colorscale": {
           "sequential": [
            [
             0,
             "rgb(2,4,25)"
            ],
            [
             0.06274509803921569,
             "rgb(24,15,41)"
            ],
            [
             0.12549019607843137,
             "rgb(47,23,57)"
            ],
            [
             0.18823529411764706,
             "rgb(71,28,72)"
            ],
            [
             0.25098039215686274,
             "rgb(97,30,82)"
            ],
            [
             0.3137254901960784,
             "rgb(123,30,89)"
            ],
            [
             0.3764705882352941,
             "rgb(150,27,91)"
            ],
            [
             0.4392156862745098,
             "rgb(177,22,88)"
            ],
            [
             0.5019607843137255,
             "rgb(203,26,79)"
            ],
            [
             0.5647058823529412,
             "rgb(223,47,67)"
            ],
            [
             0.6274509803921569,
             "rgb(236,76,61)"
            ],
            [
             0.6901960784313725,
             "rgb(242,107,73)"
            ],
            [
             0.7529411764705882,
             "rgb(244,135,95)"
            ],
            [
             0.8156862745098039,
             "rgb(245,162,122)"
            ],
            [
             0.8784313725490196,
             "rgb(246,188,153)"
            ],
            [
             0.9411764705882353,
             "rgb(247,212,187)"
            ],
            [
             1,
             "rgb(250,234,220)"
            ]
           ],
           "sequentialminus": [
            [
             0,
             "rgb(2,4,25)"
            ],
            [
             0.06274509803921569,
             "rgb(24,15,41)"
            ],
            [
             0.12549019607843137,
             "rgb(47,23,57)"
            ],
            [
             0.18823529411764706,
             "rgb(71,28,72)"
            ],
            [
             0.25098039215686274,
             "rgb(97,30,82)"
            ],
            [
             0.3137254901960784,
             "rgb(123,30,89)"
            ],
            [
             0.3764705882352941,
             "rgb(150,27,91)"
            ],
            [
             0.4392156862745098,
             "rgb(177,22,88)"
            ],
            [
             0.5019607843137255,
             "rgb(203,26,79)"
            ],
            [
             0.5647058823529412,
             "rgb(223,47,67)"
            ],
            [
             0.6274509803921569,
             "rgb(236,76,61)"
            ],
            [
             0.6901960784313725,
             "rgb(242,107,73)"
            ],
            [
             0.7529411764705882,
             "rgb(244,135,95)"
            ],
            [
             0.8156862745098039,
             "rgb(245,162,122)"
            ],
            [
             0.8784313725490196,
             "rgb(246,188,153)"
            ],
            [
             0.9411764705882353,
             "rgb(247,212,187)"
            ],
            [
             1,
             "rgb(250,234,220)"
            ]
           ]
          },
          "colorway": [
           "rgb(76,114,176)",
           "rgb(221,132,82)",
           "rgb(85,168,104)",
           "rgb(196,78,82)",
           "rgb(129,114,179)",
           "rgb(147,120,96)",
           "rgb(218,139,195)",
           "rgb(140,140,140)",
           "rgb(204,185,116)",
           "rgb(100,181,205)"
          ],
          "font": {
           "color": "rgb(36,36,36)"
          },
          "geo": {
           "bgcolor": "white",
           "lakecolor": "white",
           "landcolor": "rgb(234,234,242)",
           "showlakes": true,
           "showland": true,
           "subunitcolor": "white"
          },
          "hoverlabel": {
           "align": "left"
          },
          "hovermode": "closest",
          "paper_bgcolor": "white",
          "plot_bgcolor": "rgb(234,234,242)",
          "polar": {
           "angularaxis": {
            "gridcolor": "white",
            "linecolor": "white",
            "showgrid": true,
            "ticks": ""
           },
           "bgcolor": "rgb(234,234,242)",
           "radialaxis": {
            "gridcolor": "white",
            "linecolor": "white",
            "showgrid": true,
            "ticks": ""
           }
          },
          "scene": {
           "xaxis": {
            "backgroundcolor": "rgb(234,234,242)",
            "gridcolor": "white",
            "gridwidth": 2,
            "linecolor": "white",
            "showbackground": true,
            "showgrid": true,
            "ticks": "",
            "zerolinecolor": "white"
           },
           "yaxis": {
            "backgroundcolor": "rgb(234,234,242)",
            "gridcolor": "white",
            "gridwidth": 2,
            "linecolor": "white",
            "showbackground": true,
            "showgrid": true,
            "ticks": "",
            "zerolinecolor": "white"
           },
           "zaxis": {
            "backgroundcolor": "rgb(234,234,242)",
            "gridcolor": "white",
            "gridwidth": 2,
            "linecolor": "white",
            "showbackground": true,
            "showgrid": true,
            "ticks": "",
            "zerolinecolor": "white"
           }
          },
          "shapedefaults": {
           "fillcolor": "rgb(67,103,167)",
           "line": {
            "width": 0
           },
           "opacity": 0.5
          },
          "ternary": {
           "aaxis": {
            "gridcolor": "white",
            "linecolor": "white",
            "showgrid": true,
            "ticks": ""
           },
           "baxis": {
            "gridcolor": "white",
            "linecolor": "white",
            "showgrid": true,
            "ticks": ""
           },
           "bgcolor": "rgb(234,234,242)",
           "caxis": {
            "gridcolor": "white",
            "linecolor": "white",
            "showgrid": true,
            "ticks": ""
           }
          },
          "xaxis": {
           "automargin": true,
           "gridcolor": "white",
           "linecolor": "white",
           "showgrid": true,
           "ticks": "",
           "title": {
            "standoff": 15
           },
           "zerolinecolor": "white"
          },
          "yaxis": {
           "automargin": true,
           "gridcolor": "white",
           "linecolor": "white",
           "showgrid": true,
           "ticks": "",
           "title": {
            "standoff": 15
           },
           "zerolinecolor": "white"
          }
         }
        },
        "xaxis": {
         "title": {
          "text": "Year"
         }
        },
        "yaxis": {
         "title": {
          "text": "Relative Word Occurrence %"
         }
        }
       }
      }
     },
     "metadata": {},
     "output_type": "display_data"
    }
   ],
   "source": [
    "ethnicities=['Spanish','Italian','Austrian']\n",
    "fig = plot_relative_occurrences(df_sum, ethmerged, ethnicities)\n",
    "\n",
    "fig.show()\n",
    "\n",
    "fig_json = fig.to_json()\n",
    "#with open('figures/ethnicity-representation1.json', 'w') as json_file:\n",
    "#   json.dump(json.loads(fig_json), json_file, indent=4)\n",
    "\n"
   ]
  },
  {
   "cell_type": "markdown",
   "metadata": {},
   "source": [
    "### World War I and World War II ###"
   ]
  },
  {
   "cell_type": "markdown",
   "metadata": {},
   "source": [
    "We choose to group the occurrences of word by 5 years sinc the year by year data is high variance."
   ]
  },
  {
   "cell_type": "code",
   "execution_count": 31,
   "metadata": {},
   "outputs": [
    {
     "data": {
      "application/vnd.plotly.v1+json": {
       "config": {
        "plotlyServerURL": "https://plot.ly"
       },
       "data": [
        {
         "hovertemplate": "Ethnicity=German<br>Year=%{x}<br>Relative Word Occurrence=%{y}<extra></extra>",
         "legendgroup": "German",
         "line": {
          "color": "rgb(76,114,176)",
          "dash": "solid"
         },
         "marker": {
          "symbol": "circle"
         },
         "mode": "lines",
         "name": "German",
         "orientation": "v",
         "showlegend": true,
         "type": "scatter",
         "x": [
          1910,
          1911,
          1912,
          1913,
          1914,
          1915,
          1916,
          1917,
          1918,
          1919,
          1920,
          1921,
          1922,
          1923,
          1924,
          1925,
          1926,
          1927,
          1928,
          1929,
          1930,
          1931,
          1932,
          1933,
          1934,
          1935,
          1936,
          1937,
          1938,
          1939,
          1940,
          1941,
          1942,
          1943,
          1944,
          1945,
          1946,
          1947,
          1948,
          1949,
          1950,
          1951,
          1952,
          1953,
          1954,
          1955,
          1956,
          1957,
          1958,
          1959,
          1960,
          1961,
          1962,
          1963,
          1964,
          1965,
          1966,
          1967,
          1968,
          1969,
          1970,
          1971,
          1972,
          1973,
          1974,
          1975,
          1976,
          1977,
          1978,
          1979,
          1980,
          1981,
          1982,
          1983,
          1984,
          1985,
          1986,
          1987,
          1988,
          1989,
          1990,
          1991,
          1992,
          1993,
          1994,
          1995,
          1996,
          1997,
          1998,
          1999,
          2000,
          2001,
          2002,
          2003,
          2004,
          2005,
          2006,
          2007,
          2008,
          2009,
          2010,
          2011,
          2012,
          2013
         ],
         "xaxis": "x",
         "y": [
          null,
          null,
          null,
          null,
          0.0002472187886279357,
          0.0008580923378032565,
          0.003349786689962725,
          0.005631944366311273,
          0.00754022981170951,
          0.008890751604220254,
          0.008381970959588068,
          0.00659657442967698,
          0.0045572825699647405,
          0.002538670875295172,
          0.0012712055611897447,
          0.0014208961228656621,
          0.0009239127956460616,
          0.0010395770058995051,
          0.001410585143743803,
          0.0014308878384651023,
          0.002647173860868512,
          0.0028052250477622782,
          0.003065430325909032,
          0.0030659588700086373,
          0.003303762273971643,
          0.0020940603719610427,
          0.0018627491118072034,
          0.0015773074622878983,
          0.0013326988429780363,
          0.001437467146601905,
          0.0021184148485823067,
          0.0029069202773103044,
          0.0040492115164635235,
          0.006707152628573083,
          0.00755514255098285,
          0.007514237766882641,
          0.0071504483662213625,
          0.005965691212043112,
          0.0032520066756597313,
          0.0026017371305821152,
          0.002184178420697653,
          0.002127235119394346,
          0.0020708316868996513,
          0.00238705980466631,
          0.0021313471817820165,
          0.0020041795977007422,
          0.0019064617455401243,
          0.0022989487525273584,
          0.0025943155881914155,
          0.002882285636387541,
          0.002989121429698892,
          0.0032027304431865447,
          0.0031001696485800033,
          0.0026339201364800812,
          0.0024220485760924463,
          0.0033117395427189147,
          0.0035073431311752738,
          0.0034002065488331103,
          0.00363329419371511,
          0.004104194613852023,
          0.003266168690888921,
          0.0028671417672983548,
          0.002791784796307339,
          0.002383723399913753,
          0.001686456682713122,
          0.0017861970656945143,
          0.0018260717860961533,
          0.0020669101236110944,
          0.0021710015501738224,
          0.0022083352080364592,
          0.002066671093216943,
          0.0019350713429134646,
          0.001591473704552402,
          0.0014553320050271334,
          0.0014268636881140542,
          0.0013528821945295933,
          0.0012402234236060911,
          0.0012137301613555918,
          0.0011642560774997137,
          0.0010433619785646599,
          0.000849132594262161,
          0.0008309748110468908,
          0.0008817062314464113,
          0.0010425136794916837,
          0.0011065237184874352,
          0.0010247089426088057,
          0.0010176914664927878,
          0.0008924698519722569,
          0.0009383023272085871,
          0.0009285153214663312,
          0.0010118794776287493,
          0.0010733272189658004,
          0.0012601915306729393,
          0.0012971531747167403,
          0.0015165084935099288,
          0.0015239830439860392,
          0.0015115236388143008,
          0.00140114515344835,
          0.0013916261006243643,
          0.0011711771630301881,
          0.0011072136997712632,
          0.0011477411174114715,
          0.001109487189872129,
          0.0016398066073748888
         ],
         "yaxis": "y"
        },
        {
         "hovertemplate": "Ethnicity=Nazi<br>Year=%{x}<br>Relative Word Occurrence=%{y}<extra></extra>",
         "legendgroup": "Nazi",
         "line": {
          "color": "rgb(221,132,82)",
          "dash": "solid"
         },
         "marker": {
          "symbol": "circle"
         },
         "mode": "lines",
         "name": "Nazi",
         "orientation": "v",
         "showlegend": true,
         "type": "scatter",
         "x": [
          1910,
          1911,
          1912,
          1913,
          1914,
          1915,
          1916,
          1917,
          1918,
          1919,
          1920,
          1921,
          1922,
          1923,
          1924,
          1925,
          1926,
          1927,
          1928,
          1929,
          1930,
          1931,
          1932,
          1933,
          1934,
          1935,
          1936,
          1937,
          1938,
          1939,
          1940,
          1941,
          1942,
          1943,
          1944,
          1945,
          1946,
          1947,
          1948,
          1949,
          1950,
          1951,
          1952,
          1953,
          1954,
          1955,
          1956,
          1957,
          1958,
          1959,
          1960,
          1961,
          1962,
          1963,
          1964,
          1965,
          1966,
          1967,
          1968,
          1969,
          1970,
          1971,
          1972,
          1973,
          1974,
          1975,
          1976,
          1977,
          1978,
          1979,
          1980,
          1981,
          1982,
          1983,
          1984,
          1985,
          1986,
          1987,
          1988,
          1989,
          1990,
          1991,
          1992,
          1993,
          1994,
          1995,
          1996,
          1997,
          1998,
          1999,
          2000,
          2001,
          2002,
          2003,
          2004,
          2005,
          2006,
          2007,
          2008,
          2009,
          2010,
          2011,
          2012,
          2013
         ],
         "xaxis": "x",
         "y": [
          null,
          null,
          null,
          null,
          0,
          0,
          0,
          0,
          0,
          0,
          0,
          0,
          0,
          0,
          0,
          0,
          0,
          0,
          0,
          0,
          0,
          0,
          0,
          0.000053518865400053516,
          0.00023722179152523394,
          0.0002841977163637542,
          0.0002841977163637542,
          0.0002841977163637542,
          0.0003745809975040532,
          0.0003642956361007854,
          0.0008364150023264103,
          0.0013282021568459344,
          0.002376644055690707,
          0.0037693721439734248,
          0.004376768856998306,
          0.004180179900880025,
          0.004078493928854711,
          0.0032313943118891333,
          0.0018460929335873903,
          0.0012213153244577221,
          0.0009331555462695422,
          0.000562432331026568,
          0.0005053511617612044,
          0.0004738635156361015,
          0.00037072756999552377,
          0.0004037494342904703,
          0.00045499917075601787,
          0.0003260285780198627,
          0.0004520890069679,
          0.0004819526125657371,
          0.0005105258589792861,
          0.0005150155261545219,
          0.00064272969365271,
          0.00045263162573701916,
          0.0005298800981867167,
          0.0007101179474063819,
          0.0009119023533007642,
          0.0008770642424527532,
          0.0009956285873275819,
          0.001065518460837947,
          0.0008554273373780408,
          0.000608260915929136,
          0.0006368371262192785,
          0.0004761960458801886,
          0.0002908566512031391,
          0.0005663080331301808,
          0.0006278066168180019,
          0.0007349827946995119,
          0.0008368406245028764,
          0.000887931078130264,
          0.0006746443890671668,
          0.0007997904132572558,
          0.0006494314048964372,
          0.0006119259895679583,
          0.0006444710628481256,
          0.0007103142161436034,
          0.000520423149665648,
          0.0005027933375942352,
          0.0005663729874346294,
          0.0005490348288349331,
          0.00046718883265843157,
          0.0005414516990768359,
          0.0005509277681115794,
          0.000578994791895354,
          0.0004977672854357812,
          0.0005117644872191056,
          0.0004635322000355902,
          0.0004099984966937318,
          0.000362677586339729,
          0.0003680182143067908,
          0.0003370728118106532,
          0.000388630352830888,
          0.0003903763106156765,
          0.0003027188558902964,
          0.00034947525093526754,
          0.00031327403162925775,
          0.0002693307520687321,
          0.0003201055569743358,
          0.0003362821557163592,
          0.0003546640211275965,
          0.0003337030622686132,
          0.00035116810808764296,
          0.00032555687164682564,
          0.0002746327139208208
         ],
         "yaxis": "y"
        },
        {
         "hovertemplate": "Ethnicity=Japanese<br>Year=%{x}<br>Relative Word Occurrence=%{y}<extra></extra>",
         "legendgroup": "Japanese",
         "line": {
          "color": "rgb(85,168,104)",
          "dash": "solid"
         },
         "marker": {
          "symbol": "circle"
         },
         "mode": "lines",
         "name": "Japanese",
         "orientation": "v",
         "showlegend": true,
         "type": "scatter",
         "x": [
          1910,
          1911,
          1912,
          1913,
          1914,
          1915,
          1916,
          1917,
          1918,
          1919,
          1920,
          1921,
          1922,
          1923,
          1924,
          1925,
          1926,
          1927,
          1928,
          1929,
          1930,
          1931,
          1932,
          1933,
          1934,
          1935,
          1936,
          1937,
          1938,
          1939,
          1940,
          1941,
          1942,
          1943,
          1944,
          1945,
          1946,
          1947,
          1948,
          1949,
          1950,
          1951,
          1952,
          1953,
          1954,
          1955,
          1956,
          1957,
          1958,
          1959,
          1960,
          1961,
          1962,
          1963,
          1964,
          1965,
          1966,
          1967,
          1968,
          1969,
          1970,
          1971,
          1972,
          1973,
          1974,
          1975,
          1976,
          1977,
          1978,
          1979,
          1980,
          1981,
          1982,
          1983,
          1984,
          1985,
          1986,
          1987,
          1988,
          1989,
          1990,
          1991,
          1992,
          1993,
          1994,
          1995,
          1996,
          1997,
          1998,
          1999,
          2000,
          2001,
          2002,
          2003,
          2004,
          2005,
          2006,
          2007,
          2008,
          2009,
          2010,
          2011,
          2012,
          2013
         ],
         "xaxis": "x",
         "y": [
          null,
          null,
          null,
          null,
          0,
          0,
          0,
          0.0002074688796680498,
          0.0002074688796680498,
          0.0002074688796680498,
          0.0002074688796680498,
          0.0002074688796680498,
          0,
          0,
          0,
          0,
          0.00041862899005756153,
          0.0004783839945391869,
          0.0007041176288506993,
          0.0007557972154140067,
          0.0007557972154140067,
          0.00039839583901020307,
          0.0005613855443417197,
          0.0004694490735303411,
          0.00041776948696703356,
          0.0005117213366440741,
          0.0006137590291127652,
          0.00039101431929962333,
          0.0003531519201597245,
          0.00042747373361197276,
          0.00035824070731893916,
          0.00027366134591961405,
          0.0014580123797998197,
          0.0037211296660834546,
          0.004829183758933493,
          0.00577198394038708,
          0.005888348586911061,
          0.0051066821167892445,
          0.00282329449440604,
          0.0020115056760694255,
          0.0013187591252933103,
          0.0014725119445684418,
          0.0012501537715773412,
          0.001593933579703465,
          0.0017523537215032663,
          0.0020165286358628386,
          0.00233868841065004,
          0.002846435414378164,
          0.0030007616697946557,
          0.0030235166305250783,
          0.0026764525970363866,
          0.002512531665248076,
          0.0027142652144247054,
          0.0027915363892880934,
          0.0025758010809427694,
          0.003672755490544355,
          0.003627216198333896,
          0.003370956345753564,
          0.0030527988829388434,
          0.002900694140415829,
          0.0020744751484634595,
          0.0017765166415090205,
          0.0015942207469166955,
          0.0018790441614587098,
          0.0019030839944990073,
          0.0018531591368939483,
          0.002206607003681184,
          0.001985723718286888,
          0.001573499950146572,
          0.0018796767949594366,
          0.0016914258006402148,
          0.0013150804555867633,
          0.001417370167019229,
          0.0016022825689615636,
          0.0013741257050334302,
          0.001440827163454176,
          0.0016445358449510236,
          0.0015928197562023836,
          0.0015304756941275604,
          0.0017618434320128367,
          0.0017101662584470291,
          0.0018153184672478298,
          0.0017051893600629506,
          0.0016914444367258034,
          0.0015296924457561443,
          0.0016930147275999268,
          0.0014477492677713638,
          0.0014256752209814054,
          0.0013268007783258737,
          0.0012709782464812025,
          0.0011107757963878502,
          0.0011867407432702979,
          0.0012695962523658617,
          0.0014780836478419583,
          0.0015492376883219088,
          0.001621855061406109,
          0.0016952340840650098,
          0.0017722784494202427,
          0.001642329503961244,
          0.001614641541014174,
          0.0015282763366536328,
          0.0014850850935574996,
          0.001305767318954041,
          0.0017008571989859003
         ],
         "yaxis": "y"
        },
        {
         "hovertemplate": "Ethnicity=French<br>Year=%{x}<br>Relative Word Occurrence=%{y}<extra></extra>",
         "legendgroup": "French",
         "line": {
          "color": "rgb(196,78,82)",
          "dash": "solid"
         },
         "marker": {
          "symbol": "circle"
         },
         "mode": "lines",
         "name": "French",
         "orientation": "v",
         "showlegend": true,
         "type": "scatter",
         "x": [
          1910,
          1911,
          1912,
          1913,
          1914,
          1915,
          1916,
          1917,
          1918,
          1919,
          1920,
          1921,
          1922,
          1923,
          1924,
          1925,
          1926,
          1927,
          1928,
          1929,
          1930,
          1931,
          1932,
          1933,
          1934,
          1935,
          1936,
          1937,
          1938,
          1939,
          1940,
          1941,
          1942,
          1943,
          1944,
          1945,
          1946,
          1947,
          1948,
          1949,
          1950,
          1951,
          1952,
          1953,
          1954,
          1955,
          1956,
          1957,
          1958,
          1959,
          1960,
          1961,
          1962,
          1963,
          1964,
          1965,
          1966,
          1967,
          1968,
          1969,
          1970,
          1971,
          1972,
          1973,
          1974,
          1975,
          1976,
          1977,
          1978,
          1979,
          1980,
          1981,
          1982,
          1983,
          1984,
          1985,
          1986,
          1987,
          1988,
          1989,
          1990,
          1991,
          1992,
          1993,
          1994,
          1995,
          1996,
          1997,
          1998,
          1999,
          2000,
          2001,
          2002,
          2003,
          2004,
          2005,
          2006,
          2007,
          2008,
          2009,
          2010,
          2011,
          2012,
          2013
         ],
         "xaxis": "x",
         "y": [
          null,
          null,
          null,
          null,
          0.0011439087997369094,
          0.0019991317685823583,
          0.001966634993516128,
          0.003965650149968664,
          0.004334289713919635,
          0.004948163255969972,
          0.0048075906189264635,
          0.006760371128860976,
          0.004306141509812638,
          0.005606778708226201,
          0.005657356993418388,
          0.006369479636857742,
          0.005506473140285281,
          0.008072092534285364,
          0.007622865606317723,
          0.007423530058144966,
          0.007171212673801643,
          0.007078650363050358,
          0.004789902808644631,
          0.003831063406920309,
          0.004599381060405324,
          0.004528859703212581,
          0.004317915996172135,
          0.00477425261681327,
          0.005369073185655465,
          0.004878857387623165,
          0.004096267857910028,
          0.003438959198240791,
          0.0029676902800720283,
          0.002254008718476019,
          0.0029608742426261527,
          0.0033075783753076403,
          0.003378225941184247,
          0.0031418769583201347,
          0.003149546978141927,
          0.002538160413286358,
          0.002282270257705001,
          0.002885448761678447,
          0.0029055146110671826,
          0.0033022243815736874,
          0.0032570381324048504,
          0.0035185636618389462,
          0.003220628484586616,
          0.0038342469321418294,
          0.004269807109988149,
          0.003945294127261452,
          0.003751318254066038,
          0.003549838636831718,
          0.003315053171802876,
          0.0025691759274625164,
          0.0028042343900469653,
          0.003352527587046711,
          0.0038675836697676857,
          0.003911037393482401,
          0.003791993902463104,
          0.004252777795598342,
          0.0039021822918335752,
          0.0036015558137998975,
          0.003109535341239942,
          0.003266567646522076,
          0.0026364867871696476,
          0.0025425445391567755,
          0.0022387727789998503,
          0.002738190160595157,
          0.002717437278944626,
          0.00273268688819337,
          0.002427104792168442,
          0.0025770942894406982,
          0.0023162926799257357,
          0.0021765423282137587,
          0.00205057556766801,
          0.0021932357331415457,
          0.0018308678359343228,
          0.0016392191098806453,
          0.00157633184034587,
          0.0012705409913970442,
          0.0011119163735494341,
          0.001672666109852019,
          0.0017841213803338044,
          0.0017939132380356275,
          0.0020371862088020276,
          0.0022562116222372953,
          0.0019128416970613463,
          0.0018809164462124945,
          0.0019547989675373747,
          0.0020279486332321563,
          0.0018459078461986653,
          0.0018970879013319158,
          0.0019029285954329782,
          0.001979692731248325,
          0.0019002306064788937,
          0.0018658752878213717,
          0.0017903548334832567,
          0.0018202039599220052,
          0.001643933783268569,
          0.0015985924829806397,
          0.0016582347878963365,
          0.0015892037883280987,
          0.0014903822170266195,
          0.0015525151921802179
         ],
         "yaxis": "y"
        },
        {
         "hovertemplate": "Ethnicity=Spanish<br>Year=%{x}<br>Relative Word Occurrence=%{y}<extra></extra>",
         "legendgroup": "Spanish",
         "line": {
          "color": "rgb(129,114,179)",
          "dash": "solid"
         },
         "marker": {
          "symbol": "circle"
         },
         "mode": "lines",
         "name": "Spanish",
         "orientation": "v",
         "showlegend": true,
         "type": "scatter",
         "x": [
          1910,
          1911,
          1912,
          1913,
          1914,
          1915,
          1916,
          1917,
          1918,
          1919,
          1920,
          1921,
          1922,
          1923,
          1924,
          1925,
          1926,
          1927,
          1928,
          1929,
          1930,
          1931,
          1932,
          1933,
          1934,
          1935,
          1936,
          1937,
          1938,
          1939,
          1940,
          1941,
          1942,
          1943,
          1944,
          1945,
          1946,
          1947,
          1948,
          1949,
          1950,
          1951,
          1952,
          1953,
          1954,
          1955,
          1956,
          1957,
          1958,
          1959,
          1960,
          1961,
          1962,
          1963,
          1964,
          1965,
          1966,
          1967,
          1968,
          1969,
          1970,
          1971,
          1972,
          1973,
          1974,
          1975,
          1976,
          1977,
          1978,
          1979,
          1980,
          1981,
          1982,
          1983,
          1984,
          1985,
          1986,
          1987,
          1988,
          1989,
          1990,
          1991,
          1992,
          1993,
          1994,
          1995,
          1996,
          1997,
          1998,
          1999,
          2000,
          2001,
          2002,
          2003,
          2004,
          2005,
          2006,
          2007,
          2008,
          2009,
          2010,
          2011,
          2012,
          2013
         ],
         "xaxis": "x",
         "y": [
          null,
          null,
          null,
          null,
          0.0007416563658838072,
          0.0007416563658838072,
          0.0007416563658838072,
          0.0007416563658838072,
          0,
          0,
          0.00010209290454313425,
          0.00033752551195926137,
          0.0004589584202774156,
          0.0005958509596340207,
          0.0006789074380393362,
          0.0009125258217882709,
          0.001305036699458486,
          0.0013031138001035824,
          0.0011662212607469774,
          0.0010831647823416617,
          0.0009431960925325878,
          0.00034586641427312444,
          0.0002511058175113341,
          0.00041166241371149456,
          0.0004641489640329747,
          0.0005502619145811014,
          0.0007101242982304129,
          0.0009710551621865529,
          0.0009064333303466275,
          0.0009778164691122279,
          0.0011408997409932307,
          0.0010881239537825068,
          0.001054846356976426,
          0.0011104103481621276,
          0.0010757765765318237,
          0.0006999462559652414,
          0.0006597711483233271,
          0.0005415966568912709,
          0.0005225106508014961,
          0.0004527793169218605,
          0.0005897501571224282,
          0.0006278706322575233,
          0.0005657730006449757,
          0.00047830070508739827,
          0.0005822311417888681,
          0.00047720443282170513,
          0.0004121863657798407,
          0.0006764472467817936,
          0.0006970805633750125,
          0.0009460850216811321,
          0.0009601623910616014,
          0.0010022107436828465,
          0.0006817087160824075,
          0.0008207480408286994,
          0.000656325203575276,
          0.0006332550415111413,
          0.0006436464415226246,
          0.0007513759764174558,
          0.0007686856837473245,
          0.0006526301122297967,
          0.0005605702733345148,
          0.00046723817232249945,
          0.0005760819653098312,
          0.0005188811943135901,
          0.0005606099640720037,
          0.0007313798516484944,
          0.0008232897483447547,
          0.0007263375466983322,
          0.0006515146996125788,
          0.0005656517267827788,
          0.0005124471681220152,
          0.0005530868884998134,
          0.0005007407581900322,
          0.00044988119892366076,
          0.0005894218189915832,
          0.0005203805499221966,
          0.00048171042895207947,
          0.00047447616758496505,
          0.00045034800555269247,
          0.0003073247780084799,
          0.00034860091272922766,
          0.0003257378244436454,
          0.0004063857378967371,
          0.0005360556174300556,
          0.0006517303233746448,
          0.0007242482723689368,
          0.0007110289691669811,
          0.000671316781300533,
          0.0007127910594181188,
          0.0006576934032256635,
          0.0006253325903407111,
          0.0006218623364192755,
          0.0005946457138852189,
          0.0004954589905069428,
          0.00047855478195393976,
          0.0005005709966233219,
          0.0005512083624386475,
          0.0006448130785885556,
          0.0006574777621385208,
          0.0006695726918022414,
          0.0006020517031894793,
          0.0005542627685828979,
          0.0004356690449438365,
          0.0003361354639339179
         ],
         "yaxis": "y"
        },
        {
         "hovertemplate": "Ethnicity=American<br>Year=%{x}<br>Relative Word Occurrence=%{y}<extra></extra>",
         "legendgroup": "American",
         "line": {
          "color": "rgb(147,120,96)",
          "dash": "solid"
         },
         "marker": {
          "symbol": "circle"
         },
         "mode": "lines",
         "name": "American",
         "orientation": "v",
         "showlegend": true,
         "type": "scatter",
         "x": [
          1910,
          1911,
          1912,
          1913,
          1914,
          1915,
          1916,
          1917,
          1918,
          1919,
          1920,
          1921,
          1922,
          1923,
          1924,
          1925,
          1926,
          1927,
          1928,
          1929,
          1930,
          1931,
          1932,
          1933,
          1934,
          1935,
          1936,
          1937,
          1938,
          1939,
          1940,
          1941,
          1942,
          1943,
          1944,
          1945,
          1946,
          1947,
          1948,
          1949,
          1950,
          1951,
          1952,
          1953,
          1954,
          1955,
          1956,
          1957,
          1958,
          1959,
          1960,
          1961,
          1962,
          1963,
          1964,
          1965,
          1966,
          1967,
          1968,
          1969,
          1970,
          1971,
          1972,
          1973,
          1974,
          1975,
          1976,
          1977,
          1978,
          1979,
          1980,
          1981,
          1982,
          1983,
          1984,
          1985,
          1986,
          1987,
          1988,
          1989,
          1990,
          1991,
          1992,
          1993,
          1994,
          1995,
          1996,
          1997,
          1998,
          1999,
          2000,
          2001,
          2002,
          2003,
          2004,
          2005,
          2006,
          2007,
          2008,
          2009,
          2010,
          2011,
          2012,
          2013
         ],
         "xaxis": "x",
         "y": [
          null,
          null,
          null,
          null,
          0.0024507090359199317,
          0.0024691119210833723,
          0.0032346831550040672,
          0.003781416153780254,
          0.004150055717731225,
          0.0046153335475674784,
          0.004270575101437701,
          0.0034609333148874722,
          0.0030661503951062534,
          0.002450292042527347,
          0.0029594909681466756,
          0.0028686655557960904,
          0.0031434601297582417,
          0.0028312248118657905,
          0.003282692080488815,
          0.0024502815969155408,
          0.002422127683516445,
          0.002375846528140802,
          0.0025062856172455997,
          0.0027773230315232974,
          0.0026788056409457186,
          0.002757079692364931,
          0.0027196350497290618,
          0.0025989547829250365,
          0.0022122217752851363,
          0.0025414248566090736,
          0.0027885114863600716,
          0.002932795815612575,
          0.0032783591260671665,
          0.0038515799840819634,
          0.0038544180023907734,
          0.003782584794146303,
          0.003703615875466172,
          0.0031684405368280822,
          0.0029025956437681057,
          0.0030553231688692432,
          0.002977028685479316,
          0.0031619922451327637,
          0.0033630622220594568,
          0.0033640610877235222,
          0.0032520825597558726,
          0.0033927327943067006,
          0.003163257766740315,
          0.00359812974741065,
          0.003790048815301432,
          0.004150687578548519,
          0.003923027494826791,
          0.003921386146782667,
          0.003737862249863634,
          0.0036086419141883805,
          0.0032323475165473223,
          0.0036885808746517854,
          0.0038482218990150254,
          0.003655956726901431,
          0.0035356217527358117,
          0.003354027027441488,
          0.0031946239524109133,
          0.0028730299434137326,
          0.0027472092529422136,
          0.0026823187556563838,
          0.002667201368461803,
          0.0024883573545747295,
          0.0025735110656535556,
          0.002663932337668702,
          0.0027073931592224345,
          0.002865757491746896,
          0.0027810752295887144,
          0.0027164351497237305,
          0.0024663974677013546,
          0.0024283518199684053,
          0.002356748296062649,
          0.0024664613863978153,
          0.002671424347580778,
          0.0028854637637675973,
          0.0030369003983263245,
          0.003088226857743131,
          0.002959402493167414,
          0.0029060086401400467,
          0.0027578739301584226,
          0.002550863255311136,
          0.002310811920954998,
          0.002303865281520154,
          0.002168017544864014,
          0.0022209824405568556,
          0.0020677745760251834,
          0.0021040897209857307,
          0.0020373306594887062,
          0.0020119734654974845,
          0.0019638678540012684,
          0.0020035146758919367,
          0.0019427468794269505,
          0.0018630848248110006,
          0.0019222282204999878,
          0.001926305552644705,
          0.0018693211725815436,
          0.001832650427806106,
          0.0018054088559543112,
          0.0017902412000033903,
          0.0016296268070001827,
          0.0016732419066170523
         ],
         "yaxis": "y"
        },
        {
         "hovertemplate": "Ethnicity=Italian<br>Year=%{x}<br>Relative Word Occurrence=%{y}<extra></extra>",
         "legendgroup": "Italian",
         "line": {
          "color": "rgb(218,139,195)",
          "dash": "solid"
         },
         "marker": {
          "symbol": "circle"
         },
         "mode": "lines",
         "name": "Italian",
         "orientation": "v",
         "showlegend": true,
         "type": "scatter",
         "x": [
          1910,
          1911,
          1912,
          1913,
          1914,
          1915,
          1916,
          1917,
          1918,
          1919,
          1920,
          1921,
          1922,
          1923,
          1924,
          1925,
          1926,
          1927,
          1928,
          1929,
          1930,
          1931,
          1932,
          1933,
          1934,
          1935,
          1936,
          1937,
          1938,
          1939,
          1940,
          1941,
          1942,
          1943,
          1944,
          1945,
          1946,
          1947,
          1948,
          1949,
          1950,
          1951,
          1952,
          1953,
          1954,
          1955,
          1956,
          1957,
          1958,
          1959,
          1960,
          1961,
          1962,
          1963,
          1964,
          1965,
          1966,
          1967,
          1968,
          1969,
          1970,
          1971,
          1972,
          1973,
          1974,
          1975,
          1976,
          1977,
          1978,
          1979,
          1980,
          1981,
          1982,
          1983,
          1984,
          1985,
          1986,
          1987,
          1988,
          1989,
          1990,
          1991,
          1992,
          1993,
          1994,
          1995,
          1996,
          1997,
          1998,
          1999,
          2000,
          2001,
          2002,
          2003,
          2004,
          2005,
          2006,
          2007,
          2008,
          2009,
          2010,
          2011,
          2012,
          2013
         ],
         "xaxis": "x",
         "y": [
          null,
          null,
          null,
          null,
          0.0008671996162547379,
          0.0016002478752651227,
          0.0016688705068770618,
          0.0016688705068770618,
          0.0018228350950217885,
          0.0015514646743976365,
          0.0010226022244735201,
          0.0005935830046471223,
          0.0007150159129652766,
          0.00110862148224697,
          0.00110862148224697,
          0.001072291317306736,
          0.00115083045243378,
          0.001626947588931879,
          0.001135810840083337,
          0.0011358108400833368,
          0.0010658264951788,
          0.0008743099799431445,
          0.0005490034693429536,
          0.0010009992820655838,
          0.0017620542617270457,
          0.001781622774581849,
          0.0017680110846892989,
          0.0015195742401530369,
          0.0011070797832127635,
          0.0003460248035513017,
          0.00022858499145500107,
          0.0002377703711247208,
          0.0002916260443223113,
          0.00047704611169024425,
          0.0006332089672396029,
          0.0009096429686217729,
          0.001059808614501856,
          0.0010045176162777093,
          0.000987988283461865,
          0.0011048895979924756,
          0.0010860547722929433,
          0.0012441754888553517,
          0.0014922937103530412,
          0.0017367933556246735,
          0.001957469266659147,
          0.001969343775187035,
          0.0016842839030934234,
          0.0016737331548629796,
          0.001557850633629843,
          0.00122963920966417,
          0.0018044521991560328,
          0.0021139010170745792,
          0.0029026632199104264,
          0.0028626432160072253,
          0.0031291491216234777,
          0.003036684465565892,
          0.0029551826092623136,
          0.0021537194577124982,
          0.002275845701310516,
          0.0022882896426454262,
          0.002015608475888686,
          0.0019140243048776182,
          0.0021317118908522814,
          0.0019581534194214696,
          0.0018256178743233209,
          0.001517246911011749,
          0.0015993588125713324,
          0.001283494926928735,
          0.0010457182389181738,
          0.0009250827468859614,
          0.0009039414597476687,
          0.0009004193012952686,
          0.0008657087695039662,
          0.000977173379787893,
          0.0008548960395379125,
          0.0008184902454078421,
          0.0006312156846878975,
          0.0006839109443286164,
          0.0006126128731517026,
          0.0006470526847196854,
          0.0007882637630183076,
          0.0008540843157874333,
          0.0007937957650269523,
          0.0008151384294292788,
          0.0008242744296233041,
          0.000774241170241996,
          0.0006837036756441444,
          0.0006725634388971005,
          0.0006104911393123651,
          0.0007227165772984166,
          0.0006699328378621406,
          0.0007118467357151335,
          0.0007768507739494065,
          0.0009877058827939913,
          0.0009137609642667419,
          0.0009169319487371975,
          0.000851447689163195,
          0.0007872755755062173,
          0.0006354507849635944,
          0.0006514177105714509,
          0.0006600864017306324,
          0.0006704944267273452,
          0.0007327564700358545,
          0.0007823408331493829
         ],
         "yaxis": "y"
        },
        {
         "hovertemplate": "Ethnicity=Austrian<br>Year=%{x}<br>Relative Word Occurrence=%{y}<extra></extra>",
         "legendgroup": "Austrian",
         "line": {
          "color": "rgb(140,140,140)",
          "dash": "solid"
         },
         "marker": {
          "symbol": "circle"
         },
         "mode": "lines",
         "name": "Austrian",
         "orientation": "v",
         "showlegend": true,
         "type": "scatter",
         "x": [
          1910,
          1911,
          1912,
          1913,
          1914,
          1915,
          1916,
          1917,
          1918,
          1919,
          1920,
          1921,
          1922,
          1923,
          1924,
          1925,
          1926,
          1927,
          1928,
          1929,
          1930,
          1931,
          1932,
          1933,
          1934,
          1935,
          1936,
          1937,
          1938,
          1939,
          1940,
          1941,
          1942,
          1943,
          1944,
          1945,
          1946,
          1947,
          1948,
          1949,
          1950,
          1951,
          1952,
          1953,
          1954,
          1955,
          1956,
          1957,
          1958,
          1959,
          1960,
          1961,
          1962,
          1963,
          1964,
          1965,
          1966,
          1967,
          1968,
          1969,
          1970,
          1971,
          1972,
          1973,
          1974,
          1975,
          1976,
          1977,
          1978,
          1979,
          1980,
          1981,
          1982,
          1983,
          1984,
          1985,
          1986,
          1987,
          1988,
          1989,
          1990,
          1991,
          1992,
          1993,
          1994,
          1995,
          1996,
          1997,
          1998,
          1999,
          2000,
          2001,
          2002,
          2003,
          2004,
          2005,
          2006,
          2007,
          2008,
          2009,
          2010,
          2011,
          2012,
          2013
         ],
         "xaxis": "x",
         "y": [
          null,
          null,
          null,
          null,
          0,
          0,
          0,
          0,
          0,
          0,
          0.0002041858090862685,
          0.0002041858090862685,
          0.00032561871740442277,
          0.0004625112567610278,
          0.000628624213571659,
          0.0006762218707044422,
          0.0008855363657332228,
          0.0009433684708599446,
          0.0008629093400812178,
          0.000748475969833894,
          0.000545628153235591,
          0.00039754127186056814,
          0.00044102096822883405,
          0.0007592196174513306,
          0.0008125131315309834,
          0.0009045052564257954,
          0.0008976994114795207,
          0.0007701814603855788,
          0.0005634352402156155,
          0.0005327839530249033,
          0.0005154502954293772,
          0.0005397144714450181,
          0.0004639033034451656,
          0.0003393028245421648,
          0.00035421692854669285,
          0.0002766951451903533,
          0.00019800920046722948,
          0.0001785936097478818,
          0.0002866371075417993,
          0.0003339332751250073,
          0.00028786094156131234,
          0.00028786094156131234,
          0.0005583505277122455,
          0.00046694227638903,
          0.0006478145292083297,
          0.0007320250555241192,
          0.0007673389073825107,
          0.000542720880864605,
          0.0004828002756664925,
          0.00023436621161919543,
          0.00018853235228987817,
          0.0002658945567695149,
          0.00025180181655334605,
          0.00036340895941048884,
          0.00031043996570091005,
          0.00047152628298754876,
          0.0003588502266495205,
          0.0003270714072326619,
          0.00029472240814979177,
          0.00034002850792323616,
          0.00017360972026309518,
          0.00023308043093808774,
          0.00023308043093808774,
          0.00016754912312812515,
          0.0001210961698714051,
          0.00015920609308197304,
          0.00011494103891120005,
          0.00015559419969445095,
          0.0001547101043709935,
          0.0001876825444942535,
          0.00022340599641228575,
          0.0002514763325511474,
          0.0002420098238807922,
          0.0002486868958497384,
          0.00030933594252384407,
          0.0002267204007054443,
          0.00019227404030818,
          0.00019145944590219396,
          0.0002017625596670455,
          0.00013024019563896607,
          0.00011346151526305318,
          0.00010463188301723622,
          0.00008137700975216139,
          0.00007041251938455135,
          0.000045312226678406056,
          0.00010395849117467402,
          0.00010395849117467402,
          0.00012340173169963866,
          0.00010943949624097264,
          0.00016753377890419007,
          0.00010140416486066479,
          0.00013743082458886363,
          0.0001220765555370468,
          0.00013107937858226489,
          0.00009885345372187397,
          0.00011011075337711915,
          0.00009573223912445789,
          0.00011828339226969588,
          0.0001252169786549235,
          0.00010418070252464921,
          0.00010382050696399085,
          0.0001256276801090573,
          0.00009187037104883666,
          0.00007103776107001647
         ],
         "yaxis": "y"
        }
       ],
       "layout": {
        "annotations": [
         {
          "showarrow": false,
          "text": "WWI",
          "x": "1914",
          "xanchor": "left",
          "xref": "x",
          "y": 1,
          "yanchor": "top",
          "yref": "y domain"
         },
         {
          "showarrow": false,
          "text": "WWII",
          "x": "1939",
          "xanchor": "left",
          "xref": "x",
          "y": 1,
          "yanchor": "top",
          "yref": "y domain"
         },
         {
          "showarrow": false,
          "text": "Fall of the Berlin Wall",
          "x": "1989",
          "xanchor": "left",
          "xref": "x",
          "y": 1,
          "yanchor": "top",
          "yref": "y domain"
         }
        ],
        "legend": {
         "title": {
          "text": "Ethnicity"
         },
         "tracegroupgap": 0
        },
        "shapes": [
         {
          "fillcolor": "rgba(255, 0, 0, 0.20)",
          "layer": "below",
          "line": {
           "width": 1
          },
          "type": "rect",
          "x0": "1914",
          "x1": "1918",
          "xref": "x",
          "y0": 0,
          "y1": 1,
          "yref": "y domain"
         },
         {
          "fillcolor": "rgba(255, 0, 0, 0.20)",
          "layer": "below",
          "line": {
           "width": 1
          },
          "type": "rect",
          "x0": "1939",
          "x1": "1945",
          "xref": "x",
          "y0": 0,
          "y1": 1,
          "yref": "y domain"
         },
         {
          "fillcolor": "rgba(255, 0, 0, 0.20)",
          "layer": "below",
          "line": {
           "width": 1
          },
          "type": "rect",
          "x0": "1989",
          "x1": "1989",
          "xref": "x",
          "y0": 0,
          "y1": 1,
          "yref": "y domain"
         }
        ],
        "template": {
         "data": {
          "bar": [
           {
            "error_x": {
             "color": "rgb(36,36,36)"
            },
            "error_y": {
             "color": "rgb(36,36,36)"
            },
            "marker": {
             "line": {
              "color": "rgb(234,234,242)",
              "width": 0.5
             },
             "pattern": {
              "fillmode": "overlay",
              "size": 10,
              "solidity": 0.2
             }
            },
            "type": "bar"
           }
          ],
          "barpolar": [
           {
            "marker": {
             "line": {
              "color": "rgb(234,234,242)",
              "width": 0.5
             },
             "pattern": {
              "fillmode": "overlay",
              "size": 10,
              "solidity": 0.2
             }
            },
            "type": "barpolar"
           }
          ],
          "carpet": [
           {
            "aaxis": {
             "endlinecolor": "rgb(36,36,36)",
             "gridcolor": "white",
             "linecolor": "white",
             "minorgridcolor": "white",
             "startlinecolor": "rgb(36,36,36)"
            },
            "baxis": {
             "endlinecolor": "rgb(36,36,36)",
             "gridcolor": "white",
             "linecolor": "white",
             "minorgridcolor": "white",
             "startlinecolor": "rgb(36,36,36)"
            },
            "type": "carpet"
           }
          ],
          "choropleth": [
           {
            "colorbar": {
             "outlinewidth": 0,
             "tickcolor": "rgb(36,36,36)",
             "ticklen": 8,
             "ticks": "outside",
             "tickwidth": 2
            },
            "type": "choropleth"
           }
          ],
          "contour": [
           {
            "colorbar": {
             "outlinewidth": 0,
             "tickcolor": "rgb(36,36,36)",
             "ticklen": 8,
             "ticks": "outside",
             "tickwidth": 2
            },
            "colorscale": [
             [
              0,
              "rgb(2,4,25)"
             ],
             [
              0.06274509803921569,
              "rgb(24,15,41)"
             ],
             [
              0.12549019607843137,
              "rgb(47,23,57)"
             ],
             [
              0.18823529411764706,
              "rgb(71,28,72)"
             ],
             [
              0.25098039215686274,
              "rgb(97,30,82)"
             ],
             [
              0.3137254901960784,
              "rgb(123,30,89)"
             ],
             [
              0.3764705882352941,
              "rgb(150,27,91)"
             ],
             [
              0.4392156862745098,
              "rgb(177,22,88)"
             ],
             [
              0.5019607843137255,
              "rgb(203,26,79)"
             ],
             [
              0.5647058823529412,
              "rgb(223,47,67)"
             ],
             [
              0.6274509803921569,
              "rgb(236,76,61)"
             ],
             [
              0.6901960784313725,
              "rgb(242,107,73)"
             ],
             [
              0.7529411764705882,
              "rgb(244,135,95)"
             ],
             [
              0.8156862745098039,
              "rgb(245,162,122)"
             ],
             [
              0.8784313725490196,
              "rgb(246,188,153)"
             ],
             [
              0.9411764705882353,
              "rgb(247,212,187)"
             ],
             [
              1,
              "rgb(250,234,220)"
             ]
            ],
            "type": "contour"
           }
          ],
          "contourcarpet": [
           {
            "colorbar": {
             "outlinewidth": 0,
             "tickcolor": "rgb(36,36,36)",
             "ticklen": 8,
             "ticks": "outside",
             "tickwidth": 2
            },
            "type": "contourcarpet"
           }
          ],
          "heatmap": [
           {
            "colorbar": {
             "outlinewidth": 0,
             "tickcolor": "rgb(36,36,36)",
             "ticklen": 8,
             "ticks": "outside",
             "tickwidth": 2
            },
            "colorscale": [
             [
              0,
              "rgb(2,4,25)"
             ],
             [
              0.06274509803921569,
              "rgb(24,15,41)"
             ],
             [
              0.12549019607843137,
              "rgb(47,23,57)"
             ],
             [
              0.18823529411764706,
              "rgb(71,28,72)"
             ],
             [
              0.25098039215686274,
              "rgb(97,30,82)"
             ],
             [
              0.3137254901960784,
              "rgb(123,30,89)"
             ],
             [
              0.3764705882352941,
              "rgb(150,27,91)"
             ],
             [
              0.4392156862745098,
              "rgb(177,22,88)"
             ],
             [
              0.5019607843137255,
              "rgb(203,26,79)"
             ],
             [
              0.5647058823529412,
              "rgb(223,47,67)"
             ],
             [
              0.6274509803921569,
              "rgb(236,76,61)"
             ],
             [
              0.6901960784313725,
              "rgb(242,107,73)"
             ],
             [
              0.7529411764705882,
              "rgb(244,135,95)"
             ],
             [
              0.8156862745098039,
              "rgb(245,162,122)"
             ],
             [
              0.8784313725490196,
              "rgb(246,188,153)"
             ],
             [
              0.9411764705882353,
              "rgb(247,212,187)"
             ],
             [
              1,
              "rgb(250,234,220)"
             ]
            ],
            "type": "heatmap"
           }
          ],
          "heatmapgl": [
           {
            "colorbar": {
             "outlinewidth": 0,
             "tickcolor": "rgb(36,36,36)",
             "ticklen": 8,
             "ticks": "outside",
             "tickwidth": 2
            },
            "colorscale": [
             [
              0,
              "rgb(2,4,25)"
             ],
             [
              0.06274509803921569,
              "rgb(24,15,41)"
             ],
             [
              0.12549019607843137,
              "rgb(47,23,57)"
             ],
             [
              0.18823529411764706,
              "rgb(71,28,72)"
             ],
             [
              0.25098039215686274,
              "rgb(97,30,82)"
             ],
             [
              0.3137254901960784,
              "rgb(123,30,89)"
             ],
             [
              0.3764705882352941,
              "rgb(150,27,91)"
             ],
             [
              0.4392156862745098,
              "rgb(177,22,88)"
             ],
             [
              0.5019607843137255,
              "rgb(203,26,79)"
             ],
             [
              0.5647058823529412,
              "rgb(223,47,67)"
             ],
             [
              0.6274509803921569,
              "rgb(236,76,61)"
             ],
             [
              0.6901960784313725,
              "rgb(242,107,73)"
             ],
             [
              0.7529411764705882,
              "rgb(244,135,95)"
             ],
             [
              0.8156862745098039,
              "rgb(245,162,122)"
             ],
             [
              0.8784313725490196,
              "rgb(246,188,153)"
             ],
             [
              0.9411764705882353,
              "rgb(247,212,187)"
             ],
             [
              1,
              "rgb(250,234,220)"
             ]
            ],
            "type": "heatmapgl"
           }
          ],
          "histogram": [
           {
            "marker": {
             "pattern": {
              "fillmode": "overlay",
              "size": 10,
              "solidity": 0.2
             }
            },
            "type": "histogram"
           }
          ],
          "histogram2d": [
           {
            "colorbar": {
             "outlinewidth": 0,
             "tickcolor": "rgb(36,36,36)",
             "ticklen": 8,
             "ticks": "outside",
             "tickwidth": 2
            },
            "colorscale": [
             [
              0,
              "rgb(2,4,25)"
             ],
             [
              0.06274509803921569,
              "rgb(24,15,41)"
             ],
             [
              0.12549019607843137,
              "rgb(47,23,57)"
             ],
             [
              0.18823529411764706,
              "rgb(71,28,72)"
             ],
             [
              0.25098039215686274,
              "rgb(97,30,82)"
             ],
             [
              0.3137254901960784,
              "rgb(123,30,89)"
             ],
             [
              0.3764705882352941,
              "rgb(150,27,91)"
             ],
             [
              0.4392156862745098,
              "rgb(177,22,88)"
             ],
             [
              0.5019607843137255,
              "rgb(203,26,79)"
             ],
             [
              0.5647058823529412,
              "rgb(223,47,67)"
             ],
             [
              0.6274509803921569,
              "rgb(236,76,61)"
             ],
             [
              0.6901960784313725,
              "rgb(242,107,73)"
             ],
             [
              0.7529411764705882,
              "rgb(244,135,95)"
             ],
             [
              0.8156862745098039,
              "rgb(245,162,122)"
             ],
             [
              0.8784313725490196,
              "rgb(246,188,153)"
             ],
             [
              0.9411764705882353,
              "rgb(247,212,187)"
             ],
             [
              1,
              "rgb(250,234,220)"
             ]
            ],
            "type": "histogram2d"
           }
          ],
          "histogram2dcontour": [
           {
            "colorbar": {
             "outlinewidth": 0,
             "tickcolor": "rgb(36,36,36)",
             "ticklen": 8,
             "ticks": "outside",
             "tickwidth": 2
            },
            "colorscale": [
             [
              0,
              "rgb(2,4,25)"
             ],
             [
              0.06274509803921569,
              "rgb(24,15,41)"
             ],
             [
              0.12549019607843137,
              "rgb(47,23,57)"
             ],
             [
              0.18823529411764706,
              "rgb(71,28,72)"
             ],
             [
              0.25098039215686274,
              "rgb(97,30,82)"
             ],
             [
              0.3137254901960784,
              "rgb(123,30,89)"
             ],
             [
              0.3764705882352941,
              "rgb(150,27,91)"
             ],
             [
              0.4392156862745098,
              "rgb(177,22,88)"
             ],
             [
              0.5019607843137255,
              "rgb(203,26,79)"
             ],
             [
              0.5647058823529412,
              "rgb(223,47,67)"
             ],
             [
              0.6274509803921569,
              "rgb(236,76,61)"
             ],
             [
              0.6901960784313725,
              "rgb(242,107,73)"
             ],
             [
              0.7529411764705882,
              "rgb(244,135,95)"
             ],
             [
              0.8156862745098039,
              "rgb(245,162,122)"
             ],
             [
              0.8784313725490196,
              "rgb(246,188,153)"
             ],
             [
              0.9411764705882353,
              "rgb(247,212,187)"
             ],
             [
              1,
              "rgb(250,234,220)"
             ]
            ],
            "type": "histogram2dcontour"
           }
          ],
          "mesh3d": [
           {
            "colorbar": {
             "outlinewidth": 0,
             "tickcolor": "rgb(36,36,36)",
             "ticklen": 8,
             "ticks": "outside",
             "tickwidth": 2
            },
            "type": "mesh3d"
           }
          ],
          "parcoords": [
           {
            "line": {
             "colorbar": {
              "outlinewidth": 0,
              "tickcolor": "rgb(36,36,36)",
              "ticklen": 8,
              "ticks": "outside",
              "tickwidth": 2
             }
            },
            "type": "parcoords"
           }
          ],
          "pie": [
           {
            "automargin": true,
            "type": "pie"
           }
          ],
          "scatter": [
           {
            "fillpattern": {
             "fillmode": "overlay",
             "size": 10,
             "solidity": 0.2
            },
            "type": "scatter"
           }
          ],
          "scatter3d": [
           {
            "line": {
             "colorbar": {
              "outlinewidth": 0,
              "tickcolor": "rgb(36,36,36)",
              "ticklen": 8,
              "ticks": "outside",
              "tickwidth": 2
             }
            },
            "marker": {
             "colorbar": {
              "outlinewidth": 0,
              "tickcolor": "rgb(36,36,36)",
              "ticklen": 8,
              "ticks": "outside",
              "tickwidth": 2
             }
            },
            "type": "scatter3d"
           }
          ],
          "scattercarpet": [
           {
            "marker": {
             "colorbar": {
              "outlinewidth": 0,
              "tickcolor": "rgb(36,36,36)",
              "ticklen": 8,
              "ticks": "outside",
              "tickwidth": 2
             }
            },
            "type": "scattercarpet"
           }
          ],
          "scattergeo": [
           {
            "marker": {
             "colorbar": {
              "outlinewidth": 0,
              "tickcolor": "rgb(36,36,36)",
              "ticklen": 8,
              "ticks": "outside",
              "tickwidth": 2
             }
            },
            "type": "scattergeo"
           }
          ],
          "scattergl": [
           {
            "marker": {
             "colorbar": {
              "outlinewidth": 0,
              "tickcolor": "rgb(36,36,36)",
              "ticklen": 8,
              "ticks": "outside",
              "tickwidth": 2
             }
            },
            "type": "scattergl"
           }
          ],
          "scattermapbox": [
           {
            "marker": {
             "colorbar": {
              "outlinewidth": 0,
              "tickcolor": "rgb(36,36,36)",
              "ticklen": 8,
              "ticks": "outside",
              "tickwidth": 2
             }
            },
            "type": "scattermapbox"
           }
          ],
          "scatterpolar": [
           {
            "marker": {
             "colorbar": {
              "outlinewidth": 0,
              "tickcolor": "rgb(36,36,36)",
              "ticklen": 8,
              "ticks": "outside",
              "tickwidth": 2
             }
            },
            "type": "scatterpolar"
           }
          ],
          "scatterpolargl": [
           {
            "marker": {
             "colorbar": {
              "outlinewidth": 0,
              "tickcolor": "rgb(36,36,36)",
              "ticklen": 8,
              "ticks": "outside",
              "tickwidth": 2
             }
            },
            "type": "scatterpolargl"
           }
          ],
          "scatterternary": [
           {
            "marker": {
             "colorbar": {
              "outlinewidth": 0,
              "tickcolor": "rgb(36,36,36)",
              "ticklen": 8,
              "ticks": "outside",
              "tickwidth": 2
             }
            },
            "type": "scatterternary"
           }
          ],
          "surface": [
           {
            "colorbar": {
             "outlinewidth": 0,
             "tickcolor": "rgb(36,36,36)",
             "ticklen": 8,
             "ticks": "outside",
             "tickwidth": 2
            },
            "colorscale": [
             [
              0,
              "rgb(2,4,25)"
             ],
             [
              0.06274509803921569,
              "rgb(24,15,41)"
             ],
             [
              0.12549019607843137,
              "rgb(47,23,57)"
             ],
             [
              0.18823529411764706,
              "rgb(71,28,72)"
             ],
             [
              0.25098039215686274,
              "rgb(97,30,82)"
             ],
             [
              0.3137254901960784,
              "rgb(123,30,89)"
             ],
             [
              0.3764705882352941,
              "rgb(150,27,91)"
             ],
             [
              0.4392156862745098,
              "rgb(177,22,88)"
             ],
             [
              0.5019607843137255,
              "rgb(203,26,79)"
             ],
             [
              0.5647058823529412,
              "rgb(223,47,67)"
             ],
             [
              0.6274509803921569,
              "rgb(236,76,61)"
             ],
             [
              0.6901960784313725,
              "rgb(242,107,73)"
             ],
             [
              0.7529411764705882,
              "rgb(244,135,95)"
             ],
             [
              0.8156862745098039,
              "rgb(245,162,122)"
             ],
             [
              0.8784313725490196,
              "rgb(246,188,153)"
             ],
             [
              0.9411764705882353,
              "rgb(247,212,187)"
             ],
             [
              1,
              "rgb(250,234,220)"
             ]
            ],
            "type": "surface"
           }
          ],
          "table": [
           {
            "cells": {
             "fill": {
              "color": "rgb(231,231,240)"
             },
             "line": {
              "color": "white"
             }
            },
            "header": {
             "fill": {
              "color": "rgb(183,183,191)"
             },
             "line": {
              "color": "white"
             }
            },
            "type": "table"
           }
          ]
         },
         "layout": {
          "annotationdefaults": {
           "arrowcolor": "rgb(67,103,167)"
          },
          "autotypenumbers": "strict",
          "coloraxis": {
           "colorbar": {
            "outlinewidth": 0,
            "tickcolor": "rgb(36,36,36)",
            "ticklen": 8,
            "ticks": "outside",
            "tickwidth": 2
           }
          },
          "colorscale": {
           "sequential": [
            [
             0,
             "rgb(2,4,25)"
            ],
            [
             0.06274509803921569,
             "rgb(24,15,41)"
            ],
            [
             0.12549019607843137,
             "rgb(47,23,57)"
            ],
            [
             0.18823529411764706,
             "rgb(71,28,72)"
            ],
            [
             0.25098039215686274,
             "rgb(97,30,82)"
            ],
            [
             0.3137254901960784,
             "rgb(123,30,89)"
            ],
            [
             0.3764705882352941,
             "rgb(150,27,91)"
            ],
            [
             0.4392156862745098,
             "rgb(177,22,88)"
            ],
            [
             0.5019607843137255,
             "rgb(203,26,79)"
            ],
            [
             0.5647058823529412,
             "rgb(223,47,67)"
            ],
            [
             0.6274509803921569,
             "rgb(236,76,61)"
            ],
            [
             0.6901960784313725,
             "rgb(242,107,73)"
            ],
            [
             0.7529411764705882,
             "rgb(244,135,95)"
            ],
            [
             0.8156862745098039,
             "rgb(245,162,122)"
            ],
            [
             0.8784313725490196,
             "rgb(246,188,153)"
            ],
            [
             0.9411764705882353,
             "rgb(247,212,187)"
            ],
            [
             1,
             "rgb(250,234,220)"
            ]
           ],
           "sequentialminus": [
            [
             0,
             "rgb(2,4,25)"
            ],
            [
             0.06274509803921569,
             "rgb(24,15,41)"
            ],
            [
             0.12549019607843137,
             "rgb(47,23,57)"
            ],
            [
             0.18823529411764706,
             "rgb(71,28,72)"
            ],
            [
             0.25098039215686274,
             "rgb(97,30,82)"
            ],
            [
             0.3137254901960784,
             "rgb(123,30,89)"
            ],
            [
             0.3764705882352941,
             "rgb(150,27,91)"
            ],
            [
             0.4392156862745098,
             "rgb(177,22,88)"
            ],
            [
             0.5019607843137255,
             "rgb(203,26,79)"
            ],
            [
             0.5647058823529412,
             "rgb(223,47,67)"
            ],
            [
             0.6274509803921569,
             "rgb(236,76,61)"
            ],
            [
             0.6901960784313725,
             "rgb(242,107,73)"
            ],
            [
             0.7529411764705882,
             "rgb(244,135,95)"
            ],
            [
             0.8156862745098039,
             "rgb(245,162,122)"
            ],
            [
             0.8784313725490196,
             "rgb(246,188,153)"
            ],
            [
             0.9411764705882353,
             "rgb(247,212,187)"
            ],
            [
             1,
             "rgb(250,234,220)"
            ]
           ]
          },
          "colorway": [
           "rgb(76,114,176)",
           "rgb(221,132,82)",
           "rgb(85,168,104)",
           "rgb(196,78,82)",
           "rgb(129,114,179)",
           "rgb(147,120,96)",
           "rgb(218,139,195)",
           "rgb(140,140,140)",
           "rgb(204,185,116)",
           "rgb(100,181,205)"
          ],
          "font": {
           "color": "rgb(36,36,36)"
          },
          "geo": {
           "bgcolor": "white",
           "lakecolor": "white",
           "landcolor": "rgb(234,234,242)",
           "showlakes": true,
           "showland": true,
           "subunitcolor": "white"
          },
          "hoverlabel": {
           "align": "left"
          },
          "hovermode": "closest",
          "paper_bgcolor": "white",
          "plot_bgcolor": "rgb(234,234,242)",
          "polar": {
           "angularaxis": {
            "gridcolor": "white",
            "linecolor": "white",
            "showgrid": true,
            "ticks": ""
           },
           "bgcolor": "rgb(234,234,242)",
           "radialaxis": {
            "gridcolor": "white",
            "linecolor": "white",
            "showgrid": true,
            "ticks": ""
           }
          },
          "scene": {
           "xaxis": {
            "backgroundcolor": "rgb(234,234,242)",
            "gridcolor": "white",
            "gridwidth": 2,
            "linecolor": "white",
            "showbackground": true,
            "showgrid": true,
            "ticks": "",
            "zerolinecolor": "white"
           },
           "yaxis": {
            "backgroundcolor": "rgb(234,234,242)",
            "gridcolor": "white",
            "gridwidth": 2,
            "linecolor": "white",
            "showbackground": true,
            "showgrid": true,
            "ticks": "",
            "zerolinecolor": "white"
           },
           "zaxis": {
            "backgroundcolor": "rgb(234,234,242)",
            "gridcolor": "white",
            "gridwidth": 2,
            "linecolor": "white",
            "showbackground": true,
            "showgrid": true,
            "ticks": "",
            "zerolinecolor": "white"
           }
          },
          "shapedefaults": {
           "fillcolor": "rgb(67,103,167)",
           "line": {
            "width": 0
           },
           "opacity": 0.5
          },
          "ternary": {
           "aaxis": {
            "gridcolor": "white",
            "linecolor": "white",
            "showgrid": true,
            "ticks": ""
           },
           "baxis": {
            "gridcolor": "white",
            "linecolor": "white",
            "showgrid": true,
            "ticks": ""
           },
           "bgcolor": "rgb(234,234,242)",
           "caxis": {
            "gridcolor": "white",
            "linecolor": "white",
            "showgrid": true,
            "ticks": ""
           }
          },
          "xaxis": {
           "automargin": true,
           "gridcolor": "white",
           "linecolor": "white",
           "showgrid": true,
           "ticks": "",
           "title": {
            "standoff": 15
           },
           "zerolinecolor": "white"
          },
          "yaxis": {
           "automargin": true,
           "gridcolor": "white",
           "linecolor": "white",
           "showgrid": true,
           "ticks": "",
           "title": {
            "standoff": 15
           },
           "zerolinecolor": "white"
          }
         }
        },
        "title": {
         "text": "Moving Average of Relative Occurrences of Ethnicity-related Words Over 5 Years"
        },
        "xaxis": {
         "anchor": "y",
         "domain": [
          0,
          1
         ],
         "title": {
          "text": "Year"
         }
        },
        "yaxis": {
         "anchor": "x",
         "domain": [
          0,
          1
         ],
         "title": {
          "text": "Relative Word Occurrence"
         }
        }
       }
      }
     },
     "metadata": {},
     "output_type": "display_data"
    }
   ],
   "source": [
    "ethnicities=['German','Nazi','Japanese','French','Spanish','American','Italian','Austrian']\n",
    "fig = plot_relative_occurrences(df_sum, ethmerged, ethnicities,[\n",
    "    ('1914', '1918', 'WWI'),\n",
    "    ('1939', '1945', 'WWII'),\n",
    "    ('1989', '1989', 'Fall of the Berlin Wall')\n",
    "])\n",
    "fig.show()\n",
    "\n",
    "#fig_json = fig.to_json()\n",
    "\n",
    "#with open('figures/ethnicity-representation1.json', 'w') as json_file:\n",
    "#   json.dump(json.loads(fig_json), json_file, indent=4)\n"
   ]
  },
  {
   "cell_type": "code",
   "execution_count": 18,
   "metadata": {},
   "outputs": [
    {
     "data": {
      "application/vnd.plotly.v1+json": {
       "config": {
        "plotlyServerURL": "https://plot.ly"
       },
       "data": [
        {
         "hovertemplate": "Ethnicity=French<br>Year=%{x}<br>Relative Word Occurrence=%{y}<extra></extra>",
         "legendgroup": "French",
         "line": {
          "color": "rgb(76,114,176)",
          "dash": "solid"
         },
         "marker": {
          "symbol": "circle"
         },
         "mode": "lines",
         "name": "French",
         "orientation": "v",
         "showlegend": true,
         "type": "scatter",
         "x": [
          1910,
          1911,
          1912,
          1913,
          1914,
          1915,
          1916,
          1917,
          1918,
          1919,
          1920,
          1921,
          1922,
          1923,
          1924,
          1925,
          1926,
          1927,
          1928,
          1929,
          1930,
          1931,
          1932,
          1933,
          1934,
          1935,
          1936,
          1937,
          1938,
          1939,
          1940,
          1941,
          1942,
          1943,
          1944,
          1945,
          1946,
          1947,
          1948,
          1949,
          1950,
          1951,
          1952,
          1953,
          1954,
          1955,
          1956,
          1957,
          1958,
          1959,
          1960,
          1961,
          1962,
          1963,
          1964,
          1965,
          1966,
          1967,
          1968,
          1969,
          1970,
          1971,
          1972,
          1973,
          1974,
          1975,
          1976,
          1977,
          1978,
          1979,
          1980,
          1981,
          1982,
          1983,
          1984,
          1985,
          1986,
          1987,
          1988,
          1989,
          1990,
          1991,
          1992,
          1993,
          1994,
          1995,
          1996,
          1997,
          1998,
          1999,
          2000,
          2001,
          2002,
          2003,
          2004,
          2005,
          2006,
          2007,
          2008,
          2009,
          2010,
          2011,
          2012,
          2013
         ],
         "xaxis": "x",
         "y": [
          null,
          null,
          null,
          null,
          0.0011439087997369094,
          0.0019991317685823583,
          0.001966634993516128,
          0.003965650149968664,
          0.004334289713919635,
          0.004948163255969972,
          0.0048075906189264635,
          0.006760371128860976,
          0.004306141509812638,
          0.005606778708226201,
          0.005657356993418388,
          0.006369479636857742,
          0.005506473140285281,
          0.008072092534285364,
          0.007622865606317723,
          0.007423530058144966,
          0.007171212673801643,
          0.007078650363050358,
          0.004789902808644631,
          0.003831063406920309,
          0.004599381060405324,
          0.004528859703212581,
          0.004317915996172135,
          0.00477425261681327,
          0.005369073185655465,
          0.004878857387623165,
          0.004096267857910028,
          0.003438959198240791,
          0.0029676902800720283,
          0.002254008718476019,
          0.0029608742426261527,
          0.0033075783753076403,
          0.003378225941184247,
          0.0031418769583201347,
          0.003149546978141927,
          0.002538160413286358,
          0.002282270257705001,
          0.002885448761678447,
          0.0029055146110671826,
          0.0033022243815736874,
          0.0032570381324048504,
          0.0035185636618389462,
          0.003220628484586616,
          0.0038342469321418294,
          0.004269807109988149,
          0.003945294127261452,
          0.003751318254066038,
          0.003549838636831718,
          0.003315053171802876,
          0.0025691759274625164,
          0.0028042343900469653,
          0.003352527587046711,
          0.0038675836697676857,
          0.003911037393482401,
          0.003791993902463104,
          0.004252777795598342,
          0.0039021822918335752,
          0.0036015558137998975,
          0.003109535341239942,
          0.003266567646522076,
          0.0026364867871696476,
          0.0025425445391567755,
          0.0022387727789998503,
          0.002738190160595157,
          0.002717437278944626,
          0.00273268688819337,
          0.002427104792168442,
          0.0025770942894406982,
          0.0023162926799257357,
          0.0021765423282137587,
          0.00205057556766801,
          0.0021932357331415457,
          0.0018308678359343228,
          0.0016392191098806453,
          0.00157633184034587,
          0.0012705409913970442,
          0.0011119163735494341,
          0.001672666109852019,
          0.0017841213803338044,
          0.0017939132380356275,
          0.0020371862088020276,
          0.0022562116222372953,
          0.0019128416970613463,
          0.0018809164462124945,
          0.0019547989675373747,
          0.0020279486332321563,
          0.0018459078461986653,
          0.0018970879013319158,
          0.0019029285954329782,
          0.001979692731248325,
          0.0019002306064788937,
          0.0018658752878213717,
          0.0017903548334832567,
          0.0018202039599220052,
          0.001643933783268569,
          0.0015985924829806397,
          0.0016582347878963365,
          0.0015892037883280987,
          0.0014903822170266195,
          0.0015525151921802179
         ],
         "yaxis": "y"
        },
        {
         "hovertemplate": "Ethnicity=Spanish<br>Year=%{x}<br>Relative Word Occurrence=%{y}<extra></extra>",
         "legendgroup": "Spanish",
         "line": {
          "color": "rgb(221,132,82)",
          "dash": "solid"
         },
         "marker": {
          "symbol": "circle"
         },
         "mode": "lines",
         "name": "Spanish",
         "orientation": "v",
         "showlegend": true,
         "type": "scatter",
         "x": [
          1910,
          1911,
          1912,
          1913,
          1914,
          1915,
          1916,
          1917,
          1918,
          1919,
          1920,
          1921,
          1922,
          1923,
          1924,
          1925,
          1926,
          1927,
          1928,
          1929,
          1930,
          1931,
          1932,
          1933,
          1934,
          1935,
          1936,
          1937,
          1938,
          1939,
          1940,
          1941,
          1942,
          1943,
          1944,
          1945,
          1946,
          1947,
          1948,
          1949,
          1950,
          1951,
          1952,
          1953,
          1954,
          1955,
          1956,
          1957,
          1958,
          1959,
          1960,
          1961,
          1962,
          1963,
          1964,
          1965,
          1966,
          1967,
          1968,
          1969,
          1970,
          1971,
          1972,
          1973,
          1974,
          1975,
          1976,
          1977,
          1978,
          1979,
          1980,
          1981,
          1982,
          1983,
          1984,
          1985,
          1986,
          1987,
          1988,
          1989,
          1990,
          1991,
          1992,
          1993,
          1994,
          1995,
          1996,
          1997,
          1998,
          1999,
          2000,
          2001,
          2002,
          2003,
          2004,
          2005,
          2006,
          2007,
          2008,
          2009,
          2010,
          2011,
          2012,
          2013
         ],
         "xaxis": "x",
         "y": [
          null,
          null,
          null,
          null,
          0.0007416563658838072,
          0.0007416563658838072,
          0.0007416563658838072,
          0.0007416563658838072,
          0,
          0,
          0.00010209290454313425,
          0.00033752551195926137,
          0.0004589584202774156,
          0.0005958509596340207,
          0.0006789074380393362,
          0.0009125258217882709,
          0.001305036699458486,
          0.0013031138001035824,
          0.0011662212607469774,
          0.0010831647823416617,
          0.0009431960925325878,
          0.00034586641427312444,
          0.0002511058175113341,
          0.00041166241371149456,
          0.0004641489640329747,
          0.0005502619145811014,
          0.0007101242982304129,
          0.0009710551621865529,
          0.0009064333303466275,
          0.0009778164691122279,
          0.0011408997409932307,
          0.0010881239537825068,
          0.001054846356976426,
          0.0011104103481621276,
          0.0010757765765318237,
          0.0006999462559652414,
          0.0006597711483233271,
          0.0005415966568912709,
          0.0005225106508014961,
          0.0004527793169218605,
          0.0005897501571224282,
          0.0006278706322575233,
          0.0005657730006449757,
          0.00047830070508739827,
          0.0005822311417888681,
          0.00047720443282170513,
          0.0004121863657798407,
          0.0006764472467817936,
          0.0006970805633750125,
          0.0009460850216811321,
          0.0009601623910616014,
          0.0010022107436828465,
          0.0006817087160824075,
          0.0008207480408286994,
          0.000656325203575276,
          0.0006332550415111413,
          0.0006436464415226246,
          0.0007513759764174558,
          0.0007686856837473245,
          0.0006526301122297967,
          0.0005605702733345148,
          0.00046723817232249945,
          0.0005760819653098312,
          0.0005188811943135901,
          0.0005606099640720037,
          0.0007313798516484944,
          0.0008232897483447547,
          0.0007263375466983322,
          0.0006515146996125788,
          0.0005656517267827788,
          0.0005124471681220152,
          0.0005530868884998134,
          0.0005007407581900322,
          0.00044988119892366076,
          0.0005894218189915832,
          0.0005203805499221966,
          0.00048171042895207947,
          0.00047447616758496505,
          0.00045034800555269247,
          0.0003073247780084799,
          0.00034860091272922766,
          0.0003257378244436454,
          0.0004063857378967371,
          0.0005360556174300556,
          0.0006517303233746448,
          0.0007242482723689368,
          0.0007110289691669811,
          0.000671316781300533,
          0.0007127910594181188,
          0.0006576934032256635,
          0.0006253325903407111,
          0.0006218623364192755,
          0.0005946457138852189,
          0.0004954589905069428,
          0.00047855478195393976,
          0.0005005709966233219,
          0.0005512083624386475,
          0.0006448130785885556,
          0.0006574777621385208,
          0.0006695726918022414,
          0.0006020517031894793,
          0.0005542627685828979,
          0.0004356690449438365,
          0.0003361354639339179
         ],
         "yaxis": "y"
        },
        {
         "hovertemplate": "Ethnicity=American<br>Year=%{x}<br>Relative Word Occurrence=%{y}<extra></extra>",
         "legendgroup": "American",
         "line": {
          "color": "rgb(85,168,104)",
          "dash": "solid"
         },
         "marker": {
          "symbol": "circle"
         },
         "mode": "lines",
         "name": "American",
         "orientation": "v",
         "showlegend": true,
         "type": "scatter",
         "x": [
          1910,
          1911,
          1912,
          1913,
          1914,
          1915,
          1916,
          1917,
          1918,
          1919,
          1920,
          1921,
          1922,
          1923,
          1924,
          1925,
          1926,
          1927,
          1928,
          1929,
          1930,
          1931,
          1932,
          1933,
          1934,
          1935,
          1936,
          1937,
          1938,
          1939,
          1940,
          1941,
          1942,
          1943,
          1944,
          1945,
          1946,
          1947,
          1948,
          1949,
          1950,
          1951,
          1952,
          1953,
          1954,
          1955,
          1956,
          1957,
          1958,
          1959,
          1960,
          1961,
          1962,
          1963,
          1964,
          1965,
          1966,
          1967,
          1968,
          1969,
          1970,
          1971,
          1972,
          1973,
          1974,
          1975,
          1976,
          1977,
          1978,
          1979,
          1980,
          1981,
          1982,
          1983,
          1984,
          1985,
          1986,
          1987,
          1988,
          1989,
          1990,
          1991,
          1992,
          1993,
          1994,
          1995,
          1996,
          1997,
          1998,
          1999,
          2000,
          2001,
          2002,
          2003,
          2004,
          2005,
          2006,
          2007,
          2008,
          2009,
          2010,
          2011,
          2012,
          2013
         ],
         "xaxis": "x",
         "y": [
          null,
          null,
          null,
          null,
          0.0024507090359199317,
          0.0024691119210833723,
          0.0032346831550040672,
          0.003781416153780254,
          0.004150055717731225,
          0.0046153335475674784,
          0.004270575101437701,
          0.0034609333148874722,
          0.0030661503951062534,
          0.002450292042527347,
          0.0029594909681466756,
          0.0028686655557960904,
          0.0031434601297582417,
          0.0028312248118657905,
          0.003282692080488815,
          0.0024502815969155408,
          0.002422127683516445,
          0.002375846528140802,
          0.0025062856172455997,
          0.0027773230315232974,
          0.0026788056409457186,
          0.002757079692364931,
          0.0027196350497290618,
          0.0025989547829250365,
          0.0022122217752851363,
          0.0025414248566090736,
          0.0027885114863600716,
          0.002932795815612575,
          0.0032783591260671665,
          0.0038515799840819634,
          0.0038544180023907734,
          0.003782584794146303,
          0.003703615875466172,
          0.0031684405368280822,
          0.0029025956437681057,
          0.0030553231688692432,
          0.002977028685479316,
          0.0031619922451327637,
          0.0033630622220594568,
          0.0033640610877235222,
          0.0032520825597558726,
          0.0033927327943067006,
          0.003163257766740315,
          0.00359812974741065,
          0.003790048815301432,
          0.004150687578548519,
          0.003923027494826791,
          0.003921386146782667,
          0.003737862249863634,
          0.0036086419141883805,
          0.0032323475165473223,
          0.0036885808746517854,
          0.0038482218990150254,
          0.003655956726901431,
          0.0035356217527358117,
          0.003354027027441488,
          0.0031946239524109133,
          0.0028730299434137326,
          0.0027472092529422136,
          0.0026823187556563838,
          0.002667201368461803,
          0.0024883573545747295,
          0.0025735110656535556,
          0.002663932337668702,
          0.0027073931592224345,
          0.002865757491746896,
          0.0027810752295887144,
          0.0027164351497237305,
          0.0024663974677013546,
          0.0024283518199684053,
          0.002356748296062649,
          0.0024664613863978153,
          0.002671424347580778,
          0.0028854637637675973,
          0.0030369003983263245,
          0.003088226857743131,
          0.002959402493167414,
          0.0029060086401400467,
          0.0027578739301584226,
          0.002550863255311136,
          0.002310811920954998,
          0.002303865281520154,
          0.002168017544864014,
          0.0022209824405568556,
          0.0020677745760251834,
          0.0021040897209857307,
          0.0020373306594887062,
          0.0020119734654974845,
          0.0019638678540012684,
          0.0020035146758919367,
          0.0019427468794269505,
          0.0018630848248110006,
          0.0019222282204999878,
          0.001926305552644705,
          0.0018693211725815436,
          0.001832650427806106,
          0.0018054088559543112,
          0.0017902412000033903,
          0.0016296268070001827,
          0.0016732419066170523
         ],
         "yaxis": "y"
        }
       ],
       "layout": {
        "annotations": [
         {
          "showarrow": false,
          "text": "WWI",
          "x": "1914",
          "xanchor": "left",
          "xref": "x",
          "y": 1,
          "yanchor": "top",
          "yref": "y domain"
         },
         {
          "showarrow": false,
          "text": "WWII",
          "x": "1939",
          "xanchor": "left",
          "xref": "x",
          "y": 1,
          "yanchor": "top",
          "yref": "y domain"
         },
         {
          "showarrow": false,
          "text": "Fall of the Berlin Wall",
          "x": "1989",
          "xanchor": "left",
          "xref": "x",
          "y": 1,
          "yanchor": "top",
          "yref": "y domain"
         }
        ],
        "legend": {
         "title": {
          "text": "Ethnicity"
         },
         "tracegroupgap": 0
        },
        "shapes": [
         {
          "fillcolor": "rgba(255, 0, 0, 0.20)",
          "layer": "below",
          "line": {
           "width": 1
          },
          "type": "rect",
          "x0": "1914",
          "x1": "1918",
          "xref": "x",
          "y0": 0,
          "y1": 1,
          "yref": "y domain"
         },
         {
          "fillcolor": "rgba(255, 0, 0, 0.20)",
          "layer": "below",
          "line": {
           "width": 1
          },
          "type": "rect",
          "x0": "1939",
          "x1": "1945",
          "xref": "x",
          "y0": 0,
          "y1": 1,
          "yref": "y domain"
         },
         {
          "fillcolor": "rgba(255, 0, 0, 0.20)",
          "layer": "below",
          "line": {
           "width": 1
          },
          "type": "rect",
          "x0": "1989",
          "x1": "1989",
          "xref": "x",
          "y0": 0,
          "y1": 1,
          "yref": "y domain"
         }
        ],
        "template": {
         "data": {
          "bar": [
           {
            "error_x": {
             "color": "rgb(36,36,36)"
            },
            "error_y": {
             "color": "rgb(36,36,36)"
            },
            "marker": {
             "line": {
              "color": "rgb(234,234,242)",
              "width": 0.5
             },
             "pattern": {
              "fillmode": "overlay",
              "size": 10,
              "solidity": 0.2
             }
            },
            "type": "bar"
           }
          ],
          "barpolar": [
           {
            "marker": {
             "line": {
              "color": "rgb(234,234,242)",
              "width": 0.5
             },
             "pattern": {
              "fillmode": "overlay",
              "size": 10,
              "solidity": 0.2
             }
            },
            "type": "barpolar"
           }
          ],
          "carpet": [
           {
            "aaxis": {
             "endlinecolor": "rgb(36,36,36)",
             "gridcolor": "white",
             "linecolor": "white",
             "minorgridcolor": "white",
             "startlinecolor": "rgb(36,36,36)"
            },
            "baxis": {
             "endlinecolor": "rgb(36,36,36)",
             "gridcolor": "white",
             "linecolor": "white",
             "minorgridcolor": "white",
             "startlinecolor": "rgb(36,36,36)"
            },
            "type": "carpet"
           }
          ],
          "choropleth": [
           {
            "colorbar": {
             "outlinewidth": 0,
             "tickcolor": "rgb(36,36,36)",
             "ticklen": 8,
             "ticks": "outside",
             "tickwidth": 2
            },
            "type": "choropleth"
           }
          ],
          "contour": [
           {
            "colorbar": {
             "outlinewidth": 0,
             "tickcolor": "rgb(36,36,36)",
             "ticklen": 8,
             "ticks": "outside",
             "tickwidth": 2
            },
            "colorscale": [
             [
              0,
              "rgb(2,4,25)"
             ],
             [
              0.06274509803921569,
              "rgb(24,15,41)"
             ],
             [
              0.12549019607843137,
              "rgb(47,23,57)"
             ],
             [
              0.18823529411764706,
              "rgb(71,28,72)"
             ],
             [
              0.25098039215686274,
              "rgb(97,30,82)"
             ],
             [
              0.3137254901960784,
              "rgb(123,30,89)"
             ],
             [
              0.3764705882352941,
              "rgb(150,27,91)"
             ],
             [
              0.4392156862745098,
              "rgb(177,22,88)"
             ],
             [
              0.5019607843137255,
              "rgb(203,26,79)"
             ],
             [
              0.5647058823529412,
              "rgb(223,47,67)"
             ],
             [
              0.6274509803921569,
              "rgb(236,76,61)"
             ],
             [
              0.6901960784313725,
              "rgb(242,107,73)"
             ],
             [
              0.7529411764705882,
              "rgb(244,135,95)"
             ],
             [
              0.8156862745098039,
              "rgb(245,162,122)"
             ],
             [
              0.8784313725490196,
              "rgb(246,188,153)"
             ],
             [
              0.9411764705882353,
              "rgb(247,212,187)"
             ],
             [
              1,
              "rgb(250,234,220)"
             ]
            ],
            "type": "contour"
           }
          ],
          "contourcarpet": [
           {
            "colorbar": {
             "outlinewidth": 0,
             "tickcolor": "rgb(36,36,36)",
             "ticklen": 8,
             "ticks": "outside",
             "tickwidth": 2
            },
            "type": "contourcarpet"
           }
          ],
          "heatmap": [
           {
            "colorbar": {
             "outlinewidth": 0,
             "tickcolor": "rgb(36,36,36)",
             "ticklen": 8,
             "ticks": "outside",
             "tickwidth": 2
            },
            "colorscale": [
             [
              0,
              "rgb(2,4,25)"
             ],
             [
              0.06274509803921569,
              "rgb(24,15,41)"
             ],
             [
              0.12549019607843137,
              "rgb(47,23,57)"
             ],
             [
              0.18823529411764706,
              "rgb(71,28,72)"
             ],
             [
              0.25098039215686274,
              "rgb(97,30,82)"
             ],
             [
              0.3137254901960784,
              "rgb(123,30,89)"
             ],
             [
              0.3764705882352941,
              "rgb(150,27,91)"
             ],
             [
              0.4392156862745098,
              "rgb(177,22,88)"
             ],
             [
              0.5019607843137255,
              "rgb(203,26,79)"
             ],
             [
              0.5647058823529412,
              "rgb(223,47,67)"
             ],
             [
              0.6274509803921569,
              "rgb(236,76,61)"
             ],
             [
              0.6901960784313725,
              "rgb(242,107,73)"
             ],
             [
              0.7529411764705882,
              "rgb(244,135,95)"
             ],
             [
              0.8156862745098039,
              "rgb(245,162,122)"
             ],
             [
              0.8784313725490196,
              "rgb(246,188,153)"
             ],
             [
              0.9411764705882353,
              "rgb(247,212,187)"
             ],
             [
              1,
              "rgb(250,234,220)"
             ]
            ],
            "type": "heatmap"
           }
          ],
          "heatmapgl": [
           {
            "colorbar": {
             "outlinewidth": 0,
             "tickcolor": "rgb(36,36,36)",
             "ticklen": 8,
             "ticks": "outside",
             "tickwidth": 2
            },
            "colorscale": [
             [
              0,
              "rgb(2,4,25)"
             ],
             [
              0.06274509803921569,
              "rgb(24,15,41)"
             ],
             [
              0.12549019607843137,
              "rgb(47,23,57)"
             ],
             [
              0.18823529411764706,
              "rgb(71,28,72)"
             ],
             [
              0.25098039215686274,
              "rgb(97,30,82)"
             ],
             [
              0.3137254901960784,
              "rgb(123,30,89)"
             ],
             [
              0.3764705882352941,
              "rgb(150,27,91)"
             ],
             [
              0.4392156862745098,
              "rgb(177,22,88)"
             ],
             [
              0.5019607843137255,
              "rgb(203,26,79)"
             ],
             [
              0.5647058823529412,
              "rgb(223,47,67)"
             ],
             [
              0.6274509803921569,
              "rgb(236,76,61)"
             ],
             [
              0.6901960784313725,
              "rgb(242,107,73)"
             ],
             [
              0.7529411764705882,
              "rgb(244,135,95)"
             ],
             [
              0.8156862745098039,
              "rgb(245,162,122)"
             ],
             [
              0.8784313725490196,
              "rgb(246,188,153)"
             ],
             [
              0.9411764705882353,
              "rgb(247,212,187)"
             ],
             [
              1,
              "rgb(250,234,220)"
             ]
            ],
            "type": "heatmapgl"
           }
          ],
          "histogram": [
           {
            "marker": {
             "pattern": {
              "fillmode": "overlay",
              "size": 10,
              "solidity": 0.2
             }
            },
            "type": "histogram"
           }
          ],
          "histogram2d": [
           {
            "colorbar": {
             "outlinewidth": 0,
             "tickcolor": "rgb(36,36,36)",
             "ticklen": 8,
             "ticks": "outside",
             "tickwidth": 2
            },
            "colorscale": [
             [
              0,
              "rgb(2,4,25)"
             ],
             [
              0.06274509803921569,
              "rgb(24,15,41)"
             ],
             [
              0.12549019607843137,
              "rgb(47,23,57)"
             ],
             [
              0.18823529411764706,
              "rgb(71,28,72)"
             ],
             [
              0.25098039215686274,
              "rgb(97,30,82)"
             ],
             [
              0.3137254901960784,
              "rgb(123,30,89)"
             ],
             [
              0.3764705882352941,
              "rgb(150,27,91)"
             ],
             [
              0.4392156862745098,
              "rgb(177,22,88)"
             ],
             [
              0.5019607843137255,
              "rgb(203,26,79)"
             ],
             [
              0.5647058823529412,
              "rgb(223,47,67)"
             ],
             [
              0.6274509803921569,
              "rgb(236,76,61)"
             ],
             [
              0.6901960784313725,
              "rgb(242,107,73)"
             ],
             [
              0.7529411764705882,
              "rgb(244,135,95)"
             ],
             [
              0.8156862745098039,
              "rgb(245,162,122)"
             ],
             [
              0.8784313725490196,
              "rgb(246,188,153)"
             ],
             [
              0.9411764705882353,
              "rgb(247,212,187)"
             ],
             [
              1,
              "rgb(250,234,220)"
             ]
            ],
            "type": "histogram2d"
           }
          ],
          "histogram2dcontour": [
           {
            "colorbar": {
             "outlinewidth": 0,
             "tickcolor": "rgb(36,36,36)",
             "ticklen": 8,
             "ticks": "outside",
             "tickwidth": 2
            },
            "colorscale": [
             [
              0,
              "rgb(2,4,25)"
             ],
             [
              0.06274509803921569,
              "rgb(24,15,41)"
             ],
             [
              0.12549019607843137,
              "rgb(47,23,57)"
             ],
             [
              0.18823529411764706,
              "rgb(71,28,72)"
             ],
             [
              0.25098039215686274,
              "rgb(97,30,82)"
             ],
             [
              0.3137254901960784,
              "rgb(123,30,89)"
             ],
             [
              0.3764705882352941,
              "rgb(150,27,91)"
             ],
             [
              0.4392156862745098,
              "rgb(177,22,88)"
             ],
             [
              0.5019607843137255,
              "rgb(203,26,79)"
             ],
             [
              0.5647058823529412,
              "rgb(223,47,67)"
             ],
             [
              0.6274509803921569,
              "rgb(236,76,61)"
             ],
             [
              0.6901960784313725,
              "rgb(242,107,73)"
             ],
             [
              0.7529411764705882,
              "rgb(244,135,95)"
             ],
             [
              0.8156862745098039,
              "rgb(245,162,122)"
             ],
             [
              0.8784313725490196,
              "rgb(246,188,153)"
             ],
             [
              0.9411764705882353,
              "rgb(247,212,187)"
             ],
             [
              1,
              "rgb(250,234,220)"
             ]
            ],
            "type": "histogram2dcontour"
           }
          ],
          "mesh3d": [
           {
            "colorbar": {
             "outlinewidth": 0,
             "tickcolor": "rgb(36,36,36)",
             "ticklen": 8,
             "ticks": "outside",
             "tickwidth": 2
            },
            "type": "mesh3d"
           }
          ],
          "parcoords": [
           {
            "line": {
             "colorbar": {
              "outlinewidth": 0,
              "tickcolor": "rgb(36,36,36)",
              "ticklen": 8,
              "ticks": "outside",
              "tickwidth": 2
             }
            },
            "type": "parcoords"
           }
          ],
          "pie": [
           {
            "automargin": true,
            "type": "pie"
           }
          ],
          "scatter": [
           {
            "fillpattern": {
             "fillmode": "overlay",
             "size": 10,
             "solidity": 0.2
            },
            "type": "scatter"
           }
          ],
          "scatter3d": [
           {
            "line": {
             "colorbar": {
              "outlinewidth": 0,
              "tickcolor": "rgb(36,36,36)",
              "ticklen": 8,
              "ticks": "outside",
              "tickwidth": 2
             }
            },
            "marker": {
             "colorbar": {
              "outlinewidth": 0,
              "tickcolor": "rgb(36,36,36)",
              "ticklen": 8,
              "ticks": "outside",
              "tickwidth": 2
             }
            },
            "type": "scatter3d"
           }
          ],
          "scattercarpet": [
           {
            "marker": {
             "colorbar": {
              "outlinewidth": 0,
              "tickcolor": "rgb(36,36,36)",
              "ticklen": 8,
              "ticks": "outside",
              "tickwidth": 2
             }
            },
            "type": "scattercarpet"
           }
          ],
          "scattergeo": [
           {
            "marker": {
             "colorbar": {
              "outlinewidth": 0,
              "tickcolor": "rgb(36,36,36)",
              "ticklen": 8,
              "ticks": "outside",
              "tickwidth": 2
             }
            },
            "type": "scattergeo"
           }
          ],
          "scattergl": [
           {
            "marker": {
             "colorbar": {
              "outlinewidth": 0,
              "tickcolor": "rgb(36,36,36)",
              "ticklen": 8,
              "ticks": "outside",
              "tickwidth": 2
             }
            },
            "type": "scattergl"
           }
          ],
          "scattermapbox": [
           {
            "marker": {
             "colorbar": {
              "outlinewidth": 0,
              "tickcolor": "rgb(36,36,36)",
              "ticklen": 8,
              "ticks": "outside",
              "tickwidth": 2
             }
            },
            "type": "scattermapbox"
           }
          ],
          "scatterpolar": [
           {
            "marker": {
             "colorbar": {
              "outlinewidth": 0,
              "tickcolor": "rgb(36,36,36)",
              "ticklen": 8,
              "ticks": "outside",
              "tickwidth": 2
             }
            },
            "type": "scatterpolar"
           }
          ],
          "scatterpolargl": [
           {
            "marker": {
             "colorbar": {
              "outlinewidth": 0,
              "tickcolor": "rgb(36,36,36)",
              "ticklen": 8,
              "ticks": "outside",
              "tickwidth": 2
             }
            },
            "type": "scatterpolargl"
           }
          ],
          "scatterternary": [
           {
            "marker": {
             "colorbar": {
              "outlinewidth": 0,
              "tickcolor": "rgb(36,36,36)",
              "ticklen": 8,
              "ticks": "outside",
              "tickwidth": 2
             }
            },
            "type": "scatterternary"
           }
          ],
          "surface": [
           {
            "colorbar": {
             "outlinewidth": 0,
             "tickcolor": "rgb(36,36,36)",
             "ticklen": 8,
             "ticks": "outside",
             "tickwidth": 2
            },
            "colorscale": [
             [
              0,
              "rgb(2,4,25)"
             ],
             [
              0.06274509803921569,
              "rgb(24,15,41)"
             ],
             [
              0.12549019607843137,
              "rgb(47,23,57)"
             ],
             [
              0.18823529411764706,
              "rgb(71,28,72)"
             ],
             [
              0.25098039215686274,
              "rgb(97,30,82)"
             ],
             [
              0.3137254901960784,
              "rgb(123,30,89)"
             ],
             [
              0.3764705882352941,
              "rgb(150,27,91)"
             ],
             [
              0.4392156862745098,
              "rgb(177,22,88)"
             ],
             [
              0.5019607843137255,
              "rgb(203,26,79)"
             ],
             [
              0.5647058823529412,
              "rgb(223,47,67)"
             ],
             [
              0.6274509803921569,
              "rgb(236,76,61)"
             ],
             [
              0.6901960784313725,
              "rgb(242,107,73)"
             ],
             [
              0.7529411764705882,
              "rgb(244,135,95)"
             ],
             [
              0.8156862745098039,
              "rgb(245,162,122)"
             ],
             [
              0.8784313725490196,
              "rgb(246,188,153)"
             ],
             [
              0.9411764705882353,
              "rgb(247,212,187)"
             ],
             [
              1,
              "rgb(250,234,220)"
             ]
            ],
            "type": "surface"
           }
          ],
          "table": [
           {
            "cells": {
             "fill": {
              "color": "rgb(231,231,240)"
             },
             "line": {
              "color": "white"
             }
            },
            "header": {
             "fill": {
              "color": "rgb(183,183,191)"
             },
             "line": {
              "color": "white"
             }
            },
            "type": "table"
           }
          ]
         },
         "layout": {
          "annotationdefaults": {
           "arrowcolor": "rgb(67,103,167)"
          },
          "autotypenumbers": "strict",
          "coloraxis": {
           "colorbar": {
            "outlinewidth": 0,
            "tickcolor": "rgb(36,36,36)",
            "ticklen": 8,
            "ticks": "outside",
            "tickwidth": 2
           }
          },
          "colorscale": {
           "sequential": [
            [
             0,
             "rgb(2,4,25)"
            ],
            [
             0.06274509803921569,
             "rgb(24,15,41)"
            ],
            [
             0.12549019607843137,
             "rgb(47,23,57)"
            ],
            [
             0.18823529411764706,
             "rgb(71,28,72)"
            ],
            [
             0.25098039215686274,
             "rgb(97,30,82)"
            ],
            [
             0.3137254901960784,
             "rgb(123,30,89)"
            ],
            [
             0.3764705882352941,
             "rgb(150,27,91)"
            ],
            [
             0.4392156862745098,
             "rgb(177,22,88)"
            ],
            [
             0.5019607843137255,
             "rgb(203,26,79)"
            ],
            [
             0.5647058823529412,
             "rgb(223,47,67)"
            ],
            [
             0.6274509803921569,
             "rgb(236,76,61)"
            ],
            [
             0.6901960784313725,
             "rgb(242,107,73)"
            ],
            [
             0.7529411764705882,
             "rgb(244,135,95)"
            ],
            [
             0.8156862745098039,
             "rgb(245,162,122)"
            ],
            [
             0.8784313725490196,
             "rgb(246,188,153)"
            ],
            [
             0.9411764705882353,
             "rgb(247,212,187)"
            ],
            [
             1,
             "rgb(250,234,220)"
            ]
           ],
           "sequentialminus": [
            [
             0,
             "rgb(2,4,25)"
            ],
            [
             0.06274509803921569,
             "rgb(24,15,41)"
            ],
            [
             0.12549019607843137,
             "rgb(47,23,57)"
            ],
            [
             0.18823529411764706,
             "rgb(71,28,72)"
            ],
            [
             0.25098039215686274,
             "rgb(97,30,82)"
            ],
            [
             0.3137254901960784,
             "rgb(123,30,89)"
            ],
            [
             0.3764705882352941,
             "rgb(150,27,91)"
            ],
            [
             0.4392156862745098,
             "rgb(177,22,88)"
            ],
            [
             0.5019607843137255,
             "rgb(203,26,79)"
            ],
            [
             0.5647058823529412,
             "rgb(223,47,67)"
            ],
            [
             0.6274509803921569,
             "rgb(236,76,61)"
            ],
            [
             0.6901960784313725,
             "rgb(242,107,73)"
            ],
            [
             0.7529411764705882,
             "rgb(244,135,95)"
            ],
            [
             0.8156862745098039,
             "rgb(245,162,122)"
            ],
            [
             0.8784313725490196,
             "rgb(246,188,153)"
            ],
            [
             0.9411764705882353,
             "rgb(247,212,187)"
            ],
            [
             1,
             "rgb(250,234,220)"
            ]
           ]
          },
          "colorway": [
           "rgb(76,114,176)",
           "rgb(221,132,82)",
           "rgb(85,168,104)",
           "rgb(196,78,82)",
           "rgb(129,114,179)",
           "rgb(147,120,96)",
           "rgb(218,139,195)",
           "rgb(140,140,140)",
           "rgb(204,185,116)",
           "rgb(100,181,205)"
          ],
          "font": {
           "color": "rgb(36,36,36)"
          },
          "geo": {
           "bgcolor": "white",
           "lakecolor": "white",
           "landcolor": "rgb(234,234,242)",
           "showlakes": true,
           "showland": true,
           "subunitcolor": "white"
          },
          "hoverlabel": {
           "align": "left"
          },
          "hovermode": "closest",
          "paper_bgcolor": "white",
          "plot_bgcolor": "rgb(234,234,242)",
          "polar": {
           "angularaxis": {
            "gridcolor": "white",
            "linecolor": "white",
            "showgrid": true,
            "ticks": ""
           },
           "bgcolor": "rgb(234,234,242)",
           "radialaxis": {
            "gridcolor": "white",
            "linecolor": "white",
            "showgrid": true,
            "ticks": ""
           }
          },
          "scene": {
           "xaxis": {
            "backgroundcolor": "rgb(234,234,242)",
            "gridcolor": "white",
            "gridwidth": 2,
            "linecolor": "white",
            "showbackground": true,
            "showgrid": true,
            "ticks": "",
            "zerolinecolor": "white"
           },
           "yaxis": {
            "backgroundcolor": "rgb(234,234,242)",
            "gridcolor": "white",
            "gridwidth": 2,
            "linecolor": "white",
            "showbackground": true,
            "showgrid": true,
            "ticks": "",
            "zerolinecolor": "white"
           },
           "zaxis": {
            "backgroundcolor": "rgb(234,234,242)",
            "gridcolor": "white",
            "gridwidth": 2,
            "linecolor": "white",
            "showbackground": true,
            "showgrid": true,
            "ticks": "",
            "zerolinecolor": "white"
           }
          },
          "shapedefaults": {
           "fillcolor": "rgb(67,103,167)",
           "line": {
            "width": 0
           },
           "opacity": 0.5
          },
          "ternary": {
           "aaxis": {
            "gridcolor": "white",
            "linecolor": "white",
            "showgrid": true,
            "ticks": ""
           },
           "baxis": {
            "gridcolor": "white",
            "linecolor": "white",
            "showgrid": true,
            "ticks": ""
           },
           "bgcolor": "rgb(234,234,242)",
           "caxis": {
            "gridcolor": "white",
            "linecolor": "white",
            "showgrid": true,
            "ticks": ""
           }
          },
          "xaxis": {
           "automargin": true,
           "gridcolor": "white",
           "linecolor": "white",
           "showgrid": true,
           "ticks": "",
           "title": {
            "standoff": 15
           },
           "zerolinecolor": "white"
          },
          "yaxis": {
           "automargin": true,
           "gridcolor": "white",
           "linecolor": "white",
           "showgrid": true,
           "ticks": "",
           "title": {
            "standoff": 15
           },
           "zerolinecolor": "white"
          }
         }
        },
        "title": {
         "text": "Moving Average of Relative Occurrences of Ethnicity-related Words Over 5 Years"
        },
        "xaxis": {
         "anchor": "y",
         "domain": [
          0,
          1
         ],
         "title": {
          "text": "Year"
         }
        },
        "yaxis": {
         "anchor": "x",
         "domain": [
          0,
          1
         ],
         "title": {
          "text": "Relative Word Occurrence"
         }
        }
       }
      }
     },
     "metadata": {},
     "output_type": "display_data"
    }
   ],
   "source": [
    "ethnicities=['French','Spanish','American']\n",
    "fig = plot_relative_occurrences(df_sum, ethmerged, ethnicities,[\n",
    "    ('1914', '1918', 'WWI'),\n",
    "    ('1939', '1945', 'WWII'),\n",
    "    ('1989', '1989', 'Fall of the Berlin Wall')\n",
    "])\n",
    "fig.show()\n",
    "fig_json = fig.to_json()\n",
    "\n",
    "with open('figures/ethnicity-representation2.json', 'w') as json_file:\n",
    "   json.dump(json.loads(fig_json), json_file, indent=4)"
   ]
  },
  {
   "cell_type": "markdown",
   "metadata": {},
   "source": [
    "Looking at some major actors of WWII, the prevalence of german representation can be seen a feen years after its begining as well but fades out rapidly, the same can be observed at a lower extent for the japanese representation. It also seems that big events trigger an increase in representation even after the main spike is going down. German and Japanese representation was mostly inexitent before WWII compared to France for example, but became relatively well represented afterwards, up until a global jump in representation due to film abundance."
   ]
  },
  {
   "cell_type": "code",
   "execution_count": 19,
   "metadata": {},
   "outputs": [
    {
     "data": {
      "application/vnd.plotly.v1+json": {
       "config": {
        "plotlyServerURL": "https://plot.ly"
       },
       "data": [
        {
         "hovertemplate": "Ethnicity=Russian<br>Year=%{x}<br>Relative Word Occurrence=%{y}<extra></extra>",
         "legendgroup": "Russian",
         "line": {
          "color": "rgb(76,114,176)",
          "dash": "solid"
         },
         "marker": {
          "symbol": "circle"
         },
         "mode": "lines",
         "name": "Russian",
         "orientation": "v",
         "showlegend": true,
         "type": "scatter",
         "x": [
          1910,
          1911,
          1912,
          1913,
          1914,
          1915,
          1916,
          1917,
          1918,
          1919,
          1920,
          1921,
          1922,
          1923,
          1924,
          1925,
          1926,
          1927,
          1928,
          1929,
          1930,
          1931,
          1932,
          1933,
          1934,
          1935,
          1936,
          1937,
          1938,
          1939,
          1940,
          1941,
          1942,
          1943,
          1944,
          1945,
          1946,
          1947,
          1948,
          1949,
          1950,
          1951,
          1952,
          1953,
          1954,
          1955,
          1956,
          1957,
          1958,
          1959,
          1960,
          1961,
          1962,
          1963,
          1964,
          1965,
          1966,
          1967,
          1968,
          1969,
          1970,
          1971,
          1972,
          1973,
          1974,
          1975,
          1976,
          1977,
          1978,
          1979,
          1980,
          1981,
          1982,
          1983,
          1984,
          1985,
          1986,
          1987,
          1988,
          1989,
          1990,
          1991,
          1992,
          1993,
          1994,
          1995,
          1996,
          1997,
          1998,
          1999,
          2000,
          2001,
          2002,
          2003,
          2004,
          2005,
          2006,
          2007,
          2008,
          2009,
          2010,
          2011,
          2012,
          2013
         ],
         "xaxis": "x",
         "y": [
          null,
          null,
          null,
          null,
          0.0002472187886279357,
          0.0002472187886279357,
          0.0002472187886279357,
          0.0006621565479640353,
          0.0004149377593360996,
          0.0005377124677461671,
          0.0005377124677461671,
          0.0006554287714542306,
          0.00024049101211813108,
          0.00024049101211813108,
          0.00036688573892401037,
          0.000618669205143062,
          0.0007102673964637792,
          0.0008895324099086551,
          0.0021310673986219735,
          0.0019852571365326413,
          0.0018313449695550872,
          0.0019281685427950956,
          0.0019221494147604414,
          0.0007073738587471499,
          0.0009189339875494158,
          0.0010559423125005196,
          0.0009402804347079209,
          0.0011241348944946996,
          0.0012172939172449668,
          0.0011253400556728306,
          0.0009398980782482433,
          0.0008084363463143954,
          0.0004901671825560905,
          0.0006516035588339646,
          0.0008078907676685194,
          0.0009197062883734379,
          0.0009825984493605357,
          0.001010881361881572,
          0.000786274851348902,
          0.0005825634543518681,
          0.00047283012201546315,
          0.00038967943698849344,
          0.0005028917337960506,
          0.0005210441690981933,
          0.00043367078853150657,
          0.00043267726918445274,
          0.0004998628902571564,
          0.00045715117838895014,
          0.0004806110776290145,
          0.0005579718631502044,
          0.0006225755483201474,
          0.0005917513636369919,
          0.0005176943235716266,
          0.0007169527154529692,
          0.0007114368593282823,
          0.0008878296815372584,
          0.000997313495169507,
          0.0012582555859193482,
          0.001309372370907101,
          0.0014865501592002082,
          0.0016906902852263628,
          0.001848045687083303,
          0.0017423344164085367,
          0.0015171401074805285,
          0.001373057064212062,
          0.0012473955380999109,
          0.000996672890744021,
          0.0011031097181012357,
          0.001069467378908413,
          0.0011513643166284474,
          0.0008775527081134641,
          0.0009377847433389311,
          0.0006853283120030137,
          0.000771107441005235,
          0.0006440246573498845,
          0.0007338437388601099,
          0.0007413111450340309,
          0.0009342977950394001,
          0.0008331767974878361,
          0.0007222086467628481,
          0.00064844999389407,
          0.0005747681053704729,
          0.00035171570708602244,
          0.0003965951525273192,
          0.0004841007983027717,
          0.0005582158310347555,
          0.0006597002537019663,
          0.0009304101616591911,
          0.0009480670156357531,
          0.000998476668835609,
          0.0009593963676613832,
          0.0009207700541978819,
          0.0008987170933791964,
          0.0008311185959926743,
          0.0007851319304530386,
          0.0008601786238775129,
          0.000839552546128639,
          0.0007242127467245267,
          0.0008352669152396722,
          0.000870854496198862,
          0.0007929094572610452,
          0.0008206235004072588,
          0.0010208082777641223,
          0.0017015854340028057
         ],
         "yaxis": "y"
        },
        {
         "hovertemplate": "Ethnicity=Scandinavian<br>Year=%{x}<br>Relative Word Occurrence=%{y}<extra></extra>",
         "legendgroup": "Scandinavian",
         "line": {
          "color": "rgb(221,132,82)",
          "dash": "solid"
         },
         "marker": {
          "symbol": "circle"
         },
         "mode": "lines",
         "name": "Scandinavian",
         "orientation": "v",
         "showlegend": true,
         "type": "scatter",
         "x": [
          1910,
          1911,
          1912,
          1913,
          1914,
          1915,
          1916,
          1917,
          1918,
          1919,
          1920,
          1921,
          1922,
          1923,
          1924,
          1925,
          1926,
          1927,
          1928,
          1929,
          1930,
          1931,
          1932,
          1933,
          1934,
          1935,
          1936,
          1937,
          1938,
          1939,
          1940,
          1941,
          1942,
          1943,
          1944,
          1945,
          1946,
          1947,
          1948,
          1949,
          1950,
          1951,
          1952,
          1953,
          1954,
          1955,
          1956,
          1957,
          1958,
          1959,
          1960,
          1961,
          1962,
          1963,
          1964,
          1965,
          1966,
          1967,
          1968,
          1969,
          1970,
          1971,
          1972,
          1973,
          1974,
          1975,
          1976,
          1977,
          1978,
          1979,
          1980,
          1981,
          1982,
          1983,
          1984,
          1985,
          1986,
          1987,
          1988,
          1989,
          1990,
          1991,
          1992,
          1993,
          1994,
          1995,
          1996,
          1997,
          1998,
          1999,
          2000,
          2001,
          2002,
          2003,
          2004,
          2005,
          2006,
          2007,
          2008,
          2009,
          2010,
          2011,
          2012,
          2013
         ],
         "xaxis": "x",
         "y": [
          null,
          null,
          null,
          null,
          0,
          0,
          0,
          0,
          0.0001539645881447267,
          0.0001539645881447267,
          0.00025605749268786096,
          0.00037377379639592456,
          0.00037377379639592456,
          0.00021980920825119787,
          0.0003028656866565135,
          0.0002847006041863964,
          0.00016698430047833282,
          0.00016698430047833282,
          0.00016698430047833282,
          0.0000839278220730172,
          0.00004893564962074871,
          0.00004893564962074871,
          0.00007368506182220893,
          0.00010044449452223569,
          0.00010044449452223569,
          0.00005150884490148697,
          0.00005150884490148697,
          0.000026759432700026758,
          0,
          0,
          0.00004943764676801385,
          0.0000691091329487948,
          0.0002632650401422711,
          0.0003498357575970921,
          0.00037214473696128614,
          0.0003687794237569673,
          0.00037348926148207445,
          0.00020170471894184194,
          0.000171882322682519,
          0.0001495733433183249,
          0.00013784756651231495,
          0.0001716001443601329,
          0.0002033266969370757,
          0.00014657837574157774,
          0.0001642119500670935,
          0.00016354960383572424,
          0.0001054157020820182,
          0.00009718934448485909,
          0.00009718934448485909,
          0.00014852604397133035,
          0.00015321850043148677,
          0.00030345324221552435,
          0.00028936050199935545,
          0.0003451640734279269,
          0.00030819635982075625,
          0.000346536225247019,
          0.0002270683475503593,
          0.00021074189620890819,
          0.000218344839799755,
          0.00021699596953286493,
          0.00018984573203958475,
          0.00015907886795220685,
          0.0001846493359221979,
          0.00012124282090277966,
          0.00015000683744138338,
          0.00018582548631017396,
          0.0002162367993186131,
          0.0001752139632732145,
          0.00020089944455492,
          0.00014148173807839,
          0.00009884782298677267,
          0.00009007450629987416,
          0.00014205225982136696,
          0.00011636677853966144,
          0.000165674011910797,
          0.000163359699752786,
          0.00014172170343124542,
          0.00015048806532357188,
          0.00015794379691723453,
          0.00010863656354609898,
          0.00007568319655473927,
          0.00007568319655473925,
          0.00004340781890825921,
          0.00005481052332163706,
          0.00005481052332163706,
          0.00005333895686924565,
          0.00007668094619028554,
          0.00009070888836982544,
          0.0001061238562014062,
          0.00012610886744297503,
          0.00015908428355103745,
          0.00016376302957415225,
          0.00014741404676223255,
          0.00015136295780599087,
          0.00013766488231193867,
          0.00011837795750568938,
          0.00010719466864250842,
          0.00009792562603765926,
          0.00008285065557619105,
          0.00009801629771345021,
          0.00010283450752959157,
          0.00012014052567909247,
          0.00012089648201190247,
          0.00009774913759099115
         ],
         "yaxis": "y"
        },
        {
         "hovertemplate": "Ethnicity=Soviet<br>Year=%{x}<br>Relative Word Occurrence=%{y}<extra></extra>",
         "legendgroup": "Soviet",
         "line": {
          "color": "rgb(85,168,104)",
          "dash": "solid"
         },
         "marker": {
          "symbol": "circle"
         },
         "mode": "lines",
         "name": "Soviet",
         "orientation": "v",
         "showlegend": true,
         "type": "scatter",
         "x": [
          1910,
          1911,
          1912,
          1913,
          1914,
          1915,
          1916,
          1917,
          1918,
          1919,
          1920,
          1921,
          1922,
          1923,
          1924,
          1925,
          1926,
          1927,
          1928,
          1929,
          1930,
          1931,
          1932,
          1933,
          1934,
          1935,
          1936,
          1937,
          1938,
          1939,
          1940,
          1941,
          1942,
          1943,
          1944,
          1945,
          1946,
          1947,
          1948,
          1949,
          1950,
          1951,
          1952,
          1953,
          1954,
          1955,
          1956,
          1957,
          1958,
          1959,
          1960,
          1961,
          1962,
          1963,
          1964,
          1965,
          1966,
          1967,
          1968,
          1969,
          1970,
          1971,
          1972,
          1973,
          1974,
          1975,
          1976,
          1977,
          1978,
          1979,
          1980,
          1981,
          1982,
          1983,
          1984,
          1985,
          1986,
          1987,
          1988,
          1989,
          1990,
          1991,
          1992,
          1993,
          1994,
          1995,
          1996,
          1997,
          1998,
          1999,
          2000,
          2001,
          2002,
          2003,
          2004,
          2005,
          2006,
          2007,
          2008,
          2009,
          2010,
          2011,
          2012,
          2013
         ],
         "xaxis": "x",
         "y": [
          null,
          null,
          null,
          null,
          0.00034904013961605586,
          0.00034904013961605586,
          0.00034904013961605586,
          0,
          0,
          0,
          0,
          0,
          0,
          0,
          0.0004152823920265781,
          0.0005831380361726125,
          0.0005831380361726125,
          0.0005831380361726125,
          0.0006395714447504906,
          0.00022428905272391252,
          0.00025217600706087294,
          0.0003746312343683887,
          0.0004241300587713091,
          0.00036769665019343103,
          0.00047266975083639127,
          0.00030041511477265655,
          0.00028680342488010687,
          0.00030872466951658645,
          0.00033270836060664527,
          0.00025250919778110106,
          0.0002537400587458479,
          0.00014489652133088188,
          0.0001123076337301771,
          0.0002831080569134654,
          0.0003475700365528257,
          0.0003458873799506662,
          0.0004677939994801067,
          0.00045133418269465526,
          0.0003322144966819722,
          0.000496538165728024,
          0.0005421951124615466,
          0.0004396664601833414,
          0.0005254909299904709,
          0.00046480665302933504,
          0.0003170485124796016,
          0.00024835539896423157,
          0.0002642912835713876,
          0.0003548722075208003,
          0.00033989205622127216,
          0.00024788466503057485,
          0.00032463799900351936,
          0.000402000203483156,
          0.0003462281324492341,
          0.0005322400372111388,
          0.0007744664640872724,
          0.000851146194939798,
          0.000999988483344482,
          0.0010115074767226935,
          0.0010791216320384617,
          0.0010530038249343778,
          0.0013787116109969706,
          0.0012361346876042438,
          0.0013550965804861588,
          0.001115197356372796,
          0.000974421241553144,
          0.0005379728625592038,
          0.00044944275421765777,
          0.0003250187701202537,
          0.00038834837800106,
          0.0005503128686838258,
          0.0006572489972279012,
          0.0007025706713448542,
          0.0006470690381449547,
          0.0007847305330076264,
          0.0008294828828368789,
          0.0010599594178616813,
          0.0010460338564570078,
          0.0010587761020925044,
          0.0011050087691629083,
          0.0009421981467344024,
          0.0008614269931616961,
          0.0008616206524599652,
          0.0007909043726949556,
          0.0005739567842665246,
          0.0005061169182207212,
          0.00029094789965855014,
          0.0002697952959513821,
          0.0002767060536890872,
          0.00032083464621006634,
          0.00030060800975109225,
          0.00032907273300920663,
          0.0003322568358096299,
          0.0004092924856225654,
          0.0003628579465326028,
          0.0003901914323355145,
          0.0003113336447150126,
          0.00032984014753210044,
          0.00029228985406139294,
          0.0003130906132170758,
          0.00028369600789018585,
          0.0002744425931372707,
          0.00028950228945901846,
          0.0002486676785167253,
          0.000358435137124623
         ],
         "yaxis": "y"
        }
       ],
       "layout": {
        "annotations": [
         {
          "showarrow": false,
          "text": "Cold War",
          "x": "1947",
          "xanchor": "left",
          "xref": "x",
          "y": 1,
          "yanchor": "top",
          "yref": "y domain"
         },
         {
          "showarrow": false,
          "text": "Start of USSR",
          "x": "1922",
          "xanchor": "left",
          "xref": "x",
          "y": 1,
          "yanchor": "top",
          "yref": "y domain"
         }
        ],
        "legend": {
         "title": {
          "text": "Ethnicity"
         },
         "tracegroupgap": 0
        },
        "shapes": [
         {
          "fillcolor": "rgba(255, 0, 0, 0.20)",
          "layer": "below",
          "line": {
           "width": 1
          },
          "type": "rect",
          "x0": "1947",
          "x1": "1991",
          "xref": "x",
          "y0": 0,
          "y1": 1,
          "yref": "y domain"
         },
         {
          "fillcolor": "rgba(255, 0, 0, 0.20)",
          "layer": "below",
          "line": {
           "width": 1
          },
          "type": "rect",
          "x0": "1922",
          "x1": "1922",
          "xref": "x",
          "y0": 0,
          "y1": 1,
          "yref": "y domain"
         }
        ],
        "template": {
         "data": {
          "bar": [
           {
            "error_x": {
             "color": "rgb(36,36,36)"
            },
            "error_y": {
             "color": "rgb(36,36,36)"
            },
            "marker": {
             "line": {
              "color": "rgb(234,234,242)",
              "width": 0.5
             },
             "pattern": {
              "fillmode": "overlay",
              "size": 10,
              "solidity": 0.2
             }
            },
            "type": "bar"
           }
          ],
          "barpolar": [
           {
            "marker": {
             "line": {
              "color": "rgb(234,234,242)",
              "width": 0.5
             },
             "pattern": {
              "fillmode": "overlay",
              "size": 10,
              "solidity": 0.2
             }
            },
            "type": "barpolar"
           }
          ],
          "carpet": [
           {
            "aaxis": {
             "endlinecolor": "rgb(36,36,36)",
             "gridcolor": "white",
             "linecolor": "white",
             "minorgridcolor": "white",
             "startlinecolor": "rgb(36,36,36)"
            },
            "baxis": {
             "endlinecolor": "rgb(36,36,36)",
             "gridcolor": "white",
             "linecolor": "white",
             "minorgridcolor": "white",
             "startlinecolor": "rgb(36,36,36)"
            },
            "type": "carpet"
           }
          ],
          "choropleth": [
           {
            "colorbar": {
             "outlinewidth": 0,
             "tickcolor": "rgb(36,36,36)",
             "ticklen": 8,
             "ticks": "outside",
             "tickwidth": 2
            },
            "type": "choropleth"
           }
          ],
          "contour": [
           {
            "colorbar": {
             "outlinewidth": 0,
             "tickcolor": "rgb(36,36,36)",
             "ticklen": 8,
             "ticks": "outside",
             "tickwidth": 2
            },
            "colorscale": [
             [
              0,
              "rgb(2,4,25)"
             ],
             [
              0.06274509803921569,
              "rgb(24,15,41)"
             ],
             [
              0.12549019607843137,
              "rgb(47,23,57)"
             ],
             [
              0.18823529411764706,
              "rgb(71,28,72)"
             ],
             [
              0.25098039215686274,
              "rgb(97,30,82)"
             ],
             [
              0.3137254901960784,
              "rgb(123,30,89)"
             ],
             [
              0.3764705882352941,
              "rgb(150,27,91)"
             ],
             [
              0.4392156862745098,
              "rgb(177,22,88)"
             ],
             [
              0.5019607843137255,
              "rgb(203,26,79)"
             ],
             [
              0.5647058823529412,
              "rgb(223,47,67)"
             ],
             [
              0.6274509803921569,
              "rgb(236,76,61)"
             ],
             [
              0.6901960784313725,
              "rgb(242,107,73)"
             ],
             [
              0.7529411764705882,
              "rgb(244,135,95)"
             ],
             [
              0.8156862745098039,
              "rgb(245,162,122)"
             ],
             [
              0.8784313725490196,
              "rgb(246,188,153)"
             ],
             [
              0.9411764705882353,
              "rgb(247,212,187)"
             ],
             [
              1,
              "rgb(250,234,220)"
             ]
            ],
            "type": "contour"
           }
          ],
          "contourcarpet": [
           {
            "colorbar": {
             "outlinewidth": 0,
             "tickcolor": "rgb(36,36,36)",
             "ticklen": 8,
             "ticks": "outside",
             "tickwidth": 2
            },
            "type": "contourcarpet"
           }
          ],
          "heatmap": [
           {
            "colorbar": {
             "outlinewidth": 0,
             "tickcolor": "rgb(36,36,36)",
             "ticklen": 8,
             "ticks": "outside",
             "tickwidth": 2
            },
            "colorscale": [
             [
              0,
              "rgb(2,4,25)"
             ],
             [
              0.06274509803921569,
              "rgb(24,15,41)"
             ],
             [
              0.12549019607843137,
              "rgb(47,23,57)"
             ],
             [
              0.18823529411764706,
              "rgb(71,28,72)"
             ],
             [
              0.25098039215686274,
              "rgb(97,30,82)"
             ],
             [
              0.3137254901960784,
              "rgb(123,30,89)"
             ],
             [
              0.3764705882352941,
              "rgb(150,27,91)"
             ],
             [
              0.4392156862745098,
              "rgb(177,22,88)"
             ],
             [
              0.5019607843137255,
              "rgb(203,26,79)"
             ],
             [
              0.5647058823529412,
              "rgb(223,47,67)"
             ],
             [
              0.6274509803921569,
              "rgb(236,76,61)"
             ],
             [
              0.6901960784313725,
              "rgb(242,107,73)"
             ],
             [
              0.7529411764705882,
              "rgb(244,135,95)"
             ],
             [
              0.8156862745098039,
              "rgb(245,162,122)"
             ],
             [
              0.8784313725490196,
              "rgb(246,188,153)"
             ],
             [
              0.9411764705882353,
              "rgb(247,212,187)"
             ],
             [
              1,
              "rgb(250,234,220)"
             ]
            ],
            "type": "heatmap"
           }
          ],
          "heatmapgl": [
           {
            "colorbar": {
             "outlinewidth": 0,
             "tickcolor": "rgb(36,36,36)",
             "ticklen": 8,
             "ticks": "outside",
             "tickwidth": 2
            },
            "colorscale": [
             [
              0,
              "rgb(2,4,25)"
             ],
             [
              0.06274509803921569,
              "rgb(24,15,41)"
             ],
             [
              0.12549019607843137,
              "rgb(47,23,57)"
             ],
             [
              0.18823529411764706,
              "rgb(71,28,72)"
             ],
             [
              0.25098039215686274,
              "rgb(97,30,82)"
             ],
             [
              0.3137254901960784,
              "rgb(123,30,89)"
             ],
             [
              0.3764705882352941,
              "rgb(150,27,91)"
             ],
             [
              0.4392156862745098,
              "rgb(177,22,88)"
             ],
             [
              0.5019607843137255,
              "rgb(203,26,79)"
             ],
             [
              0.5647058823529412,
              "rgb(223,47,67)"
             ],
             [
              0.6274509803921569,
              "rgb(236,76,61)"
             ],
             [
              0.6901960784313725,
              "rgb(242,107,73)"
             ],
             [
              0.7529411764705882,
              "rgb(244,135,95)"
             ],
             [
              0.8156862745098039,
              "rgb(245,162,122)"
             ],
             [
              0.8784313725490196,
              "rgb(246,188,153)"
             ],
             [
              0.9411764705882353,
              "rgb(247,212,187)"
             ],
             [
              1,
              "rgb(250,234,220)"
             ]
            ],
            "type": "heatmapgl"
           }
          ],
          "histogram": [
           {
            "marker": {
             "pattern": {
              "fillmode": "overlay",
              "size": 10,
              "solidity": 0.2
             }
            },
            "type": "histogram"
           }
          ],
          "histogram2d": [
           {
            "colorbar": {
             "outlinewidth": 0,
             "tickcolor": "rgb(36,36,36)",
             "ticklen": 8,
             "ticks": "outside",
             "tickwidth": 2
            },
            "colorscale": [
             [
              0,
              "rgb(2,4,25)"
             ],
             [
              0.06274509803921569,
              "rgb(24,15,41)"
             ],
             [
              0.12549019607843137,
              "rgb(47,23,57)"
             ],
             [
              0.18823529411764706,
              "rgb(71,28,72)"
             ],
             [
              0.25098039215686274,
              "rgb(97,30,82)"
             ],
             [
              0.3137254901960784,
              "rgb(123,30,89)"
             ],
             [
              0.3764705882352941,
              "rgb(150,27,91)"
             ],
             [
              0.4392156862745098,
              "rgb(177,22,88)"
             ],
             [
              0.5019607843137255,
              "rgb(203,26,79)"
             ],
             [
              0.5647058823529412,
              "rgb(223,47,67)"
             ],
             [
              0.6274509803921569,
              "rgb(236,76,61)"
             ],
             [
              0.6901960784313725,
              "rgb(242,107,73)"
             ],
             [
              0.7529411764705882,
              "rgb(244,135,95)"
             ],
             [
              0.8156862745098039,
              "rgb(245,162,122)"
             ],
             [
              0.8784313725490196,
              "rgb(246,188,153)"
             ],
             [
              0.9411764705882353,
              "rgb(247,212,187)"
             ],
             [
              1,
              "rgb(250,234,220)"
             ]
            ],
            "type": "histogram2d"
           }
          ],
          "histogram2dcontour": [
           {
            "colorbar": {
             "outlinewidth": 0,
             "tickcolor": "rgb(36,36,36)",
             "ticklen": 8,
             "ticks": "outside",
             "tickwidth": 2
            },
            "colorscale": [
             [
              0,
              "rgb(2,4,25)"
             ],
             [
              0.06274509803921569,
              "rgb(24,15,41)"
             ],
             [
              0.12549019607843137,
              "rgb(47,23,57)"
             ],
             [
              0.18823529411764706,
              "rgb(71,28,72)"
             ],
             [
              0.25098039215686274,
              "rgb(97,30,82)"
             ],
             [
              0.3137254901960784,
              "rgb(123,30,89)"
             ],
             [
              0.3764705882352941,
              "rgb(150,27,91)"
             ],
             [
              0.4392156862745098,
              "rgb(177,22,88)"
             ],
             [
              0.5019607843137255,
              "rgb(203,26,79)"
             ],
             [
              0.5647058823529412,
              "rgb(223,47,67)"
             ],
             [
              0.6274509803921569,
              "rgb(236,76,61)"
             ],
             [
              0.6901960784313725,
              "rgb(242,107,73)"
             ],
             [
              0.7529411764705882,
              "rgb(244,135,95)"
             ],
             [
              0.8156862745098039,
              "rgb(245,162,122)"
             ],
             [
              0.8784313725490196,
              "rgb(246,188,153)"
             ],
             [
              0.9411764705882353,
              "rgb(247,212,187)"
             ],
             [
              1,
              "rgb(250,234,220)"
             ]
            ],
            "type": "histogram2dcontour"
           }
          ],
          "mesh3d": [
           {
            "colorbar": {
             "outlinewidth": 0,
             "tickcolor": "rgb(36,36,36)",
             "ticklen": 8,
             "ticks": "outside",
             "tickwidth": 2
            },
            "type": "mesh3d"
           }
          ],
          "parcoords": [
           {
            "line": {
             "colorbar": {
              "outlinewidth": 0,
              "tickcolor": "rgb(36,36,36)",
              "ticklen": 8,
              "ticks": "outside",
              "tickwidth": 2
             }
            },
            "type": "parcoords"
           }
          ],
          "pie": [
           {
            "automargin": true,
            "type": "pie"
           }
          ],
          "scatter": [
           {
            "fillpattern": {
             "fillmode": "overlay",
             "size": 10,
             "solidity": 0.2
            },
            "type": "scatter"
           }
          ],
          "scatter3d": [
           {
            "line": {
             "colorbar": {
              "outlinewidth": 0,
              "tickcolor": "rgb(36,36,36)",
              "ticklen": 8,
              "ticks": "outside",
              "tickwidth": 2
             }
            },
            "marker": {
             "colorbar": {
              "outlinewidth": 0,
              "tickcolor": "rgb(36,36,36)",
              "ticklen": 8,
              "ticks": "outside",
              "tickwidth": 2
             }
            },
            "type": "scatter3d"
           }
          ],
          "scattercarpet": [
           {
            "marker": {
             "colorbar": {
              "outlinewidth": 0,
              "tickcolor": "rgb(36,36,36)",
              "ticklen": 8,
              "ticks": "outside",
              "tickwidth": 2
             }
            },
            "type": "scattercarpet"
           }
          ],
          "scattergeo": [
           {
            "marker": {
             "colorbar": {
              "outlinewidth": 0,
              "tickcolor": "rgb(36,36,36)",
              "ticklen": 8,
              "ticks": "outside",
              "tickwidth": 2
             }
            },
            "type": "scattergeo"
           }
          ],
          "scattergl": [
           {
            "marker": {
             "colorbar": {
              "outlinewidth": 0,
              "tickcolor": "rgb(36,36,36)",
              "ticklen": 8,
              "ticks": "outside",
              "tickwidth": 2
             }
            },
            "type": "scattergl"
           }
          ],
          "scattermapbox": [
           {
            "marker": {
             "colorbar": {
              "outlinewidth": 0,
              "tickcolor": "rgb(36,36,36)",
              "ticklen": 8,
              "ticks": "outside",
              "tickwidth": 2
             }
            },
            "type": "scattermapbox"
           }
          ],
          "scatterpolar": [
           {
            "marker": {
             "colorbar": {
              "outlinewidth": 0,
              "tickcolor": "rgb(36,36,36)",
              "ticklen": 8,
              "ticks": "outside",
              "tickwidth": 2
             }
            },
            "type": "scatterpolar"
           }
          ],
          "scatterpolargl": [
           {
            "marker": {
             "colorbar": {
              "outlinewidth": 0,
              "tickcolor": "rgb(36,36,36)",
              "ticklen": 8,
              "ticks": "outside",
              "tickwidth": 2
             }
            },
            "type": "scatterpolargl"
           }
          ],
          "scatterternary": [
           {
            "marker": {
             "colorbar": {
              "outlinewidth": 0,
              "tickcolor": "rgb(36,36,36)",
              "ticklen": 8,
              "ticks": "outside",
              "tickwidth": 2
             }
            },
            "type": "scatterternary"
           }
          ],
          "surface": [
           {
            "colorbar": {
             "outlinewidth": 0,
             "tickcolor": "rgb(36,36,36)",
             "ticklen": 8,
             "ticks": "outside",
             "tickwidth": 2
            },
            "colorscale": [
             [
              0,
              "rgb(2,4,25)"
             ],
             [
              0.06274509803921569,
              "rgb(24,15,41)"
             ],
             [
              0.12549019607843137,
              "rgb(47,23,57)"
             ],
             [
              0.18823529411764706,
              "rgb(71,28,72)"
             ],
             [
              0.25098039215686274,
              "rgb(97,30,82)"
             ],
             [
              0.3137254901960784,
              "rgb(123,30,89)"
             ],
             [
              0.3764705882352941,
              "rgb(150,27,91)"
             ],
             [
              0.4392156862745098,
              "rgb(177,22,88)"
             ],
             [
              0.5019607843137255,
              "rgb(203,26,79)"
             ],
             [
              0.5647058823529412,
              "rgb(223,47,67)"
             ],
             [
              0.6274509803921569,
              "rgb(236,76,61)"
             ],
             [
              0.6901960784313725,
              "rgb(242,107,73)"
             ],
             [
              0.7529411764705882,
              "rgb(244,135,95)"
             ],
             [
              0.8156862745098039,
              "rgb(245,162,122)"
             ],
             [
              0.8784313725490196,
              "rgb(246,188,153)"
             ],
             [
              0.9411764705882353,
              "rgb(247,212,187)"
             ],
             [
              1,
              "rgb(250,234,220)"
             ]
            ],
            "type": "surface"
           }
          ],
          "table": [
           {
            "cells": {
             "fill": {
              "color": "rgb(231,231,240)"
             },
             "line": {
              "color": "white"
             }
            },
            "header": {
             "fill": {
              "color": "rgb(183,183,191)"
             },
             "line": {
              "color": "white"
             }
            },
            "type": "table"
           }
          ]
         },
         "layout": {
          "annotationdefaults": {
           "arrowcolor": "rgb(67,103,167)"
          },
          "autotypenumbers": "strict",
          "coloraxis": {
           "colorbar": {
            "outlinewidth": 0,
            "tickcolor": "rgb(36,36,36)",
            "ticklen": 8,
            "ticks": "outside",
            "tickwidth": 2
           }
          },
          "colorscale": {
           "sequential": [
            [
             0,
             "rgb(2,4,25)"
            ],
            [
             0.06274509803921569,
             "rgb(24,15,41)"
            ],
            [
             0.12549019607843137,
             "rgb(47,23,57)"
            ],
            [
             0.18823529411764706,
             "rgb(71,28,72)"
            ],
            [
             0.25098039215686274,
             "rgb(97,30,82)"
            ],
            [
             0.3137254901960784,
             "rgb(123,30,89)"
            ],
            [
             0.3764705882352941,
             "rgb(150,27,91)"
            ],
            [
             0.4392156862745098,
             "rgb(177,22,88)"
            ],
            [
             0.5019607843137255,
             "rgb(203,26,79)"
            ],
            [
             0.5647058823529412,
             "rgb(223,47,67)"
            ],
            [
             0.6274509803921569,
             "rgb(236,76,61)"
            ],
            [
             0.6901960784313725,
             "rgb(242,107,73)"
            ],
            [
             0.7529411764705882,
             "rgb(244,135,95)"
            ],
            [
             0.8156862745098039,
             "rgb(245,162,122)"
            ],
            [
             0.8784313725490196,
             "rgb(246,188,153)"
            ],
            [
             0.9411764705882353,
             "rgb(247,212,187)"
            ],
            [
             1,
             "rgb(250,234,220)"
            ]
           ],
           "sequentialminus": [
            [
             0,
             "rgb(2,4,25)"
            ],
            [
             0.06274509803921569,
             "rgb(24,15,41)"
            ],
            [
             0.12549019607843137,
             "rgb(47,23,57)"
            ],
            [
             0.18823529411764706,
             "rgb(71,28,72)"
            ],
            [
             0.25098039215686274,
             "rgb(97,30,82)"
            ],
            [
             0.3137254901960784,
             "rgb(123,30,89)"
            ],
            [
             0.3764705882352941,
             "rgb(150,27,91)"
            ],
            [
             0.4392156862745098,
             "rgb(177,22,88)"
            ],
            [
             0.5019607843137255,
             "rgb(203,26,79)"
            ],
            [
             0.5647058823529412,
             "rgb(223,47,67)"
            ],
            [
             0.6274509803921569,
             "rgb(236,76,61)"
            ],
            [
             0.6901960784313725,
             "rgb(242,107,73)"
            ],
            [
             0.7529411764705882,
             "rgb(244,135,95)"
            ],
            [
             0.8156862745098039,
             "rgb(245,162,122)"
            ],
            [
             0.8784313725490196,
             "rgb(246,188,153)"
            ],
            [
             0.9411764705882353,
             "rgb(247,212,187)"
            ],
            [
             1,
             "rgb(250,234,220)"
            ]
           ]
          },
          "colorway": [
           "rgb(76,114,176)",
           "rgb(221,132,82)",
           "rgb(85,168,104)",
           "rgb(196,78,82)",
           "rgb(129,114,179)",
           "rgb(147,120,96)",
           "rgb(218,139,195)",
           "rgb(140,140,140)",
           "rgb(204,185,116)",
           "rgb(100,181,205)"
          ],
          "font": {
           "color": "rgb(36,36,36)"
          },
          "geo": {
           "bgcolor": "white",
           "lakecolor": "white",
           "landcolor": "rgb(234,234,242)",
           "showlakes": true,
           "showland": true,
           "subunitcolor": "white"
          },
          "hoverlabel": {
           "align": "left"
          },
          "hovermode": "closest",
          "paper_bgcolor": "white",
          "plot_bgcolor": "rgb(234,234,242)",
          "polar": {
           "angularaxis": {
            "gridcolor": "white",
            "linecolor": "white",
            "showgrid": true,
            "ticks": ""
           },
           "bgcolor": "rgb(234,234,242)",
           "radialaxis": {
            "gridcolor": "white",
            "linecolor": "white",
            "showgrid": true,
            "ticks": ""
           }
          },
          "scene": {
           "xaxis": {
            "backgroundcolor": "rgb(234,234,242)",
            "gridcolor": "white",
            "gridwidth": 2,
            "linecolor": "white",
            "showbackground": true,
            "showgrid": true,
            "ticks": "",
            "zerolinecolor": "white"
           },
           "yaxis": {
            "backgroundcolor": "rgb(234,234,242)",
            "gridcolor": "white",
            "gridwidth": 2,
            "linecolor": "white",
            "showbackground": true,
            "showgrid": true,
            "ticks": "",
            "zerolinecolor": "white"
           },
           "zaxis": {
            "backgroundcolor": "rgb(234,234,242)",
            "gridcolor": "white",
            "gridwidth": 2,
            "linecolor": "white",
            "showbackground": true,
            "showgrid": true,
            "ticks": "",
            "zerolinecolor": "white"
           }
          },
          "shapedefaults": {
           "fillcolor": "rgb(67,103,167)",
           "line": {
            "width": 0
           },
           "opacity": 0.5
          },
          "ternary": {
           "aaxis": {
            "gridcolor": "white",
            "linecolor": "white",
            "showgrid": true,
            "ticks": ""
           },
           "baxis": {
            "gridcolor": "white",
            "linecolor": "white",
            "showgrid": true,
            "ticks": ""
           },
           "bgcolor": "rgb(234,234,242)",
           "caxis": {
            "gridcolor": "white",
            "linecolor": "white",
            "showgrid": true,
            "ticks": ""
           }
          },
          "xaxis": {
           "automargin": true,
           "gridcolor": "white",
           "linecolor": "white",
           "showgrid": true,
           "ticks": "",
           "title": {
            "standoff": 15
           },
           "zerolinecolor": "white"
          },
          "yaxis": {
           "automargin": true,
           "gridcolor": "white",
           "linecolor": "white",
           "showgrid": true,
           "ticks": "",
           "title": {
            "standoff": 15
           },
           "zerolinecolor": "white"
          }
         }
        },
        "title": {
         "text": "Moving Average of Relative Occurrences of Ethnicity-related Words Over 5 Years"
        },
        "xaxis": {
         "anchor": "y",
         "domain": [
          0,
          1
         ],
         "title": {
          "text": "Year"
         }
        },
        "yaxis": {
         "anchor": "x",
         "domain": [
          0,
          1
         ],
         "title": {
          "text": "Relative Word Occurrence"
         }
        }
       }
      }
     },
     "metadata": {},
     "output_type": "display_data"
    }
   ],
   "source": [
    "ethnicities=['Russian','Scandinavian','Soviet']\n",
    "fig=plot_relative_occurrences(df_sum, ethmerged, ethnicities,[\n",
    "    ('1947', '1991', 'Cold War'),('1922','1922','Start of USSR')\n",
    "])\n",
    "fig.show()\n",
    "fig_json = fig.to_json()\n",
    "\n",
    "with open('figures/ethnicity-representation3.json', 'w') as json_file:\n",
    "    json.dump(json.loads(fig_json), json_file, indent=4)"
   ]
  },
  {
   "cell_type": "markdown",
   "metadata": {},
   "source": [
    "The cold war period seems to have a delayed increase in representation after 1960, which sustains itself through the conflict. While Russian representation keeps rising afterward, the comparison with a few east european countries suggest that this is not only due to the rise of total number of films. "
   ]
  },
  {
   "cell_type": "code",
   "execution_count": 20,
   "metadata": {},
   "outputs": [
    {
     "data": {
      "application/vnd.plotly.v1+json": {
       "config": {
        "plotlyServerURL": "https://plot.ly"
       },
       "data": [
        {
         "hovertemplate": "Ethnicity=Vietnamese<br>Year=%{x}<br>Relative Word Occurrence=%{y}<extra></extra>",
         "legendgroup": "Vietnamese",
         "line": {
          "color": "rgb(76,114,176)",
          "dash": "solid"
         },
         "marker": {
          "symbol": "circle"
         },
         "mode": "lines",
         "name": "Vietnamese",
         "orientation": "v",
         "showlegend": true,
         "type": "scatter",
         "x": [
          1910,
          1911,
          1912,
          1913,
          1914,
          1915,
          1916,
          1917,
          1918,
          1919,
          1920,
          1921,
          1922,
          1923,
          1924,
          1925,
          1926,
          1927,
          1928,
          1929,
          1930,
          1931,
          1932,
          1933,
          1934,
          1935,
          1936,
          1937,
          1938,
          1939,
          1940,
          1941,
          1942,
          1943,
          1944,
          1945,
          1946,
          1947,
          1948,
          1949,
          1950,
          1951,
          1952,
          1953,
          1954,
          1955,
          1956,
          1957,
          1958,
          1959,
          1960,
          1961,
          1962,
          1963,
          1964,
          1965,
          1966,
          1967,
          1968,
          1969,
          1970,
          1971,
          1972,
          1973,
          1974,
          1975,
          1976,
          1977,
          1978,
          1979,
          1980,
          1981,
          1982,
          1983,
          1984,
          1985,
          1986,
          1987,
          1988,
          1989,
          1990,
          1991,
          1992,
          1993,
          1994,
          1995,
          1996,
          1997,
          1998,
          1999,
          2000,
          2001,
          2002,
          2003,
          2004,
          2005,
          2006,
          2007,
          2008,
          2009,
          2010,
          2011,
          2012,
          2013
         ],
         "xaxis": "x",
         "y": [
          null,
          null,
          null,
          null,
          0,
          0,
          0,
          0,
          0,
          0,
          0,
          0,
          0,
          0,
          0,
          0,
          0,
          0,
          0,
          0,
          0,
          0,
          0.000024749412201460217,
          0.000024749412201460217,
          0.000024749412201460217,
          0.000024749412201460217,
          0.000024749412201460217,
          0,
          0.00002398369109005876,
          0.00002398369109005876,
          0.00002398369109005876,
          0.00002398369109005876,
          0.00002398369109005876,
          0,
          0,
          0,
          0,
          0,
          0,
          0,
          0,
          0,
          0,
          0,
          0.00001763357432551578,
          0.00001763357432551578,
          0.00001763357432551578,
          0.000048214614080867464,
          0.00011378838457267075,
          0.00009615481024715496,
          0.00009615481024715496,
          0.00009615481024715496,
          0.00011324199961709126,
          0.00006626941960147847,
          0.00006626941960147847,
          0.00011229933904911943,
          0.00020459993131125313,
          0.00024964591063841044,
          0.0003895610077107656,
          0.0005581563023693601,
          0.0006608252676800835,
          0.0006725984190991868,
          0.0007576498335101354,
          0.0007913092494619328,
          0.000756403794375531,
          0.0006361665575465817,
          0.0006233267528906621,
          0.0005539695587826038,
          0.0008241325183529602,
          0.0008458799956935434,
          0.0009456714338540123,
          0.0009193514837933169,
          0.0009148985620809665,
          0.000569678774669061,
          0.0005523017111954649,
          0.0005777081479523256,
          0.000689386803904043,
          0.0009726750326241554,
          0.0011836083470865174,
          0.001422474297409209,
          0.0014184817655076114,
          0.0014046419687661154,
          0.0012024450284907223,
          0.0009309681463906882,
          0.0006310881110635941,
          0.0005956449989209,
          0.0004737406320578767,
          0.00032587843152369084,
          0.00028888792569606726,
          0.00026180428536521185,
          0.0002255548049686158,
          0.00026876852968926,
          0.00039594088815548596,
          0.0003937298654539788,
          0.0003972062912039484,
          0.00040929029004005326,
          0.00036130832646681855,
          0.00026446599116751457,
          0.0002864426971910731,
          0.00027590889910673313,
          0.00019674760595935842,
          0.00018549897414047424,
          0.0001414971705039267,
          0.00010214668498837748
         ],
         "yaxis": "y"
        },
        {
         "hovertemplate": "Ethnicity=Thai<br>Year=%{x}<br>Relative Word Occurrence=%{y}<extra></extra>",
         "legendgroup": "Thai",
         "line": {
          "color": "rgb(221,132,82)",
          "dash": "solid"
         },
         "marker": {
          "symbol": "circle"
         },
         "mode": "lines",
         "name": "Thai",
         "orientation": "v",
         "showlegend": true,
         "type": "scatter",
         "x": [
          1910,
          1911,
          1912,
          1913,
          1914,
          1915,
          1916,
          1917,
          1918,
          1919,
          1920,
          1921,
          1922,
          1923,
          1924,
          1925,
          1926,
          1927,
          1928,
          1929,
          1930,
          1931,
          1932,
          1933,
          1934,
          1935,
          1936,
          1937,
          1938,
          1939,
          1940,
          1941,
          1942,
          1943,
          1944,
          1945,
          1946,
          1947,
          1948,
          1949,
          1950,
          1951,
          1952,
          1953,
          1954,
          1955,
          1956,
          1957,
          1958,
          1959,
          1960,
          1961,
          1962,
          1963,
          1964,
          1965,
          1966,
          1967,
          1968,
          1969,
          1970,
          1971,
          1972,
          1973,
          1974,
          1975,
          1976,
          1977,
          1978,
          1979,
          1980,
          1981,
          1982,
          1983,
          1984,
          1985,
          1986,
          1987,
          1988,
          1989,
          1990,
          1991,
          1992,
          1993,
          1994,
          1995,
          1996,
          1997,
          1998,
          1999,
          2000,
          2001,
          2002,
          2003,
          2004,
          2005,
          2006,
          2007,
          2008,
          2009,
          2010,
          2011,
          2012,
          2013
         ],
         "xaxis": "x",
         "y": [
          null,
          null,
          null,
          null,
          0,
          0,
          0,
          0,
          0,
          0,
          0,
          0,
          0,
          0,
          0,
          0,
          0,
          0,
          0,
          0,
          0,
          0,
          0,
          0,
          0,
          0,
          0,
          0,
          0,
          0,
          0,
          0,
          0,
          0,
          0,
          0,
          0,
          0,
          0,
          0,
          0,
          0,
          0,
          0,
          0,
          0,
          0.000035313851858391456,
          0.00005060437173606729,
          0.00005060437173606729,
          0.00006439842649846471,
          0.00006439842649846471,
          0.00002908457464007325,
          0.000013794054762397408,
          0.000013794054762397408,
          0.00003200256020481638,
          0.00003200256020481638,
          0.00003200256020481638,
          0.00003200256020481638,
          0.00003200256020481638,
          0,
          0.000016522098306484923,
          0.0002246695856689589,
          0.00023834386435075844,
          0.0002657975362793789,
          0.0003994873758515714,
          0.0004114269254745015,
          0.00021848509461624716,
          0.00020481081593444762,
          0.00019019988464667994,
          0.000056510045074487436,
          0.000028048397145072325,
          0.00002366173880162307,
          0.00002366173880162307,
          0.00005961852968526767,
          0.000089202869707949,
          0.00009729021301567241,
          0.00010413047934653604,
          0.00011931650819999086,
          0.00018235295058043288,
          0.00019711286982385408,
          0.0002339256237996748,
          0.0002317666305627878,
          0.0002379321550348374,
          0.0001575269078082988,
          0.0001546690469301534,
          0.00015185143131067085,
          0.0001538576520467038,
          0.00015906652368799883,
          0.00018149400304171711,
          0.00023993266086160415,
          0.00025416502249066134,
          0.0002806911146121245,
          0.0002877491573902729,
          0.00036245691959888493,
          0.0003536924317300324,
          0.0003846216607650639,
          0.00045364050302507277,
          0.000552640035159563,
          0.00048194242797111017,
          0.00043607063516664545,
          0.00038969070319319583,
          0.00034803015741193623,
          0.00028595060098417924,
          0.0005726128170206176
         ],
         "yaxis": "y"
        },
        {
         "hovertemplate": "Ethnicity=Malaysian<br>Year=%{x}<br>Relative Word Occurrence=%{y}<extra></extra>",
         "legendgroup": "Malaysian",
         "line": {
          "color": "rgb(85,168,104)",
          "dash": "solid"
         },
         "marker": {
          "symbol": "circle"
         },
         "mode": "lines",
         "name": "Malaysian",
         "orientation": "v",
         "showlegend": true,
         "type": "scatter",
         "x": [
          1910,
          1911,
          1912,
          1913,
          1914,
          1915,
          1916,
          1917,
          1918,
          1919,
          1920,
          1921,
          1922,
          1923,
          1924,
          1925,
          1926,
          1927,
          1928,
          1929,
          1930,
          1931,
          1932,
          1933,
          1934,
          1935,
          1936,
          1937,
          1938,
          1939,
          1940,
          1941,
          1942,
          1943,
          1944,
          1945,
          1946,
          1947,
          1948,
          1949,
          1950,
          1951,
          1952,
          1953,
          1954,
          1955,
          1956,
          1957,
          1958,
          1959,
          1960,
          1961,
          1962,
          1963,
          1964,
          1965,
          1966,
          1967,
          1968,
          1969,
          1970,
          1971,
          1972,
          1973,
          1974,
          1975,
          1976,
          1977,
          1978,
          1979,
          1980,
          1981,
          1982,
          1983,
          1984,
          1985,
          1986,
          1987,
          1988,
          1989,
          1990,
          1991,
          1992,
          1993,
          1994,
          1995,
          1996,
          1997,
          1998,
          1999,
          2000,
          2001,
          2002,
          2003,
          2004,
          2005,
          2006,
          2007,
          2008,
          2009,
          2010,
          2011,
          2012,
          2013
         ],
         "xaxis": "x",
         "y": [
          null,
          null,
          null,
          null,
          0,
          0,
          0,
          0,
          0,
          0,
          0,
          0,
          0,
          0,
          0,
          0,
          0,
          0,
          0,
          0,
          0,
          0.00003061380682687892,
          0.00003061380682687892,
          0.00013765153762698595,
          0.00013765153762698595,
          0.00013765153762698595,
          0.00010703773080010703,
          0.00010703773080010703,
          0,
          0.00002477393781741608,
          0.00002477393781741608,
          0.00002477393781741608,
          0.00002477393781741608,
          0.00002477393781741608,
          0,
          0,
          0,
          0,
          0,
          0,
          0,
          0,
          0,
          0,
          0,
          0,
          0,
          0,
          0,
          0,
          0,
          0,
          0.00006355763883371733,
          0.00006355763883371733,
          0.00006355763883371733,
          0.00006355763883371733,
          0.00006355763883371733,
          0,
          0,
          0,
          0,
          0,
          0,
          0,
          0.000014854426619132503,
          0.000014854426619132503,
          0.000014854426619132503,
          0.000014854426619132503,
          0.000014854426619132503,
          0,
          0,
          0,
          0,
          0.000019519812609798946,
          0.000019519812609798946,
          0.000019519812609798946,
          0.00002834944485561591,
          0.00002834944485561591,
          0.00001628536383947959,
          0.000023676073717163343,
          0.000023676073717163343,
          0.00001484644147134638,
          0.000036197994796850804,
          0.000028742263203188177,
          0.000027278181666641158,
          0.00003328996476150709,
          0.00005079645675228701,
          0.00002944490342678258,
          0.00009309551055565057,
          0.00009216513502490606,
          0.0000948171739751353,
          0.00008531660636839958,
          0.00008531660636839958,
          0.000045989290528318555,
          0.00005985384496047633,
          0.00006526164748443762,
          0.00009093061606234082,
          0.00011745421603822845,
          0.00012090773805453506,
          0.0001497193261114869,
          0.0001710632898498377,
          0.00016532395885827863,
          0.0001564349697453113,
          0.00012865815644021771
         ],
         "yaxis": "y"
        }
       ],
       "layout": {
        "annotations": [
         {
          "showarrow": false,
          "text": "Vietnam War",
          "x": "1955",
          "xanchor": "left",
          "xref": "x",
          "y": 1,
          "yanchor": "top",
          "yref": "y domain"
         }
        ],
        "legend": {
         "title": {
          "text": "Ethnicity"
         },
         "tracegroupgap": 0
        },
        "shapes": [
         {
          "fillcolor": "rgba(255, 0, 0, 0.20)",
          "layer": "below",
          "line": {
           "width": 1
          },
          "type": "rect",
          "x0": "1955",
          "x1": "1975",
          "xref": "x",
          "y0": 0,
          "y1": 1,
          "yref": "y domain"
         }
        ],
        "template": {
         "data": {
          "bar": [
           {
            "error_x": {
             "color": "rgb(36,36,36)"
            },
            "error_y": {
             "color": "rgb(36,36,36)"
            },
            "marker": {
             "line": {
              "color": "rgb(234,234,242)",
              "width": 0.5
             },
             "pattern": {
              "fillmode": "overlay",
              "size": 10,
              "solidity": 0.2
             }
            },
            "type": "bar"
           }
          ],
          "barpolar": [
           {
            "marker": {
             "line": {
              "color": "rgb(234,234,242)",
              "width": 0.5
             },
             "pattern": {
              "fillmode": "overlay",
              "size": 10,
              "solidity": 0.2
             }
            },
            "type": "barpolar"
           }
          ],
          "carpet": [
           {
            "aaxis": {
             "endlinecolor": "rgb(36,36,36)",
             "gridcolor": "white",
             "linecolor": "white",
             "minorgridcolor": "white",
             "startlinecolor": "rgb(36,36,36)"
            },
            "baxis": {
             "endlinecolor": "rgb(36,36,36)",
             "gridcolor": "white",
             "linecolor": "white",
             "minorgridcolor": "white",
             "startlinecolor": "rgb(36,36,36)"
            },
            "type": "carpet"
           }
          ],
          "choropleth": [
           {
            "colorbar": {
             "outlinewidth": 0,
             "tickcolor": "rgb(36,36,36)",
             "ticklen": 8,
             "ticks": "outside",
             "tickwidth": 2
            },
            "type": "choropleth"
           }
          ],
          "contour": [
           {
            "colorbar": {
             "outlinewidth": 0,
             "tickcolor": "rgb(36,36,36)",
             "ticklen": 8,
             "ticks": "outside",
             "tickwidth": 2
            },
            "colorscale": [
             [
              0,
              "rgb(2,4,25)"
             ],
             [
              0.06274509803921569,
              "rgb(24,15,41)"
             ],
             [
              0.12549019607843137,
              "rgb(47,23,57)"
             ],
             [
              0.18823529411764706,
              "rgb(71,28,72)"
             ],
             [
              0.25098039215686274,
              "rgb(97,30,82)"
             ],
             [
              0.3137254901960784,
              "rgb(123,30,89)"
             ],
             [
              0.3764705882352941,
              "rgb(150,27,91)"
             ],
             [
              0.4392156862745098,
              "rgb(177,22,88)"
             ],
             [
              0.5019607843137255,
              "rgb(203,26,79)"
             ],
             [
              0.5647058823529412,
              "rgb(223,47,67)"
             ],
             [
              0.6274509803921569,
              "rgb(236,76,61)"
             ],
             [
              0.6901960784313725,
              "rgb(242,107,73)"
             ],
             [
              0.7529411764705882,
              "rgb(244,135,95)"
             ],
             [
              0.8156862745098039,
              "rgb(245,162,122)"
             ],
             [
              0.8784313725490196,
              "rgb(246,188,153)"
             ],
             [
              0.9411764705882353,
              "rgb(247,212,187)"
             ],
             [
              1,
              "rgb(250,234,220)"
             ]
            ],
            "type": "contour"
           }
          ],
          "contourcarpet": [
           {
            "colorbar": {
             "outlinewidth": 0,
             "tickcolor": "rgb(36,36,36)",
             "ticklen": 8,
             "ticks": "outside",
             "tickwidth": 2
            },
            "type": "contourcarpet"
           }
          ],
          "heatmap": [
           {
            "colorbar": {
             "outlinewidth": 0,
             "tickcolor": "rgb(36,36,36)",
             "ticklen": 8,
             "ticks": "outside",
             "tickwidth": 2
            },
            "colorscale": [
             [
              0,
              "rgb(2,4,25)"
             ],
             [
              0.06274509803921569,
              "rgb(24,15,41)"
             ],
             [
              0.12549019607843137,
              "rgb(47,23,57)"
             ],
             [
              0.18823529411764706,
              "rgb(71,28,72)"
             ],
             [
              0.25098039215686274,
              "rgb(97,30,82)"
             ],
             [
              0.3137254901960784,
              "rgb(123,30,89)"
             ],
             [
              0.3764705882352941,
              "rgb(150,27,91)"
             ],
             [
              0.4392156862745098,
              "rgb(177,22,88)"
             ],
             [
              0.5019607843137255,
              "rgb(203,26,79)"
             ],
             [
              0.5647058823529412,
              "rgb(223,47,67)"
             ],
             [
              0.6274509803921569,
              "rgb(236,76,61)"
             ],
             [
              0.6901960784313725,
              "rgb(242,107,73)"
             ],
             [
              0.7529411764705882,
              "rgb(244,135,95)"
             ],
             [
              0.8156862745098039,
              "rgb(245,162,122)"
             ],
             [
              0.8784313725490196,
              "rgb(246,188,153)"
             ],
             [
              0.9411764705882353,
              "rgb(247,212,187)"
             ],
             [
              1,
              "rgb(250,234,220)"
             ]
            ],
            "type": "heatmap"
           }
          ],
          "heatmapgl": [
           {
            "colorbar": {
             "outlinewidth": 0,
             "tickcolor": "rgb(36,36,36)",
             "ticklen": 8,
             "ticks": "outside",
             "tickwidth": 2
            },
            "colorscale": [
             [
              0,
              "rgb(2,4,25)"
             ],
             [
              0.06274509803921569,
              "rgb(24,15,41)"
             ],
             [
              0.12549019607843137,
              "rgb(47,23,57)"
             ],
             [
              0.18823529411764706,
              "rgb(71,28,72)"
             ],
             [
              0.25098039215686274,
              "rgb(97,30,82)"
             ],
             [
              0.3137254901960784,
              "rgb(123,30,89)"
             ],
             [
              0.3764705882352941,
              "rgb(150,27,91)"
             ],
             [
              0.4392156862745098,
              "rgb(177,22,88)"
             ],
             [
              0.5019607843137255,
              "rgb(203,26,79)"
             ],
             [
              0.5647058823529412,
              "rgb(223,47,67)"
             ],
             [
              0.6274509803921569,
              "rgb(236,76,61)"
             ],
             [
              0.6901960784313725,
              "rgb(242,107,73)"
             ],
             [
              0.7529411764705882,
              "rgb(244,135,95)"
             ],
             [
              0.8156862745098039,
              "rgb(245,162,122)"
             ],
             [
              0.8784313725490196,
              "rgb(246,188,153)"
             ],
             [
              0.9411764705882353,
              "rgb(247,212,187)"
             ],
             [
              1,
              "rgb(250,234,220)"
             ]
            ],
            "type": "heatmapgl"
           }
          ],
          "histogram": [
           {
            "marker": {
             "pattern": {
              "fillmode": "overlay",
              "size": 10,
              "solidity": 0.2
             }
            },
            "type": "histogram"
           }
          ],
          "histogram2d": [
           {
            "colorbar": {
             "outlinewidth": 0,
             "tickcolor": "rgb(36,36,36)",
             "ticklen": 8,
             "ticks": "outside",
             "tickwidth": 2
            },
            "colorscale": [
             [
              0,
              "rgb(2,4,25)"
             ],
             [
              0.06274509803921569,
              "rgb(24,15,41)"
             ],
             [
              0.12549019607843137,
              "rgb(47,23,57)"
             ],
             [
              0.18823529411764706,
              "rgb(71,28,72)"
             ],
             [
              0.25098039215686274,
              "rgb(97,30,82)"
             ],
             [
              0.3137254901960784,
              "rgb(123,30,89)"
             ],
             [
              0.3764705882352941,
              "rgb(150,27,91)"
             ],
             [
              0.4392156862745098,
              "rgb(177,22,88)"
             ],
             [
              0.5019607843137255,
              "rgb(203,26,79)"
             ],
             [
              0.5647058823529412,
              "rgb(223,47,67)"
             ],
             [
              0.6274509803921569,
              "rgb(236,76,61)"
             ],
             [
              0.6901960784313725,
              "rgb(242,107,73)"
             ],
             [
              0.7529411764705882,
              "rgb(244,135,95)"
             ],
             [
              0.8156862745098039,
              "rgb(245,162,122)"
             ],
             [
              0.8784313725490196,
              "rgb(246,188,153)"
             ],
             [
              0.9411764705882353,
              "rgb(247,212,187)"
             ],
             [
              1,
              "rgb(250,234,220)"
             ]
            ],
            "type": "histogram2d"
           }
          ],
          "histogram2dcontour": [
           {
            "colorbar": {
             "outlinewidth": 0,
             "tickcolor": "rgb(36,36,36)",
             "ticklen": 8,
             "ticks": "outside",
             "tickwidth": 2
            },
            "colorscale": [
             [
              0,
              "rgb(2,4,25)"
             ],
             [
              0.06274509803921569,
              "rgb(24,15,41)"
             ],
             [
              0.12549019607843137,
              "rgb(47,23,57)"
             ],
             [
              0.18823529411764706,
              "rgb(71,28,72)"
             ],
             [
              0.25098039215686274,
              "rgb(97,30,82)"
             ],
             [
              0.3137254901960784,
              "rgb(123,30,89)"
             ],
             [
              0.3764705882352941,
              "rgb(150,27,91)"
             ],
             [
              0.4392156862745098,
              "rgb(177,22,88)"
             ],
             [
              0.5019607843137255,
              "rgb(203,26,79)"
             ],
             [
              0.5647058823529412,
              "rgb(223,47,67)"
             ],
             [
              0.6274509803921569,
              "rgb(236,76,61)"
             ],
             [
              0.6901960784313725,
              "rgb(242,107,73)"
             ],
             [
              0.7529411764705882,
              "rgb(244,135,95)"
             ],
             [
              0.8156862745098039,
              "rgb(245,162,122)"
             ],
             [
              0.8784313725490196,
              "rgb(246,188,153)"
             ],
             [
              0.9411764705882353,
              "rgb(247,212,187)"
             ],
             [
              1,
              "rgb(250,234,220)"
             ]
            ],
            "type": "histogram2dcontour"
           }
          ],
          "mesh3d": [
           {
            "colorbar": {
             "outlinewidth": 0,
             "tickcolor": "rgb(36,36,36)",
             "ticklen": 8,
             "ticks": "outside",
             "tickwidth": 2
            },
            "type": "mesh3d"
           }
          ],
          "parcoords": [
           {
            "line": {
             "colorbar": {
              "outlinewidth": 0,
              "tickcolor": "rgb(36,36,36)",
              "ticklen": 8,
              "ticks": "outside",
              "tickwidth": 2
             }
            },
            "type": "parcoords"
           }
          ],
          "pie": [
           {
            "automargin": true,
            "type": "pie"
           }
          ],
          "scatter": [
           {
            "fillpattern": {
             "fillmode": "overlay",
             "size": 10,
             "solidity": 0.2
            },
            "type": "scatter"
           }
          ],
          "scatter3d": [
           {
            "line": {
             "colorbar": {
              "outlinewidth": 0,
              "tickcolor": "rgb(36,36,36)",
              "ticklen": 8,
              "ticks": "outside",
              "tickwidth": 2
             }
            },
            "marker": {
             "colorbar": {
              "outlinewidth": 0,
              "tickcolor": "rgb(36,36,36)",
              "ticklen": 8,
              "ticks": "outside",
              "tickwidth": 2
             }
            },
            "type": "scatter3d"
           }
          ],
          "scattercarpet": [
           {
            "marker": {
             "colorbar": {
              "outlinewidth": 0,
              "tickcolor": "rgb(36,36,36)",
              "ticklen": 8,
              "ticks": "outside",
              "tickwidth": 2
             }
            },
            "type": "scattercarpet"
           }
          ],
          "scattergeo": [
           {
            "marker": {
             "colorbar": {
              "outlinewidth": 0,
              "tickcolor": "rgb(36,36,36)",
              "ticklen": 8,
              "ticks": "outside",
              "tickwidth": 2
             }
            },
            "type": "scattergeo"
           }
          ],
          "scattergl": [
           {
            "marker": {
             "colorbar": {
              "outlinewidth": 0,
              "tickcolor": "rgb(36,36,36)",
              "ticklen": 8,
              "ticks": "outside",
              "tickwidth": 2
             }
            },
            "type": "scattergl"
           }
          ],
          "scattermapbox": [
           {
            "marker": {
             "colorbar": {
              "outlinewidth": 0,
              "tickcolor": "rgb(36,36,36)",
              "ticklen": 8,
              "ticks": "outside",
              "tickwidth": 2
             }
            },
            "type": "scattermapbox"
           }
          ],
          "scatterpolar": [
           {
            "marker": {
             "colorbar": {
              "outlinewidth": 0,
              "tickcolor": "rgb(36,36,36)",
              "ticklen": 8,
              "ticks": "outside",
              "tickwidth": 2
             }
            },
            "type": "scatterpolar"
           }
          ],
          "scatterpolargl": [
           {
            "marker": {
             "colorbar": {
              "outlinewidth": 0,
              "tickcolor": "rgb(36,36,36)",
              "ticklen": 8,
              "ticks": "outside",
              "tickwidth": 2
             }
            },
            "type": "scatterpolargl"
           }
          ],
          "scatterternary": [
           {
            "marker": {
             "colorbar": {
              "outlinewidth": 0,
              "tickcolor": "rgb(36,36,36)",
              "ticklen": 8,
              "ticks": "outside",
              "tickwidth": 2
             }
            },
            "type": "scatterternary"
           }
          ],
          "surface": [
           {
            "colorbar": {
             "outlinewidth": 0,
             "tickcolor": "rgb(36,36,36)",
             "ticklen": 8,
             "ticks": "outside",
             "tickwidth": 2
            },
            "colorscale": [
             [
              0,
              "rgb(2,4,25)"
             ],
             [
              0.06274509803921569,
              "rgb(24,15,41)"
             ],
             [
              0.12549019607843137,
              "rgb(47,23,57)"
             ],
             [
              0.18823529411764706,
              "rgb(71,28,72)"
             ],
             [
              0.25098039215686274,
              "rgb(97,30,82)"
             ],
             [
              0.3137254901960784,
              "rgb(123,30,89)"
             ],
             [
              0.3764705882352941,
              "rgb(150,27,91)"
             ],
             [
              0.4392156862745098,
              "rgb(177,22,88)"
             ],
             [
              0.5019607843137255,
              "rgb(203,26,79)"
             ],
             [
              0.5647058823529412,
              "rgb(223,47,67)"
             ],
             [
              0.6274509803921569,
              "rgb(236,76,61)"
             ],
             [
              0.6901960784313725,
              "rgb(242,107,73)"
             ],
             [
              0.7529411764705882,
              "rgb(244,135,95)"
             ],
             [
              0.8156862745098039,
              "rgb(245,162,122)"
             ],
             [
              0.8784313725490196,
              "rgb(246,188,153)"
             ],
             [
              0.9411764705882353,
              "rgb(247,212,187)"
             ],
             [
              1,
              "rgb(250,234,220)"
             ]
            ],
            "type": "surface"
           }
          ],
          "table": [
           {
            "cells": {
             "fill": {
              "color": "rgb(231,231,240)"
             },
             "line": {
              "color": "white"
             }
            },
            "header": {
             "fill": {
              "color": "rgb(183,183,191)"
             },
             "line": {
              "color": "white"
             }
            },
            "type": "table"
           }
          ]
         },
         "layout": {
          "annotationdefaults": {
           "arrowcolor": "rgb(67,103,167)"
          },
          "autotypenumbers": "strict",
          "coloraxis": {
           "colorbar": {
            "outlinewidth": 0,
            "tickcolor": "rgb(36,36,36)",
            "ticklen": 8,
            "ticks": "outside",
            "tickwidth": 2
           }
          },
          "colorscale": {
           "sequential": [
            [
             0,
             "rgb(2,4,25)"
            ],
            [
             0.06274509803921569,
             "rgb(24,15,41)"
            ],
            [
             0.12549019607843137,
             "rgb(47,23,57)"
            ],
            [
             0.18823529411764706,
             "rgb(71,28,72)"
            ],
            [
             0.25098039215686274,
             "rgb(97,30,82)"
            ],
            [
             0.3137254901960784,
             "rgb(123,30,89)"
            ],
            [
             0.3764705882352941,
             "rgb(150,27,91)"
            ],
            [
             0.4392156862745098,
             "rgb(177,22,88)"
            ],
            [
             0.5019607843137255,
             "rgb(203,26,79)"
            ],
            [
             0.5647058823529412,
             "rgb(223,47,67)"
            ],
            [
             0.6274509803921569,
             "rgb(236,76,61)"
            ],
            [
             0.6901960784313725,
             "rgb(242,107,73)"
            ],
            [
             0.7529411764705882,
             "rgb(244,135,95)"
            ],
            [
             0.8156862745098039,
             "rgb(245,162,122)"
            ],
            [
             0.8784313725490196,
             "rgb(246,188,153)"
            ],
            [
             0.9411764705882353,
             "rgb(247,212,187)"
            ],
            [
             1,
             "rgb(250,234,220)"
            ]
           ],
           "sequentialminus": [
            [
             0,
             "rgb(2,4,25)"
            ],
            [
             0.06274509803921569,
             "rgb(24,15,41)"
            ],
            [
             0.12549019607843137,
             "rgb(47,23,57)"
            ],
            [
             0.18823529411764706,
             "rgb(71,28,72)"
            ],
            [
             0.25098039215686274,
             "rgb(97,30,82)"
            ],
            [
             0.3137254901960784,
             "rgb(123,30,89)"
            ],
            [
             0.3764705882352941,
             "rgb(150,27,91)"
            ],
            [
             0.4392156862745098,
             "rgb(177,22,88)"
            ],
            [
             0.5019607843137255,
             "rgb(203,26,79)"
            ],
            [
             0.5647058823529412,
             "rgb(223,47,67)"
            ],
            [
             0.6274509803921569,
             "rgb(236,76,61)"
            ],
            [
             0.6901960784313725,
             "rgb(242,107,73)"
            ],
            [
             0.7529411764705882,
             "rgb(244,135,95)"
            ],
            [
             0.8156862745098039,
             "rgb(245,162,122)"
            ],
            [
             0.8784313725490196,
             "rgb(246,188,153)"
            ],
            [
             0.9411764705882353,
             "rgb(247,212,187)"
            ],
            [
             1,
             "rgb(250,234,220)"
            ]
           ]
          },
          "colorway": [
           "rgb(76,114,176)",
           "rgb(221,132,82)",
           "rgb(85,168,104)",
           "rgb(196,78,82)",
           "rgb(129,114,179)",
           "rgb(147,120,96)",
           "rgb(218,139,195)",
           "rgb(140,140,140)",
           "rgb(204,185,116)",
           "rgb(100,181,205)"
          ],
          "font": {
           "color": "rgb(36,36,36)"
          },
          "geo": {
           "bgcolor": "white",
           "lakecolor": "white",
           "landcolor": "rgb(234,234,242)",
           "showlakes": true,
           "showland": true,
           "subunitcolor": "white"
          },
          "hoverlabel": {
           "align": "left"
          },
          "hovermode": "closest",
          "paper_bgcolor": "white",
          "plot_bgcolor": "rgb(234,234,242)",
          "polar": {
           "angularaxis": {
            "gridcolor": "white",
            "linecolor": "white",
            "showgrid": true,
            "ticks": ""
           },
           "bgcolor": "rgb(234,234,242)",
           "radialaxis": {
            "gridcolor": "white",
            "linecolor": "white",
            "showgrid": true,
            "ticks": ""
           }
          },
          "scene": {
           "xaxis": {
            "backgroundcolor": "rgb(234,234,242)",
            "gridcolor": "white",
            "gridwidth": 2,
            "linecolor": "white",
            "showbackground": true,
            "showgrid": true,
            "ticks": "",
            "zerolinecolor": "white"
           },
           "yaxis": {
            "backgroundcolor": "rgb(234,234,242)",
            "gridcolor": "white",
            "gridwidth": 2,
            "linecolor": "white",
            "showbackground": true,
            "showgrid": true,
            "ticks": "",
            "zerolinecolor": "white"
           },
           "zaxis": {
            "backgroundcolor": "rgb(234,234,242)",
            "gridcolor": "white",
            "gridwidth": 2,
            "linecolor": "white",
            "showbackground": true,
            "showgrid": true,
            "ticks": "",
            "zerolinecolor": "white"
           }
          },
          "shapedefaults": {
           "fillcolor": "rgb(67,103,167)",
           "line": {
            "width": 0
           },
           "opacity": 0.5
          },
          "ternary": {
           "aaxis": {
            "gridcolor": "white",
            "linecolor": "white",
            "showgrid": true,
            "ticks": ""
           },
           "baxis": {
            "gridcolor": "white",
            "linecolor": "white",
            "showgrid": true,
            "ticks": ""
           },
           "bgcolor": "rgb(234,234,242)",
           "caxis": {
            "gridcolor": "white",
            "linecolor": "white",
            "showgrid": true,
            "ticks": ""
           }
          },
          "xaxis": {
           "automargin": true,
           "gridcolor": "white",
           "linecolor": "white",
           "showgrid": true,
           "ticks": "",
           "title": {
            "standoff": 15
           },
           "zerolinecolor": "white"
          },
          "yaxis": {
           "automargin": true,
           "gridcolor": "white",
           "linecolor": "white",
           "showgrid": true,
           "ticks": "",
           "title": {
            "standoff": 15
           },
           "zerolinecolor": "white"
          }
         }
        },
        "title": {
         "text": "Moving Average of Relative Occurrences of Ethnicity-related Words Over 5 Years"
        },
        "xaxis": {
         "anchor": "y",
         "domain": [
          0,
          1
         ],
         "title": {
          "text": "Year"
         }
        },
        "yaxis": {
         "anchor": "x",
         "domain": [
          0,
          1
         ],
         "title": {
          "text": "Relative Word Occurrence"
         }
        }
       }
      }
     },
     "metadata": {},
     "output_type": "display_data"
    }
   ],
   "source": [
    "ethnicities=['Vietnamese','Thai','Malaysian']\n",
    "fig = plot_relative_occurrences(df_sum, ethmerged, ethnicities,[\n",
    "    ('1955', '1975', 'Vietnam War')\n",
    "])\n",
    "fig.show()\n",
    "\n",
    "fig_json = fig.to_json()\n",
    "\n",
    "with open('figures/ethnicity-representation4.json', 'w') as json_file:\n",
    "    json.dump(json.loads(fig_json), json_file, indent=4)"
   ]
  },
  {
   "cell_type": "markdown",
   "metadata": {},
   "source": [
    "The Vietnam war display similar behavior to the cold war but we can observe a decrease in representation after some time, the War in Afghanistan seem to display an surge of interest as well. The data does not stop abruptly in the dataset, so the last years having few representations is mainly due to lack of data."
   ]
  },
  {
   "cell_type": "code",
   "execution_count": 21,
   "metadata": {},
   "outputs": [
    {
     "data": {
      "application/vnd.plotly.v1+json": {
       "config": {
        "plotlyServerURL": "https://plot.ly"
       },
       "data": [
        {
         "hovertemplate": "Ethnicity=Afghan<br>Year=%{x}<br>Relative Word Occurrence=%{y}<extra></extra>",
         "legendgroup": "Afghan",
         "line": {
          "color": "rgb(76,114,176)",
          "dash": "solid"
         },
         "marker": {
          "symbol": "circle"
         },
         "mode": "lines",
         "name": "Afghan",
         "orientation": "v",
         "showlegend": true,
         "type": "scatter",
         "x": [
          1910,
          1911,
          1912,
          1913,
          1914,
          1915,
          1916,
          1917,
          1918,
          1919,
          1920,
          1921,
          1922,
          1923,
          1924,
          1925,
          1926,
          1927,
          1928,
          1929,
          1930,
          1931,
          1932,
          1933,
          1934,
          1935,
          1936,
          1937,
          1938,
          1939,
          1940,
          1941,
          1942,
          1943,
          1944,
          1945,
          1946,
          1947,
          1948,
          1949,
          1950,
          1951,
          1952,
          1953,
          1954,
          1955,
          1956,
          1957,
          1958,
          1959,
          1960,
          1961,
          1962,
          1963,
          1964,
          1965,
          1966,
          1967,
          1968,
          1969,
          1970,
          1971,
          1972,
          1973,
          1974,
          1975,
          1976,
          1977,
          1978,
          1979,
          1980,
          1981,
          1982,
          1983,
          1984,
          1985,
          1986,
          1987,
          1988,
          1989,
          1990,
          1991,
          1992,
          1993,
          1994,
          1995,
          1996,
          1997,
          1998,
          1999,
          2000,
          2001,
          2002,
          2003,
          2004,
          2005,
          2006,
          2007,
          2008,
          2009,
          2010,
          2011,
          2012,
          2013
         ],
         "xaxis": "x",
         "y": [
          null,
          null,
          null,
          null,
          0,
          0,
          0,
          0,
          0,
          0,
          0,
          0.00011771630370806356,
          0.00011771630370806356,
          0.00011771630370806356,
          0.00011771630370806356,
          0.00011771630370806356,
          0,
          0,
          0,
          0,
          0,
          0,
          0,
          0.000053518865400053516,
          0.000053518865400053516,
          0.000053518865400053516,
          0.000053518865400053516,
          0.00007732555507985354,
          0.000023806689679800024,
          0.000023806689679800024,
          0.000023806689679800024,
          0.000023806689679800024,
          0,
          0,
          0,
          0,
          0,
          0,
          0.00001891610706516599,
          0.00001891610706516599,
          0.00001891610706516599,
          0.00001891610706516599,
          0.00001891610706516599,
          0.000014980151299528127,
          0.000032613725625043905,
          0.000032613725625043905,
          0.00006792757748343535,
          0.00006792757748343535,
          0.000052947426183907236,
          0.000035313851858391456,
          0.000035313851858391456,
          0.000056338028169014086,
          0.000056338028169014086,
          0.000056338028169014086,
          0.000056338028169014086,
          0.000056338028169014086,
          0.000015383432043688946,
          0.000030835800119096506,
          0.00006253905762880564,
          0.00006253905762880564,
          0.00006253905762880564,
          0.00004715562558511668,
          0.000031703257509709124,
          0,
          0,
          0.00011384659171766046,
          0.00011384659171766046,
          0.00011384659171766046,
          0.00011384659171766046,
          0.00011384659171766046,
          0,
          0,
          0,
          0.000009759906304899473,
          0.00002948279965335369,
          0.00003757014296107711,
          0.000055229407452711025,
          0.00007800845073289327,
          0.00012043866558363218,
          0.00010071577223517796,
          0.00009262842892745454,
          0.00009821957131794107,
          0.00008967489692142845,
          0.00003748477576579006,
          0.00003748477576579006,
          0.00004950834195552194,
          0.00003209343240366147,
          0.00002317114851335174,
          0.000028067349061726203,
          0.000033063601872118406,
          0.00002104003568238653,
          0.000075248971232458,
          0.00009981996867905178,
          0.0001088227917242699,
          0.00014154815339897762,
          0.00015280545305422282,
          0.00014808405861137637,
          0.00017607064884608663,
          0.00022466945518895463,
          0.0002441547150632568,
          0.0002928314879282394,
          0.00028096376811135844,
          0.0002407287062996148,
          0.00017823087636315425
         ],
         "yaxis": "y"
        },
        {
         "hovertemplate": "Ethnicity=Iranian<br>Year=%{x}<br>Relative Word Occurrence=%{y}<extra></extra>",
         "legendgroup": "Iranian",
         "line": {
          "color": "rgb(221,132,82)",
          "dash": "solid"
         },
         "marker": {
          "symbol": "circle"
         },
         "mode": "lines",
         "name": "Iranian",
         "orientation": "v",
         "showlegend": true,
         "type": "scatter",
         "x": [
          1910,
          1911,
          1912,
          1913,
          1914,
          1915,
          1916,
          1917,
          1918,
          1919,
          1920,
          1921,
          1922,
          1923,
          1924,
          1925,
          1926,
          1927,
          1928,
          1929,
          1930,
          1931,
          1932,
          1933,
          1934,
          1935,
          1936,
          1937,
          1938,
          1939,
          1940,
          1941,
          1942,
          1943,
          1944,
          1945,
          1946,
          1947,
          1948,
          1949,
          1950,
          1951,
          1952,
          1953,
          1954,
          1955,
          1956,
          1957,
          1958,
          1959,
          1960,
          1961,
          1962,
          1963,
          1964,
          1965,
          1966,
          1967,
          1968,
          1969,
          1970,
          1971,
          1972,
          1973,
          1974,
          1975,
          1976,
          1977,
          1978,
          1979,
          1980,
          1981,
          1982,
          1983,
          1984,
          1985,
          1986,
          1987,
          1988,
          1989,
          1990,
          1991,
          1992,
          1993,
          1994,
          1995,
          1996,
          1997,
          1998,
          1999,
          2000,
          2001,
          2002,
          2003,
          2004,
          2005,
          2006,
          2007,
          2008,
          2009,
          2010,
          2011,
          2012,
          2013
         ],
         "xaxis": "x",
         "y": [
          null,
          null,
          null,
          null,
          0,
          0,
          0,
          0,
          0,
          0,
          0,
          0,
          0,
          0,
          0,
          0,
          0,
          0,
          0,
          0,
          0,
          0,
          0,
          0,
          0.00002624327516074006,
          0.00002624327516074006,
          0.00002624327516074006,
          0.00002624327516074006,
          0.00002624327516074006,
          0,
          0,
          0,
          0,
          0,
          0,
          0,
          0,
          0,
          0,
          0,
          0,
          0,
          0,
          0,
          0,
          0,
          0,
          0,
          0,
          0.000013794054762397408,
          0.000013794054762397408,
          0.000013794054762397408,
          0.000013794054762397408,
          0.000013794054762397408,
          0,
          0,
          0.000015383432043688946,
          0.000015383432043688946,
          0.00003123506079854351,
          0.00003123506079854351,
          0.00003123506079854351,
          0.000015851628754854562,
          0.000015851628754854562,
          0,
          0.000029708853238265006,
          0.000029708853238265006,
          0.000029708853238265006,
          0.000029708853238265006,
          0.00005539433451997052,
          0.000025685481281705514,
          0.000025685481281705514,
          0.000025685481281705514,
          0.000025685481281705514,
          0.0000683193441342963,
          0.00008804223748275053,
          0.00010421692409819734,
          0.00010421692409819734,
          0.00011180993852492477,
          0.00004349059439062846,
          0.00004593983067522549,
          0.000037248493607036016,
          0.00009924957862602384,
          0.00009877374864113125,
          0.00011763218464817173,
          0.00009546005501512048,
          0.00011803562094219282,
          0.00006187003325346495,
          0.00006006493380499003,
          0.00006079129999144739,
          0.00007578005842262401,
          0.000054384964993389524,
          0.00006456131643121793,
          0.00008913231387781174,
          0.000073022267582712,
          0.0000674639127728104,
          0.00010382928934869599,
          0.00009984418806701738,
          0.00011336336013306164,
          0.00013998015198184822,
          0.0001377006076554985,
          0.00010901706517639799,
          0.00013734168498054911,
          0.00011157404133747145,
          0.00008148249359028674
         ],
         "yaxis": "y"
        }
       ],
       "layout": {
        "annotations": [
         {
          "showarrow": false,
          "text": "Afghanistan War",
          "x": "2001",
          "xanchor": "left",
          "xref": "x",
          "y": 1,
          "yanchor": "top",
          "yref": "y domain"
         }
        ],
        "legend": {
         "title": {
          "text": "Ethnicity"
         },
         "tracegroupgap": 0
        },
        "shapes": [
         {
          "fillcolor": "rgba(255, 0, 0, 0.20)",
          "layer": "below",
          "line": {
           "width": 1
          },
          "type": "rect",
          "x0": "2001",
          "x1": "2021",
          "xref": "x",
          "y0": 0,
          "y1": 1,
          "yref": "y domain"
         }
        ],
        "template": {
         "data": {
          "bar": [
           {
            "error_x": {
             "color": "rgb(36,36,36)"
            },
            "error_y": {
             "color": "rgb(36,36,36)"
            },
            "marker": {
             "line": {
              "color": "rgb(234,234,242)",
              "width": 0.5
             },
             "pattern": {
              "fillmode": "overlay",
              "size": 10,
              "solidity": 0.2
             }
            },
            "type": "bar"
           }
          ],
          "barpolar": [
           {
            "marker": {
             "line": {
              "color": "rgb(234,234,242)",
              "width": 0.5
             },
             "pattern": {
              "fillmode": "overlay",
              "size": 10,
              "solidity": 0.2
             }
            },
            "type": "barpolar"
           }
          ],
          "carpet": [
           {
            "aaxis": {
             "endlinecolor": "rgb(36,36,36)",
             "gridcolor": "white",
             "linecolor": "white",
             "minorgridcolor": "white",
             "startlinecolor": "rgb(36,36,36)"
            },
            "baxis": {
             "endlinecolor": "rgb(36,36,36)",
             "gridcolor": "white",
             "linecolor": "white",
             "minorgridcolor": "white",
             "startlinecolor": "rgb(36,36,36)"
            },
            "type": "carpet"
           }
          ],
          "choropleth": [
           {
            "colorbar": {
             "outlinewidth": 0,
             "tickcolor": "rgb(36,36,36)",
             "ticklen": 8,
             "ticks": "outside",
             "tickwidth": 2
            },
            "type": "choropleth"
           }
          ],
          "contour": [
           {
            "colorbar": {
             "outlinewidth": 0,
             "tickcolor": "rgb(36,36,36)",
             "ticklen": 8,
             "ticks": "outside",
             "tickwidth": 2
            },
            "colorscale": [
             [
              0,
              "rgb(2,4,25)"
             ],
             [
              0.06274509803921569,
              "rgb(24,15,41)"
             ],
             [
              0.12549019607843137,
              "rgb(47,23,57)"
             ],
             [
              0.18823529411764706,
              "rgb(71,28,72)"
             ],
             [
              0.25098039215686274,
              "rgb(97,30,82)"
             ],
             [
              0.3137254901960784,
              "rgb(123,30,89)"
             ],
             [
              0.3764705882352941,
              "rgb(150,27,91)"
             ],
             [
              0.4392156862745098,
              "rgb(177,22,88)"
             ],
             [
              0.5019607843137255,
              "rgb(203,26,79)"
             ],
             [
              0.5647058823529412,
              "rgb(223,47,67)"
             ],
             [
              0.6274509803921569,
              "rgb(236,76,61)"
             ],
             [
              0.6901960784313725,
              "rgb(242,107,73)"
             ],
             [
              0.7529411764705882,
              "rgb(244,135,95)"
             ],
             [
              0.8156862745098039,
              "rgb(245,162,122)"
             ],
             [
              0.8784313725490196,
              "rgb(246,188,153)"
             ],
             [
              0.9411764705882353,
              "rgb(247,212,187)"
             ],
             [
              1,
              "rgb(250,234,220)"
             ]
            ],
            "type": "contour"
           }
          ],
          "contourcarpet": [
           {
            "colorbar": {
             "outlinewidth": 0,
             "tickcolor": "rgb(36,36,36)",
             "ticklen": 8,
             "ticks": "outside",
             "tickwidth": 2
            },
            "type": "contourcarpet"
           }
          ],
          "heatmap": [
           {
            "colorbar": {
             "outlinewidth": 0,
             "tickcolor": "rgb(36,36,36)",
             "ticklen": 8,
             "ticks": "outside",
             "tickwidth": 2
            },
            "colorscale": [
             [
              0,
              "rgb(2,4,25)"
             ],
             [
              0.06274509803921569,
              "rgb(24,15,41)"
             ],
             [
              0.12549019607843137,
              "rgb(47,23,57)"
             ],
             [
              0.18823529411764706,
              "rgb(71,28,72)"
             ],
             [
              0.25098039215686274,
              "rgb(97,30,82)"
             ],
             [
              0.3137254901960784,
              "rgb(123,30,89)"
             ],
             [
              0.3764705882352941,
              "rgb(150,27,91)"
             ],
             [
              0.4392156862745098,
              "rgb(177,22,88)"
             ],
             [
              0.5019607843137255,
              "rgb(203,26,79)"
             ],
             [
              0.5647058823529412,
              "rgb(223,47,67)"
             ],
             [
              0.6274509803921569,
              "rgb(236,76,61)"
             ],
             [
              0.6901960784313725,
              "rgb(242,107,73)"
             ],
             [
              0.7529411764705882,
              "rgb(244,135,95)"
             ],
             [
              0.8156862745098039,
              "rgb(245,162,122)"
             ],
             [
              0.8784313725490196,
              "rgb(246,188,153)"
             ],
             [
              0.9411764705882353,
              "rgb(247,212,187)"
             ],
             [
              1,
              "rgb(250,234,220)"
             ]
            ],
            "type": "heatmap"
           }
          ],
          "heatmapgl": [
           {
            "colorbar": {
             "outlinewidth": 0,
             "tickcolor": "rgb(36,36,36)",
             "ticklen": 8,
             "ticks": "outside",
             "tickwidth": 2
            },
            "colorscale": [
             [
              0,
              "rgb(2,4,25)"
             ],
             [
              0.06274509803921569,
              "rgb(24,15,41)"
             ],
             [
              0.12549019607843137,
              "rgb(47,23,57)"
             ],
             [
              0.18823529411764706,
              "rgb(71,28,72)"
             ],
             [
              0.25098039215686274,
              "rgb(97,30,82)"
             ],
             [
              0.3137254901960784,
              "rgb(123,30,89)"
             ],
             [
              0.3764705882352941,
              "rgb(150,27,91)"
             ],
             [
              0.4392156862745098,
              "rgb(177,22,88)"
             ],
             [
              0.5019607843137255,
              "rgb(203,26,79)"
             ],
             [
              0.5647058823529412,
              "rgb(223,47,67)"
             ],
             [
              0.6274509803921569,
              "rgb(236,76,61)"
             ],
             [
              0.6901960784313725,
              "rgb(242,107,73)"
             ],
             [
              0.7529411764705882,
              "rgb(244,135,95)"
             ],
             [
              0.8156862745098039,
              "rgb(245,162,122)"
             ],
             [
              0.8784313725490196,
              "rgb(246,188,153)"
             ],
             [
              0.9411764705882353,
              "rgb(247,212,187)"
             ],
             [
              1,
              "rgb(250,234,220)"
             ]
            ],
            "type": "heatmapgl"
           }
          ],
          "histogram": [
           {
            "marker": {
             "pattern": {
              "fillmode": "overlay",
              "size": 10,
              "solidity": 0.2
             }
            },
            "type": "histogram"
           }
          ],
          "histogram2d": [
           {
            "colorbar": {
             "outlinewidth": 0,
             "tickcolor": "rgb(36,36,36)",
             "ticklen": 8,
             "ticks": "outside",
             "tickwidth": 2
            },
            "colorscale": [
             [
              0,
              "rgb(2,4,25)"
             ],
             [
              0.06274509803921569,
              "rgb(24,15,41)"
             ],
             [
              0.12549019607843137,
              "rgb(47,23,57)"
             ],
             [
              0.18823529411764706,
              "rgb(71,28,72)"
             ],
             [
              0.25098039215686274,
              "rgb(97,30,82)"
             ],
             [
              0.3137254901960784,
              "rgb(123,30,89)"
             ],
             [
              0.3764705882352941,
              "rgb(150,27,91)"
             ],
             [
              0.4392156862745098,
              "rgb(177,22,88)"
             ],
             [
              0.5019607843137255,
              "rgb(203,26,79)"
             ],
             [
              0.5647058823529412,
              "rgb(223,47,67)"
             ],
             [
              0.6274509803921569,
              "rgb(236,76,61)"
             ],
             [
              0.6901960784313725,
              "rgb(242,107,73)"
             ],
             [
              0.7529411764705882,
              "rgb(244,135,95)"
             ],
             [
              0.8156862745098039,
              "rgb(245,162,122)"
             ],
             [
              0.8784313725490196,
              "rgb(246,188,153)"
             ],
             [
              0.9411764705882353,
              "rgb(247,212,187)"
             ],
             [
              1,
              "rgb(250,234,220)"
             ]
            ],
            "type": "histogram2d"
           }
          ],
          "histogram2dcontour": [
           {
            "colorbar": {
             "outlinewidth": 0,
             "tickcolor": "rgb(36,36,36)",
             "ticklen": 8,
             "ticks": "outside",
             "tickwidth": 2
            },
            "colorscale": [
             [
              0,
              "rgb(2,4,25)"
             ],
             [
              0.06274509803921569,
              "rgb(24,15,41)"
             ],
             [
              0.12549019607843137,
              "rgb(47,23,57)"
             ],
             [
              0.18823529411764706,
              "rgb(71,28,72)"
             ],
             [
              0.25098039215686274,
              "rgb(97,30,82)"
             ],
             [
              0.3137254901960784,
              "rgb(123,30,89)"
             ],
             [
              0.3764705882352941,
              "rgb(150,27,91)"
             ],
             [
              0.4392156862745098,
              "rgb(177,22,88)"
             ],
             [
              0.5019607843137255,
              "rgb(203,26,79)"
             ],
             [
              0.5647058823529412,
              "rgb(223,47,67)"
             ],
             [
              0.6274509803921569,
              "rgb(236,76,61)"
             ],
             [
              0.6901960784313725,
              "rgb(242,107,73)"
             ],
             [
              0.7529411764705882,
              "rgb(244,135,95)"
             ],
             [
              0.8156862745098039,
              "rgb(245,162,122)"
             ],
             [
              0.8784313725490196,
              "rgb(246,188,153)"
             ],
             [
              0.9411764705882353,
              "rgb(247,212,187)"
             ],
             [
              1,
              "rgb(250,234,220)"
             ]
            ],
            "type": "histogram2dcontour"
           }
          ],
          "mesh3d": [
           {
            "colorbar": {
             "outlinewidth": 0,
             "tickcolor": "rgb(36,36,36)",
             "ticklen": 8,
             "ticks": "outside",
             "tickwidth": 2
            },
            "type": "mesh3d"
           }
          ],
          "parcoords": [
           {
            "line": {
             "colorbar": {
              "outlinewidth": 0,
              "tickcolor": "rgb(36,36,36)",
              "ticklen": 8,
              "ticks": "outside",
              "tickwidth": 2
             }
            },
            "type": "parcoords"
           }
          ],
          "pie": [
           {
            "automargin": true,
            "type": "pie"
           }
          ],
          "scatter": [
           {
            "fillpattern": {
             "fillmode": "overlay",
             "size": 10,
             "solidity": 0.2
            },
            "type": "scatter"
           }
          ],
          "scatter3d": [
           {
            "line": {
             "colorbar": {
              "outlinewidth": 0,
              "tickcolor": "rgb(36,36,36)",
              "ticklen": 8,
              "ticks": "outside",
              "tickwidth": 2
             }
            },
            "marker": {
             "colorbar": {
              "outlinewidth": 0,
              "tickcolor": "rgb(36,36,36)",
              "ticklen": 8,
              "ticks": "outside",
              "tickwidth": 2
             }
            },
            "type": "scatter3d"
           }
          ],
          "scattercarpet": [
           {
            "marker": {
             "colorbar": {
              "outlinewidth": 0,
              "tickcolor": "rgb(36,36,36)",
              "ticklen": 8,
              "ticks": "outside",
              "tickwidth": 2
             }
            },
            "type": "scattercarpet"
           }
          ],
          "scattergeo": [
           {
            "marker": {
             "colorbar": {
              "outlinewidth": 0,
              "tickcolor": "rgb(36,36,36)",
              "ticklen": 8,
              "ticks": "outside",
              "tickwidth": 2
             }
            },
            "type": "scattergeo"
           }
          ],
          "scattergl": [
           {
            "marker": {
             "colorbar": {
              "outlinewidth": 0,
              "tickcolor": "rgb(36,36,36)",
              "ticklen": 8,
              "ticks": "outside",
              "tickwidth": 2
             }
            },
            "type": "scattergl"
           }
          ],
          "scattermapbox": [
           {
            "marker": {
             "colorbar": {
              "outlinewidth": 0,
              "tickcolor": "rgb(36,36,36)",
              "ticklen": 8,
              "ticks": "outside",
              "tickwidth": 2
             }
            },
            "type": "scattermapbox"
           }
          ],
          "scatterpolar": [
           {
            "marker": {
             "colorbar": {
              "outlinewidth": 0,
              "tickcolor": "rgb(36,36,36)",
              "ticklen": 8,
              "ticks": "outside",
              "tickwidth": 2
             }
            },
            "type": "scatterpolar"
           }
          ],
          "scatterpolargl": [
           {
            "marker": {
             "colorbar": {
              "outlinewidth": 0,
              "tickcolor": "rgb(36,36,36)",
              "ticklen": 8,
              "ticks": "outside",
              "tickwidth": 2
             }
            },
            "type": "scatterpolargl"
           }
          ],
          "scatterternary": [
           {
            "marker": {
             "colorbar": {
              "outlinewidth": 0,
              "tickcolor": "rgb(36,36,36)",
              "ticklen": 8,
              "ticks": "outside",
              "tickwidth": 2
             }
            },
            "type": "scatterternary"
           }
          ],
          "surface": [
           {
            "colorbar": {
             "outlinewidth": 0,
             "tickcolor": "rgb(36,36,36)",
             "ticklen": 8,
             "ticks": "outside",
             "tickwidth": 2
            },
            "colorscale": [
             [
              0,
              "rgb(2,4,25)"
             ],
             [
              0.06274509803921569,
              "rgb(24,15,41)"
             ],
             [
              0.12549019607843137,
              "rgb(47,23,57)"
             ],
             [
              0.18823529411764706,
              "rgb(71,28,72)"
             ],
             [
              0.25098039215686274,
              "rgb(97,30,82)"
             ],
             [
              0.3137254901960784,
              "rgb(123,30,89)"
             ],
             [
              0.3764705882352941,
              "rgb(150,27,91)"
             ],
             [
              0.4392156862745098,
              "rgb(177,22,88)"
             ],
             [
              0.5019607843137255,
              "rgb(203,26,79)"
             ],
             [
              0.5647058823529412,
              "rgb(223,47,67)"
             ],
             [
              0.6274509803921569,
              "rgb(236,76,61)"
             ],
             [
              0.6901960784313725,
              "rgb(242,107,73)"
             ],
             [
              0.7529411764705882,
              "rgb(244,135,95)"
             ],
             [
              0.8156862745098039,
              "rgb(245,162,122)"
             ],
             [
              0.8784313725490196,
              "rgb(246,188,153)"
             ],
             [
              0.9411764705882353,
              "rgb(247,212,187)"
             ],
             [
              1,
              "rgb(250,234,220)"
             ]
            ],
            "type": "surface"
           }
          ],
          "table": [
           {
            "cells": {
             "fill": {
              "color": "rgb(231,231,240)"
             },
             "line": {
              "color": "white"
             }
            },
            "header": {
             "fill": {
              "color": "rgb(183,183,191)"
             },
             "line": {
              "color": "white"
             }
            },
            "type": "table"
           }
          ]
         },
         "layout": {
          "annotationdefaults": {
           "arrowcolor": "rgb(67,103,167)"
          },
          "autotypenumbers": "strict",
          "coloraxis": {
           "colorbar": {
            "outlinewidth": 0,
            "tickcolor": "rgb(36,36,36)",
            "ticklen": 8,
            "ticks": "outside",
            "tickwidth": 2
           }
          },
          "colorscale": {
           "sequential": [
            [
             0,
             "rgb(2,4,25)"
            ],
            [
             0.06274509803921569,
             "rgb(24,15,41)"
            ],
            [
             0.12549019607843137,
             "rgb(47,23,57)"
            ],
            [
             0.18823529411764706,
             "rgb(71,28,72)"
            ],
            [
             0.25098039215686274,
             "rgb(97,30,82)"
            ],
            [
             0.3137254901960784,
             "rgb(123,30,89)"
            ],
            [
             0.3764705882352941,
             "rgb(150,27,91)"
            ],
            [
             0.4392156862745098,
             "rgb(177,22,88)"
            ],
            [
             0.5019607843137255,
             "rgb(203,26,79)"
            ],
            [
             0.5647058823529412,
             "rgb(223,47,67)"
            ],
            [
             0.6274509803921569,
             "rgb(236,76,61)"
            ],
            [
             0.6901960784313725,
             "rgb(242,107,73)"
            ],
            [
             0.7529411764705882,
             "rgb(244,135,95)"
            ],
            [
             0.8156862745098039,
             "rgb(245,162,122)"
            ],
            [
             0.8784313725490196,
             "rgb(246,188,153)"
            ],
            [
             0.9411764705882353,
             "rgb(247,212,187)"
            ],
            [
             1,
             "rgb(250,234,220)"
            ]
           ],
           "sequentialminus": [
            [
             0,
             "rgb(2,4,25)"
            ],
            [
             0.06274509803921569,
             "rgb(24,15,41)"
            ],
            [
             0.12549019607843137,
             "rgb(47,23,57)"
            ],
            [
             0.18823529411764706,
             "rgb(71,28,72)"
            ],
            [
             0.25098039215686274,
             "rgb(97,30,82)"
            ],
            [
             0.3137254901960784,
             "rgb(123,30,89)"
            ],
            [
             0.3764705882352941,
             "rgb(150,27,91)"
            ],
            [
             0.4392156862745098,
             "rgb(177,22,88)"
            ],
            [
             0.5019607843137255,
             "rgb(203,26,79)"
            ],
            [
             0.5647058823529412,
             "rgb(223,47,67)"
            ],
            [
             0.6274509803921569,
             "rgb(236,76,61)"
            ],
            [
             0.6901960784313725,
             "rgb(242,107,73)"
            ],
            [
             0.7529411764705882,
             "rgb(244,135,95)"
            ],
            [
             0.8156862745098039,
             "rgb(245,162,122)"
            ],
            [
             0.8784313725490196,
             "rgb(246,188,153)"
            ],
            [
             0.9411764705882353,
             "rgb(247,212,187)"
            ],
            [
             1,
             "rgb(250,234,220)"
            ]
           ]
          },
          "colorway": [
           "rgb(76,114,176)",
           "rgb(221,132,82)",
           "rgb(85,168,104)",
           "rgb(196,78,82)",
           "rgb(129,114,179)",
           "rgb(147,120,96)",
           "rgb(218,139,195)",
           "rgb(140,140,140)",
           "rgb(204,185,116)",
           "rgb(100,181,205)"
          ],
          "font": {
           "color": "rgb(36,36,36)"
          },
          "geo": {
           "bgcolor": "white",
           "lakecolor": "white",
           "landcolor": "rgb(234,234,242)",
           "showlakes": true,
           "showland": true,
           "subunitcolor": "white"
          },
          "hoverlabel": {
           "align": "left"
          },
          "hovermode": "closest",
          "paper_bgcolor": "white",
          "plot_bgcolor": "rgb(234,234,242)",
          "polar": {
           "angularaxis": {
            "gridcolor": "white",
            "linecolor": "white",
            "showgrid": true,
            "ticks": ""
           },
           "bgcolor": "rgb(234,234,242)",
           "radialaxis": {
            "gridcolor": "white",
            "linecolor": "white",
            "showgrid": true,
            "ticks": ""
           }
          },
          "scene": {
           "xaxis": {
            "backgroundcolor": "rgb(234,234,242)",
            "gridcolor": "white",
            "gridwidth": 2,
            "linecolor": "white",
            "showbackground": true,
            "showgrid": true,
            "ticks": "",
            "zerolinecolor": "white"
           },
           "yaxis": {
            "backgroundcolor": "rgb(234,234,242)",
            "gridcolor": "white",
            "gridwidth": 2,
            "linecolor": "white",
            "showbackground": true,
            "showgrid": true,
            "ticks": "",
            "zerolinecolor": "white"
           },
           "zaxis": {
            "backgroundcolor": "rgb(234,234,242)",
            "gridcolor": "white",
            "gridwidth": 2,
            "linecolor": "white",
            "showbackground": true,
            "showgrid": true,
            "ticks": "",
            "zerolinecolor": "white"
           }
          },
          "shapedefaults": {
           "fillcolor": "rgb(67,103,167)",
           "line": {
            "width": 0
           },
           "opacity": 0.5
          },
          "ternary": {
           "aaxis": {
            "gridcolor": "white",
            "linecolor": "white",
            "showgrid": true,
            "ticks": ""
           },
           "baxis": {
            "gridcolor": "white",
            "linecolor": "white",
            "showgrid": true,
            "ticks": ""
           },
           "bgcolor": "rgb(234,234,242)",
           "caxis": {
            "gridcolor": "white",
            "linecolor": "white",
            "showgrid": true,
            "ticks": ""
           }
          },
          "xaxis": {
           "automargin": true,
           "gridcolor": "white",
           "linecolor": "white",
           "showgrid": true,
           "ticks": "",
           "title": {
            "standoff": 15
           },
           "zerolinecolor": "white"
          },
          "yaxis": {
           "automargin": true,
           "gridcolor": "white",
           "linecolor": "white",
           "showgrid": true,
           "ticks": "",
           "title": {
            "standoff": 15
           },
           "zerolinecolor": "white"
          }
         }
        },
        "title": {
         "text": "Moving Average of Relative Occurrences of Ethnicity-related Words Over 5 Years"
        },
        "xaxis": {
         "anchor": "y",
         "domain": [
          0,
          1
         ],
         "title": {
          "text": "Year"
         }
        },
        "yaxis": {
         "anchor": "x",
         "domain": [
          0,
          1
         ],
         "title": {
          "text": "Relative Word Occurrence"
         }
        }
       }
      }
     },
     "metadata": {},
     "output_type": "display_data"
    }
   ],
   "source": [
    "ethnicities=['Afghan','Iranian']\n",
    "fig = plot_relative_occurrences(df_sum, ethmerged, ethnicities,[\n",
    "    ('2001', '2021', 'Afghanistan War')\n",
    "])\n",
    "fig.show()\n",
    "\n",
    "fig_json = fig.to_json()\n",
    "\n",
    "with open('figures/ethnicity-representation5.json', 'w') as json_file:\n",
    "    json.dump(json.loads(fig_json), json_file, indent=4)"
   ]
  },
  {
   "cell_type": "code",
   "execution_count": 22,
   "metadata": {},
   "outputs": [
    {
     "data": {
      "image/png": "[encoded data removed]"
     },
     "metadata": {},
     "output_type": "display_data"
    }
   ],
   "source": [
    "ethnicities=[\"Middle Eastern\",'Islamic','African']\n",
    "plot_relative_occurrences(df_sum, ethmerged, ethnicities, [('2001', '2001', '9/11 Attacks')]).show(renderer=\"png\")"
   ]
  },
  {
   "cell_type": "markdown",
   "metadata": {},
   "source": [
    "This is similar to what we saw for other events."
   ]
  },
  {
   "cell_type": "markdown",
   "metadata": {},
   "source": [
    "We choose to focus on historical event involving the USA because for the time period of our dataset, the USA were the main producers of movies. Indeed, it seems like big events for other countries do not create the same reaction spike, like this example."
   ]
  },
  {
   "cell_type": "markdown",
   "metadata": {},
   "source": [
    "Overall, we would like to dive deeper into the increase of representation after a big event as well as the first spike in popularity."
   ]
  },
  {
   "cell_type": "code",
   "execution_count": 23,
   "metadata": {},
   "outputs": [],
   "source": [
    "def plot_relative_centered(df, eth, ethnicities, period=5, highlight_periods=None):\n",
    "    data = df.copy()\n",
    "\n",
    "    for et in ethnicities:\n",
    "        index = eth[eth['Ethnicity'] == et].index[0]\n",
    "        occ_list = literal_eval(eth.at[index, 'Keywords'])\n",
    "\n",
    "        def count_words(word_list):\n",
    "            return sum(word.lower() in occ_list for word in word_list)\n",
    "\n",
    "        # Apply the function to count ethnicity-related words for each row\n",
    "        data[et] = data['tokens'].apply(lambda x: count_words(x))\n",
    "\n",
    "    # Group by release year and sum the counts\n",
    "    data['release_period'] = data['release_date'] // period * period\n",
    "    counts_by_period = data.groupby('release_period')[ethnicities].sum().reset_index()\n",
    "\n",
    "    # Normalize by the total number of words in each period\n",
    "    total_words_by_period = data.groupby('release_period')['tokens'].apply(lambda x: sum(len(word_list) for word_list in x)).reset_index()\n",
    "    counts_by_period = pd.merge(counts_by_period, total_words_by_period, on='release_period', how='left')\n",
    "\n",
    "    for et in ethnicities:\n",
    "        counts_by_period[et] = counts_by_period[et] / counts_by_period['tokens']\n",
    "\n",
    "    # Convert the DataFrame to long format for Plotly\n",
    "    counts_by_period_long = pd.melt(counts_by_period, id_vars='release_period', value_vars=ethnicities)\n",
    "\n",
    "    # Create a stacked area plot using Plotly Express\n",
    "    fig = px.area(counts_by_period_long, x='release_period', y='value', color='variable',\n",
    "                 title='Relative Occurrences of Ethnicity-related Words Over the Years',\n",
    "                 labels={'value': 'Relative Occurrences', 'variable': 'Ethnicity'},\n",
    "                 category_orders={'variable': ethnicities})\n",
    "\n",
    "    if highlight_periods:\n",
    "        for period_range in highlight_periods:\n",
    "            fig.add_vrect(\n",
    "                x0=period_range[0],\n",
    "                x1=period_range[1],\n",
    "                annotation_text=period_range[2],\n",
    "                annotation_position=\"top left\",\n",
    "                fillcolor='rgba(255, 0, 0, 0.3)', \n",
    "                layer='below',\n",
    "                line=None)\n",
    "    fig.update_xaxes(range=[int(period_range[0])-20, int(period_range[0])+40])\n",
    "    return fig\n"
   ]
  },
  {
   "cell_type": "code",
   "execution_count": 24,
   "metadata": {},
   "outputs": [
    {
     "data": {
      "application/vnd.plotly.v1+json": {
       "config": {
        "plotlyServerURL": "https://plot.ly"
       },
       "data": [
        {
         "hovertemplate": "Ethnicity=German<br>Year=%{x}<br>Relative Word Occurrence=%{y}<extra></extra>",
         "legendgroup": "German",
         "line": {
          "color": "rgb(76,114,176)",
          "dash": "solid"
         },
         "marker": {
          "symbol": "circle"
         },
         "mode": "lines",
         "name": "German",
         "orientation": "v",
         "showlegend": true,
         "type": "scatter",
         "x": [
          1910,
          1911,
          1912,
          1913,
          1914,
          1915,
          1916,
          1917,
          1918,
          1919,
          1920,
          1921,
          1922,
          1923,
          1924,
          1925,
          1926,
          1927,
          1928,
          1929,
          1930,
          1931,
          1932,
          1933,
          1934,
          1935,
          1936,
          1937,
          1938,
          1939,
          1940,
          1941,
          1942,
          1943,
          1944,
          1945,
          1946,
          1947,
          1948,
          1949,
          1950,
          1951,
          1952,
          1953,
          1954,
          1955,
          1956,
          1957,
          1958,
          1959,
          1960,
          1961,
          1962,
          1963,
          1964,
          1965,
          1966,
          1967,
          1968,
          1969,
          1970,
          1971,
          1972,
          1973,
          1974,
          1975,
          1976,
          1977,
          1978,
          1979,
          1980,
          1981,
          1982,
          1983,
          1984,
          1985,
          1986,
          1987,
          1988,
          1989,
          1990,
          1991,
          1992,
          1993,
          1994,
          1995,
          1996,
          1997,
          1998,
          1999,
          2000,
          2001,
          2002,
          2003,
          2004,
          2005,
          2006,
          2007,
          2008,
          2009,
          2010,
          2011,
          2012,
          2013
         ],
         "xaxis": "x",
         "y": [
          null,
          null,
          null,
          null,
          0.0002472187886279357,
          0.0008580923378032565,
          0.003349786689962725,
          0.005631944366311273,
          0.00754022981170951,
          0.008890751604220254,
          0.008381970959588068,
          0.00659657442967698,
          0.0045572825699647405,
          0.002538670875295172,
          0.0012712055611897447,
          0.0014208961228656621,
          0.0009239127956460616,
          0.0010395770058995051,
          0.001410585143743803,
          0.0014308878384651023,
          0.002647173860868512,
          0.0028052250477622782,
          0.003065430325909032,
          0.0030659588700086373,
          0.003303762273971643,
          0.0020940603719610427,
          0.0018627491118072034,
          0.0015773074622878983,
          0.0013326988429780363,
          0.001437467146601905,
          0.0021184148485823067,
          0.0029069202773103044,
          0.0040492115164635235,
          0.006707152628573083,
          0.00755514255098285,
          0.007514237766882641,
          0.0071504483662213625,
          0.005965691212043112,
          0.0032520066756597313,
          0.0026017371305821152,
          0.002184178420697653,
          0.002127235119394346,
          0.0020708316868996513,
          0.00238705980466631,
          0.0021313471817820165,
          0.0020041795977007422,
          0.0019064617455401243,
          0.0022989487525273584,
          0.0025943155881914155,
          0.002882285636387541,
          0.002989121429698892,
          0.0032027304431865447,
          0.0031001696485800033,
          0.0026339201364800812,
          0.0024220485760924463,
          0.0033117395427189147,
          0.0035073431311752738,
          0.0034002065488331103,
          0.00363329419371511,
          0.004104194613852023,
          0.003266168690888921,
          0.0028671417672983548,
          0.002791784796307339,
          0.002383723399913753,
          0.001686456682713122,
          0.0017861970656945143,
          0.0018260717860961533,
          0.0020669101236110944,
          0.0021710015501738224,
          0.0022083352080364592,
          0.002066671093216943,
          0.0019350713429134646,
          0.001591473704552402,
          0.0014553320050271334,
          0.0014268636881140542,
          0.0013528821945295933,
          0.0012402234236060911,
          0.0012137301613555918,
          0.0011642560774997137,
          0.0010433619785646599,
          0.000849132594262161,
          0.0008309748110468908,
          0.0008817062314464113,
          0.0010425136794916837,
          0.0011065237184874352,
          0.0010247089426088057,
          0.0010176914664927878,
          0.0008924698519722569,
          0.0009383023272085871,
          0.0009285153214663312,
          0.0010118794776287493,
          0.0010733272189658004,
          0.0012601915306729393,
          0.0012971531747167403,
          0.0015165084935099288,
          0.0015239830439860392,
          0.0015115236388143008,
          0.00140114515344835,
          0.0013916261006243643,
          0.0011711771630301881,
          0.0011072136997712632,
          0.0011477411174114715,
          0.001109487189872129,
          0.0016398066073748888
         ],
         "yaxis": "y"
        },
        {
         "hovertemplate": "Ethnicity=Nazi<br>Year=%{x}<br>Relative Word Occurrence=%{y}<extra></extra>",
         "legendgroup": "Nazi",
         "line": {
          "color": "rgb(221,132,82)",
          "dash": "solid"
         },
         "marker": {
          "symbol": "circle"
         },
         "mode": "lines",
         "name": "Nazi",
         "orientation": "v",
         "showlegend": true,
         "type": "scatter",
         "x": [
          1910,
          1911,
          1912,
          1913,
          1914,
          1915,
          1916,
          1917,
          1918,
          1919,
          1920,
          1921,
          1922,
          1923,
          1924,
          1925,
          1926,
          1927,
          1928,
          1929,
          1930,
          1931,
          1932,
          1933,
          1934,
          1935,
          1936,
          1937,
          1938,
          1939,
          1940,
          1941,
          1942,
          1943,
          1944,
          1945,
          1946,
          1947,
          1948,
          1949,
          1950,
          1951,
          1952,
          1953,
          1954,
          1955,
          1956,
          1957,
          1958,
          1959,
          1960,
          1961,
          1962,
          1963,
          1964,
          1965,
          1966,
          1967,
          1968,
          1969,
          1970,
          1971,
          1972,
          1973,
          1974,
          1975,
          1976,
          1977,
          1978,
          1979,
          1980,
          1981,
          1982,
          1983,
          1984,
          1985,
          1986,
          1987,
          1988,
          1989,
          1990,
          1991,
          1992,
          1993,
          1994,
          1995,
          1996,
          1997,
          1998,
          1999,
          2000,
          2001,
          2002,
          2003,
          2004,
          2005,
          2006,
          2007,
          2008,
          2009,
          2010,
          2011,
          2012,
          2013
         ],
         "xaxis": "x",
         "y": [
          null,
          null,
          null,
          null,
          0,
          0,
          0,
          0,
          0,
          0,
          0,
          0,
          0,
          0,
          0,
          0,
          0,
          0,
          0,
          0,
          0,
          0,
          0,
          0.000053518865400053516,
          0.00023722179152523394,
          0.0002841977163637542,
          0.0002841977163637542,
          0.0002841977163637542,
          0.0003745809975040532,
          0.0003642956361007854,
          0.0008364150023264103,
          0.0013282021568459344,
          0.002376644055690707,
          0.0037693721439734248,
          0.004376768856998306,
          0.004180179900880025,
          0.004078493928854711,
          0.0032313943118891333,
          0.0018460929335873903,
          0.0012213153244577221,
          0.0009331555462695422,
          0.000562432331026568,
          0.0005053511617612044,
          0.0004738635156361015,
          0.00037072756999552377,
          0.0004037494342904703,
          0.00045499917075601787,
          0.0003260285780198627,
          0.0004520890069679,
          0.0004819526125657371,
          0.0005105258589792861,
          0.0005150155261545219,
          0.00064272969365271,
          0.00045263162573701916,
          0.0005298800981867167,
          0.0007101179474063819,
          0.0009119023533007642,
          0.0008770642424527532,
          0.0009956285873275819,
          0.001065518460837947,
          0.0008554273373780408,
          0.000608260915929136,
          0.0006368371262192785,
          0.0004761960458801886,
          0.0002908566512031391,
          0.0005663080331301808,
          0.0006278066168180019,
          0.0007349827946995119,
          0.0008368406245028764,
          0.000887931078130264,
          0.0006746443890671668,
          0.0007997904132572558,
          0.0006494314048964372,
          0.0006119259895679583,
          0.0006444710628481256,
          0.0007103142161436034,
          0.000520423149665648,
          0.0005027933375942352,
          0.0005663729874346294,
          0.0005490348288349331,
          0.00046718883265843157,
          0.0005414516990768359,
          0.0005509277681115794,
          0.000578994791895354,
          0.0004977672854357812,
          0.0005117644872191056,
          0.0004635322000355902,
          0.0004099984966937318,
          0.000362677586339729,
          0.0003680182143067908,
          0.0003370728118106532,
          0.000388630352830888,
          0.0003903763106156765,
          0.0003027188558902964,
          0.00034947525093526754,
          0.00031327403162925775,
          0.0002693307520687321,
          0.0003201055569743358,
          0.0003362821557163592,
          0.0003546640211275965,
          0.0003337030622686132,
          0.00035116810808764296,
          0.00032555687164682564,
          0.0002746327139208208
         ],
         "yaxis": "y"
        },
        {
         "hovertemplate": "Ethnicity=Japanese<br>Year=%{x}<br>Relative Word Occurrence=%{y}<extra></extra>",
         "legendgroup": "Japanese",
         "line": {
          "color": "rgb(85,168,104)",
          "dash": "solid"
         },
         "marker": {
          "symbol": "circle"
         },
         "mode": "lines",
         "name": "Japanese",
         "orientation": "v",
         "showlegend": true,
         "type": "scatter",
         "x": [
          1910,
          1911,
          1912,
          1913,
          1914,
          1915,
          1916,
          1917,
          1918,
          1919,
          1920,
          1921,
          1922,
          1923,
          1924,
          1925,
          1926,
          1927,
          1928,
          1929,
          1930,
          1931,
          1932,
          1933,
          1934,
          1935,
          1936,
          1937,
          1938,
          1939,
          1940,
          1941,
          1942,
          1943,
          1944,
          1945,
          1946,
          1947,
          1948,
          1949,
          1950,
          1951,
          1952,
          1953,
          1954,
          1955,
          1956,
          1957,
          1958,
          1959,
          1960,
          1961,
          1962,
          1963,
          1964,
          1965,
          1966,
          1967,
          1968,
          1969,
          1970,
          1971,
          1972,
          1973,
          1974,
          1975,
          1976,
          1977,
          1978,
          1979,
          1980,
          1981,
          1982,
          1983,
          1984,
          1985,
          1986,
          1987,
          1988,
          1989,
          1990,
          1991,
          1992,
          1993,
          1994,
          1995,
          1996,
          1997,
          1998,
          1999,
          2000,
          2001,
          2002,
          2003,
          2004,
          2005,
          2006,
          2007,
          2008,
          2009,
          2010,
          2011,
          2012,
          2013
         ],
         "xaxis": "x",
         "y": [
          null,
          null,
          null,
          null,
          0,
          0,
          0,
          0.0002074688796680498,
          0.0002074688796680498,
          0.0002074688796680498,
          0.0002074688796680498,
          0.0002074688796680498,
          0,
          0,
          0,
          0,
          0.00041862899005756153,
          0.0004783839945391869,
          0.0007041176288506993,
          0.0007557972154140067,
          0.0007557972154140067,
          0.00039839583901020307,
          0.0005613855443417197,
          0.0004694490735303411,
          0.00041776948696703356,
          0.0005117213366440741,
          0.0006137590291127652,
          0.00039101431929962333,
          0.0003531519201597245,
          0.00042747373361197276,
          0.00035824070731893916,
          0.00027366134591961405,
          0.0014580123797998197,
          0.0037211296660834546,
          0.004829183758933493,
          0.00577198394038708,
          0.005888348586911061,
          0.0051066821167892445,
          0.00282329449440604,
          0.0020115056760694255,
          0.0013187591252933103,
          0.0014725119445684418,
          0.0012501537715773412,
          0.001593933579703465,
          0.0017523537215032663,
          0.0020165286358628386,
          0.00233868841065004,
          0.002846435414378164,
          0.0030007616697946557,
          0.0030235166305250783,
          0.0026764525970363866,
          0.002512531665248076,
          0.0027142652144247054,
          0.0027915363892880934,
          0.0025758010809427694,
          0.003672755490544355,
          0.003627216198333896,
          0.003370956345753564,
          0.0030527988829388434,
          0.002900694140415829,
          0.0020744751484634595,
          0.0017765166415090205,
          0.0015942207469166955,
          0.0018790441614587098,
          0.0019030839944990073,
          0.0018531591368939483,
          0.002206607003681184,
          0.001985723718286888,
          0.001573499950146572,
          0.0018796767949594366,
          0.0016914258006402148,
          0.0013150804555867633,
          0.001417370167019229,
          0.0016022825689615636,
          0.0013741257050334302,
          0.001440827163454176,
          0.0016445358449510236,
          0.0015928197562023836,
          0.0015304756941275604,
          0.0017618434320128367,
          0.0017101662584470291,
          0.0018153184672478298,
          0.0017051893600629506,
          0.0016914444367258034,
          0.0015296924457561443,
          0.0016930147275999268,
          0.0014477492677713638,
          0.0014256752209814054,
          0.0013268007783258737,
          0.0012709782464812025,
          0.0011107757963878502,
          0.0011867407432702979,
          0.0012695962523658617,
          0.0014780836478419583,
          0.0015492376883219088,
          0.001621855061406109,
          0.0016952340840650098,
          0.0017722784494202427,
          0.001642329503961244,
          0.001614641541014174,
          0.0015282763366536328,
          0.0014850850935574996,
          0.001305767318954041,
          0.0017008571989859003
         ],
         "yaxis": "y"
        },
        {
         "hovertemplate": "Ethnicity=French<br>Year=%{x}<br>Relative Word Occurrence=%{y}<extra></extra>",
         "legendgroup": "French",
         "line": {
          "color": "rgb(76,114,176)",
          "dash": "solid"
         },
         "marker": {
          "symbol": "circle"
         },
         "mode": "lines",
         "name": "French",
         "orientation": "v",
         "showlegend": true,
         "type": "scatter",
         "x": [
          1910,
          1911,
          1912,
          1913,
          1914,
          1915,
          1916,
          1917,
          1918,
          1919,
          1920,
          1921,
          1922,
          1923,
          1924,
          1925,
          1926,
          1927,
          1928,
          1929,
          1930,
          1931,
          1932,
          1933,
          1934,
          1935,
          1936,
          1937,
          1938,
          1939,
          1940,
          1941,
          1942,
          1943,
          1944,
          1945,
          1946,
          1947,
          1948,
          1949,
          1950,
          1951,
          1952,
          1953,
          1954,
          1955,
          1956,
          1957,
          1958,
          1959,
          1960,
          1961,
          1962,
          1963,
          1964,
          1965,
          1966,
          1967,
          1968,
          1969,
          1970,
          1971,
          1972,
          1973,
          1974,
          1975,
          1976,
          1977,
          1978,
          1979,
          1980,
          1981,
          1982,
          1983,
          1984,
          1985,
          1986,
          1987,
          1988,
          1989,
          1990,
          1991,
          1992,
          1993,
          1994,
          1995,
          1996,
          1997,
          1998,
          1999,
          2000,
          2001,
          2002,
          2003,
          2004,
          2005,
          2006,
          2007,
          2008,
          2009,
          2010,
          2011,
          2012,
          2013
         ],
         "xaxis": "x2",
         "y": [
          null,
          null,
          null,
          null,
          0.0011439087997369094,
          0.0019991317685823583,
          0.001966634993516128,
          0.003965650149968664,
          0.004334289713919635,
          0.004948163255969972,
          0.0048075906189264635,
          0.006760371128860976,
          0.004306141509812638,
          0.005606778708226201,
          0.005657356993418388,
          0.006369479636857742,
          0.005506473140285281,
          0.008072092534285364,
          0.007622865606317723,
          0.007423530058144966,
          0.007171212673801643,
          0.007078650363050358,
          0.004789902808644631,
          0.003831063406920309,
          0.004599381060405324,
          0.004528859703212581,
          0.004317915996172135,
          0.00477425261681327,
          0.005369073185655465,
          0.004878857387623165,
          0.004096267857910028,
          0.003438959198240791,
          0.0029676902800720283,
          0.002254008718476019,
          0.0029608742426261527,
          0.0033075783753076403,
          0.003378225941184247,
          0.0031418769583201347,
          0.003149546978141927,
          0.002538160413286358,
          0.002282270257705001,
          0.002885448761678447,
          0.0029055146110671826,
          0.0033022243815736874,
          0.0032570381324048504,
          0.0035185636618389462,
          0.003220628484586616,
          0.0038342469321418294,
          0.004269807109988149,
          0.003945294127261452,
          0.003751318254066038,
          0.003549838636831718,
          0.003315053171802876,
          0.0025691759274625164,
          0.0028042343900469653,
          0.003352527587046711,
          0.0038675836697676857,
          0.003911037393482401,
          0.003791993902463104,
          0.004252777795598342,
          0.0039021822918335752,
          0.0036015558137998975,
          0.003109535341239942,
          0.003266567646522076,
          0.0026364867871696476,
          0.0025425445391567755,
          0.0022387727789998503,
          0.002738190160595157,
          0.002717437278944626,
          0.00273268688819337,
          0.002427104792168442,
          0.0025770942894406982,
          0.0023162926799257357,
          0.0021765423282137587,
          0.00205057556766801,
          0.0021932357331415457,
          0.0018308678359343228,
          0.0016392191098806453,
          0.00157633184034587,
          0.0012705409913970442,
          0.0011119163735494341,
          0.001672666109852019,
          0.0017841213803338044,
          0.0017939132380356275,
          0.0020371862088020276,
          0.0022562116222372953,
          0.0019128416970613463,
          0.0018809164462124945,
          0.0019547989675373747,
          0.0020279486332321563,
          0.0018459078461986653,
          0.0018970879013319158,
          0.0019029285954329782,
          0.001979692731248325,
          0.0019002306064788937,
          0.0018658752878213717,
          0.0017903548334832567,
          0.0018202039599220052,
          0.001643933783268569,
          0.0015985924829806397,
          0.0016582347878963365,
          0.0015892037883280987,
          0.0014903822170266195,
          0.0015525151921802179
         ],
         "yaxis": "y2"
        },
        {
         "hovertemplate": "Ethnicity=Spanish<br>Year=%{x}<br>Relative Word Occurrence=%{y}<extra></extra>",
         "legendgroup": "Spanish",
         "line": {
          "color": "rgb(221,132,82)",
          "dash": "solid"
         },
         "marker": {
          "symbol": "circle"
         },
         "mode": "lines",
         "name": "Spanish",
         "orientation": "v",
         "showlegend": true,
         "type": "scatter",
         "x": [
          1910,
          1911,
          1912,
          1913,
          1914,
          1915,
          1916,
          1917,
          1918,
          1919,
          1920,
          1921,
          1922,
          1923,
          1924,
          1925,
          1926,
          1927,
          1928,
          1929,
          1930,
          1931,
          1932,
          1933,
          1934,
          1935,
          1936,
          1937,
          1938,
          1939,
          1940,
          1941,
          1942,
          1943,
          1944,
          1945,
          1946,
          1947,
          1948,
          1949,
          1950,
          1951,
          1952,
          1953,
          1954,
          1955,
          1956,
          1957,
          1958,
          1959,
          1960,
          1961,
          1962,
          1963,
          1964,
          1965,
          1966,
          1967,
          1968,
          1969,
          1970,
          1971,
          1972,
          1973,
          1974,
          1975,
          1976,
          1977,
          1978,
          1979,
          1980,
          1981,
          1982,
          1983,
          1984,
          1985,
          1986,
          1987,
          1988,
          1989,
          1990,
          1991,
          1992,
          1993,
          1994,
          1995,
          1996,
          1997,
          1998,
          1999,
          2000,
          2001,
          2002,
          2003,
          2004,
          2005,
          2006,
          2007,
          2008,
          2009,
          2010,
          2011,
          2012,
          2013
         ],
         "xaxis": "x2",
         "y": [
          null,
          null,
          null,
          null,
          0.0007416563658838072,
          0.0007416563658838072,
          0.0007416563658838072,
          0.0007416563658838072,
          0,
          0,
          0.00010209290454313425,
          0.00033752551195926137,
          0.0004589584202774156,
          0.0005958509596340207,
          0.0006789074380393362,
          0.0009125258217882709,
          0.001305036699458486,
          0.0013031138001035824,
          0.0011662212607469774,
          0.0010831647823416617,
          0.0009431960925325878,
          0.00034586641427312444,
          0.0002511058175113341,
          0.00041166241371149456,
          0.0004641489640329747,
          0.0005502619145811014,
          0.0007101242982304129,
          0.0009710551621865529,
          0.0009064333303466275,
          0.0009778164691122279,
          0.0011408997409932307,
          0.0010881239537825068,
          0.001054846356976426,
          0.0011104103481621276,
          0.0010757765765318237,
          0.0006999462559652414,
          0.0006597711483233271,
          0.0005415966568912709,
          0.0005225106508014961,
          0.0004527793169218605,
          0.0005897501571224282,
          0.0006278706322575233,
          0.0005657730006449757,
          0.00047830070508739827,
          0.0005822311417888681,
          0.00047720443282170513,
          0.0004121863657798407,
          0.0006764472467817936,
          0.0006970805633750125,
          0.0009460850216811321,
          0.0009601623910616014,
          0.0010022107436828465,
          0.0006817087160824075,
          0.0008207480408286994,
          0.000656325203575276,
          0.0006332550415111413,
          0.0006436464415226246,
          0.0007513759764174558,
          0.0007686856837473245,
          0.0006526301122297967,
          0.0005605702733345148,
          0.00046723817232249945,
          0.0005760819653098312,
          0.0005188811943135901,
          0.0005606099640720037,
          0.0007313798516484944,
          0.0008232897483447547,
          0.0007263375466983322,
          0.0006515146996125788,
          0.0005656517267827788,
          0.0005124471681220152,
          0.0005530868884998134,
          0.0005007407581900322,
          0.00044988119892366076,
          0.0005894218189915832,
          0.0005203805499221966,
          0.00048171042895207947,
          0.00047447616758496505,
          0.00045034800555269247,
          0.0003073247780084799,
          0.00034860091272922766,
          0.0003257378244436454,
          0.0004063857378967371,
          0.0005360556174300556,
          0.0006517303233746448,
          0.0007242482723689368,
          0.0007110289691669811,
          0.000671316781300533,
          0.0007127910594181188,
          0.0006576934032256635,
          0.0006253325903407111,
          0.0006218623364192755,
          0.0005946457138852189,
          0.0004954589905069428,
          0.00047855478195393976,
          0.0005005709966233219,
          0.0005512083624386475,
          0.0006448130785885556,
          0.0006574777621385208,
          0.0006695726918022414,
          0.0006020517031894793,
          0.0005542627685828979,
          0.0004356690449438365,
          0.0003361354639339179
         ],
         "yaxis": "y2"
        },
        {
         "hovertemplate": "Ethnicity=American<br>Year=%{x}<br>Relative Word Occurrence=%{y}<extra></extra>",
         "legendgroup": "American",
         "line": {
          "color": "rgb(85,168,104)",
          "dash": "solid"
         },
         "marker": {
          "symbol": "circle"
         },
         "mode": "lines",
         "name": "American",
         "orientation": "v",
         "showlegend": true,
         "type": "scatter",
         "x": [
          1910,
          1911,
          1912,
          1913,
          1914,
          1915,
          1916,
          1917,
          1918,
          1919,
          1920,
          1921,
          1922,
          1923,
          1924,
          1925,
          1926,
          1927,
          1928,
          1929,
          1930,
          1931,
          1932,
          1933,
          1934,
          1935,
          1936,
          1937,
          1938,
          1939,
          1940,
          1941,
          1942,
          1943,
          1944,
          1945,
          1946,
          1947,
          1948,
          1949,
          1950,
          1951,
          1952,
          1953,
          1954,
          1955,
          1956,
          1957,
          1958,
          1959,
          1960,
          1961,
          1962,
          1963,
          1964,
          1965,
          1966,
          1967,
          1968,
          1969,
          1970,
          1971,
          1972,
          1973,
          1974,
          1975,
          1976,
          1977,
          1978,
          1979,
          1980,
          1981,
          1982,
          1983,
          1984,
          1985,
          1986,
          1987,
          1988,
          1989,
          1990,
          1991,
          1992,
          1993,
          1994,
          1995,
          1996,
          1997,
          1998,
          1999,
          2000,
          2001,
          2002,
          2003,
          2004,
          2005,
          2006,
          2007,
          2008,
          2009,
          2010,
          2011,
          2012,
          2013
         ],
         "xaxis": "x2",
         "y": [
          null,
          null,
          null,
          null,
          0.0024507090359199317,
          0.0024691119210833723,
          0.0032346831550040672,
          0.003781416153780254,
          0.004150055717731225,
          0.0046153335475674784,
          0.004270575101437701,
          0.0034609333148874722,
          0.0030661503951062534,
          0.002450292042527347,
          0.0029594909681466756,
          0.0028686655557960904,
          0.0031434601297582417,
          0.0028312248118657905,
          0.003282692080488815,
          0.0024502815969155408,
          0.002422127683516445,
          0.002375846528140802,
          0.0025062856172455997,
          0.0027773230315232974,
          0.0026788056409457186,
          0.002757079692364931,
          0.0027196350497290618,
          0.0025989547829250365,
          0.0022122217752851363,
          0.0025414248566090736,
          0.0027885114863600716,
          0.002932795815612575,
          0.0032783591260671665,
          0.0038515799840819634,
          0.0038544180023907734,
          0.003782584794146303,
          0.003703615875466172,
          0.0031684405368280822,
          0.0029025956437681057,
          0.0030553231688692432,
          0.002977028685479316,
          0.0031619922451327637,
          0.0033630622220594568,
          0.0033640610877235222,
          0.0032520825597558726,
          0.0033927327943067006,
          0.003163257766740315,
          0.00359812974741065,
          0.003790048815301432,
          0.004150687578548519,
          0.003923027494826791,
          0.003921386146782667,
          0.003737862249863634,
          0.0036086419141883805,
          0.0032323475165473223,
          0.0036885808746517854,
          0.0038482218990150254,
          0.003655956726901431,
          0.0035356217527358117,
          0.003354027027441488,
          0.0031946239524109133,
          0.0028730299434137326,
          0.0027472092529422136,
          0.0026823187556563838,
          0.002667201368461803,
          0.0024883573545747295,
          0.0025735110656535556,
          0.002663932337668702,
          0.0027073931592224345,
          0.002865757491746896,
          0.0027810752295887144,
          0.0027164351497237305,
          0.0024663974677013546,
          0.0024283518199684053,
          0.002356748296062649,
          0.0024664613863978153,
          0.002671424347580778,
          0.0028854637637675973,
          0.0030369003983263245,
          0.003088226857743131,
          0.002959402493167414,
          0.0029060086401400467,
          0.0027578739301584226,
          0.002550863255311136,
          0.002310811920954998,
          0.002303865281520154,
          0.002168017544864014,
          0.0022209824405568556,
          0.0020677745760251834,
          0.0021040897209857307,
          0.0020373306594887062,
          0.0020119734654974845,
          0.0019638678540012684,
          0.0020035146758919367,
          0.0019427468794269505,
          0.0018630848248110006,
          0.0019222282204999878,
          0.001926305552644705,
          0.0018693211725815436,
          0.001832650427806106,
          0.0018054088559543112,
          0.0017902412000033903,
          0.0016296268070001827,
          0.0016732419066170523
         ],
         "yaxis": "y2"
        }
       ],
       "layout": {
        "annotations": [
         {
          "showarrow": false,
          "text": "WWI",
          "x": "1914",
          "xanchor": "left",
          "xref": "x",
          "y": 1,
          "yanchor": "top",
          "yref": "y domain"
         },
         {
          "showarrow": false,
          "text": "WWI",
          "x": "1914",
          "xanchor": "left",
          "xref": "x2",
          "y": 1,
          "yanchor": "top",
          "yref": "y2 domain"
         },
         {
          "showarrow": false,
          "text": "WWII",
          "x": "1939",
          "xanchor": "left",
          "xref": "x",
          "y": 1,
          "yanchor": "top",
          "yref": "y domain"
         },
         {
          "showarrow": false,
          "text": "WWII",
          "x": "1939",
          "xanchor": "left",
          "xref": "x2",
          "y": 1,
          "yanchor": "top",
          "yref": "y2 domain"
         },
         {
          "showarrow": false,
          "text": "Fall of the Berlin Wall",
          "x": "1989",
          "xanchor": "left",
          "xref": "x",
          "y": 1,
          "yanchor": "top",
          "yref": "y domain"
         },
         {
          "showarrow": false,
          "text": "Fall of the Berlin Wall",
          "x": "1989",
          "xanchor": "left",
          "xref": "x2",
          "y": 1,
          "yanchor": "top",
          "yref": "y2 domain"
         }
        ],
        "shapes": [
         {
          "fillcolor": "rgba(255, 0, 0, 0.05)",
          "layer": "below",
          "type": "rect",
          "x0": "1914",
          "x1": "1918",
          "xref": "x",
          "y0": 0,
          "y1": 1,
          "yref": "y domain"
         },
         {
          "fillcolor": "rgba(255, 0, 0, 0.05)",
          "layer": "below",
          "type": "rect",
          "x0": "1914",
          "x1": "1918",
          "xref": "x2",
          "y0": 0,
          "y1": 1,
          "yref": "y2 domain"
         },
         {
          "fillcolor": "rgba(255, 0, 0, 0.05)",
          "layer": "below",
          "type": "rect",
          "x0": "1939",
          "x1": "1945",
          "xref": "x",
          "y0": 0,
          "y1": 1,
          "yref": "y domain"
         },
         {
          "fillcolor": "rgba(255, 0, 0, 0.05)",
          "layer": "below",
          "type": "rect",
          "x0": "1939",
          "x1": "1945",
          "xref": "x2",
          "y0": 0,
          "y1": 1,
          "yref": "y2 domain"
         },
         {
          "fillcolor": "rgba(255, 0, 0, 0.05)",
          "layer": "below",
          "type": "rect",
          "x0": "1989",
          "x1": "1989",
          "xref": "x",
          "y0": 0,
          "y1": 1,
          "yref": "y domain"
         },
         {
          "fillcolor": "rgba(255, 0, 0, 0.05)",
          "layer": "below",
          "type": "rect",
          "x0": "1989",
          "x1": "1989",
          "xref": "x2",
          "y0": 0,
          "y1": 1,
          "yref": "y2 domain"
         }
        ],
        "template": {
         "data": {
          "bar": [
           {
            "error_x": {
             "color": "#2a3f5f"
            },
            "error_y": {
             "color": "#2a3f5f"
            },
            "marker": {
             "line": {
              "color": "#E5ECF6",
              "width": 0.5
             },
             "pattern": {
              "fillmode": "overlay",
              "size": 10,
              "solidity": 0.2
             }
            },
            "type": "bar"
           }
          ],
          "barpolar": [
           {
            "marker": {
             "line": {
              "color": "#E5ECF6",
              "width": 0.5
             },
             "pattern": {
              "fillmode": "overlay",
              "size": 10,
              "solidity": 0.2
             }
            },
            "type": "barpolar"
           }
          ],
          "carpet": [
           {
            "aaxis": {
             "endlinecolor": "#2a3f5f",
             "gridcolor": "white",
             "linecolor": "white",
             "minorgridcolor": "white",
             "startlinecolor": "#2a3f5f"
            },
            "baxis": {
             "endlinecolor": "#2a3f5f",
             "gridcolor": "white",
             "linecolor": "white",
             "minorgridcolor": "white",
             "startlinecolor": "#2a3f5f"
            },
            "type": "carpet"
           }
          ],
          "choropleth": [
           {
            "colorbar": {
             "outlinewidth": 0,
             "ticks": ""
            },
            "type": "choropleth"
           }
          ],
          "contour": [
           {
            "colorbar": {
             "outlinewidth": 0,
             "ticks": ""
            },
            "colorscale": [
             [
              0,
              "#0d0887"
             ],
             [
              0.1111111111111111,
              "#46039f"
             ],
             [
              0.2222222222222222,
              "#7201a8"
             ],
             [
              0.3333333333333333,
              "#9c179e"
             ],
             [
              0.4444444444444444,
              "#bd3786"
             ],
             [
              0.5555555555555556,
              "#d8576b"
             ],
             [
              0.6666666666666666,
              "#ed7953"
             ],
             [
              0.7777777777777778,
              "#fb9f3a"
             ],
             [
              0.8888888888888888,
              "#fdca26"
             ],
             [
              1,
              "#f0f921"
             ]
            ],
            "type": "contour"
           }
          ],
          "contourcarpet": [
           {
            "colorbar": {
             "outlinewidth": 0,
             "ticks": ""
            },
            "type": "contourcarpet"
           }
          ],
          "heatmap": [
           {
            "colorbar": {
             "outlinewidth": 0,
             "ticks": ""
            },
            "colorscale": [
             [
              0,
              "#0d0887"
             ],
             [
              0.1111111111111111,
              "#46039f"
             ],
             [
              0.2222222222222222,
              "#7201a8"
             ],
             [
              0.3333333333333333,
              "#9c179e"
             ],
             [
              0.4444444444444444,
              "#bd3786"
             ],
             [
              0.5555555555555556,
              "#d8576b"
             ],
             [
              0.6666666666666666,
              "#ed7953"
             ],
             [
              0.7777777777777778,
              "#fb9f3a"
             ],
             [
              0.8888888888888888,
              "#fdca26"
             ],
             [
              1,
              "#f0f921"
             ]
            ],
            "type": "heatmap"
           }
          ],
          "heatmapgl": [
           {
            "colorbar": {
             "outlinewidth": 0,
             "ticks": ""
            },
            "colorscale": [
             [
              0,
              "#0d0887"
             ],
             [
              0.1111111111111111,
              "#46039f"
             ],
             [
              0.2222222222222222,
              "#7201a8"
             ],
             [
              0.3333333333333333,
              "#9c179e"
             ],
             [
              0.4444444444444444,
              "#bd3786"
             ],
             [
              0.5555555555555556,
              "#d8576b"
             ],
             [
              0.6666666666666666,
              "#ed7953"
             ],
             [
              0.7777777777777778,
              "#fb9f3a"
             ],
             [
              0.8888888888888888,
              "#fdca26"
             ],
             [
              1,
              "#f0f921"
             ]
            ],
            "type": "heatmapgl"
           }
          ],
          "histogram": [
           {
            "marker": {
             "pattern": {
              "fillmode": "overlay",
              "size": 10,
              "solidity": 0.2
             }
            },
            "type": "histogram"
           }
          ],
          "histogram2d": [
           {
            "colorbar": {
             "outlinewidth": 0,
             "ticks": ""
            },
            "colorscale": [
             [
              0,
              "#0d0887"
             ],
             [
              0.1111111111111111,
              "#46039f"
             ],
             [
              0.2222222222222222,
              "#7201a8"
             ],
             [
              0.3333333333333333,
              "#9c179e"
             ],
             [
              0.4444444444444444,
              "#bd3786"
             ],
             [
              0.5555555555555556,
              "#d8576b"
             ],
             [
              0.6666666666666666,
              "#ed7953"
             ],
             [
              0.7777777777777778,
              "#fb9f3a"
             ],
             [
              0.8888888888888888,
              "#fdca26"
             ],
             [
              1,
              "#f0f921"
             ]
            ],
            "type": "histogram2d"
           }
          ],
          "histogram2dcontour": [
           {
            "colorbar": {
             "outlinewidth": 0,
             "ticks": ""
            },
            "colorscale": [
             [
              0,
              "#0d0887"
             ],
             [
              0.1111111111111111,
              "#46039f"
             ],
             [
              0.2222222222222222,
              "#7201a8"
             ],
             [
              0.3333333333333333,
              "#9c179e"
             ],
             [
              0.4444444444444444,
              "#bd3786"
             ],
             [
              0.5555555555555556,
              "#d8576b"
             ],
             [
              0.6666666666666666,
              "#ed7953"
             ],
             [
              0.7777777777777778,
              "#fb9f3a"
             ],
             [
              0.8888888888888888,
              "#fdca26"
             ],
             [
              1,
              "#f0f921"
             ]
            ],
            "type": "histogram2dcontour"
           }
          ],
          "mesh3d": [
           {
            "colorbar": {
             "outlinewidth": 0,
             "ticks": ""
            },
            "type": "mesh3d"
           }
          ],
          "parcoords": [
           {
            "line": {
             "colorbar": {
              "outlinewidth": 0,
              "ticks": ""
             }
            },
            "type": "parcoords"
           }
          ],
          "pie": [
           {
            "automargin": true,
            "type": "pie"
           }
          ],
          "scatter": [
           {
            "fillpattern": {
             "fillmode": "overlay",
             "size": 10,
             "solidity": 0.2
            },
            "type": "scatter"
           }
          ],
          "scatter3d": [
           {
            "line": {
             "colorbar": {
              "outlinewidth": 0,
              "ticks": ""
             }
            },
            "marker": {
             "colorbar": {
              "outlinewidth": 0,
              "ticks": ""
             }
            },
            "type": "scatter3d"
           }
          ],
          "scattercarpet": [
           {
            "marker": {
             "colorbar": {
              "outlinewidth": 0,
              "ticks": ""
             }
            },
            "type": "scattercarpet"
           }
          ],
          "scattergeo": [
           {
            "marker": {
             "colorbar": {
              "outlinewidth": 0,
              "ticks": ""
             }
            },
            "type": "scattergeo"
           }
          ],
          "scattergl": [
           {
            "marker": {
             "colorbar": {
              "outlinewidth": 0,
              "ticks": ""
             }
            },
            "type": "scattergl"
           }
          ],
          "scattermapbox": [
           {
            "marker": {
             "colorbar": {
              "outlinewidth": 0,
              "ticks": ""
             }
            },
            "type": "scattermapbox"
           }
          ],
          "scatterpolar": [
           {
            "marker": {
             "colorbar": {
              "outlinewidth": 0,
              "ticks": ""
             }
            },
            "type": "scatterpolar"
           }
          ],
          "scatterpolargl": [
           {
            "marker": {
             "colorbar": {
              "outlinewidth": 0,
              "ticks": ""
             }
            },
            "type": "scatterpolargl"
           }
          ],
          "scatterternary": [
           {
            "marker": {
             "colorbar": {
              "outlinewidth": 0,
              "ticks": ""
             }
            },
            "type": "scatterternary"
           }
          ],
          "surface": [
           {
            "colorbar": {
             "outlinewidth": 0,
             "ticks": ""
            },
            "colorscale": [
             [
              0,
              "#0d0887"
             ],
             [
              0.1111111111111111,
              "#46039f"
             ],
             [
              0.2222222222222222,
              "#7201a8"
             ],
             [
              0.3333333333333333,
              "#9c179e"
             ],
             [
              0.4444444444444444,
              "#bd3786"
             ],
             [
              0.5555555555555556,
              "#d8576b"
             ],
             [
              0.6666666666666666,
              "#ed7953"
             ],
             [
              0.7777777777777778,
              "#fb9f3a"
             ],
             [
              0.8888888888888888,
              "#fdca26"
             ],
             [
              1,
              "#f0f921"
             ]
            ],
            "type": "surface"
           }
          ],
          "table": [
           {
            "cells": {
             "fill": {
              "color": "#EBF0F8"
             },
             "line": {
              "color": "white"
             }
            },
            "header": {
             "fill": {
              "color": "#C8D4E3"
             },
             "line": {
              "color": "white"
             }
            },
            "type": "table"
           }
          ]
         },
         "layout": {
          "annotationdefaults": {
           "arrowcolor": "#2a3f5f",
           "arrowhead": 0,
           "arrowwidth": 1
          },
          "autotypenumbers": "strict",
          "coloraxis": {
           "colorbar": {
            "outlinewidth": 0,
            "ticks": ""
           }
          },
          "colorscale": {
           "diverging": [
            [
             0,
             "#8e0152"
            ],
            [
             0.1,
             "#c51b7d"
            ],
            [
             0.2,
             "#de77ae"
            ],
            [
             0.3,
             "#f1b6da"
            ],
            [
             0.4,
             "#fde0ef"
            ],
            [
             0.5,
             "#f7f7f7"
            ],
            [
             0.6,
             "#e6f5d0"
            ],
            [
             0.7,
             "#b8e186"
            ],
            [
             0.8,
             "#7fbc41"
            ],
            [
             0.9,
             "#4d9221"
            ],
            [
             1,
             "#276419"
            ]
           ],
           "sequential": [
            [
             0,
             "#0d0887"
            ],
            [
             0.1111111111111111,
             "#46039f"
            ],
            [
             0.2222222222222222,
             "#7201a8"
            ],
            [
             0.3333333333333333,
             "#9c179e"
            ],
            [
             0.4444444444444444,
             "#bd3786"
            ],
            [
             0.5555555555555556,
             "#d8576b"
            ],
            [
             0.6666666666666666,
             "#ed7953"
            ],
            [
             0.7777777777777778,
             "#fb9f3a"
            ],
            [
             0.8888888888888888,
             "#fdca26"
            ],
            [
             1,
             "#f0f921"
            ]
           ],
           "sequentialminus": [
            [
             0,
             "#0d0887"
            ],
            [
             0.1111111111111111,
             "#46039f"
            ],
            [
             0.2222222222222222,
             "#7201a8"
            ],
            [
             0.3333333333333333,
             "#9c179e"
            ],
            [
             0.4444444444444444,
             "#bd3786"
            ],
            [
             0.5555555555555556,
             "#d8576b"
            ],
            [
             0.6666666666666666,
             "#ed7953"
            ],
            [
             0.7777777777777778,
             "#fb9f3a"
            ],
            [
             0.8888888888888888,
             "#fdca26"
            ],
            [
             1,
             "#f0f921"
            ]
           ]
          },
          "colorway": [
           "#636efa",
           "#EF553B",
           "#00cc96",
           "#ab63fa",
           "#FFA15A",
           "#19d3f3",
           "#FF6692",
           "#B6E880",
           "#FF97FF",
           "#FECB52"
          ],
          "font": {
           "color": "#2a3f5f"
          },
          "geo": {
           "bgcolor": "white",
           "lakecolor": "white",
           "landcolor": "#E5ECF6",
           "showlakes": true,
           "showland": true,
           "subunitcolor": "white"
          },
          "hoverlabel": {
           "align": "left"
          },
          "hovermode": "closest",
          "mapbox": {
           "style": "light"
          },
          "paper_bgcolor": "white",
          "plot_bgcolor": "#E5ECF6",
          "polar": {
           "angularaxis": {
            "gridcolor": "white",
            "linecolor": "white",
            "ticks": ""
           },
           "bgcolor": "#E5ECF6",
           "radialaxis": {
            "gridcolor": "white",
            "linecolor": "white",
            "ticks": ""
           }
          },
          "scene": {
           "xaxis": {
            "backgroundcolor": "#E5ECF6",
            "gridcolor": "white",
            "gridwidth": 2,
            "linecolor": "white",
            "showbackground": true,
            "ticks": "",
            "zerolinecolor": "white"
           },
           "yaxis": {
            "backgroundcolor": "#E5ECF6",
            "gridcolor": "white",
            "gridwidth": 2,
            "linecolor": "white",
            "showbackground": true,
            "ticks": "",
            "zerolinecolor": "white"
           },
           "zaxis": {
            "backgroundcolor": "#E5ECF6",
            "gridcolor": "white",
            "gridwidth": 2,
            "linecolor": "white",
            "showbackground": true,
            "ticks": "",
            "zerolinecolor": "white"
           }
          },
          "shapedefaults": {
           "line": {
            "color": "#2a3f5f"
           }
          },
          "ternary": {
           "aaxis": {
            "gridcolor": "white",
            "linecolor": "white",
            "ticks": ""
           },
           "baxis": {
            "gridcolor": "white",
            "linecolor": "white",
            "ticks": ""
           },
           "bgcolor": "#E5ECF6",
           "caxis": {
            "gridcolor": "white",
            "linecolor": "white",
            "ticks": ""
           }
          },
          "title": {
           "x": 0.05
          },
          "xaxis": {
           "automargin": true,
           "gridcolor": "white",
           "linecolor": "white",
           "ticks": "",
           "title": {
            "standoff": 15
           },
           "zerolinecolor": "white",
           "zerolinewidth": 2
          },
          "yaxis": {
           "automargin": true,
           "gridcolor": "white",
           "linecolor": "white",
           "ticks": "",
           "title": {
            "standoff": 15
           },
           "zerolinecolor": "white",
           "zerolinewidth": 2
          }
         }
        },
        "xaxis": {
         "anchor": "y",
         "domain": [
          0,
          1
         ]
        },
        "xaxis2": {
         "anchor": "y2",
         "domain": [
          0,
          1
         ]
        },
        "yaxis": {
         "anchor": "x",
         "domain": [
          0.575,
          1
         ]
        },
        "yaxis2": {
         "anchor": "x2",
         "domain": [
          0,
          0.425
         ]
        }
       }
      }
     },
     "metadata": {},
     "output_type": "display_data"
    }
   ],
   "source": [
    "import plotly.express as px\n",
    "from plotly.offline import plot\n",
    "from plotly.subplots import make_subplots\n",
    "\n",
    "figures = [\n",
    "plot_relative_occurrences(df_sum, ethmerged, ['German','Nazi','Japanese',]),\n",
    "plot_relative_occurrences(df_sum, ethmerged, ['French','Spanish','American'])   \n",
    "]\n",
    "\n",
    "fig = make_subplots(rows=len(figures), cols=1) \n",
    "\n",
    "for i, figure in enumerate(figures):\n",
    "    for trace in range(len(figure[\"data\"])):\n",
    "        fig.append_trace(figure[\"data\"][trace], row=i+1, col=1)\n",
    "\n",
    "for dates in [\n",
    "    ('1914', '1918', 'WWI'),\n",
    "    ('1939', '1945', 'WWII'),\n",
    "    ('1989', '1989', 'Fall of the Berlin Wall')\n",
    "             ]:\n",
    "    fig.add_vrect(\n",
    "                x0=dates[0],\n",
    "                x1=dates[1],\n",
    "                annotation_text=dates[2],\n",
    "                annotation_position=\"top left\",\n",
    "                fillcolor='rgba(255, 0, 0, 0.05)', \n",
    "                layer='below',\n",
    "                line=None)\n",
    "\n",
    "#fig_json = fig.to_json()\n",
    "\n",
    "#with open('figures/ethnicity-representation.json', 'w') as json_file:\n",
    "#    json.dump(json.loads(fig_json), json_file, indent=4)   \n",
    "\n",
    "fig.show()"
   ]
  },
  {
   "cell_type": "code",
   "execution_count": 25,
   "metadata": {},
   "outputs": [],
   "source": [
    "data_window = get_relative_occurrences(df_sum, ethmerged, ['German'])"
   ]
  },
  {
   "cell_type": "code",
   "execution_count": 26,
   "metadata": {},
   "outputs": [
    {
     "data": {
      "text/html": [
       "<div>\n",
       "<style scoped>\n",
       "    .dataframe tbody tr th:only-of-type {\n",
       "        vertical-align: middle;\n",
       "    }\n",
       "\n",
       "    .dataframe tbody tr th {\n",
       "        vertical-align: top;\n",
       "    }\n",
       "\n",
       "    .dataframe thead th {\n",
       "        text-align: right;\n",
       "    }\n",
       "</style>\n",
       "<table border=\"1\" class=\"dataframe\">\n",
       "  <thead>\n",
       "    <tr style=\"text-align: right;\">\n",
       "      <th></th>\n",
       "      <th>release_period</th>\n",
       "      <th>variable</th>\n",
       "      <th>value</th>\n",
       "    </tr>\n",
       "  </thead>\n",
       "  <tbody>\n",
       "    <tr>\n",
       "      <th>0</th>\n",
       "      <td>1910.0</td>\n",
       "      <td>German</td>\n",
       "      <td>None</td>\n",
       "    </tr>\n",
       "    <tr>\n",
       "      <th>1</th>\n",
       "      <td>1911.0</td>\n",
       "      <td>German</td>\n",
       "      <td>None</td>\n",
       "    </tr>\n",
       "    <tr>\n",
       "      <th>2</th>\n",
       "      <td>1912.0</td>\n",
       "      <td>German</td>\n",
       "      <td>None</td>\n",
       "    </tr>\n",
       "    <tr>\n",
       "      <th>3</th>\n",
       "      <td>1913.0</td>\n",
       "      <td>German</td>\n",
       "      <td>None</td>\n",
       "    </tr>\n",
       "    <tr>\n",
       "      <th>4</th>\n",
       "      <td>1914.0</td>\n",
       "      <td>German</td>\n",
       "      <td>None</td>\n",
       "    </tr>\n",
       "    <tr>\n",
       "      <th>...</th>\n",
       "      <td>...</td>\n",
       "      <td>...</td>\n",
       "      <td>...</td>\n",
       "    </tr>\n",
       "    <tr>\n",
       "      <th>99</th>\n",
       "      <td>2009.0</td>\n",
       "      <td>German</td>\n",
       "      <td>None</td>\n",
       "    </tr>\n",
       "    <tr>\n",
       "      <th>100</th>\n",
       "      <td>2010.0</td>\n",
       "      <td>German</td>\n",
       "      <td>None</td>\n",
       "    </tr>\n",
       "    <tr>\n",
       "      <th>101</th>\n",
       "      <td>2011.0</td>\n",
       "      <td>German</td>\n",
       "      <td>None</td>\n",
       "    </tr>\n",
       "    <tr>\n",
       "      <th>102</th>\n",
       "      <td>2012.0</td>\n",
       "      <td>German</td>\n",
       "      <td>None</td>\n",
       "    </tr>\n",
       "    <tr>\n",
       "      <th>103</th>\n",
       "      <td>2013.0</td>\n",
       "      <td>German</td>\n",
       "      <td>None</td>\n",
       "    </tr>\n",
       "  </tbody>\n",
       "</table>\n",
       "<p>104 rows × 3 columns</p>\n",
       "</div>"
      ],
      "text/plain": [
       "     release_period variable value\n",
       "0            1910.0   German  None\n",
       "1            1911.0   German  None\n",
       "2            1912.0   German  None\n",
       "3            1913.0   German  None\n",
       "4            1914.0   German  None\n",
       "..              ...      ...   ...\n",
       "99           2009.0   German  None\n",
       "100          2010.0   German  None\n",
       "101          2011.0   German  None\n",
       "102          2012.0   German  None\n",
       "103          2013.0   German  None\n",
       "\n",
       "[104 rows x 3 columns]"
      ]
     },
     "execution_count": 26,
     "metadata": {},
     "output_type": "execute_result"
    }
   ],
   "source": [
    "data_window"
   ]
  },
  {
   "cell_type": "code",
   "execution_count": 27,
   "metadata": {},
   "outputs": [
    {
     "name": "stdout",
     "output_type": "stream",
     "text": [
      "nan\n"
     ]
    },
    {
     "ename": "TypeError",
     "evalue": "unsupported operand type(s) for +: 'NoneType' and 'NoneType'",
     "output_type": "error",
     "traceback": [
      "\u001b[1;31m---------------------------------------------------------------------------\u001b[0m",
      "\u001b[1;31mTypeError\u001b[0m                                 Traceback (most recent call last)",
      "Cell \u001b[1;32mIn[27], line 3\u001b[0m\n\u001b[0;32m      1\u001b[0m d \u001b[38;5;241m=\u001b[39m get_relative_occurrences(df_sum, ethmerged, [\u001b[38;5;124m'\u001b[39m\u001b[38;5;124mGerman\u001b[39m\u001b[38;5;124m'\u001b[39m])\n\u001b[0;32m      2\u001b[0m \u001b[38;5;28mprint\u001b[39m(np\u001b[38;5;241m.\u001b[39mstd(d[\u001b[38;5;124m'\u001b[39m\u001b[38;5;124mvalue\u001b[39m\u001b[38;5;124m'\u001b[39m]))\n\u001b[1;32m----> 3\u001b[0m d[\u001b[38;5;124m'\u001b[39m\u001b[38;5;124mzscore\u001b[39m\u001b[38;5;124m'\u001b[39m] \u001b[38;5;241m=\u001b[39m stats\u001b[38;5;241m.\u001b[39mzscore(d\u001b[38;5;241m.\u001b[39mvalue)\n\u001b[0;32m      4\u001b[0m d\u001b[38;5;241m.\u001b[39mloc[d[\u001b[38;5;124m'\u001b[39m\u001b[38;5;124mzscore\u001b[39m\u001b[38;5;124m'\u001b[39m] \u001b[38;5;241m>\u001b[39m\u001b[38;5;241m=\u001b[39m \u001b[38;5;241m2\u001b[39m]\n",
      "File \u001b[1;32mc:\\Users\\rchiu\\anaconda3\\Lib\\site-packages\\scipy\\stats\\_stats_py.py:2973\u001b[0m, in \u001b[0;36mzscore\u001b[1;34m(a, axis, ddof, nan_policy)\u001b[0m\n\u001b[0;32m   2891\u001b[0m \u001b[38;5;28;01mdef\u001b[39;00m \u001b[38;5;21mzscore\u001b[39m(a, axis\u001b[38;5;241m=\u001b[39m\u001b[38;5;241m0\u001b[39m, ddof\u001b[38;5;241m=\u001b[39m\u001b[38;5;241m0\u001b[39m, nan_policy\u001b[38;5;241m=\u001b[39m\u001b[38;5;124m'\u001b[39m\u001b[38;5;124mpropagate\u001b[39m\u001b[38;5;124m'\u001b[39m):\n\u001b[0;32m   2892\u001b[0m \u001b[38;5;250m    \u001b[39m\u001b[38;5;124;03m\"\"\"\u001b[39;00m\n\u001b[0;32m   2893\u001b[0m \u001b[38;5;124;03m    Compute the z score.\u001b[39;00m\n\u001b[0;32m   2894\u001b[0m \n\u001b[1;32m   (...)\u001b[0m\n\u001b[0;32m   2971\u001b[0m \u001b[38;5;124;03m           [-0.91611681, -0.89090508,  1.4983032 ,  0.88731639, -0.5785977 ]])\u001b[39;00m\n\u001b[0;32m   2972\u001b[0m \u001b[38;5;124;03m    \"\"\"\u001b[39;00m\n\u001b[1;32m-> 2973\u001b[0m     \u001b[38;5;28;01mreturn\u001b[39;00m zmap(a, a, axis\u001b[38;5;241m=\u001b[39maxis, ddof\u001b[38;5;241m=\u001b[39mddof, nan_policy\u001b[38;5;241m=\u001b[39mnan_policy)\n",
      "File \u001b[1;32mc:\\Users\\rchiu\\anaconda3\\Lib\\site-packages\\scipy\\stats\\_stats_py.py:3137\u001b[0m, in \u001b[0;36mzmap\u001b[1;34m(scores, compare, axis, ddof, nan_policy)\u001b[0m\n\u001b[0;32m   3135\u001b[0m         isconst \u001b[38;5;241m=\u001b[39m np\u001b[38;5;241m.\u001b[39mapply_along_axis(_isconst, axis, a)\n\u001b[0;32m   3136\u001b[0m \u001b[38;5;28;01melse\u001b[39;00m:\n\u001b[1;32m-> 3137\u001b[0m     mn \u001b[38;5;241m=\u001b[39m a\u001b[38;5;241m.\u001b[39mmean(axis\u001b[38;5;241m=\u001b[39maxis, keepdims\u001b[38;5;241m=\u001b[39m\u001b[38;5;28;01mTrue\u001b[39;00m)\n\u001b[0;32m   3138\u001b[0m     std \u001b[38;5;241m=\u001b[39m a\u001b[38;5;241m.\u001b[39mstd(axis\u001b[38;5;241m=\u001b[39maxis, ddof\u001b[38;5;241m=\u001b[39mddof, keepdims\u001b[38;5;241m=\u001b[39m\u001b[38;5;28;01mTrue\u001b[39;00m)\n\u001b[0;32m   3139\u001b[0m     \u001b[38;5;28;01mif\u001b[39;00m axis \u001b[38;5;129;01mis\u001b[39;00m \u001b[38;5;28;01mNone\u001b[39;00m:\n",
      "File \u001b[1;32mc:\\Users\\rchiu\\anaconda3\\Lib\\site-packages\\numpy\\core\\_methods.py:181\u001b[0m, in \u001b[0;36m_mean\u001b[1;34m(a, axis, dtype, out, keepdims, where)\u001b[0m\n\u001b[0;32m    178\u001b[0m         dtype \u001b[38;5;241m=\u001b[39m mu\u001b[38;5;241m.\u001b[39mdtype(\u001b[38;5;124m'\u001b[39m\u001b[38;5;124mf4\u001b[39m\u001b[38;5;124m'\u001b[39m)\n\u001b[0;32m    179\u001b[0m         is_float16_result \u001b[38;5;241m=\u001b[39m \u001b[38;5;28;01mTrue\u001b[39;00m\n\u001b[1;32m--> 181\u001b[0m ret \u001b[38;5;241m=\u001b[39m umr_sum(arr, axis, dtype, out, keepdims, where\u001b[38;5;241m=\u001b[39mwhere)\n\u001b[0;32m    182\u001b[0m \u001b[38;5;28;01mif\u001b[39;00m \u001b[38;5;28misinstance\u001b[39m(ret, mu\u001b[38;5;241m.\u001b[39mndarray):\n\u001b[0;32m    183\u001b[0m     \u001b[38;5;28;01mwith\u001b[39;00m _no_nep50_warning():\n",
      "\u001b[1;31mTypeError\u001b[0m: unsupported operand type(s) for +: 'NoneType' and 'NoneType'"
     ]
    }
   ],
   "source": [
    "\n",
    "d = get_relative_occurrences(df_sum, ethmerged, ['German'])\n",
    "print(np.std(d['value']))\n",
    "d['zscore'] = stats.zscore(d.value)\n",
    "d.loc[d['zscore'] >= 2]"
   ]
  },
  {
   "cell_type": "code",
   "execution_count": null,
   "metadata": {},
   "outputs": [
    {
     "data": {
      "application/vnd.plotly.v1+json": {
       "config": {
        "plotlyServerURL": "https://plot.ly"
       },
       "data": [
        {
         "alignmentgroup": "True",
         "bingroup": "x",
         "hovertemplate": "variable=value<br>_value=%{x}<br>count=%{y}<extra></extra>",
         "legendgroup": "value",
         "marker": {
          "color": "#636efa",
          "pattern": {
           "shape": ""
          }
         },
         "name": "value",
         "offsetgroup": "value",
         "orientation": "v",
         "showlegend": true,
         "type": "histogram",
         "x": [
          0.0002472187886279357,
          0.0008580923378032565,
          0.003349786689962725,
          0.005631944366311273,
          0.00754022981170951,
          0.008890751604220254,
          0.008381970959588068,
          0.00659657442967698,
          0.0045572825699647405,
          0.002538670875295172,
          0.0012712055611897447,
          0.0014208961228656621,
          0.0009239127956460616,
          0.0010395770058995051,
          0.001410585143743803,
          0.0014308878384651023,
          0.002647173860868512,
          0.0028052250477622782,
          0.003065430325909032,
          0.0030659588700086373,
          0.003303762273971643,
          0.0020940603719610427,
          0.0018627491118072034,
          0.0015773074622878983,
          0.0013326988429780363,
          0.001437467146601905,
          0.0021184148485823067,
          0.0029069202773103044,
          0.0040492115164635235,
          0.006707152628573083,
          0.00755514255098285,
          0.007514237766882641,
          0.0071504483662213625,
          0.005965691212043112,
          0.0032520066756597313,
          0.0026017371305821152,
          0.002184178420697653,
          0.002127235119394346,
          0.0020708316868996513,
          0.00238705980466631,
          0.0021313471817820165,
          0.0020041795977007422,
          0.0019064617455401243,
          0.0022989487525273584,
          0.0025943155881914155,
          0.002882285636387541,
          0.002989121429698892,
          0.0032027304431865447,
          0.0031001696485800033,
          0.0026339201364800812,
          0.0024220485760924463,
          0.0033117395427189147,
          0.0035073431311752738,
          0.0034002065488331103,
          0.00363329419371511,
          0.004104194613852023,
          0.003266168690888921,
          0.0028671417672983548,
          0.002791784796307339,
          0.002383723399913753,
          0.001686456682713122,
          0.0017861970656945143,
          0.0018260717860961533,
          0.0020669101236110944,
          0.0021710015501738224,
          0.0022083352080364592,
          0.002066671093216943,
          0.0019350713429134646,
          0.001591473704552402,
          0.0014553320050271334,
          0.0014268636881140542,
          0.0013528821945295933,
          0.0012402234236060911,
          0.0012137301613555918,
          0.0011642560774997137,
          0.0010433619785646599,
          0.000849132594262161,
          0.0008309748110468908,
          0.0008817062314464113,
          0.0010425136794916837,
          0.0011065237184874352,
          0.0010247089426088057,
          0.0010176914664927878,
          0.0008924698519722569,
          0.0009383023272085871,
          0.0009285153214663312,
          0.0010118794776287493,
          0.0010733272189658004,
          0.0012601915306729393,
          0.0012971531747167403,
          0.0015165084935099288,
          0.0015239830439860392,
          0.0015115236388143008,
          0.00140114515344835,
          0.0013916261006243643,
          0.0011711771630301881,
          0.0011072136997712632,
          0.0011477411174114715,
          0.001109487189872129,
          0.0016398066073748888
         ],
         "xaxis": "x",
         "yaxis": "y"
        }
       ],
       "layout": {
        "barmode": "relative",
        "legend": {
         "title": {
          "text": "variable"
         },
         "tracegroupgap": 0
        },
        "margin": {
         "t": 60
        },
        "template": {
         "data": {
          "bar": [
           {
            "error_x": {
             "color": "#2a3f5f"
            },
            "error_y": {
             "color": "#2a3f5f"
            },
            "marker": {
             "line": {
              "color": "#E5ECF6",
              "width": 0.5
             },
             "pattern": {
              "fillmode": "overlay",
              "size": 10,
              "solidity": 0.2
             }
            },
            "type": "bar"
           }
          ],
          "barpolar": [
           {
            "marker": {
             "line": {
              "color": "#E5ECF6",
              "width": 0.5
             },
             "pattern": {
              "fillmode": "overlay",
              "size": 10,
              "solidity": 0.2
             }
            },
            "type": "barpolar"
           }
          ],
          "carpet": [
           {
            "aaxis": {
             "endlinecolor": "#2a3f5f",
             "gridcolor": "white",
             "linecolor": "white",
             "minorgridcolor": "white",
             "startlinecolor": "#2a3f5f"
            },
            "baxis": {
             "endlinecolor": "#2a3f5f",
             "gridcolor": "white",
             "linecolor": "white",
             "minorgridcolor": "white",
             "startlinecolor": "#2a3f5f"
            },
            "type": "carpet"
           }
          ],
          "choropleth": [
           {
            "colorbar": {
             "outlinewidth": 0,
             "ticks": ""
            },
            "type": "choropleth"
           }
          ],
          "contour": [
           {
            "colorbar": {
             "outlinewidth": 0,
             "ticks": ""
            },
            "colorscale": [
             [
              0,
              "#0d0887"
             ],
             [
              0.1111111111111111,
              "#46039f"
             ],
             [
              0.2222222222222222,
              "#7201a8"
             ],
             [
              0.3333333333333333,
              "#9c179e"
             ],
             [
              0.4444444444444444,
              "#bd3786"
             ],
             [
              0.5555555555555556,
              "#d8576b"
             ],
             [
              0.6666666666666666,
              "#ed7953"
             ],
             [
              0.7777777777777778,
              "#fb9f3a"
             ],
             [
              0.8888888888888888,
              "#fdca26"
             ],
             [
              1,
              "#f0f921"
             ]
            ],
            "type": "contour"
           }
          ],
          "contourcarpet": [
           {
            "colorbar": {
             "outlinewidth": 0,
             "ticks": ""
            },
            "type": "contourcarpet"
           }
          ],
          "heatmap": [
           {
            "colorbar": {
             "outlinewidth": 0,
             "ticks": ""
            },
            "colorscale": [
             [
              0,
              "#0d0887"
             ],
             [
              0.1111111111111111,
              "#46039f"
             ],
             [
              0.2222222222222222,
              "#7201a8"
             ],
             [
              0.3333333333333333,
              "#9c179e"
             ],
             [
              0.4444444444444444,
              "#bd3786"
             ],
             [
              0.5555555555555556,
              "#d8576b"
             ],
             [
              0.6666666666666666,
              "#ed7953"
             ],
             [
              0.7777777777777778,
              "#fb9f3a"
             ],
             [
              0.8888888888888888,
              "#fdca26"
             ],
             [
              1,
              "#f0f921"
             ]
            ],
            "type": "heatmap"
           }
          ],
          "heatmapgl": [
           {
            "colorbar": {
             "outlinewidth": 0,
             "ticks": ""
            },
            "colorscale": [
             [
              0,
              "#0d0887"
             ],
             [
              0.1111111111111111,
              "#46039f"
             ],
             [
              0.2222222222222222,
              "#7201a8"
             ],
             [
              0.3333333333333333,
              "#9c179e"
             ],
             [
              0.4444444444444444,
              "#bd3786"
             ],
             [
              0.5555555555555556,
              "#d8576b"
             ],
             [
              0.6666666666666666,
              "#ed7953"
             ],
             [
              0.7777777777777778,
              "#fb9f3a"
             ],
             [
              0.8888888888888888,
              "#fdca26"
             ],
             [
              1,
              "#f0f921"
             ]
            ],
            "type": "heatmapgl"
           }
          ],
          "histogram": [
           {
            "marker": {
             "pattern": {
              "fillmode": "overlay",
              "size": 10,
              "solidity": 0.2
             }
            },
            "type": "histogram"
           }
          ],
          "histogram2d": [
           {
            "colorbar": {
             "outlinewidth": 0,
             "ticks": ""
            },
            "colorscale": [
             [
              0,
              "#0d0887"
             ],
             [
              0.1111111111111111,
              "#46039f"
             ],
             [
              0.2222222222222222,
              "#7201a8"
             ],
             [
              0.3333333333333333,
              "#9c179e"
             ],
             [
              0.4444444444444444,
              "#bd3786"
             ],
             [
              0.5555555555555556,
              "#d8576b"
             ],
             [
              0.6666666666666666,
              "#ed7953"
             ],
             [
              0.7777777777777778,
              "#fb9f3a"
             ],
             [
              0.8888888888888888,
              "#fdca26"
             ],
             [
              1,
              "#f0f921"
             ]
            ],
            "type": "histogram2d"
           }
          ],
          "histogram2dcontour": [
           {
            "colorbar": {
             "outlinewidth": 0,
             "ticks": ""
            },
            "colorscale": [
             [
              0,
              "#0d0887"
             ],
             [
              0.1111111111111111,
              "#46039f"
             ],
             [
              0.2222222222222222,
              "#7201a8"
             ],
             [
              0.3333333333333333,
              "#9c179e"
             ],
             [
              0.4444444444444444,
              "#bd3786"
             ],
             [
              0.5555555555555556,
              "#d8576b"
             ],
             [
              0.6666666666666666,
              "#ed7953"
             ],
             [
              0.7777777777777778,
              "#fb9f3a"
             ],
             [
              0.8888888888888888,
              "#fdca26"
             ],
             [
              1,
              "#f0f921"
             ]
            ],
            "type": "histogram2dcontour"
           }
          ],
          "mesh3d": [
           {
            "colorbar": {
             "outlinewidth": 0,
             "ticks": ""
            },
            "type": "mesh3d"
           }
          ],
          "parcoords": [
           {
            "line": {
             "colorbar": {
              "outlinewidth": 0,
              "ticks": ""
             }
            },
            "type": "parcoords"
           }
          ],
          "pie": [
           {
            "automargin": true,
            "type": "pie"
           }
          ],
          "scatter": [
           {
            "fillpattern": {
             "fillmode": "overlay",
             "size": 10,
             "solidity": 0.2
            },
            "type": "scatter"
           }
          ],
          "scatter3d": [
           {
            "line": {
             "colorbar": {
              "outlinewidth": 0,
              "ticks": ""
             }
            },
            "marker": {
             "colorbar": {
              "outlinewidth": 0,
              "ticks": ""
             }
            },
            "type": "scatter3d"
           }
          ],
          "scattercarpet": [
           {
            "marker": {
             "colorbar": {
              "outlinewidth": 0,
              "ticks": ""
             }
            },
            "type": "scattercarpet"
           }
          ],
          "scattergeo": [
           {
            "marker": {
             "colorbar": {
              "outlinewidth": 0,
              "ticks": ""
             }
            },
            "type": "scattergeo"
           }
          ],
          "scattergl": [
           {
            "marker": {
             "colorbar": {
              "outlinewidth": 0,
              "ticks": ""
             }
            },
            "type": "scattergl"
           }
          ],
          "scattermapbox": [
           {
            "marker": {
             "colorbar": {
              "outlinewidth": 0,
              "ticks": ""
             }
            },
            "type": "scattermapbox"
           }
          ],
          "scatterpolar": [
           {
            "marker": {
             "colorbar": {
              "outlinewidth": 0,
              "ticks": ""
             }
            },
            "type": "scatterpolar"
           }
          ],
          "scatterpolargl": [
           {
            "marker": {
             "colorbar": {
              "outlinewidth": 0,
              "ticks": ""
             }
            },
            "type": "scatterpolargl"
           }
          ],
          "scatterternary": [
           {
            "marker": {
             "colorbar": {
              "outlinewidth": 0,
              "ticks": ""
             }
            },
            "type": "scatterternary"
           }
          ],
          "surface": [
           {
            "colorbar": {
             "outlinewidth": 0,
             "ticks": ""
            },
            "colorscale": [
             [
              0,
              "#0d0887"
             ],
             [
              0.1111111111111111,
              "#46039f"
             ],
             [
              0.2222222222222222,
              "#7201a8"
             ],
             [
              0.3333333333333333,
              "#9c179e"
             ],
             [
              0.4444444444444444,
              "#bd3786"
             ],
             [
              0.5555555555555556,
              "#d8576b"
             ],
             [
              0.6666666666666666,
              "#ed7953"
             ],
             [
              0.7777777777777778,
              "#fb9f3a"
             ],
             [
              0.8888888888888888,
              "#fdca26"
             ],
             [
              1,
              "#f0f921"
             ]
            ],
            "type": "surface"
           }
          ],
          "table": [
           {
            "cells": {
             "fill": {
              "color": "#EBF0F8"
             },
             "line": {
              "color": "white"
             }
            },
            "header": {
             "fill": {
              "color": "#C8D4E3"
             },
             "line": {
              "color": "white"
             }
            },
            "type": "table"
           }
          ]
         },
         "layout": {
          "annotationdefaults": {
           "arrowcolor": "#2a3f5f",
           "arrowhead": 0,
           "arrowwidth": 1
          },
          "autotypenumbers": "strict",
          "coloraxis": {
           "colorbar": {
            "outlinewidth": 0,
            "ticks": ""
           }
          },
          "colorscale": {
           "diverging": [
            [
             0,
             "#8e0152"
            ],
            [
             0.1,
             "#c51b7d"
            ],
            [
             0.2,
             "#de77ae"
            ],
            [
             0.3,
             "#f1b6da"
            ],
            [
             0.4,
             "#fde0ef"
            ],
            [
             0.5,
             "#f7f7f7"
            ],
            [
             0.6,
             "#e6f5d0"
            ],
            [
             0.7,
             "#b8e186"
            ],
            [
             0.8,
             "#7fbc41"
            ],
            [
             0.9,
             "#4d9221"
            ],
            [
             1,
             "#276419"
            ]
           ],
           "sequential": [
            [
             0,
             "#0d0887"
            ],
            [
             0.1111111111111111,
             "#46039f"
            ],
            [
             0.2222222222222222,
             "#7201a8"
            ],
            [
             0.3333333333333333,
             "#9c179e"
            ],
            [
             0.4444444444444444,
             "#bd3786"
            ],
            [
             0.5555555555555556,
             "#d8576b"
            ],
            [
             0.6666666666666666,
             "#ed7953"
            ],
            [
             0.7777777777777778,
             "#fb9f3a"
            ],
            [
             0.8888888888888888,
             "#fdca26"
            ],
            [
             1,
             "#f0f921"
            ]
           ],
           "sequentialminus": [
            [
             0,
             "#0d0887"
            ],
            [
             0.1111111111111111,
             "#46039f"
            ],
            [
             0.2222222222222222,
             "#7201a8"
            ],
            [
             0.3333333333333333,
             "#9c179e"
            ],
            [
             0.4444444444444444,
             "#bd3786"
            ],
            [
             0.5555555555555556,
             "#d8576b"
            ],
            [
             0.6666666666666666,
             "#ed7953"
            ],
            [
             0.7777777777777778,
             "#fb9f3a"
            ],
            [
             0.8888888888888888,
             "#fdca26"
            ],
            [
             1,
             "#f0f921"
            ]
           ]
          },
          "colorway": [
           "#636efa",
           "#EF553B",
           "#00cc96",
           "#ab63fa",
           "#FFA15A",
           "#19d3f3",
           "#FF6692",
           "#B6E880",
           "#FF97FF",
           "#FECB52"
          ],
          "font": {
           "color": "#2a3f5f"
          },
          "geo": {
           "bgcolor": "white",
           "lakecolor": "white",
           "landcolor": "#E5ECF6",
           "showlakes": true,
           "showland": true,
           "subunitcolor": "white"
          },
          "hoverlabel": {
           "align": "left"
          },
          "hovermode": "closest",
          "mapbox": {
           "style": "light"
          },
          "paper_bgcolor": "white",
          "plot_bgcolor": "#E5ECF6",
          "polar": {
           "angularaxis": {
            "gridcolor": "white",
            "linecolor": "white",
            "ticks": ""
           },
           "bgcolor": "#E5ECF6",
           "radialaxis": {
            "gridcolor": "white",
            "linecolor": "white",
            "ticks": ""
           }
          },
          "scene": {
           "xaxis": {
            "backgroundcolor": "#E5ECF6",
            "gridcolor": "white",
            "gridwidth": 2,
            "linecolor": "white",
            "showbackground": true,
            "ticks": "",
            "zerolinecolor": "white"
           },
           "yaxis": {
            "backgroundcolor": "#E5ECF6",
            "gridcolor": "white",
            "gridwidth": 2,
            "linecolor": "white",
            "showbackground": true,
            "ticks": "",
            "zerolinecolor": "white"
           },
           "zaxis": {
            "backgroundcolor": "#E5ECF6",
            "gridcolor": "white",
            "gridwidth": 2,
            "linecolor": "white",
            "showbackground": true,
            "ticks": "",
            "zerolinecolor": "white"
           }
          },
          "shapedefaults": {
           "line": {
            "color": "#2a3f5f"
           }
          },
          "ternary": {
           "aaxis": {
            "gridcolor": "white",
            "linecolor": "white",
            "ticks": ""
           },
           "baxis": {
            "gridcolor": "white",
            "linecolor": "white",
            "ticks": ""
           },
           "bgcolor": "#E5ECF6",
           "caxis": {
            "gridcolor": "white",
            "linecolor": "white",
            "ticks": ""
           }
          },
          "title": {
           "x": 0.05
          },
          "xaxis": {
           "automargin": true,
           "gridcolor": "white",
           "linecolor": "white",
           "ticks": "",
           "title": {
            "standoff": 15
           },
           "zerolinecolor": "white",
           "zerolinewidth": 2
          },
          "yaxis": {
           "automargin": true,
           "gridcolor": "white",
           "linecolor": "white",
           "ticks": "",
           "title": {
            "standoff": 15
           },
           "zerolinecolor": "white",
           "zerolinewidth": 2
          }
         }
        },
        "xaxis": {
         "anchor": "y",
         "domain": [
          0,
          1
         ],
         "title": {
          "text": "_value"
         }
        },
        "yaxis": {
         "anchor": "x",
         "domain": [
          0,
          1
         ],
         "title": {
          "text": "count"
         }
        }
       }
      }
     },
     "metadata": {},
     "output_type": "display_data"
    }
   ],
   "source": [
    "\n",
    "px.histogram(d.value)"
   ]
  }
 ],
 "metadata": {
  "kernelspec": {
   "display_name": "base",
   "language": "python",
   "name": "python3"
  },
  "language_info": {
   "codemirror_mode": {
    "name": "ipython",
    "version": 3
   },
   "file_extension": ".py",
   "mimetype": "text/x-python",
   "name": "python",
   "nbconvert_exporter": "python",
   "pygments_lexer": "ipython3",
   "version": "3.11.5"
  }
 },
 "nbformat": 4,
 "nbformat_minor": 2
}
