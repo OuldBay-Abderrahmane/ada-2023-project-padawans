{
 "cells": [
  {
   "cell_type": "code",
   "execution_count": 2,
   "metadata": {},
   "outputs": [],
   "source": [
    "import pandas as pd\n",
    "import matplotlib.pyplot as plt\n",
    "import seaborn as sns \n",
    "from ast import literal_eval \n",
    "import spacy\n"
   ]
  },
  {
   "cell_type": "code",
   "execution_count": 10,
   "metadata": {},
   "outputs": [],
   "source": [
    "df = pd.read_csv(\"data\\MovieSummaries\\movie.metadata.tsv\", sep='\\t',header=None, names=['Wikipedia_ID','Freebase_ID','name','release_date','revenue','runtime','languages','countries','genres'])\n",
    "\n",
    "sum = pd.read_csv(\"data\\MovieSummaries\\plot_summaries.txt\", sep='\\t', header=None, names=['Wikipedia_ID', 'Summary'])\n"
   ]
  },
  {
   "cell_type": "code",
   "execution_count": 11,
   "metadata": {},
   "outputs": [],
   "source": [
    "# Harmonize dates for plotting\n",
    "df['release_year'] = pd.to_datetime(df['release_date'],errors='coerce')\n",
    "\n",
    "# Create a new column 'year' to store the year information\n",
    "df['release_year'] = df['release_year'].dt.year\n",
    "\n",
    "# For entries with missing dates, fill 'year' with the year information\n",
    "df['release_year'].fillna(df['release_date'], inplace=True)\n",
    "\n",
    "df.drop(columns=['release_date'], inplace=True)\n",
    "\n",
    "df[\"summary\"] = sum[\"Summary\"]\n"
   ]
  },
  {
   "cell_type": "code",
   "execution_count": 12,
   "metadata": {},
   "outputs": [
    {
     "data": {
      "text/html": [
       "<div>\n",
       "<style scoped>\n",
       "    .dataframe tbody tr th:only-of-type {\n",
       "        vertical-align: middle;\n",
       "    }\n",
       "\n",
       "    .dataframe tbody tr th {\n",
       "        vertical-align: top;\n",
       "    }\n",
       "\n",
       "    .dataframe thead th {\n",
       "        text-align: right;\n",
       "    }\n",
       "</style>\n",
       "<table border=\"1\" class=\"dataframe\">\n",
       "  <thead>\n",
       "    <tr style=\"text-align: right;\">\n",
       "      <th></th>\n",
       "      <th>Wikipedia_ID</th>\n",
       "      <th>Freebase_ID</th>\n",
       "      <th>name</th>\n",
       "      <th>revenue</th>\n",
       "      <th>runtime</th>\n",
       "      <th>languages</th>\n",
       "      <th>countries</th>\n",
       "      <th>genres</th>\n",
       "      <th>release_year</th>\n",
       "      <th>summary</th>\n",
       "    </tr>\n",
       "  </thead>\n",
       "  <tbody>\n",
       "    <tr>\n",
       "      <th>0</th>\n",
       "      <td>975900</td>\n",
       "      <td>/m/03vyhn</td>\n",
       "      <td>Ghosts of Mars</td>\n",
       "      <td>14010832.0</td>\n",
       "      <td>98.0</td>\n",
       "      <td>{\"/m/02h40lc\": \"English Language\"}</td>\n",
       "      <td>{\"/m/09c7w0\": \"United States of America\"}</td>\n",
       "      <td>{\"/m/01jfsb\": \"Thriller\", \"/m/06n90\": \"Science...</td>\n",
       "      <td>2001.0</td>\n",
       "      <td>Shlykov, a hard-working taxi driver and Lyosha...</td>\n",
       "    </tr>\n",
       "    <tr>\n",
       "      <th>1</th>\n",
       "      <td>3196793</td>\n",
       "      <td>/m/08yl5d</td>\n",
       "      <td>Getting Away with Murder: The JonBenét Ramsey ...</td>\n",
       "      <td>NaN</td>\n",
       "      <td>95.0</td>\n",
       "      <td>{\"/m/02h40lc\": \"English Language\"}</td>\n",
       "      <td>{\"/m/09c7w0\": \"United States of America\"}</td>\n",
       "      <td>{\"/m/02n4kr\": \"Mystery\", \"/m/03bxz7\": \"Biograp...</td>\n",
       "      <td>2000.0</td>\n",
       "      <td>The nation of Panem consists of a wealthy Capi...</td>\n",
       "    </tr>\n",
       "    <tr>\n",
       "      <th>2</th>\n",
       "      <td>28463795</td>\n",
       "      <td>/m/0crgdbh</td>\n",
       "      <td>Brun bitter</td>\n",
       "      <td>NaN</td>\n",
       "      <td>83.0</td>\n",
       "      <td>{\"/m/05f_3\": \"Norwegian Language\"}</td>\n",
       "      <td>{\"/m/05b4w\": \"Norway\"}</td>\n",
       "      <td>{\"/m/0lsxr\": \"Crime Fiction\", \"/m/07s9rl0\": \"D...</td>\n",
       "      <td>1988</td>\n",
       "      <td>Poovalli Induchoodan  is sentenced for six yea...</td>\n",
       "    </tr>\n",
       "    <tr>\n",
       "      <th>3</th>\n",
       "      <td>9363483</td>\n",
       "      <td>/m/0285_cd</td>\n",
       "      <td>White Of The Eye</td>\n",
       "      <td>NaN</td>\n",
       "      <td>110.0</td>\n",
       "      <td>{\"/m/02h40lc\": \"English Language\"}</td>\n",
       "      <td>{\"/m/07ssc\": \"United Kingdom\"}</td>\n",
       "      <td>{\"/m/01jfsb\": \"Thriller\", \"/m/0glj9q\": \"Erotic...</td>\n",
       "      <td>1987</td>\n",
       "      <td>The Lemon Drop Kid , a New York City swindler,...</td>\n",
       "    </tr>\n",
       "    <tr>\n",
       "      <th>4</th>\n",
       "      <td>261236</td>\n",
       "      <td>/m/01mrr1</td>\n",
       "      <td>A Woman in Flames</td>\n",
       "      <td>NaN</td>\n",
       "      <td>106.0</td>\n",
       "      <td>{\"/m/04306rv\": \"German Language\"}</td>\n",
       "      <td>{\"/m/0345h\": \"Germany\"}</td>\n",
       "      <td>{\"/m/07s9rl0\": \"Drama\"}</td>\n",
       "      <td>1983</td>\n",
       "      <td>Seventh-day Adventist Church pastor Michael Ch...</td>\n",
       "    </tr>\n",
       "    <tr>\n",
       "      <th>...</th>\n",
       "      <td>...</td>\n",
       "      <td>...</td>\n",
       "      <td>...</td>\n",
       "      <td>...</td>\n",
       "      <td>...</td>\n",
       "      <td>...</td>\n",
       "      <td>...</td>\n",
       "      <td>...</td>\n",
       "      <td>...</td>\n",
       "      <td>...</td>\n",
       "    </tr>\n",
       "    <tr>\n",
       "      <th>81736</th>\n",
       "      <td>35228177</td>\n",
       "      <td>/m/0j7hxnt</td>\n",
       "      <td>Mermaids: The Body Found</td>\n",
       "      <td>NaN</td>\n",
       "      <td>120.0</td>\n",
       "      <td>{\"/m/02h40lc\": \"English Language\"}</td>\n",
       "      <td>{\"/m/09c7w0\": \"United States of America\"}</td>\n",
       "      <td>{\"/m/07s9rl0\": \"Drama\"}</td>\n",
       "      <td>2011.0</td>\n",
       "      <td>NaN</td>\n",
       "    </tr>\n",
       "    <tr>\n",
       "      <th>81737</th>\n",
       "      <td>34980460</td>\n",
       "      <td>/m/0g4pl34</td>\n",
       "      <td>Knuckle</td>\n",
       "      <td>NaN</td>\n",
       "      <td>96.0</td>\n",
       "      <td>{\"/m/02h40lc\": \"English Language\"}</td>\n",
       "      <td>{\"/m/03rt9\": \"Ireland\", \"/m/07ssc\": \"United Ki...</td>\n",
       "      <td>{\"/m/03bxz7\": \"Biographical film\", \"/m/07s9rl0...</td>\n",
       "      <td>2011.0</td>\n",
       "      <td>NaN</td>\n",
       "    </tr>\n",
       "    <tr>\n",
       "      <th>81738</th>\n",
       "      <td>9971909</td>\n",
       "      <td>/m/02pygw1</td>\n",
       "      <td>Another Nice Mess</td>\n",
       "      <td>NaN</td>\n",
       "      <td>66.0</td>\n",
       "      <td>{\"/m/02h40lc\": \"English Language\"}</td>\n",
       "      <td>{\"/m/09c7w0\": \"United States of America\"}</td>\n",
       "      <td>{\"/m/06nbt\": \"Satire\", \"/m/01z4y\": \"Comedy\"}</td>\n",
       "      <td>1972.0</td>\n",
       "      <td>NaN</td>\n",
       "    </tr>\n",
       "    <tr>\n",
       "      <th>81739</th>\n",
       "      <td>913762</td>\n",
       "      <td>/m/03pcrp</td>\n",
       "      <td>The Super Dimension Fortress Macross II: Lover...</td>\n",
       "      <td>NaN</td>\n",
       "      <td>150.0</td>\n",
       "      <td>{\"/m/03_9r\": \"Japanese Language\"}</td>\n",
       "      <td>{\"/m/03_3d\": \"Japan\"}</td>\n",
       "      <td>{\"/m/06n90\": \"Science Fiction\", \"/m/0gw5n2f\": ...</td>\n",
       "      <td>1992.0</td>\n",
       "      <td>NaN</td>\n",
       "    </tr>\n",
       "    <tr>\n",
       "      <th>81740</th>\n",
       "      <td>12476867</td>\n",
       "      <td>/m/02w7zz8</td>\n",
       "      <td>Spliced</td>\n",
       "      <td>NaN</td>\n",
       "      <td>86.0</td>\n",
       "      <td>{\"/m/02h40lc\": \"English Language\"}</td>\n",
       "      <td>{\"/m/0d060g\": \"Canada\"}</td>\n",
       "      <td>{\"/m/01jfsb\": \"Thriller\", \"/m/03npn\": \"Horror\"...</td>\n",
       "      <td>2002</td>\n",
       "      <td>NaN</td>\n",
       "    </tr>\n",
       "  </tbody>\n",
       "</table>\n",
       "<p>81741 rows × 10 columns</p>\n",
       "</div>"
      ],
      "text/plain": [
       "       Wikipedia_ID Freebase_ID  \\\n",
       "0            975900   /m/03vyhn   \n",
       "1           3196793   /m/08yl5d   \n",
       "2          28463795  /m/0crgdbh   \n",
       "3           9363483  /m/0285_cd   \n",
       "4            261236   /m/01mrr1   \n",
       "...             ...         ...   \n",
       "81736      35228177  /m/0j7hxnt   \n",
       "81737      34980460  /m/0g4pl34   \n",
       "81738       9971909  /m/02pygw1   \n",
       "81739        913762   /m/03pcrp   \n",
       "81740      12476867  /m/02w7zz8   \n",
       "\n",
       "                                                    name     revenue  runtime  \\\n",
       "0                                         Ghosts of Mars  14010832.0     98.0   \n",
       "1      Getting Away with Murder: The JonBenét Ramsey ...         NaN     95.0   \n",
       "2                                            Brun bitter         NaN     83.0   \n",
       "3                                       White Of The Eye         NaN    110.0   \n",
       "4                                      A Woman in Flames         NaN    106.0   \n",
       "...                                                  ...         ...      ...   \n",
       "81736                           Mermaids: The Body Found         NaN    120.0   \n",
       "81737                                            Knuckle         NaN     96.0   \n",
       "81738                                  Another Nice Mess         NaN     66.0   \n",
       "81739  The Super Dimension Fortress Macross II: Lover...         NaN    150.0   \n",
       "81740                                            Spliced         NaN     86.0   \n",
       "\n",
       "                                languages  \\\n",
       "0      {\"/m/02h40lc\": \"English Language\"}   \n",
       "1      {\"/m/02h40lc\": \"English Language\"}   \n",
       "2      {\"/m/05f_3\": \"Norwegian Language\"}   \n",
       "3      {\"/m/02h40lc\": \"English Language\"}   \n",
       "4       {\"/m/04306rv\": \"German Language\"}   \n",
       "...                                   ...   \n",
       "81736  {\"/m/02h40lc\": \"English Language\"}   \n",
       "81737  {\"/m/02h40lc\": \"English Language\"}   \n",
       "81738  {\"/m/02h40lc\": \"English Language\"}   \n",
       "81739   {\"/m/03_9r\": \"Japanese Language\"}   \n",
       "81740  {\"/m/02h40lc\": \"English Language\"}   \n",
       "\n",
       "                                               countries  \\\n",
       "0              {\"/m/09c7w0\": \"United States of America\"}   \n",
       "1              {\"/m/09c7w0\": \"United States of America\"}   \n",
       "2                                 {\"/m/05b4w\": \"Norway\"}   \n",
       "3                         {\"/m/07ssc\": \"United Kingdom\"}   \n",
       "4                                {\"/m/0345h\": \"Germany\"}   \n",
       "...                                                  ...   \n",
       "81736          {\"/m/09c7w0\": \"United States of America\"}   \n",
       "81737  {\"/m/03rt9\": \"Ireland\", \"/m/07ssc\": \"United Ki...   \n",
       "81738          {\"/m/09c7w0\": \"United States of America\"}   \n",
       "81739                              {\"/m/03_3d\": \"Japan\"}   \n",
       "81740                            {\"/m/0d060g\": \"Canada\"}   \n",
       "\n",
       "                                                  genres release_year  \\\n",
       "0      {\"/m/01jfsb\": \"Thriller\", \"/m/06n90\": \"Science...       2001.0   \n",
       "1      {\"/m/02n4kr\": \"Mystery\", \"/m/03bxz7\": \"Biograp...       2000.0   \n",
       "2      {\"/m/0lsxr\": \"Crime Fiction\", \"/m/07s9rl0\": \"D...         1988   \n",
       "3      {\"/m/01jfsb\": \"Thriller\", \"/m/0glj9q\": \"Erotic...         1987   \n",
       "4                                {\"/m/07s9rl0\": \"Drama\"}         1983   \n",
       "...                                                  ...          ...   \n",
       "81736                            {\"/m/07s9rl0\": \"Drama\"}       2011.0   \n",
       "81737  {\"/m/03bxz7\": \"Biographical film\", \"/m/07s9rl0...       2011.0   \n",
       "81738       {\"/m/06nbt\": \"Satire\", \"/m/01z4y\": \"Comedy\"}       1972.0   \n",
       "81739  {\"/m/06n90\": \"Science Fiction\", \"/m/0gw5n2f\": ...       1992.0   \n",
       "81740  {\"/m/01jfsb\": \"Thriller\", \"/m/03npn\": \"Horror\"...         2002   \n",
       "\n",
       "                                                 summary  \n",
       "0      Shlykov, a hard-working taxi driver and Lyosha...  \n",
       "1      The nation of Panem consists of a wealthy Capi...  \n",
       "2      Poovalli Induchoodan  is sentenced for six yea...  \n",
       "3      The Lemon Drop Kid , a New York City swindler,...  \n",
       "4      Seventh-day Adventist Church pastor Michael Ch...  \n",
       "...                                                  ...  \n",
       "81736                                                NaN  \n",
       "81737                                                NaN  \n",
       "81738                                                NaN  \n",
       "81739                                                NaN  \n",
       "81740                                                NaN  \n",
       "\n",
       "[81741 rows x 10 columns]"
      ]
     },
     "metadata": {},
     "output_type": "display_data"
    }
   ],
   "source": [
    "display(df)"
   ]
  },
  {
   "cell_type": "code",
   "execution_count": 13,
   "metadata": {},
   "outputs": [
    {
     "name": "stdout",
     "output_type": "stream",
     "text": [
      "Film 1: Main characters' nationalities - Cornucopia, Thresh, Cornucopia\n",
      "Film 2: Main characters' nationalities - Induchoodan, Induchoodan, Saikumar, Ramakrishnan, Induchoodan, Induchoodan, Bharathapuzha, Induchoodan, Kerala, Induchoodan, Menon, Induchoodan, Induchoodan, Induchoodan, Menon, Induchoodan, Menon, Menon, Induchoodan, Menon, Induchoodan, Induchoodan, Menon, Menon, Induchoodan, Induchoodan, Induchoodan\n",
      "Film 3: Main characters' nationalities - New York City, Florida, New York, New York, Manhattan, Brainy, Nyack\n",
      "Film 4: Main characters' nationalities - Azaria, Lindy, Lindy, Uluru\n",
      "Film 5: Main characters' nationalities - Baldwin\n",
      "Film 6: Main characters' nationalities - Dahlia, Dahlia, Cecilia, Cecilia, Jersey City, Dahlia, Roosevelt Island, Dahlia, Dahlia, Cecilia, Roosevelt Island, Cecilia, Cecilia, Veeck, Cecilia, Cecilia, Dahlia, Cecilia, Dahlia, Veeck, Cecilia, Dahlia, Cecilia, Dahlia, Cecilia, Veeck, Dahlia, Cecilia, Veeck, Cecilia, Dahlia, Dahlia, Veeck, Veeck, Dahlia, Cecilia, Dahlia, Dahlia, Cecilia, Cecilia, Natasha, Cecilia, Dahlia, Cecilia, Cecilia, Jersey City\n",
      "Film 7: Main characters' nationalities - Jewish, Brooklyn, Dominic, Dominic\n",
      "Film 8: Main characters' nationalities - Millsville\n",
      "Film 9: No nationality information found\n"
     ]
    }
   ],
   "source": [
    "import spacy\n",
    "\n",
    "# Load the spaCy English model\n",
    "nlp = spacy.load(\"en_core_web_sm\")\n",
    "\n",
    "# Sample film summaries (replace with your dataset)\n",
    "sum = pd.read_csv(\"data\\MovieSummaries\\plot_summaries.txt\", sep='\\t', header=None, names=['Wikipedia_ID', 'Summary'])\n",
    "\n",
    "# Function to identify the nationality of main characters\n",
    "def identify_nationality(summary):\n",
    "    # Process the text with spaCy\n",
    "    doc = nlp(summary)\n",
    "    \n",
    "    # Extract entities and their labels\n",
    "    entities = [(ent.text, ent.label_) for ent in doc.ents]\n",
    "    \n",
    "    # Filter entities with labels related to nationality\n",
    "    nationality_entities = [entity[0] for entity in entities if entity[1] in ['NORP', 'GPE']]\n",
    "    \n",
    "    return nationality_entities\n",
    "\n",
    "# Identify nationality for each film summary\n",
    "nationalities_per_summary = [identify_nationality(summary) for summary in sum[\"Summary\"][1:10]]\n",
    "\n",
    "\n",
    "\n",
    "# Print the results\n",
    "for i, nationalities in enumerate(nationalities_per_summary, start=1):\n",
    "    if nationalities:\n",
    "        print(f\"Film {i}: Main characters' nationalities - {', '.join(nationalities)}\")\n",
    "    else:\n",
    "        print(f\"Film {i}: No nationality information found\")"
   ]
  },
  {
   "cell_type": "code",
   "execution_count": 6,
   "metadata": {},
   "outputs": [],
   "source": [
    "#df['Nationalities'] = df['Summary'].apply(identify_nationality)"
   ]
  },
  {
   "cell_type": "code",
   "execution_count": 7,
   "metadata": {},
   "outputs": [
    {
     "ename": "KeyError",
     "evalue": "'Nationalities'",
     "output_type": "error",
     "traceback": [
      "\u001b[1;31m---------------------------------------------------------------------------\u001b[0m",
      "\u001b[1;31mKeyError\u001b[0m                                  Traceback (most recent call last)",
      "File \u001b[1;32mc:\\Users\\rchiu\\anaconda3\\Lib\\site-packages\\pandas\\core\\indexes\\base.py:3653\u001b[0m, in \u001b[0;36mIndex.get_loc\u001b[1;34m(self, key)\u001b[0m\n\u001b[0;32m   3652\u001b[0m \u001b[39mtry\u001b[39;00m:\n\u001b[1;32m-> 3653\u001b[0m     \u001b[39mreturn\u001b[39;00m \u001b[39mself\u001b[39m\u001b[39m.\u001b[39m_engine\u001b[39m.\u001b[39mget_loc(casted_key)\n\u001b[0;32m   3654\u001b[0m \u001b[39mexcept\u001b[39;00m \u001b[39mKeyError\u001b[39;00m \u001b[39mas\u001b[39;00m err:\n",
      "File \u001b[1;32mc:\\Users\\rchiu\\anaconda3\\Lib\\site-packages\\pandas\\_libs\\index.pyx:147\u001b[0m, in \u001b[0;36mpandas._libs.index.IndexEngine.get_loc\u001b[1;34m()\u001b[0m\n",
      "File \u001b[1;32mc:\\Users\\rchiu\\anaconda3\\Lib\\site-packages\\pandas\\_libs\\index.pyx:176\u001b[0m, in \u001b[0;36mpandas._libs.index.IndexEngine.get_loc\u001b[1;34m()\u001b[0m\n",
      "File \u001b[1;32mpandas\\_libs\\hashtable_class_helper.pxi:7080\u001b[0m, in \u001b[0;36mpandas._libs.hashtable.PyObjectHashTable.get_item\u001b[1;34m()\u001b[0m\n",
      "File \u001b[1;32mpandas\\_libs\\hashtable_class_helper.pxi:7088\u001b[0m, in \u001b[0;36mpandas._libs.hashtable.PyObjectHashTable.get_item\u001b[1;34m()\u001b[0m\n",
      "\u001b[1;31mKeyError\u001b[0m: 'Nationalities'",
      "\nThe above exception was the direct cause of the following exception:\n",
      "\u001b[1;31mKeyError\u001b[0m                                  Traceback (most recent call last)",
      "\u001b[1;32mc:\\Users\\rchiu\\Project ADA\\ada-2023-project-padawans\\Q3.ipynb Cell 7\u001b[0m line \u001b[0;36m2\n\u001b[0;32m      <a href='vscode-notebook-cell:/c%3A/Users/rchiu/Project%20ADA/ada-2023-project-padawans/Q3.ipynb#X10sZmlsZQ%3D%3D?line=0'>1</a>\u001b[0m \u001b[39m# Create a new DataFrame with 'release_year' and 'Nationality' columns\u001b[39;00m\n\u001b[1;32m----> <a href='vscode-notebook-cell:/c%3A/Users/rchiu/Project%20ADA/ada-2023-project-padawans/Q3.ipynb#X10sZmlsZQ%3D%3D?line=1'>2</a>\u001b[0m df_nationalities \u001b[39m=\u001b[39m df\u001b[39m.\u001b[39mexplode(\u001b[39m'\u001b[39m\u001b[39mNationalities\u001b[39m\u001b[39m'\u001b[39m)[[\u001b[39m'\u001b[39m\u001b[39mrelease_year\u001b[39m\u001b[39m'\u001b[39m, \u001b[39m'\u001b[39m\u001b[39mNationalities\u001b[39m\u001b[39m'\u001b[39m]]\n\u001b[0;32m      <a href='vscode-notebook-cell:/c%3A/Users/rchiu/Project%20ADA/ada-2023-project-padawans/Q3.ipynb#X10sZmlsZQ%3D%3D?line=3'>4</a>\u001b[0m \u001b[39m# Count occurrences of each nationality by year\u001b[39;00m\n\u001b[0;32m      <a href='vscode-notebook-cell:/c%3A/Users/rchiu/Project%20ADA/ada-2023-project-padawans/Q3.ipynb#X10sZmlsZQ%3D%3D?line=4'>5</a>\u001b[0m nationality_counts \u001b[39m=\u001b[39m df_nationalities\u001b[39m.\u001b[39mgroupby([\u001b[39m'\u001b[39m\u001b[39mrelease_year\u001b[39m\u001b[39m'\u001b[39m, \u001b[39m'\u001b[39m\u001b[39mNationalities\u001b[39m\u001b[39m'\u001b[39m])\u001b[39m.\u001b[39msize()\u001b[39m.\u001b[39mreset_index(name\u001b[39m=\u001b[39m\u001b[39m'\u001b[39m\u001b[39mCount\u001b[39m\u001b[39m'\u001b[39m)\n",
      "File \u001b[1;32mc:\\Users\\rchiu\\anaconda3\\Lib\\site-packages\\pandas\\core\\frame.py:8881\u001b[0m, in \u001b[0;36mDataFrame.explode\u001b[1;34m(self, column, ignore_index)\u001b[0m\n\u001b[0;32m   8879\u001b[0m df \u001b[39m=\u001b[39m \u001b[39mself\u001b[39m\u001b[39m.\u001b[39mreset_index(drop\u001b[39m=\u001b[39m\u001b[39mTrue\u001b[39;00m)\n\u001b[0;32m   8880\u001b[0m \u001b[39mif\u001b[39;00m \u001b[39mlen\u001b[39m(columns) \u001b[39m==\u001b[39m \u001b[39m1\u001b[39m:\n\u001b[1;32m-> 8881\u001b[0m     result \u001b[39m=\u001b[39m df[columns[\u001b[39m0\u001b[39m]]\u001b[39m.\u001b[39mexplode()\n\u001b[0;32m   8882\u001b[0m \u001b[39melse\u001b[39;00m:\n\u001b[0;32m   8883\u001b[0m     mylen \u001b[39m=\u001b[39m \u001b[39mlambda\u001b[39;00m x: \u001b[39mlen\u001b[39m(x) \u001b[39mif\u001b[39;00m (is_list_like(x) \u001b[39mand\u001b[39;00m \u001b[39mlen\u001b[39m(x) \u001b[39m>\u001b[39m \u001b[39m0\u001b[39m) \u001b[39melse\u001b[39;00m \u001b[39m1\u001b[39m\n",
      "File \u001b[1;32mc:\\Users\\rchiu\\anaconda3\\Lib\\site-packages\\pandas\\core\\frame.py:3761\u001b[0m, in \u001b[0;36mDataFrame.__getitem__\u001b[1;34m(self, key)\u001b[0m\n\u001b[0;32m   3759\u001b[0m \u001b[39mif\u001b[39;00m \u001b[39mself\u001b[39m\u001b[39m.\u001b[39mcolumns\u001b[39m.\u001b[39mnlevels \u001b[39m>\u001b[39m \u001b[39m1\u001b[39m:\n\u001b[0;32m   3760\u001b[0m     \u001b[39mreturn\u001b[39;00m \u001b[39mself\u001b[39m\u001b[39m.\u001b[39m_getitem_multilevel(key)\n\u001b[1;32m-> 3761\u001b[0m indexer \u001b[39m=\u001b[39m \u001b[39mself\u001b[39m\u001b[39m.\u001b[39mcolumns\u001b[39m.\u001b[39mget_loc(key)\n\u001b[0;32m   3762\u001b[0m \u001b[39mif\u001b[39;00m is_integer(indexer):\n\u001b[0;32m   3763\u001b[0m     indexer \u001b[39m=\u001b[39m [indexer]\n",
      "File \u001b[1;32mc:\\Users\\rchiu\\anaconda3\\Lib\\site-packages\\pandas\\core\\indexes\\base.py:3655\u001b[0m, in \u001b[0;36mIndex.get_loc\u001b[1;34m(self, key)\u001b[0m\n\u001b[0;32m   3653\u001b[0m     \u001b[39mreturn\u001b[39;00m \u001b[39mself\u001b[39m\u001b[39m.\u001b[39m_engine\u001b[39m.\u001b[39mget_loc(casted_key)\n\u001b[0;32m   3654\u001b[0m \u001b[39mexcept\u001b[39;00m \u001b[39mKeyError\u001b[39;00m \u001b[39mas\u001b[39;00m err:\n\u001b[1;32m-> 3655\u001b[0m     \u001b[39mraise\u001b[39;00m \u001b[39mKeyError\u001b[39;00m(key) \u001b[39mfrom\u001b[39;00m \u001b[39merr\u001b[39;00m\n\u001b[0;32m   3656\u001b[0m \u001b[39mexcept\u001b[39;00m \u001b[39mTypeError\u001b[39;00m:\n\u001b[0;32m   3657\u001b[0m     \u001b[39m# If we have a listlike key, _check_indexing_error will raise\u001b[39;00m\n\u001b[0;32m   3658\u001b[0m     \u001b[39m#  InvalidIndexError. Otherwise we fall through and re-raise\u001b[39;00m\n\u001b[0;32m   3659\u001b[0m     \u001b[39m#  the TypeError.\u001b[39;00m\n\u001b[0;32m   3660\u001b[0m     \u001b[39mself\u001b[39m\u001b[39m.\u001b[39m_check_indexing_error(key)\n",
      "\u001b[1;31mKeyError\u001b[0m: 'Nationalities'"
     ]
    }
   ],
   "source": [
    "# Create a new DataFrame with 'release_year' and 'Nationality' columns\n",
    "df_nationalities = df.explode('Nationalities')[['release_year', 'Nationalities']]\n",
    "\n",
    "# Count occurrences of each nationality by year\n",
    "nationality_counts = df_nationalities.groupby(['release_year', 'Nationalities']).size().reset_index(name='Count')\n",
    "\n",
    "# Pivot the table for better plotting\n",
    "pivot_table = nationality_counts.pivot(index='release_year', columns='Nationalities', values='Count').fillna(0)\n",
    "\n",
    "# Plot the data\n",
    "pivot_table.plot(kind='bar', stacked=True)\n",
    "plt.title('Evolution of Nationalities Representation Over Time')\n",
    "plt.xlabel('Year')\n",
    "plt.ylabel('Count')\n",
    "plt.legend(title='Nationality')\n",
    "plt.show()"
   ]
  },
  {
   "cell_type": "code",
   "execution_count": 18,
   "metadata": {},
   "outputs": [
    {
     "data": {
      "text/plain": [
       "\"Shlykov, a hard-working taxi driver and Lyosha, a saxophonist, develop a bizarre love-hate relationship, and despite their prejudices, realize they aren't so different after all.\""
      ]
     },
     "execution_count": 18,
     "metadata": {},
     "output_type": "execute_result"
    }
   ],
   "source": [
    "df.summary[0]"
   ]
  },
  {
   "cell_type": "code",
   "execution_count": 46,
   "metadata": {},
   "outputs": [],
   "source": [
    "def is_token_allowed(token):\n",
    "    return bool(\n",
    "        token\n",
    "        and str(token).strip()\n",
    "        and (token.pos_ ==  \"ADJ\" or token.pos_ ==  \"PROPN\")\n",
    "        and not token.is_stop\n",
    "        and not token.is_punct\n",
    "    )\n",
    "def preprocess_token(token):\n",
    "    return token.lemma_.strip().lower()\n",
    "def preprocess(summary):\n",
    "    # Process the text with spaCy\n",
    "    doc = nlp(summary)\n",
    "    return [preprocess_token(token) for token in doc if is_token_allowed(token)]\n",
    "    \n"
   ]
  },
  {
   "cell_type": "code",
   "execution_count": 47,
   "metadata": {},
   "outputs": [
    {
     "name": "stdout",
     "output_type": "stream",
     "text": [
      "[['shlykov', 'lyosha', 'bizarre', 'different'], ['panem', 'wealthy', 'capitol', 'poor', 'past', 'annual', 'hunger', 'games', 'sole', 'reaping', 'old', 'primrose', 'everdeen', 'district', 'old', 'katniss', 'peeta', 'mellark', 'katniss', 'district', 'katniss', 'peeta', 'capitol', 'drunk', 'haymitch', 'abernathy', 'special', 'caesar', 'flickerman', 'peeta', 'katniss', 'outraged', 'games', 'peeta', 'games', 'katniss', 'haymitch', 'cornucopia', 'uneasy', 'katniss', 'nearby', 'poisonous', 'jacker', 'katniss', 'glimmer', 'tracker', 'jacker', 'venom', 'katniss', 'peeta', 'katniss', 'katniss', 'furious', 'cato', 'katniss', 'rue', 'rue', 'marvel', 'district', 'katniss', 'rue', 'katniss', 'dead', 'rue', 'rue', 'rue', 'district', 'president', 'snow', 'seneca', 'crane', 'gamemaker', 'games', 'katniss', 'peeta', 'haymitch', 'able', 'crane', 'katniss', 'infected', 'katniss', 'asleep', 'clove', 'thresh', 'district', 'clove', 'tormenting', 'katniss', 'rue', 'katniss', 'rue', 'peeta', 'foxface', 'district', 'peeta', 'poisonous', 'like', 'thresh', 'katniss', 'peeta', 'cornucopia', 'cato', 'katniss', 'cato', 'katniss', 'cato', 'peeta', 'katniss', 'victorious', 'katniss', '74th', 'hunger', 'games', 'haymitch', 'katniss', 'powerful', 'district', 'crane', 'president', 'snow'], ['poovalli', 'induchoodan', 'induchoodan', 'justice', 'maranchery', 'karunakara', 'menon', 'manapally', 'madhavan', 'nambiar', 'dysp', 'sankaranarayanan', 'menon', 'induchoodan', 'indian', 'civil', 'service', 'manapally', 'sudheeran', 'saikumar', 'civil', 'ramakrishnan', 'moopil', 'nair', 'madhavan', 'nambiar', 'dead', 'induchoodan', 'gross', 'promising', 'induchoodan', 'pavithran', 'funeral', 'nambiar', 'bharathapuzha', 'induchoodan', 'manapally', 'induchoodan', 'anuradha', 'aishwarya', 'strong', 'willed', 'independent', 'minded', 'mooppil', 'nair', 'justice', 'menon', 'kerala', 'induchoodan', 'indulekha', 'kanaka', 'justice', 'menon', 'menon', 'manapally', 'pavithran', 'open', 'induchoodan', 'chandrabhanu', 'eld', 'induchoodan', 'indulekha', 'good', 'jayakrishnan', 'induchoodan', 'indulekha', 'menon', 'induchoodan', 'poovally', 'indulekha', 'dead', 'menon', 'pavithran', 'indulekha', 'raman', 'nair', 'menon', 'nandagopal', 'maarar', 'close', 'induchoodan', 'famous', 'supreme', 'court', 'menon', 'bare', 'hidden', 'menon', 'innocent', 'pavithran', 'indulekha', 'induchoodan', 'induchoodan', 'menon', 'menon', 'manapally', 'pavithran', 'induchoodan', 'induchoodan', 'ritual', 'pavithran', 'peaceful', 'induchoodan', 'anuradha'], ['lemon', 'drop', 'kid', 'new', 'york', 'city', 'florida', 'successful', 'kid', 'beautiful', 'gullible', 'kid', 'prefabricated', 'kid', 'notorious', 'moose', 'moran', 'kid', 'dead', 'furious', 'moran', 'kid', 'christmas', 'eve', 'kid', 'new', 'year', 'kid', 'new', 'york', 'brainy', 'baxter', 'long', 'kid', 'local', 'oxford', 'charley', 'past', 'charley', 'kid', 'charley', 'kid', 'cornerside', 'santa', 'claus', 'kid', 'santa', 'previous', 'underhanded', 'kid', 'kid', 'wrong', 'short', 'brainy', 'santa', 'legitimate', 'key', 'nellie', 'thursday', 'kindly', 'criminal', 'small', 'new', 'york', 'brainy', 'surprised', 'kid', 'apparent', 'kid', 'nellie', 'thursday', 'home', 'old', 'dolls', 'small', 'elderly', 'makeshift', 'kid', 'able', 'important', 'free', 'kid', 'santa', 'claus', 'manhattan', 'unaware', 'kid', 'moran', 'huge', 'overjoyed', 'brainy', 'christmas', 'oxford', 'charley', 'brainy', 'potential', 'charley', 'nellie', 'thursday', 'nellie', 'thursday', 'charley', 'charley', 'nyack', 'kid', 'late', 'deserted', 'oversized', 'oxford', 'kid', 'charley', 'charley', 'true', 'kid', 'moose', 'moran', 'kid', 'angry', 'kid', 'brainy', 'kid', 'surprised', 'nellie', 'charley', 'charley', 'elderly', 'charley', 'secure', 'kid', 'charley', 'brief', 'kid', 'charley', 'charley', 'brainy', 'kid', 'original', 'nellie', 'thursday', 'moose', 'moran', 'moran', 'charley', 'charley', 'kid', 'little', 'moran', 'kid', 'hidden', 'old', 'kid', 'loyal', 'moran', 'charley', 'kid', 'kid', 'necessary', 'main', 'nellie', 'henry', 'free'], ['seventh', 'adventist', 'church', 'michael', 'chamberlain', 'lindy', 'old', 'azaria', 'outback', 'fellow', 'lindy', 'azaria', 'certain', 'lindy', 'subsequent', 'true', 'public', 'chamberlains', 'lindy', 'stoic', 'cold', 'hearted', 'azaria', 'quick', 'bizarre', 'religious', 'new', 'circumstantial', 'small', 'wooden', 'michael', 'un', 'lindy', 'pregnant', 'guilty', 'michael', 'october', 'lindy', 'guilty', 'hard', 'michael', 'guilty', 'english', 'uluru', 'small', 'lindy', 'azaria', 'chamberlains'], ['secret', 'main', 'alex', 'thomas', 'alex', 'secret', 'kate', 'crawford', 'investigative', 'alex', 'thomas', 'thomas', 'kate', 'thomas', 'able', 'jack', 'baldwin', 'agent', 'thomas', 'secret', 'service', 'jack', 'baldwin', 'baldwin', 'thomas', 'thomas', 'crawford', 'suspicious', 'vaughan', 'stevens', 'agent', 'thomas', 'previous', 'baldwin', 'thomas', 'stevens', 'thomas', 'stevens', 'kate', 'thomas', 'stevens', 'dead', 'thomas', 'baldwin', 'kate', 'baldwin', 'thomas', 'baldwin', 'thomas', 'steven', 'thomas', 'president', 'unfaithful', 'kate', 'thomas', 'thomas', 'president', 'dead'], ['young', 'dahlia', 'dahlia', 'bitter', 'kyle', 'cecilia', 'kyle', 'cecilia', 'jersey', 'city', 'dahlia', 'roosevelt', 'island', 'good', 'kyle', 'great', 'dahlia', 'unstable', 'dahlia', 'cecilia', 'roosevelt', 'island', 'cecilia', 'new', 'mr.', 'veeck', 'mr.', 'murray', 'cecilia', 'hello', 'kitty', 'large', 'veeck', 'murray', 'cecilia', 'cecilia', 'dahlia', 'dark', 'rimsky', 'dahlia', 'dark', 'cecilia', 'dahlia', 'veeck', 'murray', 'little', 'dahlia', 'little', 'cecilia', 'dahlia', '10f.', 'cecilia', 'new', 'imaginary', 'natasha', 'dahlia', 'cecilia', 'natasha', 'veeck', 'dahlia', 'hello', 'kitty', 'cecilia', 'natasha', 'rimsky', 'veeck', 'cecilia', 'natasha', 'dark', 'dahlia', 'kyle', 'strange', 'natasha', 'natasha', 'veeck', 'open', 'aware', 'veeck', 'murray', 'dahlia', 'kyle', 'easy', 'dahlia', 'cecilia', 'hooded', 'dahlia', 'natasha', 'natasha', 'dahlia', 'dahlia', 'cecilia', 'natasha', 'cecilia', 'natasha', 'natasha', 'cecilia', 'dahlia', 'natasha', 'kyle', 'cecilia', 'cecilia', 'weird', 'jersey', 'city'], ['hannah', 'young', 'jewish', 'senior', 'high', 'small', 'brooklyn', 'sing', 'alive', 'miss', 'lombardo', 'sing', 'leader', 'cold', 'christmas', 'miss', 'lombardo', 'young', 'miss', 'lombardo', 'uninterested', 'misbehaved', 'dominic', 'sing', 'leader', 'miss', 'lombardo', 'dominic', 'co', 'sing', 'senior', 'hannah', 'sing', 'hannah', 'dominic', 'hannah', 'traditional', 'sing', 'dominic', 'dominic', 'hannah', 'miss', 'lombardo', 'hannah', 'dominic', 'local', 'hesitant', 'hannah', 'hannah', 'dominic', 'mickey', 'jealous', 'hannah', 'dominic', 'different', 'dominic', 'hannah', 'romantic', 'dept', 'education', 'sing', 'dominic', 'hannah', 'din', 'sole', 'upcoming', 'dominic', 'hannah', 'hannah', 'dominic', 'hannah', 'recent', 'dominic', 'co', 'sing', 'great', 'main', 'unconscious', 'dominic', 'bad', 'hannah', 'successful'], ['final', 'ann', 'mitchell', 'fictional', 'unemployed', 'john', 'doe', 'christmas', 'eve', 'mitchell', 'fictional', 'john', 'doe', 'fake', 'equal', 'original', 'mitchell', 'henry', 'connell', 'john', 'willoughby', 'injured', 'john', 'doe', 'mitchell', 'doe', 'willoughby', 'new', 'plush', 'extended', 'willoughby', 'mitchell', 'd.b.', 'norton', 'edward', 'arnold', 'willoughby', 'mitchell', 'colonel', 'harmonica', 'ocarina', 'millsville', 'john', 'doe', 'city', 'hall', 'hanson', 'local', 'john', 'doe', 'john', 'doe', 'broad', 'grassroots', 'simple', 'well', 'altruistic', 'norton', 'doe', 'national', 'political', 'norton', 'mitchell', 'willoughby', 'new', 'political', 'norton', 'presidential', 'willoughby', 'john', 'doe', 'nationwide', 'prepared', 'norton', 'frustrated', 'willoughby', 'city', 'hall', 'christmas', 'eve', 'original', 'john', 'doe', 'mitchell', 'john', 'doe', 'jesus', 'christ', 'historical', 'john', 'doe', 'connell', 'norton', 'norton'], ['buzz', 'buzzard', 'short', 'gags', 'buzz', 'woody', 'usual', 'buzz', 'woody', 'invisible', 'invisible', 'buzz', 'woody', 'gruesome', 'woody'], ['lola', 'hispanic', 'bo', 'texas', 'lola', 'new', 'mexico', 'lola', 'caucasian', 'lola', 'good', 'nina', 'bo', 'bo', 'nikki', 'clumsy', 'dotty', 'bo', 'lola', 'victor', 'bo', 'antique', 'mean', 'lola', 'marco', 'secret', 'simona', 'lola', 'lola', 'lola', 'bo', 'simona', 'bo', 'lola', 'nikki', 'nikki', 'victor', 'bo', 'lola', 'bo', 'lola', 'able', 'lola', 'lola', 'nikki', 'bo', 'simona', 'marco', 'nikki', 'clumsy', 'dotty', 'nikki', 'bo', 'bo', 'able', 'lola', 'angry', 'previous', 'lola', 'bo', 'bo', 'simona', 'marco', 'selfish', 'greedy', 'bo', 'lola', 'happy'], ['milan', 'goran', 'illegal', 'milan', 'goran', 'lubos', 'eman', 'responsible', 'illegal', 'eman', 'miluska', 'frantisek', 'barren', 'inoperable', 'complicated'], ['onetime', 'goon', 'spike', 'milligan'], ['exodus', 'israel', 'nurse', 'katherine', 'kitty', 'fremont', 'american', 'karaolos', 'cyprus', 'jews', 'holocaust', 'british', 'palestine', 'ari', 'ben', 'canaan', 'hagannah', 'jewish', 'brigade', 'british', 'army', 'second', 'world', 'war', 'jewish', 'illegal', 'mandate', 'palestine', 'military', 'british', 'famagusta', 'ari', 'british', 'exodus', 'safe', 'kitty', 'fond', 'karen', 'hansen', 'young', 'danish', 'jewish', 'zionist', 'kitty', 'young', 'karen', 'america', 'new', 'palestine', 'arab', 'jewish', 'karen', 'young', 'dov', 'landau', 'irgun', 'radical', 'zionist', 'underground', 'dov', 'irgun', 'irgun', 'ari', 'ben', 'canaan', 'akiva', 'dov', 'akiva', 'sonderkommando', 'auschwitz', 'nazis', 'akiva', 'ari', 'barak', 'mainstream', 'jewish', 'agency', 'jewish', 'political', 'diplomatic', 'irgun', 'british', 'akiva', 'dov', 'king', 'david', 'hotel', 'akiva', 'karen', 'ill', 'jerusalem', 'karen', 'gan', 'dafna', 'fictional', 'jewish', 'mount', 'tabor', 'ari', 'actual', 'dafna', 'present', 'lebanese', 'kitty', 'ari', 'uncle', 'akiva', 'ari', 'dov', 'landau', 'acre', 'akiva', 'historical', 'acre', 'prison', 'akiva', 'british', 'ari', 'abu', 'yesha', 'arab', 'gan', 'dafna', 'lifelong', 'taha', 'kitty', 'independent', 'israel', 'plain', 'arab', 'mohammad', 'amin', 'al', 'husayni', 'grand', 'mufti', 'jerusalem', 'gan', 'dafna', 'ari', 'taha', 'young', 'karen', 'ecstatic', 'new', 'dov', 'dov', 'karen', 'gan', 'dafna', 'arab', 'dov', 'lifeless', 'following', 'taha', 'arab', 'star', 'david', 'karen', 'taha', 'jewish', 'ari', 'jews', 'arabs', 'ari', 'kitty', 'palmach'], ['sudden', 'kid', 'pop', 'local', 'kid', 'foreplay', 'shelia', 'landreaux', 'rick', 'kid', 'n', 'shelia', 'willing', 'kid', \"n'play\", 'kid', 'sydney', 'new', 'kid', 'jamal', 'white', 'sydney', 'zora', 'strong', 'minded', 'female', 'strong', 'political', 'beautiful', 'old', 'salena', 'bilal', 'salena', 'sydney', 'feminist', 'kid', 'sydney', 'kid', 'miles', 'dean', 'safe', 'kid', 'dean', 'kramer', 'kid', 'id', 'kid', 'main', 'small', 'kid', 'miles', 'shelia', 'landreaux', 'rick', 'kid', 'shelia', 'kid', 'bilal', 'kid', 'clean', 'kid', 'shelia', 'bilal', 'records', 'shelia', 'landreaux', 'stab', 'zilla', 'pee', 'wee', 'shelia', 'shelia', 'landreaux', 'bilal', 'kid', 'sydney', 'sydney', 'sydney', 'bad', 'professor', 'sinclair', 'id', 'stab', 'zilla', 'pee', 'wee', 'kid', 'jamal', 'play', 'new', 'salena', 'angry', 'possible', 'bilal', 'personal', 'kid', 'pajama', 'dressed', 'free', 'bilal', 'bilal', 'strange', 'kid', 'salena', 'kid', 'mr', 'lee', 'kid', 'sydney', 'close', 'miles', 'mr', 'lee', 'kid', 'dean', 'kramer', 'play', 'bilal', 'jamal', 'sydney', 'kid', 'close', 'miles', 'zora', 'rick', 'shelia', 'kid', \"n'play\", 'kid', 'miles', 'sydney', 'sydney', 'shelia', 'rick', 'shelia', 'sydney', 'miles', 'sydney', 'kid', 'hot', 'kid', 'miles', 'rick', 'kid', 'miles', 'kid', 'flat', 'huge', 'dean', 'kramer', 'stab', 'zilla', 'pee', 'wee', 'dean', 'kramer', 'miles', 'rick', 'shelia', 'kid', 'play', 'bilal', 'jamal', 'kid', 'mr', 'lee', 'reluctant', 'kid', 'kid', 'mr', 'lee', 'kid', 'mr', 'lee', 'professor', 'sinclair', 'professor', 'sinclair', 'kid', 'kid', 'kid', 'pops', 'grave', 'kid', 'upset', 'jamal', 'sydney', 'stab', 'zilla', 'pee', 'wee', 'bilal', 'old', 'foreplay', 'kid', 'kid', 'kid', 'play', 'bilal', 'kid', 'heavens', 'pop'], ['lucy', 'wild', 'sexual', 'remote', 'evil', 'lucy', 'big'], ['alan', 'colby', 'vast', 'lowells', 'colby', 'henrietta', 'lowell', 'fred', 'janice', 'gage', 'lowell', 'alan', 'colby', 'prof.', 'bowen', 'lowells', 'valuable', 'psychic', 'mr.', 'phelps', 'lowell', 'ulrich', 'longstanding', 'alan', 'colby', 'henrietta', 'lowell', 'psychic'], ['debbie', 'favorite', 'dream', 'street', 'favorite', 'chris', 'trousdale', 'chris', 'dream', 'street', 'debbie', 'biggest', 'fan', 'heaven', 'debbie', 'chris', 'little', 'chris', 'high', 'debbie', 'crazy', 'debbie', 'chris', 'high', 'jealous', 'popular', 'chris', 'true', 'chris', 'debbie', 'sweet', 'final', 'dream', 'street'], ['london', 'england', 'surreal', 'gabriel', 'darbeaux', 'young', 'martial', 'wealthy', 'gabriel', 'triad', 'nunchaku', 'gabriel', 'early', 'late', 'ashes', 'italian', 'mafia', 'chinese', 'generous', 'martial', 'gabriel', 'financial', 'good', 'michael', 'secret', 'sexual', 'gabriel', 'regular', 'exclusive', 'west', 'london', 'gabriel', 'beautiful', 'arabella', 'simone', 'similar', 'ashes', 'arabella', 'valentino', 'tarantola', 'possessive', 'italian', 'laundrymen', 'muhammed', 'nelson', 'dirty', 'valentino', 'dead', 'arabella', 'gabriel', 'laundrymen', 'michael', 'main', 'france', 'enrico', 'tarontola', 'valentino', 'sadistic', 'young', 'enrico', 'arabella', 'valentino', 'michael', 'financial', 'gabriel', 'violent', 'rival', 'triad', 'gabriel', 'triad', 'mafia', 'gabriel', 'violent', 'fictional', 'gabriel'], ['vietnamese', 'united', 'states', 'fall', 'saigon', 'vietnam', 'war', 'tai', 'tran', 'gunnery', 'sgt', 'jim', 'lance', 'young', 'vietnam', 'vietnam', 'unfamiliar', 'united', 'states', 'silent', 'solitary', 'addie', 'minh', 'tai', 'duc', 'female', 'tai', 'thuy', 'hoa', 'vietnamese', 'duc', 'vietnam', 'married', 'second'], ['australia', 'restless', 'bluey', 'donkin', 'milo', 'trent', 'english', 'peter', 'linton', 'squatter', 'kate', 'carmody', 'bluey', 'australian', '9th', 'division', 'africa', 'early', 'italian', 'tobruk', 'comic', 'peter', 'sister', 'mary', 'subsequent', 'peter', 'linton', 'germans', 'bluey', 'milo', 'new', 'guinea', 'bluey', 'milo', 'bluey', 'australia', 'kate'], ['lonely', 'rainy', 'red', 'red', 'red', 'juggling', 'huge', 'different', 'lumpy', 'red', 'red', 'lumpy', 'confused', 'second', 'red', 'lumpy', 'lumpy', 'red', 'green', 'ball', 'lumpy', 'sudden', 'red', 'uproarous', 'red', 'bleak', 'depressed', 'short', 'final', 'eben'], ['catholic', 'romantic', 'sexual', 'adolescent'], ['west', 'point', 'opposite', 'lucius', 'underground', 'battle', 'bull', 'run', 'lucius'], ['zulu', 'composite', 'africans', 'zachariah', 'available', 'johannesburg', 'well', 'bleak', 'unemployed', 'petty', 'zachariah', 'domestic', 'white', 'marumu', 'sophiatown', 'fearful', 'domestic', 'zachariah', 'vinah', 'nightly', 'dead', 'murumu', 'sexual', 'zachariah', 'overwhelming', 'social', 'african', 'successive', 'black', 'native', 'political', 'treacherous', 'unwritten', 'black', 'white', 'contradictory', 'severe', 'african', 'defenseless', 'capricious', 'white', 'black'], ['madhav', 'sreenu', 'final', 'kolkata', 'madhav', 'sreenu', 'good', 'sreenu', 'madhav', 'madhav', 'minor', 'sreenu', 'sreenu', 'madhav', 'sreenu', 'madhav', 'sreenu', 'goa', 'madhav', 'amrutha', 'amrutha', 'nri', 'madhav', 'amrutha', 'heartbroken', 'amrutha', 'madhav', 'responsible', 'madhav', 'amrutha', 'holi', 'amrutha', 'sreenu', 'sreenu', 'madhav', 'madhav', 'sreenu', 'amrutha', 'madhav', 'good', 'amrutha', 'goa', 'madhav', 'madhav', 'delhi', 'national', 'sreenu', 'madhav', 'delhi', 'mumbai', 'sreenu', 'amrutha', 'amrutha', 'madhav', 'sreenu', 'sreenu', 'amrutha', 'mumbai', 'amrutha', 'madhav', 'sreenu'], ['new', 'big', 'bhagwaan', 'slum', 'crime', 'lord', 'shambu', 'impoverished', 'honourable', 'young', 'shambu', 'dada', 'awaken', 'bhagwaan', 'bhagwaan', 'evil', 'innocent', 'young', 'bhagwaan', 'personal', 'bhagwaan', 'dada', 'safe', 'happy', 'shantinagar', 'govinda', 'dark', 'good', 'sound', 'moral', 'bhagwaan', 'naïve', 'young', 'new', 'big', 'shambu', 'dada', 'swaroop', 'impressed', 'swaroop', 'bhagwaan', 'innocent', 'simple', 'protective', 'good', 'swaroop', 'young', 'govinda', 'bhagwaan', 'shambu', 'dada', 'beautiful', 'young', 'shambu', 'bhagwaan', 'swaroop', 'gentle', 'bookish', 'shambu', 'bhagwaan', 'young', 'bijli', 'wounded', 'swaroop', 'bhagwaan', 'bijli', 'initial', 'govinda', 'bijli', 'new', 'swaroop', 'bhagwaan', 'govinda', 'swaroop', 'bijli', 'bhagwaan', 'modest', 'govinda', 'determined', 'swaroop', 'bijli', 'bhagwaan', 'swaroop', 'bijli', 'bijli', 'bhagwaan', 'undercover', 'real', 'bhagwaan', 'secret', 'bijli', 'clever', 'shambu', 'dada', 'bhagwaan', 'bijli', 'shambu', 'bhagwaan', 'bhagwaan', 'honest', 'inspector', 'vijay', 'aware', 'shambu', 'dada', 'bhagwaan', 'bhagwaan', 'inspector', 'vijay', 'bhagwaan', 'bhagwaan', 'madhu', 'shantinagar', 'savvy', 'bhagwaan', 'inspector', 'vijay', 'shambu', 'dada', 'shambu', 'bhagwaan', 'madhu', 'joyous', 'public', 'shantinagar', 'young', 'govinda', 'bijli', 'swaroop', 'bijli', 'madhu', 'bhagwaan', 'fancy', 'bijli', 'bijli', 'jealous', 'swaroop', 'possible', 'swaroop', 'ecstatic', 'unknown', 'evil', 'shambu', 'dada', 'bhagwaan', 'bhagwaan', 'shambu', 'inspector', 'vijay', 'bijli', 'bijli', 'bijli', 'bhagwaan', 'swaroop', 'bijli', 'late', 'bijli', 'local', 'bijli', 'true', 'sole', 'little', 'entire', 'bhopal', 'disaster', 'chastened', 'bhagwaan', 'swaroop', 'bijli', 'swaroop', 'real', 'geeta', 'geeta', 'little', 'geeta', 'early', 'geeta', 'bhagwaan', 'govinda', 'jubilant', 'geeta', 'little', 'successful', 'shantinagar', 'upcoming', 'madhu', 'interested', 'bhagwaan', 'shantinagar', 'big', 'govinda', 'madhu', 'bhagwaan', 'alarmed', 'govinda', 'madhu', 'bhagwaan', 'exhausted', 'terrified', 'madhu', 'govinda', 'fugitive', 'shambu', 'dada', 'shambu', 'brave', 'young', 'govinda', 'shambu', 'father', 'bhagwaan', 'little', 'govinda', 'govinda', 'shambu', 'unable', 'shambu', 'shambu', 'madhu', 'govinda', 'father', 'paralysed', 'final', 'govinda', 'short', 'bhagwaan', 'bhagwaan', 'shambu', 'madhu', 'govinda', 'geeta', 'swaroop', 'shantinagar', 'bhagwaan', 'essential', 'bhagwaan', 'bhagwaan', 'shambu', 'poor', 'govinda', 'bhagwaan', 'shambu', 'horrible', 'studded', 'shambu', 'shambu', 'hidden', 'bhagwaan', 'bhagwaan', 'red', 'swaroop', 'govinda', 'bhagwaan', 'govinda', 'geeta', 'bhagwaan', 'shantinagar'], ['stooges', 'identical', 'world', 'war', 'ii', 'unaware', 'single', 'local', 'unmarried', 'unsuspecting', 'married'], ['ranchhod', 'rai', 'patel', 'egotistical', 'arrogant', 'gujarati', 'india', 'new', 'york', 'dirty', 'successful', 'real', 'à', 'la', 'donald', 'trump', 'headed', 'roger', 'patel', 'proud', 'lovely', 'namrata', 'ritu', 'overprotective', 'roger', 'namrata', 'professional', 'patel', 'prem', 'ritu', 'patel', 'sunder', 'kapoor', 'punjabi', 'madrasi', 'patel', 'professional'], ['anita', 'favorite', 'anita', 'wealthy', 'feminist', 'sita', 'devi', 'sita', 'suspicious', 'anita', 'anita', 'sita', 'devi', 'anita', 'sham', 'sita', 'preetam', 'anita', 'preetam', 'anita', 'traditional', 'anita', 'preetam', 'traditional', 'indian', 'preetam', 'worried', 'anita', 'false', 'anita', 'preetam'], ['samson', 'hebrew', 'nazirite', 'philistine', 'semadar', 'samson', 'philistines', 'semadar', 'samson', 'hunted', 'philistines', 'saran', 'gaza', 'heavy', 'dannites', 'samson', 'saran', 'frustrated', 'dannites', 'samson', 'philistines', 'delilah', 'semadar', 'samson', 'high', 'ahtur', 'philistine', 'gaza', 'ahtur', 'samson', 'samson', 'philistines', 'ahtur', 'philistine', 'ahtur', 'samson', 'saran', 'saran', 'samson', 'delilah', 'samson', 'samson', 'dagon', 'philistines', 'saran', 'delilah', 'samson', 'deep', 'public', 'samson', 'main', 'delilah', 'unseen', 'samson', 'delilah', 'philistines', 'alive', 'saul', 'miriam', 'close', 'hebrew', 'samson'], ['russian', 'afghanistan', 'u.s.', 'greedy'], ['mary', 'lonely', 'poor', 'poor', 'portland', 'oregon', 'juvenile', 'juvenile', 'mary', 'good', 'troubled', 'male', 'judge', 'mary', 'social', 'mary', 'mary', 'mary'], ['beth', 'cappadora', 'pat', 'bad', 'ben', 'crowded', 'beth', 'high', 'frantic', 'unsuccessful', 'beth', 'sustained', 'nervous', 'unable', 'beth', 'vincent', 'jonathan', 'jackson', 'kerry', 'ben', 'sam', 'beth', 'sam', 'ben', 'high', 'unstable', 'high', 'beth', 'ben', 'ben', 'cappadora', 'painful', 'good', 'ben', 'adoptive', 'vincent', 'ben', 'vincent', 'vincent', 'safe', 'vincent', 'ben', 'ben', 'real'], ['old', 'timmy', 'nude', 'timmy', 'plastic', 'timmy', 'plastic', 'timmy', 'timmy', 'bloody', 'timmy', 'europe', 'air', 'force', 'timmy', 'timmy', 'timmy', 'timmy', 'black', 'giant', 'giant', 'nude', 'psychopathic', 'boston', 'bd', 'horror', 'news', 'dvd', 'review', 'david', 'harley', 'tormented', 'real', 'human', 'bracken', 'kendall', 'mary', 'riggs', 'motion', 'picture', 'pieces', 'psychotic', 'second', 'massive', 'fourth', 'upper', 'dean', 'mary', 'lt', 'bracken', 'sgt', 'holden', 'kendall', 'able', 'multiple', 'dean', 'kendall', 'kendall', 'kendall', 'dean', 'alive'], ['northwestern', 'united', 'states', 'taciturn', 'matt', 'calder', 'tent', 'old', 'mark', 'kay', 'matt', 'mark', 'virtual', 'kay', 'gambler', 'harry', 'weston', 'council', 'city', 'flimsy', 'calder', 'matt', 'mark', 'harry', 'matt', 'council', 'city', 'matt', 'harry', 'kay', 'matt', 'mark', 'hostile', 'indians', 'harry', 'matt', 'kay', 'harry', 'matt', 'harry', 'mark', 'matt', 'unable', 'kay', 'matt', 'tender', 'mark', 'sam', 'benson', 'dave', 'colby', 'harry', 'indians', 'difficult', 'bad', 'council', 'city', 'confront', 'harry', 'harry', 'matt', 'mark', 'harry', 'general', 'kay', 'local', 'matt', 'mark'], ['monicelli', 'main', 'amici', 'miei', 'bitter', 'middle', 'aged', 'florence', 'idle', 'continuous', 'count', 'mascetti', 'impoverished', 'high', 'underage', 'titti', 'perozzi', 'easy', 'unceasing', 'melandri', 'communal', 'main', 'ideal', 'necchi', 'renowned', 'military', 'like', 'sassaroli', 'melandri', 'sassaroli', 'madonna', 'psychological', 'elaborate', 'practical', 'fake', 'criminal', 'righi', 'necchi', 'mascetti', 'titti', 'perozzi', 'perozzi', 'melandri', 'mascetti', 'funeral', 'dead', 'wide', 'eyed', 'righi', 'perozzi'], ['porky', 'pig', 'daffy', 'duck', 'complete', 'sleepy', 'lagoon', 'porky', 'daffy', 'porky', 'usual', 'wild', 'frenetic', 'porky', 'daffy', 'huge', 'daffy', 'porky', 'daffy', 'porky', 'daffy', 'porky', 'sleepy', 'small', 'droopy', 'eyed', 'huge', 'sleepy', 'strong', 'high'], ['jason', 'young', 'nebraska', 'social', 'frances', 'beautiful', 'enigmatic', 'young', 'dramatic'], ['scorpions', 'big', 'real', 'wild'], ['director', 'john', 'woo', 'david', 'stratton', 'factual', 'woo', 'modern', 'worldly', 'woo', 'historical', 'important', 'battle.http://www.abc.net.au/atthemovies/txt/s2616304.htm', 'han', 'dynasty', 'imperial', 'chancellor', 'cao', 'cao', 'southern', 'sun', 'quan', 'liu', 'bei', 'reluctant', 'emperor', 'xian', 'cao', 'cao', 'mighty', 'jing', 'province', 'battle', 'changban', 'cao', 'liu', 'bei', 'liu', 'bei', 'guan', 'yu', 'zhang', 'fei', 'excellent', 'zhao', 'yun', 'liu', 'bei', 'entrapped', 'liu', 'liu', 'bei', 'zhuge', 'liang', 'diplomatic', 'jiangdong', 'lord', 'sun', 'quan', 'cao', 'cao', 'sun', 'quan', 'cao', 'cao', 'zhuge', 'liang', 'clever', 'subsequent', 'zhou', 'yu', 'sun', 'shangxiang', 'naval', 'cai', 'mao', 'zhang', 'yun', 'jing', 'province', 'cao', 'cao', 'cao', 'hasty', 'liu', 'bei', 'sun', 'quan', 'cao', 'cao', 'red', 'cliff', 'sun', 'shangxiang', 'light', 'cao', 'cao', 'bagua', 'formation', 'cao', 'cao', 'main', 'main', 'zhuge', 'liang', 'sun', 'shangxiang', 'cao', 'cao', 'zhou', 'yu', 'sun', 'shangxiang', 'cao', 'cao', 'zhuge', 'liang', 'cao', 'cao', 'typhoid', 'cao', 'cao', 'allied', 'unsuspecting', 'disheartened', 'liu', 'bei', 'zhuge', 'liang', 'sun', 'quan', 'cao', 'cao', 'cai', 'mao', 'zhang', 'yun', 'new', 'seasick', 'red', 'cliff.jpg|right|thumb|sun', 'quan', 'liu', 'bei', 'zhou', 'yu', 'sun', 'quan', 'lu', 'su', 'hou', 'yong', 'zhou', 'yu', 'zhuge', 'liang', 'cai', 'mao', 'zhang', 'yun', 'military', 'zhuge', 'liang', 'ingenious', 'cao', 'cao', 'cai', 'mao', 'zhang', 'yun', 'cao', 'cao', 'jiang', 'gan', 'zhou', 'yu', 'zhou', 'jiang', 'cai', 'mao', 'zhang', 'yun', 'cao', 'zhuge', 'liang', 'zhou', 'yu', 'respective', 'cao', 'cao', 'jiang', 'gan', 'cai', 'mao', 'zhang', 'yun', 'cai', 'mao', 'zhang', 'yun', 'cao', 'cao', 'late', 'sun', 'quan', 'sun', 'shangxiang', 'cao', 'cao', 'zhou', 'yu', 'zhuge', 'liang', 'cao', 'cao', 'special', 'climatic', 'southeast', 'sun', 'quan', 'final', 'winter', 'solstice', 'zhou', 'yu', 'xiaoqiao', 'cao', 'cao', 'cao', 'ambitious', 'southeast', 'sun', 'quan', 'cao', 'cao', 'liu', 'bei', 'cao', 'cao', 'cao', 'cao', 'entire', 'cao', 'cao', 'heavy', 'cao', 'cao', 'main', 'zhou', 'yu', 'cao', 'hong', 'xiahou', 'jun', 'xiaoqiao', 'zhao', 'yun', 'xiaoqiao', 'cao', 'cao', 'cao', 'cao', 'final', 'zhou', 'yu', 'zhuge', 'liang', 'zhuge', 'far', 'newborn', 'mengmeng', 'western', 'battle', 'red', 'cliff', 'english', 'historical', 'asian', 'brief', 'political', 'notable', 'zhuge', 'liang', 'early', 'sun', 'shangxiang', 'western', 'north', 'america', 'magnolia', 'entertainment', 'original', 'blu', 'march'], ['manchuria', 'bad', 'japanese', 'weird', 'bad', 'japanese', 'manchurian', 'good', 'eagle', 'eyed', 'bad', 'weird', 'good', 'bad', 'manchurian', 'ghost', 'market', 'weird', 'qing', 'dynasty', 'imperial', 'japanese', 'army', 'japanese', 'empire', 'graphic', 'final', 'japanese', 'manchurian', 'good', 'bad', 'weird', 'japanese', 'good', 'japanese', 'bad', 'bad', 'weird', 'good', 'bad', 'weird', 'finger', 'chopper', 'good', 'bad', 'final', 'mexican', 'useless', 'crude', 'good', 'weird', 'weird', 'new', 'manchurian'], ['anna', 'khitrova', 'british', 'russian', 'london', 'russian', 'tatiana', 'old', 'trans', 'siberian', 'semyon', 'old', 'russian', 'mafia', 'anna', 'semyon', 'friendly', 'anna', 'helen', 'anna', 'ukrainian', 'kgb', 'stepan', 'anna', 'anna', 'semyon', 'unstable', 'kirill', 'anna', 'semyon', 'semyon', 'nikolai', 'luzhin', 'river', 'thames', 'nikolai', 'semyon', 'anna', 'nikolai', 'anna', 'uk', 'bad', 'anna', 'stepan', 'nikolai', 'stepan', 'missing', 'nikolai', 'impressed', 'semyon', 'appropriate', 'nikolai', 'semyon', 'incompetent', 'rival', 'chechen', 'vory', 'kurdish', 'azim', 'semyon', 'chechen', 'london', 'azim', 'nikolai', 'kirill', 'azim', 'chechens', 'nikolai', 'kirill', 'nikolai', 'severe', 'nikolai', 'fsb', 'british', 'government', 'senior', 'officer', 'undercover', 'nikolai', 'able', 'tatiana', 'semyon', 'semyon', 'statutory', 'tatiana', 'stepan', 'safe', 'edinburgh', 'kirill', 'kirill', 'thames', 'unable', 'little', 'nikolai', 'anna', 'nikolai', 'kirill', 'nikolai', 'nikolai', 'anna', 'nikolai', 'semyon', 'anna', 'tatiana', 'christine'], ['bimbo', 'koko', 'sign', 'betty', 'boop', 'dancing', 'school', 'betty', 'boop'], ['paschalis', 'old', 'beloved', 'anthoula', 'milos', 'sifnos', 'zoi', 'beautiful', 'strange', 'difficult', 'paschalis', 'zoi', 'sifnos', 'future', 'unexpected', 'funny'], ['kishen', 'suspicious', 'minded', 'kaajal', 'faithful', 'prem', 'opposite', 'married', 'pooja', 'numerous', 'gorgeous', 'kishen', 'shekhar', 'sanjana', 'bobby', 'kishen', 'prem', 'prem', 'bobby', 'kishen', 'kishen', 'prem', 'kishen', 'kaajal', 'bobby', 'shekhar', 'sanjana', 'bobby', 'kishen'], ['tahaan', 'haba', 'old', 'zoya', 'kashmir', 'ardent', 'financial', 'local', 'tahaan', 'birbal', 'unpaid', 'tahaan', 'determined', 'birbal', 'tahaan', 'birbal', 'old', 'subhan', 'darr', 'tahaan', 'tahaan', 'old', 'subhan', 'zafar', 'mule', 'birbal', 'subhan', 'birbal', 'tahaan', 'incompetent', 'zafar', 'subhan', 'birbal', 'subhan', 'old', 'tahaan', 'tahaan', 'tahaan', 'idrees', 'sufficient', 'birbal', 'tahaan', 'onward', 'idrees', 'right', 'subhan', 'darr', 'tahaan', 'terrorist', 'subhan', 'tahaan', 'fond', 'birbal', 'subhan', 'tahaan'], ['berlin', 'common', 'opposite', 'günther', 'stobanski', 'christian', 'ulmen', 'jerome', 'ades', 'til', 'schweiger', 'sentimental', 'roland', 'feldberg', 'wotan', 'wilke', 'möhring', 'susanne', 'feldberg', 'nadja', 'uhl', 'philip', 'henrion', 'maxim', 'mehmet', 'pregnant', 'young', 'niklas', 'michalke', 'florian', 'david', 'fitz', 'impending', 'bruce', 'berger', 'justus', 'von', 'dohnányi'], ['harvey', 'huntington', 'honeywagon', 'iii', 'honeywagon', 'clyde', 'honeywagon', 'bikini', 'beach', 'senior', 'foppish', 'british', 'peter', 'royce', 'bentley', 'potato', 'bikini', 'beach', 'frankie', 'dee', 'dee', 'receptive', 'potato', 'bug', 'jealous', 'frankie', 'potato', 'bug', 'dee', 'dee'], ['evil', 'lord', 'conqueror', 'conqueror', 'clan', 'mud', 'buddha', 'conqueror', 'young', 'wind', 'cloud', 'good', 'mud', 'buddha', 'conqueror', 'conqueror', 'cloud', 'conqueror', 'clan', 'wind', 'cloud', 'lord', 'conqueror', 'respective', 'wind', 'cloud', 'skilled', 'martial', 'lord', 'conqueror', 'mud', 'buddha', 'mud', 'buddha', 'wind', 'cloud', 'conqueror', 'cloud', 'misfortune', 'conqueror', 'charity', 'wind', 'cloud', 'wind', 'cloud', 'charity', 'conqueror', 'wind', 'charity', 'cloud', 'unhappy', 'conqueror', 'wind', 'cloud', 'lord', 'conqueror', 'cloud', 'cloud', 'cloud', 'wind', 'lord', 'conqueror', 'cloud', 'conqueror', 'conqueror', 'cloud', 'helpful', 'cloud', 'cloud', 'lord', 'conqueror', 'evil', 'mud', 'buddha'], ['incident', 'small', 'harmon', 'cobb', 'baltimore', 'old', 'state', 'maryland', 'institutionalized', 'mental'], ['busy', 'porky', 'dobbin', 'hank', 'horsefly', 'porky', 'bad', 'mr.', 'viper', 'snake', 'ready', 'porky', 'strict', 'single', 'porky', 'hank', 'dobbin', 'porky', 'dobbin', 'dobbin', 'hank', 'dobbin', 'porky', 'porky', 'mr.', 'viper', 'hank'], ['odile', 'deray', 'red', 'dead', 'serial', 'cannes', 'unanimous', 'bad', 'red', 'dead', 'public', 'ecstatic', 'odile', 'retarded', 'simon', 'jérémi', 'serge', 'karamazov', 'red', 'dead', 'patrick', 'bialès', 'romantic', 'odile'], ['famous', 'gustaf', 'borgstrom', 'ardell', 'kendall', 'donald', 'dillingham', 'wealthy'], ['great', 'winnipeg', 'canada', 'old', 'chester', 'kent', 'broadway', 'nymphomaniac', 'narcissa', 'chester', 'winnipeg', 'helen', 'lady', 'port', 'huntley', 'sad', 'america', 'lady', 'port', 'huntley', 'chester', 'fyodor', 'kent', 'fyodor', 'helen', 'oral', 'chester', 'fyodor', 'helen', 'left', 'drunken', 'fyodor', 'wrong', 'lady', 'port', 'huntley', 'chester', 'fyodor', 'canada', 'musicians', 'winnipeg', 'roderick', 'kent', 'serbia', 'roderick', 'hypochondria', 'young', 'chester', 'sober', 'fyodor', 'prosthetic', 'helen', 'tragic', 'allergic', 'fyodor', 'melodramatic', 'chester', 'glitzy', 'swing', 'low', 'sweet', 'chariot', 'roderick', 'narcissa', 'heartbreaking', 'cello', 'roderick', 'lady', 'port', 'huntley', 'able', 'chester', 'fyodor', 'fyodor', 'roderick', 'narcissa', 'tragic', 'dead', 'roderick', 'determined', 'plaintive', 'america', 'lady', 'port', 'huntley', 'mdash', 'mdash', 'chester', 'final', 'jagged', 'roderick', 'horrified', 'roderick', 'tragic', 'narcissa', 'helen', 'giant', 'shattered', 'bleeding', 'chester', 'entire', 'teddy', 'helen', 'roderick', 'narcissa', 'narcissa', 'mdash', 'sad', 'mdash'], ['slum', 'shaimak', 'davar'], ['similar', 'seth', 'michael', 'donsky', 'twisted', 'tierney', 'donsky', 'oliver', 'twist', 'present', 'london', 'poor', 'toronto', 'oliver', 'dodge', 'beautiful', 'oliver', 'young', 'dodge', 'oliver', 'oliver', 'dodge', 'dodge', 'oliver', 'oliver', 'young', 'dodge', 'dodge', 'abusive', 'young', 'mens', 'care', 'taker', 'dodge', 'violent'], ['william', 'gordon', 'u.s.', 'army', 'washington', 'd.c.', 'europe', 'socialite', 'joel', 'carter', 'eager', 'germans', 'lieutenant', 'gordon', 'john', 'carter', 'assistant', 'secretary', 'war', 'unhappy', 'gordon', 'major', 'william', 'brennan', 'german', 'joel', 'john', 'carter', 'u.s.', 'atlantic', 'ocean', 'grave', 'brennan', 'british', 'american', 'dangerous', 'maximum', 'rendezvous', 'new', 'unbeknownst', 'americans', 'german', 'valuable', 'gordon', 'brennan', 'unbreakable', 'olivia', 'karloff', 'red', 'handed', 'dead', 'brennan', 'gordon', 'carter', 'gordon', 'jealous', 'gordon', 'karloff', 'free', 'germans', 'captain', 'nicholas', 'nieterstein', 'americans', 'russian', 'embassy', 'nieterstein', 'ambassador', 'gregory', 'gordon', 'german', 'new', 'american', 'carter', 'new', 'rendezvous', 'germans', 'americans', 'gordon', 'gordon', 'carter'], ['betty', 'awake', 'stormy', 'unexplainable', 'mysterious', 'mose', 'bizarre', 'mose', 'mysterious', 'frightful', 'mose', 'mose', 'graveyard', 'jamboree', 'mysterious', 'mose', 'short', 'seamus', 'walsh', 'mark', 'caballero', 'screen', 'novelties', 'otherworldly', 'walsh', 'caballero', 'mysterious', 'mose', 'harry', 'reser', 'radio', 'novelty', 'orchestra', 'wide', 'small'], ['michael', 'beautiful', 'jada', 'jada', 'lorenzo', 'michael', 'bodily', 'lorenzo', 't', 'bone', 'baby', 'boy', 'michael', 'black', 'michael', 'lorenzo', 'jada', 'jamal', 'nice', 'michael', 'lorenzo', 'kahara', 'jada', 'lorenzo', 't', 'bone', 'baby', 'boy', 'baby', 'boy', 't', 'bone', 'baby', 'boy', 't', 'bone', 'baby', 'boy', 'lorenzo', 'kahara', 't', 'bone', 'baby', 'boy', 'mask', 'lorenzo', 'jada', 'monique', 'jada', 'homeless', 'lorenzo', 'michael', 'michael', 'ice', 'cream', 'man', 'real', 'killjoy', 'michael', 'killjoy', 'lorenzo', 'baby', 'boy', 't', 'bone', 'killjoy', 'michael', 'jada', 'young', 'outside', 'homeless', 't', 'bone', 'baby', 'boy', 'lorenzo', 'killjoy', 'killjoy', 'jamal', 'monique', 'jada', 'jada', 'killjoy', 'michael', 'michael', 'jada', 'jada', 'michael', 'killjoy', 'stabs', 'michael', 'michael', 'jamal', 'jada', 'monique', 'killjoy', 'lorenzo', 't', 'bone', 'baby', 'boy', 'jada', 'homeless', 'michael', 'michael', 'jada', 'jada', 'jamal', 'monique', 'baby', 'boy', 't', 'bone', 'lorenzo', 'killjoy', 'michael', 'jada', 'homeless', 'heaven', 'ray', 'jackson', 'tamara', 'jada', 'english', 'ray', 'free', 'ray', 'killjoy', 'tamara', 'lorenzo', 'jada', 'jada', 'jamal', 'entire', 'jada', 'oral', 'killjoy', 'jada', 'killjoy', 'good', 'evil'], ['plot', 'husband', 'rawdon', 'miranda', 'palpable', 'old', 'quincey', 'miranda', 'tiny', 'quincey', 'miranda', 'rawdon', 'unmoored', 'rawdon', 'quincey', 'strong', 'mommy', 'miranda', 'rawdon', 'portugal', 'rawdon', 'quincey', 'grandparents', 'uncle', 'jack', 'quincey', 'rawdon', 'paula', 'long', 'quincey', 'rawdon', 'sam', 'good', 'surrogate', 'aunt', 'quincey', 'kimberly', 'quincey', 'uncle', 'jack', 'right', 'jack', 'kimberly', 'rawdon', 'good', 'miranda', 'metaphysical', 'angry', 'long', 'long', 'alive', 'dad', 'quincey', 'dad', 'good', 'university', 'frenchman', 'philippe', 'rawdon', 'right', 'miranda', 'quincey', 'dead', 'new', 'rawdon', 'miranda', 'quincey', 'philippe', 'miranda', 'quincey'], ['mittal', 'veer', 'saxena', 'aryan', 'kapoor', 'unhappy', 'respective', 'bhavana', 'diya', 'sonia', 'busy', 'everyday', 'bhavana', 'intimate', 'diya', 'sonia', 'madhuri', 'rekha', 'dimple', 'long', 'lucky', 'bhai'], ['nirmal', 'karthik', 'usha', 'nirmal', 'janaki', 'usha', 'nirmal', 'janaki', 'melancholic', 'nirmal', 'babu', 'satyavati', 'babu', 'nirmal', 'nirmal', 'dead', 'satyavati', 'usha', 'babu', 'nirmal', 'nirmal', 'janaki', 'babu', 'janaki', 'satyavati', 'janaki', 'satyavati', 'nirmal', 'usha', 'nirmal', 'babu', 'satyavati', 'rajagopal', 'nirmal', 'satyavati', 'late', 'usha'], ['usual', 'latin', 'ultra', 'sonicus', 'ad', 'infinitum', 'nemesis', 'ridiculii', 'road', 'runner', 'beepius', 'beepius', 'road', 'runner', 'wile', 'e.', 'inexorable', 'opposite', 'wile', 'e.', 'impending', 'wile', 'e.', 'good', 'wile', 'e.', 'narrow', 'wile', 'e.', 'road', 'runner', 'opposite', 'wile', 'e.', 'wile', 'annoyed', 'road', 'runner', 'wile', 'e.', 'safe', 'safe', 'wile', 'fourth', 'safe', 'thin', 'flat', 'second', 'road', 'runner', 'extra', 'speedy', 'fifth', 'ross', 'wile', 'e.', 'frisbee', 'wile', 'e', 'unhurt', 'wile', 'charlie', 'chaplin', 'unknown', 'ready', 'wile', 'unable', 'wile', 'sixth', 'wile', 'acme', 'giant', 'fly', 'paper', 'road', 'runner', 'road', 'runner', 'actual', 'unhappy', 'final', 'wile', 'e.', 'road', 'runner', 'displeased', 'wile', 'e.', 'yellow', 'seventh', 'new', 'wile', 'e.', 'road', 'runner', 'explosive', 'eager', 'road', 'runner', 'wile', 'quick', 'little', 'agitated', 'wile', 'e.', 'original', 'wile', 'e.', 'wile', 'e.', 'sale', 'tennis', 'cheap', 'gigantic', 'explosion', 'wile', 'e.', 'coyote', 'road', 'runner', 'shrunken', 'road', 'runner', 'normal', 'wile', 'small', 'road', 'runner', 'road', 'runner', 'ecstatic', 'huge', 'tall', 'road', 'runner', 'amplified', 'wile', 'wise'], ['amity', 'sheriff', 'martin', 'brody', 'previous', 'ellen', 'brody', 'sean', 'tiffany', 'sean', 'christmas', 'massive', 'great', 'white', 'ellen', 'sean', 'bahamas', 'old', 'michael', 'carla', 'karen', 'young', 'old', 'thea', 'ellen', 'airplane', 'hoagie', 'jake', 'william', 'marine', 'sean', 'quiet', 'ellen', 'michael', 'ellen', 'obsessive', 'psychic', 'michael', 'strange', 'unexplained', 'jake', 'michael', 'unharmed', 'thea', 'inflatable', 'margaret', 'carla', 'brody', 'margaret', 'thea', 'ellen', 'brody', 'jake', 'michael', 'michael', 'jake', 'hoagie', 'ellen', 'hoagie', 'michael', 'jake', 'hoagie', 'michael', 'upset', 'ellen', 'ellen', 'ellen', 'brody', 'hoagie', 'jake', 'michael', 'electrical', 'michael', 'jake', 'mad', 'jake', 'absent', 'jake', 'michael', 'ellen', 'bowsprit', 'michael', 'jake', 'alive', 'harsh', 'hoagie', 'amity', 'island'], ['sagar', 'alias', 'jacky', 'big', 'chief', 'minister', 'manu', 'unable', 'manu', 'indu', 'hari', 'good', 'sagar', 'sagar', 'good', 'kerala', 'goa', 'sagar', 'rosario', 'powerful', 'goa', 'considerable', 'sagar', 'manu', 'rosarios', 'sagar', 'sagar', 'favourite', 'sagar', 'rosario', 'able', 'sagar', 'rosario', 'manu', 'hari', 'sagar', 'current', 'rosarios', 'sagar', 'rosarios', 'sagar', 'nanthakrishna', 'naina([[suman', 'naina', 'sheikh', 'imran', 'infamous', 'imran', 'manu', 'sagar', 'indu', 'sagar', 'responsible', 'imran', 'sagar', 'sagar', 'sagar', 'sagar', 'rosarios', 'sagar', 'arati', 'sagar', 'arati', 'dead', 'enraged', 'sagar', 'rosarios', 'dubai', 'naina', 'sagar', 'indu'], ['ralph', 'bellamy', 'healer', 'bellamy', 'warm', 'unnamed', 'crippling', 'destitute', 'evelyn', 'doc', 'great', 'mickey', 'rooney', 'jimmy', 'paraplegic', 'doc', 'little', 'rich', 'joan', 'good', 'doc', 'wealthy', 'doc', 'original', 'warm', 'jimmy', 'jimmy', 'doc', 'true', 'evelyn', 'interested', 'joan'], ['madrid', 'almeria', 'antonio', 'successful', 'personal', 'insecure', 'teresa', 'good', 'antonio', '.<ref', 'name1991|first', \"d'lugo|titleprinceton\", 'university', 'press'], ['staff', 'sgt', 'raphael', 'jinji', 'moked', 'shamgar', 'sergio', 'constanza', 'reserve', 'service', 'yaeli', 'victor', 'hasson', 'hasson', 'moked', 'old', 'shifra', 'yaeli', 'moked', 'sergio', 'constanza', 'mr.', 'hasson', 'sergio', 'moked', 'moked', 'constanza', 'sinai', 'mr.', 'hasson', 'constanza', 'moked', 'yaeli', 'constanza', 'authorized', 'education', 'corps', 'mr.', 'hasson', 'yaeli', 'private', 'african', 'half', 'nude', 'moked', 'mr.', 'hasson', 'constanza', 'insane', 'moked', 'temporary', 'mr.', 'hasson', 'excellent', 'military', 'like', 'constanza', 'constanza', 'hasson', 'hasson', 'constanza', 'wasserman', 'moked', 'wasserman', 'shifra', 'hasson', 'yaeli', 'old', 'shifra', 'impressed', 'wasserman', 'constanza', 'hasson', 'egyptian', 'captive', 'israeli', 'un', 'hasson', 'hasson', 'sergio', 'inasane', 'hasson', 'hasson', 'moked', 'constanza', 'tel', 'aviv'], ['rachel', 'high', 'steady', 'great', 'main', 'carefree', 'rachel', 'jason', 'hiv', 'positive', 'heavy', 'iv', 'rachel', 'aids', 'rapid', 'positive', 'rachel', 'sarah', 'young', 'secret', 'high', 'invincible'], ['mexican', 'high', 'black', 'dark', 'major', 'pentagon', 'pentagon', 'bloody', 'pentagon', 'portal', 'second', 'francisco', 'francisco', 'mindless', 'unable', 'pentagon', 'magical', 'pentagon', 'magical', 'black', 'quote'], ['deaf', 'france', 'broad', 'deaf', 'profound', 'common', 'philibert', 'mark', 'brown', 'french', 'film', 'festival', 'cable', 'car', 'cinema', 'feb.', 'brown', 'university', 'news', 'service', 'february', 'personal', 'engaged', 'harvard', 'film', 'archive', 'cinematheque', 'land', 'deaf'], ['warren', 'schmidt', 'woodmen', 'world', 'omaha', 'nebraska', 'schmidt', 'schmidt', 'hard', 'new', 'useless', 'foster', 'african', 'plan', 'usa', 'foster', 'small', 'tanzanian', 'ndugu', 'umbo', 'schmidt', 'young', 'schmidt', 'entire', 'longtime', 'helen', 'winnebago', 'adventurer', 'jeannie', 'randall', 'hertzel', 'denver', 'jeannie', 'winnebago', 'cheap', 'randall', 'schmidt', 'randall', 'unsuited', 'schmidt', 'frozen', 'hidden', 'ago', 'mutual', 'schmidt', 'new', 'winnebago', 'randall', 'jeannie', 'clear', 'schmidt', 'friendly', 'sympathetic', 'schmidt', 'schmidt', 'late', 'helen', 'schmidt', 'denver', 'jeannie', 'roberta', 'randall', 'randall', 'odd', 'jeannie', 'schmidt', 'randall', 'jeannie', 'schmidt', 'winnebago', 'roberta', 'hot', 'schmidt', 'kind', 'denver', 'schmidt', 'ndugu', 'schmidt', 'dead', 'schmidt', 'tanzania', 'ndugu', 'illiterate', 'schmidt', 'financial', 'ndugu', 'large', 'small', 'sunny', 'schmidt'], ['expand', 'bandini', 'hard', 'colorado', 'unemployed', 'svevo', 'bandini', 'difficult', 'nervous', 'young'], ['ambitious', 'idealistic', 'stephen', 'chase', 'atlantis', 'oil', 'company', 'remote', 'rural', 'china', 'boss', 'secure', 'yokohama', 'unwilling', 'backward', 'hester', 'adams', 'china', 'oriental', 'stephen', 'hester', 'china', 'stephen', 'boss', 'less', 'old', 'new', 'j.t.', 'mccarger', 'stephen', 'isolated', 'siberia', 'stephen', 'reluctant', 'hester', 'pregnant', 'agonized', 'dangerous', 'dead', 'temporary', 'stephen', 'large', 'chases', 'good', 'don', 'alice', 'wellman', 'john', 'eldredge', 'jean', 'muir', 'don', 'stephen', 'contemptuous', 'chinese', 'important', 'stephen', 'don', 'don', 'mccarger', 'stephen', 'good', 'china', 'safe', 'stephen', 'mccarger', 'ho', 'chinese', 'good', 'ho', 'cold', 'outraged', 'stephen', 'mccarger', 'mccarger', 'stephen', 'new', 'orient', 'stephen', 'delighted', 'modern', 'stephen', 'new', 'china', 'old', 'menial', 'stephen', 'atlantis', 'stephen', 'stephen'], ['teenage', 'hyp', 'hypsilophodon', 'nod', 'nodosaurus', 'mutt', 'muttaburrasaurus', 'great', 'valley', 'mysterious', 'great', 'valley', 'hyp', 'nod', 'mutt', 'big', 'littlefoot', 'great', 'valley', 'relative', 'bad', 'bad', 'littlefoot', 'great', 'valley', 'hyp', 'littlefoot', 'small', 'littlefoot', 'silent', 'unwilling', 'littlefoot', 'following', 'mutt', 'great', 'valley', 'valley', 'valley', 'mysterious', 'mysterious', 'hyp', 'mutt', 'nod', 'mysterious', 'hyp', 'littlefoot', 'necessary', 'necessary', 'hyp', 'dangerous', 'littlefoot', 'combined', 'hyp', 'harsh', 'littlefoot', 'cera', 'littlefoot', 'cera', 'littlefoot', 'bad', 'grandpa', 'hyp', 'able', 'small', 'sharpteeth', 'dry', 'great', 'valley', 'sharpteeth', 'herbivorous', 'mdash', 'hyp', 'elemental', 'cera', 'littlefoot', 'hyp', 'sharpteeth', 'cera', 'placid', 'freed', 'valley', 'verdant', 'time', 'great', 'giving'], ['los', 'angeles', 'california', 'fletcher', 'reede', 'divorced', 'young', 'max', 'justin', 'cooper', 'fletcher', 'claw', 'max', 'fletcher', 'max', 'audrey', 'fletcher', 'compulsive', 'good', 'california', 'fletcher', 'fifth', 'miranda', 'max', 'unable', 'entire', 'mdash', 'true', 'embarrassing', 'mdash', 'miranda', 'well', 'unable', 'mislead', 'true', 'inconvenient', 'huge', 'samantha', 'cole', 'main', 'willing', 'fletcher', 'audrey', 'boston', 'new', 'jerry', 'max', 'fletcher', 'fletcher', 'able', 'prenuptial', 'invalid', 'responsible', 'caring', 'fletcher', 'greta', 'early', 'rude', 'noble', 'senior', 'max', 'high', 'fletcher', 'audrey', 'max', 'desperate', 'mobile', 'fletcher', 'max', 'audrey', 'boston', 'jerry', 'fletcher', 'audrey', 'max', 'max', 'fletcher', 'audrey', 'fletcher', 'max', 'max', 'normal', 'fletcher', 'audrey', 'max', 'claw'], ['young', 'charlotte', 'hollis', 'married', 'lover', 'john', 'mayhew', 'hollis', 'antebellum', 'mansion', 'ascension', 'parish', 'louisiana', 'charlotte', 'john', 'john', 'charlotte', 'john', 'charlotte', 'charlotte', 'wealthy', 'charlotte', 'mayhew', 'guilty', 'charlotte', 'mayhew', 'charlotte', 'crazy', 'louisiana', 'highway', 'commission', 'new', 'charlotte', 'charlotte', 'velma', 'hollis', 'highway', 'commission', 'miriam', 'poor', 'miriam', 'drew', 'bayliss', 'local', 'charlotte', 'miriam', 'mysterious', 'mayhew', 'mayhew', 'disembodied', 'miriam', 'drew', 'charlotte', 'mr.', 'willis', 'interested', 'mayhew', 'mayhew', 'jewel', 'miriam', 'velma', 'charlotte', 'miriam', 'charlotte', 'velma', 'miriam', 'velma', 'charlotte', 'john', 'miriam', 'drew', 'charlotte', 'drew', 'miriam', 'charlotte', 'dead', 'drew', 'charlotte', 'mad', 'secure', 'miriam', 'drew', 'charlotte', 'miriam', 'drew', 'jewel', 'jewel', 'charlotte', 'charlotte', 'huge', 'miriam', 'drew', 'charlotte', 'charlotte', 'charlotte', 'insane', 'hollis', 'crazy', 'charlotte', 'dead', 'jewel', 'mayhew', 'previous', 'jewel', 'charlotte', 'beloved'], ['spanish', 'california'], ['lead', 'kent', 'california', 'troubled', 'bobbi', 'different'], ['jean', 'diego', 'french', 'world', 'war', 'ii', 'raymond', 'jean', 'homeless', 'destiny', 'jean', 'malou', 'young', 'rich', 'malou', 'extreme', 'dramatic', 'able'], ['entire', \"o'neill\", 'actual', 'new', 'robeson', 'musical', 'robeson', 'great', 'dramatic', 'worthy', 'oscar', 'african', 'ritual', 'quick', 'primitive', 'black', 'brutus', 'jones', 'african', 'american', 'rhythmic', 'african', 'religious', 'quick', 'baptist', 'american', 'south', 'africans', 'baptists', 'suggestive', 'copious', 'nigg', \"o'neill\", 'original', 'african', 'americans', \"o'neill\", 'robeson', 'subsequent', 'civil', 'rights', 'shocking', 'brutus', 'jones', 'pullman', 'porter', 'upward', 'african', 'american', 'twentieth', 'jones', 'later', 'emperor', 'jones', 'military', 'jones', 'big', 'fast', 'boisterous', 'jeff', 'fast', 'beautiful', 'undine', 'robeson', 'male', 'unusual', 'black', 'robeson', 'sexual', 'cultural', 'libidinal', 'black', 'jones', 'white', 'caribbean', 'remote', 'crude', 'black', 'smithers', 'white', 'colonial', 'sole', 'caucasian', 'jones', 'smithers', 'emperor', 'silver', 'jones', 'poor', \"o'neill\", 'brutus', 'jones'], ['secret', 'sensational', 'second', 'world', 'war', 'ussr', 'soviet', 'convincing', 'clear', 'soviet', 'small', 'captain', 'ivan', 'sergeyevich', 'kharlamov', 'moon', 'kharlamov', 'earth', 'kharlamov', 'nkvd', 'criminal', 'kharlamov', 'earth', 'chile', 'kharlamov', 'soviet', 'far', 'east', 'polynesia', 'china', 'reminiscent', 'actual', 'soviet', 'lunar', 'red', 'chilean', 'natural', 'antafagasta', 'brief', 'kharlamov', 'final', 'moon', 'brief', 'lunar', 'kharlamov', 'lunar', 'eva', 'short'], ['routine', 'murray', 'carter', 'murray', 'carter', 'murray', 'small', 'unable', 'useless', 'murray', 'desperate', 'murray', 'human'], ['randy', 'dean', 'high', 'senior', 'poor', 'secret', 'marijuana', 'regina', 'dead', 'wendy', 'married', 'jealous', 'ali', 'randy', 'wendy', 'evie', 'roy', 'pristine', 'range', 'rover', 'unsure', 'randy', 'cultured', 'evelyn', 'difficult', 'randy', 'evie', 'evie', 'cliquish', 'randy', 'angry', 'wendy', 'new', 'evie', 'distant', 'randy', 'walt', 'whitman', 'leaves', 'grass', 'randy', 'evie', 'small', 'randy', 'lesbian', 'rebecca', 'rebecca', 'vicky', 'randy', 'operation', 'rescue', 'like', 'rebecca', 'randy', 'evie', 'local', 'randy', 'intolerant', 'evie', 'close', 'supportive', 'hostile', 'god', 'evie', 'pretty', 'randy', 'randy', 'rebecca', 'evie', 'huge', 'marijuana', 'asleep', 'evie', 'evelyn', 'randy', 'rebecca', 'randy', 'high', 'vicky', 'lena', 'frank', 'randy', 'rebecca', 'frank', 'evie', 'evie', 'randy', 'furious', 'evelyn', 'evie', 'randy', 'scared', 'accusatory', 'randy', 'wendy', 'ali', 'evelyn', 'rebecca', 'vicky', 'lena', 'frank', 'evie', 'rita', 'mae', 'brown', 'rubyfruit', 'jungle', 'randy', 'evie', 'open', 'aware', 'close', 'final', 'classic', 'hollywood', 'romantic', 'maggenti'], ['uncle', 'max', 'betty', 'pudgy', 'pudgy', 'tired', 'unwilling', 'betty', 'betty', 'pudgy', 'pudgy', 'betty', 'entire'], ['pierre', 'amnesia', 'young', 'vietnamese', 'madeleine', 'low', 'romantic', 'pierre', 'cybèle', 'young', 'unloving', 'locked', 'sunday', 'lonely', 'childlike', 'supportive', 'pierre', 'cybèle', 'madeleine', 'bernard', 'romantic', 'ongoing', 'pierre', 'cybèle', 'young', 'pierre', 'cybèle', 'christmas', 'gothic', 'dead', 'cybèle', 'asleep', 'pierre', 'christmas', 'pointless'], ['japanese', 'long', 'haired', 'remote', 'china', 'local', 'dragon', 'herb', 'chinese', 'kung', 'chinese', 'superior', 'japanese', 'kung', 'japanese', 'climactic'], ['karthikeyan', 'indian', 'express', 'chitra', 'navi', 'mumbai', 'karthik', 'chitra', 'karthik', 'chitra', 'chitra', 'karthik', 'angry', 'chitra', 'volunteerily', 'karthik', 'karthik', 'chitra', 'karthik', 'chitra', 'karthik', 'chitra', 'karthik', 'karthik', 'karthik', 'chitra', 'srikanth', 'chitra', 'shiva', 'karthik', 'shiva', 'karthik', 'chitra', 'karthik', 'karthik', 'karthik', 'chitra', 'karthik', 'karthik', 'karthik', 'chitra', 'confused', 'second', 'shiva', 'karthik', 'chitra', 'karthik', 'mumbai', 'chitra', 'karthik', 'srikanth', 'chitra', 'chitra', 'karthik', 'karthik', 'disappointed', 'chitra', 'mumbai', 'indian', 'express', 'karthik', 'karthik', 'coonoor', 'official', 'chitra', 'chitra', 'karthik', 'chitra', 'karthik', 'shiva', 'shiva', 'karthik', 'long', 'chitra', 'karthik', 'shiva', 'shiva', 'chitra', 'chitra', 'karthik', 'chitra', 'karthik', 'chitra', 'karthik', 'chitra', 'mumbai', 'karthik'], ['joan', 'god', 'english', 'france', 'steadfast', 'illiterate', 'false', 'joan', 'dreyer', 'carl', 'theodor', 'bloomington', 'london', 'indiana', 'university', 'press'], ['champion', 'good', 'good', 'main', 'rajveer', 'singh', 'punjab', 'sole', 'mumbai', 'special', 'shocked', 'old', 'abbas', 'khan', 'rigorous', 'hardcore', 'abbas', 'sole', 'drastic', 'abbas', 'nazir', 'personal', 'innocent', 'abbas', 'sapna', 'close', 'abbas', 'sapna', 'vivacious', 'successful', 'abbas', 'rajveer', 'abbas', 'rich', 'shattered', 'abbas', 'rajveer', 'abbas', 'messiah', 'sapna', 'rajveer', 'interesting', 'rajveer', 'sapna', 'abbas', 'rajveer', 'rajveer', 'ready', 'abbas', 'nazir', 'abbas', 'nazir', 'chilling', 'abbas', 'abbas', 'rajveer', 'nazir', 'powerful', 'nazir', 'abbas'], ['katherine', 'sullivan', 'severe', 'katherine', 'private', 'jack', 'mize', 'mize', 'sure', 'katherine'], ['vaibhavari', 'sahay', 'badki', 'shubhavari', 'sahay', 'chutki', 'shivshankar', 'sahay', 'sabitri', 'ganges', 'banaras', 'poor', 'badki', 'protective', 'determined', 'chutki', 'bad', 'bad', 'badki', 'mumbai', 'desperate', 'exclusive', 'natasha', 'mdash', 'mdash', 'badki', 'chutki', 'mba', 'unannounced', 'badki', 'mumbai', 'young', 'matrix', 'advertising', 'chutki', 'creative', 'vivaan', 'badki', 'rohan', 'afraid', 'badki', 'banaras', 'chutki', 'badki', 'rohan', 'vivaan', 'old', 'rohan', 'badki', 'badki', 'rohan', 'badki', 'shivshankar', 'sabitri', 'chutki', 'badki', 'badki', 'rohan', 'zurich'], ['new', 'year', 'day', 'night', 'watch', 'anton', 'gorodetsky', 'light', 'dark', 'uneasy', 'anton', 'night', 'watch', 'romantic', 'svetlana', 'yegor', 'dark', 'anton', 'yegor', 'normal', 'night', 'watch', 'unable', 'yegor', 'previous', 'unborn', 'yegor', 'anton', 'legendary', 'chalk', 'fate', 'magical', 'tamerlane', 'main', 'numerous', 'military', 'zavulon', 'dark', 'day', 'watch', 'yegor', 'yegor', 'great', 'dark', 'zavulon', 'anton', 'yegor', 'day', 'watch', 'anton', 'inquisition', 'geser', 'night', 'watch', 'anton', 'dark', 'olga', 'svetlana', 'anton', 'olga', 'svetlana', 'initial', 'anton', 'olga', 'anton', 'chalk', 'fate', 'central', 'asian', 'moscow', 'yegor', 'yegor', 'resentful', 'anton', 'yegor', 'anton', 'large', 'yegor', 'cold', 'svetlana', 'anton', 'yegor', 'angry', 'zavulon', 'zavulon', 'direct', 'yegor', 'alisia', 'zavulon', 'yegor', 'dark', 'anton', 'yegor', 'real', 'vampire', 'kostya', 'unable', 'svetlana', 'anton', 'yegor', 'yegor', 'svetlana', 'yegor', 'zavulon', 'treaty', 'light', 'yegor', 'great', 'moscow', 'svetlana', 'ostankino', 'tower', 'fierce', 'light', 'dark', 'anton', 'alisia', 'dead', 'kostya', 'chalk', 'alisia', 'moscow', 'panicked', 'svetlana', 'enraged', 'yegor', 'great', 'anton', 'geser', 'anton', 'moscow', 'entire', 'anton', 'night', 'watch', 'anton', 'moscow', 'normal', 'undemolished', 'night', 'watch', 'chalk', 'anton', 'unborn', 'yegor', 'svetlana', 'zavulon', 'geser', 'eager', 'anton', 'svetlana', 'geser', 'accurate', 'anton', 'svetlana', 'harried'], ['stingo', 'brooklyn', 'sophie', 'zawistowski', 'polish', 'nathan', 'landau', 'stingo', 'sophie', 'married', 'german', 'auschwitz', 'nathan', 'jealous', 'violent', 'sophie', 'unfaithful', 'nathan', 'sophie', 'u.s.', 'sophie', 'nazi', 'sophie', 'józef', 'half', 'wanda', 'resistance', 'wanda', 'sophie', 'gestapo', 'sophie', 'józef', 'gestapo', 'sophie', 'auschwitz', 'nathan', 'sophie', 'stingo', 'pharmaceutical', 'groundbreaking', 'nobel', 'prize', 'nathan', 'stingo', 'nathan', 'ill', 'nathan', 'expensive', 'funny', 'nathan', 'violent', 'sophie', 'stingo', 'tragic', 'auschwitz', 'jan', 'eva', 'crematorium', 'sophie', 'stingo', 'stingo', 'sophie', 'nathan', 'sophie', 'nathan', 'stingo', 'ample', 'emily', 'dickinson', 'american', 'sophie', 'fond', 'stingo', 'brooklyn', 'small', 'southern', 'virginia'], ['claire', 'mild', 'mannered', 'small', 'recent', 'los', 'angeles', 'old', 'claire', 'claire', 'blunt', 'aggressive', 'jay', 'claire', 'good', 'jay', 'jay', 'innocuous', 'claire', 'claire', 'mashed', 'jay', 'jay', 'brutal', 'claire', 'vain', 'different', 'far', 'claire', 'jay', 'claire', 'claire', 'narrow', 'brutal', 'asleep', 'jay', 'claire', 'tenuous', 'claire', 'jay', 'jay', 'aggressive', 'impressive', 'jay', 'claire', 'makeshift', 'jay', 'claire', 'jay', 'claire', 'tiny', 'pink', 'pvc', 'claire', 'outright', 'claire', 'exemplary', 'jay', 'jay', 'fashionable', 'confident', 'skeptical', 'uncomfortable', 'jay', 'claire', 'claire', 'prior', 'unscathed'], ['chemistry', 'final', 'murali', 'p.', 'sukumaran', 'sukumaran', 'satheesan', 'opposite', 'vasu', 'pius', 'rich', 'spoiled', 'gulf', 'romeo', 'sukumaran', 'good', 'thara', 'kurup', 'member', 'legislative', 'assembly', 'muvattupuzha', 'murali', 'professor', 'iyer', 'lakshmi', 'sukumaran', 'mumbai', 'satheesan', 'mla', 'political', 'vasu', 'pius', 'middle', 'east', 'thara', 'unmarried', 'murali', '.raziaarrives', 'sukumaran', 'committs'], ['young', 'hyun', 'lovely', 'gustave', 'caillebette', 'young', 'man', 'window', 'hyun', 'chae', 'unlucky', 'bad', 'unable', 'unsuccessful', 'bad', 'pure', 'hyun', 'hyun', 'desperate', 'good', 'dong', 'ha', 'chae', 'hyun', 'determined', 'mere'], ['ninja', 'resurrection', 'tokugawa', 'christians', 'japan', 'shimabara', 'rebellion', 'amakusa', 'shirō', 'christians', 'amakusa', 'restless', 'yagyū', 'jūbei', 'mitsuyoshi', 'demonic', 'jubei', 'revenge', 'tokugawa', 'shimabara', 'dark', 'satanic', 'shiro', 'japanese', 'ova', 'small', 'harano', 'castle', 'madonna', 'little', 'christian', 'small', 'shiro', 'shiro', 'long', 'light', 'shiro', 'tenshi', 'jehovah', 'messiah', 'madonna', 'evil', 'harano', 'evil', 'soy', 'kanmoiri', 'christians', 'lord', 'shiro', 'tokugawa', 'christian', 'lord', 'shiro', 'soy', 'mere', 'recent', 'soy', 'shiro', 'soy', 'general', 'nobutsuna', 'matsudaira', 'recent', 'nobutsuna', 'christians', 'black', 'jubei', 'nobutsuna', 'jubei', 'christians', 'harano', 'nobutsuna', 'matsudaira', 'christians', 'miyamoto', 'musashi', 'faraway', 'able', 'massive', 'new', 'huge', 'high', 'harano', 'narrow', 'aerial', 'jubei', 'christians', 'particular', 'intense', 'nobutsuna', 'shiro', 'old', 'god', 'shiro', 'shiro', 'jubei', 'mighty', 'jubei', 'soy', 'jubei', 'shiro', 'shiro', 'shiro', 'soy', 'jubei', 'shiro', 'ballistic', 'jubei', 'shiro', 'black', 'jubei', 'miyamoto', 'christian', 'useless', 'shiro', 'jubei', 'jubei', 'free', 'big', 'strong', 'tactical', 'little', 'tall', 'different', 'small', 'massive', 'shiro', 'alive', 'jubei', 'shiro', 'mid', 'shiro', 'shiro', 'main', 'tall', 'ninja', 'second', 'ova', 'hell', 'spawn', 'young', 'jubei', 'munenori', 'yagyu', 'constant', 'jubei', 'jubei', 'jubei', 'jubei', 'munenori', 'jubei', 'jubei', 'jubei', 'jubei', 'munenori', 'jubei', 'jubei', 'strong', 'munenori', 'jubei', 'historical', 'strong', 'musashi', 'miyamoto', 'mataemon', 'araki', 'inshun', 'hosowei', 'botaro', 'tamiya', 'munenori', 'yagyu', 'jubei', 'yagyu', 'legendary', 'musashi', 'foggy', 'mataemon', 'unknown', 'shimabara', 'riot', 'jubei', 'old', 'yagyu', 'old', 'yagyu', 'jubei', 'frighten', 'jubei', 'old', 'jushin', 'sagoguichi', 'lord', 'jubei', 'jubei', 'jushin', 'jushin', 'like', 'jubei', 'young', 'ohina', 'lord', 'jushin', 'jushin', 'beautiful', 'jushin', 'jubei', 'jushin', 'yorinobu', 'unmarried', 'noble', 'kishu', 'jubei', 'strange', 'onwei', 'jushin', 'jubei', 'jushin', 'jubei', 'large', 'jubei', 'strange', 'jushin', 'jubei', 'jubei', 'jushin', 'ohina', 'ohina', 'jushin', 'kishu', 'onwei', 'jubei', 'clean', 'jubei', 'kishu', 'jubei', 'shosetsu', 'yui', 'edo', 'ohina', 'inshun', 'hosowei', 'ohina', 'mataemon', 'araki', 'inshun', 'inshun', 'mataemon', 'mataemon', 'mataemon', 'ninja', 'mataemon', 'fast', 'mataemon', 'mataemon', 'mataemon', 'low', 'mataemon', 'futile', 'dark', 'resurrected', 'botaro', 'tamiya', 'botaro', 'mataemon', 'botaro', 'tajima', 'kami', 'yagyu', 'godaiyu', 'munenori', 'yagyu', 'lord', 'yorinobu', 'kishu', 'inhuman', 'munenori', 'mataemon', 'inshun', 'botaro', 'munenori', 'munenori', 'munenori', 'skilled', 'shosetsu', 'godaiyu', 'jubei', 'useful', 'godaiyu', 'munenori', 'shosetsu', 'godaiyu', 'jubei', 'small', 'jubei', 'old', 'tenshi', 'old', 'jubei', 'satan', 'jubei', 'shiro', 'staked', 'old', 'jubei', 'familiar', 'underground', 'able', 'old', 'jubei', 'jubei', 'young', 'jubei', 'tired', 'old', 'jubei', 'jubei', 'old', 'little', 'old', 'jubei', 'old', 'musashi', 'miyamoto', 'old', 'jubei', 'little', 'musashi', 'musashi', 'spacious', 'large', 'gigantic', 'numerous', 'musashi', 'shimabara', 'jubei', 'able', 'jubei', 'musashi', 'buddhist', 'edo', 'soiken', 'mori', 'shosetsu', 'yui', 'botaro', 'inshun', 'mataemon', 'ocho', 'satan', 'red', 'shosetsu', 'soiken', 'soiken', 'silent', 'ocho', 'enormous', 'virgin', 'mary', 'devil', 'devil', 'ocho', 'ocho', 'big', 'bulbous', 'ocho', 'ocho', 'long', 'silver', 'ocho', 'wooden', 'soiken', 'shosetsu', 'shosetsu', 'soiken', 'ocho', 'electrical', 'soiken', 'satan', 'shiro', 'amakusa', 'ocho', 'long', 'naked', 'silver', 'haired', 'shiro', 'shiro', 'ocho', 'ocho', 'shiro', 'shiro', 'green', 'botaro', 'mataemon', 'inshun', 'normal', 'jubei', 'strong', 'musashi', 'sudden', 'botaro', 'mataemon', 'inshun', 'boomerang', 'slow', 'shiro', 'soiken', 'hell'], ['late', 'david', 'swansey', 'southern', 'rhodesia', 'international', 'doomed', 'swansey', 'ian', 'smith', 'illicit', 'american', 'iroquois', 'black', 'african', 'strong', 'political', 'south', 'west', 'africa', 'indigenous', 'white', 'rhodesian', 'gideon', 'marunga', 'reluctant', 'unarmed', 'fellow', 'marunga', 'swansey', 'rhodesian', 'security', 'forces', 'south', 'african', 'armed', 'iroquois', 'rhodesia', 'marunga', 'swansey', 'weary', 'unarmed', 'swansey', 'unable', 'global', 'rhodesia', 'active', 'armed', 'marunga', 'swansey']]\n"
     ]
    }
   ],
   "source": [
    "list= []\n",
    "for i in range(100):\n",
    "    list.append(preprocess(df.summary[i]))\n",
    "print(list)"
   ]
  },
  {
   "cell_type": "code",
   "execution_count": 48,
   "metadata": {},
   "outputs": [
    {
     "data": {
      "text/plain": [
       "['big', 'russian', 'russia', 'russia', 'kaliningrad']"
      ]
     },
     "execution_count": 48,
     "metadata": {},
     "output_type": "execute_result"
    }
   ],
   "source": [
    "preprocess(\"big russian man in Russia, russia, kaliningrad\")"
   ]
  },
  {
   "cell_type": "code",
   "execution_count": 40,
   "metadata": {},
   "outputs": [
    {
     "ename": "AttributeError",
     "evalue": "[E046] Can't retrieve unregistered extension attribute 'language'. Did you forget to call the `set_extension` method?",
     "output_type": "error",
     "traceback": [
      "\u001b[1;31m---------------------------------------------------------------------------\u001b[0m",
      "\u001b[1;31mAttributeError\u001b[0m                            Traceback (most recent call last)",
      "\u001b[1;32mc:\\Users\\rchiu\\Project ADA\\ada-2023-project-padawans\\Q3.ipynb Cell 12\u001b[0m line \u001b[0;36m2\n\u001b[0;32m     <a href='vscode-notebook-cell:/c%3A/Users/rchiu/Project%20ADA/ada-2023-project-padawans/Q3.ipynb#X14sZmlsZQ%3D%3D?line=18'>19</a>\u001b[0m     \u001b[39mreturn\u001b[39;00m guessed_country\n\u001b[0;32m     <a href='vscode-notebook-cell:/c%3A/Users/rchiu/Project%20ADA/ada-2023-project-padawans/Q3.ipynb#X14sZmlsZQ%3D%3D?line=20'>21</a>\u001b[0m town_name \u001b[39m=\u001b[39m \u001b[39m\"\u001b[39m\u001b[39mKaliningrad\u001b[39m\u001b[39m\"\u001b[39m\n\u001b[1;32m---> <a href='vscode-notebook-cell:/c%3A/Users/rchiu/Project%20ADA/ada-2023-project-padawans/Q3.ipynb#X14sZmlsZQ%3D%3D?line=21'>22</a>\u001b[0m guessed_country \u001b[39m=\u001b[39m guess_country_by_town_name(town_name)\n\u001b[0;32m     <a href='vscode-notebook-cell:/c%3A/Users/rchiu/Project%20ADA/ada-2023-project-padawans/Q3.ipynb#X14sZmlsZQ%3D%3D?line=23'>24</a>\u001b[0m \u001b[39mprint\u001b[39m(\u001b[39mf\u001b[39m\u001b[39m\"\u001b[39m\u001b[39mThe town \u001b[39m\u001b[39m{\u001b[39;00mtown_name\u001b[39m}\u001b[39;00m\u001b[39m is likely in \u001b[39m\u001b[39m{\u001b[39;00mguessed_country\u001b[39m}\u001b[39;00m\u001b[39m.\u001b[39m\u001b[39m\"\u001b[39m)\n",
      "\u001b[1;32mc:\\Users\\rchiu\\Project ADA\\ada-2023-project-padawans\\Q3.ipynb Cell 12\u001b[0m line \u001b[0;36m6\n\u001b[0;32m      <a href='vscode-notebook-cell:/c%3A/Users/rchiu/Project%20ADA/ada-2023-project-padawans/Q3.ipynb#X14sZmlsZQ%3D%3D?line=2'>3</a>\u001b[0m doc \u001b[39m=\u001b[39m nlp(town_name)\n\u001b[0;32m      <a href='vscode-notebook-cell:/c%3A/Users/rchiu/Project%20ADA/ada-2023-project-padawans/Q3.ipynb#X14sZmlsZQ%3D%3D?line=4'>5</a>\u001b[0m \u001b[39m# Extract the language of the town name\u001b[39;00m\n\u001b[1;32m----> <a href='vscode-notebook-cell:/c%3A/Users/rchiu/Project%20ADA/ada-2023-project-padawans/Q3.ipynb#X14sZmlsZQ%3D%3D?line=5'>6</a>\u001b[0m language \u001b[39m=\u001b[39m doc\u001b[39m.\u001b[39m_\u001b[39m.\u001b[39mlanguage[\u001b[39m\"\u001b[39m\u001b[39mlanguage\u001b[39m\u001b[39m\"\u001b[39m]\n\u001b[0;32m      <a href='vscode-notebook-cell:/c%3A/Users/rchiu/Project%20ADA/ada-2023-project-padawans/Q3.ipynb#X14sZmlsZQ%3D%3D?line=7'>8</a>\u001b[0m \u001b[39m# Use a simple mapping to guess the country based on language\u001b[39;00m\n\u001b[0;32m      <a href='vscode-notebook-cell:/c%3A/Users/rchiu/Project%20ADA/ada-2023-project-padawans/Q3.ipynb#X14sZmlsZQ%3D%3D?line=8'>9</a>\u001b[0m country_mapping \u001b[39m=\u001b[39m {\n\u001b[0;32m     <a href='vscode-notebook-cell:/c%3A/Users/rchiu/Project%20ADA/ada-2023-project-padawans/Q3.ipynb#X14sZmlsZQ%3D%3D?line=9'>10</a>\u001b[0m     \u001b[39m\"\u001b[39m\u001b[39men\u001b[39m\u001b[39m\"\u001b[39m: \u001b[39m\"\u001b[39m\u001b[39mUnited Kingdom\u001b[39m\u001b[39m\"\u001b[39m,\n\u001b[0;32m     <a href='vscode-notebook-cell:/c%3A/Users/rchiu/Project%20ADA/ada-2023-project-padawans/Q3.ipynb#X14sZmlsZQ%3D%3D?line=10'>11</a>\u001b[0m     \u001b[39m\"\u001b[39m\u001b[39mes\u001b[39m\u001b[39m\"\u001b[39m: \u001b[39m\"\u001b[39m\u001b[39mSpain\u001b[39m\u001b[39m\"\u001b[39m,\n\u001b[0;32m     <a href='vscode-notebook-cell:/c%3A/Users/rchiu/Project%20ADA/ada-2023-project-padawans/Q3.ipynb#X14sZmlsZQ%3D%3D?line=11'>12</a>\u001b[0m     \u001b[39m\"\u001b[39m\u001b[39mfr\u001b[39m\u001b[39m\"\u001b[39m: \u001b[39m\"\u001b[39m\u001b[39mFrance\u001b[39m\u001b[39m\"\u001b[39m,\n\u001b[0;32m     <a href='vscode-notebook-cell:/c%3A/Users/rchiu/Project%20ADA/ada-2023-project-padawans/Q3.ipynb#X14sZmlsZQ%3D%3D?line=12'>13</a>\u001b[0m     \u001b[39m\"\u001b[39m\u001b[39mru\u001b[39m\u001b[39m\"\u001b[39m : \u001b[39m\"\u001b[39m\u001b[39mRussia\u001b[39m\u001b[39m\"\u001b[39m\n\u001b[0;32m     <a href='vscode-notebook-cell:/c%3A/Users/rchiu/Project%20ADA/ada-2023-project-padawans/Q3.ipynb#X14sZmlsZQ%3D%3D?line=13'>14</a>\u001b[0m }\n",
      "File \u001b[1;32mc:\\Users\\rchiu\\anaconda3\\Lib\\site-packages\\spacy\\tokens\\underscore.py:47\u001b[0m, in \u001b[0;36mUnderscore.__getattr__\u001b[1;34m(self, name)\u001b[0m\n\u001b[0;32m     45\u001b[0m \u001b[39mdef\u001b[39;00m \u001b[39m__getattr__\u001b[39m(\u001b[39mself\u001b[39m, name: \u001b[39mstr\u001b[39m) \u001b[39m-\u001b[39m\u001b[39m>\u001b[39m Any:\n\u001b[0;32m     46\u001b[0m     \u001b[39mif\u001b[39;00m name \u001b[39mnot\u001b[39;00m \u001b[39min\u001b[39;00m \u001b[39mself\u001b[39m\u001b[39m.\u001b[39m_extensions:\n\u001b[1;32m---> 47\u001b[0m         \u001b[39mraise\u001b[39;00m \u001b[39mAttributeError\u001b[39;00m(Errors\u001b[39m.\u001b[39mE046\u001b[39m.\u001b[39mformat(name\u001b[39m=\u001b[39mname))\n\u001b[0;32m     48\u001b[0m     default, method, getter, setter \u001b[39m=\u001b[39m \u001b[39mself\u001b[39m\u001b[39m.\u001b[39m_extensions[name]\n\u001b[0;32m     49\u001b[0m     \u001b[39mif\u001b[39;00m getter \u001b[39mis\u001b[39;00m \u001b[39mnot\u001b[39;00m \u001b[39mNone\u001b[39;00m:\n",
      "\u001b[1;31mAttributeError\u001b[0m: [E046] Can't retrieve unregistered extension attribute 'language'. Did you forget to call the `set_extension` method?"
     ]
    }
   ],
   "source": [
    "def guess_country_by_town_name(town_name):\n",
    "    nlp = spacy.load(\"en_core_web_sm\")\n",
    "    doc = nlp(town_name)\n",
    "\n",
    "    # Extract the language of the town name\n",
    "    language = doc._.language[\"language\"]\n",
    "\n",
    "    # Use a simple mapping to guess the country based on language\n",
    "    country_mapping = {\n",
    "        \"en\": \"United Kingdom\",\n",
    "        \"es\": \"Spain\",\n",
    "        \"fr\": \"France\",\n",
    "        \"ru\" : \"Russia\"\n",
    "    }\n",
    "\n",
    "    # Make an educated guess based on language\n",
    "    guessed_country = country_mapping.get(language, \"Unknown\")\n",
    "\n",
    "    return guessed_country\n",
    "\n",
    "town_name = \"Kaliningrad\"\n",
    "guessed_country = guess_country_by_town_name(town_name)\n",
    "\n",
    "print(f\"The town {town_name} is likely in {guessed_country}.\")"
   ]
  },
  {
   "cell_type": "code",
   "execution_count": 52,
   "metadata": {},
   "outputs": [
    {
     "data": {
      "text/plain": [
       "(Kaliningrad, russia)"
      ]
     },
     "execution_count": 52,
     "metadata": {},
     "output_type": "execute_result"
    }
   ],
   "source": [
    "doc = nlp(\"Kaliningrad is a beautiful town situated in russia\")\n",
    "doc.ents"
   ]
  },
  {
   "cell_type": "code",
   "execution_count": 58,
   "metadata": {},
   "outputs": [
    {
     "name": "stdout",
     "output_type": "stream",
     "text": [
      "[[], ['District 11'], ['Induchoodan', 'Induchoodan', 'Induchoodan', 'Induchoodan'], ['Brainy'], ['the Outback'], [], [], ['Jewish'], [], [], ['Hispanic', 'Caucasian'], [], [], ['American', 'Jews', 'British', 'Jewish', 'British', 'British', 'Danish-Jewish', 'Zionist', 'Arab', 'Jewish', 'Zionist', 'Akiva', 'Nazis', 'Jewish', 'Jewish', 'British', 'Jewish', 'Mount Tabor', 'Lebanese', 'British', 'Arab', 'Arab', 'Arab', 'Arab', 'Jewish', 'Jews', 'Arabs'], [], [], [], [], ['Italian', 'Italian'], ['Vietnamese', 'Vietnamese'], ['English', 'Australian', 'Africa', 'Italian', 'Germans'], [], ['Catholic'], ['West Point'], ['Africans', 'African', 'African'], ['Madhav'], ['Govinda', 'Swaroop', 'Swaroop', 'Govinda', 'Swaroop', 'Swaroop', 'Swaroop', 'Swaroop', 'Swaroop', 'Swaroop', 'Govinda', 'Govinda', 'Govinda', 'Shambu'], ['Stooges'], ['Patel'], ['Indian'], ['Nazirite', 'Philistines', 'Delilah', 'Philistines', 'Philistines'], ['Russian'], [], [], ['Europe'], ['Indians', 'Indians'], ['Amici'], [], [], [], ['Xian', 'the Battle of Changban', 'Zhuge', 'Western', 'Asian', 'Western', 'North America'], ['Japanese', 'Japanese', 'Manchurian', 'Manchurian', 'Japanese', 'Manchurian', 'Japanese', 'Japanese', 'Mexican', 'Manchurian'], ['British-Russian', 'Trans-Siberian', 'Russian', 'Ukrainian', 'the River Thames', 'Chechen', 'kurdish', 'Chechen'], [], ['Sifnos', 'Sifnos'], [], ['the Kashmir valley'], ['Florian'], ['British'], ['Wind and Cloud'], [], [], ['Cannes'], [], [], [], [], ['Europe', 'Germans', 'German', 'the Atlantic Ocean', 'British', 'American', 'Americans', 'German', 'Germans', 'Americans', 'German', 'American', 'Germans', 'Americans'], [], ['Homeless'], ['Frenchman'], [], [], ['Latin'], ['Sean', 'Sean', 'Sean', 'Sean', 'Jake', 'Amity Island'], ['Indu'], [], [], ['Yaeli', 'Yaeli', 'Yaeli', 'African', 'Egyptian', 'Israeli'], [], ['Mexican'], [], ['African', 'Tanzanian'], [], ['Oriental', 'Siberia', 'Chinese', 'Chinese', 'Orient'], ['the Great Valley', 'the Great Valley', 'the Great Valley', 'the Great Valley', 'the Great Valley’s', 'Valley', 'Valley', 'the Great Valley', 'Valley'], [], ['Hollis', 'Hollis', 'Willis'], ['Spanish'], [], ['French'], ['African', 'African American', 'African', 'Baptist', 'the American South', 'Africans', 'Baptists', 'African Americans', 'African American', 'Caribbean', 'Caucasian'], ['Soviet', 'Soviet', 'Earth', 'Earth', 'Soviet', 'Far East', 'Soviet', 'Chilean'], [], ['Regina'], [], ['Vietnamese'], ['Japanese', 'Chinese', 'Chinese', 'Japanese', 'fu', 'Japanese'], ['Karthikeyan', 'Chitra', 'Chitra', 'Chitra', 'Chitra', 'Chitra', 'Chitra', 'Chitra', 'Chitra', 'Chitra', 'Chitra', 'Chitra'], [], ['Rajveer Singh'], [], ['Chutki', 'Chutki', 'Vivaan', 'Chutki'], ['Central Asian'], ['Polish', 'German', 'Nazi', 'Crematorium Two', 'American'], [], ['Gulf', 'the Middle East'], [], ['Christians', 'Christians', 'Japanese', 'Christian', 'Christians', 'Christian', 'Christians', 'Christians', 'Christians', 'Christians', 'Christian', 'Jubei', 'Jubei', 'Jubei', 'Jubei', 'Jubei', 'Jubei', 'Jubei', 'Jubei', 'Satan', 'Jubei', 'Jubei', 'Jubei', 'Jubei', 'buddhist'], ['Southern Rhodesia', 'American', 'Iroquois', 'African', 'Rhodesian', 'South African', 'Iroquois']]\n"
     ]
    }
   ],
   "source": [
    "list= []\n",
    "for i in range(100):\n",
    "    doc = nlp(df.summary[i])\n",
    "    list.append([ent.text for ent in doc.ents if ent.label_ in[\"NORP\",\"LOC\"] ])\n",
    "print(list)\n"
   ]
  }
 ],
 "metadata": {
  "kernelspec": {
   "display_name": "base",
   "language": "python",
   "name": "python3"
  },
  "language_info": {
   "codemirror_mode": {
    "name": "ipython",
    "version": 3
   },
   "file_extension": ".py",
   "mimetype": "text/x-python",
   "name": "python",
   "nbconvert_exporter": "python",
   "pygments_lexer": "ipython3",
   "version": "3.11.5"
  }
 },
 "nbformat": 4,
 "nbformat_minor": 2
}
