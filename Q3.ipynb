{
 "cells": [
  {
   "cell_type": "code",
   "execution_count": 1,
   "metadata": {},
   "outputs": [],
   "source": [
    "import pandas as pd\n",
    "import matplotlib.pyplot as plt\n",
    "import seaborn as sns \n",
    "from ast import literal_eval \n",
    "import plotly.express as px\n",
    "import numpy as np\n",
    "import json\n",
    "\n",
    "import spacy\n",
    "nlp = spacy.load(\"en_core_web_sm\")\n"
   ]
  },
  {
   "cell_type": "code",
   "execution_count": 2,
   "metadata": {},
   "outputs": [
    {
     "data": {
      "text/html": [
       "<div>\n",
       "<style scoped>\n",
       "    .dataframe tbody tr th:only-of-type {\n",
       "        vertical-align: middle;\n",
       "    }\n",
       "\n",
       "    .dataframe tbody tr th {\n",
       "        vertical-align: top;\n",
       "    }\n",
       "\n",
       "    .dataframe thead th {\n",
       "        text-align: right;\n",
       "    }\n",
       "</style>\n",
       "<table border=\"1\" class=\"dataframe\">\n",
       "  <thead>\n",
       "    <tr style=\"text-align: right;\">\n",
       "      <th></th>\n",
       "      <th>release_date</th>\n",
       "      <th>PlotSummaries</th>\n",
       "    </tr>\n",
       "  </thead>\n",
       "  <tbody>\n",
       "    <tr>\n",
       "      <th>0</th>\n",
       "      <td>2007.0</td>\n",
       "      <td>Three friends -– Arlene , Shanna , and radio D...</td>\n",
       "    </tr>\n",
       "    <tr>\n",
       "      <th>1</th>\n",
       "      <td>2007.0</td>\n",
       "      <td>{{plot}} The movie opens with the first traile...</td>\n",
       "    </tr>\n",
       "    <tr>\n",
       "      <th>5</th>\n",
       "      <td>2007.0</td>\n",
       "      <td>Om Prakash Makhija is a junior artiste in the ...</td>\n",
       "    </tr>\n",
       "    <tr>\n",
       "      <th>6</th>\n",
       "      <td>2007.0</td>\n",
       "      <td>Shot in both Latin America and the United Stat...</td>\n",
       "    </tr>\n",
       "    <tr>\n",
       "      <th>9</th>\n",
       "      <td>2008.0</td>\n",
       "      <td>The film is presented as found footage from a...</td>\n",
       "    </tr>\n",
       "    <tr>\n",
       "      <th>...</th>\n",
       "      <td>...</td>\n",
       "      <td>...</td>\n",
       "    </tr>\n",
       "    <tr>\n",
       "      <th>88012</th>\n",
       "      <td>2010.0</td>\n",
       "      <td>The film is about two friends, Tayyar , a mafi...</td>\n",
       "    </tr>\n",
       "    <tr>\n",
       "      <th>88013</th>\n",
       "      <td>1941.0</td>\n",
       "      <td>{{plot}} The film opens with a Great Western e...</td>\n",
       "    </tr>\n",
       "    <tr>\n",
       "      <th>88015</th>\n",
       "      <td>2011.0</td>\n",
       "      <td>Two former National Oceanic Atmospheric Admini...</td>\n",
       "    </tr>\n",
       "    <tr>\n",
       "      <th>88017</th>\n",
       "      <td>1992.0</td>\n",
       "      <td>The story takes place in the year 2092,The Sup...</td>\n",
       "    </tr>\n",
       "    <tr>\n",
       "      <th>88018</th>\n",
       "      <td>2002.0</td>\n",
       "      <td>The movie is about a teenage girl who loves ho...</td>\n",
       "    </tr>\n",
       "  </tbody>\n",
       "</table>\n",
       "<p>39521 rows × 2 columns</p>\n",
       "</div>"
      ],
      "text/plain": [
       "       release_date                                      PlotSummaries\n",
       "0            2007.0  Three friends -– Arlene , Shanna , and radio D...\n",
       "1            2007.0  {{plot}} The movie opens with the first traile...\n",
       "5            2007.0  Om Prakash Makhija is a junior artiste in the ...\n",
       "6            2007.0  Shot in both Latin America and the United Stat...\n",
       "9            2008.0   The film is presented as found footage from a...\n",
       "...             ...                                                ...\n",
       "88012        2010.0  The film is about two friends, Tayyar , a mafi...\n",
       "88013        1941.0  {{plot}} The film opens with a Great Western e...\n",
       "88015        2011.0  Two former National Oceanic Atmospheric Admini...\n",
       "88017        1992.0  The story takes place in the year 2092,The Sup...\n",
       "88018        2002.0  The movie is about a teenage girl who loves ho...\n",
       "\n",
       "[39521 rows x 2 columns]"
      ]
     },
     "metadata": {},
     "output_type": "display_data"
    }
   ],
   "source": [
    "df = pd.read_csv('data\\merged_file.csv',low_memory=False)\n",
    "df= df.dropna(subset='PlotSummaries')\n",
    "\n",
    "df_sum = df[['release_date','PlotSummaries']]\n",
    "df_sum = df_sum[df_sum['release_date'] >= 1910] \n",
    "display(df_sum.dropna(subset='release_date'))"
   ]
  },
  {
   "cell_type": "code",
   "execution_count": 3,
   "metadata": {},
   "outputs": [],
   "source": [
    "# Load spaCy model with disabled components for efficiency\n",
    "nlp = spacy.load(\"en_core_web_sm\", disable=[\"parser\", \"ner\"])\n",
    "\n",
    "# Pre-compile the list of stop words for faster checking\n",
    "stop_words = nlp.Defaults.stop_words\n",
    "\n",
    "# Function to check if token should be included\n",
    "def is_token_allowed(token):\n",
    "    return not token.is_punct and token.pos_ in [\"ADJ\", \"PROPN\", \"NOUN\"] and token.text.lower() not in stop_words\n",
    "\n",
    "# Function to preprocess token\n",
    "def preprocess_token(token):\n",
    "    return token.lemma_.strip().lower()\n",
    "\n",
    "def process_text(summary):\n",
    "    # Ensure the text is treated as a writable string\n",
    "    doc = nlp(summary)\n",
    "    # Convert the processed tokens to strings to avoid any complex types\n",
    "    return [preprocess_token(token) for token in doc if is_token_allowed(token)]\n",
    "\n",
    "# 10 mins        \n",
    "df_sum['tokens']= df_sum['PlotSummaries'].apply(lambda x: process_text(x))\n",
    "\n"
   ]
  },
  {
   "cell_type": "code",
   "execution_count": 4,
   "metadata": {},
   "outputs": [
    {
     "data": {
      "text/plain": [
       "['frenchman']"
      ]
     },
     "execution_count": 4,
     "metadata": {},
     "output_type": "execute_result"
    }
   ],
   "source": [
    "process_text(\"frenchmen\")"
   ]
  },
  {
   "cell_type": "code",
   "execution_count": 5,
   "metadata": {},
   "outputs": [
    {
     "data": {
      "text/html": [
       "<div>\n",
       "<style scoped>\n",
       "    .dataframe tbody tr th:only-of-type {\n",
       "        vertical-align: middle;\n",
       "    }\n",
       "\n",
       "    .dataframe tbody tr th {\n",
       "        vertical-align: top;\n",
       "    }\n",
       "\n",
       "    .dataframe thead th {\n",
       "        text-align: right;\n",
       "    }\n",
       "</style>\n",
       "<table border=\"1\" class=\"dataframe\">\n",
       "  <thead>\n",
       "    <tr style=\"text-align: right;\">\n",
       "      <th></th>\n",
       "      <th>release_date</th>\n",
       "      <th>PlotSummaries</th>\n",
       "      <th>tokens</th>\n",
       "    </tr>\n",
       "  </thead>\n",
       "  <tbody>\n",
       "    <tr>\n",
       "      <th>0</th>\n",
       "      <td>2007.0</td>\n",
       "      <td>Three friends -– Arlene , Shanna , and radio D...</td>\n",
       "      <td>[friend, arlene, shanna, radio, dj, jungle, ju...</td>\n",
       "    </tr>\n",
       "    <tr>\n",
       "      <th>1</th>\n",
       "      <td>2007.0</td>\n",
       "      <td>{{plot}} The movie opens with the first traile...</td>\n",
       "      <td>[plot, movie, trailer, machete, rural, town, t...</td>\n",
       "    </tr>\n",
       "    <tr>\n",
       "      <th>5</th>\n",
       "      <td>2007.0</td>\n",
       "      <td>Om Prakash Makhija is a junior artiste in the ...</td>\n",
       "      <td>[om, prakash, makhija, junior, artiste, bollyw...</td>\n",
       "    </tr>\n",
       "    <tr>\n",
       "      <th>6</th>\n",
       "      <td>2007.0</td>\n",
       "      <td>Shot in both Latin America and the United Stat...</td>\n",
       "      <td>[latin, america, united, states, film, histori...</td>\n",
       "    </tr>\n",
       "    <tr>\n",
       "      <th>9</th>\n",
       "      <td>2008.0</td>\n",
       "      <td>The film is presented as found footage from a...</td>\n",
       "      <td>[film, footage, personal, video, camera, unite...</td>\n",
       "    </tr>\n",
       "    <tr>\n",
       "      <th>...</th>\n",
       "      <td>...</td>\n",
       "      <td>...</td>\n",
       "      <td>...</td>\n",
       "    </tr>\n",
       "    <tr>\n",
       "      <th>88012</th>\n",
       "      <td>2010.0</td>\n",
       "      <td>The film is about two friends, Tayyar , a mafi...</td>\n",
       "      <td>[film, friend, tayyar, mafia, leader, davut, n...</td>\n",
       "    </tr>\n",
       "    <tr>\n",
       "      <th>88013</th>\n",
       "      <td>1941.0</td>\n",
       "      <td>{{plot}} The film opens with a Great Western e...</td>\n",
       "      <td>[plot, film, great, western, express, speeding...</td>\n",
       "    </tr>\n",
       "    <tr>\n",
       "      <th>88015</th>\n",
       "      <td>2011.0</td>\n",
       "      <td>Two former National Oceanic Atmospheric Admini...</td>\n",
       "      <td>[national, oceanic, atmospheric, administratio...</td>\n",
       "    </tr>\n",
       "    <tr>\n",
       "      <th>88017</th>\n",
       "      <td>1992.0</td>\n",
       "      <td>The story takes place in the year 2092,The Sup...</td>\n",
       "      <td>[story, place, year, super, dimension, fortres...</td>\n",
       "    </tr>\n",
       "    <tr>\n",
       "      <th>88018</th>\n",
       "      <td>2002.0</td>\n",
       "      <td>The movie is about a teenage girl who loves ho...</td>\n",
       "      <td>[movie, teenage, girl, horror, movie, time, fr...</td>\n",
       "    </tr>\n",
       "  </tbody>\n",
       "</table>\n",
       "<p>39521 rows × 3 columns</p>\n",
       "</div>"
      ],
      "text/plain": [
       "       release_date                                      PlotSummaries  \\\n",
       "0            2007.0  Three friends -– Arlene , Shanna , and radio D...   \n",
       "1            2007.0  {{plot}} The movie opens with the first traile...   \n",
       "5            2007.0  Om Prakash Makhija is a junior artiste in the ...   \n",
       "6            2007.0  Shot in both Latin America and the United Stat...   \n",
       "9            2008.0   The film is presented as found footage from a...   \n",
       "...             ...                                                ...   \n",
       "88012        2010.0  The film is about two friends, Tayyar , a mafi...   \n",
       "88013        1941.0  {{plot}} The film opens with a Great Western e...   \n",
       "88015        2011.0  Two former National Oceanic Atmospheric Admini...   \n",
       "88017        1992.0  The story takes place in the year 2092,The Sup...   \n",
       "88018        2002.0  The movie is about a teenage girl who loves ho...   \n",
       "\n",
       "                                                  tokens  \n",
       "0      [friend, arlene, shanna, radio, dj, jungle, ju...  \n",
       "1      [plot, movie, trailer, machete, rural, town, t...  \n",
       "5      [om, prakash, makhija, junior, artiste, bollyw...  \n",
       "6      [latin, america, united, states, film, histori...  \n",
       "9      [film, footage, personal, video, camera, unite...  \n",
       "...                                                  ...  \n",
       "88012  [film, friend, tayyar, mafia, leader, davut, n...  \n",
       "88013  [plot, film, great, western, express, speeding...  \n",
       "88015  [national, oceanic, atmospheric, administratio...  \n",
       "88017  [story, place, year, super, dimension, fortres...  \n",
       "88018  [movie, teenage, girl, horror, movie, time, fr...  \n",
       "\n",
       "[39521 rows x 3 columns]"
      ]
     },
     "metadata": {},
     "output_type": "display_data"
    }
   ],
   "source": [
    "display(df_sum)"
   ]
  },
  {
   "cell_type": "markdown",
   "metadata": {},
   "source": [
    "The way we looked at the representation of different ethnicities or demographic groups through time is by identifying ethnicity related words in the movie summaries. We decided to include locations as well since in the case of nationality, location play a great role in representation of a group. This method of search for representation is partially flawed because all summaries do not precise the location or ethnicity of their characters, which reduces greatly our sample size. Moreover, the way the words are counted favors historical films which may have a lot more nationality related words in their summary, even when other film are taking place in historically relevant places but are not historical."
   ]
  },
  {
   "cell_type": "code",
   "execution_count": 6,
   "metadata": {},
   "outputs": [
    {
     "data": {
      "text/html": [
       "<div>\n",
       "<style scoped>\n",
       "    .dataframe tbody tr th:only-of-type {\n",
       "        vertical-align: middle;\n",
       "    }\n",
       "\n",
       "    .dataframe tbody tr th {\n",
       "        vertical-align: top;\n",
       "    }\n",
       "\n",
       "    .dataframe thead th {\n",
       "        text-align: right;\n",
       "    }\n",
       "</style>\n",
       "<table border=\"1\" class=\"dataframe\">\n",
       "  <thead>\n",
       "    <tr style=\"text-align: right;\">\n",
       "      <th></th>\n",
       "      <th>Ethnicity</th>\n",
       "      <th>Keywords</th>\n",
       "    </tr>\n",
       "  </thead>\n",
       "  <tbody>\n",
       "    <tr>\n",
       "      <th>0</th>\n",
       "      <td>French</td>\n",
       "      <td>['french', 'france', 'paris', 'lyon', 'marseil...</td>\n",
       "    </tr>\n",
       "    <tr>\n",
       "      <th>1</th>\n",
       "      <td>German</td>\n",
       "      <td>['german', 'germany', 'berlin', 'bavarian', 'f...</td>\n",
       "    </tr>\n",
       "    <tr>\n",
       "      <th>2</th>\n",
       "      <td>Italian</td>\n",
       "      <td>['italian', 'italy', 'rome', 'venetian', 'tusc...</td>\n",
       "    </tr>\n",
       "    <tr>\n",
       "      <th>3</th>\n",
       "      <td>Spanish</td>\n",
       "      <td>['spanish', 'spain', 'madrid', 'barcelona', 'a...</td>\n",
       "    </tr>\n",
       "    <tr>\n",
       "      <th>4</th>\n",
       "      <td>Chinese</td>\n",
       "      <td>['chinese', 'china', 'beijing', 'shanghai', 'h...</td>\n",
       "    </tr>\n",
       "    <tr>\n",
       "      <th>5</th>\n",
       "      <td>Japanese</td>\n",
       "      <td>['japanese', 'japan', 'tokyo', 'osaka', 'kyoto...</td>\n",
       "    </tr>\n",
       "    <tr>\n",
       "      <th>6</th>\n",
       "      <td>Indian</td>\n",
       "      <td>['indian', 'india', 'delhi', 'mumbai', 'rajast...</td>\n",
       "    </tr>\n",
       "    <tr>\n",
       "      <th>7</th>\n",
       "      <td>Russian</td>\n",
       "      <td>['russian', 'russia', 'moscow', 'stpetersburg'...</td>\n",
       "    </tr>\n",
       "    <tr>\n",
       "      <th>8</th>\n",
       "      <td>Mexican</td>\n",
       "      <td>['mexican', 'mexico', 'mexico city', 'guadalaj...</td>\n",
       "    </tr>\n",
       "    <tr>\n",
       "      <th>9</th>\n",
       "      <td>Brazilian</td>\n",
       "      <td>['brazilian', 'brazil', 'rio', 'saopaulo', 'am...</td>\n",
       "    </tr>\n",
       "    <tr>\n",
       "      <th>10</th>\n",
       "      <td>Canadian</td>\n",
       "      <td>['canadian', 'canada', 'toronto', 'vancouver',...</td>\n",
       "    </tr>\n",
       "    <tr>\n",
       "      <th>11</th>\n",
       "      <td>Australian</td>\n",
       "      <td>['australian', 'australia', 'sydney', 'melbour...</td>\n",
       "    </tr>\n",
       "    <tr>\n",
       "      <th>12</th>\n",
       "      <td>African</td>\n",
       "      <td>['african', 'africa', 'nigerian', 'niger', 'ke...</td>\n",
       "    </tr>\n",
       "    <tr>\n",
       "      <th>13</th>\n",
       "      <td>Middle Eastern</td>\n",
       "      <td>['middleeastern', 'middleeast', 'arab', 'israe...</td>\n",
       "    </tr>\n",
       "    <tr>\n",
       "      <th>14</th>\n",
       "      <td>Scandinavian</td>\n",
       "      <td>['scandinavian', 'scandinavia', 'swedish', 'no...</td>\n",
       "    </tr>\n",
       "    <tr>\n",
       "      <th>15</th>\n",
       "      <td>American</td>\n",
       "      <td>['american', 'newyork', 'losangeles', 'chicago']</td>\n",
       "    </tr>\n",
       "    <tr>\n",
       "      <th>16</th>\n",
       "      <td>English</td>\n",
       "      <td>['british', 'london', 'manchester', 'birmingha...</td>\n",
       "    </tr>\n",
       "    <tr>\n",
       "      <th>17</th>\n",
       "      <td>Vietnamese</td>\n",
       "      <td>['viet', 'vietnamese', 'vietnam', 'hanoi', 'sa...</td>\n",
       "    </tr>\n",
       "    <tr>\n",
       "      <th>18</th>\n",
       "      <td>Afghan</td>\n",
       "      <td>['afghanistan', 'kabul', 'herat', 'kandahar', ...</td>\n",
       "    </tr>\n",
       "    <tr>\n",
       "      <th>19</th>\n",
       "      <td>Ukrainian</td>\n",
       "      <td>['ukrainian', 'ukraine', 'kiev', 'kharkiv', 'l...</td>\n",
       "    </tr>\n",
       "    <tr>\n",
       "      <th>20</th>\n",
       "      <td>Thai</td>\n",
       "      <td>['thai', 'thailand', 'bangkok', 'chiangmai', '...</td>\n",
       "    </tr>\n",
       "    <tr>\n",
       "      <th>21</th>\n",
       "      <td>Malaysian</td>\n",
       "      <td>['malaysian', 'malaysia', 'kualalumpur', 'pena...</td>\n",
       "    </tr>\n",
       "    <tr>\n",
       "      <th>22</th>\n",
       "      <td>Soviet</td>\n",
       "      <td>['soviet', 'ussr']</td>\n",
       "    </tr>\n",
       "    <tr>\n",
       "      <th>23</th>\n",
       "      <td>Iranian</td>\n",
       "      <td>['iranian', 'iran']</td>\n",
       "    </tr>\n",
       "    <tr>\n",
       "      <th>24</th>\n",
       "      <td>Nazi</td>\n",
       "      <td>['nazi', 'nazis']</td>\n",
       "    </tr>\n",
       "    <tr>\n",
       "      <th>25</th>\n",
       "      <td>Jewish</td>\n",
       "      <td>['jewish', 'jews', 'jew', 'ashkenazy']</td>\n",
       "    </tr>\n",
       "    <tr>\n",
       "      <th>26</th>\n",
       "      <td>Islamic</td>\n",
       "      <td>['islamic', 'muslim', 'islam', 'muslims']</td>\n",
       "    </tr>\n",
       "    <tr>\n",
       "      <th>27</th>\n",
       "      <td>LGBTQ</td>\n",
       "      <td>['pansexual', 'homo', 'homosexual', 'queer', '...</td>\n",
       "    </tr>\n",
       "    <tr>\n",
       "      <th>28</th>\n",
       "      <td>Man</td>\n",
       "      <td>['man', 'men']</td>\n",
       "    </tr>\n",
       "    <tr>\n",
       "      <th>29</th>\n",
       "      <td>Woman</td>\n",
       "      <td>['woman', 'women']</td>\n",
       "    </tr>\n",
       "    <tr>\n",
       "      <th>30</th>\n",
       "      <td>Boy</td>\n",
       "      <td>['boy']</td>\n",
       "    </tr>\n",
       "    <tr>\n",
       "      <th>31</th>\n",
       "      <td>Girl</td>\n",
       "      <td>['girl']</td>\n",
       "    </tr>\n",
       "    <tr>\n",
       "      <th>32</th>\n",
       "      <td>Elderly</td>\n",
       "      <td>['old', 'elderly', 'grandma', 'grandpa']</td>\n",
       "    </tr>\n",
       "  </tbody>\n",
       "</table>\n",
       "</div>"
      ],
      "text/plain": [
       "         Ethnicity                                           Keywords\n",
       "0           French  ['french', 'france', 'paris', 'lyon', 'marseil...\n",
       "1           German  ['german', 'germany', 'berlin', 'bavarian', 'f...\n",
       "2          Italian  ['italian', 'italy', 'rome', 'venetian', 'tusc...\n",
       "3          Spanish  ['spanish', 'spain', 'madrid', 'barcelona', 'a...\n",
       "4          Chinese  ['chinese', 'china', 'beijing', 'shanghai', 'h...\n",
       "5         Japanese  ['japanese', 'japan', 'tokyo', 'osaka', 'kyoto...\n",
       "6           Indian  ['indian', 'india', 'delhi', 'mumbai', 'rajast...\n",
       "7          Russian  ['russian', 'russia', 'moscow', 'stpetersburg'...\n",
       "8          Mexican  ['mexican', 'mexico', 'mexico city', 'guadalaj...\n",
       "9        Brazilian  ['brazilian', 'brazil', 'rio', 'saopaulo', 'am...\n",
       "10        Canadian  ['canadian', 'canada', 'toronto', 'vancouver',...\n",
       "11      Australian  ['australian', 'australia', 'sydney', 'melbour...\n",
       "12         African  ['african', 'africa', 'nigerian', 'niger', 'ke...\n",
       "13  Middle Eastern  ['middleeastern', 'middleeast', 'arab', 'israe...\n",
       "14    Scandinavian  ['scandinavian', 'scandinavia', 'swedish', 'no...\n",
       "15        American   ['american', 'newyork', 'losangeles', 'chicago']\n",
       "16         English  ['british', 'london', 'manchester', 'birmingha...\n",
       "17      Vietnamese  ['viet', 'vietnamese', 'vietnam', 'hanoi', 'sa...\n",
       "18          Afghan  ['afghanistan', 'kabul', 'herat', 'kandahar', ...\n",
       "19       Ukrainian  ['ukrainian', 'ukraine', 'kiev', 'kharkiv', 'l...\n",
       "20            Thai  ['thai', 'thailand', 'bangkok', 'chiangmai', '...\n",
       "21       Malaysian  ['malaysian', 'malaysia', 'kualalumpur', 'pena...\n",
       "22          Soviet                                 ['soviet', 'ussr']\n",
       "23         Iranian                                ['iranian', 'iran']\n",
       "24            Nazi                                  ['nazi', 'nazis']\n",
       "25          Jewish             ['jewish', 'jews', 'jew', 'ashkenazy']\n",
       "26         Islamic          ['islamic', 'muslim', 'islam', 'muslims']\n",
       "27           LGBTQ  ['pansexual', 'homo', 'homosexual', 'queer', '...\n",
       "28             Man                                     ['man', 'men']\n",
       "29           Woman                                 ['woman', 'women']\n",
       "30             Boy                                            ['boy']\n",
       "31            Girl                                           ['girl']\n",
       "32         Elderly           ['old', 'elderly', 'grandma', 'grandpa']"
      ]
     },
     "execution_count": 6,
     "metadata": {},
     "output_type": "execute_result"
    }
   ],
   "source": [
    "data = {\n",
    "    \"Ethnicity\": [\n",
    "        \"French\", \"German\", \"Italian\", \"Spanish\", \"Chinese\", \"Japanese\", \"Indian\", \n",
    "        \"Russian\", \"Mexican\", \"Brazilian\", \"Canadian\", \"Australian\", \"African\", \n",
    "        \"Middle Eastern\", \"Scandinavian\", \"American\", 'English', 'Vietnamese', \n",
    "        'Afghan', 'Ukrainian', 'Thai', 'Malaysian','Soviet','Iranian'\n",
    "    ],\n",
    "    \"Keywords\": [\n",
    "        [\"french\", \"france\", \"paris\", \"lyon\", \"marseille\", \"alsace\", \"provence\", \"normandy\", \"verdun\", \"vichy\"],\n",
    "        [\"german\", \"germany\", \"berlin\", \"bavarian\", \"frankfurt\", \"blackforest\", \"ruhr\", \"stalingrad\", \"dresden\", \"berlinwall\"],\n",
    "        [\"italian\", \"italy\", \"rome\", \"venetian\", \"tuscany\", \"sicily\", \"naples\"],\n",
    "        [\"spanish\", \"spain\", \"madrid\", \"barcelona\", \"andalusia\", \"catalonia\", \"basque\"],\n",
    "        [\"chinese\", \"china\", \"beijing\", \"shanghai\", \"hongkong\", \"tibet\", \"xinjiang\"],\n",
    "        [\"japanese\", \"japan\", \"tokyo\", \"osaka\", \"kyoto\", \"hokkaido\", \"okinawa\", \"hiroshima\", \"nagasaki\"],\n",
    "        [\"indian\", \"india\", \"delhi\", \"mumbai\", \"rajasthan\", \"kerala\", \"punjab\"],\n",
    "        [\"russian\", \"russia\", \"moscow\", \"stpetersburg\", \"siberia\", \"ural\", \"volga\", \"stalingrad\", \"leningrad\"],\n",
    "        [\"mexican\", \"mexico\", \"mexico city\", \"guadalajara\", \"yucatan\", \"oaxaca\", \"chiapas\"],\n",
    "        [\"brazilian\", \"brazil\", \"rio\", \"saopaulo\", \"amazon\", \"pantanal\"],\n",
    "        [\"canadian\", \"canada\", \"toronto\", \"vancouver\", \"quebec\", \"alberta\", \"ontario\", \"vimyridge\"],\n",
    "        [\"australian\", \"australia\", \"sydney\", \"melbourne\", \"greatbarrierreef\", \"outback\", \"tasmania\"],\n",
    "        [\"african\", \"africa\", \"nigerian\",'niger', \"kenyan\",'kenya', \"southafrica\", \"egypt\",\"egyptian\", \"morocco\",'moroccan', \"northafrica\"],\n",
    "        [\"middleeastern\", \"middleeast\", \"arab\", \"israeli\", \"dubai\", \"mesopotamia\", 'iraq','iraqi','israel','kuwait','saudi','arabia','levant'],\n",
    "        [\"scandinavian\", \"scandinavia\", \"swedish\", \"norwegian\", \"lapland\", \"fjords\", \"gotland\"],\n",
    "        [\"american\", \"newyork\", \"losangeles\", \"chicago\"],\n",
    "        [\"british\", 'london', 'manchester', 'birmingham', 'scotland', 'wales', 'northernireland', \"falklands\"],\n",
    "        [\"viet\",'vietnamese', 'vietnam', 'hanoi', 'saigon', 'mekongdelta', 'halongbay', 'hue' ],\n",
    "        [\"afghanistan\", 'kabul', 'herat', 'kandahar', 'hindukush', 'balkh', 'helmand','afghan'],\n",
    "        ['ukrainian', 'ukraine', 'kiev', 'kharkiv', 'lviv', 'donbas', 'crimea'],\n",
    "        ['thai', 'thailand', 'bangkok', 'chiangmai', 'phuket', 'isaan', 'krabi'],\n",
    "        ['malaysian', 'malaysia', 'kualalumpur', 'penang', 'borneo', 'langkawi', 'melaka'],\n",
    "        ['soviet','ussr'],\n",
    "        ['iranian','iran']\n",
    "    ]\n",
    "}\n",
    "\n",
    "eth = pd.DataFrame(data)\n",
    "eth['Keywords'] = eth['Keywords'].apply(str)\n",
    "eth['Ethnicity'] = eth['Ethnicity'].apply(str)\n",
    "\n",
    "data = {\n",
    "    'Ethnicity': ['Nazi','Jewish','Islamic','LGBTQ','Man','Woman','Boy','Girl','Elderly'],\n",
    "    'Keywords': [\n",
    "        ['nazi', 'nazis'],\n",
    "        ['jewish', 'jews','jew','ashkenazy'],\n",
    "        ['islamic', 'muslim', 'islam','muslims'],\n",
    "        ['pansexual', 'homo', 'homosexual', 'queer', 'gay', 'lesbian', 'bisexual', 'transgender','lgbtq'],\n",
    "        ['man','men'],\n",
    "        ['woman','women'],\n",
    "        ['boy'],\n",
    "        ['girl'],\n",
    "        ['old','elderly','grandma','grandpa']\n",
    "    ]\n",
    "}\n",
    "\n",
    "eth2 = pd.DataFrame(data)\n",
    "eth2['Keywords'] = eth2['Keywords'].apply(str)\n",
    "eth2['Ethnicity'] = eth2['Ethnicity'].apply(str)\n",
    "ethmerged= pd.concat([eth,eth2],ignore_index=True)\n",
    "\n",
    "ethmerged\n"
   ]
  },
  {
   "cell_type": "code",
   "execution_count": 7,
   "metadata": {},
   "outputs": [],
   "source": [
    "def plot_occurrences(df, eth, ethnicities, period=5,highlight_periods=None):\n",
    "    data = df.copy()\n",
    "\n",
    "    for et in ethnicities:\n",
    "        index = eth[eth['Ethnicity'] == et].index[0]\n",
    "        occ_list = literal_eval(eth.at[index, 'Keywords'])\n",
    "\n",
    "        def count_words(word_list):\n",
    "            return [word.lower() in occ_list for word in word_list].count(True)\n",
    "\n",
    "        # Apply the function to count ethnicity-related words for each row\n",
    "        data[et] = data['tokens'].apply(lambda x: count_words(x))\n",
    "\n",
    "    # Group by release year and sum the counts\n",
    "    data['release_period'] = data['release_date'] // period * period\n",
    "    counts_by_period = data.groupby('release_period')[ethnicities].sum().reset_index()\n",
    "\n",
    "    # Convert the DataFrame to long format for Plotly\n",
    "    counts_by_period_long = pd.melt(counts_by_period, id_vars='release_period', value_vars=ethnicities)\n",
    "\n",
    "    # Create a stacked bar plot using Plotly Express\n",
    "    fig = px.area(counts_by_period_long, x='release_period', y='value', color='variable',\n",
    "                 title=f'Number of Group-related Words Over the Years ',\n",
    "                 labels={'value': 'Number of Group-related Words', 'variable': 'Ethnicity'},\n",
    "                 category_orders={'variable': ethnicities})\n",
    "\n",
    "    if highlight_periods:\n",
    "        for period_range in highlight_periods:\n",
    "            fig.add_vrect(\n",
    "                x0=period_range[0],\n",
    "                x1=period_range[1],\n",
    "                annotation_text=period_range[2],\n",
    "                annotation_position=\"top left\",\n",
    "                fillcolor='rgba(255, 0, 0, 0.3)', \n",
    "                layer='below',\n",
    "                line=None)\n",
    "\n",
    "    fig.show()"
   ]
  },
  {
   "cell_type": "code",
   "execution_count": 8,
   "metadata": {},
   "outputs": [],
   "source": [
    "def plot_relative_occurrences(df, eth, ethnicities, period=5, highlight_periods=None):\n",
    "    data = df.copy()\n",
    "\n",
    "    for et in ethnicities:\n",
    "        index = eth[eth['Ethnicity'] == et].index[0]\n",
    "        occ_list = literal_eval(eth.at[index, 'Keywords'])\n",
    "\n",
    "        def count_words(word_list):\n",
    "            return sum(word.lower() in occ_list for word in word_list)\n",
    "\n",
    "        # Apply the function to count ethnicity-related words for each row\n",
    "        data[et] = data['tokens'].apply(lambda x: count_words(x))\n",
    "\n",
    "    # Group by release year and sum the counts\n",
    "    data['release_period'] = data['release_date'] // period * period\n",
    "    counts_by_period = data.groupby('release_period')[ethnicities].sum().reset_index()\n",
    "\n",
    "    # Normalize by the total number of words in each period\n",
    "    total_words_by_period = data.groupby('release_period')['tokens'].apply(lambda x: sum(len(word_list) for word_list in x)).reset_index()\n",
    "    counts_by_period = pd.merge(counts_by_period, total_words_by_period, on='release_period', how='left')\n",
    "\n",
    "    for et in ethnicities:\n",
    "        counts_by_period[et] = counts_by_period[et] / counts_by_period['tokens']\n",
    "\n",
    "    # Convert the DataFrame to long format for Plotly\n",
    "    counts_by_period_long = pd.melt(counts_by_period, id_vars='release_period', value_vars=ethnicities)\n",
    "\n",
    "    # Create a stacked area plot using Plotly Express\n",
    "    fig = px.line(counts_by_period_long, x='release_period', y='value', color='variable',\n",
    "                 title='Relative Occurrences of Ethnicity-related Words Over {} Years'.format(period),\n",
    "                 labels={'value': 'Relative Word Occurrence','release_period':'Year' ,'variable': 'Ethnicity'},\n",
    "                 category_orders={'variable': ethnicities})\n",
    "\n",
    "    if highlight_periods:\n",
    "        for period_range in highlight_periods:\n",
    "            fig.add_vrect(\n",
    "                x0=period_range[0],\n",
    "                x1=period_range[1],\n",
    "                annotation_text=period_range[2],\n",
    "                annotation_position=\"top left\",\n",
    "                fillcolor='rgba(255, 0, 0, 0.05)', \n",
    "                layer='below',\n",
    "                line=None)\n",
    "\n",
    "    return fig"
   ]
  },
  {
   "cell_type": "code",
   "execution_count": 9,
   "metadata": {},
   "outputs": [],
   "source": [
    "def get_relative_occurrences(df, eth, ethnicities, period=5):\n",
    "    data = df.copy()\n",
    "\n",
    "    for et in ethnicities:\n",
    "        index = eth[eth['Ethnicity'] == et].index[0]\n",
    "        occ_list = literal_eval(eth.at[index, 'Keywords'])\n",
    "\n",
    "        def count_words(word_list):\n",
    "            return sum(word.lower() in occ_list for word in word_list)\n",
    "\n",
    "        # Apply the function to count ethnicity-related words for each row\n",
    "        data[et] = data['tokens'].apply(lambda x: count_words(x))\n",
    "\n",
    "    # Group by release year and sum the counts\n",
    "    data['release_period'] = data['release_date'] // period * period\n",
    "    counts_by_period = data.groupby('release_period')[ethnicities].sum().reset_index()\n",
    "\n",
    "    # Normalize by the total number of words in each period\n",
    "    total_words_by_period = data.groupby('release_period')['tokens'].apply(lambda x: sum(len(word_list) for word_list in x)).reset_index()\n",
    "    counts_by_period = pd.merge(counts_by_period, total_words_by_period, on='release_period', how='left')\n",
    "\n",
    "    for et in ethnicities:\n",
    "        counts_by_period[et] = counts_by_period[et] / counts_by_period['tokens']\n",
    "\n",
    "    # Convert the DataFrame to long format for Plotly\n",
    "    counts_by_period_long = pd.melt(counts_by_period, id_vars='release_period', value_vars=ethnicities)\n",
    "    return counts_by_period_long\n"
   ]
  },
  {
   "cell_type": "code",
   "execution_count": 10,
   "metadata": {},
   "outputs": [],
   "source": [
    "def get_anomalies_window(data_window):\n",
    "    from sklearn.ensemble import IsolationForest\n",
    "    from sklearn.preprocessing import StandardScaler\n",
    "    import numpy as np\n",
    "\n",
    "    window_size = 5\n",
    "\n",
    "    # Reshape data for the model\n",
    "    X = data_window['value'].values.reshape(-1, 1)\n",
    "\n",
    "    # Standardize the features\n",
    "    scaler = StandardScaler()\n",
    "    X_scaled = scaler.fit_transform(X)\n",
    "\n",
    "    # Fit the Isolation Forest model and get the anomaly score\n",
    "    model = IsolationForest(n_estimators=100, contamination=0.05, random_state=42)\n",
    "    model.fit(X_scaled)\n",
    "    scores = model.decision_function(X_scaled)\n",
    "\n",
    "    # Create a DataFrame for the scores\n",
    "    scores_df = pd.DataFrame(scores, index=data_window.index, columns=['score'])\n",
    "\n",
    "    # Calculate the rolling average of the scores\n",
    "    scores_df['rolling_score'] = scores_df['score'].rolling(window=window_size).mean()\n",
    "\n",
    "    # Define the threshold for anomalies\n",
    "    threshold = scores_df['rolling_score'].quantile(0.03)\n",
    "\n",
    "    # Detect if the rolling score is below the threshold\n",
    "    scores_df['anomaly_window'] = scores_df['rolling_score'] < threshold\n",
    "\n",
    "    # Identify consecutive anomalies and group them\n",
    "    scores_df['group'] = (scores_df['anomaly_window'] != scores_df['anomaly_window'].shift()).cumsum()\n",
    "    groups = scores_df[scores_df['anomaly_window']].groupby('group')\n",
    "\n",
    "    # Create a DataFrame to store the anomaly windows\n",
    "    anomaly_windows = pd.DataFrame({\n",
    "        'start_date': groups.apply(lambda x: data_window.loc[x.index, 'release_period'].min()),\n",
    "        'end_date': groups.apply(lambda x: data_window.loc[x.index, 'release_period'].max()),\n",
    "        'release_date_window': groups.apply(lambda x: data_window.loc[x.index, 'release_period'].tolist())\n",
    "    })\n",
    "\n",
    "    return anomaly_windows\n"
   ]
  },
  {
   "cell_type": "markdown",
   "metadata": {},
   "source": [
    "***For unkwown reasons, the plotly plots do not display correctly on github, but they work just fine localy. We can provide screenshots of them if needed.***"
   ]
  },
  {
   "cell_type": "markdown",
   "metadata": {},
   "source": [
    "We choose to group the occurrences of word by 5 years sinc the year by year data is high variance."
   ]
  },
  {
   "cell_type": "code",
   "execution_count": 11,
   "metadata": {},
   "outputs": [
    {
     "data": {
      "application/vnd.plotly.v1+json": {
       "config": {
        "plotlyServerURL": "https://plot.ly"
       },
       "data": [
        {
         "hovertemplate": "Ethnicity=German<br>Year=%{x}<br>Relative Word Occurrence=%{y}<extra></extra>",
         "legendgroup": "German",
         "line": {
          "color": "#636efa",
          "dash": "solid"
         },
         "marker": {
          "symbol": "circle"
         },
         "mode": "lines",
         "name": "German",
         "orientation": "v",
         "showlegend": true,
         "type": "scatter",
         "x": [
          1910,
          1911,
          1912,
          1913,
          1914,
          1915,
          1916,
          1917,
          1918,
          1919,
          1920,
          1921,
          1922,
          1923,
          1924,
          1925,
          1926,
          1927,
          1928,
          1929,
          1930,
          1931,
          1932,
          1933,
          1934,
          1935,
          1936,
          1937,
          1938,
          1939,
          1940,
          1941,
          1942,
          1943,
          1944,
          1945,
          1946,
          1947,
          1948,
          1949,
          1950,
          1951,
          1952,
          1953,
          1954,
          1955,
          1956,
          1957,
          1958,
          1959,
          1960,
          1961,
          1962,
          1963,
          1964,
          1965,
          1966,
          1967,
          1968,
          1969,
          1970,
          1971,
          1972,
          1973,
          1974,
          1975,
          1976,
          1977,
          1978,
          1979,
          1980,
          1981,
          1982,
          1983,
          1984,
          1985,
          1986,
          1987,
          1988,
          1989,
          1990,
          1991,
          1992,
          1993,
          1994,
          1995,
          1996,
          1997,
          1998,
          1999,
          2000,
          2001,
          2002,
          2003,
          2004,
          2005,
          2006,
          2007,
          2008,
          2009,
          2010,
          2011,
          2012,
          2013,
          2014
         ],
         "xaxis": "x",
         "y": [
          0,
          0,
          0,
          0.0005583472920156337,
          0,
          0.0014675667742882301,
          0.00611387084447841,
          0.005766458433445459,
          0.005139500734214391,
          0.003247711839385887,
          0.00023518344308560678,
          0.0016438356164383563,
          0.0005611672278338945,
          0.00029231218941829873,
          0.00018426386585590566,
          0.0005930025696778019,
          0.0005056890012642225,
          0.0007876082961407193,
          0.0011504537901060974,
          0.0002311604253351826,
          0.00316722972972973,
          0.0008418689490669286,
          0.0014162701110355766,
          0.0011729843190517349,
          0.0008229931628260319,
          0.0006052602619126224,
          0.00031291069528756495,
          0.0007947320617620345,
          0.0006342982354976358,
          0.0011326378539493294,
          0.0022166481945983785,
          0.0022794938593226647,
          0.0034701879309567804,
          0.006658117971986585,
          0.003038558256496228,
          0.0020984665052461663,
          0.001335888946971017,
          0.0006935552710200598,
          0.000481590123024386,
          0.0014959880320957431,
          0.0011150047785919083,
          0.0011387526278906798,
          0.0005311542390194076,
          0.0012232629665874459,
          0.0009694619486185168,
          0.0008119393751933189,
          0.0009294055845152948,
          0.0014509776825813584,
          0.0018730800929047727,
          0.0015890517576858218,
          0.0010381969978803477,
          0.001487574378718936,
          0.0011680175556578062,
          0.000822688893699935,
          0.0010895701833483619,
          0.0031675979641954655,
          0.0018833060905408287,
          0.0009484999648703716,
          0.0013135939219654205,
          0.0021778074396712212,
          0.001178214435027175,
          0.0009366428045761692,
          0.0007817197835237522,
          0.0004236262406197047,
          0.0005193287675679185,
          0.0014438063986874487,
          0.0010504937320540654,
          0.0013361676283024598,
          0.0006546450038683568,
          0.0006335041040048477,
          0.0010770059235325794,
          0.0007297317019775729,
          0.0005545509342977697,
          0.00032881757201104825,
          0.0005648568652703405,
          0.000919393575502852,
          0.00048394902403613486,
          0.000490737332842596,
          0.000222579871930966,
          0.0002925939312576376,
          0.00048432851311146474,
          0.0004508078476630121,
          0.0006349630718845036,
          0.0005993713909801915,
          0.00043946988944585595,
          0.0002826455624646693,
          0.000442031688146644,
          0.0003223087221698815,
          0.0006999243630123841,
          0.00041590609764550937,
          0.0004734228471851486,
          0.0005934938239548945,
          0.0007475254330492164,
          0.000786582023025401,
          0.0009261805183716588,
          0.00047920873054412553,
          0.0005418926833540421,
          0.0004855878613946738,
          0.0007642987558914696,
          0.0004169432573143368,
          0.00034047060603767875,
          0.0006477768154127211,
          0.00040913182227313643,
          0.00202757502027575,
          0
         ],
         "yaxis": "y"
        },
        {
         "hovertemplate": "Ethnicity=Nazi<br>Year=%{x}<br>Relative Word Occurrence=%{y}<extra></extra>",
         "legendgroup": "Nazi",
         "line": {
          "color": "#EF553B",
          "dash": "solid"
         },
         "marker": {
          "symbol": "circle"
         },
         "mode": "lines",
         "name": "Nazi",
         "orientation": "v",
         "showlegend": true,
         "type": "scatter",
         "x": [
          1910,
          1911,
          1912,
          1913,
          1914,
          1915,
          1916,
          1917,
          1918,
          1919,
          1920,
          1921,
          1922,
          1923,
          1924,
          1925,
          1926,
          1927,
          1928,
          1929,
          1930,
          1931,
          1932,
          1933,
          1934,
          1935,
          1936,
          1937,
          1938,
          1939,
          1940,
          1941,
          1942,
          1943,
          1944,
          1945,
          1946,
          1947,
          1948,
          1949,
          1950,
          1951,
          1952,
          1953,
          1954,
          1955,
          1956,
          1957,
          1958,
          1959,
          1960,
          1961,
          1962,
          1963,
          1964,
          1965,
          1966,
          1967,
          1968,
          1969,
          1970,
          1971,
          1972,
          1973,
          1974,
          1975,
          1976,
          1977,
          1978,
          1979,
          1980,
          1981,
          1982,
          1983,
          1984,
          1985,
          1986,
          1987,
          1988,
          1989,
          1990,
          1991,
          1992,
          1993,
          1994,
          1995,
          1996,
          1997,
          1998,
          1999,
          2000,
          2001,
          2002,
          2003,
          2004,
          2005,
          2006,
          2007,
          2008,
          2009,
          2010,
          2011,
          2012,
          2013,
          2014
         ],
         "xaxis": "x",
         "y": [
          0,
          0,
          0,
          0,
          0,
          0,
          0,
          0,
          0,
          0,
          0,
          0,
          0,
          0,
          0,
          0,
          0,
          0,
          0,
          0,
          0,
          0,
          0,
          0.00012347203358439315,
          0.0004431501645986326,
          0.00011004732034774953,
          0,
          0,
          0.00034598085572598315,
          0.0004172876304023845,
          0.0012249897917517355,
          0.0011630070710829921,
          0.0024336382892424175,
          0.003748273821266522,
          0.0018860016764459346,
          0.0007532956685499058,
          0.000987396178195969,
          0.00048015364916773366,
          0.0003502473621995534,
          0.0003626637653565438,
          0.00007964319847085059,
          0.00004379817799579537,
          0.0003268641470888662,
          0.0002796029637914162,
          0.00016157699143641945,
          0.0001546551190844417,
          0.0001616357538287469,
          0.00003454708768050853,
          0.0005619240278714318,
          0.0002270073939551174,
          0.0002595492494700869,
          0.00017500875043752187,
          0.000318550242452129,
          0.00012989824637367397,
          0.00037571385632702135,
          0.0006406377905114425,
          0.0007106815436003127,
          0.000245907398299726,
          0.0004260304611779742,
          0.0005620148231409603,
          0.0001520276690357645,
          0.00006690305746972637,
          0.0003006614552014432,
          0.00006051803437424352,
          0.00012983219189197963,
          0.0007875307629204265,
          0.00021009874641081307,
          0.0005769814758578804,
          0.0002678093197643278,
          0.00022034925356690353,
          0.00034268370294218437,
          0.0005351365814502202,
          0.00028933092224231466,
          0.00019729054320662896,
          0.00029372556994057704,
          0.0004690783548483939,
          0.00008065817067268914,
          0.00017526333315807,
          0.00035955210081156045,
          0.00025817111581556256,
          0.0002594617034525704,
          0.0002344200807847663,
          0.00020051465427931692,
          0.00042394561801037937,
          0.00008240060427109799,
          0.00031091011871113626,
          0.00012432141229124362,
          0.00007437893588535726,
          0.0003386730788769601,
          0.00008087063009773793,
          0.00022160218378879297,
          0.00025965354798026635,
          0.00008592246356887545,
          0.00007945272959852535,
          0.00019536620309402178,
          0.0001405678942929435,
          0.0001423152501737888,
          0.00020187360529890934,
          0.00012207549573266528,
          0.000235902106112059,
          0.00009457516834379966,
          0.00019651656197914013,
          0.00013637727409104546,
          0,
          0
         ],
         "yaxis": "y"
        },
        {
         "hovertemplate": "Ethnicity=Japanese<br>Year=%{x}<br>Relative Word Occurrence=%{y}<extra></extra>",
         "legendgroup": "Japanese",
         "line": {
          "color": "#00cc96",
          "dash": "solid"
         },
         "marker": {
          "symbol": "circle"
         },
         "mode": "lines",
         "name": "Japanese",
         "orientation": "v",
         "showlegend": true,
         "type": "scatter",
         "x": [
          1910,
          1911,
          1912,
          1913,
          1914,
          1915,
          1916,
          1917,
          1918,
          1919,
          1920,
          1921,
          1922,
          1923,
          1924,
          1925,
          1926,
          1927,
          1928,
          1929,
          1930,
          1931,
          1932,
          1933,
          1934,
          1935,
          1936,
          1937,
          1938,
          1939,
          1940,
          1941,
          1942,
          1943,
          1944,
          1945,
          1946,
          1947,
          1948,
          1949,
          1950,
          1951,
          1952,
          1953,
          1954,
          1955,
          1956,
          1957,
          1958,
          1959,
          1960,
          1961,
          1962,
          1963,
          1964,
          1965,
          1966,
          1967,
          1968,
          1969,
          1970,
          1971,
          1972,
          1973,
          1974,
          1975,
          1976,
          1977,
          1978,
          1979,
          1980,
          1981,
          1982,
          1983,
          1984,
          1985,
          1986,
          1987,
          1988,
          1989,
          1990,
          1991,
          1992,
          1993,
          1994,
          1995,
          1996,
          1997,
          1998,
          1999,
          2000,
          2001,
          2002,
          2003,
          2004,
          2005,
          2006,
          2007,
          2008,
          2009,
          2010,
          2011,
          2012,
          2013,
          2014
         ],
         "xaxis": "x",
         "y": [
          0,
          0,
          0,
          0,
          0,
          0,
          0,
          0.0004805382027871216,
          0,
          0,
          0,
          0,
          0,
          0,
          0,
          0,
          0.001011378002528445,
          0.00013126804935678657,
          0.00051131279560271,
          0.0001155802126675913,
          0,
          0.00014031149151115475,
          0.0005098572399728076,
          0.00030868008396098284,
          0,
          0.00022009464069549907,
          0.0003754928343450779,
          0,
          0.0002306539038173221,
          0.00017883755588673621,
          0.000058332847226273116,
          0.00018608113137327876,
          0.0027491099193293973,
          0.0053758137699743535,
          0.002829002514668902,
          0.0022598870056497176,
          0.0004646570250333972,
          0.0009603072983354673,
          0.0001751236810997767,
          0.0008613264427217916,
          0.0006371455877668047,
          0.0007883672039243168,
          0.00040858018386108274,
          0.0009786103732699566,
          0.0012118274357731458,
          0.0012372409526755336,
          0.0015355396613730957,
          0.001554618945622884,
          0.0013111560650333409,
          0.0012971851083149566,
          0.0004325820824501449,
          0.0011813090654532728,
          0.0019820903974799137,
          0.0015154795410261962,
          0.0007889990982867448,
          0.0029896430223867315,
          0.001066022315400469,
          0.0014403147614698237,
          0.0007455533070614549,
          0.00042151111735572026,
          0.0010641936832503516,
          0.000367966816083495,
          0.0010523150932050512,
          0.0013616557734204794,
          0.00045441267162192866,
          0.0009515996718621821,
          0.0011905595629946074,
          0.0005162465836623139,
          0.00047610545735880496,
          0.0011843772379221066,
          0.0005140255544132766,
          0.0003162170708569483,
          0.0007715491259795058,
          0.0008768468586961288,
          0.000655233963713595,
          0.0006754728309816872,
          0.0007864171640587192,
          0.000648474332684859,
          0.0007533472588432695,
          0.0012047985404726252,
          0.0005535183006988169,
          0.0010458742065781882,
          0.00040102930855863384,
          0.0007309407207075506,
          0.0008240060427109799,
          0.0009468626342566421,
          0.0004834721589103919,
          0.0003471017007983339,
          0.0004967205156862081,
          0.0006931768294091823,
          0.0005640782860078366,
          0.000658407210949961,
          0.0005327192741270278,
          0.0009693233011020093,
          0.000853822665373873,
          0.0007156183709458941,
          0.0008101021932969517,
          0.0006983735534664972,
          0.0006740690416542821,
          0.0007899977507008487,
          0.000529620942725278,
          0.0007278391184412597,
          0.00030003000300030005,
          0.0016220600162206002,
          0
         ],
         "yaxis": "y"
        }
       ],
       "layout": {
        "annotations": [
         {
          "showarrow": false,
          "text": "WWI",
          "x": "1914",
          "xanchor": "left",
          "xref": "x",
          "y": 1,
          "yanchor": "top",
          "yref": "y domain"
         },
         {
          "showarrow": false,
          "text": "WWII",
          "x": "1939",
          "xanchor": "left",
          "xref": "x",
          "y": 1,
          "yanchor": "top",
          "yref": "y domain"
         },
         {
          "showarrow": false,
          "text": "Fall of the Berlin Wall",
          "x": "1989",
          "xanchor": "left",
          "xref": "x",
          "y": 1,
          "yanchor": "top",
          "yref": "y domain"
         }
        ],
        "legend": {
         "title": {
          "text": "Ethnicity"
         },
         "tracegroupgap": 0
        },
        "shapes": [
         {
          "fillcolor": "rgba(255, 0, 0, 0.05)",
          "layer": "below",
          "type": "rect",
          "x0": "1914",
          "x1": "1918",
          "xref": "x",
          "y0": 0,
          "y1": 1,
          "yref": "y domain"
         },
         {
          "fillcolor": "rgba(255, 0, 0, 0.05)",
          "layer": "below",
          "type": "rect",
          "x0": "1939",
          "x1": "1945",
          "xref": "x",
          "y0": 0,
          "y1": 1,
          "yref": "y domain"
         },
         {
          "fillcolor": "rgba(255, 0, 0, 0.05)",
          "layer": "below",
          "type": "rect",
          "x0": "1989",
          "x1": "1989",
          "xref": "x",
          "y0": 0,
          "y1": 1,
          "yref": "y domain"
         }
        ],
        "template": {
         "data": {
          "bar": [
           {
            "error_x": {
             "color": "#2a3f5f"
            },
            "error_y": {
             "color": "#2a3f5f"
            },
            "marker": {
             "line": {
              "color": "#E5ECF6",
              "width": 0.5
             },
             "pattern": {
              "fillmode": "overlay",
              "size": 10,
              "solidity": 0.2
             }
            },
            "type": "bar"
           }
          ],
          "barpolar": [
           {
            "marker": {
             "line": {
              "color": "#E5ECF6",
              "width": 0.5
             },
             "pattern": {
              "fillmode": "overlay",
              "size": 10,
              "solidity": 0.2
             }
            },
            "type": "barpolar"
           }
          ],
          "carpet": [
           {
            "aaxis": {
             "endlinecolor": "#2a3f5f",
             "gridcolor": "white",
             "linecolor": "white",
             "minorgridcolor": "white",
             "startlinecolor": "#2a3f5f"
            },
            "baxis": {
             "endlinecolor": "#2a3f5f",
             "gridcolor": "white",
             "linecolor": "white",
             "minorgridcolor": "white",
             "startlinecolor": "#2a3f5f"
            },
            "type": "carpet"
           }
          ],
          "choropleth": [
           {
            "colorbar": {
             "outlinewidth": 0,
             "ticks": ""
            },
            "type": "choropleth"
           }
          ],
          "contour": [
           {
            "colorbar": {
             "outlinewidth": 0,
             "ticks": ""
            },
            "colorscale": [
             [
              0,
              "#0d0887"
             ],
             [
              0.1111111111111111,
              "#46039f"
             ],
             [
              0.2222222222222222,
              "#7201a8"
             ],
             [
              0.3333333333333333,
              "#9c179e"
             ],
             [
              0.4444444444444444,
              "#bd3786"
             ],
             [
              0.5555555555555556,
              "#d8576b"
             ],
             [
              0.6666666666666666,
              "#ed7953"
             ],
             [
              0.7777777777777778,
              "#fb9f3a"
             ],
             [
              0.8888888888888888,
              "#fdca26"
             ],
             [
              1,
              "#f0f921"
             ]
            ],
            "type": "contour"
           }
          ],
          "contourcarpet": [
           {
            "colorbar": {
             "outlinewidth": 0,
             "ticks": ""
            },
            "type": "contourcarpet"
           }
          ],
          "heatmap": [
           {
            "colorbar": {
             "outlinewidth": 0,
             "ticks": ""
            },
            "colorscale": [
             [
              0,
              "#0d0887"
             ],
             [
              0.1111111111111111,
              "#46039f"
             ],
             [
              0.2222222222222222,
              "#7201a8"
             ],
             [
              0.3333333333333333,
              "#9c179e"
             ],
             [
              0.4444444444444444,
              "#bd3786"
             ],
             [
              0.5555555555555556,
              "#d8576b"
             ],
             [
              0.6666666666666666,
              "#ed7953"
             ],
             [
              0.7777777777777778,
              "#fb9f3a"
             ],
             [
              0.8888888888888888,
              "#fdca26"
             ],
             [
              1,
              "#f0f921"
             ]
            ],
            "type": "heatmap"
           }
          ],
          "heatmapgl": [
           {
            "colorbar": {
             "outlinewidth": 0,
             "ticks": ""
            },
            "colorscale": [
             [
              0,
              "#0d0887"
             ],
             [
              0.1111111111111111,
              "#46039f"
             ],
             [
              0.2222222222222222,
              "#7201a8"
             ],
             [
              0.3333333333333333,
              "#9c179e"
             ],
             [
              0.4444444444444444,
              "#bd3786"
             ],
             [
              0.5555555555555556,
              "#d8576b"
             ],
             [
              0.6666666666666666,
              "#ed7953"
             ],
             [
              0.7777777777777778,
              "#fb9f3a"
             ],
             [
              0.8888888888888888,
              "#fdca26"
             ],
             [
              1,
              "#f0f921"
             ]
            ],
            "type": "heatmapgl"
           }
          ],
          "histogram": [
           {
            "marker": {
             "pattern": {
              "fillmode": "overlay",
              "size": 10,
              "solidity": 0.2
             }
            },
            "type": "histogram"
           }
          ],
          "histogram2d": [
           {
            "colorbar": {
             "outlinewidth": 0,
             "ticks": ""
            },
            "colorscale": [
             [
              0,
              "#0d0887"
             ],
             [
              0.1111111111111111,
              "#46039f"
             ],
             [
              0.2222222222222222,
              "#7201a8"
             ],
             [
              0.3333333333333333,
              "#9c179e"
             ],
             [
              0.4444444444444444,
              "#bd3786"
             ],
             [
              0.5555555555555556,
              "#d8576b"
             ],
             [
              0.6666666666666666,
              "#ed7953"
             ],
             [
              0.7777777777777778,
              "#fb9f3a"
             ],
             [
              0.8888888888888888,
              "#fdca26"
             ],
             [
              1,
              "#f0f921"
             ]
            ],
            "type": "histogram2d"
           }
          ],
          "histogram2dcontour": [
           {
            "colorbar": {
             "outlinewidth": 0,
             "ticks": ""
            },
            "colorscale": [
             [
              0,
              "#0d0887"
             ],
             [
              0.1111111111111111,
              "#46039f"
             ],
             [
              0.2222222222222222,
              "#7201a8"
             ],
             [
              0.3333333333333333,
              "#9c179e"
             ],
             [
              0.4444444444444444,
              "#bd3786"
             ],
             [
              0.5555555555555556,
              "#d8576b"
             ],
             [
              0.6666666666666666,
              "#ed7953"
             ],
             [
              0.7777777777777778,
              "#fb9f3a"
             ],
             [
              0.8888888888888888,
              "#fdca26"
             ],
             [
              1,
              "#f0f921"
             ]
            ],
            "type": "histogram2dcontour"
           }
          ],
          "mesh3d": [
           {
            "colorbar": {
             "outlinewidth": 0,
             "ticks": ""
            },
            "type": "mesh3d"
           }
          ],
          "parcoords": [
           {
            "line": {
             "colorbar": {
              "outlinewidth": 0,
              "ticks": ""
             }
            },
            "type": "parcoords"
           }
          ],
          "pie": [
           {
            "automargin": true,
            "type": "pie"
           }
          ],
          "scatter": [
           {
            "fillpattern": {
             "fillmode": "overlay",
             "size": 10,
             "solidity": 0.2
            },
            "type": "scatter"
           }
          ],
          "scatter3d": [
           {
            "line": {
             "colorbar": {
              "outlinewidth": 0,
              "ticks": ""
             }
            },
            "marker": {
             "colorbar": {
              "outlinewidth": 0,
              "ticks": ""
             }
            },
            "type": "scatter3d"
           }
          ],
          "scattercarpet": [
           {
            "marker": {
             "colorbar": {
              "outlinewidth": 0,
              "ticks": ""
             }
            },
            "type": "scattercarpet"
           }
          ],
          "scattergeo": [
           {
            "marker": {
             "colorbar": {
              "outlinewidth": 0,
              "ticks": ""
             }
            },
            "type": "scattergeo"
           }
          ],
          "scattergl": [
           {
            "marker": {
             "colorbar": {
              "outlinewidth": 0,
              "ticks": ""
             }
            },
            "type": "scattergl"
           }
          ],
          "scattermapbox": [
           {
            "marker": {
             "colorbar": {
              "outlinewidth": 0,
              "ticks": ""
             }
            },
            "type": "scattermapbox"
           }
          ],
          "scatterpolar": [
           {
            "marker": {
             "colorbar": {
              "outlinewidth": 0,
              "ticks": ""
             }
            },
            "type": "scatterpolar"
           }
          ],
          "scatterpolargl": [
           {
            "marker": {
             "colorbar": {
              "outlinewidth": 0,
              "ticks": ""
             }
            },
            "type": "scatterpolargl"
           }
          ],
          "scatterternary": [
           {
            "marker": {
             "colorbar": {
              "outlinewidth": 0,
              "ticks": ""
             }
            },
            "type": "scatterternary"
           }
          ],
          "surface": [
           {
            "colorbar": {
             "outlinewidth": 0,
             "ticks": ""
            },
            "colorscale": [
             [
              0,
              "#0d0887"
             ],
             [
              0.1111111111111111,
              "#46039f"
             ],
             [
              0.2222222222222222,
              "#7201a8"
             ],
             [
              0.3333333333333333,
              "#9c179e"
             ],
             [
              0.4444444444444444,
              "#bd3786"
             ],
             [
              0.5555555555555556,
              "#d8576b"
             ],
             [
              0.6666666666666666,
              "#ed7953"
             ],
             [
              0.7777777777777778,
              "#fb9f3a"
             ],
             [
              0.8888888888888888,
              "#fdca26"
             ],
             [
              1,
              "#f0f921"
             ]
            ],
            "type": "surface"
           }
          ],
          "table": [
           {
            "cells": {
             "fill": {
              "color": "#EBF0F8"
             },
             "line": {
              "color": "white"
             }
            },
            "header": {
             "fill": {
              "color": "#C8D4E3"
             },
             "line": {
              "color": "white"
             }
            },
            "type": "table"
           }
          ]
         },
         "layout": {
          "annotationdefaults": {
           "arrowcolor": "#2a3f5f",
           "arrowhead": 0,
           "arrowwidth": 1
          },
          "autotypenumbers": "strict",
          "coloraxis": {
           "colorbar": {
            "outlinewidth": 0,
            "ticks": ""
           }
          },
          "colorscale": {
           "diverging": [
            [
             0,
             "#8e0152"
            ],
            [
             0.1,
             "#c51b7d"
            ],
            [
             0.2,
             "#de77ae"
            ],
            [
             0.3,
             "#f1b6da"
            ],
            [
             0.4,
             "#fde0ef"
            ],
            [
             0.5,
             "#f7f7f7"
            ],
            [
             0.6,
             "#e6f5d0"
            ],
            [
             0.7,
             "#b8e186"
            ],
            [
             0.8,
             "#7fbc41"
            ],
            [
             0.9,
             "#4d9221"
            ],
            [
             1,
             "#276419"
            ]
           ],
           "sequential": [
            [
             0,
             "#0d0887"
            ],
            [
             0.1111111111111111,
             "#46039f"
            ],
            [
             0.2222222222222222,
             "#7201a8"
            ],
            [
             0.3333333333333333,
             "#9c179e"
            ],
            [
             0.4444444444444444,
             "#bd3786"
            ],
            [
             0.5555555555555556,
             "#d8576b"
            ],
            [
             0.6666666666666666,
             "#ed7953"
            ],
            [
             0.7777777777777778,
             "#fb9f3a"
            ],
            [
             0.8888888888888888,
             "#fdca26"
            ],
            [
             1,
             "#f0f921"
            ]
           ],
           "sequentialminus": [
            [
             0,
             "#0d0887"
            ],
            [
             0.1111111111111111,
             "#46039f"
            ],
            [
             0.2222222222222222,
             "#7201a8"
            ],
            [
             0.3333333333333333,
             "#9c179e"
            ],
            [
             0.4444444444444444,
             "#bd3786"
            ],
            [
             0.5555555555555556,
             "#d8576b"
            ],
            [
             0.6666666666666666,
             "#ed7953"
            ],
            [
             0.7777777777777778,
             "#fb9f3a"
            ],
            [
             0.8888888888888888,
             "#fdca26"
            ],
            [
             1,
             "#f0f921"
            ]
           ]
          },
          "colorway": [
           "#636efa",
           "#EF553B",
           "#00cc96",
           "#ab63fa",
           "#FFA15A",
           "#19d3f3",
           "#FF6692",
           "#B6E880",
           "#FF97FF",
           "#FECB52"
          ],
          "font": {
           "color": "#2a3f5f"
          },
          "geo": {
           "bgcolor": "white",
           "lakecolor": "white",
           "landcolor": "#E5ECF6",
           "showlakes": true,
           "showland": true,
           "subunitcolor": "white"
          },
          "hoverlabel": {
           "align": "left"
          },
          "hovermode": "closest",
          "mapbox": {
           "style": "light"
          },
          "paper_bgcolor": "white",
          "plot_bgcolor": "#E5ECF6",
          "polar": {
           "angularaxis": {
            "gridcolor": "white",
            "linecolor": "white",
            "ticks": ""
           },
           "bgcolor": "#E5ECF6",
           "radialaxis": {
            "gridcolor": "white",
            "linecolor": "white",
            "ticks": ""
           }
          },
          "scene": {
           "xaxis": {
            "backgroundcolor": "#E5ECF6",
            "gridcolor": "white",
            "gridwidth": 2,
            "linecolor": "white",
            "showbackground": true,
            "ticks": "",
            "zerolinecolor": "white"
           },
           "yaxis": {
            "backgroundcolor": "#E5ECF6",
            "gridcolor": "white",
            "gridwidth": 2,
            "linecolor": "white",
            "showbackground": true,
            "ticks": "",
            "zerolinecolor": "white"
           },
           "zaxis": {
            "backgroundcolor": "#E5ECF6",
            "gridcolor": "white",
            "gridwidth": 2,
            "linecolor": "white",
            "showbackground": true,
            "ticks": "",
            "zerolinecolor": "white"
           }
          },
          "shapedefaults": {
           "line": {
            "color": "#2a3f5f"
           }
          },
          "ternary": {
           "aaxis": {
            "gridcolor": "white",
            "linecolor": "white",
            "ticks": ""
           },
           "baxis": {
            "gridcolor": "white",
            "linecolor": "white",
            "ticks": ""
           },
           "bgcolor": "#E5ECF6",
           "caxis": {
            "gridcolor": "white",
            "linecolor": "white",
            "ticks": ""
           }
          },
          "title": {
           "x": 0.05
          },
          "xaxis": {
           "automargin": true,
           "gridcolor": "white",
           "linecolor": "white",
           "ticks": "",
           "title": {
            "standoff": 15
           },
           "zerolinecolor": "white",
           "zerolinewidth": 2
          },
          "yaxis": {
           "automargin": true,
           "gridcolor": "white",
           "linecolor": "white",
           "ticks": "",
           "title": {
            "standoff": 15
           },
           "zerolinecolor": "white",
           "zerolinewidth": 2
          }
         }
        },
        "title": {
         "text": "Relative Occurrences of Ethnicity-related Words Over 1 Years"
        },
        "xaxis": {
         "anchor": "y",
         "domain": [
          0,
          1
         ],
         "title": {
          "text": "Year"
         }
        },
        "yaxis": {
         "anchor": "x",
         "domain": [
          0,
          1
         ],
         "title": {
          "text": "Relative Word Occurrence"
         }
        }
       }
      }
     },
     "metadata": {},
     "output_type": "display_data"
    }
   ],
   "source": [
    "ethnicities=['German','Nazi','Japanese']\n",
    "fig = plot_relative_occurrences(df_sum, ethmerged, ethnicities,1,[\n",
    "    ('1914', '1918', 'WWI'),\n",
    "    ('1939', '1945', 'WWII'),\n",
    "    ('1989', '1989', 'Fall of the Berlin Wall')\n",
    "])\n",
    "fig.show()\n",
    "\n"
   ]
  },
  {
   "cell_type": "code",
   "execution_count": 12,
   "metadata": {},
   "outputs": [
    {
     "data": {
      "application/vnd.plotly.v1+json": {
       "config": {
        "plotlyServerURL": "https://plot.ly"
       },
       "data": [
        {
         "hovertemplate": "Ethnicity=German<br>Year=%{x}<br>Relative Word Occurrence=%{y}<extra></extra>",
         "legendgroup": "German",
         "line": {
          "color": "#636efa",
          "dash": "solid"
         },
         "marker": {
          "symbol": "circle"
         },
         "mode": "lines",
         "name": "German",
         "orientation": "v",
         "showlegend": true,
         "type": "scatter",
         "x": [
          1910,
          1911,
          1912,
          1913,
          1914,
          1915,
          1916,
          1917,
          1918,
          1919,
          1920,
          1921,
          1922,
          1923,
          1924,
          1925,
          1926,
          1927,
          1928,
          1929,
          1930,
          1931,
          1932,
          1933,
          1934,
          1935,
          1936,
          1937,
          1938,
          1939,
          1940,
          1941,
          1942,
          1943,
          1944,
          1945,
          1946,
          1947,
          1948,
          1949,
          1950,
          1951,
          1952,
          1953,
          1954,
          1955,
          1956,
          1957,
          1958,
          1959,
          1960,
          1961,
          1962,
          1963,
          1964,
          1965,
          1966,
          1967,
          1968,
          1969,
          1970,
          1971,
          1972,
          1973,
          1974,
          1975,
          1976,
          1977,
          1978,
          1979,
          1980,
          1981,
          1982,
          1983,
          1984,
          1985,
          1986,
          1987,
          1988,
          1989,
          1990,
          1991,
          1992,
          1993,
          1994,
          1995,
          1996,
          1997,
          1998,
          1999,
          2000,
          2001,
          2002,
          2003,
          2004,
          2005,
          2006,
          2007,
          2008,
          2009,
          2010,
          2011,
          2012,
          2013,
          2014
         ],
         "xaxis": "x",
         "y": [
          0,
          0,
          0,
          0.0005583472920156337,
          0,
          0.0014675667742882301,
          0.00611387084447841,
          0.005766458433445459,
          0.005139500734214391,
          0.003247711839385887,
          0.00023518344308560678,
          0.0016438356164383563,
          0.0005611672278338945,
          0.00029231218941829873,
          0.00018426386585590566,
          0.0005930025696778019,
          0.0005056890012642225,
          0.0007876082961407193,
          0.0011504537901060974,
          0.0002311604253351826,
          0.00316722972972973,
          0.0008418689490669286,
          0.0014162701110355766,
          0.0011729843190517349,
          0.0008229931628260319,
          0.0006052602619126224,
          0.00031291069528756495,
          0.0007947320617620345,
          0.0006342982354976358,
          0.0011326378539493294,
          0.0022166481945983785,
          0.0022794938593226647,
          0.0034701879309567804,
          0.006658117971986585,
          0.003038558256496228,
          0.0020984665052461663,
          0.001335888946971017,
          0.0006935552710200598,
          0.000481590123024386,
          0.0014959880320957431,
          0.0011150047785919083,
          0.0011387526278906798,
          0.0005311542390194076,
          0.0012232629665874459,
          0.0009694619486185168,
          0.0008119393751933189,
          0.0009294055845152948,
          0.0014509776825813584,
          0.0018730800929047727,
          0.0015890517576858218,
          0.0010381969978803477,
          0.001487574378718936,
          0.0011680175556578062,
          0.000822688893699935,
          0.0010895701833483619,
          0.0031675979641954655,
          0.0018833060905408287,
          0.0009484999648703716,
          0.0013135939219654205,
          0.0021778074396712212,
          0.001178214435027175,
          0.0009366428045761692,
          0.0007817197835237522,
          0.0004236262406197047,
          0.0005193287675679185,
          0.0014438063986874487,
          0.0010504937320540654,
          0.0013361676283024598,
          0.0006546450038683568,
          0.0006335041040048477,
          0.0010770059235325794,
          0.0007297317019775729,
          0.0005545509342977697,
          0.00032881757201104825,
          0.0005648568652703405,
          0.000919393575502852,
          0.00048394902403613486,
          0.000490737332842596,
          0.000222579871930966,
          0.0002925939312576376,
          0.00048432851311146474,
          0.0004508078476630121,
          0.0006349630718845036,
          0.0005993713909801915,
          0.00043946988944585595,
          0.0002826455624646693,
          0.000442031688146644,
          0.0003223087221698815,
          0.0006999243630123841,
          0.00041590609764550937,
          0.0004734228471851486,
          0.0005934938239548945,
          0.0007475254330492164,
          0.000786582023025401,
          0.0009261805183716588,
          0.00047920873054412553,
          0.0005418926833540421,
          0.0004855878613946738,
          0.0007642987558914696,
          0.0004169432573143368,
          0.00034047060603767875,
          0.0006477768154127211,
          0.00040913182227313643,
          0.00202757502027575,
          0
         ],
         "yaxis": "y"
        },
        {
         "hovertemplate": "Ethnicity=Nazi<br>Year=%{x}<br>Relative Word Occurrence=%{y}<extra></extra>",
         "legendgroup": "Nazi",
         "line": {
          "color": "#EF553B",
          "dash": "solid"
         },
         "marker": {
          "symbol": "circle"
         },
         "mode": "lines",
         "name": "Nazi",
         "orientation": "v",
         "showlegend": true,
         "type": "scatter",
         "x": [
          1910,
          1911,
          1912,
          1913,
          1914,
          1915,
          1916,
          1917,
          1918,
          1919,
          1920,
          1921,
          1922,
          1923,
          1924,
          1925,
          1926,
          1927,
          1928,
          1929,
          1930,
          1931,
          1932,
          1933,
          1934,
          1935,
          1936,
          1937,
          1938,
          1939,
          1940,
          1941,
          1942,
          1943,
          1944,
          1945,
          1946,
          1947,
          1948,
          1949,
          1950,
          1951,
          1952,
          1953,
          1954,
          1955,
          1956,
          1957,
          1958,
          1959,
          1960,
          1961,
          1962,
          1963,
          1964,
          1965,
          1966,
          1967,
          1968,
          1969,
          1970,
          1971,
          1972,
          1973,
          1974,
          1975,
          1976,
          1977,
          1978,
          1979,
          1980,
          1981,
          1982,
          1983,
          1984,
          1985,
          1986,
          1987,
          1988,
          1989,
          1990,
          1991,
          1992,
          1993,
          1994,
          1995,
          1996,
          1997,
          1998,
          1999,
          2000,
          2001,
          2002,
          2003,
          2004,
          2005,
          2006,
          2007,
          2008,
          2009,
          2010,
          2011,
          2012,
          2013,
          2014
         ],
         "xaxis": "x",
         "y": [
          0,
          0,
          0,
          0,
          0,
          0,
          0,
          0,
          0,
          0,
          0,
          0,
          0,
          0,
          0,
          0,
          0,
          0,
          0,
          0,
          0,
          0,
          0,
          0.00012347203358439315,
          0.0004431501645986326,
          0.00011004732034774953,
          0,
          0,
          0.00034598085572598315,
          0.0004172876304023845,
          0.0012249897917517355,
          0.0011630070710829921,
          0.0024336382892424175,
          0.003748273821266522,
          0.0018860016764459346,
          0.0007532956685499058,
          0.000987396178195969,
          0.00048015364916773366,
          0.0003502473621995534,
          0.0003626637653565438,
          0.00007964319847085059,
          0.00004379817799579537,
          0.0003268641470888662,
          0.0002796029637914162,
          0.00016157699143641945,
          0.0001546551190844417,
          0.0001616357538287469,
          0.00003454708768050853,
          0.0005619240278714318,
          0.0002270073939551174,
          0.0002595492494700869,
          0.00017500875043752187,
          0.000318550242452129,
          0.00012989824637367397,
          0.00037571385632702135,
          0.0006406377905114425,
          0.0007106815436003127,
          0.000245907398299726,
          0.0004260304611779742,
          0.0005620148231409603,
          0.0001520276690357645,
          0.00006690305746972637,
          0.0003006614552014432,
          0.00006051803437424352,
          0.00012983219189197963,
          0.0007875307629204265,
          0.00021009874641081307,
          0.0005769814758578804,
          0.0002678093197643278,
          0.00022034925356690353,
          0.00034268370294218437,
          0.0005351365814502202,
          0.00028933092224231466,
          0.00019729054320662896,
          0.00029372556994057704,
          0.0004690783548483939,
          0.00008065817067268914,
          0.00017526333315807,
          0.00035955210081156045,
          0.00025817111581556256,
          0.0002594617034525704,
          0.0002344200807847663,
          0.00020051465427931692,
          0.00042394561801037937,
          0.00008240060427109799,
          0.00031091011871113626,
          0.00012432141229124362,
          0.00007437893588535726,
          0.0003386730788769601,
          0.00008087063009773793,
          0.00022160218378879297,
          0.00025965354798026635,
          0.00008592246356887545,
          0.00007945272959852535,
          0.00019536620309402178,
          0.0001405678942929435,
          0.0001423152501737888,
          0.00020187360529890934,
          0.00012207549573266528,
          0.000235902106112059,
          0.00009457516834379966,
          0.00019651656197914013,
          0.00013637727409104546,
          0,
          0
         ],
         "yaxis": "y"
        },
        {
         "hovertemplate": "Ethnicity=Japanese<br>Year=%{x}<br>Relative Word Occurrence=%{y}<extra></extra>",
         "legendgroup": "Japanese",
         "line": {
          "color": "#00cc96",
          "dash": "solid"
         },
         "marker": {
          "symbol": "circle"
         },
         "mode": "lines",
         "name": "Japanese",
         "orientation": "v",
         "showlegend": true,
         "type": "scatter",
         "x": [
          1910,
          1911,
          1912,
          1913,
          1914,
          1915,
          1916,
          1917,
          1918,
          1919,
          1920,
          1921,
          1922,
          1923,
          1924,
          1925,
          1926,
          1927,
          1928,
          1929,
          1930,
          1931,
          1932,
          1933,
          1934,
          1935,
          1936,
          1937,
          1938,
          1939,
          1940,
          1941,
          1942,
          1943,
          1944,
          1945,
          1946,
          1947,
          1948,
          1949,
          1950,
          1951,
          1952,
          1953,
          1954,
          1955,
          1956,
          1957,
          1958,
          1959,
          1960,
          1961,
          1962,
          1963,
          1964,
          1965,
          1966,
          1967,
          1968,
          1969,
          1970,
          1971,
          1972,
          1973,
          1974,
          1975,
          1976,
          1977,
          1978,
          1979,
          1980,
          1981,
          1982,
          1983,
          1984,
          1985,
          1986,
          1987,
          1988,
          1989,
          1990,
          1991,
          1992,
          1993,
          1994,
          1995,
          1996,
          1997,
          1998,
          1999,
          2000,
          2001,
          2002,
          2003,
          2004,
          2005,
          2006,
          2007,
          2008,
          2009,
          2010,
          2011,
          2012,
          2013,
          2014
         ],
         "xaxis": "x",
         "y": [
          0,
          0,
          0,
          0,
          0,
          0,
          0,
          0.0004805382027871216,
          0,
          0,
          0,
          0,
          0,
          0,
          0,
          0,
          0.001011378002528445,
          0.00013126804935678657,
          0.00051131279560271,
          0.0001155802126675913,
          0,
          0.00014031149151115475,
          0.0005098572399728076,
          0.00030868008396098284,
          0,
          0.00022009464069549907,
          0.0003754928343450779,
          0,
          0.0002306539038173221,
          0.00017883755588673621,
          0.000058332847226273116,
          0.00018608113137327876,
          0.0027491099193293973,
          0.0053758137699743535,
          0.002829002514668902,
          0.0022598870056497176,
          0.0004646570250333972,
          0.0009603072983354673,
          0.0001751236810997767,
          0.0008613264427217916,
          0.0006371455877668047,
          0.0007883672039243168,
          0.00040858018386108274,
          0.0009786103732699566,
          0.0012118274357731458,
          0.0012372409526755336,
          0.0015355396613730957,
          0.001554618945622884,
          0.0013111560650333409,
          0.0012971851083149566,
          0.0004325820824501449,
          0.0011813090654532728,
          0.0019820903974799137,
          0.0015154795410261962,
          0.0007889990982867448,
          0.0029896430223867315,
          0.001066022315400469,
          0.0014403147614698237,
          0.0007455533070614549,
          0.00042151111735572026,
          0.0010641936832503516,
          0.000367966816083495,
          0.0010523150932050512,
          0.0013616557734204794,
          0.00045441267162192866,
          0.0009515996718621821,
          0.0011905595629946074,
          0.0005162465836623139,
          0.00047610545735880496,
          0.0011843772379221066,
          0.0005140255544132766,
          0.0003162170708569483,
          0.0007715491259795058,
          0.0008768468586961288,
          0.000655233963713595,
          0.0006754728309816872,
          0.0007864171640587192,
          0.000648474332684859,
          0.0007533472588432695,
          0.0012047985404726252,
          0.0005535183006988169,
          0.0010458742065781882,
          0.00040102930855863384,
          0.0007309407207075506,
          0.0008240060427109799,
          0.0009468626342566421,
          0.0004834721589103919,
          0.0003471017007983339,
          0.0004967205156862081,
          0.0006931768294091823,
          0.0005640782860078366,
          0.000658407210949961,
          0.0005327192741270278,
          0.0009693233011020093,
          0.000853822665373873,
          0.0007156183709458941,
          0.0008101021932969517,
          0.0006983735534664972,
          0.0006740690416542821,
          0.0007899977507008487,
          0.000529620942725278,
          0.0007278391184412597,
          0.00030003000300030005,
          0.0016220600162206002,
          0
         ],
         "yaxis": "y"
        },
        {
         "hovertemplate": "Ethnicity=French<br>Year=%{x}<br>Relative Word Occurrence=%{y}<extra></extra>",
         "legendgroup": "French",
         "line": {
          "color": "#ab63fa",
          "dash": "solid"
         },
         "marker": {
          "symbol": "circle"
         },
         "mode": "lines",
         "name": "French",
         "orientation": "v",
         "showlegend": true,
         "type": "scatter",
         "x": [
          1910,
          1911,
          1912,
          1913,
          1914,
          1915,
          1916,
          1917,
          1918,
          1919,
          1920,
          1921,
          1922,
          1923,
          1924,
          1925,
          1926,
          1927,
          1928,
          1929,
          1930,
          1931,
          1932,
          1933,
          1934,
          1935,
          1936,
          1937,
          1938,
          1939,
          1940,
          1941,
          1942,
          1943,
          1944,
          1945,
          1946,
          1947,
          1948,
          1949,
          1950,
          1951,
          1952,
          1953,
          1954,
          1955,
          1956,
          1957,
          1958,
          1959,
          1960,
          1961,
          1962,
          1963,
          1964,
          1965,
          1966,
          1967,
          1968,
          1969,
          1970,
          1971,
          1972,
          1973,
          1974,
          1975,
          1976,
          1977,
          1978,
          1979,
          1980,
          1981,
          1982,
          1983,
          1984,
          1985,
          1986,
          1987,
          1988,
          1989,
          1990,
          1991,
          1992,
          1993,
          1994,
          1995,
          1996,
          1997,
          1998,
          1999,
          2000,
          2001,
          2002,
          2003,
          2004,
          2005,
          2006,
          2007,
          2008,
          2009,
          2010,
          2011,
          2012,
          2013,
          2014
         ],
         "xaxis": "x",
         "y": [
          0,
          0.0005586592178770949,
          0.0016207455429497568,
          0.0005583472920156337,
          0,
          0.002054593484003522,
          0.00038211692777990065,
          0.006246996636232581,
          0.0014684287812041115,
          0.0014762326542663124,
          0.0016462841015992475,
          0.004931506849315068,
          0.0005611672278338945,
          0.0040923706518561824,
          0.0014741109268472453,
          0.0033603478948408777,
          0.003034134007585335,
          0.006169598319768968,
          0.0033235331714176145,
          0.0010402219140083217,
          0.002533783783783784,
          0.0026659183387119406,
          0.0011896668932698845,
          0.0011729843190517349,
          0.0029754368194479614,
          0.002586112028172114,
          0.0021903748670129546,
          0.0023274296094459583,
          0.002652519893899204,
          0.0017883755588673621,
          0.0007583270139415504,
          0.0007908448083364346,
          0.0011717517688944973,
          0.0009370684553166305,
          0.0034052808046940485,
          0.0015603981705676622,
          0.0008712319219376198,
          0.0006402048655569782,
          0.0009193993257738277,
          0.001949317738791423,
          0.001075183179356483,
          0.0021899088997897687,
          0.0006537282941777324,
          0.0018523696351181323,
          0.002060106640814348,
          0.001546551190844417,
          0.0015355396613730957,
          0.0020382781731500036,
          0.0028096201393571587,
          0.001167466597483461,
          0.0010814552061253623,
          0.0010938046902345118,
          0.0014865677981099352,
          0.0011257848019051743,
          0.0016531409678388939,
          0.002384596220237036,
          0.0022741809395210007,
          0.001615962903112485,
          0.0008165583839244506,
          0.0027046963363658717,
          0.0015582836076165863,
          0.0015387703218037064,
          0.0004810583283223091,
          0.0011498426531106269,
          0.0011684897270278166,
          0.0013453650533223954,
          0.0009104279011135233,
          0.0016094746431825084,
          0.001160507052312087,
          0.0012670082080096954,
          0.0006364125911783424,
          0.0011918951132300357,
          0.00108499095840868,
          0.0008110833442939191,
          0.0009715538082649856,
          0.000994446112278595,
          0.00038312631069527345,
          0.000630947999369052,
          0.0006848611444029723,
          0.00027538252353660005,
          0.000605410641389331,
          0.0016950375072129255,
          0.0008856063897336497,
          0.0007455595351217016,
          0.0008377394767561629,
          0.0011305822498586771,
          0.0009116903568024533,
          0.0008057718054247038,
          0.0008805500050800962,
          0.001062871138427413,
          0.0006950250309739416,
          0.0010200675099224748,
          0.0008248556502612042,
          0.00109644766845965,
          0.0008248795241747587,
          0.000600608275615304,
          0.000821049520233397,
          0.0008620548550602074,
          0.0006475308904080506,
          0.0007186785093181332,
          0.0007502963355274772,
          0.0006841687713347842,
          0.0006546109156370183,
          0.0008110300081103001,
          0
         ],
         "yaxis": "y"
        },
        {
         "hovertemplate": "Ethnicity=Spanish<br>Year=%{x}<br>Relative Word Occurrence=%{y}<extra></extra>",
         "legendgroup": "Spanish",
         "line": {
          "color": "#FFA15A",
          "dash": "solid"
         },
         "marker": {
          "symbol": "circle"
         },
         "mode": "lines",
         "name": "Spanish",
         "orientation": "v",
         "showlegend": true,
         "type": "scatter",
         "x": [
          1910,
          1911,
          1912,
          1913,
          1914,
          1915,
          1916,
          1917,
          1918,
          1919,
          1920,
          1921,
          1922,
          1923,
          1924,
          1925,
          1926,
          1927,
          1928,
          1929,
          1930,
          1931,
          1932,
          1933,
          1934,
          1935,
          1936,
          1937,
          1938,
          1939,
          1940,
          1941,
          1942,
          1943,
          1944,
          1945,
          1946,
          1947,
          1948,
          1949,
          1950,
          1951,
          1952,
          1953,
          1954,
          1955,
          1956,
          1957,
          1958,
          1959,
          1960,
          1961,
          1962,
          1963,
          1964,
          1965,
          1966,
          1967,
          1968,
          1969,
          1970,
          1971,
          1972,
          1973,
          1974,
          1975,
          1976,
          1977,
          1978,
          1979,
          1980,
          1981,
          1982,
          1983,
          1984,
          1985,
          1986,
          1987,
          1988,
          1989,
          1990,
          1991,
          1992,
          1993,
          1994,
          1995,
          1996,
          1997,
          1998,
          1999,
          2000,
          2001,
          2002,
          2003,
          2004,
          2005,
          2006,
          2007,
          2008,
          2009,
          2010,
          2011,
          2012,
          2013,
          2014
         ],
         "xaxis": "x",
         "y": [
          0,
          0,
          0,
          0.0016750418760469012,
          0,
          0,
          0,
          0,
          0,
          0,
          0.00023518344308560678,
          0.000547945205479452,
          0.0002805836139169473,
          0.00029231218941829873,
          0.00018426386585590566,
          0.000790670092903736,
          0.0015170670037926676,
          0.00026253609871357313,
          0,
          0,
          0.0004222972972972973,
          0.00007015574575557738,
          0.00005665080444142307,
          0.0003704161007531794,
          0.00012661433274246644,
          0.0006602839220864972,
          0.0004380749734025909,
          0.0006811989100817438,
          0.0002306539038173221,
          0.00029806259314456036,
          0.001049991250072916,
          0.0003256419799032378,
          0.0005858758844472486,
          0.0003452357466956007,
          0.00020955574182732607,
          0.00016142050040355126,
          0.0002323285125166986,
          0.0003201024327784891,
          0.00030646644192460924,
          0.00004533297066956798,
          0.0004778591908251035,
          0.00030658724597056763,
          0.0001634320735444331,
          0.00010485111142178107,
          0.00028275973501373406,
          0.00023198267862666253,
          0.0001616357538287469,
          0.0007600359289711877,
          0.0001498464074323818,
          0.0009080295758204696,
          0.0002595492494700869,
          0.0002625131256562828,
          0.00003539447138356989,
          0.0004762935700368045,
          0.0004884280132251278,
          0.00021354593017048083,
          0.0002842726174401251,
          0.0002810370266282583,
          0.0004970355380409699,
          0.00021075555867786013,
          0,
          0.00006690305746972637,
          0.0005111244738424534,
          0.00036310820624546115,
          0.00029212243175695416,
          0.00039376538146021327,
          0.0002801316618810841,
          0.0003036744609778318,
          0.00020829613759447717,
          0.00011017462678345177,
          0.00026925148088314486,
          0.00036486585098878646,
          0.00019288728149487644,
          0.00008768468586961288,
          0.00042929121760545876,
          0.00011257880516361452,
          0.000282303597354412,
          0.00017526333315807,
          0.00003424305722014861,
          0.00010326844632622502,
          0.00020756936276205632,
          0.0002344200807847663,
          0.000367610199512081,
          0.0003362327315254733,
          0.000370802719219941,
          0.00038157150932730357,
          0.0002072023538187394,
          0.00027272276491297664,
          0.0004289858999108161,
          0.0002426118902932138,
          0.0003021847960756268,
          0.00019474016098519975,
          0.00020621391256530106,
          0.0001986318239963134,
          0.00020260198839380038,
          0.0003450302859917704,
          0.0003065251542204682,
          0.0004146592973707327,
          0.0002282281007175916,
          0.00023041601062108086,
          0.00019545534791051927,
          0.00020379495316355273,
          0.00015001500150015003,
          0,
          0
         ],
         "yaxis": "y"
        },
        {
         "hovertemplate": "Ethnicity=American<br>Year=%{x}<br>Relative Word Occurrence=%{y}<extra></extra>",
         "legendgroup": "American",
         "line": {
          "color": "#19d3f3",
          "dash": "solid"
         },
         "marker": {
          "symbol": "circle"
         },
         "mode": "lines",
         "name": "American",
         "orientation": "v",
         "showlegend": true,
         "type": "scatter",
         "x": [
          1910,
          1911,
          1912,
          1913,
          1914,
          1915,
          1916,
          1917,
          1918,
          1919,
          1920,
          1921,
          1922,
          1923,
          1924,
          1925,
          1926,
          1927,
          1928,
          1929,
          1930,
          1931,
          1932,
          1933,
          1934,
          1935,
          1936,
          1937,
          1938,
          1939,
          1940,
          1941,
          1942,
          1943,
          1944,
          1945,
          1946,
          1947,
          1948,
          1949,
          1950,
          1951,
          1952,
          1953,
          1954,
          1955,
          1956,
          1957,
          1958,
          1959,
          1960,
          1961,
          1962,
          1963,
          1964,
          1965,
          1966,
          1967,
          1968,
          1969,
          1970,
          1971,
          1972,
          1973,
          1974,
          1975,
          1976,
          1977,
          1978,
          1979,
          1980,
          1981,
          1982,
          1983,
          1984,
          1985,
          1986,
          1987,
          1988,
          1989,
          1990,
          1991,
          1992,
          1993,
          1994,
          1995,
          1996,
          1997,
          1998,
          1999,
          2000,
          2001,
          2002,
          2003,
          2004,
          2005,
          2006,
          2007,
          2008,
          2009,
          2010,
          2011,
          2012,
          2013,
          2014
         ],
         "xaxis": "x",
         "y": [
          0.0016501650165016502,
          0.0011173184357541898,
          0.0016207455429497568,
          0.0005583472920156337,
          0.0005777007510109763,
          0.002054593484003522,
          0.0026748184944593045,
          0.0028832292167227293,
          0.0014684287812041115,
          0.001771479185119575,
          0.0011759172154280338,
          0.0008219178082191781,
          0.001964085297418631,
          0,
          0.002763957987838585,
          0.0009883376161296698,
          0.0015170670037926676,
          0.0011814124442110791,
          0.00102262559120542,
          0.0009246417013407304,
          0.0008445945945945946,
          0.0013329591693559703,
          0.0015295717199184228,
          0.0016668724533893072,
          0.0007596859964547987,
          0.0011004732034774953,
          0.0012516427811502598,
          0.0013056312443233424,
          0.0008072886633606274,
          0.0015499254843517139,
          0.0016916525695619203,
          0.001628209899516189,
          0.002073099283428726,
          0.002071414480173604,
          0.001519279128248114,
          0.0015065913370998117,
          0.0014520532032293663,
          0.0008536064874093043,
          0.0014885512893481022,
          0.001858651797452287,
          0.0013141127747690348,
          0.0017957252978276104,
          0.0012665985699693565,
          0.001502865930378862,
          0.0015753756665050896,
          0.0016238787503866378,
          0.0012930860306299753,
          0.0022455606992330544,
          0.001910541694762868,
          0.0024646517057984175,
          0.0010814552061253623,
          0.001312565628281414,
          0.0018051180405620642,
          0.00164537778739987,
          0.0015779981965734896,
          0.0021710502900665553,
          0.0016701016274607349,
          0.0014051851331412914,
          0.0013135939219654205,
          0.0011240296462819207,
          0.001786325111170233,
          0.000903191275841306,
          0.0010823812387251955,
          0.0011498426531106269,
          0.001038657535135837,
          0.0013781788351107465,
          0.0011205266475243364,
          0.0013058001822046767,
          0.0013092900077367137,
          0.001459813804880736,
          0.001174915552944632,
          0.0009486512125708448,
          0.0007956600361663653,
          0.0011837432592397739,
          0.0012878736528163764,
          0.0014447613329330532,
          0.0014316825294402322,
          0.001261895998738104,
          0.0015580591035167619,
          0.0014285468408461127,
          0.0011416314951913098,
          0.0013343912290825159,
          0.000935735053303479,
          0.0010964110810613259,
          0.0008652063448465289,
          0.0011447145279819106,
          0.0010360117690936968,
          0.001053701591709228,
          0.0007337916709000802,
          0.0009473416668592158,
          0.0009770641739778598,
          0.0009551541229274083,
          0.0009365548529007424,
          0.0008263083878246638,
          0.0008031721682754229,
          0.0007731234186111892,
          0.0010728380397716387,
          0.0009220713323112345,
          0.0006899919324020212,
          0.0007186785093181332,
          0.0007250762906357973,
          0.001069923504108652,
          0.000572784551182391,
          0.0008110300081103001,
          0
         ],
         "yaxis": "y"
        }
       ],
       "layout": {
        "annotations": [
         {
          "showarrow": false,
          "text": "WWI",
          "x": "1914",
          "xanchor": "left",
          "xref": "x",
          "y": 1,
          "yanchor": "top",
          "yref": "y domain"
         },
         {
          "showarrow": false,
          "text": "WWII",
          "x": "1939",
          "xanchor": "left",
          "xref": "x",
          "y": 1,
          "yanchor": "top",
          "yref": "y domain"
         },
         {
          "showarrow": false,
          "text": "Fall of the Berlin Wall",
          "x": "1989",
          "xanchor": "left",
          "xref": "x",
          "y": 1,
          "yanchor": "top",
          "yref": "y domain"
         }
        ],
        "legend": {
         "title": {
          "text": "Ethnicity"
         },
         "tracegroupgap": 0
        },
        "shapes": [
         {
          "fillcolor": "rgba(255, 0, 0, 0.05)",
          "layer": "below",
          "type": "rect",
          "x0": "1914",
          "x1": "1918",
          "xref": "x",
          "y0": 0,
          "y1": 1,
          "yref": "y domain"
         },
         {
          "fillcolor": "rgba(255, 0, 0, 0.05)",
          "layer": "below",
          "type": "rect",
          "x0": "1939",
          "x1": "1945",
          "xref": "x",
          "y0": 0,
          "y1": 1,
          "yref": "y domain"
         },
         {
          "fillcolor": "rgba(255, 0, 0, 0.05)",
          "layer": "below",
          "type": "rect",
          "x0": "1989",
          "x1": "1989",
          "xref": "x",
          "y0": 0,
          "y1": 1,
          "yref": "y domain"
         }
        ],
        "template": {
         "data": {
          "bar": [
           {
            "error_x": {
             "color": "#2a3f5f"
            },
            "error_y": {
             "color": "#2a3f5f"
            },
            "marker": {
             "line": {
              "color": "#E5ECF6",
              "width": 0.5
             },
             "pattern": {
              "fillmode": "overlay",
              "size": 10,
              "solidity": 0.2
             }
            },
            "type": "bar"
           }
          ],
          "barpolar": [
           {
            "marker": {
             "line": {
              "color": "#E5ECF6",
              "width": 0.5
             },
             "pattern": {
              "fillmode": "overlay",
              "size": 10,
              "solidity": 0.2
             }
            },
            "type": "barpolar"
           }
          ],
          "carpet": [
           {
            "aaxis": {
             "endlinecolor": "#2a3f5f",
             "gridcolor": "white",
             "linecolor": "white",
             "minorgridcolor": "white",
             "startlinecolor": "#2a3f5f"
            },
            "baxis": {
             "endlinecolor": "#2a3f5f",
             "gridcolor": "white",
             "linecolor": "white",
             "minorgridcolor": "white",
             "startlinecolor": "#2a3f5f"
            },
            "type": "carpet"
           }
          ],
          "choropleth": [
           {
            "colorbar": {
             "outlinewidth": 0,
             "ticks": ""
            },
            "type": "choropleth"
           }
          ],
          "contour": [
           {
            "colorbar": {
             "outlinewidth": 0,
             "ticks": ""
            },
            "colorscale": [
             [
              0,
              "#0d0887"
             ],
             [
              0.1111111111111111,
              "#46039f"
             ],
             [
              0.2222222222222222,
              "#7201a8"
             ],
             [
              0.3333333333333333,
              "#9c179e"
             ],
             [
              0.4444444444444444,
              "#bd3786"
             ],
             [
              0.5555555555555556,
              "#d8576b"
             ],
             [
              0.6666666666666666,
              "#ed7953"
             ],
             [
              0.7777777777777778,
              "#fb9f3a"
             ],
             [
              0.8888888888888888,
              "#fdca26"
             ],
             [
              1,
              "#f0f921"
             ]
            ],
            "type": "contour"
           }
          ],
          "contourcarpet": [
           {
            "colorbar": {
             "outlinewidth": 0,
             "ticks": ""
            },
            "type": "contourcarpet"
           }
          ],
          "heatmap": [
           {
            "colorbar": {
             "outlinewidth": 0,
             "ticks": ""
            },
            "colorscale": [
             [
              0,
              "#0d0887"
             ],
             [
              0.1111111111111111,
              "#46039f"
             ],
             [
              0.2222222222222222,
              "#7201a8"
             ],
             [
              0.3333333333333333,
              "#9c179e"
             ],
             [
              0.4444444444444444,
              "#bd3786"
             ],
             [
              0.5555555555555556,
              "#d8576b"
             ],
             [
              0.6666666666666666,
              "#ed7953"
             ],
             [
              0.7777777777777778,
              "#fb9f3a"
             ],
             [
              0.8888888888888888,
              "#fdca26"
             ],
             [
              1,
              "#f0f921"
             ]
            ],
            "type": "heatmap"
           }
          ],
          "heatmapgl": [
           {
            "colorbar": {
             "outlinewidth": 0,
             "ticks": ""
            },
            "colorscale": [
             [
              0,
              "#0d0887"
             ],
             [
              0.1111111111111111,
              "#46039f"
             ],
             [
              0.2222222222222222,
              "#7201a8"
             ],
             [
              0.3333333333333333,
              "#9c179e"
             ],
             [
              0.4444444444444444,
              "#bd3786"
             ],
             [
              0.5555555555555556,
              "#d8576b"
             ],
             [
              0.6666666666666666,
              "#ed7953"
             ],
             [
              0.7777777777777778,
              "#fb9f3a"
             ],
             [
              0.8888888888888888,
              "#fdca26"
             ],
             [
              1,
              "#f0f921"
             ]
            ],
            "type": "heatmapgl"
           }
          ],
          "histogram": [
           {
            "marker": {
             "pattern": {
              "fillmode": "overlay",
              "size": 10,
              "solidity": 0.2
             }
            },
            "type": "histogram"
           }
          ],
          "histogram2d": [
           {
            "colorbar": {
             "outlinewidth": 0,
             "ticks": ""
            },
            "colorscale": [
             [
              0,
              "#0d0887"
             ],
             [
              0.1111111111111111,
              "#46039f"
             ],
             [
              0.2222222222222222,
              "#7201a8"
             ],
             [
              0.3333333333333333,
              "#9c179e"
             ],
             [
              0.4444444444444444,
              "#bd3786"
             ],
             [
              0.5555555555555556,
              "#d8576b"
             ],
             [
              0.6666666666666666,
              "#ed7953"
             ],
             [
              0.7777777777777778,
              "#fb9f3a"
             ],
             [
              0.8888888888888888,
              "#fdca26"
             ],
             [
              1,
              "#f0f921"
             ]
            ],
            "type": "histogram2d"
           }
          ],
          "histogram2dcontour": [
           {
            "colorbar": {
             "outlinewidth": 0,
             "ticks": ""
            },
            "colorscale": [
             [
              0,
              "#0d0887"
             ],
             [
              0.1111111111111111,
              "#46039f"
             ],
             [
              0.2222222222222222,
              "#7201a8"
             ],
             [
              0.3333333333333333,
              "#9c179e"
             ],
             [
              0.4444444444444444,
              "#bd3786"
             ],
             [
              0.5555555555555556,
              "#d8576b"
             ],
             [
              0.6666666666666666,
              "#ed7953"
             ],
             [
              0.7777777777777778,
              "#fb9f3a"
             ],
             [
              0.8888888888888888,
              "#fdca26"
             ],
             [
              1,
              "#f0f921"
             ]
            ],
            "type": "histogram2dcontour"
           }
          ],
          "mesh3d": [
           {
            "colorbar": {
             "outlinewidth": 0,
             "ticks": ""
            },
            "type": "mesh3d"
           }
          ],
          "parcoords": [
           {
            "line": {
             "colorbar": {
              "outlinewidth": 0,
              "ticks": ""
             }
            },
            "type": "parcoords"
           }
          ],
          "pie": [
           {
            "automargin": true,
            "type": "pie"
           }
          ],
          "scatter": [
           {
            "fillpattern": {
             "fillmode": "overlay",
             "size": 10,
             "solidity": 0.2
            },
            "type": "scatter"
           }
          ],
          "scatter3d": [
           {
            "line": {
             "colorbar": {
              "outlinewidth": 0,
              "ticks": ""
             }
            },
            "marker": {
             "colorbar": {
              "outlinewidth": 0,
              "ticks": ""
             }
            },
            "type": "scatter3d"
           }
          ],
          "scattercarpet": [
           {
            "marker": {
             "colorbar": {
              "outlinewidth": 0,
              "ticks": ""
             }
            },
            "type": "scattercarpet"
           }
          ],
          "scattergeo": [
           {
            "marker": {
             "colorbar": {
              "outlinewidth": 0,
              "ticks": ""
             }
            },
            "type": "scattergeo"
           }
          ],
          "scattergl": [
           {
            "marker": {
             "colorbar": {
              "outlinewidth": 0,
              "ticks": ""
             }
            },
            "type": "scattergl"
           }
          ],
          "scattermapbox": [
           {
            "marker": {
             "colorbar": {
              "outlinewidth": 0,
              "ticks": ""
             }
            },
            "type": "scattermapbox"
           }
          ],
          "scatterpolar": [
           {
            "marker": {
             "colorbar": {
              "outlinewidth": 0,
              "ticks": ""
             }
            },
            "type": "scatterpolar"
           }
          ],
          "scatterpolargl": [
           {
            "marker": {
             "colorbar": {
              "outlinewidth": 0,
              "ticks": ""
             }
            },
            "type": "scatterpolargl"
           }
          ],
          "scatterternary": [
           {
            "marker": {
             "colorbar": {
              "outlinewidth": 0,
              "ticks": ""
             }
            },
            "type": "scatterternary"
           }
          ],
          "surface": [
           {
            "colorbar": {
             "outlinewidth": 0,
             "ticks": ""
            },
            "colorscale": [
             [
              0,
              "#0d0887"
             ],
             [
              0.1111111111111111,
              "#46039f"
             ],
             [
              0.2222222222222222,
              "#7201a8"
             ],
             [
              0.3333333333333333,
              "#9c179e"
             ],
             [
              0.4444444444444444,
              "#bd3786"
             ],
             [
              0.5555555555555556,
              "#d8576b"
             ],
             [
              0.6666666666666666,
              "#ed7953"
             ],
             [
              0.7777777777777778,
              "#fb9f3a"
             ],
             [
              0.8888888888888888,
              "#fdca26"
             ],
             [
              1,
              "#f0f921"
             ]
            ],
            "type": "surface"
           }
          ],
          "table": [
           {
            "cells": {
             "fill": {
              "color": "#EBF0F8"
             },
             "line": {
              "color": "white"
             }
            },
            "header": {
             "fill": {
              "color": "#C8D4E3"
             },
             "line": {
              "color": "white"
             }
            },
            "type": "table"
           }
          ]
         },
         "layout": {
          "annotationdefaults": {
           "arrowcolor": "#2a3f5f",
           "arrowhead": 0,
           "arrowwidth": 1
          },
          "autotypenumbers": "strict",
          "coloraxis": {
           "colorbar": {
            "outlinewidth": 0,
            "ticks": ""
           }
          },
          "colorscale": {
           "diverging": [
            [
             0,
             "#8e0152"
            ],
            [
             0.1,
             "#c51b7d"
            ],
            [
             0.2,
             "#de77ae"
            ],
            [
             0.3,
             "#f1b6da"
            ],
            [
             0.4,
             "#fde0ef"
            ],
            [
             0.5,
             "#f7f7f7"
            ],
            [
             0.6,
             "#e6f5d0"
            ],
            [
             0.7,
             "#b8e186"
            ],
            [
             0.8,
             "#7fbc41"
            ],
            [
             0.9,
             "#4d9221"
            ],
            [
             1,
             "#276419"
            ]
           ],
           "sequential": [
            [
             0,
             "#0d0887"
            ],
            [
             0.1111111111111111,
             "#46039f"
            ],
            [
             0.2222222222222222,
             "#7201a8"
            ],
            [
             0.3333333333333333,
             "#9c179e"
            ],
            [
             0.4444444444444444,
             "#bd3786"
            ],
            [
             0.5555555555555556,
             "#d8576b"
            ],
            [
             0.6666666666666666,
             "#ed7953"
            ],
            [
             0.7777777777777778,
             "#fb9f3a"
            ],
            [
             0.8888888888888888,
             "#fdca26"
            ],
            [
             1,
             "#f0f921"
            ]
           ],
           "sequentialminus": [
            [
             0,
             "#0d0887"
            ],
            [
             0.1111111111111111,
             "#46039f"
            ],
            [
             0.2222222222222222,
             "#7201a8"
            ],
            [
             0.3333333333333333,
             "#9c179e"
            ],
            [
             0.4444444444444444,
             "#bd3786"
            ],
            [
             0.5555555555555556,
             "#d8576b"
            ],
            [
             0.6666666666666666,
             "#ed7953"
            ],
            [
             0.7777777777777778,
             "#fb9f3a"
            ],
            [
             0.8888888888888888,
             "#fdca26"
            ],
            [
             1,
             "#f0f921"
            ]
           ]
          },
          "colorway": [
           "#636efa",
           "#EF553B",
           "#00cc96",
           "#ab63fa",
           "#FFA15A",
           "#19d3f3",
           "#FF6692",
           "#B6E880",
           "#FF97FF",
           "#FECB52"
          ],
          "font": {
           "color": "#2a3f5f"
          },
          "geo": {
           "bgcolor": "white",
           "lakecolor": "white",
           "landcolor": "#E5ECF6",
           "showlakes": true,
           "showland": true,
           "subunitcolor": "white"
          },
          "hoverlabel": {
           "align": "left"
          },
          "hovermode": "closest",
          "mapbox": {
           "style": "light"
          },
          "paper_bgcolor": "white",
          "plot_bgcolor": "#E5ECF6",
          "polar": {
           "angularaxis": {
            "gridcolor": "white",
            "linecolor": "white",
            "ticks": ""
           },
           "bgcolor": "#E5ECF6",
           "radialaxis": {
            "gridcolor": "white",
            "linecolor": "white",
            "ticks": ""
           }
          },
          "scene": {
           "xaxis": {
            "backgroundcolor": "#E5ECF6",
            "gridcolor": "white",
            "gridwidth": 2,
            "linecolor": "white",
            "showbackground": true,
            "ticks": "",
            "zerolinecolor": "white"
           },
           "yaxis": {
            "backgroundcolor": "#E5ECF6",
            "gridcolor": "white",
            "gridwidth": 2,
            "linecolor": "white",
            "showbackground": true,
            "ticks": "",
            "zerolinecolor": "white"
           },
           "zaxis": {
            "backgroundcolor": "#E5ECF6",
            "gridcolor": "white",
            "gridwidth": 2,
            "linecolor": "white",
            "showbackground": true,
            "ticks": "",
            "zerolinecolor": "white"
           }
          },
          "shapedefaults": {
           "line": {
            "color": "#2a3f5f"
           }
          },
          "ternary": {
           "aaxis": {
            "gridcolor": "white",
            "linecolor": "white",
            "ticks": ""
           },
           "baxis": {
            "gridcolor": "white",
            "linecolor": "white",
            "ticks": ""
           },
           "bgcolor": "#E5ECF6",
           "caxis": {
            "gridcolor": "white",
            "linecolor": "white",
            "ticks": ""
           }
          },
          "title": {
           "x": 0.05
          },
          "xaxis": {
           "automargin": true,
           "gridcolor": "white",
           "linecolor": "white",
           "ticks": "",
           "title": {
            "standoff": 15
           },
           "zerolinecolor": "white",
           "zerolinewidth": 2
          },
          "yaxis": {
           "automargin": true,
           "gridcolor": "white",
           "linecolor": "white",
           "ticks": "",
           "title": {
            "standoff": 15
           },
           "zerolinecolor": "white",
           "zerolinewidth": 2
          }
         }
        },
        "title": {
         "text": "Relative Occurrences of Ethnicity-related Words Over 1 Years"
        },
        "xaxis": {
         "anchor": "y",
         "domain": [
          0,
          1
         ],
         "title": {
          "text": "Year"
         }
        },
        "yaxis": {
         "anchor": "x",
         "domain": [
          0,
          1
         ],
         "title": {
          "text": "Relative Word Occurrence"
         }
        }
       }
      }
     },
     "metadata": {},
     "output_type": "display_data"
    }
   ],
   "source": [
    "ethnicities=['German','Nazi','Japanese','French','Spanish','American']\n",
    "fig = plot_relative_occurrences(df_sum, ethmerged, ethnicities,1,[\n",
    "    ('1914', '1918', 'WWI'),\n",
    "    ('1939', '1945', 'WWII'),\n",
    "    ('1989', '1989', 'Fall of the Berlin Wall')\n",
    "])\n",
    "fig.show()\n",
    "\n",
    "#fig_json = fig.to_json()\n",
    "\n",
    "#with open('figures/ethnicity-representation1.json', 'w') as json_file:\n",
    "#   json.dump(json.loads(fig_json), json_file, indent=4)\n"
   ]
  },
  {
   "cell_type": "code",
   "execution_count": 13,
   "metadata": {},
   "outputs": [
    {
     "name": "stdout",
     "output_type": "stream",
     "text": [
      "German\n",
      "       start_date  end_date release_date_window\n",
      "group                                          \n",
      "2          1920.0    1920.0            [1920.0]\n",
      "4          1944.0    1945.0    [1944.0, 1945.0]\n",
      "Nazi\n",
      "       start_date  end_date       release_date_window\n",
      "group                                                \n",
      "2          1944.0    1946.0  [1944.0, 1945.0, 1946.0]\n",
      "Japanese\n",
      "       start_date  end_date       release_date_window\n",
      "group                                                \n",
      "2          1944.0    1946.0  [1944.0, 1945.0, 1946.0]\n",
      "French\n",
      "       start_date  end_date release_date_window\n",
      "group                                          \n",
      "2          1917.0    1917.0            [1917.0]\n",
      "4          1927.0    1928.0    [1927.0, 1928.0]\n",
      "Spanish\n",
      "       start_date  end_date release_date_window\n",
      "group                                          \n",
      "2          1928.0    1929.0    [1928.0, 1929.0]\n",
      "American\n",
      "       start_date  end_date       release_date_window\n",
      "group                                                \n",
      "2          1917.0    1919.0  [1917.0, 1918.0, 1919.0]\n"
     ]
    }
   ],
   "source": [
    "for eth in ['German','Nazi','Japanese','French','Spanish','American']:\n",
    "    d = get_relative_occurrences(df_sum, ethmerged, [eth], period=1)\n",
    "    print(eth)\n",
    "    print(get_anomalies_window(d))"
   ]
  },
  {
   "cell_type": "code",
   "execution_count": 14,
   "metadata": {},
   "outputs": [
    {
     "data": {
      "application/vnd.plotly.v1+json": {
       "config": {
        "plotlyServerURL": "https://plot.ly"
       },
       "data": [
        {
         "hovertemplate": "Ethnicity=French<br>Year=%{x}<br>Relative Word Occurrence=%{y}<extra></extra>",
         "legendgroup": "French",
         "line": {
          "color": "#636efa",
          "dash": "solid"
         },
         "marker": {
          "symbol": "circle"
         },
         "mode": "lines",
         "name": "French",
         "orientation": "v",
         "showlegend": true,
         "type": "scatter",
         "x": [
          1910,
          1911,
          1912,
          1913,
          1914,
          1915,
          1916,
          1917,
          1918,
          1919,
          1920,
          1921,
          1922,
          1923,
          1924,
          1925,
          1926,
          1927,
          1928,
          1929,
          1930,
          1931,
          1932,
          1933,
          1934,
          1935,
          1936,
          1937,
          1938,
          1939,
          1940,
          1941,
          1942,
          1943,
          1944,
          1945,
          1946,
          1947,
          1948,
          1949,
          1950,
          1951,
          1952,
          1953,
          1954,
          1955,
          1956,
          1957,
          1958,
          1959,
          1960,
          1961,
          1962,
          1963,
          1964,
          1965,
          1966,
          1967,
          1968,
          1969,
          1970,
          1971,
          1972,
          1973,
          1974,
          1975,
          1976,
          1977,
          1978,
          1979,
          1980,
          1981,
          1982,
          1983,
          1984,
          1985,
          1986,
          1987,
          1988,
          1989,
          1990,
          1991,
          1992,
          1993,
          1994,
          1995,
          1996,
          1997,
          1998,
          1999,
          2000,
          2001,
          2002,
          2003,
          2004,
          2005,
          2006,
          2007,
          2008,
          2009,
          2010,
          2011,
          2012,
          2013,
          2014
         ],
         "xaxis": "x",
         "y": [
          0,
          0.0005586592178770949,
          0.0016207455429497568,
          0.0005583472920156337,
          0,
          0.002054593484003522,
          0.00038211692777990065,
          0.006246996636232581,
          0.0014684287812041115,
          0.0014762326542663124,
          0.0016462841015992475,
          0.004931506849315068,
          0.0005611672278338945,
          0.0040923706518561824,
          0.0014741109268472453,
          0.0033603478948408777,
          0.003034134007585335,
          0.006169598319768968,
          0.0033235331714176145,
          0.0010402219140083217,
          0.002533783783783784,
          0.0026659183387119406,
          0.0011896668932698845,
          0.0011729843190517349,
          0.0029754368194479614,
          0.002586112028172114,
          0.0021903748670129546,
          0.0023274296094459583,
          0.002652519893899204,
          0.0017883755588673621,
          0.0007583270139415504,
          0.0007908448083364346,
          0.0011717517688944973,
          0.0009370684553166305,
          0.0034052808046940485,
          0.0015603981705676622,
          0.0008712319219376198,
          0.0006402048655569782,
          0.0009193993257738277,
          0.001949317738791423,
          0.001075183179356483,
          0.0021899088997897687,
          0.0006537282941777324,
          0.0018523696351181323,
          0.002060106640814348,
          0.001546551190844417,
          0.0015355396613730957,
          0.0020382781731500036,
          0.0028096201393571587,
          0.001167466597483461,
          0.0010814552061253623,
          0.0010938046902345118,
          0.0014865677981099352,
          0.0011257848019051743,
          0.0016531409678388939,
          0.002384596220237036,
          0.0022741809395210007,
          0.001615962903112485,
          0.0008165583839244506,
          0.0027046963363658717,
          0.0015582836076165863,
          0.0015387703218037064,
          0.0004810583283223091,
          0.0011498426531106269,
          0.0011684897270278166,
          0.0013453650533223954,
          0.0009104279011135233,
          0.0016094746431825084,
          0.001160507052312087,
          0.0012670082080096954,
          0.0006364125911783424,
          0.0011918951132300357,
          0.00108499095840868,
          0.0008110833442939191,
          0.0009715538082649856,
          0.000994446112278595,
          0.00038312631069527345,
          0.000630947999369052,
          0.0006848611444029723,
          0.00027538252353660005,
          0.000605410641389331,
          0.0016950375072129255,
          0.0008856063897336497,
          0.0007455595351217016,
          0.0008377394767561629,
          0.0011305822498586771,
          0.0009116903568024533,
          0.0008057718054247038,
          0.0008805500050800962,
          0.001062871138427413,
          0.0006950250309739416,
          0.0010200675099224748,
          0.0008248556502612042,
          0.00109644766845965,
          0.0008248795241747587,
          0.000600608275615304,
          0.000821049520233397,
          0.0008620548550602074,
          0.0006475308904080506,
          0.0007186785093181332,
          0.0007502963355274772,
          0.0006841687713347842,
          0.0006546109156370183,
          0.0008110300081103001,
          0
         ],
         "yaxis": "y"
        },
        {
         "hovertemplate": "Ethnicity=Spanish<br>Year=%{x}<br>Relative Word Occurrence=%{y}<extra></extra>",
         "legendgroup": "Spanish",
         "line": {
          "color": "#EF553B",
          "dash": "solid"
         },
         "marker": {
          "symbol": "circle"
         },
         "mode": "lines",
         "name": "Spanish",
         "orientation": "v",
         "showlegend": true,
         "type": "scatter",
         "x": [
          1910,
          1911,
          1912,
          1913,
          1914,
          1915,
          1916,
          1917,
          1918,
          1919,
          1920,
          1921,
          1922,
          1923,
          1924,
          1925,
          1926,
          1927,
          1928,
          1929,
          1930,
          1931,
          1932,
          1933,
          1934,
          1935,
          1936,
          1937,
          1938,
          1939,
          1940,
          1941,
          1942,
          1943,
          1944,
          1945,
          1946,
          1947,
          1948,
          1949,
          1950,
          1951,
          1952,
          1953,
          1954,
          1955,
          1956,
          1957,
          1958,
          1959,
          1960,
          1961,
          1962,
          1963,
          1964,
          1965,
          1966,
          1967,
          1968,
          1969,
          1970,
          1971,
          1972,
          1973,
          1974,
          1975,
          1976,
          1977,
          1978,
          1979,
          1980,
          1981,
          1982,
          1983,
          1984,
          1985,
          1986,
          1987,
          1988,
          1989,
          1990,
          1991,
          1992,
          1993,
          1994,
          1995,
          1996,
          1997,
          1998,
          1999,
          2000,
          2001,
          2002,
          2003,
          2004,
          2005,
          2006,
          2007,
          2008,
          2009,
          2010,
          2011,
          2012,
          2013,
          2014
         ],
         "xaxis": "x",
         "y": [
          0,
          0,
          0,
          0.0016750418760469012,
          0,
          0,
          0,
          0,
          0,
          0,
          0.00023518344308560678,
          0.000547945205479452,
          0.0002805836139169473,
          0.00029231218941829873,
          0.00018426386585590566,
          0.000790670092903736,
          0.0015170670037926676,
          0.00026253609871357313,
          0,
          0,
          0.0004222972972972973,
          0.00007015574575557738,
          0.00005665080444142307,
          0.0003704161007531794,
          0.00012661433274246644,
          0.0006602839220864972,
          0.0004380749734025909,
          0.0006811989100817438,
          0.0002306539038173221,
          0.00029806259314456036,
          0.001049991250072916,
          0.0003256419799032378,
          0.0005858758844472486,
          0.0003452357466956007,
          0.00020955574182732607,
          0.00016142050040355126,
          0.0002323285125166986,
          0.0003201024327784891,
          0.00030646644192460924,
          0.00004533297066956798,
          0.0004778591908251035,
          0.00030658724597056763,
          0.0001634320735444331,
          0.00010485111142178107,
          0.00028275973501373406,
          0.00023198267862666253,
          0.0001616357538287469,
          0.0007600359289711877,
          0.0001498464074323818,
          0.0009080295758204696,
          0.0002595492494700869,
          0.0002625131256562828,
          0.00003539447138356989,
          0.0004762935700368045,
          0.0004884280132251278,
          0.00021354593017048083,
          0.0002842726174401251,
          0.0002810370266282583,
          0.0004970355380409699,
          0.00021075555867786013,
          0,
          0.00006690305746972637,
          0.0005111244738424534,
          0.00036310820624546115,
          0.00029212243175695416,
          0.00039376538146021327,
          0.0002801316618810841,
          0.0003036744609778318,
          0.00020829613759447717,
          0.00011017462678345177,
          0.00026925148088314486,
          0.00036486585098878646,
          0.00019288728149487644,
          0.00008768468586961288,
          0.00042929121760545876,
          0.00011257880516361452,
          0.000282303597354412,
          0.00017526333315807,
          0.00003424305722014861,
          0.00010326844632622502,
          0.00020756936276205632,
          0.0002344200807847663,
          0.000367610199512081,
          0.0003362327315254733,
          0.000370802719219941,
          0.00038157150932730357,
          0.0002072023538187394,
          0.00027272276491297664,
          0.0004289858999108161,
          0.0002426118902932138,
          0.0003021847960756268,
          0.00019474016098519975,
          0.00020621391256530106,
          0.0001986318239963134,
          0.00020260198839380038,
          0.0003450302859917704,
          0.0003065251542204682,
          0.0004146592973707327,
          0.0002282281007175916,
          0.00023041601062108086,
          0.00019545534791051927,
          0.00020379495316355273,
          0.00015001500150015003,
          0,
          0
         ],
         "yaxis": "y"
        },
        {
         "hovertemplate": "Ethnicity=American<br>Year=%{x}<br>Relative Word Occurrence=%{y}<extra></extra>",
         "legendgroup": "American",
         "line": {
          "color": "#00cc96",
          "dash": "solid"
         },
         "marker": {
          "symbol": "circle"
         },
         "mode": "lines",
         "name": "American",
         "orientation": "v",
         "showlegend": true,
         "type": "scatter",
         "x": [
          1910,
          1911,
          1912,
          1913,
          1914,
          1915,
          1916,
          1917,
          1918,
          1919,
          1920,
          1921,
          1922,
          1923,
          1924,
          1925,
          1926,
          1927,
          1928,
          1929,
          1930,
          1931,
          1932,
          1933,
          1934,
          1935,
          1936,
          1937,
          1938,
          1939,
          1940,
          1941,
          1942,
          1943,
          1944,
          1945,
          1946,
          1947,
          1948,
          1949,
          1950,
          1951,
          1952,
          1953,
          1954,
          1955,
          1956,
          1957,
          1958,
          1959,
          1960,
          1961,
          1962,
          1963,
          1964,
          1965,
          1966,
          1967,
          1968,
          1969,
          1970,
          1971,
          1972,
          1973,
          1974,
          1975,
          1976,
          1977,
          1978,
          1979,
          1980,
          1981,
          1982,
          1983,
          1984,
          1985,
          1986,
          1987,
          1988,
          1989,
          1990,
          1991,
          1992,
          1993,
          1994,
          1995,
          1996,
          1997,
          1998,
          1999,
          2000,
          2001,
          2002,
          2003,
          2004,
          2005,
          2006,
          2007,
          2008,
          2009,
          2010,
          2011,
          2012,
          2013,
          2014
         ],
         "xaxis": "x",
         "y": [
          0.0016501650165016502,
          0.0011173184357541898,
          0.0016207455429497568,
          0.0005583472920156337,
          0.0005777007510109763,
          0.002054593484003522,
          0.0026748184944593045,
          0.0028832292167227293,
          0.0014684287812041115,
          0.001771479185119575,
          0.0011759172154280338,
          0.0008219178082191781,
          0.001964085297418631,
          0,
          0.002763957987838585,
          0.0009883376161296698,
          0.0015170670037926676,
          0.0011814124442110791,
          0.00102262559120542,
          0.0009246417013407304,
          0.0008445945945945946,
          0.0013329591693559703,
          0.0015295717199184228,
          0.0016668724533893072,
          0.0007596859964547987,
          0.0011004732034774953,
          0.0012516427811502598,
          0.0013056312443233424,
          0.0008072886633606274,
          0.0015499254843517139,
          0.0016916525695619203,
          0.001628209899516189,
          0.002073099283428726,
          0.002071414480173604,
          0.001519279128248114,
          0.0015065913370998117,
          0.0014520532032293663,
          0.0008536064874093043,
          0.0014885512893481022,
          0.001858651797452287,
          0.0013141127747690348,
          0.0017957252978276104,
          0.0012665985699693565,
          0.001502865930378862,
          0.0015753756665050896,
          0.0016238787503866378,
          0.0012930860306299753,
          0.0022455606992330544,
          0.001910541694762868,
          0.0024646517057984175,
          0.0010814552061253623,
          0.001312565628281414,
          0.0018051180405620642,
          0.00164537778739987,
          0.0015779981965734896,
          0.0021710502900665553,
          0.0016701016274607349,
          0.0014051851331412914,
          0.0013135939219654205,
          0.0011240296462819207,
          0.001786325111170233,
          0.000903191275841306,
          0.0010823812387251955,
          0.0011498426531106269,
          0.001038657535135837,
          0.0013781788351107465,
          0.0011205266475243364,
          0.0013058001822046767,
          0.0013092900077367137,
          0.001459813804880736,
          0.001174915552944632,
          0.0009486512125708448,
          0.0007956600361663653,
          0.0011837432592397739,
          0.0012878736528163764,
          0.0014447613329330532,
          0.0014316825294402322,
          0.001261895998738104,
          0.0015580591035167619,
          0.0014285468408461127,
          0.0011416314951913098,
          0.0013343912290825159,
          0.000935735053303479,
          0.0010964110810613259,
          0.0008652063448465289,
          0.0011447145279819106,
          0.0010360117690936968,
          0.001053701591709228,
          0.0007337916709000802,
          0.0009473416668592158,
          0.0009770641739778598,
          0.0009551541229274083,
          0.0009365548529007424,
          0.0008263083878246638,
          0.0008031721682754229,
          0.0007731234186111892,
          0.0010728380397716387,
          0.0009220713323112345,
          0.0006899919324020212,
          0.0007186785093181332,
          0.0007250762906357973,
          0.001069923504108652,
          0.000572784551182391,
          0.0008110300081103001,
          0
         ],
         "yaxis": "y"
        }
       ],
       "layout": {
        "annotations": [
         {
          "showarrow": false,
          "text": "WWI",
          "x": "1914",
          "xanchor": "left",
          "xref": "x",
          "y": 1,
          "yanchor": "top",
          "yref": "y domain"
         },
         {
          "showarrow": false,
          "text": "WWII",
          "x": "1939",
          "xanchor": "left",
          "xref": "x",
          "y": 1,
          "yanchor": "top",
          "yref": "y domain"
         },
         {
          "showarrow": false,
          "text": "Fall of the Berlin Wall",
          "x": "1989",
          "xanchor": "left",
          "xref": "x",
          "y": 1,
          "yanchor": "top",
          "yref": "y domain"
         }
        ],
        "legend": {
         "title": {
          "text": "Ethnicity"
         },
         "tracegroupgap": 0
        },
        "shapes": [
         {
          "fillcolor": "rgba(255, 0, 0, 0.05)",
          "layer": "below",
          "type": "rect",
          "x0": "1914",
          "x1": "1918",
          "xref": "x",
          "y0": 0,
          "y1": 1,
          "yref": "y domain"
         },
         {
          "fillcolor": "rgba(255, 0, 0, 0.05)",
          "layer": "below",
          "type": "rect",
          "x0": "1939",
          "x1": "1945",
          "xref": "x",
          "y0": 0,
          "y1": 1,
          "yref": "y domain"
         },
         {
          "fillcolor": "rgba(255, 0, 0, 0.05)",
          "layer": "below",
          "type": "rect",
          "x0": "1989",
          "x1": "1989",
          "xref": "x",
          "y0": 0,
          "y1": 1,
          "yref": "y domain"
         }
        ],
        "template": {
         "data": {
          "bar": [
           {
            "error_x": {
             "color": "#2a3f5f"
            },
            "error_y": {
             "color": "#2a3f5f"
            },
            "marker": {
             "line": {
              "color": "#E5ECF6",
              "width": 0.5
             },
             "pattern": {
              "fillmode": "overlay",
              "size": 10,
              "solidity": 0.2
             }
            },
            "type": "bar"
           }
          ],
          "barpolar": [
           {
            "marker": {
             "line": {
              "color": "#E5ECF6",
              "width": 0.5
             },
             "pattern": {
              "fillmode": "overlay",
              "size": 10,
              "solidity": 0.2
             }
            },
            "type": "barpolar"
           }
          ],
          "carpet": [
           {
            "aaxis": {
             "endlinecolor": "#2a3f5f",
             "gridcolor": "white",
             "linecolor": "white",
             "minorgridcolor": "white",
             "startlinecolor": "#2a3f5f"
            },
            "baxis": {
             "endlinecolor": "#2a3f5f",
             "gridcolor": "white",
             "linecolor": "white",
             "minorgridcolor": "white",
             "startlinecolor": "#2a3f5f"
            },
            "type": "carpet"
           }
          ],
          "choropleth": [
           {
            "colorbar": {
             "outlinewidth": 0,
             "ticks": ""
            },
            "type": "choropleth"
           }
          ],
          "contour": [
           {
            "colorbar": {
             "outlinewidth": 0,
             "ticks": ""
            },
            "colorscale": [
             [
              0,
              "#0d0887"
             ],
             [
              0.1111111111111111,
              "#46039f"
             ],
             [
              0.2222222222222222,
              "#7201a8"
             ],
             [
              0.3333333333333333,
              "#9c179e"
             ],
             [
              0.4444444444444444,
              "#bd3786"
             ],
             [
              0.5555555555555556,
              "#d8576b"
             ],
             [
              0.6666666666666666,
              "#ed7953"
             ],
             [
              0.7777777777777778,
              "#fb9f3a"
             ],
             [
              0.8888888888888888,
              "#fdca26"
             ],
             [
              1,
              "#f0f921"
             ]
            ],
            "type": "contour"
           }
          ],
          "contourcarpet": [
           {
            "colorbar": {
             "outlinewidth": 0,
             "ticks": ""
            },
            "type": "contourcarpet"
           }
          ],
          "heatmap": [
           {
            "colorbar": {
             "outlinewidth": 0,
             "ticks": ""
            },
            "colorscale": [
             [
              0,
              "#0d0887"
             ],
             [
              0.1111111111111111,
              "#46039f"
             ],
             [
              0.2222222222222222,
              "#7201a8"
             ],
             [
              0.3333333333333333,
              "#9c179e"
             ],
             [
              0.4444444444444444,
              "#bd3786"
             ],
             [
              0.5555555555555556,
              "#d8576b"
             ],
             [
              0.6666666666666666,
              "#ed7953"
             ],
             [
              0.7777777777777778,
              "#fb9f3a"
             ],
             [
              0.8888888888888888,
              "#fdca26"
             ],
             [
              1,
              "#f0f921"
             ]
            ],
            "type": "heatmap"
           }
          ],
          "heatmapgl": [
           {
            "colorbar": {
             "outlinewidth": 0,
             "ticks": ""
            },
            "colorscale": [
             [
              0,
              "#0d0887"
             ],
             [
              0.1111111111111111,
              "#46039f"
             ],
             [
              0.2222222222222222,
              "#7201a8"
             ],
             [
              0.3333333333333333,
              "#9c179e"
             ],
             [
              0.4444444444444444,
              "#bd3786"
             ],
             [
              0.5555555555555556,
              "#d8576b"
             ],
             [
              0.6666666666666666,
              "#ed7953"
             ],
             [
              0.7777777777777778,
              "#fb9f3a"
             ],
             [
              0.8888888888888888,
              "#fdca26"
             ],
             [
              1,
              "#f0f921"
             ]
            ],
            "type": "heatmapgl"
           }
          ],
          "histogram": [
           {
            "marker": {
             "pattern": {
              "fillmode": "overlay",
              "size": 10,
              "solidity": 0.2
             }
            },
            "type": "histogram"
           }
          ],
          "histogram2d": [
           {
            "colorbar": {
             "outlinewidth": 0,
             "ticks": ""
            },
            "colorscale": [
             [
              0,
              "#0d0887"
             ],
             [
              0.1111111111111111,
              "#46039f"
             ],
             [
              0.2222222222222222,
              "#7201a8"
             ],
             [
              0.3333333333333333,
              "#9c179e"
             ],
             [
              0.4444444444444444,
              "#bd3786"
             ],
             [
              0.5555555555555556,
              "#d8576b"
             ],
             [
              0.6666666666666666,
              "#ed7953"
             ],
             [
              0.7777777777777778,
              "#fb9f3a"
             ],
             [
              0.8888888888888888,
              "#fdca26"
             ],
             [
              1,
              "#f0f921"
             ]
            ],
            "type": "histogram2d"
           }
          ],
          "histogram2dcontour": [
           {
            "colorbar": {
             "outlinewidth": 0,
             "ticks": ""
            },
            "colorscale": [
             [
              0,
              "#0d0887"
             ],
             [
              0.1111111111111111,
              "#46039f"
             ],
             [
              0.2222222222222222,
              "#7201a8"
             ],
             [
              0.3333333333333333,
              "#9c179e"
             ],
             [
              0.4444444444444444,
              "#bd3786"
             ],
             [
              0.5555555555555556,
              "#d8576b"
             ],
             [
              0.6666666666666666,
              "#ed7953"
             ],
             [
              0.7777777777777778,
              "#fb9f3a"
             ],
             [
              0.8888888888888888,
              "#fdca26"
             ],
             [
              1,
              "#f0f921"
             ]
            ],
            "type": "histogram2dcontour"
           }
          ],
          "mesh3d": [
           {
            "colorbar": {
             "outlinewidth": 0,
             "ticks": ""
            },
            "type": "mesh3d"
           }
          ],
          "parcoords": [
           {
            "line": {
             "colorbar": {
              "outlinewidth": 0,
              "ticks": ""
             }
            },
            "type": "parcoords"
           }
          ],
          "pie": [
           {
            "automargin": true,
            "type": "pie"
           }
          ],
          "scatter": [
           {
            "fillpattern": {
             "fillmode": "overlay",
             "size": 10,
             "solidity": 0.2
            },
            "type": "scatter"
           }
          ],
          "scatter3d": [
           {
            "line": {
             "colorbar": {
              "outlinewidth": 0,
              "ticks": ""
             }
            },
            "marker": {
             "colorbar": {
              "outlinewidth": 0,
              "ticks": ""
             }
            },
            "type": "scatter3d"
           }
          ],
          "scattercarpet": [
           {
            "marker": {
             "colorbar": {
              "outlinewidth": 0,
              "ticks": ""
             }
            },
            "type": "scattercarpet"
           }
          ],
          "scattergeo": [
           {
            "marker": {
             "colorbar": {
              "outlinewidth": 0,
              "ticks": ""
             }
            },
            "type": "scattergeo"
           }
          ],
          "scattergl": [
           {
            "marker": {
             "colorbar": {
              "outlinewidth": 0,
              "ticks": ""
             }
            },
            "type": "scattergl"
           }
          ],
          "scattermapbox": [
           {
            "marker": {
             "colorbar": {
              "outlinewidth": 0,
              "ticks": ""
             }
            },
            "type": "scattermapbox"
           }
          ],
          "scatterpolar": [
           {
            "marker": {
             "colorbar": {
              "outlinewidth": 0,
              "ticks": ""
             }
            },
            "type": "scatterpolar"
           }
          ],
          "scatterpolargl": [
           {
            "marker": {
             "colorbar": {
              "outlinewidth": 0,
              "ticks": ""
             }
            },
            "type": "scatterpolargl"
           }
          ],
          "scatterternary": [
           {
            "marker": {
             "colorbar": {
              "outlinewidth": 0,
              "ticks": ""
             }
            },
            "type": "scatterternary"
           }
          ],
          "surface": [
           {
            "colorbar": {
             "outlinewidth": 0,
             "ticks": ""
            },
            "colorscale": [
             [
              0,
              "#0d0887"
             ],
             [
              0.1111111111111111,
              "#46039f"
             ],
             [
              0.2222222222222222,
              "#7201a8"
             ],
             [
              0.3333333333333333,
              "#9c179e"
             ],
             [
              0.4444444444444444,
              "#bd3786"
             ],
             [
              0.5555555555555556,
              "#d8576b"
             ],
             [
              0.6666666666666666,
              "#ed7953"
             ],
             [
              0.7777777777777778,
              "#fb9f3a"
             ],
             [
              0.8888888888888888,
              "#fdca26"
             ],
             [
              1,
              "#f0f921"
             ]
            ],
            "type": "surface"
           }
          ],
          "table": [
           {
            "cells": {
             "fill": {
              "color": "#EBF0F8"
             },
             "line": {
              "color": "white"
             }
            },
            "header": {
             "fill": {
              "color": "#C8D4E3"
             },
             "line": {
              "color": "white"
             }
            },
            "type": "table"
           }
          ]
         },
         "layout": {
          "annotationdefaults": {
           "arrowcolor": "#2a3f5f",
           "arrowhead": 0,
           "arrowwidth": 1
          },
          "autotypenumbers": "strict",
          "coloraxis": {
           "colorbar": {
            "outlinewidth": 0,
            "ticks": ""
           }
          },
          "colorscale": {
           "diverging": [
            [
             0,
             "#8e0152"
            ],
            [
             0.1,
             "#c51b7d"
            ],
            [
             0.2,
             "#de77ae"
            ],
            [
             0.3,
             "#f1b6da"
            ],
            [
             0.4,
             "#fde0ef"
            ],
            [
             0.5,
             "#f7f7f7"
            ],
            [
             0.6,
             "#e6f5d0"
            ],
            [
             0.7,
             "#b8e186"
            ],
            [
             0.8,
             "#7fbc41"
            ],
            [
             0.9,
             "#4d9221"
            ],
            [
             1,
             "#276419"
            ]
           ],
           "sequential": [
            [
             0,
             "#0d0887"
            ],
            [
             0.1111111111111111,
             "#46039f"
            ],
            [
             0.2222222222222222,
             "#7201a8"
            ],
            [
             0.3333333333333333,
             "#9c179e"
            ],
            [
             0.4444444444444444,
             "#bd3786"
            ],
            [
             0.5555555555555556,
             "#d8576b"
            ],
            [
             0.6666666666666666,
             "#ed7953"
            ],
            [
             0.7777777777777778,
             "#fb9f3a"
            ],
            [
             0.8888888888888888,
             "#fdca26"
            ],
            [
             1,
             "#f0f921"
            ]
           ],
           "sequentialminus": [
            [
             0,
             "#0d0887"
            ],
            [
             0.1111111111111111,
             "#46039f"
            ],
            [
             0.2222222222222222,
             "#7201a8"
            ],
            [
             0.3333333333333333,
             "#9c179e"
            ],
            [
             0.4444444444444444,
             "#bd3786"
            ],
            [
             0.5555555555555556,
             "#d8576b"
            ],
            [
             0.6666666666666666,
             "#ed7953"
            ],
            [
             0.7777777777777778,
             "#fb9f3a"
            ],
            [
             0.8888888888888888,
             "#fdca26"
            ],
            [
             1,
             "#f0f921"
            ]
           ]
          },
          "colorway": [
           "#636efa",
           "#EF553B",
           "#00cc96",
           "#ab63fa",
           "#FFA15A",
           "#19d3f3",
           "#FF6692",
           "#B6E880",
           "#FF97FF",
           "#FECB52"
          ],
          "font": {
           "color": "#2a3f5f"
          },
          "geo": {
           "bgcolor": "white",
           "lakecolor": "white",
           "landcolor": "#E5ECF6",
           "showlakes": true,
           "showland": true,
           "subunitcolor": "white"
          },
          "hoverlabel": {
           "align": "left"
          },
          "hovermode": "closest",
          "mapbox": {
           "style": "light"
          },
          "paper_bgcolor": "white",
          "plot_bgcolor": "#E5ECF6",
          "polar": {
           "angularaxis": {
            "gridcolor": "white",
            "linecolor": "white",
            "ticks": ""
           },
           "bgcolor": "#E5ECF6",
           "radialaxis": {
            "gridcolor": "white",
            "linecolor": "white",
            "ticks": ""
           }
          },
          "scene": {
           "xaxis": {
            "backgroundcolor": "#E5ECF6",
            "gridcolor": "white",
            "gridwidth": 2,
            "linecolor": "white",
            "showbackground": true,
            "ticks": "",
            "zerolinecolor": "white"
           },
           "yaxis": {
            "backgroundcolor": "#E5ECF6",
            "gridcolor": "white",
            "gridwidth": 2,
            "linecolor": "white",
            "showbackground": true,
            "ticks": "",
            "zerolinecolor": "white"
           },
           "zaxis": {
            "backgroundcolor": "#E5ECF6",
            "gridcolor": "white",
            "gridwidth": 2,
            "linecolor": "white",
            "showbackground": true,
            "ticks": "",
            "zerolinecolor": "white"
           }
          },
          "shapedefaults": {
           "line": {
            "color": "#2a3f5f"
           }
          },
          "ternary": {
           "aaxis": {
            "gridcolor": "white",
            "linecolor": "white",
            "ticks": ""
           },
           "baxis": {
            "gridcolor": "white",
            "linecolor": "white",
            "ticks": ""
           },
           "bgcolor": "#E5ECF6",
           "caxis": {
            "gridcolor": "white",
            "linecolor": "white",
            "ticks": ""
           }
          },
          "title": {
           "x": 0.05
          },
          "xaxis": {
           "automargin": true,
           "gridcolor": "white",
           "linecolor": "white",
           "ticks": "",
           "title": {
            "standoff": 15
           },
           "zerolinecolor": "white",
           "zerolinewidth": 2
          },
          "yaxis": {
           "automargin": true,
           "gridcolor": "white",
           "linecolor": "white",
           "ticks": "",
           "title": {
            "standoff": 15
           },
           "zerolinecolor": "white",
           "zerolinewidth": 2
          }
         }
        },
        "title": {
         "text": "Relative Occurrences of Ethnicity-related Words Over 1 Years"
        },
        "xaxis": {
         "anchor": "y",
         "domain": [
          0,
          1
         ],
         "title": {
          "text": "Year"
         }
        },
        "yaxis": {
         "anchor": "x",
         "domain": [
          0,
          1
         ],
         "title": {
          "text": "Relative Word Occurrence"
         }
        }
       }
      }
     },
     "metadata": {},
     "output_type": "display_data"
    }
   ],
   "source": [
    "ethnicities=['French','Spanish','American']\n",
    "fig = plot_relative_occurrences(df_sum, ethmerged, ethnicities,1,[\n",
    "    ('1914', '1918', 'WWI'),\n",
    "    ('1939', '1945', 'WWII'),\n",
    "    ('1989', '1989', 'Fall of the Berlin Wall')\n",
    "])\n",
    "fig.show()\n",
    "fig_json = fig.to_json()\n",
    "\n",
    "with open('figures/ethnicity-representation2.json', 'w') as json_file:\n",
    "   json.dump(json.loads(fig_json), json_file, indent=4)"
   ]
  },
  {
   "cell_type": "markdown",
   "metadata": {},
   "source": [
    "Looking at some major actors of WWII, the prevalence of german representation can be seen a feen years after its begining as well but fades out rapidly, the same can be observed at a lower extent for the japanese representation. It also seems that big events trigger an increase in representation even after the main spike is going down. German and Japanese representation was mostly inexitent before WWII compared to France for example, but became relatively well represented afterwards, up until a global jump in representation due to film abundance."
   ]
  },
  {
   "cell_type": "code",
   "execution_count": 15,
   "metadata": {},
   "outputs": [
    {
     "data": {
      "application/vnd.plotly.v1+json": {
       "config": {
        "plotlyServerURL": "https://plot.ly"
       },
       "data": [
        {
         "hovertemplate": "Ethnicity=Russian<br>Year=%{x}<br>Relative Word Occurrence=%{y}<extra></extra>",
         "legendgroup": "Russian",
         "line": {
          "color": "#636efa",
          "dash": "solid"
         },
         "marker": {
          "symbol": "circle"
         },
         "mode": "lines",
         "name": "Russian",
         "orientation": "v",
         "showlegend": true,
         "type": "scatter",
         "x": [
          1910,
          1911,
          1912,
          1913,
          1914,
          1915,
          1916,
          1917,
          1918,
          1919,
          1920,
          1921,
          1922,
          1923,
          1924,
          1925,
          1926,
          1927,
          1928,
          1929,
          1930,
          1931,
          1932,
          1933,
          1934,
          1935,
          1936,
          1937,
          1938,
          1939,
          1940,
          1941,
          1942,
          1943,
          1944,
          1945,
          1946,
          1947,
          1948,
          1949,
          1950,
          1951,
          1952,
          1953,
          1954,
          1955,
          1956,
          1957,
          1958,
          1959,
          1960,
          1961,
          1962,
          1963,
          1964,
          1965,
          1966,
          1967,
          1968,
          1969,
          1970,
          1971,
          1972,
          1973,
          1974,
          1975,
          1976,
          1977,
          1978,
          1979,
          1980,
          1981,
          1982,
          1983,
          1984,
          1985,
          1986,
          1987,
          1988,
          1989,
          1990,
          1991,
          1992,
          1993,
          1994,
          1995,
          1996,
          1997,
          1998,
          1999,
          2000,
          2001,
          2002,
          2003,
          2004,
          2005,
          2006,
          2007,
          2008,
          2009,
          2010,
          2011,
          2012,
          2013,
          2014
         ],
         "xaxis": "x",
         "y": [
          0,
          0,
          0,
          0.0005583472920156337,
          0,
          0,
          0,
          0.0009610764055742432,
          0,
          0.0002952465308532625,
          0,
          0.000273972602739726,
          0,
          0,
          0.000552791597567717,
          0.0005930025696778019,
          0.0005056890012642225,
          0.00039380414807035967,
          0.0028122203758149046,
          0.0002311604253351826,
          0.00021114864864864866,
          0.0007015574575557738,
          0.00039655563108996147,
          0.00006173601679219657,
          0.0007596859964547987,
          0.0005502366017387477,
          0.0004380749734025909,
          0.0008514986376021798,
          0.0002883173797716526,
          0.0005365126676602086,
          0.00011666569445254623,
          0.00013956084852995905,
          0.00009013475145342287,
          0.0006411521010061156,
          0.0008906119027661357,
          0.0003766478342749529,
          0.00029041064064587327,
          0.00016005121638924455,
          0.00013134276082483253,
          0.0004079967360261118,
          0.00011946479770627588,
          0.00008759635599159075,
          0.00040858018386108274,
          0.00017475185236963511,
          0.00020197123929552432,
          0.00011599133931333127,
          0.0002424536307431204,
          0.0003109237891245768,
          0.0002247696111485727,
          0.00038915553249448695,
          0.0002595492494700869,
          0.00017500875043752187,
          0.00014157788553427955,
          0.000692790647326261,
          0.00037571385632702135,
          0.0006762287788731893,
          0.00042640892616018763,
          0.000737722194899178,
          0.0007810558454929528,
          0.0007727703818188205,
          0.0011402075177682337,
          0.0007693851609018532,
          0.0004810583283223091,
          0.0002723311546840959,
          0.00042195462364893376,
          0.0008531583264971288,
          0.00021009874641081307,
          0.0007288187063467963,
          0.00020829613759447717,
          0.0006335041040048477,
          0.00022029666617711852,
          0.00034054146092286734,
          0.00016877637130801687,
          0.0003945810864132579,
          0.0003389141191622043,
          0.00043155208646052237,
          0.00036296176802710114,
          0.000613421666053245,
          0.00017121528610074307,
          0.00008605703860518752,
          0.0002594617034525704,
          0.00019835545297172534,
          0.00010025732713965846,
          0.0002777574738688692,
          0.000288402114948843,
          0.0004381006218202374,
          0.000442031688146644,
          0.0007313928695393464,
          0.00031609487361849607,
          0.0004043531504886897,
          0.0003424761022190437,
          0.0003431136169739234,
          0.0006701952158372285,
          0.0001589054591970507,
          0.00029666719729092196,
          0.0005047665295064789,
          0.0002901041638158003,
          0.00039829116721136167,
          0.0004139951594412127,
          0.00037854058887749,
          0.0003341655948147588,
          0.00036391955922062986,
          0.000872814554182691,
          0.00202757502027575,
          0
         ],
         "yaxis": "y"
        },
        {
         "hovertemplate": "Ethnicity=Scandinavian<br>Year=%{x}<br>Relative Word Occurrence=%{y}<extra></extra>",
         "legendgroup": "Scandinavian",
         "line": {
          "color": "#EF553B",
          "dash": "solid"
         },
         "marker": {
          "symbol": "circle"
         },
         "mode": "lines",
         "name": "Scandinavian",
         "orientation": "v",
         "showlegend": true,
         "type": "scatter",
         "x": [
          1910,
          1911,
          1912,
          1913,
          1914,
          1915,
          1916,
          1917,
          1918,
          1919,
          1920,
          1921,
          1922,
          1923,
          1924,
          1925,
          1926,
          1927,
          1928,
          1929,
          1930,
          1931,
          1932,
          1933,
          1934,
          1935,
          1936,
          1937,
          1938,
          1939,
          1940,
          1941,
          1942,
          1943,
          1944,
          1945,
          1946,
          1947,
          1948,
          1949,
          1950,
          1951,
          1952,
          1953,
          1954,
          1955,
          1956,
          1957,
          1958,
          1959,
          1960,
          1961,
          1962,
          1963,
          1964,
          1965,
          1966,
          1967,
          1968,
          1969,
          1970,
          1971,
          1972,
          1973,
          1974,
          1975,
          1976,
          1977,
          1978,
          1979,
          1980,
          1981,
          1982,
          1983,
          1984,
          1985,
          1986,
          1987,
          1988,
          1989,
          1990,
          1991,
          1992,
          1993,
          1994,
          1995,
          1996,
          1997,
          1998,
          1999,
          2000,
          2001,
          2002,
          2003,
          2004,
          2005,
          2006,
          2007,
          2008,
          2009,
          2010,
          2011,
          2012,
          2013,
          2014
         ],
         "xaxis": "x",
         "y": [
          0,
          0,
          0,
          0,
          0,
          0,
          0,
          0,
          0.0003671071953010279,
          0,
          0.00023518344308560678,
          0.000273972602739726,
          0,
          0,
          0.00018426386585590566,
          0.000197667523225934,
          0,
          0,
          0,
          0,
          0.00010557432432432433,
          0,
          0.00005665080444142307,
          0.00006173601679219657,
          0,
          0,
          0,
          0,
          0,
          0,
          0.00011666569445254623,
          0.00004652028284331969,
          0.0004506737572671143,
          0.00019727756954034326,
          0.00005238893545683152,
          0.00010761366693570084,
          0.00005808212812917465,
          0.00005335040546308152,
          0.00013134276082483253,
          0,
          0.00007964319847085059,
          0.00013139453398738614,
          0.00012257405515832482,
          0,
          0.00004039424785910486,
          0.00007732755954222085,
          0,
          0.0001036412630415256,
          0,
          0.00016214813853936957,
          0.00008651641649002898,
          0.00035001750087504374,
          0.00007078894276713977,
          0.00012989824637367397,
          0.00007514277126540426,
          0.00017795494180873403,
          0.00007106815436003127,
          0.000035129628328532286,
          0.0001420101537259914,
          0.00007025185289262004,
          0.00011402075177682338,
          0,
          0.00009019843656043295,
          0,
          0.00012983219189197963,
          0.00019688269073010663,
          0.00007003291547027102,
          0,
          0.00005951318216985062,
          0,
          0.00009790962941205267,
          0.00004864878013183819,
          0.00012055455093429777,
          0,
          0.0001129713730540681,
          0.00009381567096967878,
          0,
          0.000140210666526456,
          0.000017121528610074307,
          0,
          0.000017297446896838028,
          0,
          0.00006683821809310564,
          0.00004385644324245304,
          0,
          0.000014132278123233465,
          0.0000552539610183305,
          0.0000991719145138097,
          0.00007902371840462402,
          0.00004621178862727882,
          0.00009065543882268803,
          0.00006491338699506659,
          0.000060145724498212814,
          0.0000873980025583779,
          0.00001447157059955717,
          0.00004472614818411838,
          0.000038315644277558524,
          0.00003819230370519906,
          0.000053076302492463164,
          0.00004937485941880304,
          0.00005674510100627979,
          0.00008006230302853858,
          0.00004091318222731364,
          0,
          0
         ],
         "yaxis": "y"
        },
        {
         "hovertemplate": "Ethnicity=Soviet<br>Year=%{x}<br>Relative Word Occurrence=%{y}<extra></extra>",
         "legendgroup": "Soviet",
         "line": {
          "color": "#00cc96",
          "dash": "solid"
         },
         "marker": {
          "symbol": "circle"
         },
         "mode": "lines",
         "name": "Soviet",
         "orientation": "v",
         "showlegend": true,
         "type": "scatter",
         "x": [
          1910,
          1911,
          1912,
          1913,
          1914,
          1915,
          1916,
          1917,
          1918,
          1919,
          1920,
          1921,
          1922,
          1923,
          1924,
          1925,
          1926,
          1927,
          1928,
          1929,
          1930,
          1931,
          1932,
          1933,
          1934,
          1935,
          1936,
          1937,
          1938,
          1939,
          1940,
          1941,
          1942,
          1943,
          1944,
          1945,
          1946,
          1947,
          1948,
          1949,
          1950,
          1951,
          1952,
          1953,
          1954,
          1955,
          1956,
          1957,
          1958,
          1959,
          1960,
          1961,
          1962,
          1963,
          1964,
          1965,
          1966,
          1967,
          1968,
          1969,
          1970,
          1971,
          1972,
          1973,
          1974,
          1975,
          1976,
          1977,
          1978,
          1979,
          1980,
          1981,
          1982,
          1983,
          1984,
          1985,
          1986,
          1987,
          1988,
          1989,
          1990,
          1991,
          1992,
          1993,
          1994,
          1995,
          1996,
          1997,
          1998,
          1999,
          2000,
          2001,
          2002,
          2003,
          2004,
          2005,
          2006,
          2007,
          2008,
          2009,
          2010,
          2011,
          2012,
          2013,
          2014
         ],
         "xaxis": "x",
         "y": [
          0,
          0,
          0.0008103727714748784,
          0,
          0,
          0,
          0,
          0,
          0,
          0,
          0,
          0,
          0,
          0,
          0.0009213193292795283,
          0.000395335046451868,
          0,
          0,
          0.0001278281989006775,
          0,
          0.0004222972972972973,
          0.0002806229830223095,
          0.00011330160888284614,
          0,
          0.0002532286654849329,
          0.000055023660173874766,
          0.00025032855623005195,
          0.00017029972752043596,
          0.00005766347595433053,
          0.00005961251862891207,
          0.000058332847226273116,
          0,
          0.00009013475145342287,
          0.00044387453146577235,
          0.00020955574182732607,
          0.00005380683346785042,
          0.00029041064064587327,
          0.00005335040546308152,
          0.0001751236810997767,
          0.0005893286187043837,
          0.00015928639694170118,
          0.00004379817799579537,
          0.00024514811031664963,
          0.000034950370473927024,
          0.0002423654871546292,
          0,
          0.00008081787691437345,
          0.00044911213984661095,
          0,
          0.00003242962770787391,
          0.00017303283298005797,
          0.0002625131256562828,
          0.000318550242452129,
          0.00043299415457891317,
          0.0006387135557559362,
          0.00035590988361746805,
          0.0006040793120602657,
          0.00035129628328532284,
          0.0005680406149039657,
          0.0005268888966946503,
          0.0011022006005092927,
          0.0002676122298789055,
          0.0006013229104028864,
          0.00003025901718712176,
          0.00019474828783796943,
          0.00009844134536505332,
          0.00007003291547027102,
          0.00033404190707561496,
          0.00017853954650955185,
          0.0005784167906131218,
          0.00034268370294218437,
          0.00017027073046143367,
          0.00024110910186859555,
          0.0004822657722828708,
          0.0006778282383244086,
          0.0008818673071149805,
          0.000141151798677206,
          0.000245368666421298,
          0.0005992535013526007,
          0.00030980533897867506,
          0.0006918978758735211,
          0.00014425851125216387,
          0.00008354777261638205,
          0.00010233170089905709,
          0.00015106777449701297,
          0.00019785189372526851,
          0.00009669443178207837,
          0.0000991719145138097,
          0.00020320384732617605,
          0.00010397652441137734,
          0.0002618934899322099,
          0.00010200675099224749,
          0.00027495188342040145,
          0.00009534327551823043,
          0.00016642306189490746,
          0.00007667339688706008,
          0.00014778891364201145,
          0.00018550547513953832,
          0.00014861364697889686,
          0.00009874971883760608,
          0.00005674510100627979,
          0.00018195977961031493,
          0.00009546409186373182,
          0.00040551500405515005,
          0
         ],
         "yaxis": "y"
        }
       ],
       "layout": {
        "annotations": [
         {
          "showarrow": false,
          "text": "Cold War",
          "x": "1947",
          "xanchor": "left",
          "xref": "x",
          "y": 1,
          "yanchor": "top",
          "yref": "y domain"
         },
         {
          "showarrow": false,
          "text": "Start of USSR",
          "x": "1922",
          "xanchor": "left",
          "xref": "x",
          "y": 1,
          "yanchor": "top",
          "yref": "y domain"
         }
        ],
        "legend": {
         "title": {
          "text": "Ethnicity"
         },
         "tracegroupgap": 0
        },
        "shapes": [
         {
          "fillcolor": "rgba(255, 0, 0, 0.05)",
          "layer": "below",
          "type": "rect",
          "x0": "1947",
          "x1": "1991",
          "xref": "x",
          "y0": 0,
          "y1": 1,
          "yref": "y domain"
         },
         {
          "fillcolor": "rgba(255, 0, 0, 0.05)",
          "layer": "below",
          "type": "rect",
          "x0": "1922",
          "x1": "1922",
          "xref": "x",
          "y0": 0,
          "y1": 1,
          "yref": "y domain"
         }
        ],
        "template": {
         "data": {
          "bar": [
           {
            "error_x": {
             "color": "#2a3f5f"
            },
            "error_y": {
             "color": "#2a3f5f"
            },
            "marker": {
             "line": {
              "color": "#E5ECF6",
              "width": 0.5
             },
             "pattern": {
              "fillmode": "overlay",
              "size": 10,
              "solidity": 0.2
             }
            },
            "type": "bar"
           }
          ],
          "barpolar": [
           {
            "marker": {
             "line": {
              "color": "#E5ECF6",
              "width": 0.5
             },
             "pattern": {
              "fillmode": "overlay",
              "size": 10,
              "solidity": 0.2
             }
            },
            "type": "barpolar"
           }
          ],
          "carpet": [
           {
            "aaxis": {
             "endlinecolor": "#2a3f5f",
             "gridcolor": "white",
             "linecolor": "white",
             "minorgridcolor": "white",
             "startlinecolor": "#2a3f5f"
            },
            "baxis": {
             "endlinecolor": "#2a3f5f",
             "gridcolor": "white",
             "linecolor": "white",
             "minorgridcolor": "white",
             "startlinecolor": "#2a3f5f"
            },
            "type": "carpet"
           }
          ],
          "choropleth": [
           {
            "colorbar": {
             "outlinewidth": 0,
             "ticks": ""
            },
            "type": "choropleth"
           }
          ],
          "contour": [
           {
            "colorbar": {
             "outlinewidth": 0,
             "ticks": ""
            },
            "colorscale": [
             [
              0,
              "#0d0887"
             ],
             [
              0.1111111111111111,
              "#46039f"
             ],
             [
              0.2222222222222222,
              "#7201a8"
             ],
             [
              0.3333333333333333,
              "#9c179e"
             ],
             [
              0.4444444444444444,
              "#bd3786"
             ],
             [
              0.5555555555555556,
              "#d8576b"
             ],
             [
              0.6666666666666666,
              "#ed7953"
             ],
             [
              0.7777777777777778,
              "#fb9f3a"
             ],
             [
              0.8888888888888888,
              "#fdca26"
             ],
             [
              1,
              "#f0f921"
             ]
            ],
            "type": "contour"
           }
          ],
          "contourcarpet": [
           {
            "colorbar": {
             "outlinewidth": 0,
             "ticks": ""
            },
            "type": "contourcarpet"
           }
          ],
          "heatmap": [
           {
            "colorbar": {
             "outlinewidth": 0,
             "ticks": ""
            },
            "colorscale": [
             [
              0,
              "#0d0887"
             ],
             [
              0.1111111111111111,
              "#46039f"
             ],
             [
              0.2222222222222222,
              "#7201a8"
             ],
             [
              0.3333333333333333,
              "#9c179e"
             ],
             [
              0.4444444444444444,
              "#bd3786"
             ],
             [
              0.5555555555555556,
              "#d8576b"
             ],
             [
              0.6666666666666666,
              "#ed7953"
             ],
             [
              0.7777777777777778,
              "#fb9f3a"
             ],
             [
              0.8888888888888888,
              "#fdca26"
             ],
             [
              1,
              "#f0f921"
             ]
            ],
            "type": "heatmap"
           }
          ],
          "heatmapgl": [
           {
            "colorbar": {
             "outlinewidth": 0,
             "ticks": ""
            },
            "colorscale": [
             [
              0,
              "#0d0887"
             ],
             [
              0.1111111111111111,
              "#46039f"
             ],
             [
              0.2222222222222222,
              "#7201a8"
             ],
             [
              0.3333333333333333,
              "#9c179e"
             ],
             [
              0.4444444444444444,
              "#bd3786"
             ],
             [
              0.5555555555555556,
              "#d8576b"
             ],
             [
              0.6666666666666666,
              "#ed7953"
             ],
             [
              0.7777777777777778,
              "#fb9f3a"
             ],
             [
              0.8888888888888888,
              "#fdca26"
             ],
             [
              1,
              "#f0f921"
             ]
            ],
            "type": "heatmapgl"
           }
          ],
          "histogram": [
           {
            "marker": {
             "pattern": {
              "fillmode": "overlay",
              "size": 10,
              "solidity": 0.2
             }
            },
            "type": "histogram"
           }
          ],
          "histogram2d": [
           {
            "colorbar": {
             "outlinewidth": 0,
             "ticks": ""
            },
            "colorscale": [
             [
              0,
              "#0d0887"
             ],
             [
              0.1111111111111111,
              "#46039f"
             ],
             [
              0.2222222222222222,
              "#7201a8"
             ],
             [
              0.3333333333333333,
              "#9c179e"
             ],
             [
              0.4444444444444444,
              "#bd3786"
             ],
             [
              0.5555555555555556,
              "#d8576b"
             ],
             [
              0.6666666666666666,
              "#ed7953"
             ],
             [
              0.7777777777777778,
              "#fb9f3a"
             ],
             [
              0.8888888888888888,
              "#fdca26"
             ],
             [
              1,
              "#f0f921"
             ]
            ],
            "type": "histogram2d"
           }
          ],
          "histogram2dcontour": [
           {
            "colorbar": {
             "outlinewidth": 0,
             "ticks": ""
            },
            "colorscale": [
             [
              0,
              "#0d0887"
             ],
             [
              0.1111111111111111,
              "#46039f"
             ],
             [
              0.2222222222222222,
              "#7201a8"
             ],
             [
              0.3333333333333333,
              "#9c179e"
             ],
             [
              0.4444444444444444,
              "#bd3786"
             ],
             [
              0.5555555555555556,
              "#d8576b"
             ],
             [
              0.6666666666666666,
              "#ed7953"
             ],
             [
              0.7777777777777778,
              "#fb9f3a"
             ],
             [
              0.8888888888888888,
              "#fdca26"
             ],
             [
              1,
              "#f0f921"
             ]
            ],
            "type": "histogram2dcontour"
           }
          ],
          "mesh3d": [
           {
            "colorbar": {
             "outlinewidth": 0,
             "ticks": ""
            },
            "type": "mesh3d"
           }
          ],
          "parcoords": [
           {
            "line": {
             "colorbar": {
              "outlinewidth": 0,
              "ticks": ""
             }
            },
            "type": "parcoords"
           }
          ],
          "pie": [
           {
            "automargin": true,
            "type": "pie"
           }
          ],
          "scatter": [
           {
            "fillpattern": {
             "fillmode": "overlay",
             "size": 10,
             "solidity": 0.2
            },
            "type": "scatter"
           }
          ],
          "scatter3d": [
           {
            "line": {
             "colorbar": {
              "outlinewidth": 0,
              "ticks": ""
             }
            },
            "marker": {
             "colorbar": {
              "outlinewidth": 0,
              "ticks": ""
             }
            },
            "type": "scatter3d"
           }
          ],
          "scattercarpet": [
           {
            "marker": {
             "colorbar": {
              "outlinewidth": 0,
              "ticks": ""
             }
            },
            "type": "scattercarpet"
           }
          ],
          "scattergeo": [
           {
            "marker": {
             "colorbar": {
              "outlinewidth": 0,
              "ticks": ""
             }
            },
            "type": "scattergeo"
           }
          ],
          "scattergl": [
           {
            "marker": {
             "colorbar": {
              "outlinewidth": 0,
              "ticks": ""
             }
            },
            "type": "scattergl"
           }
          ],
          "scattermapbox": [
           {
            "marker": {
             "colorbar": {
              "outlinewidth": 0,
              "ticks": ""
             }
            },
            "type": "scattermapbox"
           }
          ],
          "scatterpolar": [
           {
            "marker": {
             "colorbar": {
              "outlinewidth": 0,
              "ticks": ""
             }
            },
            "type": "scatterpolar"
           }
          ],
          "scatterpolargl": [
           {
            "marker": {
             "colorbar": {
              "outlinewidth": 0,
              "ticks": ""
             }
            },
            "type": "scatterpolargl"
           }
          ],
          "scatterternary": [
           {
            "marker": {
             "colorbar": {
              "outlinewidth": 0,
              "ticks": ""
             }
            },
            "type": "scatterternary"
           }
          ],
          "surface": [
           {
            "colorbar": {
             "outlinewidth": 0,
             "ticks": ""
            },
            "colorscale": [
             [
              0,
              "#0d0887"
             ],
             [
              0.1111111111111111,
              "#46039f"
             ],
             [
              0.2222222222222222,
              "#7201a8"
             ],
             [
              0.3333333333333333,
              "#9c179e"
             ],
             [
              0.4444444444444444,
              "#bd3786"
             ],
             [
              0.5555555555555556,
              "#d8576b"
             ],
             [
              0.6666666666666666,
              "#ed7953"
             ],
             [
              0.7777777777777778,
              "#fb9f3a"
             ],
             [
              0.8888888888888888,
              "#fdca26"
             ],
             [
              1,
              "#f0f921"
             ]
            ],
            "type": "surface"
           }
          ],
          "table": [
           {
            "cells": {
             "fill": {
              "color": "#EBF0F8"
             },
             "line": {
              "color": "white"
             }
            },
            "header": {
             "fill": {
              "color": "#C8D4E3"
             },
             "line": {
              "color": "white"
             }
            },
            "type": "table"
           }
          ]
         },
         "layout": {
          "annotationdefaults": {
           "arrowcolor": "#2a3f5f",
           "arrowhead": 0,
           "arrowwidth": 1
          },
          "autotypenumbers": "strict",
          "coloraxis": {
           "colorbar": {
            "outlinewidth": 0,
            "ticks": ""
           }
          },
          "colorscale": {
           "diverging": [
            [
             0,
             "#8e0152"
            ],
            [
             0.1,
             "#c51b7d"
            ],
            [
             0.2,
             "#de77ae"
            ],
            [
             0.3,
             "#f1b6da"
            ],
            [
             0.4,
             "#fde0ef"
            ],
            [
             0.5,
             "#f7f7f7"
            ],
            [
             0.6,
             "#e6f5d0"
            ],
            [
             0.7,
             "#b8e186"
            ],
            [
             0.8,
             "#7fbc41"
            ],
            [
             0.9,
             "#4d9221"
            ],
            [
             1,
             "#276419"
            ]
           ],
           "sequential": [
            [
             0,
             "#0d0887"
            ],
            [
             0.1111111111111111,
             "#46039f"
            ],
            [
             0.2222222222222222,
             "#7201a8"
            ],
            [
             0.3333333333333333,
             "#9c179e"
            ],
            [
             0.4444444444444444,
             "#bd3786"
            ],
            [
             0.5555555555555556,
             "#d8576b"
            ],
            [
             0.6666666666666666,
             "#ed7953"
            ],
            [
             0.7777777777777778,
             "#fb9f3a"
            ],
            [
             0.8888888888888888,
             "#fdca26"
            ],
            [
             1,
             "#f0f921"
            ]
           ],
           "sequentialminus": [
            [
             0,
             "#0d0887"
            ],
            [
             0.1111111111111111,
             "#46039f"
            ],
            [
             0.2222222222222222,
             "#7201a8"
            ],
            [
             0.3333333333333333,
             "#9c179e"
            ],
            [
             0.4444444444444444,
             "#bd3786"
            ],
            [
             0.5555555555555556,
             "#d8576b"
            ],
            [
             0.6666666666666666,
             "#ed7953"
            ],
            [
             0.7777777777777778,
             "#fb9f3a"
            ],
            [
             0.8888888888888888,
             "#fdca26"
            ],
            [
             1,
             "#f0f921"
            ]
           ]
          },
          "colorway": [
           "#636efa",
           "#EF553B",
           "#00cc96",
           "#ab63fa",
           "#FFA15A",
           "#19d3f3",
           "#FF6692",
           "#B6E880",
           "#FF97FF",
           "#FECB52"
          ],
          "font": {
           "color": "#2a3f5f"
          },
          "geo": {
           "bgcolor": "white",
           "lakecolor": "white",
           "landcolor": "#E5ECF6",
           "showlakes": true,
           "showland": true,
           "subunitcolor": "white"
          },
          "hoverlabel": {
           "align": "left"
          },
          "hovermode": "closest",
          "mapbox": {
           "style": "light"
          },
          "paper_bgcolor": "white",
          "plot_bgcolor": "#E5ECF6",
          "polar": {
           "angularaxis": {
            "gridcolor": "white",
            "linecolor": "white",
            "ticks": ""
           },
           "bgcolor": "#E5ECF6",
           "radialaxis": {
            "gridcolor": "white",
            "linecolor": "white",
            "ticks": ""
           }
          },
          "scene": {
           "xaxis": {
            "backgroundcolor": "#E5ECF6",
            "gridcolor": "white",
            "gridwidth": 2,
            "linecolor": "white",
            "showbackground": true,
            "ticks": "",
            "zerolinecolor": "white"
           },
           "yaxis": {
            "backgroundcolor": "#E5ECF6",
            "gridcolor": "white",
            "gridwidth": 2,
            "linecolor": "white",
            "showbackground": true,
            "ticks": "",
            "zerolinecolor": "white"
           },
           "zaxis": {
            "backgroundcolor": "#E5ECF6",
            "gridcolor": "white",
            "gridwidth": 2,
            "linecolor": "white",
            "showbackground": true,
            "ticks": "",
            "zerolinecolor": "white"
           }
          },
          "shapedefaults": {
           "line": {
            "color": "#2a3f5f"
           }
          },
          "ternary": {
           "aaxis": {
            "gridcolor": "white",
            "linecolor": "white",
            "ticks": ""
           },
           "baxis": {
            "gridcolor": "white",
            "linecolor": "white",
            "ticks": ""
           },
           "bgcolor": "#E5ECF6",
           "caxis": {
            "gridcolor": "white",
            "linecolor": "white",
            "ticks": ""
           }
          },
          "title": {
           "x": 0.05
          },
          "xaxis": {
           "automargin": true,
           "gridcolor": "white",
           "linecolor": "white",
           "ticks": "",
           "title": {
            "standoff": 15
           },
           "zerolinecolor": "white",
           "zerolinewidth": 2
          },
          "yaxis": {
           "automargin": true,
           "gridcolor": "white",
           "linecolor": "white",
           "ticks": "",
           "title": {
            "standoff": 15
           },
           "zerolinecolor": "white",
           "zerolinewidth": 2
          }
         }
        },
        "title": {
         "text": "Relative Occurrences of Ethnicity-related Words Over 1 Years"
        },
        "xaxis": {
         "anchor": "y",
         "domain": [
          0,
          1
         ],
         "title": {
          "text": "Year"
         }
        },
        "yaxis": {
         "anchor": "x",
         "domain": [
          0,
          1
         ],
         "title": {
          "text": "Relative Word Occurrence"
         }
        }
       }
      }
     },
     "metadata": {},
     "output_type": "display_data"
    }
   ],
   "source": [
    "ethnicities=['Russian','Scandinavian','Soviet']\n",
    "fig=plot_relative_occurrences(df_sum, ethmerged, ethnicities, 1,[\n",
    "    ('1947', '1991', 'Cold War'),('1922','1922','Start of USSR')\n",
    "])\n",
    "fig.show()\n",
    "fig_json = fig.to_json()\n",
    "\n",
    "with open('figures/ethnicity-representation3.json', 'w') as json_file:\n",
    "    json.dump(json.loads(fig_json), json_file, indent=4)"
   ]
  },
  {
   "cell_type": "code",
   "execution_count": 16,
   "metadata": {},
   "outputs": [
    {
     "name": "stdout",
     "output_type": "stream",
     "text": [
      "Russian\n",
      "       start_date  end_date release_date_window\n",
      "group                                          \n",
      "2          1918.0    1918.0            [1918.0]\n",
      "4          1928.0    1928.0            [1928.0]\n",
      "6          2014.0    2014.0            [2014.0]\n",
      "Scandinavian\n",
      "       start_date  end_date release_date_window\n",
      "group                                          \n",
      "2          1921.0    1922.0    [1921.0, 1922.0]\n",
      "4          1924.0    1924.0            [1924.0]\n",
      "Soviet\n",
      "       start_date  end_date release_date_window\n",
      "group                                          \n",
      "2          1970.0    1970.0            [1970.0]\n",
      "4          1972.0    1973.0    [1972.0, 1973.0]\n"
     ]
    }
   ],
   "source": [
    "for eth in ['Russian','Scandinavian','Soviet']:\n",
    "    d = get_relative_occurrences(df_sum, ethmerged, [eth], period=1)\n",
    "    print(eth)\n",
    "    print(get_anomalies_window(d))"
   ]
  },
  {
   "cell_type": "markdown",
   "metadata": {},
   "source": [
    "The cold war period seems to have a delayed increase in representation after 1960, which sustains itself through the conflict. While Russian representation keeps rising afterward, the comparison with a few east european countries suggest that this is not only due to the rise of total number of films. "
   ]
  },
  {
   "cell_type": "code",
   "execution_count": 17,
   "metadata": {},
   "outputs": [
    {
     "data": {
      "application/vnd.plotly.v1+json": {
       "config": {
        "plotlyServerURL": "https://plot.ly"
       },
       "data": [
        {
         "hovertemplate": "Ethnicity=Vietnamese<br>Year=%{x}<br>Relative Word Occurrence=%{y}<extra></extra>",
         "legendgroup": "Vietnamese",
         "line": {
          "color": "#636efa",
          "dash": "solid"
         },
         "marker": {
          "symbol": "circle"
         },
         "mode": "lines",
         "name": "Vietnamese",
         "orientation": "v",
         "showlegend": true,
         "type": "scatter",
         "x": [
          1910,
          1915,
          1920,
          1925,
          1930,
          1935,
          1940,
          1945,
          1950,
          1955,
          1960,
          1965,
          1970,
          1975,
          1980,
          1985,
          1990,
          1995,
          2000,
          2005,
          2010
         ],
         "xaxis": "x",
         "y": [
          0,
          0,
          0,
          0,
          0.000013629177342855585,
          0.000023286682346366113,
          0,
          0.000010055708625786858,
          0.000007949947132851566,
          0.00004376782627090826,
          0.000032274462025061117,
          0.0002617782525947885,
          0.0003391555027980329,
          0.0004138996138996139,
          0.0002531443813666984,
          0.0006728111932632066,
          0.0002895009766681301,
          0.00011780629637056347,
          0.0001821090612022602,
          0.00012987434656969382,
          0.00004571059813662091
         ],
         "yaxis": "y"
        },
        {
         "hovertemplate": "Ethnicity=Thai<br>Year=%{x}<br>Relative Word Occurrence=%{y}<extra></extra>",
         "legendgroup": "Thai",
         "line": {
          "color": "#EF553B",
          "dash": "solid"
         },
         "marker": {
          "symbol": "circle"
         },
         "mode": "lines",
         "name": "Thai",
         "orientation": "v",
         "showlegend": true,
         "type": "scatter",
         "x": [
          1910,
          1915,
          1920,
          1925,
          1930,
          1935,
          1940,
          1945,
          1950,
          1955,
          1960,
          1965,
          1970,
          1975,
          1980,
          1985,
          1990,
          1995,
          2000,
          2005,
          2010
         ],
         "xaxis": "x",
         "y": [
          0,
          0,
          0,
          0,
          0,
          0,
          0,
          0,
          0,
          0.000029178550847272172,
          0.000016137231012530558,
          0,
          0.00017609997260667094,
          0.00002471042471042471,
          0.00004219073022778307,
          0.00009404887647765255,
          0.00007317057652051639,
          0.00011529977942650893,
          0.00016849343045816597,
          0.00019928994559832329,
          0.00013982065312378162
         ],
         "yaxis": "y"
        },
        {
         "hovertemplate": "Ethnicity=Malaysian<br>Year=%{x}<br>Relative Word Occurrence=%{y}<extra></extra>",
         "legendgroup": "Malaysian",
         "line": {
          "color": "#00cc96",
          "dash": "solid"
         },
         "marker": {
          "symbol": "circle"
         },
         "mode": "lines",
         "name": "Malaysian",
         "orientation": "v",
         "showlegend": true,
         "type": "scatter",
         "x": [
          1910,
          1915,
          1920,
          1925,
          1930,
          1935,
          1940,
          1945,
          1950,
          1955,
          1960,
          1965,
          1970,
          1975,
          1980,
          1985,
          1990,
          1995,
          2000,
          2005,
          2010
         ],
         "xaxis": "x",
         "y": [
          0,
          0,
          0,
          0,
          0.00006814588671427792,
          0.000011643341173183057,
          0,
          0,
          0,
          0,
          0.000032274462025061117,
          0,
          0.000006522221207654479,
          0,
          0.000009375717828396236,
          0.000010851793439729139,
          0.00001272531765574198,
          0.00004511730499298175,
          0.000028933215331200217,
          0.00006941559902862946,
          0.00006722146784797192
         ],
         "yaxis": "y"
        }
       ],
       "layout": {
        "annotations": [
         {
          "showarrow": false,
          "text": "Vietnam War",
          "x": "1955",
          "xanchor": "left",
          "xref": "x",
          "y": 1,
          "yanchor": "top",
          "yref": "y domain"
         }
        ],
        "legend": {
         "title": {
          "text": "Ethnicity"
         },
         "tracegroupgap": 0
        },
        "shapes": [
         {
          "fillcolor": "rgba(255, 0, 0, 0.05)",
          "layer": "below",
          "type": "rect",
          "x0": "1955",
          "x1": "1975",
          "xref": "x",
          "y0": 0,
          "y1": 1,
          "yref": "y domain"
         }
        ],
        "template": {
         "data": {
          "bar": [
           {
            "error_x": {
             "color": "#2a3f5f"
            },
            "error_y": {
             "color": "#2a3f5f"
            },
            "marker": {
             "line": {
              "color": "#E5ECF6",
              "width": 0.5
             },
             "pattern": {
              "fillmode": "overlay",
              "size": 10,
              "solidity": 0.2
             }
            },
            "type": "bar"
           }
          ],
          "barpolar": [
           {
            "marker": {
             "line": {
              "color": "#E5ECF6",
              "width": 0.5
             },
             "pattern": {
              "fillmode": "overlay",
              "size": 10,
              "solidity": 0.2
             }
            },
            "type": "barpolar"
           }
          ],
          "carpet": [
           {
            "aaxis": {
             "endlinecolor": "#2a3f5f",
             "gridcolor": "white",
             "linecolor": "white",
             "minorgridcolor": "white",
             "startlinecolor": "#2a3f5f"
            },
            "baxis": {
             "endlinecolor": "#2a3f5f",
             "gridcolor": "white",
             "linecolor": "white",
             "minorgridcolor": "white",
             "startlinecolor": "#2a3f5f"
            },
            "type": "carpet"
           }
          ],
          "choropleth": [
           {
            "colorbar": {
             "outlinewidth": 0,
             "ticks": ""
            },
            "type": "choropleth"
           }
          ],
          "contour": [
           {
            "colorbar": {
             "outlinewidth": 0,
             "ticks": ""
            },
            "colorscale": [
             [
              0,
              "#0d0887"
             ],
             [
              0.1111111111111111,
              "#46039f"
             ],
             [
              0.2222222222222222,
              "#7201a8"
             ],
             [
              0.3333333333333333,
              "#9c179e"
             ],
             [
              0.4444444444444444,
              "#bd3786"
             ],
             [
              0.5555555555555556,
              "#d8576b"
             ],
             [
              0.6666666666666666,
              "#ed7953"
             ],
             [
              0.7777777777777778,
              "#fb9f3a"
             ],
             [
              0.8888888888888888,
              "#fdca26"
             ],
             [
              1,
              "#f0f921"
             ]
            ],
            "type": "contour"
           }
          ],
          "contourcarpet": [
           {
            "colorbar": {
             "outlinewidth": 0,
             "ticks": ""
            },
            "type": "contourcarpet"
           }
          ],
          "heatmap": [
           {
            "colorbar": {
             "outlinewidth": 0,
             "ticks": ""
            },
            "colorscale": [
             [
              0,
              "#0d0887"
             ],
             [
              0.1111111111111111,
              "#46039f"
             ],
             [
              0.2222222222222222,
              "#7201a8"
             ],
             [
              0.3333333333333333,
              "#9c179e"
             ],
             [
              0.4444444444444444,
              "#bd3786"
             ],
             [
              0.5555555555555556,
              "#d8576b"
             ],
             [
              0.6666666666666666,
              "#ed7953"
             ],
             [
              0.7777777777777778,
              "#fb9f3a"
             ],
             [
              0.8888888888888888,
              "#fdca26"
             ],
             [
              1,
              "#f0f921"
             ]
            ],
            "type": "heatmap"
           }
          ],
          "heatmapgl": [
           {
            "colorbar": {
             "outlinewidth": 0,
             "ticks": ""
            },
            "colorscale": [
             [
              0,
              "#0d0887"
             ],
             [
              0.1111111111111111,
              "#46039f"
             ],
             [
              0.2222222222222222,
              "#7201a8"
             ],
             [
              0.3333333333333333,
              "#9c179e"
             ],
             [
              0.4444444444444444,
              "#bd3786"
             ],
             [
              0.5555555555555556,
              "#d8576b"
             ],
             [
              0.6666666666666666,
              "#ed7953"
             ],
             [
              0.7777777777777778,
              "#fb9f3a"
             ],
             [
              0.8888888888888888,
              "#fdca26"
             ],
             [
              1,
              "#f0f921"
             ]
            ],
            "type": "heatmapgl"
           }
          ],
          "histogram": [
           {
            "marker": {
             "pattern": {
              "fillmode": "overlay",
              "size": 10,
              "solidity": 0.2
             }
            },
            "type": "histogram"
           }
          ],
          "histogram2d": [
           {
            "colorbar": {
             "outlinewidth": 0,
             "ticks": ""
            },
            "colorscale": [
             [
              0,
              "#0d0887"
             ],
             [
              0.1111111111111111,
              "#46039f"
             ],
             [
              0.2222222222222222,
              "#7201a8"
             ],
             [
              0.3333333333333333,
              "#9c179e"
             ],
             [
              0.4444444444444444,
              "#bd3786"
             ],
             [
              0.5555555555555556,
              "#d8576b"
             ],
             [
              0.6666666666666666,
              "#ed7953"
             ],
             [
              0.7777777777777778,
              "#fb9f3a"
             ],
             [
              0.8888888888888888,
              "#fdca26"
             ],
             [
              1,
              "#f0f921"
             ]
            ],
            "type": "histogram2d"
           }
          ],
          "histogram2dcontour": [
           {
            "colorbar": {
             "outlinewidth": 0,
             "ticks": ""
            },
            "colorscale": [
             [
              0,
              "#0d0887"
             ],
             [
              0.1111111111111111,
              "#46039f"
             ],
             [
              0.2222222222222222,
              "#7201a8"
             ],
             [
              0.3333333333333333,
              "#9c179e"
             ],
             [
              0.4444444444444444,
              "#bd3786"
             ],
             [
              0.5555555555555556,
              "#d8576b"
             ],
             [
              0.6666666666666666,
              "#ed7953"
             ],
             [
              0.7777777777777778,
              "#fb9f3a"
             ],
             [
              0.8888888888888888,
              "#fdca26"
             ],
             [
              1,
              "#f0f921"
             ]
            ],
            "type": "histogram2dcontour"
           }
          ],
          "mesh3d": [
           {
            "colorbar": {
             "outlinewidth": 0,
             "ticks": ""
            },
            "type": "mesh3d"
           }
          ],
          "parcoords": [
           {
            "line": {
             "colorbar": {
              "outlinewidth": 0,
              "ticks": ""
             }
            },
            "type": "parcoords"
           }
          ],
          "pie": [
           {
            "automargin": true,
            "type": "pie"
           }
          ],
          "scatter": [
           {
            "fillpattern": {
             "fillmode": "overlay",
             "size": 10,
             "solidity": 0.2
            },
            "type": "scatter"
           }
          ],
          "scatter3d": [
           {
            "line": {
             "colorbar": {
              "outlinewidth": 0,
              "ticks": ""
             }
            },
            "marker": {
             "colorbar": {
              "outlinewidth": 0,
              "ticks": ""
             }
            },
            "type": "scatter3d"
           }
          ],
          "scattercarpet": [
           {
            "marker": {
             "colorbar": {
              "outlinewidth": 0,
              "ticks": ""
             }
            },
            "type": "scattercarpet"
           }
          ],
          "scattergeo": [
           {
            "marker": {
             "colorbar": {
              "outlinewidth": 0,
              "ticks": ""
             }
            },
            "type": "scattergeo"
           }
          ],
          "scattergl": [
           {
            "marker": {
             "colorbar": {
              "outlinewidth": 0,
              "ticks": ""
             }
            },
            "type": "scattergl"
           }
          ],
          "scattermapbox": [
           {
            "marker": {
             "colorbar": {
              "outlinewidth": 0,
              "ticks": ""
             }
            },
            "type": "scattermapbox"
           }
          ],
          "scatterpolar": [
           {
            "marker": {
             "colorbar": {
              "outlinewidth": 0,
              "ticks": ""
             }
            },
            "type": "scatterpolar"
           }
          ],
          "scatterpolargl": [
           {
            "marker": {
             "colorbar": {
              "outlinewidth": 0,
              "ticks": ""
             }
            },
            "type": "scatterpolargl"
           }
          ],
          "scatterternary": [
           {
            "marker": {
             "colorbar": {
              "outlinewidth": 0,
              "ticks": ""
             }
            },
            "type": "scatterternary"
           }
          ],
          "surface": [
           {
            "colorbar": {
             "outlinewidth": 0,
             "ticks": ""
            },
            "colorscale": [
             [
              0,
              "#0d0887"
             ],
             [
              0.1111111111111111,
              "#46039f"
             ],
             [
              0.2222222222222222,
              "#7201a8"
             ],
             [
              0.3333333333333333,
              "#9c179e"
             ],
             [
              0.4444444444444444,
              "#bd3786"
             ],
             [
              0.5555555555555556,
              "#d8576b"
             ],
             [
              0.6666666666666666,
              "#ed7953"
             ],
             [
              0.7777777777777778,
              "#fb9f3a"
             ],
             [
              0.8888888888888888,
              "#fdca26"
             ],
             [
              1,
              "#f0f921"
             ]
            ],
            "type": "surface"
           }
          ],
          "table": [
           {
            "cells": {
             "fill": {
              "color": "#EBF0F8"
             },
             "line": {
              "color": "white"
             }
            },
            "header": {
             "fill": {
              "color": "#C8D4E3"
             },
             "line": {
              "color": "white"
             }
            },
            "type": "table"
           }
          ]
         },
         "layout": {
          "annotationdefaults": {
           "arrowcolor": "#2a3f5f",
           "arrowhead": 0,
           "arrowwidth": 1
          },
          "autotypenumbers": "strict",
          "coloraxis": {
           "colorbar": {
            "outlinewidth": 0,
            "ticks": ""
           }
          },
          "colorscale": {
           "diverging": [
            [
             0,
             "#8e0152"
            ],
            [
             0.1,
             "#c51b7d"
            ],
            [
             0.2,
             "#de77ae"
            ],
            [
             0.3,
             "#f1b6da"
            ],
            [
             0.4,
             "#fde0ef"
            ],
            [
             0.5,
             "#f7f7f7"
            ],
            [
             0.6,
             "#e6f5d0"
            ],
            [
             0.7,
             "#b8e186"
            ],
            [
             0.8,
             "#7fbc41"
            ],
            [
             0.9,
             "#4d9221"
            ],
            [
             1,
             "#276419"
            ]
           ],
           "sequential": [
            [
             0,
             "#0d0887"
            ],
            [
             0.1111111111111111,
             "#46039f"
            ],
            [
             0.2222222222222222,
             "#7201a8"
            ],
            [
             0.3333333333333333,
             "#9c179e"
            ],
            [
             0.4444444444444444,
             "#bd3786"
            ],
            [
             0.5555555555555556,
             "#d8576b"
            ],
            [
             0.6666666666666666,
             "#ed7953"
            ],
            [
             0.7777777777777778,
             "#fb9f3a"
            ],
            [
             0.8888888888888888,
             "#fdca26"
            ],
            [
             1,
             "#f0f921"
            ]
           ],
           "sequentialminus": [
            [
             0,
             "#0d0887"
            ],
            [
             0.1111111111111111,
             "#46039f"
            ],
            [
             0.2222222222222222,
             "#7201a8"
            ],
            [
             0.3333333333333333,
             "#9c179e"
            ],
            [
             0.4444444444444444,
             "#bd3786"
            ],
            [
             0.5555555555555556,
             "#d8576b"
            ],
            [
             0.6666666666666666,
             "#ed7953"
            ],
            [
             0.7777777777777778,
             "#fb9f3a"
            ],
            [
             0.8888888888888888,
             "#fdca26"
            ],
            [
             1,
             "#f0f921"
            ]
           ]
          },
          "colorway": [
           "#636efa",
           "#EF553B",
           "#00cc96",
           "#ab63fa",
           "#FFA15A",
           "#19d3f3",
           "#FF6692",
           "#B6E880",
           "#FF97FF",
           "#FECB52"
          ],
          "font": {
           "color": "#2a3f5f"
          },
          "geo": {
           "bgcolor": "white",
           "lakecolor": "white",
           "landcolor": "#E5ECF6",
           "showlakes": true,
           "showland": true,
           "subunitcolor": "white"
          },
          "hoverlabel": {
           "align": "left"
          },
          "hovermode": "closest",
          "mapbox": {
           "style": "light"
          },
          "paper_bgcolor": "white",
          "plot_bgcolor": "#E5ECF6",
          "polar": {
           "angularaxis": {
            "gridcolor": "white",
            "linecolor": "white",
            "ticks": ""
           },
           "bgcolor": "#E5ECF6",
           "radialaxis": {
            "gridcolor": "white",
            "linecolor": "white",
            "ticks": ""
           }
          },
          "scene": {
           "xaxis": {
            "backgroundcolor": "#E5ECF6",
            "gridcolor": "white",
            "gridwidth": 2,
            "linecolor": "white",
            "showbackground": true,
            "ticks": "",
            "zerolinecolor": "white"
           },
           "yaxis": {
            "backgroundcolor": "#E5ECF6",
            "gridcolor": "white",
            "gridwidth": 2,
            "linecolor": "white",
            "showbackground": true,
            "ticks": "",
            "zerolinecolor": "white"
           },
           "zaxis": {
            "backgroundcolor": "#E5ECF6",
            "gridcolor": "white",
            "gridwidth": 2,
            "linecolor": "white",
            "showbackground": true,
            "ticks": "",
            "zerolinecolor": "white"
           }
          },
          "shapedefaults": {
           "line": {
            "color": "#2a3f5f"
           }
          },
          "ternary": {
           "aaxis": {
            "gridcolor": "white",
            "linecolor": "white",
            "ticks": ""
           },
           "baxis": {
            "gridcolor": "white",
            "linecolor": "white",
            "ticks": ""
           },
           "bgcolor": "#E5ECF6",
           "caxis": {
            "gridcolor": "white",
            "linecolor": "white",
            "ticks": ""
           }
          },
          "title": {
           "x": 0.05
          },
          "xaxis": {
           "automargin": true,
           "gridcolor": "white",
           "linecolor": "white",
           "ticks": "",
           "title": {
            "standoff": 15
           },
           "zerolinecolor": "white",
           "zerolinewidth": 2
          },
          "yaxis": {
           "automargin": true,
           "gridcolor": "white",
           "linecolor": "white",
           "ticks": "",
           "title": {
            "standoff": 15
           },
           "zerolinecolor": "white",
           "zerolinewidth": 2
          }
         }
        },
        "title": {
         "text": "Relative Occurrences of Ethnicity-related Words Over 5 Years"
        },
        "xaxis": {
         "anchor": "y",
         "domain": [
          0,
          1
         ],
         "title": {
          "text": "Year"
         }
        },
        "yaxis": {
         "anchor": "x",
         "domain": [
          0,
          1
         ],
         "title": {
          "text": "Relative Word Occurrence"
         }
        }
       }
      }
     },
     "metadata": {},
     "output_type": "display_data"
    }
   ],
   "source": [
    "ethnicities=['Vietnamese','Thai','Malaysian']\n",
    "fig = plot_relative_occurrences(df_sum, ethmerged, ethnicities, 5,[\n",
    "    ('1955', '1975', 'Vietnam War')\n",
    "])\n",
    "fig.show()\n",
    "\n",
    "fig_json = fig.to_json()\n",
    "\n",
    "with open('figures/ethnicity-representation4.json', 'w') as json_file:\n",
    "    json.dump(json.loads(fig_json), json_file, indent=4)"
   ]
  },
  {
   "cell_type": "code",
   "execution_count": 18,
   "metadata": {},
   "outputs": [
    {
     "name": "stdout",
     "output_type": "stream",
     "text": [
      "Vietnamese\n",
      "       start_date  end_date       release_date_window\n",
      "group                                                \n",
      "2          1989.0    1991.0  [1989.0, 1990.0, 1991.0]\n",
      "Thai\n",
      "       start_date  end_date release_date_window\n",
      "group                                          \n",
      "2          2007.0    2008.0    [2007.0, 2008.0]\n",
      "4          2013.0    2013.0            [2013.0]\n",
      "Malaysian\n",
      "       start_date  end_date release_date_window\n",
      "group                                          \n",
      "2          2009.0    2010.0    [2009.0, 2010.0]\n",
      "4          2012.0    2012.0            [2012.0]\n"
     ]
    }
   ],
   "source": [
    "for eth in ['Vietnamese','Thai','Malaysian']:\n",
    "    d = get_relative_occurrences(df_sum, ethmerged, [eth], period=1)\n",
    "    print(eth)\n",
    "    print(get_anomalies_window(d))"
   ]
  },
  {
   "cell_type": "markdown",
   "metadata": {},
   "source": [
    "The Vietnam war display similar behavior to the cold war but we can observe a decrease in representation after some time, the War in Afghanistan seem to display an surge of interest as well. The data does not stop abruptly in the dataset, so the last years having few representations is mainly due to lack of data."
   ]
  },
  {
   "cell_type": "code",
   "execution_count": 19,
   "metadata": {},
   "outputs": [
    {
     "data": {
      "application/vnd.plotly.v1+json": {
       "config": {
        "plotlyServerURL": "https://plot.ly"
       },
       "data": [
        {
         "hovertemplate": "Ethnicity=Afghan<br>Year=%{x}<br>Relative Word Occurrence=%{y}<extra></extra>",
         "legendgroup": "Afghan",
         "line": {
          "color": "#636efa",
          "dash": "solid"
         },
         "marker": {
          "symbol": "circle"
         },
         "mode": "lines",
         "name": "Afghan",
         "orientation": "v",
         "showlegend": true,
         "type": "scatter",
         "x": [
          1910,
          1915,
          1920,
          1925,
          1930,
          1935,
          1940,
          1945,
          1950,
          1955,
          1960,
          1965,
          1970,
          1975,
          1980,
          1985,
          1990,
          1995,
          2000,
          2005,
          2010
         ],
         "xaxis": "x",
         "y": [
          0,
          0,
          0.00004922713399625874,
          0,
          0.00002725835468571117,
          0.000011643341173183057,
          0,
          0.000010055708625786858,
          0.000015899894265703133,
          0.000014589275423636086,
          0.00002420584651879584,
          0.000028300351631869025,
          0,
          0.00004942084942084942,
          0.000014063576742594355,
          0.00004702443823882627,
          0.000015906647069677475,
          0.00001503910166432725,
          0.00006637619987745933,
          0.00011419985646645491,
          0.00010486548984283621
         ],
         "yaxis": "y"
        },
        {
         "hovertemplate": "Ethnicity=Iranian<br>Year=%{x}<br>Relative Word Occurrence=%{y}<extra></extra>",
         "legendgroup": "Iranian",
         "line": {
          "color": "#EF553B",
          "dash": "solid"
         },
         "marker": {
          "symbol": "circle"
         },
         "mode": "lines",
         "name": "Iranian",
         "orientation": "v",
         "showlegend": true,
         "type": "scatter",
         "x": [
          1910,
          1915,
          1920,
          1925,
          1930,
          1935,
          1940,
          1945,
          1950,
          1955,
          1960,
          1965,
          1970,
          1975,
          1980,
          1985,
          1990,
          1995,
          2000,
          2005,
          2010
         ],
         "xaxis": "x",
         "y": [
          0,
          0,
          0,
          0,
          0.000013629177342855585,
          0,
          0,
          0,
          0,
          0.000007294637711818043,
          0,
          0.000014150175815934512,
          0.000013044442415308958,
          0.000012355212355212354,
          0.00004219073022778307,
          0.000021703586879458278,
          0.00004135728238116144,
          0.000035091237216763587,
          0.00003063516917421199,
          0.00006157835397701,
          0.0000591548917062153
         ],
         "yaxis": "y"
        }
       ],
       "layout": {
        "annotations": [
         {
          "showarrow": false,
          "text": "Afghanistan War",
          "x": "2001",
          "xanchor": "left",
          "xref": "x",
          "y": 1,
          "yanchor": "top",
          "yref": "y domain"
         }
        ],
        "legend": {
         "title": {
          "text": "Ethnicity"
         },
         "tracegroupgap": 0
        },
        "shapes": [
         {
          "fillcolor": "rgba(255, 0, 0, 0.05)",
          "layer": "below",
          "type": "rect",
          "x0": "2001",
          "x1": "2021",
          "xref": "x",
          "y0": 0,
          "y1": 1,
          "yref": "y domain"
         }
        ],
        "template": {
         "data": {
          "bar": [
           {
            "error_x": {
             "color": "#2a3f5f"
            },
            "error_y": {
             "color": "#2a3f5f"
            },
            "marker": {
             "line": {
              "color": "#E5ECF6",
              "width": 0.5
             },
             "pattern": {
              "fillmode": "overlay",
              "size": 10,
              "solidity": 0.2
             }
            },
            "type": "bar"
           }
          ],
          "barpolar": [
           {
            "marker": {
             "line": {
              "color": "#E5ECF6",
              "width": 0.5
             },
             "pattern": {
              "fillmode": "overlay",
              "size": 10,
              "solidity": 0.2
             }
            },
            "type": "barpolar"
           }
          ],
          "carpet": [
           {
            "aaxis": {
             "endlinecolor": "#2a3f5f",
             "gridcolor": "white",
             "linecolor": "white",
             "minorgridcolor": "white",
             "startlinecolor": "#2a3f5f"
            },
            "baxis": {
             "endlinecolor": "#2a3f5f",
             "gridcolor": "white",
             "linecolor": "white",
             "minorgridcolor": "white",
             "startlinecolor": "#2a3f5f"
            },
            "type": "carpet"
           }
          ],
          "choropleth": [
           {
            "colorbar": {
             "outlinewidth": 0,
             "ticks": ""
            },
            "type": "choropleth"
           }
          ],
          "contour": [
           {
            "colorbar": {
             "outlinewidth": 0,
             "ticks": ""
            },
            "colorscale": [
             [
              0,
              "#0d0887"
             ],
             [
              0.1111111111111111,
              "#46039f"
             ],
             [
              0.2222222222222222,
              "#7201a8"
             ],
             [
              0.3333333333333333,
              "#9c179e"
             ],
             [
              0.4444444444444444,
              "#bd3786"
             ],
             [
              0.5555555555555556,
              "#d8576b"
             ],
             [
              0.6666666666666666,
              "#ed7953"
             ],
             [
              0.7777777777777778,
              "#fb9f3a"
             ],
             [
              0.8888888888888888,
              "#fdca26"
             ],
             [
              1,
              "#f0f921"
             ]
            ],
            "type": "contour"
           }
          ],
          "contourcarpet": [
           {
            "colorbar": {
             "outlinewidth": 0,
             "ticks": ""
            },
            "type": "contourcarpet"
           }
          ],
          "heatmap": [
           {
            "colorbar": {
             "outlinewidth": 0,
             "ticks": ""
            },
            "colorscale": [
             [
              0,
              "#0d0887"
             ],
             [
              0.1111111111111111,
              "#46039f"
             ],
             [
              0.2222222222222222,
              "#7201a8"
             ],
             [
              0.3333333333333333,
              "#9c179e"
             ],
             [
              0.4444444444444444,
              "#bd3786"
             ],
             [
              0.5555555555555556,
              "#d8576b"
             ],
             [
              0.6666666666666666,
              "#ed7953"
             ],
             [
              0.7777777777777778,
              "#fb9f3a"
             ],
             [
              0.8888888888888888,
              "#fdca26"
             ],
             [
              1,
              "#f0f921"
             ]
            ],
            "type": "heatmap"
           }
          ],
          "heatmapgl": [
           {
            "colorbar": {
             "outlinewidth": 0,
             "ticks": ""
            },
            "colorscale": [
             [
              0,
              "#0d0887"
             ],
             [
              0.1111111111111111,
              "#46039f"
             ],
             [
              0.2222222222222222,
              "#7201a8"
             ],
             [
              0.3333333333333333,
              "#9c179e"
             ],
             [
              0.4444444444444444,
              "#bd3786"
             ],
             [
              0.5555555555555556,
              "#d8576b"
             ],
             [
              0.6666666666666666,
              "#ed7953"
             ],
             [
              0.7777777777777778,
              "#fb9f3a"
             ],
             [
              0.8888888888888888,
              "#fdca26"
             ],
             [
              1,
              "#f0f921"
             ]
            ],
            "type": "heatmapgl"
           }
          ],
          "histogram": [
           {
            "marker": {
             "pattern": {
              "fillmode": "overlay",
              "size": 10,
              "solidity": 0.2
             }
            },
            "type": "histogram"
           }
          ],
          "histogram2d": [
           {
            "colorbar": {
             "outlinewidth": 0,
             "ticks": ""
            },
            "colorscale": [
             [
              0,
              "#0d0887"
             ],
             [
              0.1111111111111111,
              "#46039f"
             ],
             [
              0.2222222222222222,
              "#7201a8"
             ],
             [
              0.3333333333333333,
              "#9c179e"
             ],
             [
              0.4444444444444444,
              "#bd3786"
             ],
             [
              0.5555555555555556,
              "#d8576b"
             ],
             [
              0.6666666666666666,
              "#ed7953"
             ],
             [
              0.7777777777777778,
              "#fb9f3a"
             ],
             [
              0.8888888888888888,
              "#fdca26"
             ],
             [
              1,
              "#f0f921"
             ]
            ],
            "type": "histogram2d"
           }
          ],
          "histogram2dcontour": [
           {
            "colorbar": {
             "outlinewidth": 0,
             "ticks": ""
            },
            "colorscale": [
             [
              0,
              "#0d0887"
             ],
             [
              0.1111111111111111,
              "#46039f"
             ],
             [
              0.2222222222222222,
              "#7201a8"
             ],
             [
              0.3333333333333333,
              "#9c179e"
             ],
             [
              0.4444444444444444,
              "#bd3786"
             ],
             [
              0.5555555555555556,
              "#d8576b"
             ],
             [
              0.6666666666666666,
              "#ed7953"
             ],
             [
              0.7777777777777778,
              "#fb9f3a"
             ],
             [
              0.8888888888888888,
              "#fdca26"
             ],
             [
              1,
              "#f0f921"
             ]
            ],
            "type": "histogram2dcontour"
           }
          ],
          "mesh3d": [
           {
            "colorbar": {
             "outlinewidth": 0,
             "ticks": ""
            },
            "type": "mesh3d"
           }
          ],
          "parcoords": [
           {
            "line": {
             "colorbar": {
              "outlinewidth": 0,
              "ticks": ""
             }
            },
            "type": "parcoords"
           }
          ],
          "pie": [
           {
            "automargin": true,
            "type": "pie"
           }
          ],
          "scatter": [
           {
            "fillpattern": {
             "fillmode": "overlay",
             "size": 10,
             "solidity": 0.2
            },
            "type": "scatter"
           }
          ],
          "scatter3d": [
           {
            "line": {
             "colorbar": {
              "outlinewidth": 0,
              "ticks": ""
             }
            },
            "marker": {
             "colorbar": {
              "outlinewidth": 0,
              "ticks": ""
             }
            },
            "type": "scatter3d"
           }
          ],
          "scattercarpet": [
           {
            "marker": {
             "colorbar": {
              "outlinewidth": 0,
              "ticks": ""
             }
            },
            "type": "scattercarpet"
           }
          ],
          "scattergeo": [
           {
            "marker": {
             "colorbar": {
              "outlinewidth": 0,
              "ticks": ""
             }
            },
            "type": "scattergeo"
           }
          ],
          "scattergl": [
           {
            "marker": {
             "colorbar": {
              "outlinewidth": 0,
              "ticks": ""
             }
            },
            "type": "scattergl"
           }
          ],
          "scattermapbox": [
           {
            "marker": {
             "colorbar": {
              "outlinewidth": 0,
              "ticks": ""
             }
            },
            "type": "scattermapbox"
           }
          ],
          "scatterpolar": [
           {
            "marker": {
             "colorbar": {
              "outlinewidth": 0,
              "ticks": ""
             }
            },
            "type": "scatterpolar"
           }
          ],
          "scatterpolargl": [
           {
            "marker": {
             "colorbar": {
              "outlinewidth": 0,
              "ticks": ""
             }
            },
            "type": "scatterpolargl"
           }
          ],
          "scatterternary": [
           {
            "marker": {
             "colorbar": {
              "outlinewidth": 0,
              "ticks": ""
             }
            },
            "type": "scatterternary"
           }
          ],
          "surface": [
           {
            "colorbar": {
             "outlinewidth": 0,
             "ticks": ""
            },
            "colorscale": [
             [
              0,
              "#0d0887"
             ],
             [
              0.1111111111111111,
              "#46039f"
             ],
             [
              0.2222222222222222,
              "#7201a8"
             ],
             [
              0.3333333333333333,
              "#9c179e"
             ],
             [
              0.4444444444444444,
              "#bd3786"
             ],
             [
              0.5555555555555556,
              "#d8576b"
             ],
             [
              0.6666666666666666,
              "#ed7953"
             ],
             [
              0.7777777777777778,
              "#fb9f3a"
             ],
             [
              0.8888888888888888,
              "#fdca26"
             ],
             [
              1,
              "#f0f921"
             ]
            ],
            "type": "surface"
           }
          ],
          "table": [
           {
            "cells": {
             "fill": {
              "color": "#EBF0F8"
             },
             "line": {
              "color": "white"
             }
            },
            "header": {
             "fill": {
              "color": "#C8D4E3"
             },
             "line": {
              "color": "white"
             }
            },
            "type": "table"
           }
          ]
         },
         "layout": {
          "annotationdefaults": {
           "arrowcolor": "#2a3f5f",
           "arrowhead": 0,
           "arrowwidth": 1
          },
          "autotypenumbers": "strict",
          "coloraxis": {
           "colorbar": {
            "outlinewidth": 0,
            "ticks": ""
           }
          },
          "colorscale": {
           "diverging": [
            [
             0,
             "#8e0152"
            ],
            [
             0.1,
             "#c51b7d"
            ],
            [
             0.2,
             "#de77ae"
            ],
            [
             0.3,
             "#f1b6da"
            ],
            [
             0.4,
             "#fde0ef"
            ],
            [
             0.5,
             "#f7f7f7"
            ],
            [
             0.6,
             "#e6f5d0"
            ],
            [
             0.7,
             "#b8e186"
            ],
            [
             0.8,
             "#7fbc41"
            ],
            [
             0.9,
             "#4d9221"
            ],
            [
             1,
             "#276419"
            ]
           ],
           "sequential": [
            [
             0,
             "#0d0887"
            ],
            [
             0.1111111111111111,
             "#46039f"
            ],
            [
             0.2222222222222222,
             "#7201a8"
            ],
            [
             0.3333333333333333,
             "#9c179e"
            ],
            [
             0.4444444444444444,
             "#bd3786"
            ],
            [
             0.5555555555555556,
             "#d8576b"
            ],
            [
             0.6666666666666666,
             "#ed7953"
            ],
            [
             0.7777777777777778,
             "#fb9f3a"
            ],
            [
             0.8888888888888888,
             "#fdca26"
            ],
            [
             1,
             "#f0f921"
            ]
           ],
           "sequentialminus": [
            [
             0,
             "#0d0887"
            ],
            [
             0.1111111111111111,
             "#46039f"
            ],
            [
             0.2222222222222222,
             "#7201a8"
            ],
            [
             0.3333333333333333,
             "#9c179e"
            ],
            [
             0.4444444444444444,
             "#bd3786"
            ],
            [
             0.5555555555555556,
             "#d8576b"
            ],
            [
             0.6666666666666666,
             "#ed7953"
            ],
            [
             0.7777777777777778,
             "#fb9f3a"
            ],
            [
             0.8888888888888888,
             "#fdca26"
            ],
            [
             1,
             "#f0f921"
            ]
           ]
          },
          "colorway": [
           "#636efa",
           "#EF553B",
           "#00cc96",
           "#ab63fa",
           "#FFA15A",
           "#19d3f3",
           "#FF6692",
           "#B6E880",
           "#FF97FF",
           "#FECB52"
          ],
          "font": {
           "color": "#2a3f5f"
          },
          "geo": {
           "bgcolor": "white",
           "lakecolor": "white",
           "landcolor": "#E5ECF6",
           "showlakes": true,
           "showland": true,
           "subunitcolor": "white"
          },
          "hoverlabel": {
           "align": "left"
          },
          "hovermode": "closest",
          "mapbox": {
           "style": "light"
          },
          "paper_bgcolor": "white",
          "plot_bgcolor": "#E5ECF6",
          "polar": {
           "angularaxis": {
            "gridcolor": "white",
            "linecolor": "white",
            "ticks": ""
           },
           "bgcolor": "#E5ECF6",
           "radialaxis": {
            "gridcolor": "white",
            "linecolor": "white",
            "ticks": ""
           }
          },
          "scene": {
           "xaxis": {
            "backgroundcolor": "#E5ECF6",
            "gridcolor": "white",
            "gridwidth": 2,
            "linecolor": "white",
            "showbackground": true,
            "ticks": "",
            "zerolinecolor": "white"
           },
           "yaxis": {
            "backgroundcolor": "#E5ECF6",
            "gridcolor": "white",
            "gridwidth": 2,
            "linecolor": "white",
            "showbackground": true,
            "ticks": "",
            "zerolinecolor": "white"
           },
           "zaxis": {
            "backgroundcolor": "#E5ECF6",
            "gridcolor": "white",
            "gridwidth": 2,
            "linecolor": "white",
            "showbackground": true,
            "ticks": "",
            "zerolinecolor": "white"
           }
          },
          "shapedefaults": {
           "line": {
            "color": "#2a3f5f"
           }
          },
          "ternary": {
           "aaxis": {
            "gridcolor": "white",
            "linecolor": "white",
            "ticks": ""
           },
           "baxis": {
            "gridcolor": "white",
            "linecolor": "white",
            "ticks": ""
           },
           "bgcolor": "#E5ECF6",
           "caxis": {
            "gridcolor": "white",
            "linecolor": "white",
            "ticks": ""
           }
          },
          "title": {
           "x": 0.05
          },
          "xaxis": {
           "automargin": true,
           "gridcolor": "white",
           "linecolor": "white",
           "ticks": "",
           "title": {
            "standoff": 15
           },
           "zerolinecolor": "white",
           "zerolinewidth": 2
          },
          "yaxis": {
           "automargin": true,
           "gridcolor": "white",
           "linecolor": "white",
           "ticks": "",
           "title": {
            "standoff": 15
           },
           "zerolinecolor": "white",
           "zerolinewidth": 2
          }
         }
        },
        "title": {
         "text": "Relative Occurrences of Ethnicity-related Words Over 5 Years"
        },
        "xaxis": {
         "anchor": "y",
         "domain": [
          0,
          1
         ],
         "title": {
          "text": "Year"
         }
        },
        "yaxis": {
         "anchor": "x",
         "domain": [
          0,
          1
         ],
         "title": {
          "text": "Relative Word Occurrence"
         }
        }
       }
      }
     },
     "metadata": {},
     "output_type": "display_data"
    }
   ],
   "source": [
    "ethnicities=['Afghan','Iranian']\n",
    "fig = plot_relative_occurrences(df_sum, ethmerged, ethnicities, 5,[\n",
    "    ('2001', '2021', 'Afghanistan War')\n",
    "])\n",
    "fig.show()\n",
    "\n",
    "fig_json = fig.to_json()\n",
    "\n",
    "with open('figures/ethnicity-representation5.json', 'w') as json_file:\n",
    "    json.dump(json.loads(fig_json), json_file, indent=4)"
   ]
  },
  {
   "cell_type": "code",
   "execution_count": 20,
   "metadata": {},
   "outputs": [
    {
     "name": "stdout",
     "output_type": "stream",
     "text": [
      "Afghan\n",
      "       start_date  end_date release_date_window\n",
      "group                                          \n",
      "2          2008.0    2008.0            [2008.0]\n",
      "4          2011.0    2012.0    [2011.0, 2012.0]\n",
      "Iranian\n",
      "       start_date  end_date       release_date_window\n",
      "group                                                \n",
      "2          2006.0    2008.0  [2006.0, 2007.0, 2008.0]\n"
     ]
    }
   ],
   "source": [
    "for eth in ['Afghan','Iranian']:\n",
    "    d = get_relative_occurrences(df_sum, ethmerged, [eth], period=1)\n",
    "    print(eth)\n",
    "    print(get_anomalies_window(d))"
   ]
  },
  {
   "cell_type": "code",
   "execution_count": 34,
   "metadata": {},
   "outputs": [
    {
     "data": {
      "image/png": "[encoded data removed]"
     },
     "metadata": {},
     "output_type": "display_data"
    }
   ],
   "source": [
    "ethnicities=[\"Middle Eastern\",'Islamic','African']\n",
    "plot_relative_occurrences(df_sum, ethmerged, ethnicities, 5, [('2001', '2001', '9/11 Attacks')]).show(renderer=\"png\")"
   ]
  },
  {
   "cell_type": "markdown",
   "metadata": {},
   "source": [
    "This is similar to what we saw for other events."
   ]
  },
  {
   "cell_type": "markdown",
   "metadata": {},
   "source": [
    "We choose to focus on historical event involving the USA because for the time period of our dataset, the USA were the main producers of movies. Indeed, it seems like big events for other countries do not create the same reaction spike, like this example."
   ]
  },
  {
   "cell_type": "markdown",
   "metadata": {},
   "source": [
    "Overall, we would like to dive deeper into the increase of representation after a big event as well as the first spike in popularity."
   ]
  },
  {
   "cell_type": "code",
   "execution_count": 22,
   "metadata": {},
   "outputs": [],
   "source": [
    "def plot_relative_centered(df, eth, ethnicities, period=5, highlight_periods=None):\n",
    "    data = df.copy()\n",
    "\n",
    "    for et in ethnicities:\n",
    "        index = eth[eth['Ethnicity'] == et].index[0]\n",
    "        occ_list = literal_eval(eth.at[index, 'Keywords'])\n",
    "\n",
    "        def count_words(word_list):\n",
    "            return sum(word.lower() in occ_list for word in word_list)\n",
    "\n",
    "        # Apply the function to count ethnicity-related words for each row\n",
    "        data[et] = data['tokens'].apply(lambda x: count_words(x))\n",
    "\n",
    "    # Group by release year and sum the counts\n",
    "    data['release_period'] = data['release_date'] // period * period\n",
    "    counts_by_period = data.groupby('release_period')[ethnicities].sum().reset_index()\n",
    "\n",
    "    # Normalize by the total number of words in each period\n",
    "    total_words_by_period = data.groupby('release_period')['tokens'].apply(lambda x: sum(len(word_list) for word_list in x)).reset_index()\n",
    "    counts_by_period = pd.merge(counts_by_period, total_words_by_period, on='release_period', how='left')\n",
    "\n",
    "    for et in ethnicities:\n",
    "        counts_by_period[et] = counts_by_period[et] / counts_by_period['tokens']\n",
    "\n",
    "    # Convert the DataFrame to long format for Plotly\n",
    "    counts_by_period_long = pd.melt(counts_by_period, id_vars='release_period', value_vars=ethnicities)\n",
    "\n",
    "    # Create a stacked area plot using Plotly Express\n",
    "    fig = px.area(counts_by_period_long, x='release_period', y='value', color='variable',\n",
    "                 title='Relative Occurrences of Ethnicity-related Words Over the Years',\n",
    "                 labels={'value': 'Relative Occurrences', 'variable': 'Ethnicity'},\n",
    "                 category_orders={'variable': ethnicities})\n",
    "\n",
    "    if highlight_periods:\n",
    "        for period_range in highlight_periods:\n",
    "            fig.add_vrect(\n",
    "                x0=period_range[0],\n",
    "                x1=period_range[1],\n",
    "                annotation_text=period_range[2],\n",
    "                annotation_position=\"top left\",\n",
    "                fillcolor='rgba(255, 0, 0, 0.3)', \n",
    "                layer='below',\n",
    "                line=None)\n",
    "    fig.update_xaxes(range=[int(period_range[0])-20, int(period_range[0])+40])\n",
    "    return fig\n"
   ]
  },
  {
   "cell_type": "code",
   "execution_count": 23,
   "metadata": {},
   "outputs": [
    {
     "data": {
      "application/vnd.plotly.v1+json": {
       "config": {
        "plotlyServerURL": "https://plot.ly"
       },
       "data": [
        {
         "hovertemplate": "Ethnicity=German<br>Year=%{x}<br>Relative Word Occurrence=%{y}<extra></extra>",
         "legendgroup": "German",
         "line": {
          "color": "#636efa",
          "dash": "solid"
         },
         "marker": {
          "symbol": "circle"
         },
         "mode": "lines",
         "name": "German",
         "orientation": "v",
         "showlegend": true,
         "type": "scatter",
         "x": [
          1910,
          1911,
          1912,
          1913,
          1914,
          1915,
          1916,
          1917,
          1918,
          1919,
          1920,
          1921,
          1922,
          1923,
          1924,
          1925,
          1926,
          1927,
          1928,
          1929,
          1930,
          1931,
          1932,
          1933,
          1934,
          1935,
          1936,
          1937,
          1938,
          1939,
          1940,
          1941,
          1942,
          1943,
          1944,
          1945,
          1946,
          1947,
          1948,
          1949,
          1950,
          1951,
          1952,
          1953,
          1954,
          1955,
          1956,
          1957,
          1958,
          1959,
          1960,
          1961,
          1962,
          1963,
          1964,
          1965,
          1966,
          1967,
          1968,
          1969,
          1970,
          1971,
          1972,
          1973,
          1974,
          1975,
          1976,
          1977,
          1978,
          1979,
          1980,
          1981,
          1982,
          1983,
          1984,
          1985,
          1986,
          1987,
          1988,
          1989,
          1990,
          1991,
          1992,
          1993,
          1994,
          1995,
          1996,
          1997,
          1998,
          1999,
          2000,
          2001,
          2002,
          2003,
          2004,
          2005,
          2006,
          2007,
          2008,
          2009,
          2010,
          2011,
          2012,
          2013,
          2014
         ],
         "xaxis": "x",
         "y": [
          0,
          0,
          0,
          0.0005583472920156337,
          0,
          0.0014675667742882301,
          0.00611387084447841,
          0.005766458433445459,
          0.005139500734214391,
          0.003247711839385887,
          0.00023518344308560678,
          0.0016438356164383563,
          0.0005611672278338945,
          0.00029231218941829873,
          0.00018426386585590566,
          0.0005930025696778019,
          0.0005056890012642225,
          0.0007876082961407193,
          0.0011504537901060974,
          0.0002311604253351826,
          0.00316722972972973,
          0.0008418689490669286,
          0.0014162701110355766,
          0.0011729843190517349,
          0.0008229931628260319,
          0.0006052602619126224,
          0.00031291069528756495,
          0.0007947320617620345,
          0.0006342982354976358,
          0.0011326378539493294,
          0.0022166481945983785,
          0.0022794938593226647,
          0.0034701879309567804,
          0.006658117971986585,
          0.003038558256496228,
          0.0020984665052461663,
          0.001335888946971017,
          0.0006935552710200598,
          0.000481590123024386,
          0.0014959880320957431,
          0.0011150047785919083,
          0.0011387526278906798,
          0.0005311542390194076,
          0.0012232629665874459,
          0.0009694619486185168,
          0.0008119393751933189,
          0.0009294055845152948,
          0.0014509776825813584,
          0.0018730800929047727,
          0.0015890517576858218,
          0.0010381969978803477,
          0.001487574378718936,
          0.0011680175556578062,
          0.000822688893699935,
          0.0010895701833483619,
          0.0031675979641954655,
          0.0018833060905408287,
          0.0009484999648703716,
          0.0013135939219654205,
          0.0021778074396712212,
          0.001178214435027175,
          0.0009366428045761692,
          0.0007817197835237522,
          0.0004236262406197047,
          0.0005193287675679185,
          0.0014438063986874487,
          0.0010504937320540654,
          0.0013361676283024598,
          0.0006546450038683568,
          0.0006335041040048477,
          0.0010770059235325794,
          0.0007297317019775729,
          0.0005545509342977697,
          0.00032881757201104825,
          0.0005648568652703405,
          0.000919393575502852,
          0.00048394902403613486,
          0.000490737332842596,
          0.000222579871930966,
          0.0002925939312576376,
          0.00048432851311146474,
          0.0004508078476630121,
          0.0006349630718845036,
          0.0005993713909801915,
          0.00043946988944585595,
          0.0002826455624646693,
          0.000442031688146644,
          0.0003223087221698815,
          0.0006999243630123841,
          0.00041590609764550937,
          0.0004734228471851486,
          0.0005934938239548945,
          0.0007475254330492164,
          0.000786582023025401,
          0.0009261805183716588,
          0.00047920873054412553,
          0.0005418926833540421,
          0.0004855878613946738,
          0.0007642987558914696,
          0.0004169432573143368,
          0.00034047060603767875,
          0.0006477768154127211,
          0.00040913182227313643,
          0.00202757502027575,
          0
         ],
         "yaxis": "y"
        },
        {
         "hovertemplate": "Ethnicity=Nazi<br>Year=%{x}<br>Relative Word Occurrence=%{y}<extra></extra>",
         "legendgroup": "Nazi",
         "line": {
          "color": "#EF553B",
          "dash": "solid"
         },
         "marker": {
          "symbol": "circle"
         },
         "mode": "lines",
         "name": "Nazi",
         "orientation": "v",
         "showlegend": true,
         "type": "scatter",
         "x": [
          1910,
          1911,
          1912,
          1913,
          1914,
          1915,
          1916,
          1917,
          1918,
          1919,
          1920,
          1921,
          1922,
          1923,
          1924,
          1925,
          1926,
          1927,
          1928,
          1929,
          1930,
          1931,
          1932,
          1933,
          1934,
          1935,
          1936,
          1937,
          1938,
          1939,
          1940,
          1941,
          1942,
          1943,
          1944,
          1945,
          1946,
          1947,
          1948,
          1949,
          1950,
          1951,
          1952,
          1953,
          1954,
          1955,
          1956,
          1957,
          1958,
          1959,
          1960,
          1961,
          1962,
          1963,
          1964,
          1965,
          1966,
          1967,
          1968,
          1969,
          1970,
          1971,
          1972,
          1973,
          1974,
          1975,
          1976,
          1977,
          1978,
          1979,
          1980,
          1981,
          1982,
          1983,
          1984,
          1985,
          1986,
          1987,
          1988,
          1989,
          1990,
          1991,
          1992,
          1993,
          1994,
          1995,
          1996,
          1997,
          1998,
          1999,
          2000,
          2001,
          2002,
          2003,
          2004,
          2005,
          2006,
          2007,
          2008,
          2009,
          2010,
          2011,
          2012,
          2013,
          2014
         ],
         "xaxis": "x",
         "y": [
          0,
          0,
          0,
          0,
          0,
          0,
          0,
          0,
          0,
          0,
          0,
          0,
          0,
          0,
          0,
          0,
          0,
          0,
          0,
          0,
          0,
          0,
          0,
          0.00012347203358439315,
          0.0004431501645986326,
          0.00011004732034774953,
          0,
          0,
          0.00034598085572598315,
          0.0004172876304023845,
          0.0012249897917517355,
          0.0011630070710829921,
          0.0024336382892424175,
          0.003748273821266522,
          0.0018860016764459346,
          0.0007532956685499058,
          0.000987396178195969,
          0.00048015364916773366,
          0.0003502473621995534,
          0.0003626637653565438,
          0.00007964319847085059,
          0.00004379817799579537,
          0.0003268641470888662,
          0.0002796029637914162,
          0.00016157699143641945,
          0.0001546551190844417,
          0.0001616357538287469,
          0.00003454708768050853,
          0.0005619240278714318,
          0.0002270073939551174,
          0.0002595492494700869,
          0.00017500875043752187,
          0.000318550242452129,
          0.00012989824637367397,
          0.00037571385632702135,
          0.0006406377905114425,
          0.0007106815436003127,
          0.000245907398299726,
          0.0004260304611779742,
          0.0005620148231409603,
          0.0001520276690357645,
          0.00006690305746972637,
          0.0003006614552014432,
          0.00006051803437424352,
          0.00012983219189197963,
          0.0007875307629204265,
          0.00021009874641081307,
          0.0005769814758578804,
          0.0002678093197643278,
          0.00022034925356690353,
          0.00034268370294218437,
          0.0005351365814502202,
          0.00028933092224231466,
          0.00019729054320662896,
          0.00029372556994057704,
          0.0004690783548483939,
          0.00008065817067268914,
          0.00017526333315807,
          0.00035955210081156045,
          0.00025817111581556256,
          0.0002594617034525704,
          0.0002344200807847663,
          0.00020051465427931692,
          0.00042394561801037937,
          0.00008240060427109799,
          0.00031091011871113626,
          0.00012432141229124362,
          0.00007437893588535726,
          0.0003386730788769601,
          0.00008087063009773793,
          0.00022160218378879297,
          0.00025965354798026635,
          0.00008592246356887545,
          0.00007945272959852535,
          0.00019536620309402178,
          0.0001405678942929435,
          0.0001423152501737888,
          0.00020187360529890934,
          0.00012207549573266528,
          0.000235902106112059,
          0.00009457516834379966,
          0.00019651656197914013,
          0.00013637727409104546,
          0,
          0
         ],
         "yaxis": "y"
        },
        {
         "hovertemplate": "Ethnicity=Japanese<br>Year=%{x}<br>Relative Word Occurrence=%{y}<extra></extra>",
         "legendgroup": "Japanese",
         "line": {
          "color": "#00cc96",
          "dash": "solid"
         },
         "marker": {
          "symbol": "circle"
         },
         "mode": "lines",
         "name": "Japanese",
         "orientation": "v",
         "showlegend": true,
         "type": "scatter",
         "x": [
          1910,
          1911,
          1912,
          1913,
          1914,
          1915,
          1916,
          1917,
          1918,
          1919,
          1920,
          1921,
          1922,
          1923,
          1924,
          1925,
          1926,
          1927,
          1928,
          1929,
          1930,
          1931,
          1932,
          1933,
          1934,
          1935,
          1936,
          1937,
          1938,
          1939,
          1940,
          1941,
          1942,
          1943,
          1944,
          1945,
          1946,
          1947,
          1948,
          1949,
          1950,
          1951,
          1952,
          1953,
          1954,
          1955,
          1956,
          1957,
          1958,
          1959,
          1960,
          1961,
          1962,
          1963,
          1964,
          1965,
          1966,
          1967,
          1968,
          1969,
          1970,
          1971,
          1972,
          1973,
          1974,
          1975,
          1976,
          1977,
          1978,
          1979,
          1980,
          1981,
          1982,
          1983,
          1984,
          1985,
          1986,
          1987,
          1988,
          1989,
          1990,
          1991,
          1992,
          1993,
          1994,
          1995,
          1996,
          1997,
          1998,
          1999,
          2000,
          2001,
          2002,
          2003,
          2004,
          2005,
          2006,
          2007,
          2008,
          2009,
          2010,
          2011,
          2012,
          2013,
          2014
         ],
         "xaxis": "x",
         "y": [
          0,
          0,
          0,
          0,
          0,
          0,
          0,
          0.0004805382027871216,
          0,
          0,
          0,
          0,
          0,
          0,
          0,
          0,
          0.001011378002528445,
          0.00013126804935678657,
          0.00051131279560271,
          0.0001155802126675913,
          0,
          0.00014031149151115475,
          0.0005098572399728076,
          0.00030868008396098284,
          0,
          0.00022009464069549907,
          0.0003754928343450779,
          0,
          0.0002306539038173221,
          0.00017883755588673621,
          0.000058332847226273116,
          0.00018608113137327876,
          0.0027491099193293973,
          0.0053758137699743535,
          0.002829002514668902,
          0.0022598870056497176,
          0.0004646570250333972,
          0.0009603072983354673,
          0.0001751236810997767,
          0.0008613264427217916,
          0.0006371455877668047,
          0.0007883672039243168,
          0.00040858018386108274,
          0.0009786103732699566,
          0.0012118274357731458,
          0.0012372409526755336,
          0.0015355396613730957,
          0.001554618945622884,
          0.0013111560650333409,
          0.0012971851083149566,
          0.0004325820824501449,
          0.0011813090654532728,
          0.0019820903974799137,
          0.0015154795410261962,
          0.0007889990982867448,
          0.0029896430223867315,
          0.001066022315400469,
          0.0014403147614698237,
          0.0007455533070614549,
          0.00042151111735572026,
          0.0010641936832503516,
          0.000367966816083495,
          0.0010523150932050512,
          0.0013616557734204794,
          0.00045441267162192866,
          0.0009515996718621821,
          0.0011905595629946074,
          0.0005162465836623139,
          0.00047610545735880496,
          0.0011843772379221066,
          0.0005140255544132766,
          0.0003162170708569483,
          0.0007715491259795058,
          0.0008768468586961288,
          0.000655233963713595,
          0.0006754728309816872,
          0.0007864171640587192,
          0.000648474332684859,
          0.0007533472588432695,
          0.0012047985404726252,
          0.0005535183006988169,
          0.0010458742065781882,
          0.00040102930855863384,
          0.0007309407207075506,
          0.0008240060427109799,
          0.0009468626342566421,
          0.0004834721589103919,
          0.0003471017007983339,
          0.0004967205156862081,
          0.0006931768294091823,
          0.0005640782860078366,
          0.000658407210949961,
          0.0005327192741270278,
          0.0009693233011020093,
          0.000853822665373873,
          0.0007156183709458941,
          0.0008101021932969517,
          0.0006983735534664972,
          0.0006740690416542821,
          0.0007899977507008487,
          0.000529620942725278,
          0.0007278391184412597,
          0.00030003000300030005,
          0.0016220600162206002,
          0
         ],
         "yaxis": "y"
        },
        {
         "hovertemplate": "Ethnicity=French<br>Year=%{x}<br>Relative Word Occurrence=%{y}<extra></extra>",
         "legendgroup": "French",
         "line": {
          "color": "#636efa",
          "dash": "solid"
         },
         "marker": {
          "symbol": "circle"
         },
         "mode": "lines",
         "name": "French",
         "orientation": "v",
         "showlegend": true,
         "type": "scatter",
         "x": [
          1910,
          1911,
          1912,
          1913,
          1914,
          1915,
          1916,
          1917,
          1918,
          1919,
          1920,
          1921,
          1922,
          1923,
          1924,
          1925,
          1926,
          1927,
          1928,
          1929,
          1930,
          1931,
          1932,
          1933,
          1934,
          1935,
          1936,
          1937,
          1938,
          1939,
          1940,
          1941,
          1942,
          1943,
          1944,
          1945,
          1946,
          1947,
          1948,
          1949,
          1950,
          1951,
          1952,
          1953,
          1954,
          1955,
          1956,
          1957,
          1958,
          1959,
          1960,
          1961,
          1962,
          1963,
          1964,
          1965,
          1966,
          1967,
          1968,
          1969,
          1970,
          1971,
          1972,
          1973,
          1974,
          1975,
          1976,
          1977,
          1978,
          1979,
          1980,
          1981,
          1982,
          1983,
          1984,
          1985,
          1986,
          1987,
          1988,
          1989,
          1990,
          1991,
          1992,
          1993,
          1994,
          1995,
          1996,
          1997,
          1998,
          1999,
          2000,
          2001,
          2002,
          2003,
          2004,
          2005,
          2006,
          2007,
          2008,
          2009,
          2010,
          2011,
          2012,
          2013,
          2014
         ],
         "xaxis": "x2",
         "y": [
          0,
          0.0005586592178770949,
          0.0016207455429497568,
          0.0005583472920156337,
          0,
          0.002054593484003522,
          0.00038211692777990065,
          0.006246996636232581,
          0.0014684287812041115,
          0.0014762326542663124,
          0.0016462841015992475,
          0.004931506849315068,
          0.0005611672278338945,
          0.0040923706518561824,
          0.0014741109268472453,
          0.0033603478948408777,
          0.003034134007585335,
          0.006169598319768968,
          0.0033235331714176145,
          0.0010402219140083217,
          0.002533783783783784,
          0.0026659183387119406,
          0.0011896668932698845,
          0.0011729843190517349,
          0.0029754368194479614,
          0.002586112028172114,
          0.0021903748670129546,
          0.0023274296094459583,
          0.002652519893899204,
          0.0017883755588673621,
          0.0007583270139415504,
          0.0007908448083364346,
          0.0011717517688944973,
          0.0009370684553166305,
          0.0034052808046940485,
          0.0015603981705676622,
          0.0008712319219376198,
          0.0006402048655569782,
          0.0009193993257738277,
          0.001949317738791423,
          0.001075183179356483,
          0.0021899088997897687,
          0.0006537282941777324,
          0.0018523696351181323,
          0.002060106640814348,
          0.001546551190844417,
          0.0015355396613730957,
          0.0020382781731500036,
          0.0028096201393571587,
          0.001167466597483461,
          0.0010814552061253623,
          0.0010938046902345118,
          0.0014865677981099352,
          0.0011257848019051743,
          0.0016531409678388939,
          0.002384596220237036,
          0.0022741809395210007,
          0.001615962903112485,
          0.0008165583839244506,
          0.0027046963363658717,
          0.0015582836076165863,
          0.0015387703218037064,
          0.0004810583283223091,
          0.0011498426531106269,
          0.0011684897270278166,
          0.0013453650533223954,
          0.0009104279011135233,
          0.0016094746431825084,
          0.001160507052312087,
          0.0012670082080096954,
          0.0006364125911783424,
          0.0011918951132300357,
          0.00108499095840868,
          0.0008110833442939191,
          0.0009715538082649856,
          0.000994446112278595,
          0.00038312631069527345,
          0.000630947999369052,
          0.0006848611444029723,
          0.00027538252353660005,
          0.000605410641389331,
          0.0016950375072129255,
          0.0008856063897336497,
          0.0007455595351217016,
          0.0008377394767561629,
          0.0011305822498586771,
          0.0009116903568024533,
          0.0008057718054247038,
          0.0008805500050800962,
          0.001062871138427413,
          0.0006950250309739416,
          0.0010200675099224748,
          0.0008248556502612042,
          0.00109644766845965,
          0.0008248795241747587,
          0.000600608275615304,
          0.000821049520233397,
          0.0008620548550602074,
          0.0006475308904080506,
          0.0007186785093181332,
          0.0007502963355274772,
          0.0006841687713347842,
          0.0006546109156370183,
          0.0008110300081103001,
          0
         ],
         "yaxis": "y2"
        },
        {
         "hovertemplate": "Ethnicity=Spanish<br>Year=%{x}<br>Relative Word Occurrence=%{y}<extra></extra>",
         "legendgroup": "Spanish",
         "line": {
          "color": "#EF553B",
          "dash": "solid"
         },
         "marker": {
          "symbol": "circle"
         },
         "mode": "lines",
         "name": "Spanish",
         "orientation": "v",
         "showlegend": true,
         "type": "scatter",
         "x": [
          1910,
          1911,
          1912,
          1913,
          1914,
          1915,
          1916,
          1917,
          1918,
          1919,
          1920,
          1921,
          1922,
          1923,
          1924,
          1925,
          1926,
          1927,
          1928,
          1929,
          1930,
          1931,
          1932,
          1933,
          1934,
          1935,
          1936,
          1937,
          1938,
          1939,
          1940,
          1941,
          1942,
          1943,
          1944,
          1945,
          1946,
          1947,
          1948,
          1949,
          1950,
          1951,
          1952,
          1953,
          1954,
          1955,
          1956,
          1957,
          1958,
          1959,
          1960,
          1961,
          1962,
          1963,
          1964,
          1965,
          1966,
          1967,
          1968,
          1969,
          1970,
          1971,
          1972,
          1973,
          1974,
          1975,
          1976,
          1977,
          1978,
          1979,
          1980,
          1981,
          1982,
          1983,
          1984,
          1985,
          1986,
          1987,
          1988,
          1989,
          1990,
          1991,
          1992,
          1993,
          1994,
          1995,
          1996,
          1997,
          1998,
          1999,
          2000,
          2001,
          2002,
          2003,
          2004,
          2005,
          2006,
          2007,
          2008,
          2009,
          2010,
          2011,
          2012,
          2013,
          2014
         ],
         "xaxis": "x2",
         "y": [
          0,
          0,
          0,
          0.0016750418760469012,
          0,
          0,
          0,
          0,
          0,
          0,
          0.00023518344308560678,
          0.000547945205479452,
          0.0002805836139169473,
          0.00029231218941829873,
          0.00018426386585590566,
          0.000790670092903736,
          0.0015170670037926676,
          0.00026253609871357313,
          0,
          0,
          0.0004222972972972973,
          0.00007015574575557738,
          0.00005665080444142307,
          0.0003704161007531794,
          0.00012661433274246644,
          0.0006602839220864972,
          0.0004380749734025909,
          0.0006811989100817438,
          0.0002306539038173221,
          0.00029806259314456036,
          0.001049991250072916,
          0.0003256419799032378,
          0.0005858758844472486,
          0.0003452357466956007,
          0.00020955574182732607,
          0.00016142050040355126,
          0.0002323285125166986,
          0.0003201024327784891,
          0.00030646644192460924,
          0.00004533297066956798,
          0.0004778591908251035,
          0.00030658724597056763,
          0.0001634320735444331,
          0.00010485111142178107,
          0.00028275973501373406,
          0.00023198267862666253,
          0.0001616357538287469,
          0.0007600359289711877,
          0.0001498464074323818,
          0.0009080295758204696,
          0.0002595492494700869,
          0.0002625131256562828,
          0.00003539447138356989,
          0.0004762935700368045,
          0.0004884280132251278,
          0.00021354593017048083,
          0.0002842726174401251,
          0.0002810370266282583,
          0.0004970355380409699,
          0.00021075555867786013,
          0,
          0.00006690305746972637,
          0.0005111244738424534,
          0.00036310820624546115,
          0.00029212243175695416,
          0.00039376538146021327,
          0.0002801316618810841,
          0.0003036744609778318,
          0.00020829613759447717,
          0.00011017462678345177,
          0.00026925148088314486,
          0.00036486585098878646,
          0.00019288728149487644,
          0.00008768468586961288,
          0.00042929121760545876,
          0.00011257880516361452,
          0.000282303597354412,
          0.00017526333315807,
          0.00003424305722014861,
          0.00010326844632622502,
          0.00020756936276205632,
          0.0002344200807847663,
          0.000367610199512081,
          0.0003362327315254733,
          0.000370802719219941,
          0.00038157150932730357,
          0.0002072023538187394,
          0.00027272276491297664,
          0.0004289858999108161,
          0.0002426118902932138,
          0.0003021847960756268,
          0.00019474016098519975,
          0.00020621391256530106,
          0.0001986318239963134,
          0.00020260198839380038,
          0.0003450302859917704,
          0.0003065251542204682,
          0.0004146592973707327,
          0.0002282281007175916,
          0.00023041601062108086,
          0.00019545534791051927,
          0.00020379495316355273,
          0.00015001500150015003,
          0,
          0
         ],
         "yaxis": "y2"
        },
        {
         "hovertemplate": "Ethnicity=American<br>Year=%{x}<br>Relative Word Occurrence=%{y}<extra></extra>",
         "legendgroup": "American",
         "line": {
          "color": "#00cc96",
          "dash": "solid"
         },
         "marker": {
          "symbol": "circle"
         },
         "mode": "lines",
         "name": "American",
         "orientation": "v",
         "showlegend": true,
         "type": "scatter",
         "x": [
          1910,
          1911,
          1912,
          1913,
          1914,
          1915,
          1916,
          1917,
          1918,
          1919,
          1920,
          1921,
          1922,
          1923,
          1924,
          1925,
          1926,
          1927,
          1928,
          1929,
          1930,
          1931,
          1932,
          1933,
          1934,
          1935,
          1936,
          1937,
          1938,
          1939,
          1940,
          1941,
          1942,
          1943,
          1944,
          1945,
          1946,
          1947,
          1948,
          1949,
          1950,
          1951,
          1952,
          1953,
          1954,
          1955,
          1956,
          1957,
          1958,
          1959,
          1960,
          1961,
          1962,
          1963,
          1964,
          1965,
          1966,
          1967,
          1968,
          1969,
          1970,
          1971,
          1972,
          1973,
          1974,
          1975,
          1976,
          1977,
          1978,
          1979,
          1980,
          1981,
          1982,
          1983,
          1984,
          1985,
          1986,
          1987,
          1988,
          1989,
          1990,
          1991,
          1992,
          1993,
          1994,
          1995,
          1996,
          1997,
          1998,
          1999,
          2000,
          2001,
          2002,
          2003,
          2004,
          2005,
          2006,
          2007,
          2008,
          2009,
          2010,
          2011,
          2012,
          2013,
          2014
         ],
         "xaxis": "x2",
         "y": [
          0.0016501650165016502,
          0.0011173184357541898,
          0.0016207455429497568,
          0.0005583472920156337,
          0.0005777007510109763,
          0.002054593484003522,
          0.0026748184944593045,
          0.0028832292167227293,
          0.0014684287812041115,
          0.001771479185119575,
          0.0011759172154280338,
          0.0008219178082191781,
          0.001964085297418631,
          0,
          0.002763957987838585,
          0.0009883376161296698,
          0.0015170670037926676,
          0.0011814124442110791,
          0.00102262559120542,
          0.0009246417013407304,
          0.0008445945945945946,
          0.0013329591693559703,
          0.0015295717199184228,
          0.0016668724533893072,
          0.0007596859964547987,
          0.0011004732034774953,
          0.0012516427811502598,
          0.0013056312443233424,
          0.0008072886633606274,
          0.0015499254843517139,
          0.0016916525695619203,
          0.001628209899516189,
          0.002073099283428726,
          0.002071414480173604,
          0.001519279128248114,
          0.0015065913370998117,
          0.0014520532032293663,
          0.0008536064874093043,
          0.0014885512893481022,
          0.001858651797452287,
          0.0013141127747690348,
          0.0017957252978276104,
          0.0012665985699693565,
          0.001502865930378862,
          0.0015753756665050896,
          0.0016238787503866378,
          0.0012930860306299753,
          0.0022455606992330544,
          0.001910541694762868,
          0.0024646517057984175,
          0.0010814552061253623,
          0.001312565628281414,
          0.0018051180405620642,
          0.00164537778739987,
          0.0015779981965734896,
          0.0021710502900665553,
          0.0016701016274607349,
          0.0014051851331412914,
          0.0013135939219654205,
          0.0011240296462819207,
          0.001786325111170233,
          0.000903191275841306,
          0.0010823812387251955,
          0.0011498426531106269,
          0.001038657535135837,
          0.0013781788351107465,
          0.0011205266475243364,
          0.0013058001822046767,
          0.0013092900077367137,
          0.001459813804880736,
          0.001174915552944632,
          0.0009486512125708448,
          0.0007956600361663653,
          0.0011837432592397739,
          0.0012878736528163764,
          0.0014447613329330532,
          0.0014316825294402322,
          0.001261895998738104,
          0.0015580591035167619,
          0.0014285468408461127,
          0.0011416314951913098,
          0.0013343912290825159,
          0.000935735053303479,
          0.0010964110810613259,
          0.0008652063448465289,
          0.0011447145279819106,
          0.0010360117690936968,
          0.001053701591709228,
          0.0007337916709000802,
          0.0009473416668592158,
          0.0009770641739778598,
          0.0009551541229274083,
          0.0009365548529007424,
          0.0008263083878246638,
          0.0008031721682754229,
          0.0007731234186111892,
          0.0010728380397716387,
          0.0009220713323112345,
          0.0006899919324020212,
          0.0007186785093181332,
          0.0007250762906357973,
          0.001069923504108652,
          0.000572784551182391,
          0.0008110300081103001,
          0
         ],
         "yaxis": "y2"
        }
       ],
       "layout": {
        "annotations": [
         {
          "showarrow": false,
          "text": "WWI",
          "x": "1914",
          "xanchor": "left",
          "xref": "x",
          "y": 1,
          "yanchor": "top",
          "yref": "y domain"
         },
         {
          "showarrow": false,
          "text": "WWI",
          "x": "1914",
          "xanchor": "left",
          "xref": "x2",
          "y": 1,
          "yanchor": "top",
          "yref": "y2 domain"
         },
         {
          "showarrow": false,
          "text": "WWII",
          "x": "1939",
          "xanchor": "left",
          "xref": "x",
          "y": 1,
          "yanchor": "top",
          "yref": "y domain"
         },
         {
          "showarrow": false,
          "text": "WWII",
          "x": "1939",
          "xanchor": "left",
          "xref": "x2",
          "y": 1,
          "yanchor": "top",
          "yref": "y2 domain"
         },
         {
          "showarrow": false,
          "text": "Fall of the Berlin Wall",
          "x": "1989",
          "xanchor": "left",
          "xref": "x",
          "y": 1,
          "yanchor": "top",
          "yref": "y domain"
         },
         {
          "showarrow": false,
          "text": "Fall of the Berlin Wall",
          "x": "1989",
          "xanchor": "left",
          "xref": "x2",
          "y": 1,
          "yanchor": "top",
          "yref": "y2 domain"
         }
        ],
        "shapes": [
         {
          "fillcolor": "rgba(255, 0, 0, 0.05)",
          "layer": "below",
          "type": "rect",
          "x0": "1914",
          "x1": "1918",
          "xref": "x",
          "y0": 0,
          "y1": 1,
          "yref": "y domain"
         },
         {
          "fillcolor": "rgba(255, 0, 0, 0.05)",
          "layer": "below",
          "type": "rect",
          "x0": "1914",
          "x1": "1918",
          "xref": "x2",
          "y0": 0,
          "y1": 1,
          "yref": "y2 domain"
         },
         {
          "fillcolor": "rgba(255, 0, 0, 0.05)",
          "layer": "below",
          "type": "rect",
          "x0": "1939",
          "x1": "1945",
          "xref": "x",
          "y0": 0,
          "y1": 1,
          "yref": "y domain"
         },
         {
          "fillcolor": "rgba(255, 0, 0, 0.05)",
          "layer": "below",
          "type": "rect",
          "x0": "1939",
          "x1": "1945",
          "xref": "x2",
          "y0": 0,
          "y1": 1,
          "yref": "y2 domain"
         },
         {
          "fillcolor": "rgba(255, 0, 0, 0.05)",
          "layer": "below",
          "type": "rect",
          "x0": "1989",
          "x1": "1989",
          "xref": "x",
          "y0": 0,
          "y1": 1,
          "yref": "y domain"
         },
         {
          "fillcolor": "rgba(255, 0, 0, 0.05)",
          "layer": "below",
          "type": "rect",
          "x0": "1989",
          "x1": "1989",
          "xref": "x2",
          "y0": 0,
          "y1": 1,
          "yref": "y2 domain"
         }
        ],
        "template": {
         "data": {
          "bar": [
           {
            "error_x": {
             "color": "#2a3f5f"
            },
            "error_y": {
             "color": "#2a3f5f"
            },
            "marker": {
             "line": {
              "color": "#E5ECF6",
              "width": 0.5
             },
             "pattern": {
              "fillmode": "overlay",
              "size": 10,
              "solidity": 0.2
             }
            },
            "type": "bar"
           }
          ],
          "barpolar": [
           {
            "marker": {
             "line": {
              "color": "#E5ECF6",
              "width": 0.5
             },
             "pattern": {
              "fillmode": "overlay",
              "size": 10,
              "solidity": 0.2
             }
            },
            "type": "barpolar"
           }
          ],
          "carpet": [
           {
            "aaxis": {
             "endlinecolor": "#2a3f5f",
             "gridcolor": "white",
             "linecolor": "white",
             "minorgridcolor": "white",
             "startlinecolor": "#2a3f5f"
            },
            "baxis": {
             "endlinecolor": "#2a3f5f",
             "gridcolor": "white",
             "linecolor": "white",
             "minorgridcolor": "white",
             "startlinecolor": "#2a3f5f"
            },
            "type": "carpet"
           }
          ],
          "choropleth": [
           {
            "colorbar": {
             "outlinewidth": 0,
             "ticks": ""
            },
            "type": "choropleth"
           }
          ],
          "contour": [
           {
            "colorbar": {
             "outlinewidth": 0,
             "ticks": ""
            },
            "colorscale": [
             [
              0,
              "#0d0887"
             ],
             [
              0.1111111111111111,
              "#46039f"
             ],
             [
              0.2222222222222222,
              "#7201a8"
             ],
             [
              0.3333333333333333,
              "#9c179e"
             ],
             [
              0.4444444444444444,
              "#bd3786"
             ],
             [
              0.5555555555555556,
              "#d8576b"
             ],
             [
              0.6666666666666666,
              "#ed7953"
             ],
             [
              0.7777777777777778,
              "#fb9f3a"
             ],
             [
              0.8888888888888888,
              "#fdca26"
             ],
             [
              1,
              "#f0f921"
             ]
            ],
            "type": "contour"
           }
          ],
          "contourcarpet": [
           {
            "colorbar": {
             "outlinewidth": 0,
             "ticks": ""
            },
            "type": "contourcarpet"
           }
          ],
          "heatmap": [
           {
            "colorbar": {
             "outlinewidth": 0,
             "ticks": ""
            },
            "colorscale": [
             [
              0,
              "#0d0887"
             ],
             [
              0.1111111111111111,
              "#46039f"
             ],
             [
              0.2222222222222222,
              "#7201a8"
             ],
             [
              0.3333333333333333,
              "#9c179e"
             ],
             [
              0.4444444444444444,
              "#bd3786"
             ],
             [
              0.5555555555555556,
              "#d8576b"
             ],
             [
              0.6666666666666666,
              "#ed7953"
             ],
             [
              0.7777777777777778,
              "#fb9f3a"
             ],
             [
              0.8888888888888888,
              "#fdca26"
             ],
             [
              1,
              "#f0f921"
             ]
            ],
            "type": "heatmap"
           }
          ],
          "heatmapgl": [
           {
            "colorbar": {
             "outlinewidth": 0,
             "ticks": ""
            },
            "colorscale": [
             [
              0,
              "#0d0887"
             ],
             [
              0.1111111111111111,
              "#46039f"
             ],
             [
              0.2222222222222222,
              "#7201a8"
             ],
             [
              0.3333333333333333,
              "#9c179e"
             ],
             [
              0.4444444444444444,
              "#bd3786"
             ],
             [
              0.5555555555555556,
              "#d8576b"
             ],
             [
              0.6666666666666666,
              "#ed7953"
             ],
             [
              0.7777777777777778,
              "#fb9f3a"
             ],
             [
              0.8888888888888888,
              "#fdca26"
             ],
             [
              1,
              "#f0f921"
             ]
            ],
            "type": "heatmapgl"
           }
          ],
          "histogram": [
           {
            "marker": {
             "pattern": {
              "fillmode": "overlay",
              "size": 10,
              "solidity": 0.2
             }
            },
            "type": "histogram"
           }
          ],
          "histogram2d": [
           {
            "colorbar": {
             "outlinewidth": 0,
             "ticks": ""
            },
            "colorscale": [
             [
              0,
              "#0d0887"
             ],
             [
              0.1111111111111111,
              "#46039f"
             ],
             [
              0.2222222222222222,
              "#7201a8"
             ],
             [
              0.3333333333333333,
              "#9c179e"
             ],
             [
              0.4444444444444444,
              "#bd3786"
             ],
             [
              0.5555555555555556,
              "#d8576b"
             ],
             [
              0.6666666666666666,
              "#ed7953"
             ],
             [
              0.7777777777777778,
              "#fb9f3a"
             ],
             [
              0.8888888888888888,
              "#fdca26"
             ],
             [
              1,
              "#f0f921"
             ]
            ],
            "type": "histogram2d"
           }
          ],
          "histogram2dcontour": [
           {
            "colorbar": {
             "outlinewidth": 0,
             "ticks": ""
            },
            "colorscale": [
             [
              0,
              "#0d0887"
             ],
             [
              0.1111111111111111,
              "#46039f"
             ],
             [
              0.2222222222222222,
              "#7201a8"
             ],
             [
              0.3333333333333333,
              "#9c179e"
             ],
             [
              0.4444444444444444,
              "#bd3786"
             ],
             [
              0.5555555555555556,
              "#d8576b"
             ],
             [
              0.6666666666666666,
              "#ed7953"
             ],
             [
              0.7777777777777778,
              "#fb9f3a"
             ],
             [
              0.8888888888888888,
              "#fdca26"
             ],
             [
              1,
              "#f0f921"
             ]
            ],
            "type": "histogram2dcontour"
           }
          ],
          "mesh3d": [
           {
            "colorbar": {
             "outlinewidth": 0,
             "ticks": ""
            },
            "type": "mesh3d"
           }
          ],
          "parcoords": [
           {
            "line": {
             "colorbar": {
              "outlinewidth": 0,
              "ticks": ""
             }
            },
            "type": "parcoords"
           }
          ],
          "pie": [
           {
            "automargin": true,
            "type": "pie"
           }
          ],
          "scatter": [
           {
            "fillpattern": {
             "fillmode": "overlay",
             "size": 10,
             "solidity": 0.2
            },
            "type": "scatter"
           }
          ],
          "scatter3d": [
           {
            "line": {
             "colorbar": {
              "outlinewidth": 0,
              "ticks": ""
             }
            },
            "marker": {
             "colorbar": {
              "outlinewidth": 0,
              "ticks": ""
             }
            },
            "type": "scatter3d"
           }
          ],
          "scattercarpet": [
           {
            "marker": {
             "colorbar": {
              "outlinewidth": 0,
              "ticks": ""
             }
            },
            "type": "scattercarpet"
           }
          ],
          "scattergeo": [
           {
            "marker": {
             "colorbar": {
              "outlinewidth": 0,
              "ticks": ""
             }
            },
            "type": "scattergeo"
           }
          ],
          "scattergl": [
           {
            "marker": {
             "colorbar": {
              "outlinewidth": 0,
              "ticks": ""
             }
            },
            "type": "scattergl"
           }
          ],
          "scattermapbox": [
           {
            "marker": {
             "colorbar": {
              "outlinewidth": 0,
              "ticks": ""
             }
            },
            "type": "scattermapbox"
           }
          ],
          "scatterpolar": [
           {
            "marker": {
             "colorbar": {
              "outlinewidth": 0,
              "ticks": ""
             }
            },
            "type": "scatterpolar"
           }
          ],
          "scatterpolargl": [
           {
            "marker": {
             "colorbar": {
              "outlinewidth": 0,
              "ticks": ""
             }
            },
            "type": "scatterpolargl"
           }
          ],
          "scatterternary": [
           {
            "marker": {
             "colorbar": {
              "outlinewidth": 0,
              "ticks": ""
             }
            },
            "type": "scatterternary"
           }
          ],
          "surface": [
           {
            "colorbar": {
             "outlinewidth": 0,
             "ticks": ""
            },
            "colorscale": [
             [
              0,
              "#0d0887"
             ],
             [
              0.1111111111111111,
              "#46039f"
             ],
             [
              0.2222222222222222,
              "#7201a8"
             ],
             [
              0.3333333333333333,
              "#9c179e"
             ],
             [
              0.4444444444444444,
              "#bd3786"
             ],
             [
              0.5555555555555556,
              "#d8576b"
             ],
             [
              0.6666666666666666,
              "#ed7953"
             ],
             [
              0.7777777777777778,
              "#fb9f3a"
             ],
             [
              0.8888888888888888,
              "#fdca26"
             ],
             [
              1,
              "#f0f921"
             ]
            ],
            "type": "surface"
           }
          ],
          "table": [
           {
            "cells": {
             "fill": {
              "color": "#EBF0F8"
             },
             "line": {
              "color": "white"
             }
            },
            "header": {
             "fill": {
              "color": "#C8D4E3"
             },
             "line": {
              "color": "white"
             }
            },
            "type": "table"
           }
          ]
         },
         "layout": {
          "annotationdefaults": {
           "arrowcolor": "#2a3f5f",
           "arrowhead": 0,
           "arrowwidth": 1
          },
          "autotypenumbers": "strict",
          "coloraxis": {
           "colorbar": {
            "outlinewidth": 0,
            "ticks": ""
           }
          },
          "colorscale": {
           "diverging": [
            [
             0,
             "#8e0152"
            ],
            [
             0.1,
             "#c51b7d"
            ],
            [
             0.2,
             "#de77ae"
            ],
            [
             0.3,
             "#f1b6da"
            ],
            [
             0.4,
             "#fde0ef"
            ],
            [
             0.5,
             "#f7f7f7"
            ],
            [
             0.6,
             "#e6f5d0"
            ],
            [
             0.7,
             "#b8e186"
            ],
            [
             0.8,
             "#7fbc41"
            ],
            [
             0.9,
             "#4d9221"
            ],
            [
             1,
             "#276419"
            ]
           ],
           "sequential": [
            [
             0,
             "#0d0887"
            ],
            [
             0.1111111111111111,
             "#46039f"
            ],
            [
             0.2222222222222222,
             "#7201a8"
            ],
            [
             0.3333333333333333,
             "#9c179e"
            ],
            [
             0.4444444444444444,
             "#bd3786"
            ],
            [
             0.5555555555555556,
             "#d8576b"
            ],
            [
             0.6666666666666666,
             "#ed7953"
            ],
            [
             0.7777777777777778,
             "#fb9f3a"
            ],
            [
             0.8888888888888888,
             "#fdca26"
            ],
            [
             1,
             "#f0f921"
            ]
           ],
           "sequentialminus": [
            [
             0,
             "#0d0887"
            ],
            [
             0.1111111111111111,
             "#46039f"
            ],
            [
             0.2222222222222222,
             "#7201a8"
            ],
            [
             0.3333333333333333,
             "#9c179e"
            ],
            [
             0.4444444444444444,
             "#bd3786"
            ],
            [
             0.5555555555555556,
             "#d8576b"
            ],
            [
             0.6666666666666666,
             "#ed7953"
            ],
            [
             0.7777777777777778,
             "#fb9f3a"
            ],
            [
             0.8888888888888888,
             "#fdca26"
            ],
            [
             1,
             "#f0f921"
            ]
           ]
          },
          "colorway": [
           "#636efa",
           "#EF553B",
           "#00cc96",
           "#ab63fa",
           "#FFA15A",
           "#19d3f3",
           "#FF6692",
           "#B6E880",
           "#FF97FF",
           "#FECB52"
          ],
          "font": {
           "color": "#2a3f5f"
          },
          "geo": {
           "bgcolor": "white",
           "lakecolor": "white",
           "landcolor": "#E5ECF6",
           "showlakes": true,
           "showland": true,
           "subunitcolor": "white"
          },
          "hoverlabel": {
           "align": "left"
          },
          "hovermode": "closest",
          "mapbox": {
           "style": "light"
          },
          "paper_bgcolor": "white",
          "plot_bgcolor": "#E5ECF6",
          "polar": {
           "angularaxis": {
            "gridcolor": "white",
            "linecolor": "white",
            "ticks": ""
           },
           "bgcolor": "#E5ECF6",
           "radialaxis": {
            "gridcolor": "white",
            "linecolor": "white",
            "ticks": ""
           }
          },
          "scene": {
           "xaxis": {
            "backgroundcolor": "#E5ECF6",
            "gridcolor": "white",
            "gridwidth": 2,
            "linecolor": "white",
            "showbackground": true,
            "ticks": "",
            "zerolinecolor": "white"
           },
           "yaxis": {
            "backgroundcolor": "#E5ECF6",
            "gridcolor": "white",
            "gridwidth": 2,
            "linecolor": "white",
            "showbackground": true,
            "ticks": "",
            "zerolinecolor": "white"
           },
           "zaxis": {
            "backgroundcolor": "#E5ECF6",
            "gridcolor": "white",
            "gridwidth": 2,
            "linecolor": "white",
            "showbackground": true,
            "ticks": "",
            "zerolinecolor": "white"
           }
          },
          "shapedefaults": {
           "line": {
            "color": "#2a3f5f"
           }
          },
          "ternary": {
           "aaxis": {
            "gridcolor": "white",
            "linecolor": "white",
            "ticks": ""
           },
           "baxis": {
            "gridcolor": "white",
            "linecolor": "white",
            "ticks": ""
           },
           "bgcolor": "#E5ECF6",
           "caxis": {
            "gridcolor": "white",
            "linecolor": "white",
            "ticks": ""
           }
          },
          "title": {
           "x": 0.05
          },
          "xaxis": {
           "automargin": true,
           "gridcolor": "white",
           "linecolor": "white",
           "ticks": "",
           "title": {
            "standoff": 15
           },
           "zerolinecolor": "white",
           "zerolinewidth": 2
          },
          "yaxis": {
           "automargin": true,
           "gridcolor": "white",
           "linecolor": "white",
           "ticks": "",
           "title": {
            "standoff": 15
           },
           "zerolinecolor": "white",
           "zerolinewidth": 2
          }
         }
        },
        "xaxis": {
         "anchor": "y",
         "domain": [
          0,
          1
         ]
        },
        "xaxis2": {
         "anchor": "y2",
         "domain": [
          0,
          1
         ]
        },
        "yaxis": {
         "anchor": "x",
         "domain": [
          0.575,
          1
         ]
        },
        "yaxis2": {
         "anchor": "x2",
         "domain": [
          0,
          0.425
         ]
        }
       }
      }
     },
     "metadata": {},
     "output_type": "display_data"
    }
   ],
   "source": [
    "import plotly.express as px\n",
    "from plotly.offline import plot\n",
    "from plotly.subplots import make_subplots\n",
    "\n",
    "figures = [\n",
    "plot_relative_occurrences(df_sum, ethmerged, ['German','Nazi','Japanese',],1),\n",
    "plot_relative_occurrences(df_sum, ethmerged, ['French','Spanish','American'], 1,)   \n",
    "]\n",
    "\n",
    "fig = make_subplots(rows=len(figures), cols=1) \n",
    "\n",
    "for i, figure in enumerate(figures):\n",
    "    for trace in range(len(figure[\"data\"])):\n",
    "        fig.append_trace(figure[\"data\"][trace], row=i+1, col=1)\n",
    "\n",
    "for dates in [\n",
    "    ('1914', '1918', 'WWI'),\n",
    "    ('1939', '1945', 'WWII'),\n",
    "    ('1989', '1989', 'Fall of the Berlin Wall')\n",
    "             ]:\n",
    "    fig.add_vrect(\n",
    "                x0=dates[0],\n",
    "                x1=dates[1],\n",
    "                annotation_text=dates[2],\n",
    "                annotation_position=\"top left\",\n",
    "                fillcolor='rgba(255, 0, 0, 0.05)', \n",
    "                layer='below',\n",
    "                line=None)\n",
    "\n",
    "#fig_json = fig.to_json()\n",
    "\n",
    "#with open('figures/ethnicity-representation.json', 'w') as json_file:\n",
    "#    json.dump(json.loads(fig_json), json_file, indent=4)   \n",
    "\n",
    "fig.show()"
   ]
  },
  {
   "cell_type": "code",
   "execution_count": 24,
   "metadata": {},
   "outputs": [],
   "source": [
    "data_window = get_relative_occurrences(df_sum, ethmerged, ['German'], period=1)"
   ]
  },
  {
   "cell_type": "code",
   "execution_count": 25,
   "metadata": {},
   "outputs": [
    {
     "data": {
      "text/html": [
       "<div>\n",
       "<style scoped>\n",
       "    .dataframe tbody tr th:only-of-type {\n",
       "        vertical-align: middle;\n",
       "    }\n",
       "\n",
       "    .dataframe tbody tr th {\n",
       "        vertical-align: top;\n",
       "    }\n",
       "\n",
       "    .dataframe thead th {\n",
       "        text-align: right;\n",
       "    }\n",
       "</style>\n",
       "<table border=\"1\" class=\"dataframe\">\n",
       "  <thead>\n",
       "    <tr style=\"text-align: right;\">\n",
       "      <th></th>\n",
       "      <th>release_period</th>\n",
       "      <th>variable</th>\n",
       "      <th>value</th>\n",
       "    </tr>\n",
       "  </thead>\n",
       "  <tbody>\n",
       "    <tr>\n",
       "      <th>0</th>\n",
       "      <td>1910.0</td>\n",
       "      <td>German</td>\n",
       "      <td>0.000000</td>\n",
       "    </tr>\n",
       "    <tr>\n",
       "      <th>1</th>\n",
       "      <td>1911.0</td>\n",
       "      <td>German</td>\n",
       "      <td>0.000000</td>\n",
       "    </tr>\n",
       "    <tr>\n",
       "      <th>2</th>\n",
       "      <td>1912.0</td>\n",
       "      <td>German</td>\n",
       "      <td>0.000000</td>\n",
       "    </tr>\n",
       "    <tr>\n",
       "      <th>3</th>\n",
       "      <td>1913.0</td>\n",
       "      <td>German</td>\n",
       "      <td>0.000558</td>\n",
       "    </tr>\n",
       "    <tr>\n",
       "      <th>4</th>\n",
       "      <td>1914.0</td>\n",
       "      <td>German</td>\n",
       "      <td>0.000000</td>\n",
       "    </tr>\n",
       "    <tr>\n",
       "      <th>...</th>\n",
       "      <td>...</td>\n",
       "      <td>...</td>\n",
       "      <td>...</td>\n",
       "    </tr>\n",
       "    <tr>\n",
       "      <th>100</th>\n",
       "      <td>2010.0</td>\n",
       "      <td>German</td>\n",
       "      <td>0.000340</td>\n",
       "    </tr>\n",
       "    <tr>\n",
       "      <th>101</th>\n",
       "      <td>2011.0</td>\n",
       "      <td>German</td>\n",
       "      <td>0.000648</td>\n",
       "    </tr>\n",
       "    <tr>\n",
       "      <th>102</th>\n",
       "      <td>2012.0</td>\n",
       "      <td>German</td>\n",
       "      <td>0.000409</td>\n",
       "    </tr>\n",
       "    <tr>\n",
       "      <th>103</th>\n",
       "      <td>2013.0</td>\n",
       "      <td>German</td>\n",
       "      <td>0.002028</td>\n",
       "    </tr>\n",
       "    <tr>\n",
       "      <th>104</th>\n",
       "      <td>2014.0</td>\n",
       "      <td>German</td>\n",
       "      <td>0.000000</td>\n",
       "    </tr>\n",
       "  </tbody>\n",
       "</table>\n",
       "<p>105 rows × 3 columns</p>\n",
       "</div>"
      ],
      "text/plain": [
       "     release_period variable     value\n",
       "0            1910.0   German  0.000000\n",
       "1            1911.0   German  0.000000\n",
       "2            1912.0   German  0.000000\n",
       "3            1913.0   German  0.000558\n",
       "4            1914.0   German  0.000000\n",
       "..              ...      ...       ...\n",
       "100          2010.0   German  0.000340\n",
       "101          2011.0   German  0.000648\n",
       "102          2012.0   German  0.000409\n",
       "103          2013.0   German  0.002028\n",
       "104          2014.0   German  0.000000\n",
       "\n",
       "[105 rows x 3 columns]"
      ]
     },
     "execution_count": 25,
     "metadata": {},
     "output_type": "execute_result"
    }
   ],
   "source": [
    "data_window"
   ]
  },
  {
   "cell_type": "code",
   "execution_count": 26,
   "metadata": {},
   "outputs": [],
   "source": [
    "def get_anomalies(data_window):\n",
    "    import pandas as pd\n",
    "    from sklearn.ensemble import IsolationForest\n",
    "    from sklearn.preprocessing import StandardScaler\n",
    "\n",
    "    values = data_window['value'].values.reshape(-1, 1)  # Reshaping the data to a 2D array\n",
    "\n",
    "    scaler = StandardScaler()\n",
    "    data_window['standardized_value'] = scaler.fit_transform(values)\n",
    "\n",
    "    # Fit the Isolation Forest model\n",
    "    model = IsolationForest(n_estimators=5, contamination=0.005, random_state=42)\n",
    "    # Predict anomalies - fit_predict expects a 2D array\n",
    "    data_window['anomaly'] = model.fit_predict(data_window[['standardized_value']])\n",
    "\n",
    "    # Convert the anomaly numbers to boolean flags (True for anomalies, False for normal points)\n",
    "    data_window['anomaly'] = data_window['anomaly'] == -1\n",
    "\n",
    "    # Filter the anomalies\n",
    "    anomalies = data_window[data_window['anomaly']]\n",
    "    return anomalies\n"
   ]
  },
  {
   "cell_type": "code",
   "execution_count": 27,
   "metadata": {},
   "outputs": [
    {
     "data": {
      "text/html": [
       "<div>\n",
       "<style scoped>\n",
       "    .dataframe tbody tr th:only-of-type {\n",
       "        vertical-align: middle;\n",
       "    }\n",
       "\n",
       "    .dataframe tbody tr th {\n",
       "        vertical-align: top;\n",
       "    }\n",
       "\n",
       "    .dataframe thead th {\n",
       "        text-align: right;\n",
       "    }\n",
       "</style>\n",
       "<table border=\"1\" class=\"dataframe\">\n",
       "  <thead>\n",
       "    <tr style=\"text-align: right;\">\n",
       "      <th></th>\n",
       "      <th>release_period</th>\n",
       "      <th>variable</th>\n",
       "      <th>value</th>\n",
       "      <th>standardized_value</th>\n",
       "      <th>anomaly</th>\n",
       "    </tr>\n",
       "  </thead>\n",
       "  <tbody>\n",
       "    <tr>\n",
       "      <th>78</th>\n",
       "      <td>1988.0</td>\n",
       "      <td>Vietnamese</td>\n",
       "      <td>0.000753</td>\n",
       "      <td>3.050558</td>\n",
       "      <td>True</td>\n",
       "    </tr>\n",
       "  </tbody>\n",
       "</table>\n",
       "</div>"
      ],
      "text/plain": [
       "    release_period    variable     value  standardized_value  anomaly\n",
       "78          1988.0  Vietnamese  0.000753            3.050558     True"
      ]
     },
     "execution_count": 27,
     "metadata": {},
     "output_type": "execute_result"
    }
   ],
   "source": [
    "d = get_relative_occurrences(df_sum, ethmerged, ['Vietnamese'], period=1)\n",
    "get_anomalies(d)"
   ]
  },
  {
   "cell_type": "code",
   "execution_count": 28,
   "metadata": {},
   "outputs": [
    {
     "data": {
      "text/html": [
       "<div>\n",
       "<style scoped>\n",
       "    .dataframe tbody tr th:only-of-type {\n",
       "        vertical-align: middle;\n",
       "    }\n",
       "\n",
       "    .dataframe tbody tr th {\n",
       "        vertical-align: top;\n",
       "    }\n",
       "\n",
       "    .dataframe thead th {\n",
       "        text-align: right;\n",
       "    }\n",
       "</style>\n",
       "<table border=\"1\" class=\"dataframe\">\n",
       "  <thead>\n",
       "    <tr style=\"text-align: right;\">\n",
       "      <th></th>\n",
       "      <th>release_period</th>\n",
       "      <th>variable</th>\n",
       "      <th>value</th>\n",
       "      <th>standardized_value</th>\n",
       "      <th>anomaly</th>\n",
       "    </tr>\n",
       "  </thead>\n",
       "  <tbody>\n",
       "    <tr>\n",
       "      <th>33</th>\n",
       "      <td>1943.0</td>\n",
       "      <td>Japanese</td>\n",
       "      <td>0.005376</td>\n",
       "      <td>6.110745</td>\n",
       "      <td>True</td>\n",
       "    </tr>\n",
       "  </tbody>\n",
       "</table>\n",
       "</div>"
      ],
      "text/plain": [
       "    release_period  variable     value  standardized_value  anomaly\n",
       "33          1943.0  Japanese  0.005376            6.110745     True"
      ]
     },
     "execution_count": 28,
     "metadata": {},
     "output_type": "execute_result"
    }
   ],
   "source": [
    "d = get_relative_occurrences(df_sum, ethmerged, ['Japanese'], period=1)\n",
    "get_anomalies(d)"
   ]
  },
  {
   "cell_type": "code",
   "execution_count": 29,
   "metadata": {},
   "outputs": [
    {
     "data": {
      "text/html": [
       "<div>\n",
       "<style scoped>\n",
       "    .dataframe tbody tr th:only-of-type {\n",
       "        vertical-align: middle;\n",
       "    }\n",
       "\n",
       "    .dataframe tbody tr th {\n",
       "        vertical-align: top;\n",
       "    }\n",
       "\n",
       "    .dataframe thead th {\n",
       "        text-align: right;\n",
       "    }\n",
       "</style>\n",
       "<table border=\"1\" class=\"dataframe\">\n",
       "  <thead>\n",
       "    <tr style=\"text-align: right;\">\n",
       "      <th></th>\n",
       "      <th>release_period</th>\n",
       "      <th>variable</th>\n",
       "      <th>value</th>\n",
       "      <th>standardized_value</th>\n",
       "      <th>anomaly</th>\n",
       "    </tr>\n",
       "  </thead>\n",
       "  <tbody>\n",
       "    <tr>\n",
       "      <th>33</th>\n",
       "      <td>1943.0</td>\n",
       "      <td>German</td>\n",
       "      <td>0.006658</td>\n",
       "      <td>4.616883</td>\n",
       "      <td>True</td>\n",
       "    </tr>\n",
       "  </tbody>\n",
       "</table>\n",
       "</div>"
      ],
      "text/plain": [
       "    release_period variable     value  standardized_value  anomaly\n",
       "33          1943.0   German  0.006658            4.616883     True"
      ]
     },
     "execution_count": 29,
     "metadata": {},
     "output_type": "execute_result"
    }
   ],
   "source": [
    "d = get_relative_occurrences(df_sum, ethmerged, ['German'], period=1)\n",
    "get_anomalies(d)"
   ]
  },
  {
   "cell_type": "code",
   "execution_count": 30,
   "metadata": {},
   "outputs": [
    {
     "data": {
      "text/html": [
       "<div>\n",
       "<style scoped>\n",
       "    .dataframe tbody tr th:only-of-type {\n",
       "        vertical-align: middle;\n",
       "    }\n",
       "\n",
       "    .dataframe tbody tr th {\n",
       "        vertical-align: top;\n",
       "    }\n",
       "\n",
       "    .dataframe thead th {\n",
       "        text-align: right;\n",
       "    }\n",
       "</style>\n",
       "<table border=\"1\" class=\"dataframe\">\n",
       "  <thead>\n",
       "    <tr style=\"text-align: right;\">\n",
       "      <th></th>\n",
       "      <th>start_date</th>\n",
       "      <th>end_date</th>\n",
       "      <th>release_date_window</th>\n",
       "    </tr>\n",
       "    <tr>\n",
       "      <th>group</th>\n",
       "      <th></th>\n",
       "      <th></th>\n",
       "      <th></th>\n",
       "    </tr>\n",
       "  </thead>\n",
       "  <tbody>\n",
       "    <tr>\n",
       "      <th>2</th>\n",
       "      <td>1920.0</td>\n",
       "      <td>1920.0</td>\n",
       "      <td>[1920.0]</td>\n",
       "    </tr>\n",
       "    <tr>\n",
       "      <th>4</th>\n",
       "      <td>1944.0</td>\n",
       "      <td>1945.0</td>\n",
       "      <td>[1944.0, 1945.0]</td>\n",
       "    </tr>\n",
       "  </tbody>\n",
       "</table>\n",
       "</div>"
      ],
      "text/plain": [
       "       start_date  end_date release_date_window\n",
       "group                                          \n",
       "2          1920.0    1920.0            [1920.0]\n",
       "4          1944.0    1945.0    [1944.0, 1945.0]"
      ]
     },
     "execution_count": 30,
     "metadata": {},
     "output_type": "execute_result"
    }
   ],
   "source": [
    "d = get_relative_occurrences(df_sum, ethmerged, ['German'], period=1)\n",
    "window_jap = get_anomalies_window(d)\n",
    "window_jap"
   ]
  },
  {
   "cell_type": "code",
   "execution_count": 31,
   "metadata": {},
   "outputs": [
    {
     "name": "stdout",
     "output_type": "stream",
     "text": [
      "0.0011968318615882692\n"
     ]
    },
    {
     "data": {
      "text/html": [
       "<div>\n",
       "<style scoped>\n",
       "    .dataframe tbody tr th:only-of-type {\n",
       "        vertical-align: middle;\n",
       "    }\n",
       "\n",
       "    .dataframe tbody tr th {\n",
       "        vertical-align: top;\n",
       "    }\n",
       "\n",
       "    .dataframe thead th {\n",
       "        text-align: right;\n",
       "    }\n",
       "</style>\n",
       "<table border=\"1\" class=\"dataframe\">\n",
       "  <thead>\n",
       "    <tr style=\"text-align: right;\">\n",
       "      <th></th>\n",
       "      <th>release_period</th>\n",
       "      <th>variable</th>\n",
       "      <th>value</th>\n",
       "      <th>zscore</th>\n",
       "    </tr>\n",
       "  </thead>\n",
       "  <tbody>\n",
       "    <tr>\n",
       "      <th>6</th>\n",
       "      <td>1916.0</td>\n",
       "      <td>German</td>\n",
       "      <td>0.006114</td>\n",
       "      <td>4.162143</td>\n",
       "    </tr>\n",
       "    <tr>\n",
       "      <th>7</th>\n",
       "      <td>1917.0</td>\n",
       "      <td>German</td>\n",
       "      <td>0.005766</td>\n",
       "      <td>3.871866</td>\n",
       "    </tr>\n",
       "    <tr>\n",
       "      <th>8</th>\n",
       "      <td>1918.0</td>\n",
       "      <td>German</td>\n",
       "      <td>0.005140</td>\n",
       "      <td>3.348019</td>\n",
       "    </tr>\n",
       "    <tr>\n",
       "      <th>33</th>\n",
       "      <td>1943.0</td>\n",
       "      <td>German</td>\n",
       "      <td>0.006658</td>\n",
       "      <td>4.616883</td>\n",
       "    </tr>\n",
       "  </tbody>\n",
       "</table>\n",
       "</div>"
      ],
      "text/plain": [
       "    release_period variable     value    zscore\n",
       "6           1916.0   German  0.006114  4.162143\n",
       "7           1917.0   German  0.005766  3.871866\n",
       "8           1918.0   German  0.005140  3.348019\n",
       "33          1943.0   German  0.006658  4.616883"
      ]
     },
     "execution_count": 31,
     "metadata": {},
     "output_type": "execute_result"
    }
   ],
   "source": [
    "import scipy.stats as stats\n",
    "d = get_relative_occurrences(df_sum, ethmerged, ['German'], period=1)\n",
    "print(np.std(d['value']))\n",
    "d['zscore'] = stats.zscore(d.value)\n",
    "d.loc[d['zscore'] >= 2]"
   ]
  },
  {
   "cell_type": "code",
   "execution_count": 32,
   "metadata": {},
   "outputs": [
    {
     "data": {
      "application/vnd.plotly.v1+json": {
       "config": {
        "plotlyServerURL": "https://plot.ly"
       },
       "data": [
        {
         "alignmentgroup": "True",
         "bingroup": "x",
         "hovertemplate": "variable=value<br>_value=%{x}<br>count=%{y}<extra></extra>",
         "legendgroup": "value",
         "marker": {
          "color": "#636efa",
          "pattern": {
           "shape": ""
          }
         },
         "name": "value",
         "offsetgroup": "value",
         "orientation": "v",
         "showlegend": true,
         "type": "histogram",
         "x": [
          0,
          0,
          0,
          0.0005583472920156337,
          0,
          0.0014675667742882301,
          0.00611387084447841,
          0.005766458433445459,
          0.005139500734214391,
          0.003247711839385887,
          0.00023518344308560678,
          0.0016438356164383563,
          0.0005611672278338945,
          0.00029231218941829873,
          0.00018426386585590566,
          0.0005930025696778019,
          0.0005056890012642225,
          0.0007876082961407193,
          0.0011504537901060974,
          0.0002311604253351826,
          0.00316722972972973,
          0.0008418689490669286,
          0.0014162701110355766,
          0.0011729843190517349,
          0.0008229931628260319,
          0.0006052602619126224,
          0.00031291069528756495,
          0.0007947320617620345,
          0.0006342982354976358,
          0.0011326378539493294,
          0.0022166481945983785,
          0.0022794938593226647,
          0.0034701879309567804,
          0.006658117971986585,
          0.003038558256496228,
          0.0020984665052461663,
          0.001335888946971017,
          0.0006935552710200598,
          0.000481590123024386,
          0.0014959880320957431,
          0.0011150047785919083,
          0.0011387526278906798,
          0.0005311542390194076,
          0.0012232629665874459,
          0.0009694619486185168,
          0.0008119393751933189,
          0.0009294055845152948,
          0.0014509776825813584,
          0.0018730800929047727,
          0.0015890517576858218,
          0.0010381969978803477,
          0.001487574378718936,
          0.0011680175556578062,
          0.000822688893699935,
          0.0010895701833483619,
          0.0031675979641954655,
          0.0018833060905408287,
          0.0009484999648703716,
          0.0013135939219654205,
          0.0021778074396712212,
          0.001178214435027175,
          0.0009366428045761692,
          0.0007817197835237522,
          0.0004236262406197047,
          0.0005193287675679185,
          0.0014438063986874487,
          0.0010504937320540654,
          0.0013361676283024598,
          0.0006546450038683568,
          0.0006335041040048477,
          0.0010770059235325794,
          0.0007297317019775729,
          0.0005545509342977697,
          0.00032881757201104825,
          0.0005648568652703405,
          0.000919393575502852,
          0.00048394902403613486,
          0.000490737332842596,
          0.000222579871930966,
          0.0002925939312576376,
          0.00048432851311146474,
          0.0004508078476630121,
          0.0006349630718845036,
          0.0005993713909801915,
          0.00043946988944585595,
          0.0002826455624646693,
          0.000442031688146644,
          0.0003223087221698815,
          0.0006999243630123841,
          0.00041590609764550937,
          0.0004734228471851486,
          0.0005934938239548945,
          0.0007475254330492164,
          0.000786582023025401,
          0.0009261805183716588,
          0.00047920873054412553,
          0.0005418926833540421,
          0.0004855878613946738,
          0.0007642987558914696,
          0.0004169432573143368,
          0.00034047060603767875,
          0.0006477768154127211,
          0.00040913182227313643,
          0.00202757502027575,
          0
         ],
         "xaxis": "x",
         "yaxis": "y"
        }
       ],
       "layout": {
        "barmode": "relative",
        "legend": {
         "title": {
          "text": "variable"
         },
         "tracegroupgap": 0
        },
        "margin": {
         "t": 60
        },
        "template": {
         "data": {
          "bar": [
           {
            "error_x": {
             "color": "#2a3f5f"
            },
            "error_y": {
             "color": "#2a3f5f"
            },
            "marker": {
             "line": {
              "color": "#E5ECF6",
              "width": 0.5
             },
             "pattern": {
              "fillmode": "overlay",
              "size": 10,
              "solidity": 0.2
             }
            },
            "type": "bar"
           }
          ],
          "barpolar": [
           {
            "marker": {
             "line": {
              "color": "#E5ECF6",
              "width": 0.5
             },
             "pattern": {
              "fillmode": "overlay",
              "size": 10,
              "solidity": 0.2
             }
            },
            "type": "barpolar"
           }
          ],
          "carpet": [
           {
            "aaxis": {
             "endlinecolor": "#2a3f5f",
             "gridcolor": "white",
             "linecolor": "white",
             "minorgridcolor": "white",
             "startlinecolor": "#2a3f5f"
            },
            "baxis": {
             "endlinecolor": "#2a3f5f",
             "gridcolor": "white",
             "linecolor": "white",
             "minorgridcolor": "white",
             "startlinecolor": "#2a3f5f"
            },
            "type": "carpet"
           }
          ],
          "choropleth": [
           {
            "colorbar": {
             "outlinewidth": 0,
             "ticks": ""
            },
            "type": "choropleth"
           }
          ],
          "contour": [
           {
            "colorbar": {
             "outlinewidth": 0,
             "ticks": ""
            },
            "colorscale": [
             [
              0,
              "#0d0887"
             ],
             [
              0.1111111111111111,
              "#46039f"
             ],
             [
              0.2222222222222222,
              "#7201a8"
             ],
             [
              0.3333333333333333,
              "#9c179e"
             ],
             [
              0.4444444444444444,
              "#bd3786"
             ],
             [
              0.5555555555555556,
              "#d8576b"
             ],
             [
              0.6666666666666666,
              "#ed7953"
             ],
             [
              0.7777777777777778,
              "#fb9f3a"
             ],
             [
              0.8888888888888888,
              "#fdca26"
             ],
             [
              1,
              "#f0f921"
             ]
            ],
            "type": "contour"
           }
          ],
          "contourcarpet": [
           {
            "colorbar": {
             "outlinewidth": 0,
             "ticks": ""
            },
            "type": "contourcarpet"
           }
          ],
          "heatmap": [
           {
            "colorbar": {
             "outlinewidth": 0,
             "ticks": ""
            },
            "colorscale": [
             [
              0,
              "#0d0887"
             ],
             [
              0.1111111111111111,
              "#46039f"
             ],
             [
              0.2222222222222222,
              "#7201a8"
             ],
             [
              0.3333333333333333,
              "#9c179e"
             ],
             [
              0.4444444444444444,
              "#bd3786"
             ],
             [
              0.5555555555555556,
              "#d8576b"
             ],
             [
              0.6666666666666666,
              "#ed7953"
             ],
             [
              0.7777777777777778,
              "#fb9f3a"
             ],
             [
              0.8888888888888888,
              "#fdca26"
             ],
             [
              1,
              "#f0f921"
             ]
            ],
            "type": "heatmap"
           }
          ],
          "heatmapgl": [
           {
            "colorbar": {
             "outlinewidth": 0,
             "ticks": ""
            },
            "colorscale": [
             [
              0,
              "#0d0887"
             ],
             [
              0.1111111111111111,
              "#46039f"
             ],
             [
              0.2222222222222222,
              "#7201a8"
             ],
             [
              0.3333333333333333,
              "#9c179e"
             ],
             [
              0.4444444444444444,
              "#bd3786"
             ],
             [
              0.5555555555555556,
              "#d8576b"
             ],
             [
              0.6666666666666666,
              "#ed7953"
             ],
             [
              0.7777777777777778,
              "#fb9f3a"
             ],
             [
              0.8888888888888888,
              "#fdca26"
             ],
             [
              1,
              "#f0f921"
             ]
            ],
            "type": "heatmapgl"
           }
          ],
          "histogram": [
           {
            "marker": {
             "pattern": {
              "fillmode": "overlay",
              "size": 10,
              "solidity": 0.2
             }
            },
            "type": "histogram"
           }
          ],
          "histogram2d": [
           {
            "colorbar": {
             "outlinewidth": 0,
             "ticks": ""
            },
            "colorscale": [
             [
              0,
              "#0d0887"
             ],
             [
              0.1111111111111111,
              "#46039f"
             ],
             [
              0.2222222222222222,
              "#7201a8"
             ],
             [
              0.3333333333333333,
              "#9c179e"
             ],
             [
              0.4444444444444444,
              "#bd3786"
             ],
             [
              0.5555555555555556,
              "#d8576b"
             ],
             [
              0.6666666666666666,
              "#ed7953"
             ],
             [
              0.7777777777777778,
              "#fb9f3a"
             ],
             [
              0.8888888888888888,
              "#fdca26"
             ],
             [
              1,
              "#f0f921"
             ]
            ],
            "type": "histogram2d"
           }
          ],
          "histogram2dcontour": [
           {
            "colorbar": {
             "outlinewidth": 0,
             "ticks": ""
            },
            "colorscale": [
             [
              0,
              "#0d0887"
             ],
             [
              0.1111111111111111,
              "#46039f"
             ],
             [
              0.2222222222222222,
              "#7201a8"
             ],
             [
              0.3333333333333333,
              "#9c179e"
             ],
             [
              0.4444444444444444,
              "#bd3786"
             ],
             [
              0.5555555555555556,
              "#d8576b"
             ],
             [
              0.6666666666666666,
              "#ed7953"
             ],
             [
              0.7777777777777778,
              "#fb9f3a"
             ],
             [
              0.8888888888888888,
              "#fdca26"
             ],
             [
              1,
              "#f0f921"
             ]
            ],
            "type": "histogram2dcontour"
           }
          ],
          "mesh3d": [
           {
            "colorbar": {
             "outlinewidth": 0,
             "ticks": ""
            },
            "type": "mesh3d"
           }
          ],
          "parcoords": [
           {
            "line": {
             "colorbar": {
              "outlinewidth": 0,
              "ticks": ""
             }
            },
            "type": "parcoords"
           }
          ],
          "pie": [
           {
            "automargin": true,
            "type": "pie"
           }
          ],
          "scatter": [
           {
            "fillpattern": {
             "fillmode": "overlay",
             "size": 10,
             "solidity": 0.2
            },
            "type": "scatter"
           }
          ],
          "scatter3d": [
           {
            "line": {
             "colorbar": {
              "outlinewidth": 0,
              "ticks": ""
             }
            },
            "marker": {
             "colorbar": {
              "outlinewidth": 0,
              "ticks": ""
             }
            },
            "type": "scatter3d"
           }
          ],
          "scattercarpet": [
           {
            "marker": {
             "colorbar": {
              "outlinewidth": 0,
              "ticks": ""
             }
            },
            "type": "scattercarpet"
           }
          ],
          "scattergeo": [
           {
            "marker": {
             "colorbar": {
              "outlinewidth": 0,
              "ticks": ""
             }
            },
            "type": "scattergeo"
           }
          ],
          "scattergl": [
           {
            "marker": {
             "colorbar": {
              "outlinewidth": 0,
              "ticks": ""
             }
            },
            "type": "scattergl"
           }
          ],
          "scattermapbox": [
           {
            "marker": {
             "colorbar": {
              "outlinewidth": 0,
              "ticks": ""
             }
            },
            "type": "scattermapbox"
           }
          ],
          "scatterpolar": [
           {
            "marker": {
             "colorbar": {
              "outlinewidth": 0,
              "ticks": ""
             }
            },
            "type": "scatterpolar"
           }
          ],
          "scatterpolargl": [
           {
            "marker": {
             "colorbar": {
              "outlinewidth": 0,
              "ticks": ""
             }
            },
            "type": "scatterpolargl"
           }
          ],
          "scatterternary": [
           {
            "marker": {
             "colorbar": {
              "outlinewidth": 0,
              "ticks": ""
             }
            },
            "type": "scatterternary"
           }
          ],
          "surface": [
           {
            "colorbar": {
             "outlinewidth": 0,
             "ticks": ""
            },
            "colorscale": [
             [
              0,
              "#0d0887"
             ],
             [
              0.1111111111111111,
              "#46039f"
             ],
             [
              0.2222222222222222,
              "#7201a8"
             ],
             [
              0.3333333333333333,
              "#9c179e"
             ],
             [
              0.4444444444444444,
              "#bd3786"
             ],
             [
              0.5555555555555556,
              "#d8576b"
             ],
             [
              0.6666666666666666,
              "#ed7953"
             ],
             [
              0.7777777777777778,
              "#fb9f3a"
             ],
             [
              0.8888888888888888,
              "#fdca26"
             ],
             [
              1,
              "#f0f921"
             ]
            ],
            "type": "surface"
           }
          ],
          "table": [
           {
            "cells": {
             "fill": {
              "color": "#EBF0F8"
             },
             "line": {
              "color": "white"
             }
            },
            "header": {
             "fill": {
              "color": "#C8D4E3"
             },
             "line": {
              "color": "white"
             }
            },
            "type": "table"
           }
          ]
         },
         "layout": {
          "annotationdefaults": {
           "arrowcolor": "#2a3f5f",
           "arrowhead": 0,
           "arrowwidth": 1
          },
          "autotypenumbers": "strict",
          "coloraxis": {
           "colorbar": {
            "outlinewidth": 0,
            "ticks": ""
           }
          },
          "colorscale": {
           "diverging": [
            [
             0,
             "#8e0152"
            ],
            [
             0.1,
             "#c51b7d"
            ],
            [
             0.2,
             "#de77ae"
            ],
            [
             0.3,
             "#f1b6da"
            ],
            [
             0.4,
             "#fde0ef"
            ],
            [
             0.5,
             "#f7f7f7"
            ],
            [
             0.6,
             "#e6f5d0"
            ],
            [
             0.7,
             "#b8e186"
            ],
            [
             0.8,
             "#7fbc41"
            ],
            [
             0.9,
             "#4d9221"
            ],
            [
             1,
             "#276419"
            ]
           ],
           "sequential": [
            [
             0,
             "#0d0887"
            ],
            [
             0.1111111111111111,
             "#46039f"
            ],
            [
             0.2222222222222222,
             "#7201a8"
            ],
            [
             0.3333333333333333,
             "#9c179e"
            ],
            [
             0.4444444444444444,
             "#bd3786"
            ],
            [
             0.5555555555555556,
             "#d8576b"
            ],
            [
             0.6666666666666666,
             "#ed7953"
            ],
            [
             0.7777777777777778,
             "#fb9f3a"
            ],
            [
             0.8888888888888888,
             "#fdca26"
            ],
            [
             1,
             "#f0f921"
            ]
           ],
           "sequentialminus": [
            [
             0,
             "#0d0887"
            ],
            [
             0.1111111111111111,
             "#46039f"
            ],
            [
             0.2222222222222222,
             "#7201a8"
            ],
            [
             0.3333333333333333,
             "#9c179e"
            ],
            [
             0.4444444444444444,
             "#bd3786"
            ],
            [
             0.5555555555555556,
             "#d8576b"
            ],
            [
             0.6666666666666666,
             "#ed7953"
            ],
            [
             0.7777777777777778,
             "#fb9f3a"
            ],
            [
             0.8888888888888888,
             "#fdca26"
            ],
            [
             1,
             "#f0f921"
            ]
           ]
          },
          "colorway": [
           "#636efa",
           "#EF553B",
           "#00cc96",
           "#ab63fa",
           "#FFA15A",
           "#19d3f3",
           "#FF6692",
           "#B6E880",
           "#FF97FF",
           "#FECB52"
          ],
          "font": {
           "color": "#2a3f5f"
          },
          "geo": {
           "bgcolor": "white",
           "lakecolor": "white",
           "landcolor": "#E5ECF6",
           "showlakes": true,
           "showland": true,
           "subunitcolor": "white"
          },
          "hoverlabel": {
           "align": "left"
          },
          "hovermode": "closest",
          "mapbox": {
           "style": "light"
          },
          "paper_bgcolor": "white",
          "plot_bgcolor": "#E5ECF6",
          "polar": {
           "angularaxis": {
            "gridcolor": "white",
            "linecolor": "white",
            "ticks": ""
           },
           "bgcolor": "#E5ECF6",
           "radialaxis": {
            "gridcolor": "white",
            "linecolor": "white",
            "ticks": ""
           }
          },
          "scene": {
           "xaxis": {
            "backgroundcolor": "#E5ECF6",
            "gridcolor": "white",
            "gridwidth": 2,
            "linecolor": "white",
            "showbackground": true,
            "ticks": "",
            "zerolinecolor": "white"
           },
           "yaxis": {
            "backgroundcolor": "#E5ECF6",
            "gridcolor": "white",
            "gridwidth": 2,
            "linecolor": "white",
            "showbackground": true,
            "ticks": "",
            "zerolinecolor": "white"
           },
           "zaxis": {
            "backgroundcolor": "#E5ECF6",
            "gridcolor": "white",
            "gridwidth": 2,
            "linecolor": "white",
            "showbackground": true,
            "ticks": "",
            "zerolinecolor": "white"
           }
          },
          "shapedefaults": {
           "line": {
            "color": "#2a3f5f"
           }
          },
          "ternary": {
           "aaxis": {
            "gridcolor": "white",
            "linecolor": "white",
            "ticks": ""
           },
           "baxis": {
            "gridcolor": "white",
            "linecolor": "white",
            "ticks": ""
           },
           "bgcolor": "#E5ECF6",
           "caxis": {
            "gridcolor": "white",
            "linecolor": "white",
            "ticks": ""
           }
          },
          "title": {
           "x": 0.05
          },
          "xaxis": {
           "automargin": true,
           "gridcolor": "white",
           "linecolor": "white",
           "ticks": "",
           "title": {
            "standoff": 15
           },
           "zerolinecolor": "white",
           "zerolinewidth": 2
          },
          "yaxis": {
           "automargin": true,
           "gridcolor": "white",
           "linecolor": "white",
           "ticks": "",
           "title": {
            "standoff": 15
           },
           "zerolinecolor": "white",
           "zerolinewidth": 2
          }
         }
        },
        "xaxis": {
         "anchor": "y",
         "domain": [
          0,
          1
         ],
         "title": {
          "text": "_value"
         }
        },
        "yaxis": {
         "anchor": "x",
         "domain": [
          0,
          1
         ],
         "title": {
          "text": "count"
         }
        }
       }
      }
     },
     "metadata": {},
     "output_type": "display_data"
    }
   ],
   "source": [
    "\n",
    "px.histogram(d.value)"
   ]
  },
  {
   "cell_type": "code",
   "execution_count": 33,
   "metadata": {},
   "outputs": [
    {
     "data": {
      "text/plain": [
       "array([ 1,  1,  1,  1, -1,  1,  1,  1,  1,  1,  1,  1,  1,  1,  1,  1,  1,\n",
       "        1,  1,  1,  1,  1])"
      ]
     },
     "execution_count": 33,
     "metadata": {},
     "output_type": "execute_result"
    }
   ],
   "source": [
    "list = np.array([1,1,1,1,2,1,1,1,1,0,0,0,0,0,0,0,0,0,0.7,0,0,0,])\n",
    "from sklearn.ensemble import IsolationForest\n",
    "model = IsolationForest(n_estimators=10, contamination=0.01, random_state=42)\n",
    "model.fit_predict(list.reshape(-1, 1))"
   ]
  },
  {
   "cell_type": "markdown",
   "metadata": {},
   "source": [
    "Function Definition: The function get_anomalies_window takes a DataFrame data_window as input, which is expected to contain the time series data.\n",
    "\n",
    "Importing Necessary Libraries:\n",
    "\n",
    "pandas for data manipulation.\n",
    "IsolationForest from scikit-learn for anomaly detection.\n",
    "StandardScaler from scikit-learn for standardizing the data.\n",
    "numpy for numerical operations.\n",
    "Setting the Window Size: window_size is defined, which specifies the number of data points to be considered in each rolling window. This is used later to calculate the rolling average of anomaly scores.\n",
    "\n",
    "Data Reshaping:\n",
    "\n",
    "The values from the 'value' column of data_window are extracted and reshaped into a two-dimensional array, which is necessary for compatibility with scikit-learn's Isolation Forest model.\n",
    "Standardization of Features:\n",
    "\n",
    "The values are standardized using StandardScaler. This process scales the data so that it has a mean of 0 and a standard deviation of 1, which is often beneficial for machine learning algorithms.\n",
    "Isolation Forest Model:\n",
    "\n",
    "An Isolation Forest model is instantiated and fitted to the standardized data.\n",
    "The decision_function method of the model is used to compute the anomaly scores for each data point. The scores essentially measure how \"isolated\" or \"anomalous\" a data point is.\n",
    "Rolling Score Calculation:\n",
    "\n",
    "A rolling average of these anomaly scores is computed over the specified window_size. This rolling score helps to smooth out the scores over time and focus on windows of data rather than individual points.\n",
    "Anomaly Threshold Determination:\n",
    "\n",
    "A threshold is set to identify anomaly windows. In this case, it's set as the 1st percentile (quantile 0.01) of the rolling scores, meaning the lowest 1% of the rolling scores will be flagged as anomalies.\n",
    "Grouping Consecutive Anomalies:\n",
    "\n",
    "The function then identifies consecutive data points that are below the anomaly threshold.\n",
    "It assigns a unique group number to each set of consecutive anomalies using a cumulative sum (cumsum) on the condition of whether a point is an anomaly or not.\n",
    "Characterizing Anomaly Windows:\n",
    "\n",
    "The function groups the anomalies and calculates the start and end of each anomaly window, as well as lists all the release periods within each window.\n",
    "This is done by aggregating the minimum (start date) and maximum (end date) values of the 'release_period' within each group of consecutive anomalies. Additionally, it compiles a list of all 'release_period' values in each anomaly window.\n",
    "Returning Anomaly Windows:\n",
    "\n",
    "The function finally returns a DataFrame, anomaly_windows, which contains the start and end dates of each detected anomaly window, along with the list of release periods that fall within each window.\n",
    "The purpose of this function is to not only detect anomalies in time series data but also to identify periods where these anomalies are concentrated, providing a more holistic view of anomalous behavior over time."
   ]
  }
 ],
 "metadata": {
  "kernelspec": {
   "display_name": "base",
   "language": "python",
   "name": "python3"
  },
  "language_info": {
   "codemirror_mode": {
    "name": "ipython",
    "version": 3
   },
   "file_extension": ".py",
   "mimetype": "text/x-python",
   "name": "python",
   "nbconvert_exporter": "python",
   "pygments_lexer": "ipython3",
   "version": "3.11.5"
  }
 },
 "nbformat": 4,
 "nbformat_minor": 2
}
