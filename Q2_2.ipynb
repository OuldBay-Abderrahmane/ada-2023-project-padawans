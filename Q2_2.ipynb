{
 "cells": [
  {
   "cell_type": "markdown",
   "id": "672a5495",
   "metadata": {},
   "source": [
    "It is widely known that screenwriters are influenced by the geographical, historical and social context in which they find themselves. Important social and historical events have a strong impact on consciousness of peoples. This often make change their tastes, interests and problematics to which they face and pay attention. This will probably have an impact on the themes of the films since the screenwriters on the one hand seek to adapt to the tastes of the public and their interests, and on the other hand often to expose, raise or provide elements of answers to the problems of the time.\n",
    "\n",
    "The research question at the core of this investigation is: Does cinema reflect political events? In other words, can the evolution of the frequencies of different socio-political themes in films be explained in a coherent manner in relation to the historical and socio-political events that occur over time?  What are the prevailing socio-political themes depicted in movies across different quinquennium, and how do they align with historical events and cultural shifts?\n",
    " \n",
    "To answer this question we will focus on the 20 th century period and on a set of predefined socio politcal themes that are linked to key historical and social events or period of the 20 th century. Movie plots of films are analysed and for each movie plot a score is assigned with respect to each of the themes. This score reflect the distance between the theme and the plot summary and it is obtained by computing the embeddings for each theme and each movie plot and then measuring the cosine similarity between the movie plot and the theme respective embeddings. Similarity scores are then converted in binary data (0/1) by applying a threshold. 1 means a certain theme is present in the movie plot and 0 otherwise. Then data are grouped by years and average frequency of each socio political theme is computed within a time window of 5-year period (quinquenium)that moove year by year. The evolution of these frequencies of each theme of interest are plotted accross time and compared. The significance of increase or decrease of the frequency of a certain theme at a certain date is assessed by computing it's z score that determine if a frequency value is significantly different from the mean computed over all frequency values."
   ]
  },
  {
   "cell_type": "code",
   "execution_count": 276,
   "id": "ca01c219",
   "metadata": {
    "scrolled": true
   },
   "outputs": [],
   "source": [
    "# Import important librairies.\n",
    "import pandas as pd\n",
    "import numpy as np\n",
    "import spacy\n",
    "import json\n",
    "import matplotlib.pyplot as plt\n",
    "import plotly.graph_objects as go\n",
    "from plotly.subplots import make_subplots\n",
    "import plotly.express as px\n",
    "import scipy.stats as stats\n",
    "import ast\n",
    "\n",
    "from sklearn.feature_extraction.text import TfidfVectorizer\n",
    "from sklearn.metrics.pairwise import cosine_similarity\n",
    "from sentence_transformers import SentenceTransformer\n",
    "from sentence_transformers import SentenceTransformer, util\n",
    "from tqdm.notebook import tqdm\n",
    "tqdm.pandas()\n",
    "\n",
    "pd.options.mode.chained_assignment = None  "
   ]
  },
  {
   "cell_type": "code",
   "execution_count": 2,
   "id": "54969518",
   "metadata": {},
   "outputs": [
    {
     "name": "stderr",
     "output_type": "stream",
     "text": [
      "C:\\Users\\igord\\anaconda3\\lib\\site-packages\\IPython\\core\\interactiveshell.py:3444: DtypeWarning: Columns (1,5,6,7,9) have mixed types.Specify dtype option on import or set low_memory=False.\n",
      "  exec(code_obj, self.user_global_ns, self.user_ns)\n"
     ]
    },
    {
     "data": {
      "text/html": [
       "<div>\n",
       "<style scoped>\n",
       "    .dataframe tbody tr th:only-of-type {\n",
       "        vertical-align: middle;\n",
       "    }\n",
       "\n",
       "    .dataframe tbody tr th {\n",
       "        vertical-align: top;\n",
       "    }\n",
       "\n",
       "    .dataframe thead th {\n",
       "        text-align: right;\n",
       "    }\n",
       "</style>\n",
       "<table border=\"1\" class=\"dataframe\">\n",
       "  <thead>\n",
       "    <tr style=\"text-align: right;\">\n",
       "      <th></th>\n",
       "      <th>IMDbID</th>\n",
       "      <th>MovieName</th>\n",
       "      <th>MovieReleaseDate</th>\n",
       "      <th>MovieBoxOfficeRevenue</th>\n",
       "      <th>MovieRuntime</th>\n",
       "      <th>MovieLanguages</th>\n",
       "      <th>MovieCountries</th>\n",
       "      <th>PlotSummaries</th>\n",
       "      <th>averageRating</th>\n",
       "      <th>genres</th>\n",
       "    </tr>\n",
       "  </thead>\n",
       "  <tbody>\n",
       "    <tr>\n",
       "      <th>67918</th>\n",
       "      <td>tt0000009</td>\n",
       "      <td>Miss Jerry</td>\n",
       "      <td>1894.0</td>\n",
       "      <td>NaN</td>\n",
       "      <td>NaN</td>\n",
       "      <td>{\"/m/06ppq\": \"Silent film\"}</td>\n",
       "      <td>{\"/m/09c7w0\": \"United States of America\"}</td>\n",
       "      <td>After finding out that her father is suffering...</td>\n",
       "      <td>5.3</td>\n",
       "      <td>Romance</td>\n",
       "    </tr>\n",
       "    <tr>\n",
       "      <th>81467</th>\n",
       "      <td>NaN</td>\n",
       "      <td>Corbett and Courtney Before the Kinetograph</td>\n",
       "      <td>1894.0</td>\n",
       "      <td>NaN</td>\n",
       "      <td>NaN</td>\n",
       "      <td>{\"/m/06ppq\": \"Silent film\"}</td>\n",
       "      <td>{\"/m/09c7w0\": \"United States of America\"}</td>\n",
       "      <td>James J. Corbett and Peter Courtney both take ...</td>\n",
       "      <td>NaN</td>\n",
       "      <td>NaN</td>\n",
       "    </tr>\n",
       "    <tr>\n",
       "      <th>9265</th>\n",
       "      <td>NaN</td>\n",
       "      <td>The Photographical Congress Arrives in Lyon</td>\n",
       "      <td>1895.0</td>\n",
       "      <td>NaN</td>\n",
       "      <td>NaN</td>\n",
       "      <td>{\"/m/06ppq\": \"Silent film\"}</td>\n",
       "      <td>{\"/m/0f8l9c\": \"France\"}</td>\n",
       "      <td>Photographers leave the deck of a riverboat in...</td>\n",
       "      <td>NaN</td>\n",
       "      <td>NaN</td>\n",
       "    </tr>\n",
       "    <tr>\n",
       "      <th>80428</th>\n",
       "      <td>NaN</td>\n",
       "      <td>Le Manoir du diable</td>\n",
       "      <td>1896.0</td>\n",
       "      <td>NaN</td>\n",
       "      <td>3.0</td>\n",
       "      <td>{}</td>\n",
       "      <td>{\"/m/0f8l9c\": \"France\"}</td>\n",
       "      <td>The film starts off with a large bat flying in...</td>\n",
       "      <td>NaN</td>\n",
       "      <td>NaN</td>\n",
       "    </tr>\n",
       "    <tr>\n",
       "      <th>49416</th>\n",
       "      <td>tt0000147</td>\n",
       "      <td>The Corbett-Fitzsimmons Fight</td>\n",
       "      <td>1897.0</td>\n",
       "      <td>100000.0</td>\n",
       "      <td>NaN</td>\n",
       "      <td>{}</td>\n",
       "      <td>{}</td>\n",
       "      <td>The film no longer exists in its entirety; how...</td>\n",
       "      <td>5.3</td>\n",
       "      <td>Documentary,News,Sport</td>\n",
       "    </tr>\n",
       "  </tbody>\n",
       "</table>\n",
       "</div>"
      ],
      "text/plain": [
       "          IMDbID                                    MovieName  \\\n",
       "67918  tt0000009                                   Miss Jerry   \n",
       "81467        NaN  Corbett and Courtney Before the Kinetograph   \n",
       "9265         NaN  The Photographical Congress Arrives in Lyon   \n",
       "80428        NaN                          Le Manoir du diable   \n",
       "49416  tt0000147                The Corbett-Fitzsimmons Fight   \n",
       "\n",
       "       MovieReleaseDate  MovieBoxOfficeRevenue  MovieRuntime  \\\n",
       "67918            1894.0                    NaN           NaN   \n",
       "81467            1894.0                    NaN           NaN   \n",
       "9265             1895.0                    NaN           NaN   \n",
       "80428            1896.0                    NaN           3.0   \n",
       "49416            1897.0               100000.0           NaN   \n",
       "\n",
       "                    MovieLanguages                             MovieCountries  \\\n",
       "67918  {\"/m/06ppq\": \"Silent film\"}  {\"/m/09c7w0\": \"United States of America\"}   \n",
       "81467  {\"/m/06ppq\": \"Silent film\"}  {\"/m/09c7w0\": \"United States of America\"}   \n",
       "9265   {\"/m/06ppq\": \"Silent film\"}                    {\"/m/0f8l9c\": \"France\"}   \n",
       "80428                           {}                    {\"/m/0f8l9c\": \"France\"}   \n",
       "49416                           {}                                         {}   \n",
       "\n",
       "                                           PlotSummaries  averageRating  \\\n",
       "67918  After finding out that her father is suffering...            5.3   \n",
       "81467  James J. Corbett and Peter Courtney both take ...            NaN   \n",
       "9265   Photographers leave the deck of a riverboat in...            NaN   \n",
       "80428  The film starts off with a large bat flying in...            NaN   \n",
       "49416  The film no longer exists in its entirety; how...            5.3   \n",
       "\n",
       "                       genres  \n",
       "67918                 Romance  \n",
       "81467                     NaN  \n",
       "9265                      NaN  \n",
       "80428                     NaN  \n",
       "49416  Documentary,News,Sport  "
      ]
     },
     "execution_count": 2,
     "metadata": {},
     "output_type": "execute_result"
    }
   ],
   "source": [
    "#Loading of the dataset that conist in a merging of IMDB and CMU dataset.\n",
    "df = pd.read_csv('dataset/cmu_merged_with_imdb.csv')\n",
    "\n",
    "# Remove of movies without information about the release data or plot summarie.\n",
    "df = df.dropna(subset = ['MovieReleaseDate','PlotSummaries'])\n",
    "\n",
    "#Sorting movies by release date in ascending order\n",
    "df = df.sort_values(by='MovieReleaseDate')\n",
    "\n",
    "#Pre-visualisation.\n",
    "df.head()"
   ]
  },
  {
   "cell_type": "code",
   "execution_count": 3,
   "id": "0c0a55a3",
   "metadata": {},
   "outputs": [],
   "source": [
    "\n",
    "# List of predefined socio-political theme of interest for the 20 th century.\n",
    "themes = ['War','cold war','space race','Economic hardship, struggle for survival','Revolution, communism',\n",
    "          'China revolution','Berlin wall','Soviet union dissolution','decolonization','women rights','apartheid',\n",
    "          'civil rights, racial segregation']\n",
    "\n",
    "# generation of dates/years of the 20th century\n",
    "years = np.arange(0,110,1)\n",
    "years = years + 1900\n",
    "\n",
    "# Computation of embeddings for each theme by using Siamese BERT-Networks models.\n",
    "model = SentenceTransformer('sentence-transformers/all-distilroberta-v1')\n",
    "embeddings_themes = model.encode(themes)"
   ]
  },
  {
   "cell_type": "code",
   "execution_count": 4,
   "id": "c8092b90",
   "metadata": {
    "scrolled": true
   },
   "outputs": [
    {
     "data": {
      "application/vnd.jupyter.widget-view+json": {
       "model_id": "e990bded1c72443fa3aa41ae5e7b8ab7",
       "version_major": 2,
       "version_minor": 0
      },
      "text/plain": [
       "  0%|          | 0/23096 [00:00<?, ?it/s]"
      ]
     },
     "metadata": {},
     "output_type": "display_data"
    }
   ],
   "source": [
    "#Computation of embeddings for each movie plot by using Siamese BERT-Networks models.\n",
    "PlotSumEmbeddings =df['PlotSummaries'].progress_apply(lambda x: model.encode(x))"
   ]
  },
  {
   "cell_type": "code",
   "execution_count": 313,
   "id": "485d18b6",
   "metadata": {},
   "outputs": [
    {
     "data": {
      "text/html": [
       "<div>\n",
       "<style scoped>\n",
       "    .dataframe tbody tr th:only-of-type {\n",
       "        vertical-align: middle;\n",
       "    }\n",
       "\n",
       "    .dataframe tbody tr th {\n",
       "        vertical-align: top;\n",
       "    }\n",
       "\n",
       "    .dataframe thead th {\n",
       "        text-align: right;\n",
       "    }\n",
       "</style>\n",
       "<table border=\"1\" class=\"dataframe\">\n",
       "  <thead>\n",
       "    <tr style=\"text-align: right;\">\n",
       "      <th></th>\n",
       "      <th>IMDbID</th>\n",
       "      <th>MovieName</th>\n",
       "      <th>MovieReleaseDate</th>\n",
       "      <th>MovieBoxOfficeRevenue</th>\n",
       "      <th>MovieRuntime</th>\n",
       "      <th>MovieLanguages</th>\n",
       "      <th>MovieCountries</th>\n",
       "      <th>PlotSummaries</th>\n",
       "      <th>averageRating</th>\n",
       "      <th>genres</th>\n",
       "      <th>...</th>\n",
       "      <th>space race</th>\n",
       "      <th>Economic hardship, struggle for survival</th>\n",
       "      <th>Revolution, communism</th>\n",
       "      <th>China revolution</th>\n",
       "      <th>Berlin wall</th>\n",
       "      <th>Soviet union dissolution</th>\n",
       "      <th>decolonization</th>\n",
       "      <th>women rights</th>\n",
       "      <th>apartheid</th>\n",
       "      <th>civil rights, racial segregation</th>\n",
       "    </tr>\n",
       "  </thead>\n",
       "  <tbody>\n",
       "    <tr>\n",
       "      <th>67918</th>\n",
       "      <td>tt0000009</td>\n",
       "      <td>Miss Jerry</td>\n",
       "      <td>1894.0</td>\n",
       "      <td>NaN</td>\n",
       "      <td>NaN</td>\n",
       "      <td>{\"/m/06ppq\": \"Silent film\"}</td>\n",
       "      <td>{\"/m/09c7w0\": \"United States of America\"}</td>\n",
       "      <td>After finding out that her father is suffering...</td>\n",
       "      <td>5.3</td>\n",
       "      <td>Romance</td>\n",
       "      <td>...</td>\n",
       "      <td>False</td>\n",
       "      <td>False</td>\n",
       "      <td>False</td>\n",
       "      <td>False</td>\n",
       "      <td>False</td>\n",
       "      <td>False</td>\n",
       "      <td>False</td>\n",
       "      <td>False</td>\n",
       "      <td>False</td>\n",
       "      <td>False</td>\n",
       "    </tr>\n",
       "    <tr>\n",
       "      <th>81467</th>\n",
       "      <td>NaN</td>\n",
       "      <td>Corbett and Courtney Before the Kinetograph</td>\n",
       "      <td>1894.0</td>\n",
       "      <td>NaN</td>\n",
       "      <td>NaN</td>\n",
       "      <td>{\"/m/06ppq\": \"Silent film\"}</td>\n",
       "      <td>{\"/m/09c7w0\": \"United States of America\"}</td>\n",
       "      <td>James J. Corbett and Peter Courtney both take ...</td>\n",
       "      <td>NaN</td>\n",
       "      <td>NaN</td>\n",
       "      <td>...</td>\n",
       "      <td>False</td>\n",
       "      <td>False</td>\n",
       "      <td>False</td>\n",
       "      <td>False</td>\n",
       "      <td>False</td>\n",
       "      <td>False</td>\n",
       "      <td>False</td>\n",
       "      <td>False</td>\n",
       "      <td>False</td>\n",
       "      <td>False</td>\n",
       "    </tr>\n",
       "    <tr>\n",
       "      <th>9265</th>\n",
       "      <td>NaN</td>\n",
       "      <td>The Photographical Congress Arrives in Lyon</td>\n",
       "      <td>1895.0</td>\n",
       "      <td>NaN</td>\n",
       "      <td>NaN</td>\n",
       "      <td>{\"/m/06ppq\": \"Silent film\"}</td>\n",
       "      <td>{\"/m/0f8l9c\": \"France\"}</td>\n",
       "      <td>Photographers leave the deck of a riverboat in...</td>\n",
       "      <td>NaN</td>\n",
       "      <td>NaN</td>\n",
       "      <td>...</td>\n",
       "      <td>False</td>\n",
       "      <td>False</td>\n",
       "      <td>False</td>\n",
       "      <td>False</td>\n",
       "      <td>False</td>\n",
       "      <td>False</td>\n",
       "      <td>False</td>\n",
       "      <td>False</td>\n",
       "      <td>False</td>\n",
       "      <td>False</td>\n",
       "    </tr>\n",
       "    <tr>\n",
       "      <th>80428</th>\n",
       "      <td>NaN</td>\n",
       "      <td>Le Manoir du diable</td>\n",
       "      <td>1896.0</td>\n",
       "      <td>NaN</td>\n",
       "      <td>3.0</td>\n",
       "      <td>{}</td>\n",
       "      <td>{\"/m/0f8l9c\": \"France\"}</td>\n",
       "      <td>The film starts off with a large bat flying in...</td>\n",
       "      <td>NaN</td>\n",
       "      <td>NaN</td>\n",
       "      <td>...</td>\n",
       "      <td>False</td>\n",
       "      <td>False</td>\n",
       "      <td>False</td>\n",
       "      <td>False</td>\n",
       "      <td>False</td>\n",
       "      <td>False</td>\n",
       "      <td>False</td>\n",
       "      <td>False</td>\n",
       "      <td>False</td>\n",
       "      <td>False</td>\n",
       "    </tr>\n",
       "    <tr>\n",
       "      <th>49416</th>\n",
       "      <td>tt0000147</td>\n",
       "      <td>The Corbett-Fitzsimmons Fight</td>\n",
       "      <td>1897.0</td>\n",
       "      <td>100000.0</td>\n",
       "      <td>NaN</td>\n",
       "      <td>{}</td>\n",
       "      <td>{}</td>\n",
       "      <td>The film no longer exists in its entirety; how...</td>\n",
       "      <td>5.3</td>\n",
       "      <td>Documentary,News,Sport</td>\n",
       "      <td>...</td>\n",
       "      <td>False</td>\n",
       "      <td>False</td>\n",
       "      <td>False</td>\n",
       "      <td>False</td>\n",
       "      <td>False</td>\n",
       "      <td>False</td>\n",
       "      <td>False</td>\n",
       "      <td>False</td>\n",
       "      <td>False</td>\n",
       "      <td>False</td>\n",
       "    </tr>\n",
       "  </tbody>\n",
       "</table>\n",
       "<p>5 rows × 22 columns</p>\n",
       "</div>"
      ],
      "text/plain": [
       "          IMDbID                                    MovieName  \\\n",
       "67918  tt0000009                                   Miss Jerry   \n",
       "81467        NaN  Corbett and Courtney Before the Kinetograph   \n",
       "9265         NaN  The Photographical Congress Arrives in Lyon   \n",
       "80428        NaN                          Le Manoir du diable   \n",
       "49416  tt0000147                The Corbett-Fitzsimmons Fight   \n",
       "\n",
       "       MovieReleaseDate  MovieBoxOfficeRevenue  MovieRuntime  \\\n",
       "67918            1894.0                    NaN           NaN   \n",
       "81467            1894.0                    NaN           NaN   \n",
       "9265             1895.0                    NaN           NaN   \n",
       "80428            1896.0                    NaN           3.0   \n",
       "49416            1897.0               100000.0           NaN   \n",
       "\n",
       "                    MovieLanguages                             MovieCountries  \\\n",
       "67918  {\"/m/06ppq\": \"Silent film\"}  {\"/m/09c7w0\": \"United States of America\"}   \n",
       "81467  {\"/m/06ppq\": \"Silent film\"}  {\"/m/09c7w0\": \"United States of America\"}   \n",
       "9265   {\"/m/06ppq\": \"Silent film\"}                    {\"/m/0f8l9c\": \"France\"}   \n",
       "80428                           {}                    {\"/m/0f8l9c\": \"France\"}   \n",
       "49416                           {}                                         {}   \n",
       "\n",
       "                                           PlotSummaries  averageRating  \\\n",
       "67918  After finding out that her father is suffering...            5.3   \n",
       "81467  James J. Corbett and Peter Courtney both take ...            NaN   \n",
       "9265   Photographers leave the deck of a riverboat in...            NaN   \n",
       "80428  The film starts off with a large bat flying in...            NaN   \n",
       "49416  The film no longer exists in its entirety; how...            5.3   \n",
       "\n",
       "                       genres  ...  space race  \\\n",
       "67918                 Romance  ...       False   \n",
       "81467                     NaN  ...       False   \n",
       "9265                      NaN  ...       False   \n",
       "80428                     NaN  ...       False   \n",
       "49416  Documentary,News,Sport  ...       False   \n",
       "\n",
       "       Economic hardship, struggle for survival  Revolution, communism  \\\n",
       "67918                                     False                  False   \n",
       "81467                                     False                  False   \n",
       "9265                                      False                  False   \n",
       "80428                                     False                  False   \n",
       "49416                                     False                  False   \n",
       "\n",
       "       China revolution  Berlin wall  Soviet union dissolution  \\\n",
       "67918             False        False                     False   \n",
       "81467             False        False                     False   \n",
       "9265              False        False                     False   \n",
       "80428             False        False                     False   \n",
       "49416             False        False                     False   \n",
       "\n",
       "       decolonization  women rights  apartheid  \\\n",
       "67918           False         False      False   \n",
       "81467           False         False      False   \n",
       "9265            False         False      False   \n",
       "80428           False         False      False   \n",
       "49416           False         False      False   \n",
       "\n",
       "       civil rights, racial segregation  \n",
       "67918                             False  \n",
       "81467                             False  \n",
       "9265                              False  \n",
       "80428                             False  \n",
       "49416                             False  \n",
       "\n",
       "[5 rows x 22 columns]"
      ]
     },
     "execution_count": 313,
     "metadata": {},
     "output_type": "execute_result"
    }
   ],
   "source": [
    "for i in range(0,len(themes)):\n",
    "    #measurement of the cosine similarity of each movie plot embedding with respect to each theme embedding\n",
    "    df[themes[i]] = PlotSumEmbeddings.apply(lambda x: util.pytorch_cos_sim(x, embeddings_themes[i]))\n",
    "    # conversion of the similarity value into a binary response. 1 if value is above a threshold meaning\n",
    "    # that the theme is present in movie plot. Othervise 0 meaning the theme is absent from the movie plot.\n",
    "    df[themes[i]] = df[themes[i]].apply(lambda x: True if x > 0.3 else (False))\n",
    "\n",
    "# back up for further analysis: z score analysis.   \n",
    "df2 = df \n",
    "\n",
    "#Visualisation\n",
    "df.head()"
   ]
  },
  {
   "cell_type": "code",
   "execution_count": 314,
   "id": "199b75d6",
   "metadata": {},
   "outputs": [],
   "source": [
    "# function that take as input the name of theme and output of dataframe with significativz z-score and years associated\n",
    "# to them\n",
    "def z_score(nom_theme) : \n",
    "    i = themes.index(nom_theme)\n",
    "    year =  years[0:len(years)-5]\n",
    "    frequency = f_list[i]\n",
    "    z_score = stats.zscore(frequency)\n",
    "    d = pd.DataFrame({'MovieReleaseDate': years[0:len(years)-5] ,'zscore':  z_score})\n",
    "    d = d.loc[d[\"zscore\"] >= 2.0]\n",
    "    return d  "
   ]
  },
  {
   "cell_type": "code",
   "execution_count": 315,
   "id": "b3dc7e0b",
   "metadata": {
    "scrolled": false
   },
   "outputs": [
    {
     "data": {
      "application/vnd.plotly.v1+json": {
       "config": {
        "plotlyServerURL": "https://plot.ly"
       },
       "data": [
        {
         "mode": "lines",
         "name": "decolonization",
         "type": "scatter",
         "x": [
          1901,
          1902,
          1903,
          1904,
          1905,
          1906,
          1907,
          1908,
          1909,
          1910,
          1911,
          1912,
          1913,
          1914,
          1915,
          1916,
          1917,
          1918,
          1919,
          1920,
          1921,
          1922,
          1923,
          1924,
          1925,
          1926,
          1927,
          1928,
          1929,
          1930,
          1931,
          1932,
          1933,
          1934,
          1935,
          1936,
          1937,
          1938,
          1939,
          1940,
          1941,
          1942,
          1943,
          1944,
          1945,
          1946,
          1947,
          1948,
          1949,
          1950,
          1951,
          1952,
          1953,
          1954,
          1955,
          1956,
          1957,
          1958,
          1959,
          1960,
          1961,
          1962,
          1963,
          1964,
          1965,
          1966,
          1967,
          1968,
          1969,
          1970,
          1971,
          1972,
          1973,
          1974,
          1975,
          1976,
          1977,
          1978,
          1979,
          1980,
          1981,
          1982,
          1983,
          1984,
          1985,
          1986,
          1987,
          1988,
          1989,
          1990,
          1991,
          1992,
          1993,
          1994,
          1995,
          1996,
          1997,
          1998,
          1999,
          2000,
          2001,
          2002,
          2003,
          2004,
          2005,
          2006,
          2007,
          2008,
          2009
         ],
         "xaxis": "x",
         "y": [
          0,
          0,
          0,
          0,
          0,
          0,
          0,
          0,
          0,
          0,
          0,
          0,
          0,
          0,
          0,
          0,
          0,
          0,
          0,
          0.0064516129032258064,
          0.00546448087431694,
          0.004608294930875576,
          0.004310344827586207,
          0.0038314176245210726,
          0,
          0,
          0,
          0,
          0,
          0,
          0.0016,
          0.0014947683109118087,
          0.0029985007496251873,
          0.0030627871362940277,
          0.0030441400304414,
          0.001488095238095238,
          0.0015082956259426848,
          0,
          0,
          0,
          0,
          0,
          0,
          0,
          0,
          0,
          0,
          0,
          0.0014619883040935672,
          0.0014285714285714286,
          0.00141643059490085,
          0.002777777777777778,
          0.002717391304347826,
          0.0013227513227513227,
          0.0013774104683195593,
          0.001392757660167131,
          0,
          0,
          0,
          0,
          0,
          0,
          0,
          0,
          0.001564945226917058,
          0.0015503875968992248,
          0.0015408320493066256,
          0.0014925373134328358,
          0.0014771048744460858,
          0,
          0,
          0.0014492753623188406,
          0.0014104372355430183,
          0.00141643059490085,
          0.001375515818431912,
          0.0013422818791946308,
          0.0012484394506866417,
          0.0012106537530266344,
          0.0011574074074074073,
          0.0011235955056179776,
          0.0010582010582010583,
          0,
          0,
          0,
          0.0008271298593879239,
          0.0008084074373484236,
          0.0015661707126076742,
          0.0015372790161414297,
          0.0015151515151515152,
          0.0007336757153338225,
          0.0006891798759476223,
          0,
          0,
          0.0005841121495327102,
          0.0005443658138268917,
          0.0005167958656330749,
          0.0004816955684007707,
          0.00045495905368516835,
          0.00041999160016799666,
          0.00038804811796662784,
          0.0007097232079489,
          0.0006355258976803305,
          0.0008375209380234506,
          0.0010080645161290322,
          0.0011405109489051094
         ],
         "yaxis": "y"
        },
        {
         "mode": "lines",
         "name": "women rights",
         "type": "scatter",
         "x": [
          1901,
          1902,
          1903,
          1904,
          1905,
          1906,
          1907,
          1908,
          1909,
          1910,
          1911,
          1912,
          1913,
          1914,
          1915,
          1916,
          1917,
          1918,
          1919,
          1920,
          1921,
          1922,
          1923,
          1924,
          1925,
          1926,
          1927,
          1928,
          1929,
          1930,
          1931,
          1932,
          1933,
          1934,
          1935,
          1936,
          1937,
          1938,
          1939,
          1940,
          1941,
          1942,
          1943,
          1944,
          1945,
          1946,
          1947,
          1948,
          1949,
          1950,
          1951,
          1952,
          1953,
          1954,
          1955,
          1956,
          1957,
          1958,
          1959,
          1960,
          1961,
          1962,
          1963,
          1964,
          1965,
          1966,
          1967,
          1968,
          1969,
          1970,
          1971,
          1972,
          1973,
          1974,
          1975,
          1976,
          1977,
          1978,
          1979,
          1980,
          1981,
          1982,
          1983,
          1984,
          1985,
          1986,
          1987,
          1988,
          1989,
          1990,
          1991,
          1992,
          1993,
          1994,
          1995,
          1996,
          1997,
          1998,
          1999,
          2000,
          2001,
          2002,
          2003,
          2004,
          2005,
          2006,
          2007,
          2008,
          2009
         ],
         "xaxis": "x2",
         "y": [
          0,
          0,
          0,
          0,
          0,
          0,
          0,
          0,
          0,
          0,
          0,
          0,
          0,
          0,
          0,
          0,
          0,
          0,
          0,
          0,
          0.00546448087431694,
          0.004608294930875576,
          0.004310344827586207,
          0.0038314176245210726,
          0.0033003300330033004,
          0,
          0,
          0,
          0,
          0,
          0,
          0,
          0,
          0,
          0,
          0,
          0,
          0.0015082956259426848,
          0.0015015015015015015,
          0.0015290519877675841,
          0.001594896331738437,
          0.001652892561983471,
          0,
          0,
          0,
          0,
          0,
          0,
          0,
          0.0014285714285714286,
          0.00141643059490085,
          0.001388888888888889,
          0.001358695652173913,
          0.0013227513227513227,
          0,
          0,
          0,
          0,
          0,
          0,
          0,
          0,
          0,
          0.001652892561983471,
          0.001564945226917058,
          0.0015503875968992248,
          0.0015408320493066256,
          0.0014925373134328358,
          0,
          0,
          0,
          0,
          0,
          0,
          0.001375515818431912,
          0.0013422818791946308,
          0.0024968789013732834,
          0.002421307506053269,
          0.0023148148148148147,
          0.0011235955056179776,
          0.0010582010582010583,
          0,
          0,
          0,
          0,
          0,
          0,
          0,
          0,
          0,
          0.0013783597518952446,
          0.0026702269692923898,
          0.002506265664160401,
          0.002336448598130841,
          0.0027218290691344584,
          0.0015503875968992248,
          0.0004816955684007707,
          0.00045495905368516835,
          0.0008399832003359933,
          0.00038804811796662784,
          0.0010645848119233499,
          0.0015888147442008262,
          0.001954215522054718,
          0.0015120967741935483,
          0.0013686131386861315
         ],
         "yaxis": "y2"
        },
        {
         "mode": "lines",
         "name": "apartheid",
         "type": "scatter",
         "x": [
          1901,
          1902,
          1903,
          1904,
          1905,
          1906,
          1907,
          1908,
          1909,
          1910,
          1911,
          1912,
          1913,
          1914,
          1915,
          1916,
          1917,
          1918,
          1919,
          1920,
          1921,
          1922,
          1923,
          1924,
          1925,
          1926,
          1927,
          1928,
          1929,
          1930,
          1931,
          1932,
          1933,
          1934,
          1935,
          1936,
          1937,
          1938,
          1939,
          1940,
          1941,
          1942,
          1943,
          1944,
          1945,
          1946,
          1947,
          1948,
          1949,
          1950,
          1951,
          1952,
          1953,
          1954,
          1955,
          1956,
          1957,
          1958,
          1959,
          1960,
          1961,
          1962,
          1963,
          1964,
          1965,
          1966,
          1967,
          1968,
          1969,
          1970,
          1971,
          1972,
          1973,
          1974,
          1975,
          1976,
          1977,
          1978,
          1979,
          1980,
          1981,
          1982,
          1983,
          1984,
          1985,
          1986,
          1987,
          1988,
          1989,
          1990,
          1991,
          1992,
          1993,
          1994,
          1995,
          1996,
          1997,
          1998,
          1999,
          2000,
          2001,
          2002,
          2003,
          2004,
          2005,
          2006,
          2007,
          2008,
          2009
         ],
         "xaxis": "x3",
         "y": [
          0,
          0,
          0,
          0,
          0,
          0,
          0,
          0,
          0,
          0,
          0,
          0.008849557522123894,
          0.007407407407407408,
          0.00641025641025641,
          0.006060606060606061,
          0.006711409395973154,
          0,
          0,
          0,
          0,
          0.00546448087431694,
          0.004608294930875576,
          0.004310344827586207,
          0.0038314176245210726,
          0.0033003300330033004,
          0,
          0,
          0,
          0,
          0,
          0,
          0,
          0,
          0.0015313935681470138,
          0.0030441400304414,
          0.002976190476190476,
          0.0030165912518853697,
          0.0030165912518853697,
          0.0015015015015015015,
          0.0015290519877675841,
          0.003189792663476874,
          0.0049586776859504135,
          0.0050933786078098476,
          0.00510204081632653,
          0.0049504950495049506,
          0.003169572107765452,
          0.004573170731707317,
          0.004424778761061947,
          0.005847953216374269,
          0.004285714285714286,
          0.00424929178470255,
          0.002777777777777778,
          0.002717391304347826,
          0.0013227513227513227,
          0.0013774104683195593,
          0.001392757660167131,
          0,
          0.0015313935681470138,
          0.001644736842105263,
          0.0017391304347826088,
          0.0017574692442882249,
          0.0017301038062283738,
          0,
          0,
          0.003129890453834116,
          0.0031007751937984496,
          0.0030816640986132513,
          0.004477611940298508,
          0.004431314623338257,
          0.0014684287812041115,
          0.001440922190201729,
          0.002898550724637681,
          0.0014104372355430183,
          0.0028328611898017,
          0.002751031636863824,
          0.004026845637583893,
          0.0024968789013732834,
          0.002421307506053269,
          0.0023148148148148147,
          0.0033707865168539327,
          0.0021164021164021165,
          0.00202020202020202,
          0.0019065776930409914,
          0.0026642984014209592,
          0.0033085194375516956,
          0.0032336297493936943,
          0.003915426781519186,
          0.004611837048424289,
          0.0030303030303030303,
          0.00293470286133529,
          0.0034458993797381117,
          0.0033377837116154874,
          0.003132832080200501,
          0.0029205607476635513,
          0.001633097441480675,
          0.0010335917312661498,
          0.0009633911368015414,
          0.0009099181073703367,
          0.0016799664006719867,
          0.002328288707799767,
          0.00319375443577005,
          0.0031776294884016524,
          0.0030709101060859855,
          0.0030241935483870967,
          0.0029653284671532845
         ],
         "yaxis": "y3"
        },
        {
         "mode": "lines",
         "name": "civil rights, racial segregation",
         "type": "scatter",
         "x": [
          1901,
          1902,
          1903,
          1904,
          1905,
          1906,
          1907,
          1908,
          1909,
          1910,
          1911,
          1912,
          1913,
          1914,
          1915,
          1916,
          1917,
          1918,
          1919,
          1920,
          1921,
          1922,
          1923,
          1924,
          1925,
          1926,
          1927,
          1928,
          1929,
          1930,
          1931,
          1932,
          1933,
          1934,
          1935,
          1936,
          1937,
          1938,
          1939,
          1940,
          1941,
          1942,
          1943,
          1944,
          1945,
          1946,
          1947,
          1948,
          1949,
          1950,
          1951,
          1952,
          1953,
          1954,
          1955,
          1956,
          1957,
          1958,
          1959,
          1960,
          1961,
          1962,
          1963,
          1964,
          1965,
          1966,
          1967,
          1968,
          1969,
          1970,
          1971,
          1972,
          1973,
          1974,
          1975,
          1976,
          1977,
          1978,
          1979,
          1980,
          1981,
          1982,
          1983,
          1984,
          1985,
          1986,
          1987,
          1988,
          1989,
          1990,
          1991,
          1992,
          1993,
          1994,
          1995,
          1996,
          1997,
          1998,
          1999,
          2000,
          2001,
          2002,
          2003,
          2004,
          2005,
          2006,
          2007,
          2008,
          2009
         ],
         "xaxis": "x4",
         "y": [
          0,
          0,
          0,
          0,
          0,
          0,
          0,
          0,
          0,
          0,
          0,
          0,
          0,
          0,
          0,
          0,
          0,
          0,
          0,
          0,
          0,
          0,
          0,
          0,
          0,
          0,
          0,
          0,
          0,
          0,
          0,
          0,
          0.0014992503748125937,
          0.0015313935681470138,
          0.0015220700152207,
          0.001488095238095238,
          0.0015082956259426848,
          0,
          0,
          0,
          0,
          0,
          0,
          0,
          0,
          0,
          0,
          0,
          0,
          0.0014285714285714286,
          0.00141643059490085,
          0.001388888888888889,
          0.001358695652173913,
          0.0013227513227513227,
          0,
          0,
          0.001451378809869376,
          0.0030627871362940277,
          0.003289473684210526,
          0.0034782608695652175,
          0.005272407732864675,
          0.0034602076124567475,
          0.0034482758620689655,
          0.0049586776859504135,
          0.004694835680751174,
          0.0031007751937984496,
          0.004622496147919877,
          0.0029850746268656717,
          0.0014771048744460858,
          0.002936857562408223,
          0.004322766570605188,
          0.002898550724637681,
          0.0028208744710860366,
          0.0028328611898017,
          0.001375515818431912,
          0,
          0.0012484394506866417,
          0.0012106537530266344,
          0.0011574074074074073,
          0.0011235955056179776,
          0.0010582010582010583,
          0,
          0,
          0,
          0.0008271298593879239,
          0.002425222312045271,
          0.0023492560689115116,
          0.0030745580322828594,
          0.0030303030303030303,
          0.0022010271460014674,
          0.002067539627842867,
          0.0020026702269692926,
          0.002506265664160401,
          0.002336448598130841,
          0.002177463255307567,
          0.0020671834625322996,
          0.0019267822736030828,
          0.0009099181073703367,
          0.0016799664006719867,
          0.0019402405898331393,
          0.0021291696238466998,
          0.002542103590721322,
          0.002512562814070352,
          0.0022681451612903227,
          0.002509124087591241
         ],
         "yaxis": "y4"
        }
       ],
       "layout": {
        "annotations": [
         {
          "font": {
           "size": 16
          },
          "showarrow": false,
          "text": "War",
          "x": 0.5,
          "xanchor": "center",
          "xref": "paper",
          "y": 1,
          "yanchor": "bottom",
          "yref": "paper"
         },
         {
          "font": {
           "size": 16
          },
          "showarrow": false,
          "text": "cold war",
          "x": 0.5,
          "xanchor": "center",
          "xref": "paper",
          "y": 0.74,
          "yanchor": "bottom",
          "yref": "paper"
         },
         {
          "font": {
           "size": 16
          },
          "showarrow": false,
          "text": "space race",
          "x": 0.5,
          "xanchor": "center",
          "xref": "paper",
          "y": 0.48,
          "yanchor": "bottom",
          "yref": "paper"
         },
         {
          "font": {
           "size": 16
          },
          "showarrow": false,
          "text": "Economic hardship, struggle for survival",
          "x": 0.5,
          "xanchor": "center",
          "xref": "paper",
          "y": 0.22,
          "yanchor": "bottom",
          "yref": "paper"
         },
         {
          "showarrow": false,
          "text": "World War I",
          "x": 1918,
          "xanchor": "right",
          "xref": "x",
          "y": 1,
          "yanchor": "top",
          "yref": "y domain"
         },
         {
          "showarrow": false,
          "text": "World War II",
          "x": 1945,
          "xanchor": "right",
          "xref": "x",
          "y": 1,
          "yanchor": "top",
          "yref": "y domain"
         },
         {
          "showarrow": false,
          "text": "Start decolonization",
          "x": 1960,
          "xanchor": "left",
          "xref": "x",
          "y": 1,
          "yanchor": "top",
          "yref": "y domain"
         },
         {
          "showarrow": false,
          "text": "Civil Right movement",
          "x": 1968,
          "xanchor": "right",
          "xref": "x2",
          "y": 1,
          "yanchor": "top",
          "yref": "y2 domain"
         },
         {
          "showarrow": false,
          "text": "Women Right movement",
          "x": 1960,
          "xanchor": "left",
          "xref": "x2",
          "y": 0,
          "yanchor": "bottom",
          "yref": "y2 domain"
         },
         {
          "showarrow": false,
          "text": "Civil Right movement",
          "x": 1968,
          "xanchor": "right",
          "xref": "x3",
          "y": 1,
          "yanchor": "top",
          "yref": "y3 domain"
         },
         {
          "showarrow": false,
          "text": "Women Right movement",
          "x": 1960,
          "xanchor": "left",
          "xref": "x3",
          "y": 0,
          "yanchor": "bottom",
          "yref": "y3 domain"
         },
         {
          "showarrow": false,
          "text": "End of Apartheid",
          "x": 1994,
          "xanchor": "left",
          "xref": "x3",
          "y": 1,
          "yanchor": "top",
          "yref": "y3 domain"
         },
         {
          "showarrow": false,
          "text": "Civil Right movement",
          "x": 1968,
          "xanchor": "right",
          "xref": "x4",
          "y": 1,
          "yanchor": "top",
          "yref": "y4 domain"
         },
         {
          "showarrow": false,
          "text": "Women Right movement",
          "x": 1960,
          "xanchor": "left",
          "xref": "x4",
          "y": 0,
          "yanchor": "bottom",
          "yref": "y4 domain"
         },
         {
          "showarrow": false,
          "text": "End of Apartheid",
          "x": 1994,
          "xanchor": "left",
          "xref": "x4",
          "y": 1,
          "yanchor": "top",
          "yref": "y4 domain"
         }
        ],
        "height": 1000,
        "shapes": [
         {
          "fillcolor": "red",
          "opacity": 0.3,
          "type": "rect",
          "x0": 1919,
          "x1": 1923,
          "xref": "x",
          "y0": 0,
          "y1": 1,
          "yref": "y domain"
         },
         {
          "fillcolor": "green",
          "line": {
           "width": 0
          },
          "opacity": 0.2,
          "type": "rect",
          "x0": 1914,
          "x1": 1918,
          "xref": "x",
          "y0": 0,
          "y1": 1,
          "yref": "y domain"
         },
         {
          "fillcolor": "orange",
          "line": {
           "width": 0
          },
          "opacity": 0.2,
          "type": "rect",
          "x0": 1939,
          "x1": 1945,
          "xref": "x",
          "y0": 0,
          "y1": 1,
          "yref": "y domain"
         },
         {
          "fillcolor": "brown",
          "line": {
           "width": 1
          },
          "opacity": 0.4,
          "type": "rect",
          "x0": 1960,
          "x1": 1960,
          "xref": "x",
          "y0": 0,
          "y1": 1,
          "yref": "y domain"
         },
         {
          "fillcolor": "red",
          "opacity": 0.3,
          "type": "rect",
          "x0": 1920,
          "x1": 1924,
          "xref": "x2",
          "y0": 0,
          "y1": 1,
          "yref": "y2 domain"
         },
         {
          "fillcolor": "yellow",
          "line": {
           "width": 0
          },
          "opacity": 0.4,
          "type": "rect",
          "x0": 1954,
          "x1": 1968,
          "xref": "x2",
          "y0": 0,
          "y1": 1,
          "yref": "y2 domain"
         },
         {
          "fillcolor": "violet",
          "line": {
           "width": 0
          },
          "opacity": 0.4,
          "type": "rect",
          "x0": 1960,
          "x1": 1970,
          "xref": "x2",
          "y0": 0,
          "y1": 1,
          "yref": "y2 domain"
         },
         {
          "fillcolor": "red",
          "opacity": 0.3,
          "type": "rect",
          "x0": 1911,
          "x1": 1915,
          "xref": "x3",
          "y0": 0,
          "y1": 1,
          "yref": "y3 domain"
         },
         {
          "fillcolor": "yellow",
          "line": {
           "width": 0
          },
          "opacity": 0.4,
          "type": "rect",
          "x0": 1954,
          "x1": 1968,
          "xref": "x3",
          "y0": 0,
          "y1": 1,
          "yref": "y3 domain"
         },
         {
          "fillcolor": "violet",
          "line": {
           "width": 0
          },
          "opacity": 0.4,
          "type": "rect",
          "x0": 1960,
          "x1": 1970,
          "xref": "x3",
          "y0": 0,
          "y1": 1,
          "yref": "y3 domain"
         },
         {
          "fillcolor": "black",
          "line": {
           "width": 1
          },
          "opacity": 0.4,
          "type": "rect",
          "x0": 1994,
          "x1": 1994,
          "xref": "x3",
          "y0": 0,
          "y1": 1,
          "yref": "y3 domain"
         },
         {
          "fillcolor": "red",
          "opacity": 0.3,
          "type": "rect",
          "x0": 1960,
          "x1": 1970,
          "xref": "x4",
          "y0": 0,
          "y1": 1,
          "yref": "y4 domain"
         },
         {
          "fillcolor": "yellow",
          "line": {
           "width": 0
          },
          "opacity": 0.4,
          "type": "rect",
          "x0": 1954,
          "x1": 1968,
          "xref": "x4",
          "y0": 0,
          "y1": 1,
          "yref": "y4 domain"
         },
         {
          "fillcolor": "violet",
          "line": {
           "width": 0
          },
          "opacity": 0.4,
          "type": "rect",
          "x0": 1960,
          "x1": 1970,
          "xref": "x4",
          "y0": 0,
          "y1": 1,
          "yref": "y4 domain"
         },
         {
          "fillcolor": "black",
          "line": {
           "width": 1
          },
          "opacity": 0.4,
          "type": "rect",
          "x0": 1994,
          "x1": 1994,
          "xref": "x4",
          "y0": 0,
          "y1": 1,
          "yref": "y4 domain"
         }
        ],
        "template": {
         "data": {
          "bar": [
           {
            "error_x": {
             "color": "#2a3f5f"
            },
            "error_y": {
             "color": "#2a3f5f"
            },
            "marker": {
             "line": {
              "color": "#E5ECF6",
              "width": 0.5
             },
             "pattern": {
              "fillmode": "overlay",
              "size": 10,
              "solidity": 0.2
             }
            },
            "type": "bar"
           }
          ],
          "barpolar": [
           {
            "marker": {
             "line": {
              "color": "#E5ECF6",
              "width": 0.5
             },
             "pattern": {
              "fillmode": "overlay",
              "size": 10,
              "solidity": 0.2
             }
            },
            "type": "barpolar"
           }
          ],
          "carpet": [
           {
            "aaxis": {
             "endlinecolor": "#2a3f5f",
             "gridcolor": "white",
             "linecolor": "white",
             "minorgridcolor": "white",
             "startlinecolor": "#2a3f5f"
            },
            "baxis": {
             "endlinecolor": "#2a3f5f",
             "gridcolor": "white",
             "linecolor": "white",
             "minorgridcolor": "white",
             "startlinecolor": "#2a3f5f"
            },
            "type": "carpet"
           }
          ],
          "choropleth": [
           {
            "colorbar": {
             "outlinewidth": 0,
             "ticks": ""
            },
            "type": "choropleth"
           }
          ],
          "contour": [
           {
            "colorbar": {
             "outlinewidth": 0,
             "ticks": ""
            },
            "colorscale": [
             [
              0,
              "#0d0887"
             ],
             [
              0.1111111111111111,
              "#46039f"
             ],
             [
              0.2222222222222222,
              "#7201a8"
             ],
             [
              0.3333333333333333,
              "#9c179e"
             ],
             [
              0.4444444444444444,
              "#bd3786"
             ],
             [
              0.5555555555555556,
              "#d8576b"
             ],
             [
              0.6666666666666666,
              "#ed7953"
             ],
             [
              0.7777777777777778,
              "#fb9f3a"
             ],
             [
              0.8888888888888888,
              "#fdca26"
             ],
             [
              1,
              "#f0f921"
             ]
            ],
            "type": "contour"
           }
          ],
          "contourcarpet": [
           {
            "colorbar": {
             "outlinewidth": 0,
             "ticks": ""
            },
            "type": "contourcarpet"
           }
          ],
          "heatmap": [
           {
            "colorbar": {
             "outlinewidth": 0,
             "ticks": ""
            },
            "colorscale": [
             [
              0,
              "#0d0887"
             ],
             [
              0.1111111111111111,
              "#46039f"
             ],
             [
              0.2222222222222222,
              "#7201a8"
             ],
             [
              0.3333333333333333,
              "#9c179e"
             ],
             [
              0.4444444444444444,
              "#bd3786"
             ],
             [
              0.5555555555555556,
              "#d8576b"
             ],
             [
              0.6666666666666666,
              "#ed7953"
             ],
             [
              0.7777777777777778,
              "#fb9f3a"
             ],
             [
              0.8888888888888888,
              "#fdca26"
             ],
             [
              1,
              "#f0f921"
             ]
            ],
            "type": "heatmap"
           }
          ],
          "heatmapgl": [
           {
            "colorbar": {
             "outlinewidth": 0,
             "ticks": ""
            },
            "colorscale": [
             [
              0,
              "#0d0887"
             ],
             [
              0.1111111111111111,
              "#46039f"
             ],
             [
              0.2222222222222222,
              "#7201a8"
             ],
             [
              0.3333333333333333,
              "#9c179e"
             ],
             [
              0.4444444444444444,
              "#bd3786"
             ],
             [
              0.5555555555555556,
              "#d8576b"
             ],
             [
              0.6666666666666666,
              "#ed7953"
             ],
             [
              0.7777777777777778,
              "#fb9f3a"
             ],
             [
              0.8888888888888888,
              "#fdca26"
             ],
             [
              1,
              "#f0f921"
             ]
            ],
            "type": "heatmapgl"
           }
          ],
          "histogram": [
           {
            "marker": {
             "pattern": {
              "fillmode": "overlay",
              "size": 10,
              "solidity": 0.2
             }
            },
            "type": "histogram"
           }
          ],
          "histogram2d": [
           {
            "colorbar": {
             "outlinewidth": 0,
             "ticks": ""
            },
            "colorscale": [
             [
              0,
              "#0d0887"
             ],
             [
              0.1111111111111111,
              "#46039f"
             ],
             [
              0.2222222222222222,
              "#7201a8"
             ],
             [
              0.3333333333333333,
              "#9c179e"
             ],
             [
              0.4444444444444444,
              "#bd3786"
             ],
             [
              0.5555555555555556,
              "#d8576b"
             ],
             [
              0.6666666666666666,
              "#ed7953"
             ],
             [
              0.7777777777777778,
              "#fb9f3a"
             ],
             [
              0.8888888888888888,
              "#fdca26"
             ],
             [
              1,
              "#f0f921"
             ]
            ],
            "type": "histogram2d"
           }
          ],
          "histogram2dcontour": [
           {
            "colorbar": {
             "outlinewidth": 0,
             "ticks": ""
            },
            "colorscale": [
             [
              0,
              "#0d0887"
             ],
             [
              0.1111111111111111,
              "#46039f"
             ],
             [
              0.2222222222222222,
              "#7201a8"
             ],
             [
              0.3333333333333333,
              "#9c179e"
             ],
             [
              0.4444444444444444,
              "#bd3786"
             ],
             [
              0.5555555555555556,
              "#d8576b"
             ],
             [
              0.6666666666666666,
              "#ed7953"
             ],
             [
              0.7777777777777778,
              "#fb9f3a"
             ],
             [
              0.8888888888888888,
              "#fdca26"
             ],
             [
              1,
              "#f0f921"
             ]
            ],
            "type": "histogram2dcontour"
           }
          ],
          "mesh3d": [
           {
            "colorbar": {
             "outlinewidth": 0,
             "ticks": ""
            },
            "type": "mesh3d"
           }
          ],
          "parcoords": [
           {
            "line": {
             "colorbar": {
              "outlinewidth": 0,
              "ticks": ""
             }
            },
            "type": "parcoords"
           }
          ],
          "pie": [
           {
            "automargin": true,
            "type": "pie"
           }
          ],
          "scatter": [
           {
            "fillpattern": {
             "fillmode": "overlay",
             "size": 10,
             "solidity": 0.2
            },
            "type": "scatter"
           }
          ],
          "scatter3d": [
           {
            "line": {
             "colorbar": {
              "outlinewidth": 0,
              "ticks": ""
             }
            },
            "marker": {
             "colorbar": {
              "outlinewidth": 0,
              "ticks": ""
             }
            },
            "type": "scatter3d"
           }
          ],
          "scattercarpet": [
           {
            "marker": {
             "colorbar": {
              "outlinewidth": 0,
              "ticks": ""
             }
            },
            "type": "scattercarpet"
           }
          ],
          "scattergeo": [
           {
            "marker": {
             "colorbar": {
              "outlinewidth": 0,
              "ticks": ""
             }
            },
            "type": "scattergeo"
           }
          ],
          "scattergl": [
           {
            "marker": {
             "colorbar": {
              "outlinewidth": 0,
              "ticks": ""
             }
            },
            "type": "scattergl"
           }
          ],
          "scattermapbox": [
           {
            "marker": {
             "colorbar": {
              "outlinewidth": 0,
              "ticks": ""
             }
            },
            "type": "scattermapbox"
           }
          ],
          "scatterpolar": [
           {
            "marker": {
             "colorbar": {
              "outlinewidth": 0,
              "ticks": ""
             }
            },
            "type": "scatterpolar"
           }
          ],
          "scatterpolargl": [
           {
            "marker": {
             "colorbar": {
              "outlinewidth": 0,
              "ticks": ""
             }
            },
            "type": "scatterpolargl"
           }
          ],
          "scatterternary": [
           {
            "marker": {
             "colorbar": {
              "outlinewidth": 0,
              "ticks": ""
             }
            },
            "type": "scatterternary"
           }
          ],
          "surface": [
           {
            "colorbar": {
             "outlinewidth": 0,
             "ticks": ""
            },
            "colorscale": [
             [
              0,
              "#0d0887"
             ],
             [
              0.1111111111111111,
              "#46039f"
             ],
             [
              0.2222222222222222,
              "#7201a8"
             ],
             [
              0.3333333333333333,
              "#9c179e"
             ],
             [
              0.4444444444444444,
              "#bd3786"
             ],
             [
              0.5555555555555556,
              "#d8576b"
             ],
             [
              0.6666666666666666,
              "#ed7953"
             ],
             [
              0.7777777777777778,
              "#fb9f3a"
             ],
             [
              0.8888888888888888,
              "#fdca26"
             ],
             [
              1,
              "#f0f921"
             ]
            ],
            "type": "surface"
           }
          ],
          "table": [
           {
            "cells": {
             "fill": {
              "color": "#EBF0F8"
             },
             "line": {
              "color": "white"
             }
            },
            "header": {
             "fill": {
              "color": "#C8D4E3"
             },
             "line": {
              "color": "white"
             }
            },
            "type": "table"
           }
          ]
         },
         "layout": {
          "annotationdefaults": {
           "arrowcolor": "#2a3f5f",
           "arrowhead": 0,
           "arrowwidth": 1
          },
          "autotypenumbers": "strict",
          "coloraxis": {
           "colorbar": {
            "outlinewidth": 0,
            "ticks": ""
           }
          },
          "colorscale": {
           "diverging": [
            [
             0,
             "#8e0152"
            ],
            [
             0.1,
             "#c51b7d"
            ],
            [
             0.2,
             "#de77ae"
            ],
            [
             0.3,
             "#f1b6da"
            ],
            [
             0.4,
             "#fde0ef"
            ],
            [
             0.5,
             "#f7f7f7"
            ],
            [
             0.6,
             "#e6f5d0"
            ],
            [
             0.7,
             "#b8e186"
            ],
            [
             0.8,
             "#7fbc41"
            ],
            [
             0.9,
             "#4d9221"
            ],
            [
             1,
             "#276419"
            ]
           ],
           "sequential": [
            [
             0,
             "#0d0887"
            ],
            [
             0.1111111111111111,
             "#46039f"
            ],
            [
             0.2222222222222222,
             "#7201a8"
            ],
            [
             0.3333333333333333,
             "#9c179e"
            ],
            [
             0.4444444444444444,
             "#bd3786"
            ],
            [
             0.5555555555555556,
             "#d8576b"
            ],
            [
             0.6666666666666666,
             "#ed7953"
            ],
            [
             0.7777777777777778,
             "#fb9f3a"
            ],
            [
             0.8888888888888888,
             "#fdca26"
            ],
            [
             1,
             "#f0f921"
            ]
           ],
           "sequentialminus": [
            [
             0,
             "#0d0887"
            ],
            [
             0.1111111111111111,
             "#46039f"
            ],
            [
             0.2222222222222222,
             "#7201a8"
            ],
            [
             0.3333333333333333,
             "#9c179e"
            ],
            [
             0.4444444444444444,
             "#bd3786"
            ],
            [
             0.5555555555555556,
             "#d8576b"
            ],
            [
             0.6666666666666666,
             "#ed7953"
            ],
            [
             0.7777777777777778,
             "#fb9f3a"
            ],
            [
             0.8888888888888888,
             "#fdca26"
            ],
            [
             1,
             "#f0f921"
            ]
           ]
          },
          "colorway": [
           "#636efa",
           "#EF553B",
           "#00cc96",
           "#ab63fa",
           "#FFA15A",
           "#19d3f3",
           "#FF6692",
           "#B6E880",
           "#FF97FF",
           "#FECB52"
          ],
          "font": {
           "color": "#2a3f5f"
          },
          "geo": {
           "bgcolor": "white",
           "lakecolor": "white",
           "landcolor": "#E5ECF6",
           "showlakes": true,
           "showland": true,
           "subunitcolor": "white"
          },
          "hoverlabel": {
           "align": "left"
          },
          "hovermode": "closest",
          "mapbox": {
           "style": "light"
          },
          "paper_bgcolor": "white",
          "plot_bgcolor": "#E5ECF6",
          "polar": {
           "angularaxis": {
            "gridcolor": "white",
            "linecolor": "white",
            "ticks": ""
           },
           "bgcolor": "#E5ECF6",
           "radialaxis": {
            "gridcolor": "white",
            "linecolor": "white",
            "ticks": ""
           }
          },
          "scene": {
           "xaxis": {
            "backgroundcolor": "#E5ECF6",
            "gridcolor": "white",
            "gridwidth": 2,
            "linecolor": "white",
            "showbackground": true,
            "ticks": "",
            "zerolinecolor": "white"
           },
           "yaxis": {
            "backgroundcolor": "#E5ECF6",
            "gridcolor": "white",
            "gridwidth": 2,
            "linecolor": "white",
            "showbackground": true,
            "ticks": "",
            "zerolinecolor": "white"
           },
           "zaxis": {
            "backgroundcolor": "#E5ECF6",
            "gridcolor": "white",
            "gridwidth": 2,
            "linecolor": "white",
            "showbackground": true,
            "ticks": "",
            "zerolinecolor": "white"
           }
          },
          "shapedefaults": {
           "line": {
            "color": "#2a3f5f"
           }
          },
          "ternary": {
           "aaxis": {
            "gridcolor": "white",
            "linecolor": "white",
            "ticks": ""
           },
           "baxis": {
            "gridcolor": "white",
            "linecolor": "white",
            "ticks": ""
           },
           "bgcolor": "#E5ECF6",
           "caxis": {
            "gridcolor": "white",
            "linecolor": "white",
            "ticks": ""
           }
          },
          "title": {
           "x": 0.05
          },
          "xaxis": {
           "automargin": true,
           "gridcolor": "white",
           "linecolor": "white",
           "ticks": "",
           "title": {
            "standoff": 15
           },
           "zerolinecolor": "white",
           "zerolinewidth": 2
          },
          "yaxis": {
           "automargin": true,
           "gridcolor": "white",
           "linecolor": "white",
           "ticks": "",
           "title": {
            "standoff": 15
           },
           "zerolinecolor": "white",
           "zerolinewidth": 2
          }
         }
        },
        "title": {
         "text": "Evolution of frequency of different socio-political theme accross years",
         "x": 1,
         "y": 1
        },
        "width": 1000,
        "xaxis": {
         "anchor": "y",
         "domain": [
          0,
          1
         ]
        },
        "xaxis2": {
         "anchor": "y2",
         "domain": [
          0,
          1
         ]
        },
        "xaxis3": {
         "anchor": "y3",
         "domain": [
          0,
          1
         ]
        },
        "xaxis4": {
         "anchor": "y4",
         "domain": [
          0,
          1
         ]
        },
        "yaxis": {
         "anchor": "x",
         "domain": [
          0.78,
          1
         ]
        },
        "yaxis2": {
         "anchor": "x2",
         "domain": [
          0.52,
          0.74
         ]
        },
        "yaxis3": {
         "anchor": "x3",
         "domain": [
          0.26,
          0.48
         ]
        },
        "yaxis4": {
         "anchor": "x4",
         "domain": [
          0,
          0.22
         ]
        }
       }
      },
      "text/html": [
       "<div>                            <div id=\"a667372d-5532-4c6e-b9cc-a509f02838f0\" class=\"plotly-graph-div\" style=\"height:1000px; width:1000px;\"></div>            <script type=\"text/javascript\">                require([\"plotly\"], function(Plotly) {                    window.PLOTLYENV=window.PLOTLYENV || {};                                    if (document.getElementById(\"a667372d-5532-4c6e-b9cc-a509f02838f0\")) {                    Plotly.newPlot(                        \"a667372d-5532-4c6e-b9cc-a509f02838f0\",                        [{\"mode\":\"lines\",\"name\":\"decolonization\",\"x\":[1901,1902,1903,1904,1905,1906,1907,1908,1909,1910,1911,1912,1913,1914,1915,1916,1917,1918,1919,1920,1921,1922,1923,1924,1925,1926,1927,1928,1929,1930,1931,1932,1933,1934,1935,1936,1937,1938,1939,1940,1941,1942,1943,1944,1945,1946,1947,1948,1949,1950,1951,1952,1953,1954,1955,1956,1957,1958,1959,1960,1961,1962,1963,1964,1965,1966,1967,1968,1969,1970,1971,1972,1973,1974,1975,1976,1977,1978,1979,1980,1981,1982,1983,1984,1985,1986,1987,1988,1989,1990,1991,1992,1993,1994,1995,1996,1997,1998,1999,2000,2001,2002,2003,2004,2005,2006,2007,2008,2009],\"y\":[0.0,0.0,0.0,0.0,0.0,0.0,0.0,0.0,0.0,0.0,0.0,0.0,0.0,0.0,0.0,0.0,0.0,0.0,0.0,0.0064516129032258064,0.00546448087431694,0.004608294930875576,0.004310344827586207,0.0038314176245210726,0.0,0.0,0.0,0.0,0.0,0.0,0.0016,0.0014947683109118087,0.0029985007496251873,0.0030627871362940277,0.0030441400304414,0.001488095238095238,0.0015082956259426848,0.0,0.0,0.0,0.0,0.0,0.0,0.0,0.0,0.0,0.0,0.0,0.0014619883040935672,0.0014285714285714286,0.00141643059490085,0.002777777777777778,0.002717391304347826,0.0013227513227513227,0.0013774104683195593,0.001392757660167131,0.0,0.0,0.0,0.0,0.0,0.0,0.0,0.0,0.001564945226917058,0.0015503875968992248,0.0015408320493066256,0.0014925373134328358,0.0014771048744460858,0.0,0.0,0.0014492753623188406,0.0014104372355430183,0.00141643059490085,0.001375515818431912,0.0013422818791946308,0.0012484394506866417,0.0012106537530266344,0.0011574074074074073,0.0011235955056179776,0.0010582010582010583,0.0,0.0,0.0,0.0008271298593879239,0.0008084074373484236,0.0015661707126076742,0.0015372790161414297,0.0015151515151515152,0.0007336757153338225,0.0006891798759476223,0.0,0.0,0.0005841121495327102,0.0005443658138268917,0.0005167958656330749,0.0004816955684007707,0.00045495905368516835,0.00041999160016799666,0.00038804811796662784,0.0007097232079489,0.0006355258976803305,0.0008375209380234506,0.0010080645161290322,0.0011405109489051094],\"type\":\"scatter\",\"xaxis\":\"x\",\"yaxis\":\"y\"},{\"mode\":\"lines\",\"name\":\"women rights\",\"x\":[1901,1902,1903,1904,1905,1906,1907,1908,1909,1910,1911,1912,1913,1914,1915,1916,1917,1918,1919,1920,1921,1922,1923,1924,1925,1926,1927,1928,1929,1930,1931,1932,1933,1934,1935,1936,1937,1938,1939,1940,1941,1942,1943,1944,1945,1946,1947,1948,1949,1950,1951,1952,1953,1954,1955,1956,1957,1958,1959,1960,1961,1962,1963,1964,1965,1966,1967,1968,1969,1970,1971,1972,1973,1974,1975,1976,1977,1978,1979,1980,1981,1982,1983,1984,1985,1986,1987,1988,1989,1990,1991,1992,1993,1994,1995,1996,1997,1998,1999,2000,2001,2002,2003,2004,2005,2006,2007,2008,2009],\"y\":[0.0,0.0,0.0,0.0,0.0,0.0,0.0,0.0,0.0,0.0,0.0,0.0,0.0,0.0,0.0,0.0,0.0,0.0,0.0,0.0,0.00546448087431694,0.004608294930875576,0.004310344827586207,0.0038314176245210726,0.0033003300330033004,0.0,0.0,0.0,0.0,0.0,0.0,0.0,0.0,0.0,0.0,0.0,0.0,0.0015082956259426848,0.0015015015015015015,0.0015290519877675841,0.001594896331738437,0.001652892561983471,0.0,0.0,0.0,0.0,0.0,0.0,0.0,0.0014285714285714286,0.00141643059490085,0.001388888888888889,0.001358695652173913,0.0013227513227513227,0.0,0.0,0.0,0.0,0.0,0.0,0.0,0.0,0.0,0.001652892561983471,0.001564945226917058,0.0015503875968992248,0.0015408320493066256,0.0014925373134328358,0.0,0.0,0.0,0.0,0.0,0.0,0.001375515818431912,0.0013422818791946308,0.0024968789013732834,0.002421307506053269,0.0023148148148148147,0.0011235955056179776,0.0010582010582010583,0.0,0.0,0.0,0.0,0.0,0.0,0.0,0.0,0.0,0.0013783597518952446,0.0026702269692923898,0.002506265664160401,0.002336448598130841,0.0027218290691344584,0.0015503875968992248,0.0004816955684007707,0.00045495905368516835,0.0008399832003359933,0.00038804811796662784,0.0010645848119233499,0.0015888147442008262,0.001954215522054718,0.0015120967741935483,0.0013686131386861315],\"type\":\"scatter\",\"xaxis\":\"x2\",\"yaxis\":\"y2\"},{\"mode\":\"lines\",\"name\":\"apartheid\",\"x\":[1901,1902,1903,1904,1905,1906,1907,1908,1909,1910,1911,1912,1913,1914,1915,1916,1917,1918,1919,1920,1921,1922,1923,1924,1925,1926,1927,1928,1929,1930,1931,1932,1933,1934,1935,1936,1937,1938,1939,1940,1941,1942,1943,1944,1945,1946,1947,1948,1949,1950,1951,1952,1953,1954,1955,1956,1957,1958,1959,1960,1961,1962,1963,1964,1965,1966,1967,1968,1969,1970,1971,1972,1973,1974,1975,1976,1977,1978,1979,1980,1981,1982,1983,1984,1985,1986,1987,1988,1989,1990,1991,1992,1993,1994,1995,1996,1997,1998,1999,2000,2001,2002,2003,2004,2005,2006,2007,2008,2009],\"y\":[0.0,0.0,0.0,0.0,0.0,0.0,0.0,0.0,0.0,0.0,0.0,0.008849557522123894,0.007407407407407408,0.00641025641025641,0.006060606060606061,0.006711409395973154,0.0,0.0,0.0,0.0,0.00546448087431694,0.004608294930875576,0.004310344827586207,0.0038314176245210726,0.0033003300330033004,0.0,0.0,0.0,0.0,0.0,0.0,0.0,0.0,0.0015313935681470138,0.0030441400304414,0.002976190476190476,0.0030165912518853697,0.0030165912518853697,0.0015015015015015015,0.0015290519877675841,0.003189792663476874,0.0049586776859504135,0.0050933786078098476,0.00510204081632653,0.0049504950495049506,0.003169572107765452,0.004573170731707317,0.004424778761061947,0.005847953216374269,0.004285714285714286,0.00424929178470255,0.002777777777777778,0.002717391304347826,0.0013227513227513227,0.0013774104683195593,0.001392757660167131,0.0,0.0015313935681470138,0.001644736842105263,0.0017391304347826088,0.0017574692442882249,0.0017301038062283738,0.0,0.0,0.003129890453834116,0.0031007751937984496,0.0030816640986132513,0.004477611940298508,0.004431314623338257,0.0014684287812041115,0.001440922190201729,0.002898550724637681,0.0014104372355430183,0.0028328611898017,0.002751031636863824,0.004026845637583893,0.0024968789013732834,0.002421307506053269,0.0023148148148148147,0.0033707865168539327,0.0021164021164021165,0.00202020202020202,0.0019065776930409914,0.0026642984014209592,0.0033085194375516956,0.0032336297493936943,0.003915426781519186,0.004611837048424289,0.0030303030303030303,0.00293470286133529,0.0034458993797381117,0.0033377837116154874,0.003132832080200501,0.0029205607476635513,0.001633097441480675,0.0010335917312661498,0.0009633911368015414,0.0009099181073703367,0.0016799664006719867,0.002328288707799767,0.00319375443577005,0.0031776294884016524,0.0030709101060859855,0.0030241935483870967,0.0029653284671532845],\"type\":\"scatter\",\"xaxis\":\"x3\",\"yaxis\":\"y3\"},{\"mode\":\"lines\",\"name\":\"civil rights, racial segregation\",\"x\":[1901,1902,1903,1904,1905,1906,1907,1908,1909,1910,1911,1912,1913,1914,1915,1916,1917,1918,1919,1920,1921,1922,1923,1924,1925,1926,1927,1928,1929,1930,1931,1932,1933,1934,1935,1936,1937,1938,1939,1940,1941,1942,1943,1944,1945,1946,1947,1948,1949,1950,1951,1952,1953,1954,1955,1956,1957,1958,1959,1960,1961,1962,1963,1964,1965,1966,1967,1968,1969,1970,1971,1972,1973,1974,1975,1976,1977,1978,1979,1980,1981,1982,1983,1984,1985,1986,1987,1988,1989,1990,1991,1992,1993,1994,1995,1996,1997,1998,1999,2000,2001,2002,2003,2004,2005,2006,2007,2008,2009],\"y\":[0.0,0.0,0.0,0.0,0.0,0.0,0.0,0.0,0.0,0.0,0.0,0.0,0.0,0.0,0.0,0.0,0.0,0.0,0.0,0.0,0.0,0.0,0.0,0.0,0.0,0.0,0.0,0.0,0.0,0.0,0.0,0.0,0.0014992503748125937,0.0015313935681470138,0.0015220700152207,0.001488095238095238,0.0015082956259426848,0.0,0.0,0.0,0.0,0.0,0.0,0.0,0.0,0.0,0.0,0.0,0.0,0.0014285714285714286,0.00141643059490085,0.001388888888888889,0.001358695652173913,0.0013227513227513227,0.0,0.0,0.001451378809869376,0.0030627871362940277,0.003289473684210526,0.0034782608695652175,0.005272407732864675,0.0034602076124567475,0.0034482758620689655,0.0049586776859504135,0.004694835680751174,0.0031007751937984496,0.004622496147919877,0.0029850746268656717,0.0014771048744460858,0.002936857562408223,0.004322766570605188,0.002898550724637681,0.0028208744710860366,0.0028328611898017,0.001375515818431912,0.0,0.0012484394506866417,0.0012106537530266344,0.0011574074074074073,0.0011235955056179776,0.0010582010582010583,0.0,0.0,0.0,0.0008271298593879239,0.002425222312045271,0.0023492560689115116,0.0030745580322828594,0.0030303030303030303,0.0022010271460014674,0.002067539627842867,0.0020026702269692926,0.002506265664160401,0.002336448598130841,0.002177463255307567,0.0020671834625322996,0.0019267822736030828,0.0009099181073703367,0.0016799664006719867,0.0019402405898331393,0.0021291696238466998,0.002542103590721322,0.002512562814070352,0.0022681451612903227,0.002509124087591241],\"type\":\"scatter\",\"xaxis\":\"x4\",\"yaxis\":\"y4\"}],                        {\"template\":{\"data\":{\"histogram2dcontour\":[{\"type\":\"histogram2dcontour\",\"colorbar\":{\"outlinewidth\":0,\"ticks\":\"\"},\"colorscale\":[[0.0,\"#0d0887\"],[0.1111111111111111,\"#46039f\"],[0.2222222222222222,\"#7201a8\"],[0.3333333333333333,\"#9c179e\"],[0.4444444444444444,\"#bd3786\"],[0.5555555555555556,\"#d8576b\"],[0.6666666666666666,\"#ed7953\"],[0.7777777777777778,\"#fb9f3a\"],[0.8888888888888888,\"#fdca26\"],[1.0,\"#f0f921\"]]}],\"choropleth\":[{\"type\":\"choropleth\",\"colorbar\":{\"outlinewidth\":0,\"ticks\":\"\"}}],\"histogram2d\":[{\"type\":\"histogram2d\",\"colorbar\":{\"outlinewidth\":0,\"ticks\":\"\"},\"colorscale\":[[0.0,\"#0d0887\"],[0.1111111111111111,\"#46039f\"],[0.2222222222222222,\"#7201a8\"],[0.3333333333333333,\"#9c179e\"],[0.4444444444444444,\"#bd3786\"],[0.5555555555555556,\"#d8576b\"],[0.6666666666666666,\"#ed7953\"],[0.7777777777777778,\"#fb9f3a\"],[0.8888888888888888,\"#fdca26\"],[1.0,\"#f0f921\"]]}],\"heatmap\":[{\"type\":\"heatmap\",\"colorbar\":{\"outlinewidth\":0,\"ticks\":\"\"},\"colorscale\":[[0.0,\"#0d0887\"],[0.1111111111111111,\"#46039f\"],[0.2222222222222222,\"#7201a8\"],[0.3333333333333333,\"#9c179e\"],[0.4444444444444444,\"#bd3786\"],[0.5555555555555556,\"#d8576b\"],[0.6666666666666666,\"#ed7953\"],[0.7777777777777778,\"#fb9f3a\"],[0.8888888888888888,\"#fdca26\"],[1.0,\"#f0f921\"]]}],\"heatmapgl\":[{\"type\":\"heatmapgl\",\"colorbar\":{\"outlinewidth\":0,\"ticks\":\"\"},\"colorscale\":[[0.0,\"#0d0887\"],[0.1111111111111111,\"#46039f\"],[0.2222222222222222,\"#7201a8\"],[0.3333333333333333,\"#9c179e\"],[0.4444444444444444,\"#bd3786\"],[0.5555555555555556,\"#d8576b\"],[0.6666666666666666,\"#ed7953\"],[0.7777777777777778,\"#fb9f3a\"],[0.8888888888888888,\"#fdca26\"],[1.0,\"#f0f921\"]]}],\"contourcarpet\":[{\"type\":\"contourcarpet\",\"colorbar\":{\"outlinewidth\":0,\"ticks\":\"\"}}],\"contour\":[{\"type\":\"contour\",\"colorbar\":{\"outlinewidth\":0,\"ticks\":\"\"},\"colorscale\":[[0.0,\"#0d0887\"],[0.1111111111111111,\"#46039f\"],[0.2222222222222222,\"#7201a8\"],[0.3333333333333333,\"#9c179e\"],[0.4444444444444444,\"#bd3786\"],[0.5555555555555556,\"#d8576b\"],[0.6666666666666666,\"#ed7953\"],[0.7777777777777778,\"#fb9f3a\"],[0.8888888888888888,\"#fdca26\"],[1.0,\"#f0f921\"]]}],\"surface\":[{\"type\":\"surface\",\"colorbar\":{\"outlinewidth\":0,\"ticks\":\"\"},\"colorscale\":[[0.0,\"#0d0887\"],[0.1111111111111111,\"#46039f\"],[0.2222222222222222,\"#7201a8\"],[0.3333333333333333,\"#9c179e\"],[0.4444444444444444,\"#bd3786\"],[0.5555555555555556,\"#d8576b\"],[0.6666666666666666,\"#ed7953\"],[0.7777777777777778,\"#fb9f3a\"],[0.8888888888888888,\"#fdca26\"],[1.0,\"#f0f921\"]]}],\"mesh3d\":[{\"type\":\"mesh3d\",\"colorbar\":{\"outlinewidth\":0,\"ticks\":\"\"}}],\"scatter\":[{\"fillpattern\":{\"fillmode\":\"overlay\",\"size\":10,\"solidity\":0.2},\"type\":\"scatter\"}],\"parcoords\":[{\"type\":\"parcoords\",\"line\":{\"colorbar\":{\"outlinewidth\":0,\"ticks\":\"\"}}}],\"scatterpolargl\":[{\"type\":\"scatterpolargl\",\"marker\":{\"colorbar\":{\"outlinewidth\":0,\"ticks\":\"\"}}}],\"bar\":[{\"error_x\":{\"color\":\"#2a3f5f\"},\"error_y\":{\"color\":\"#2a3f5f\"},\"marker\":{\"line\":{\"color\":\"#E5ECF6\",\"width\":0.5},\"pattern\":{\"fillmode\":\"overlay\",\"size\":10,\"solidity\":0.2}},\"type\":\"bar\"}],\"scattergeo\":[{\"type\":\"scattergeo\",\"marker\":{\"colorbar\":{\"outlinewidth\":0,\"ticks\":\"\"}}}],\"scatterpolar\":[{\"type\":\"scatterpolar\",\"marker\":{\"colorbar\":{\"outlinewidth\":0,\"ticks\":\"\"}}}],\"histogram\":[{\"marker\":{\"pattern\":{\"fillmode\":\"overlay\",\"size\":10,\"solidity\":0.2}},\"type\":\"histogram\"}],\"scattergl\":[{\"type\":\"scattergl\",\"marker\":{\"colorbar\":{\"outlinewidth\":0,\"ticks\":\"\"}}}],\"scatter3d\":[{\"type\":\"scatter3d\",\"line\":{\"colorbar\":{\"outlinewidth\":0,\"ticks\":\"\"}},\"marker\":{\"colorbar\":{\"outlinewidth\":0,\"ticks\":\"\"}}}],\"scattermapbox\":[{\"type\":\"scattermapbox\",\"marker\":{\"colorbar\":{\"outlinewidth\":0,\"ticks\":\"\"}}}],\"scatterternary\":[{\"type\":\"scatterternary\",\"marker\":{\"colorbar\":{\"outlinewidth\":0,\"ticks\":\"\"}}}],\"scattercarpet\":[{\"type\":\"scattercarpet\",\"marker\":{\"colorbar\":{\"outlinewidth\":0,\"ticks\":\"\"}}}],\"carpet\":[{\"aaxis\":{\"endlinecolor\":\"#2a3f5f\",\"gridcolor\":\"white\",\"linecolor\":\"white\",\"minorgridcolor\":\"white\",\"startlinecolor\":\"#2a3f5f\"},\"baxis\":{\"endlinecolor\":\"#2a3f5f\",\"gridcolor\":\"white\",\"linecolor\":\"white\",\"minorgridcolor\":\"white\",\"startlinecolor\":\"#2a3f5f\"},\"type\":\"carpet\"}],\"table\":[{\"cells\":{\"fill\":{\"color\":\"#EBF0F8\"},\"line\":{\"color\":\"white\"}},\"header\":{\"fill\":{\"color\":\"#C8D4E3\"},\"line\":{\"color\":\"white\"}},\"type\":\"table\"}],\"barpolar\":[{\"marker\":{\"line\":{\"color\":\"#E5ECF6\",\"width\":0.5},\"pattern\":{\"fillmode\":\"overlay\",\"size\":10,\"solidity\":0.2}},\"type\":\"barpolar\"}],\"pie\":[{\"automargin\":true,\"type\":\"pie\"}]},\"layout\":{\"autotypenumbers\":\"strict\",\"colorway\":[\"#636efa\",\"#EF553B\",\"#00cc96\",\"#ab63fa\",\"#FFA15A\",\"#19d3f3\",\"#FF6692\",\"#B6E880\",\"#FF97FF\",\"#FECB52\"],\"font\":{\"color\":\"#2a3f5f\"},\"hovermode\":\"closest\",\"hoverlabel\":{\"align\":\"left\"},\"paper_bgcolor\":\"white\",\"plot_bgcolor\":\"#E5ECF6\",\"polar\":{\"bgcolor\":\"#E5ECF6\",\"angularaxis\":{\"gridcolor\":\"white\",\"linecolor\":\"white\",\"ticks\":\"\"},\"radialaxis\":{\"gridcolor\":\"white\",\"linecolor\":\"white\",\"ticks\":\"\"}},\"ternary\":{\"bgcolor\":\"#E5ECF6\",\"aaxis\":{\"gridcolor\":\"white\",\"linecolor\":\"white\",\"ticks\":\"\"},\"baxis\":{\"gridcolor\":\"white\",\"linecolor\":\"white\",\"ticks\":\"\"},\"caxis\":{\"gridcolor\":\"white\",\"linecolor\":\"white\",\"ticks\":\"\"}},\"coloraxis\":{\"colorbar\":{\"outlinewidth\":0,\"ticks\":\"\"}},\"colorscale\":{\"sequential\":[[0.0,\"#0d0887\"],[0.1111111111111111,\"#46039f\"],[0.2222222222222222,\"#7201a8\"],[0.3333333333333333,\"#9c179e\"],[0.4444444444444444,\"#bd3786\"],[0.5555555555555556,\"#d8576b\"],[0.6666666666666666,\"#ed7953\"],[0.7777777777777778,\"#fb9f3a\"],[0.8888888888888888,\"#fdca26\"],[1.0,\"#f0f921\"]],\"sequentialminus\":[[0.0,\"#0d0887\"],[0.1111111111111111,\"#46039f\"],[0.2222222222222222,\"#7201a8\"],[0.3333333333333333,\"#9c179e\"],[0.4444444444444444,\"#bd3786\"],[0.5555555555555556,\"#d8576b\"],[0.6666666666666666,\"#ed7953\"],[0.7777777777777778,\"#fb9f3a\"],[0.8888888888888888,\"#fdca26\"],[1.0,\"#f0f921\"]],\"diverging\":[[0,\"#8e0152\"],[0.1,\"#c51b7d\"],[0.2,\"#de77ae\"],[0.3,\"#f1b6da\"],[0.4,\"#fde0ef\"],[0.5,\"#f7f7f7\"],[0.6,\"#e6f5d0\"],[0.7,\"#b8e186\"],[0.8,\"#7fbc41\"],[0.9,\"#4d9221\"],[1,\"#276419\"]]},\"xaxis\":{\"gridcolor\":\"white\",\"linecolor\":\"white\",\"ticks\":\"\",\"title\":{\"standoff\":15},\"zerolinecolor\":\"white\",\"automargin\":true,\"zerolinewidth\":2},\"yaxis\":{\"gridcolor\":\"white\",\"linecolor\":\"white\",\"ticks\":\"\",\"title\":{\"standoff\":15},\"zerolinecolor\":\"white\",\"automargin\":true,\"zerolinewidth\":2},\"scene\":{\"xaxis\":{\"backgroundcolor\":\"#E5ECF6\",\"gridcolor\":\"white\",\"linecolor\":\"white\",\"showbackground\":true,\"ticks\":\"\",\"zerolinecolor\":\"white\",\"gridwidth\":2},\"yaxis\":{\"backgroundcolor\":\"#E5ECF6\",\"gridcolor\":\"white\",\"linecolor\":\"white\",\"showbackground\":true,\"ticks\":\"\",\"zerolinecolor\":\"white\",\"gridwidth\":2},\"zaxis\":{\"backgroundcolor\":\"#E5ECF6\",\"gridcolor\":\"white\",\"linecolor\":\"white\",\"showbackground\":true,\"ticks\":\"\",\"zerolinecolor\":\"white\",\"gridwidth\":2}},\"shapedefaults\":{\"line\":{\"color\":\"#2a3f5f\"}},\"annotationdefaults\":{\"arrowcolor\":\"#2a3f5f\",\"arrowhead\":0,\"arrowwidth\":1},\"geo\":{\"bgcolor\":\"white\",\"landcolor\":\"#E5ECF6\",\"subunitcolor\":\"white\",\"showland\":true,\"showlakes\":true,\"lakecolor\":\"white\"},\"title\":{\"x\":0.05},\"mapbox\":{\"style\":\"light\"}}},\"xaxis\":{\"anchor\":\"y\",\"domain\":[0.0,1.0]},\"yaxis\":{\"anchor\":\"x\",\"domain\":[0.78,1.0]},\"xaxis2\":{\"anchor\":\"y2\",\"domain\":[0.0,1.0]},\"yaxis2\":{\"anchor\":\"x2\",\"domain\":[0.52,0.74]},\"xaxis3\":{\"anchor\":\"y3\",\"domain\":[0.0,1.0]},\"yaxis3\":{\"anchor\":\"x3\",\"domain\":[0.26,0.48]},\"xaxis4\":{\"anchor\":\"y4\",\"domain\":[0.0,1.0]},\"yaxis4\":{\"anchor\":\"x4\",\"domain\":[0.0,0.22]},\"annotations\":[{\"font\":{\"size\":16},\"showarrow\":false,\"text\":\"War\",\"x\":0.5,\"xanchor\":\"center\",\"xref\":\"paper\",\"y\":1.0,\"yanchor\":\"bottom\",\"yref\":\"paper\"},{\"font\":{\"size\":16},\"showarrow\":false,\"text\":\"cold war\",\"x\":0.5,\"xanchor\":\"center\",\"xref\":\"paper\",\"y\":0.74,\"yanchor\":\"bottom\",\"yref\":\"paper\"},{\"font\":{\"size\":16},\"showarrow\":false,\"text\":\"space race\",\"x\":0.5,\"xanchor\":\"center\",\"xref\":\"paper\",\"y\":0.48,\"yanchor\":\"bottom\",\"yref\":\"paper\"},{\"font\":{\"size\":16},\"showarrow\":false,\"text\":\"Economic hardship, struggle for survival\",\"x\":0.5,\"xanchor\":\"center\",\"xref\":\"paper\",\"y\":0.22,\"yanchor\":\"bottom\",\"yref\":\"paper\"},{\"showarrow\":false,\"text\":\"World War I\",\"x\":1918,\"xanchor\":\"right\",\"xref\":\"x\",\"y\":1,\"yanchor\":\"top\",\"yref\":\"y domain\"},{\"showarrow\":false,\"text\":\"World War II\",\"x\":1945,\"xanchor\":\"right\",\"xref\":\"x\",\"y\":1,\"yanchor\":\"top\",\"yref\":\"y domain\"},{\"showarrow\":false,\"text\":\"Start decolonization\",\"x\":1960,\"xanchor\":\"left\",\"xref\":\"x\",\"y\":1,\"yanchor\":\"top\",\"yref\":\"y domain\"},{\"showarrow\":false,\"text\":\"Civil Right movement\",\"x\":1968,\"xanchor\":\"right\",\"xref\":\"x2\",\"y\":1,\"yanchor\":\"top\",\"yref\":\"y2 domain\"},{\"showarrow\":false,\"text\":\"Women Right movement\",\"x\":1960,\"xanchor\":\"left\",\"xref\":\"x2\",\"y\":0,\"yanchor\":\"bottom\",\"yref\":\"y2 domain\"},{\"showarrow\":false,\"text\":\"Civil Right movement\",\"x\":1968,\"xanchor\":\"right\",\"xref\":\"x3\",\"y\":1,\"yanchor\":\"top\",\"yref\":\"y3 domain\"},{\"showarrow\":false,\"text\":\"Women Right movement\",\"x\":1960,\"xanchor\":\"left\",\"xref\":\"x3\",\"y\":0,\"yanchor\":\"bottom\",\"yref\":\"y3 domain\"},{\"showarrow\":false,\"text\":\"End of Apartheid\",\"x\":1994,\"xanchor\":\"left\",\"xref\":\"x3\",\"y\":1,\"yanchor\":\"top\",\"yref\":\"y3 domain\"},{\"showarrow\":false,\"text\":\"Civil Right movement\",\"x\":1968,\"xanchor\":\"right\",\"xref\":\"x4\",\"y\":1,\"yanchor\":\"top\",\"yref\":\"y4 domain\"},{\"showarrow\":false,\"text\":\"Women Right movement\",\"x\":1960,\"xanchor\":\"left\",\"xref\":\"x4\",\"y\":0,\"yanchor\":\"bottom\",\"yref\":\"y4 domain\"},{\"showarrow\":false,\"text\":\"End of Apartheid\",\"x\":1994,\"xanchor\":\"left\",\"xref\":\"x4\",\"y\":1,\"yanchor\":\"top\",\"yref\":\"y4 domain\"}],\"shapes\":[{\"fillcolor\":\"red\",\"opacity\":0.3,\"type\":\"rect\",\"x0\":1919,\"x1\":1923,\"xref\":\"x\",\"y0\":0,\"y1\":1,\"yref\":\"y domain\"},{\"fillcolor\":\"green\",\"line\":{\"width\":0},\"opacity\":0.2,\"type\":\"rect\",\"x0\":1914,\"x1\":1918,\"xref\":\"x\",\"y0\":0,\"y1\":1,\"yref\":\"y domain\"},{\"fillcolor\":\"orange\",\"line\":{\"width\":0},\"opacity\":0.2,\"type\":\"rect\",\"x0\":1939,\"x1\":1945,\"xref\":\"x\",\"y0\":0,\"y1\":1,\"yref\":\"y domain\"},{\"fillcolor\":\"brown\",\"line\":{\"width\":1},\"opacity\":0.4,\"type\":\"rect\",\"x0\":1960,\"x1\":1960,\"xref\":\"x\",\"y0\":0,\"y1\":1,\"yref\":\"y domain\"},{\"fillcolor\":\"red\",\"opacity\":0.3,\"type\":\"rect\",\"x0\":1920,\"x1\":1924,\"xref\":\"x2\",\"y0\":0,\"y1\":1,\"yref\":\"y2 domain\"},{\"fillcolor\":\"yellow\",\"line\":{\"width\":0},\"opacity\":0.4,\"type\":\"rect\",\"x0\":1954,\"x1\":1968,\"xref\":\"x2\",\"y0\":0,\"y1\":1,\"yref\":\"y2 domain\"},{\"fillcolor\":\"violet\",\"line\":{\"width\":0},\"opacity\":0.4,\"type\":\"rect\",\"x0\":1960,\"x1\":1970,\"xref\":\"x2\",\"y0\":0,\"y1\":1,\"yref\":\"y2 domain\"},{\"fillcolor\":\"red\",\"opacity\":0.3,\"type\":\"rect\",\"x0\":1911,\"x1\":1915,\"xref\":\"x3\",\"y0\":0,\"y1\":1,\"yref\":\"y3 domain\"},{\"fillcolor\":\"yellow\",\"line\":{\"width\":0},\"opacity\":0.4,\"type\":\"rect\",\"x0\":1954,\"x1\":1968,\"xref\":\"x3\",\"y0\":0,\"y1\":1,\"yref\":\"y3 domain\"},{\"fillcolor\":\"violet\",\"line\":{\"width\":0},\"opacity\":0.4,\"type\":\"rect\",\"x0\":1960,\"x1\":1970,\"xref\":\"x3\",\"y0\":0,\"y1\":1,\"yref\":\"y3 domain\"},{\"fillcolor\":\"black\",\"line\":{\"width\":1},\"opacity\":0.4,\"type\":\"rect\",\"x0\":1994,\"x1\":1994,\"xref\":\"x3\",\"y0\":0,\"y1\":1,\"yref\":\"y3 domain\"},{\"fillcolor\":\"red\",\"opacity\":0.3,\"type\":\"rect\",\"x0\":1960,\"x1\":1970,\"xref\":\"x4\",\"y0\":0,\"y1\":1,\"yref\":\"y4 domain\"},{\"fillcolor\":\"yellow\",\"line\":{\"width\":0},\"opacity\":0.4,\"type\":\"rect\",\"x0\":1954,\"x1\":1968,\"xref\":\"x4\",\"y0\":0,\"y1\":1,\"yref\":\"y4 domain\"},{\"fillcolor\":\"violet\",\"line\":{\"width\":0},\"opacity\":0.4,\"type\":\"rect\",\"x0\":1960,\"x1\":1970,\"xref\":\"x4\",\"y0\":0,\"y1\":1,\"yref\":\"y4 domain\"},{\"fillcolor\":\"black\",\"line\":{\"width\":1},\"opacity\":0.4,\"type\":\"rect\",\"x0\":1994,\"x1\":1994,\"xref\":\"x4\",\"y0\":0,\"y1\":1,\"yref\":\"y4 domain\"}],\"title\":{\"text\":\"Evolution of frequency of different socio-political theme accross years\",\"x\":1,\"y\":1},\"height\":1000,\"width\":1000},                        {\"responsive\": true}                    ).then(function(){\n",
       "                            \n",
       "var gd = document.getElementById('a667372d-5532-4c6e-b9cc-a509f02838f0');\n",
       "var x = new MutationObserver(function (mutations, observer) {{\n",
       "        var display = window.getComputedStyle(gd).display;\n",
       "        if (!display || display === 'none') {{\n",
       "            console.log([gd, 'removed!']);\n",
       "            Plotly.purge(gd);\n",
       "            observer.disconnect();\n",
       "        }}\n",
       "}});\n",
       "\n",
       "// Listen for the removal of the full notebook cells\n",
       "var notebookContainer = gd.closest('#notebook-container');\n",
       "if (notebookContainer) {{\n",
       "    x.observe(notebookContainer, {childList: true});\n",
       "}}\n",
       "\n",
       "// Listen for the clearing of the current output cell\n",
       "var outputEl = gd.closest('.output');\n",
       "if (outputEl) {{\n",
       "    x.observe(outputEl, {childList: true});\n",
       "}}\n",
       "\n",
       "                        })                };                });            </script>        </div>"
      ]
     },
     "metadata": {},
     "output_type": "display_data"
    }
   ],
   "source": [
    "\n",
    "# Création of PlotLy figures.\n",
    "fig0 = go.Figure()\n",
    "fig1 = go.Figure()\n",
    "fig2 = go.Figure()\n",
    "fig3 = go.Figure()\n",
    "fig4 = go.Figure()\n",
    "fig5 = go.Figure()\n",
    "fig6 = go.Figure()\n",
    "fig7 = go.Figure()\n",
    "fig8 = go.Figure()\n",
    "fig9 = go.Figure()\n",
    "fig10 = go.Figure()\n",
    "fig11 = go.Figure()\n",
    "figure_list = [fig0,fig1,fig2,fig3,fig4,fig5,fig6,fig7,fig8,fig9,fig10,fig11]\n",
    "#Loop that compute frequency of themes within a windows of 5 years that mooves year by year\n",
    "for j in range(0, 12):\n",
    "    #loop over them of index from 0 to 4\n",
    "    f = []\n",
    "    for i in range(0, len(years) - 5):\n",
    "        # loop over lower and upper bounds values of each 5 years window\n",
    "        a = years[i] # lower bound of a 5 year window\n",
    "        b = years[i + 4] # upper bound of a 5 year window\n",
    "        \n",
    "        # computation of the frequency of films about each theme within the 5 year window\n",
    "        data = df[(df['MovieReleaseDate'] >= a) & (df['MovieReleaseDate'] <= b)]\n",
    "        decade_frequency = len(data[data[themes[j]] == True]) / len(data)\n",
    "        f.append(decade_frequency)\n",
    "\n",
    "    # Adding the trace to the figure\n",
    "    figure_list[j].add_trace(go.Scatter(x=years[1:], y=f, mode='lines', name=themes[j]))\n",
    "\n",
    "#Plotting the figures\n",
    "fig = make_subplots(rows=4, cols=1,subplot_titles = ['War','cold war','space race','Economic hardship, struggle for survival','Revolution, communism',\n",
    "          'China revolution','Berlin wall','Soviet union dissolution','decolonization','women rights','apartheid',\n",
    "          'civil rights, racial segregation'],vertical_spacing = 0.04,horizontal_spacing = 0.04)\n",
    "fig.add_trace(fig8.data[0], row=1, col=1)\n",
    "fig.add_vrect(x0=1919, x1=1923,fillcolor = 'red', opacity=0.3, row=1, col=1)\n",
    "fig.add_vrect(x0=1914, x1=1918,annotation_text = 'World War I',fillcolor = \"green\",opacity = 0.2,line_width = 0, row=1, col=1)\n",
    "fig.add_vrect(x0=1939, x1=1945,annotation_text = 'World War II',fillcolor = 'orange', opacity=0.2,line_width = 0, row=1, col=1)\n",
    "fig.add_vrect(x0=1960, x1=1960,annotation_text = 'Start decolonization',fillcolor = 'brown',annotation_position=\"top left\", opacity=0.4,line_width = 1, row=1, col=1)\n",
    "fig.add_trace(fig9.data[0], row=2, col=1)\n",
    "fig.add_vrect(x0=1920, x1=1924,fillcolor = 'red', opacity=0.3, row=2, col=1)\n",
    "fig.add_vrect(x0=1954, x1=1968,annotation_text = 'Civil Right movement',fillcolor = \"yellow\",opacity = 0.4,line_width = 0, row=2, col=1)\n",
    "fig.add_vrect(x0=1960, x1=1970,annotation_text = 'Women Right movement',fillcolor = 'violet', opacity=0.4,line_width = 0,annotation_position=\"bottom left\", row=2, col=1)\n",
    "fig.add_trace(fig10.data[0], row=3, col=1)\n",
    "fig.add_vrect(x0=1911, x1=1915,fillcolor = 'red', opacity=0.3, row=3, col=1)\n",
    "fig.add_vrect(x0=1954, x1=1968,annotation_text = 'Civil Right movement',fillcolor = \"yellow\",opacity = 0.4,line_width = 0, row=3, col=1)\n",
    "fig.add_vrect(x0=1960, x1=1970,annotation_text = 'Women Right movement',fillcolor = 'violet', opacity=0.4,line_width = 0,annotation_position=\"bottom left\", row=3, col=1)\n",
    "fig.add_vrect(x0=1994, x1=1994,annotation_text = 'End of Apartheid',fillcolor = 'black', opacity=0.4,line_width = 1,annotation_position=\"top left\", row=3, col=1)\n",
    "fig.add_trace(fig11.data[0], row=4, col=1)\n",
    "fig.add_vrect(x0=1960, x1=1970,fillcolor = 'red', opacity=0.3, row=4, col=1)\n",
    "fig.add_vrect(x0=1954, x1=1968,annotation_text = 'Civil Right movement',fillcolor = \"yellow\",opacity = 0.4,line_width = 0, row=4, col=1)\n",
    "fig.add_vrect(x0=1960, x1=1970,annotation_text = 'Women Right movement',fillcolor = 'violet', opacity=0.4,line_width = 0,annotation_position=\"bottom left\", row=4, col=1)\n",
    "fig.add_vrect(x0=1994, x1=1994,annotation_text = 'End of Apartheid',fillcolor = 'black', opacity=0.4,line_width = 1,annotation_position=\"top left\",row=4, col=1)\n",
    "fig.update_layout(height=1000, width=1000, title_text='Evolution of frequency of different socio-political theme accross years',title_x=1, title_y=1)\n",
    "\n",
    "fig_json = fig.to_json()\n",
    "with open('socio-political-themes-frequency-evolution', 'w') as json_file:\n",
    "    json.dump(json.loads(fig_json), json_file, indent=4)\n",
    "fig.show()"
   ]
  },
  {
   "cell_type": "markdown",
   "id": "7230e99e",
   "metadata": {},
   "source": [
    "##### Analysis\n",
    "In what concern alignement of depicted socio political themes with historical event and cultural shifts we will proceed by the following way. We will look for presence of significant z-score (higher or equal to 2). The time period that match to a serie of successive years or years close to yeach other with significant z-score for a certain theme are considered as time period or a time window where theme was adressed significantly higher compared to other time periods.This times windows are represented as red vertical rectangles. We look then for time periods of historical or political event that overlap or are located near our hight z score window in orde to suggest the influence of the political events on the frequency of a certain theme, or the effect of awarness of a certain problematic or thought that further lead to social and political event. The different periods that match to historical events are represented as vertical rectangles of different colors. We see the following results.\n",
    "\n",
    "The theme of decolonization,apartheid and women rights are all signifcantly adressed during the inter war period. Their respective hight z-score time windows are [1919-1923], [1911-1915] and [1920,1924]. We nottice this theme are highly adressed in cinema far before the social and political events linked to these themes as beginning of decolonization, end of apartheid, start of civil and women right movements. A possible suggestion to understand this phenomenon could be the fact that interwar period was marked by particularly hard conditions people living in colonies and women which lead to an awarness of people and thus screenwriter for this theme.As cinema about these theme probably contributed to amplify this awarness and lead further to decolonization, anti apartheid and women right movements.\n",
    "\n",
    "For the theme of civil right movement and racial segregation we can see a time windows [1960-1970] that is made of year with hight z score close to each other. Thus the theme of civil right and racial or sex segregation was particularly adressed during this time window. As this period overlap period of civil right and women right movement, we can sugest that probably this movement has inspired this theme in the world of cinema.\n",
    "\n",
    "To conclude we can say that themes human right, racial or sex segregation undergo a significant increase of their frequency in a time period that is characterised by social and politcal event linked to this themes meaning that this themes reflects these events. For other themes as apartheid, decolonization or women right the time period during which they were particularly assessed occured far before the events linked to that theme. In these case we could hypothetise that movies don't reflect the events themselves but an awarness of peoples to problematic linked with this events and that probably lead to these event in a future. In these situations the cinema gives a premonitory overview of these events"
   ]
  },
  {
   "cell_type": "code",
   "execution_count": 309,
   "id": "8850a5d0",
   "metadata": {},
   "outputs": [],
   "source": [
    "PlotSumEmbeddings.to_csv('embedding', index=False)"
   ]
  },
  {
   "cell_type": "code",
   "execution_count": null,
   "id": "109e33ce",
   "metadata": {},
   "outputs": [],
   "source": []
  }
 ],
 "metadata": {
  "kernelspec": {
   "display_name": "Python 3 (ipykernel)",
   "language": "python",
   "name": "python3"
  },
  "language_info": {
   "codemirror_mode": {
    "name": "ipython",
    "version": 3
   },
   "file_extension": ".py",
   "mimetype": "text/x-python",
   "name": "python",
   "nbconvert_exporter": "python",
   "pygments_lexer": "ipython3",
   "version": "3.9.7"
  }
 },
 "nbformat": 4,
 "nbformat_minor": 5
}
